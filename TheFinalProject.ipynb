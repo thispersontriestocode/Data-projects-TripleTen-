{
 "cells": [
  {
   "cell_type": "markdown",
   "id": "42081c05-50fd-4d9f-b311-23a6f6248106",
   "metadata": {},
   "source": [
    "The telecom operator Interconnect would like to be able to forecast their churn of clients. If it's discovered that a user is planning to leave, they will be offered promotional codes and special plan options. Interconnect's marketing team has collected some of their clientele's personal data, including information about their plans and contracts.\r\n",
    "\r\n",
    "Interconnect's services\r\n",
    "Interconnect mainly provides two types of services:\r\n",
    "\r\n",
    "Landline communication. The telephone can be connected to several lines simultaneously.\r\n",
    "Internet. The network can be set up via a telephone line (DSL, digital subscriber line) or through a fiber optic cable.\r\n",
    "Some other services the company provides include:\r\n",
    "\r\n",
    "Internet security: antivirus software (DeviceProtection) and a malicious website blocker (OnlineSecurity)\r\n",
    "A dedicated technical support line (TechSupport)\r\n",
    "Cloud file storage and data backup (OnlineBackup)\r\n",
    "TV streaming (StreamingTV) and a movie directory (StreamingMovies)\r\n",
    "The clients can choose either a monthly payment or sign a 1- or 2-year contract. They can use various payment methods and receive an electronic invoice after a transaction.\r\n",
    "\r\n",
    "Data Description\r\n",
    "The data consists of files obtained from different sources:\r\n",
    "\r\n",
    "contract.csv — contract information\r\n",
    "personal.csv — the client's personal data\r\n",
    "internet.csv — information about Internet services\r\n",
    "phone.csv — information about telephone services\r\n",
    "In each file, the column customerID contains a unique code assigned to each client.\r\n",
    "\r\n",
    "The contract information is valid as of February 1, 2020.\r\n",
    "\r\n",
    "Dataset\r\n",
    "You can download the dataset by following this link.\r\n",
    "\r\n",
    "The data is also available for usage on the platform in the /datasets/final_provider/ folder.\r\n",
    "\r\n",
    "Clarification: Summary\r\n",
    "Target feature: the 'EndDate' column equals 'No'.\r\n",
    "\r\n",
    "Primary metric: AUC-ROC.\r\n",
    "\r\n",
    "Additional metric: Accuracy.\r\n",
    "\r\n",
    "Assessment criteria:\r\n",
    "\r\n",
    "AUC-ROC < 0.75 — 0 SP\r\n",
    "0.75 ≤ AUC-ROC < 0.81 — 4 SP\r\n",
    "0.81 ≤ AUC-ROC < 0.85 — 4.5 SP\r\n",
    "0.85 ≤ AUC-ROC < 0.87 — 5 SP\r\n",
    "0.87 ≤ AUC-ROC < 0.88 — 5.5 SP\r\n",
    "AUC-ROC ≥ 0.88 — 6 SP"
   ]
  },
  {
   "cell_type": "code",
   "execution_count": 2,
   "id": "f0d16eb5-d34c-42ed-bf1f-b19fe17e5a2c",
   "metadata": {},
   "outputs": [],
   "source": [
    "import pandas as pd\n",
    "import numpy as np\n",
    "import seaborn as sns\n",
    "import matplotlib.pyplot as plt\n",
    "from sklearn.model_selection import train_test_split, GridSearchCV\n",
    "from sklearn.preprocessing import OrdinalEncoder\n",
    "from sklearn.ensemble import RandomForestClassifier, GradientBoostingClassifier\n",
    "from sklearn.linear_model import LogisticRegression\n",
    "from sklearn.metrics import roc_auc_score, accuracy_score\n",
    "from imblearn.over_sampling import SMOTE"
   ]
  },
  {
   "cell_type": "markdown",
   "id": "279c190a-8da1-42fc-9679-af2161fdfcdd",
   "metadata": {},
   "source": [
    "Import Data"
   ]
  },
  {
   "cell_type": "code",
   "execution_count": 4,
   "id": "6ddb3f3b-53e7-4593-8e62-c653046f785e",
   "metadata": {},
   "outputs": [],
   "source": [
    "contract_df = pd.read_csv(r\"E:\\final_provider\\contract.csv\")"
   ]
  },
  {
   "cell_type": "code",
   "execution_count": 5,
   "id": "ee32180d-fb01-40ca-9acf-509ee5a8a8bc",
   "metadata": {},
   "outputs": [],
   "source": [
    "internet_df = pd.read_csv(r\"E:\\final_provider\\internet.csv\")"
   ]
  },
  {
   "cell_type": "code",
   "execution_count": 6,
   "id": "48383542-7bdc-465b-9d59-5f7273ad4162",
   "metadata": {},
   "outputs": [],
   "source": [
    "personal_df = pd.read_csv(r\"E:\\final_provider\\personal.csv\")"
   ]
  },
  {
   "cell_type": "code",
   "execution_count": 7,
   "id": "d0bb4cf0-206d-4aad-a40e-83490e1441dd",
   "metadata": {},
   "outputs": [],
   "source": [
    "phone_df = pd.read_csv(r\"E:\\final_provider\\phone.csv\")"
   ]
  },
  {
   "cell_type": "markdown",
   "id": "97b52903-15f2-41b6-9088-8bd2f6289e74",
   "metadata": {},
   "source": [
    "Lets take a look at our data!"
   ]
  },
  {
   "cell_type": "code",
   "execution_count": 9,
   "id": "c6c4ce57-80b2-457a-a5d5-fb212c4c0a64",
   "metadata": {},
   "outputs": [
    {
     "name": "stdout",
     "output_type": "stream",
     "text": [
      "Contract DataFrame:\n",
      "   customerID   BeginDate              EndDate            Type  \\\n",
      "0  7590-VHVEG  2020-01-01                   No  Month-to-month   \n",
      "1  5575-GNVDE  2017-04-01                   No        One year   \n",
      "2  3668-QPYBK  2019-10-01  2019-12-01 00:00:00  Month-to-month   \n",
      "3  7795-CFOCW  2016-05-01                   No        One year   \n",
      "4  9237-HQITU  2019-09-01  2019-11-01 00:00:00  Month-to-month   \n",
      "\n",
      "  PaperlessBilling              PaymentMethod  MonthlyCharges TotalCharges  \n",
      "0              Yes           Electronic check           29.85        29.85  \n",
      "1               No               Mailed check           56.95       1889.5  \n",
      "2              Yes               Mailed check           53.85       108.15  \n",
      "3               No  Bank transfer (automatic)           42.30      1840.75  \n",
      "4              Yes           Electronic check           70.70       151.65  \n",
      "\n",
      "Personal DataFrame:\n",
      "   customerID  gender  SeniorCitizen Partner Dependents\n",
      "0  7590-VHVEG  Female              0     Yes         No\n",
      "1  5575-GNVDE    Male              0      No         No\n",
      "2  3668-QPYBK    Male              0      No         No\n",
      "3  7795-CFOCW    Male              0      No         No\n",
      "4  9237-HQITU  Female              0      No         No\n",
      "\n",
      "Internet DataFrame:\n",
      "   customerID InternetService OnlineSecurity OnlineBackup DeviceProtection  \\\n",
      "0  7590-VHVEG             DSL             No          Yes               No   \n",
      "1  5575-GNVDE             DSL            Yes           No              Yes   \n",
      "2  3668-QPYBK             DSL            Yes          Yes               No   \n",
      "3  7795-CFOCW             DSL            Yes           No              Yes   \n",
      "4  9237-HQITU     Fiber optic             No           No               No   \n",
      "\n",
      "  TechSupport StreamingTV StreamingMovies  \n",
      "0          No          No              No  \n",
      "1          No          No              No  \n",
      "2          No          No              No  \n",
      "3         Yes          No              No  \n",
      "4          No          No              No  \n",
      "\n",
      "Phone DataFrame:\n",
      "   customerID MultipleLines\n",
      "0  5575-GNVDE            No\n",
      "1  3668-QPYBK            No\n",
      "2  9237-HQITU            No\n",
      "3  9305-CDSKC           Yes\n",
      "4  1452-KIOVK           Yes\n"
     ]
    }
   ],
   "source": [
    "print(\"Contract DataFrame:\")\n",
    "print(contract_df.head())\n",
    "print(\"\\nPersonal DataFrame:\")\n",
    "print(personal_df.head())\n",
    "print(\"\\nInternet DataFrame:\")\n",
    "print(internet_df.head())\n",
    "print(\"\\nPhone DataFrame:\")\n",
    "print(phone_df.head())"
   ]
  },
  {
   "cell_type": "markdown",
   "id": "2e061f8e-3436-4fce-be61-de747ad42825",
   "metadata": {},
   "source": [
    "We can see above that we have a lot of information available from our inital datasets. Some of it we may not need and may cause some adverse affects when we go to train our model. We see that we have a unique customer id in all of the datasets so we will be able to merge them on that! There is no missing data in the heads at least but we will keep investigating that."
   ]
  },
  {
   "cell_type": "code",
   "execution_count": 11,
   "id": "fa1b57ab-b297-4e03-a50c-7e2ef656f358",
   "metadata": {},
   "outputs": [
    {
     "name": "stdout",
     "output_type": "stream",
     "text": [
      "Shapes of the DataFrames:\n",
      "Contract: (7043, 8), Personal: (7043, 5), Internet: (5517, 8), Phone: (6361, 2)\n",
      "\n",
      "Contract DataFrame Statistics:\n",
      "        customerID   BeginDate EndDate            Type PaperlessBilling  \\\n",
      "count         7043        7043    7043            7043             7043   \n",
      "unique        7043          77       5               3                2   \n",
      "top     7590-VHVEG  2014-02-01      No  Month-to-month              Yes   \n",
      "freq             1         366    5174            3875             4171   \n",
      "mean           NaN         NaN     NaN             NaN              NaN   \n",
      "std            NaN         NaN     NaN             NaN              NaN   \n",
      "min            NaN         NaN     NaN             NaN              NaN   \n",
      "25%            NaN         NaN     NaN             NaN              NaN   \n",
      "50%            NaN         NaN     NaN             NaN              NaN   \n",
      "75%            NaN         NaN     NaN             NaN              NaN   \n",
      "max            NaN         NaN     NaN             NaN              NaN   \n",
      "\n",
      "           PaymentMethod  MonthlyCharges TotalCharges  \n",
      "count               7043     7043.000000         7043  \n",
      "unique                 4             NaN         6531  \n",
      "top     Electronic check             NaN               \n",
      "freq                2365             NaN           11  \n",
      "mean                 NaN       64.761692          NaN  \n",
      "std                  NaN       30.090047          NaN  \n",
      "min                  NaN       18.250000          NaN  \n",
      "25%                  NaN       35.500000          NaN  \n",
      "50%                  NaN       70.350000          NaN  \n",
      "75%                  NaN       89.850000          NaN  \n",
      "max                  NaN      118.750000          NaN  \n",
      "\n",
      "Personal DataFrame Statistics:\n",
      "        customerID gender  SeniorCitizen Partner Dependents\n",
      "count         7043   7043    7043.000000    7043       7043\n",
      "unique        7043      2            NaN       2          2\n",
      "top     7590-VHVEG   Male            NaN      No         No\n",
      "freq             1   3555            NaN    3641       4933\n",
      "mean           NaN    NaN       0.162147     NaN        NaN\n",
      "std            NaN    NaN       0.368612     NaN        NaN\n",
      "min            NaN    NaN       0.000000     NaN        NaN\n",
      "25%            NaN    NaN       0.000000     NaN        NaN\n",
      "50%            NaN    NaN       0.000000     NaN        NaN\n",
      "75%            NaN    NaN       0.000000     NaN        NaN\n",
      "max            NaN    NaN       1.000000     NaN        NaN\n",
      "\n",
      "Internet DataFrame Statistics:\n",
      "        customerID InternetService OnlineSecurity OnlineBackup  \\\n",
      "count         5517            5517           5517         5517   \n",
      "unique        5517               2              2            2   \n",
      "top     7590-VHVEG     Fiber optic             No           No   \n",
      "freq             1            3096           3498         3088   \n",
      "\n",
      "       DeviceProtection TechSupport StreamingTV StreamingMovies  \n",
      "count              5517        5517        5517            5517  \n",
      "unique                2           2           2               2  \n",
      "top                  No          No          No              No  \n",
      "freq               3095        3473        2810            2785  \n",
      "\n",
      "Phone DataFrame Statistics:\n",
      "        customerID MultipleLines\n",
      "count         6361          6361\n",
      "unique        6361             2\n",
      "top     5575-GNVDE            No\n",
      "freq             1          3390\n"
     ]
    }
   ],
   "source": [
    "# Display shapes of the DataFrames\n",
    "print(\"Shapes of the DataFrames:\")\n",
    "print(f\"Contract: {contract_df.shape}, Personal: {personal_df.shape}, Internet: {internet_df.shape}, Phone: {phone_df.shape}\")\n",
    "\n",
    "# Display basic statistics\n",
    "print(\"\\nContract DataFrame Statistics:\")\n",
    "print(contract_df.describe(include='all'))\n",
    "\n",
    "print(\"\\nPersonal DataFrame Statistics:\")\n",
    "print(personal_df.describe(include='all'))\n",
    "\n",
    "print(\"\\nInternet DataFrame Statistics:\")\n",
    "print(internet_df.describe(include='all'))\n",
    "\n",
    "print(\"\\nPhone DataFrame Statistics:\")\n",
    "print(phone_df.describe(include='all'))"
   ]
  },
  {
   "cell_type": "code",
   "execution_count": 12,
   "id": "6fcc74fc-a8fb-4222-a297-7fb0c4696b27",
   "metadata": {},
   "outputs": [
    {
     "name": "stdout",
     "output_type": "stream",
     "text": [
      "Missing Values in Contract DataFrame:\n",
      "customerID          0\n",
      "BeginDate           0\n",
      "EndDate             0\n",
      "Type                0\n",
      "PaperlessBilling    0\n",
      "PaymentMethod       0\n",
      "MonthlyCharges      0\n",
      "TotalCharges        0\n",
      "dtype: int64\n",
      "\n",
      "Missing Values in Personal DataFrame:\n",
      "customerID       0\n",
      "gender           0\n",
      "SeniorCitizen    0\n",
      "Partner          0\n",
      "Dependents       0\n",
      "dtype: int64\n",
      "\n",
      "Missing Values in Internet DataFrame:\n",
      "customerID          0\n",
      "InternetService     0\n",
      "OnlineSecurity      0\n",
      "OnlineBackup        0\n",
      "DeviceProtection    0\n",
      "TechSupport         0\n",
      "StreamingTV         0\n",
      "StreamingMovies     0\n",
      "dtype: int64\n",
      "\n",
      "Missing Values in Phone DataFrame:\n",
      "customerID       0\n",
      "MultipleLines    0\n",
      "dtype: int64\n"
     ]
    }
   ],
   "source": [
    "# Check for missing values\n",
    "print(\"Missing Values in Contract DataFrame:\")\n",
    "print(contract_df.isnull().sum())\n",
    "\n",
    "print(\"\\nMissing Values in Personal DataFrame:\")\n",
    "print(personal_df.isnull().sum())\n",
    "\n",
    "print(\"\\nMissing Values in Internet DataFrame:\")\n",
    "print(internet_df.isnull().sum())\n",
    "\n",
    "print(\"\\nMissing Values in Phone DataFrame:\")\n",
    "print(phone_df.isnull().sum())"
   ]
  },
  {
   "cell_type": "code",
   "execution_count": 13,
   "id": "debd0ec6-bf9b-4f06-ae28-f79c8116893d",
   "metadata": {},
   "outputs": [
    {
     "name": "stdout",
     "output_type": "stream",
     "text": [
      "Contract DataFrame:\n",
      "<class 'pandas.core.frame.DataFrame'>\n",
      "RangeIndex: 7043 entries, 0 to 7042\n",
      "Data columns (total 8 columns):\n",
      " #   Column            Non-Null Count  Dtype  \n",
      "---  ------            --------------  -----  \n",
      " 0   customerID        7043 non-null   object \n",
      " 1   BeginDate         7043 non-null   object \n",
      " 2   EndDate           7043 non-null   object \n",
      " 3   Type              7043 non-null   object \n",
      " 4   PaperlessBilling  7043 non-null   object \n",
      " 5   PaymentMethod     7043 non-null   object \n",
      " 6   MonthlyCharges    7043 non-null   float64\n",
      " 7   TotalCharges      7043 non-null   object \n",
      "dtypes: float64(1), object(7)\n",
      "memory usage: 440.3+ KB\n",
      "None\n",
      "\n",
      "Personal DataFrame:\n",
      "<class 'pandas.core.frame.DataFrame'>\n",
      "RangeIndex: 7043 entries, 0 to 7042\n",
      "Data columns (total 5 columns):\n",
      " #   Column         Non-Null Count  Dtype \n",
      "---  ------         --------------  ----- \n",
      " 0   customerID     7043 non-null   object\n",
      " 1   gender         7043 non-null   object\n",
      " 2   SeniorCitizen  7043 non-null   int64 \n",
      " 3   Partner        7043 non-null   object\n",
      " 4   Dependents     7043 non-null   object\n",
      "dtypes: int64(1), object(4)\n",
      "memory usage: 275.2+ KB\n",
      "None\n",
      "\n",
      "Internet DataFrame:\n",
      "<class 'pandas.core.frame.DataFrame'>\n",
      "RangeIndex: 5517 entries, 0 to 5516\n",
      "Data columns (total 8 columns):\n",
      " #   Column            Non-Null Count  Dtype \n",
      "---  ------            --------------  ----- \n",
      " 0   customerID        5517 non-null   object\n",
      " 1   InternetService   5517 non-null   object\n",
      " 2   OnlineSecurity    5517 non-null   object\n",
      " 3   OnlineBackup      5517 non-null   object\n",
      " 4   DeviceProtection  5517 non-null   object\n",
      " 5   TechSupport       5517 non-null   object\n",
      " 6   StreamingTV       5517 non-null   object\n",
      " 7   StreamingMovies   5517 non-null   object\n",
      "dtypes: object(8)\n",
      "memory usage: 344.9+ KB\n",
      "None\n",
      "\n",
      "Phone DataFrame:\n",
      "<class 'pandas.core.frame.DataFrame'>\n",
      "RangeIndex: 6361 entries, 0 to 6360\n",
      "Data columns (total 2 columns):\n",
      " #   Column         Non-Null Count  Dtype \n",
      "---  ------         --------------  ----- \n",
      " 0   customerID     6361 non-null   object\n",
      " 1   MultipleLines  6361 non-null   object\n",
      "dtypes: object(2)\n",
      "memory usage: 99.5+ KB\n",
      "None\n"
     ]
    }
   ],
   "source": [
    "print(\"Contract DataFrame:\")\n",
    "print(contract_df.info())\n",
    "print(\"\\nPersonal DataFrame:\")\n",
    "print(personal_df.info())\n",
    "print(\"\\nInternet DataFrame:\")\n",
    "print(internet_df.info())\n",
    "print(\"\\nPhone DataFrame:\")\n",
    "print(phone_df.info())"
   ]
  },
  {
   "cell_type": "markdown",
   "id": "7e5d66f3-dada-4c38-a8cc-7093a42e3a44",
   "metadata": {},
   "source": [
    "We can see above that we are looking pretty good with no missing values. We can also see the data we have in some of the columns and the amount of unique values they have or if they are just a yes/no answer. I do see in a few of these dataframes where we need to make some Dtype changes like to date time and from object to float or int64. We can also go ahead and combine the dataframes into one for when we do our model training and testing later on."
   ]
  },
  {
   "cell_type": "code",
   "execution_count": 15,
   "id": "0bcf7370-8ebd-4472-a0bd-1cbffab201cd",
   "metadata": {},
   "outputs": [
    {
     "name": "stdout",
     "output_type": "stream",
     "text": [
      "Combined DataFrame Shape: (7043, 20)\n",
      "   customerID   BeginDate              EndDate            Type  \\\n",
      "0  7590-VHVEG  2020-01-01                   No  Month-to-month   \n",
      "1  5575-GNVDE  2017-04-01                   No        One year   \n",
      "2  3668-QPYBK  2019-10-01  2019-12-01 00:00:00  Month-to-month   \n",
      "3  7795-CFOCW  2016-05-01                   No        One year   \n",
      "4  9237-HQITU  2019-09-01  2019-11-01 00:00:00  Month-to-month   \n",
      "\n",
      "  PaperlessBilling              PaymentMethod  MonthlyCharges TotalCharges  \\\n",
      "0              Yes           Electronic check           29.85        29.85   \n",
      "1               No               Mailed check           56.95       1889.5   \n",
      "2              Yes               Mailed check           53.85       108.15   \n",
      "3               No  Bank transfer (automatic)           42.30      1840.75   \n",
      "4              Yes           Electronic check           70.70       151.65   \n",
      "\n",
      "   gender  SeniorCitizen Partner Dependents InternetService OnlineSecurity  \\\n",
      "0  Female              0     Yes         No             DSL             No   \n",
      "1    Male              0      No         No             DSL            Yes   \n",
      "2    Male              0      No         No             DSL            Yes   \n",
      "3    Male              0      No         No             DSL            Yes   \n",
      "4  Female              0      No         No     Fiber optic             No   \n",
      "\n",
      "  OnlineBackup DeviceProtection TechSupport StreamingTV StreamingMovies  \\\n",
      "0          Yes               No          No          No              No   \n",
      "1           No              Yes          No          No              No   \n",
      "2          Yes               No          No          No              No   \n",
      "3           No              Yes         Yes          No              No   \n",
      "4           No               No          No          No              No   \n",
      "\n",
      "  MultipleLines  \n",
      "0           NaN  \n",
      "1            No  \n",
      "2            No  \n",
      "3           NaN  \n",
      "4            No  \n"
     ]
    }
   ],
   "source": [
    "# Merge DataFrames\n",
    "combined_df = contract_df.merge(personal_df, on='customerID', how='left') \\\n",
    "                           .merge(internet_df, on='customerID', how='left') \\\n",
    "                           .merge(phone_df, on='customerID', how='left')\n",
    "\n",
    "# Display the shape of the combined DataFrame\n",
    "print(f\"Combined DataFrame Shape: {combined_df.shape}\")\n",
    "\n",
    "# Display the first few rows of the combined DataFrame\n",
    "print(combined_df.head())"
   ]
  },
  {
   "cell_type": "code",
   "execution_count": 16,
   "id": "7041188d-89c2-487a-9177-44e4ad7cd4e5",
   "metadata": {},
   "outputs": [
    {
     "name": "stdout",
     "output_type": "stream",
     "text": [
      "<class 'pandas.core.frame.DataFrame'>\n",
      "RangeIndex: 7043 entries, 0 to 7042\n",
      "Data columns (total 20 columns):\n",
      " #   Column            Non-Null Count  Dtype  \n",
      "---  ------            --------------  -----  \n",
      " 0   customerID        7043 non-null   object \n",
      " 1   BeginDate         7043 non-null   object \n",
      " 2   EndDate           7043 non-null   object \n",
      " 3   Type              7043 non-null   object \n",
      " 4   PaperlessBilling  7043 non-null   object \n",
      " 5   PaymentMethod     7043 non-null   object \n",
      " 6   MonthlyCharges    7043 non-null   float64\n",
      " 7   TotalCharges      7043 non-null   object \n",
      " 8   gender            7043 non-null   object \n",
      " 9   SeniorCitizen     7043 non-null   int64  \n",
      " 10  Partner           7043 non-null   object \n",
      " 11  Dependents        7043 non-null   object \n",
      " 12  InternetService   5517 non-null   object \n",
      " 13  OnlineSecurity    5517 non-null   object \n",
      " 14  OnlineBackup      5517 non-null   object \n",
      " 15  DeviceProtection  5517 non-null   object \n",
      " 16  TechSupport       5517 non-null   object \n",
      " 17  StreamingTV       5517 non-null   object \n",
      " 18  StreamingMovies   5517 non-null   object \n",
      " 19  MultipleLines     6361 non-null   object \n",
      "dtypes: float64(1), int64(1), object(18)\n",
      "memory usage: 1.1+ MB\n"
     ]
    }
   ],
   "source": [
    "combined_df.info()"
   ]
  },
  {
   "cell_type": "code",
   "execution_count": 17,
   "id": "be8d44a7-3115-4954-aff6-0198df30df83",
   "metadata": {},
   "outputs": [
    {
     "name": "stdout",
     "output_type": "stream",
     "text": [
      "Number of duplicate rows: 0\n"
     ]
    }
   ],
   "source": [
    "# Check for duplicate rows\n",
    "duplicates = combined_df.duplicated().sum()\n",
    "print(f\"Number of duplicate rows: {duplicates}\")"
   ]
  },
  {
   "cell_type": "code",
   "execution_count": 18,
   "id": "f7e96ac1-5ef1-4258-b96c-7feab471528b",
   "metadata": {},
   "outputs": [
    {
     "name": "stdout",
     "output_type": "stream",
     "text": [
      "Missing Values in Combined DataFrame:\n",
      "customerID             0\n",
      "BeginDate              0\n",
      "EndDate                0\n",
      "Type                   0\n",
      "PaperlessBilling       0\n",
      "PaymentMethod          0\n",
      "MonthlyCharges         0\n",
      "TotalCharges           0\n",
      "gender                 0\n",
      "SeniorCitizen          0\n",
      "Partner                0\n",
      "Dependents             0\n",
      "InternetService     1526\n",
      "OnlineSecurity      1526\n",
      "OnlineBackup        1526\n",
      "DeviceProtection    1526\n",
      "TechSupport         1526\n",
      "StreamingTV         1526\n",
      "StreamingMovies     1526\n",
      "MultipleLines        682\n",
      "dtype: int64\n"
     ]
    }
   ],
   "source": [
    "# Check for missing values\n",
    "print(\"Missing Values in Combined DataFrame:\")\n",
    "print(combined_df.isnull().sum())"
   ]
  },
  {
   "cell_type": "markdown",
   "id": "ed158f3a-b81c-4ef1-a053-891aa6fdc46c",
   "metadata": {},
   "source": [
    "After combinging our datasets we can see now that we have some missing data. This could just be people who have telephone service and no internet service. I say this because in the original datasets for internet and for the phone we had less customer ids then the contract dataset. The amount of the missing values is the same as the differnce in customer id numbers. We will have to decide what to do with this data. It may be a matter of filling the 1526 missing with No and doing the same with 682 missing in the multiple lines column. "
   ]
  },
  {
   "cell_type": "code",
   "execution_count": 20,
   "id": "c21f32a6-fe19-4965-8c95-ad778eec6506",
   "metadata": {},
   "outputs": [],
   "source": [
    "combined_df['TotalCharges'] = pd.to_numeric(combined_df['TotalCharges'], errors='coerce')"
   ]
  },
  {
   "cell_type": "code",
   "execution_count": 21,
   "id": "361ea022-d94b-4233-a3b5-c1a53bdb2a83",
   "metadata": {},
   "outputs": [],
   "source": [
    "# Convert BeginDate to datetime\n",
    "combined_df['BeginDate'] = pd.to_datetime(combined_df['BeginDate'],errors='coerce')\n",
    "\n",
    "# Convert EndDate to datetime\n",
    "combined_df['EndDate'] = pd.to_datetime(combined_df['EndDate'], format='%Y-%m-%d %H:%M:%S', errors='coerce')\n"
   ]
  },
  {
   "cell_type": "code",
   "execution_count": 22,
   "id": "58520145-ccce-471f-8748-da93459a387e",
   "metadata": {},
   "outputs": [
    {
     "data": {
      "text/html": [
       "<div>\n",
       "<style scoped>\n",
       "    .dataframe tbody tr th:only-of-type {\n",
       "        vertical-align: middle;\n",
       "    }\n",
       "\n",
       "    .dataframe tbody tr th {\n",
       "        vertical-align: top;\n",
       "    }\n",
       "\n",
       "    .dataframe thead th {\n",
       "        text-align: right;\n",
       "    }\n",
       "</style>\n",
       "<table border=\"1\" class=\"dataframe\">\n",
       "  <thead>\n",
       "    <tr style=\"text-align: right;\">\n",
       "      <th></th>\n",
       "      <th>customerID</th>\n",
       "      <th>BeginDate</th>\n",
       "      <th>EndDate</th>\n",
       "      <th>Type</th>\n",
       "      <th>PaperlessBilling</th>\n",
       "      <th>PaymentMethod</th>\n",
       "      <th>MonthlyCharges</th>\n",
       "      <th>TotalCharges</th>\n",
       "      <th>gender</th>\n",
       "      <th>SeniorCitizen</th>\n",
       "      <th>Partner</th>\n",
       "      <th>Dependents</th>\n",
       "      <th>InternetService</th>\n",
       "      <th>OnlineSecurity</th>\n",
       "      <th>OnlineBackup</th>\n",
       "      <th>DeviceProtection</th>\n",
       "      <th>TechSupport</th>\n",
       "      <th>StreamingTV</th>\n",
       "      <th>StreamingMovies</th>\n",
       "      <th>MultipleLines</th>\n",
       "    </tr>\n",
       "  </thead>\n",
       "  <tbody>\n",
       "    <tr>\n",
       "      <th>0</th>\n",
       "      <td>7590-VHVEG</td>\n",
       "      <td>2020-01-01</td>\n",
       "      <td>NaT</td>\n",
       "      <td>Month-to-month</td>\n",
       "      <td>Yes</td>\n",
       "      <td>Electronic check</td>\n",
       "      <td>29.85</td>\n",
       "      <td>29.85</td>\n",
       "      <td>Female</td>\n",
       "      <td>0</td>\n",
       "      <td>Yes</td>\n",
       "      <td>No</td>\n",
       "      <td>DSL</td>\n",
       "      <td>No</td>\n",
       "      <td>Yes</td>\n",
       "      <td>No</td>\n",
       "      <td>No</td>\n",
       "      <td>No</td>\n",
       "      <td>No</td>\n",
       "      <td>NaN</td>\n",
       "    </tr>\n",
       "    <tr>\n",
       "      <th>1</th>\n",
       "      <td>5575-GNVDE</td>\n",
       "      <td>2017-04-01</td>\n",
       "      <td>NaT</td>\n",
       "      <td>One year</td>\n",
       "      <td>No</td>\n",
       "      <td>Mailed check</td>\n",
       "      <td>56.95</td>\n",
       "      <td>1889.50</td>\n",
       "      <td>Male</td>\n",
       "      <td>0</td>\n",
       "      <td>No</td>\n",
       "      <td>No</td>\n",
       "      <td>DSL</td>\n",
       "      <td>Yes</td>\n",
       "      <td>No</td>\n",
       "      <td>Yes</td>\n",
       "      <td>No</td>\n",
       "      <td>No</td>\n",
       "      <td>No</td>\n",
       "      <td>No</td>\n",
       "    </tr>\n",
       "    <tr>\n",
       "      <th>2</th>\n",
       "      <td>3668-QPYBK</td>\n",
       "      <td>2019-10-01</td>\n",
       "      <td>2019-12-01</td>\n",
       "      <td>Month-to-month</td>\n",
       "      <td>Yes</td>\n",
       "      <td>Mailed check</td>\n",
       "      <td>53.85</td>\n",
       "      <td>108.15</td>\n",
       "      <td>Male</td>\n",
       "      <td>0</td>\n",
       "      <td>No</td>\n",
       "      <td>No</td>\n",
       "      <td>DSL</td>\n",
       "      <td>Yes</td>\n",
       "      <td>Yes</td>\n",
       "      <td>No</td>\n",
       "      <td>No</td>\n",
       "      <td>No</td>\n",
       "      <td>No</td>\n",
       "      <td>No</td>\n",
       "    </tr>\n",
       "    <tr>\n",
       "      <th>3</th>\n",
       "      <td>7795-CFOCW</td>\n",
       "      <td>2016-05-01</td>\n",
       "      <td>NaT</td>\n",
       "      <td>One year</td>\n",
       "      <td>No</td>\n",
       "      <td>Bank transfer (automatic)</td>\n",
       "      <td>42.30</td>\n",
       "      <td>1840.75</td>\n",
       "      <td>Male</td>\n",
       "      <td>0</td>\n",
       "      <td>No</td>\n",
       "      <td>No</td>\n",
       "      <td>DSL</td>\n",
       "      <td>Yes</td>\n",
       "      <td>No</td>\n",
       "      <td>Yes</td>\n",
       "      <td>Yes</td>\n",
       "      <td>No</td>\n",
       "      <td>No</td>\n",
       "      <td>NaN</td>\n",
       "    </tr>\n",
       "    <tr>\n",
       "      <th>4</th>\n",
       "      <td>9237-HQITU</td>\n",
       "      <td>2019-09-01</td>\n",
       "      <td>2019-11-01</td>\n",
       "      <td>Month-to-month</td>\n",
       "      <td>Yes</td>\n",
       "      <td>Electronic check</td>\n",
       "      <td>70.70</td>\n",
       "      <td>151.65</td>\n",
       "      <td>Female</td>\n",
       "      <td>0</td>\n",
       "      <td>No</td>\n",
       "      <td>No</td>\n",
       "      <td>Fiber optic</td>\n",
       "      <td>No</td>\n",
       "      <td>No</td>\n",
       "      <td>No</td>\n",
       "      <td>No</td>\n",
       "      <td>No</td>\n",
       "      <td>No</td>\n",
       "      <td>No</td>\n",
       "    </tr>\n",
       "  </tbody>\n",
       "</table>\n",
       "</div>"
      ],
      "text/plain": [
       "   customerID  BeginDate    EndDate            Type PaperlessBilling  \\\n",
       "0  7590-VHVEG 2020-01-01        NaT  Month-to-month              Yes   \n",
       "1  5575-GNVDE 2017-04-01        NaT        One year               No   \n",
       "2  3668-QPYBK 2019-10-01 2019-12-01  Month-to-month              Yes   \n",
       "3  7795-CFOCW 2016-05-01        NaT        One year               No   \n",
       "4  9237-HQITU 2019-09-01 2019-11-01  Month-to-month              Yes   \n",
       "\n",
       "               PaymentMethod  MonthlyCharges  TotalCharges  gender  \\\n",
       "0           Electronic check           29.85         29.85  Female   \n",
       "1               Mailed check           56.95       1889.50    Male   \n",
       "2               Mailed check           53.85        108.15    Male   \n",
       "3  Bank transfer (automatic)           42.30       1840.75    Male   \n",
       "4           Electronic check           70.70        151.65  Female   \n",
       "\n",
       "   SeniorCitizen Partner Dependents InternetService OnlineSecurity  \\\n",
       "0              0     Yes         No             DSL             No   \n",
       "1              0      No         No             DSL            Yes   \n",
       "2              0      No         No             DSL            Yes   \n",
       "3              0      No         No             DSL            Yes   \n",
       "4              0      No         No     Fiber optic             No   \n",
       "\n",
       "  OnlineBackup DeviceProtection TechSupport StreamingTV StreamingMovies  \\\n",
       "0          Yes               No          No          No              No   \n",
       "1           No              Yes          No          No              No   \n",
       "2          Yes               No          No          No              No   \n",
       "3           No              Yes         Yes          No              No   \n",
       "4           No               No          No          No              No   \n",
       "\n",
       "  MultipleLines  \n",
       "0           NaN  \n",
       "1            No  \n",
       "2            No  \n",
       "3           NaN  \n",
       "4            No  "
      ]
     },
     "execution_count": 22,
     "metadata": {},
     "output_type": "execute_result"
    }
   ],
   "source": [
    "combined_df.head()"
   ]
  },
  {
   "cell_type": "markdown",
   "id": "c3198db3-7ed3-45e7-926b-4b0be2e40df3",
   "metadata": {},
   "source": [
    "Above you can see i converted the Total Charges column to an int64 from an object just in case we needed to do any maths later. I also converted the Begin Date and End date to the DateTime Dtype so then i could make a new feature column for tenure because that will be a helpful metric I would think."
   ]
  },
  {
   "cell_type": "code",
   "execution_count": 24,
   "id": "b655a1df-c9a1-4039-9f18-7ccc4bb06eed",
   "metadata": {},
   "outputs": [],
   "source": [
    "combined_df.fillna({\n",
    "    'InternetService': 'No',\n",
    "    'OnlineSecurity': 'No',\n",
    "    'OnlineBackup': 'No',\n",
    "    'DeviceProtection': 'No',\n",
    "    'TechSupport': 'No',\n",
    "    'StreamingTV': 'No',\n",
    "    'StreamingMovies': 'No',\n",
    "    'MultipleLines': 'No'\n",
    "}, inplace=True)"
   ]
  },
  {
   "cell_type": "code",
   "execution_count": 25,
   "id": "a1760532-30b9-400b-bbd2-c899bec24c4d",
   "metadata": {},
   "outputs": [
    {
     "name": "stdout",
     "output_type": "stream",
     "text": [
      "Missing Values in Combined DataFrame:\n",
      "customerID             0\n",
      "BeginDate              0\n",
      "EndDate             5174\n",
      "Type                   0\n",
      "PaperlessBilling       0\n",
      "PaymentMethod          0\n",
      "MonthlyCharges         0\n",
      "TotalCharges          11\n",
      "gender                 0\n",
      "SeniorCitizen          0\n",
      "Partner                0\n",
      "Dependents             0\n",
      "InternetService        0\n",
      "OnlineSecurity         0\n",
      "OnlineBackup           0\n",
      "DeviceProtection       0\n",
      "TechSupport            0\n",
      "StreamingTV            0\n",
      "StreamingMovies        0\n",
      "MultipleLines          0\n",
      "dtype: int64\n"
     ]
    }
   ],
   "source": [
    "print(\"Missing Values in Combined DataFrame:\")\n",
    "print(combined_df.isnull().sum())"
   ]
  },
  {
   "cell_type": "markdown",
   "id": "add2f318-a2a6-414a-9dd5-41f1e97c1a37",
   "metadata": {},
   "source": [
    "Now that we have the datasets combined, we have filled the missing values from the phone and internet with No values, and we converted our data to the correct data types. The remaining missing values that we have now are there becuse the 11 values in Total Charges are people who have just signed up when our data ends so even tho they signed contacts we dont have any total charges for them yet. Its probably safe to drop those 11 because it is so small. The 5174 now missing in the EndDate column are the amount of people who have not ended their contract yet. After converting to DateTime all of the No values that were there became NaT values. We can probably use that data to make us a column for whether or not the customer churned."
   ]
  },
  {
   "cell_type": "code",
   "execution_count": 27,
   "id": "cf675575-5f38-4c2c-8bbc-8907143de755",
   "metadata": {},
   "outputs": [
    {
     "data": {
      "image/png": "[encoded data removed]",
      "text/plain": [
       "<Figure size 1000x600 with 1 Axes>"
      ]
     },
     "metadata": {},
     "output_type": "display_data"
    }
   ],
   "source": [
    "# Histogram for Monthly Charges\n",
    "plt.figure(figsize=(10,6))\n",
    "sns.histplot(combined_df['MonthlyCharges'], bins=30)\n",
    "plt.title('Distribution of Monthly Charges')\n",
    "plt.xlabel('Monthly Charges')\n",
    "plt.ylabel('Frequency')\n",
    "plt.show()\n"
   ]
  },
  {
   "cell_type": "code",
   "execution_count": 28,
   "id": "43677bc0-1c55-4d56-a24d-10bdcbfc28e5",
   "metadata": {},
   "outputs": [
    {
     "data": {
      "text/plain": [
       "Text(0, 0.5, 'Count')"
      ]
     },
     "execution_count": 28,
     "metadata": {},
     "output_type": "execute_result"
    },
    {
     "data": {
      "image/png": "[encoded data removed]",
      "text/plain": [
       "<Figure size 1000x600 with 1 Axes>"
      ]
     },
     "metadata": {},
     "output_type": "display_data"
    }
   ],
   "source": [
    "# Count plot for Internet Service\n",
    "plt.figure(figsize=(10,6))\n",
    "sns.countplot(data=combined_df, x='InternetService', hue='EndDate')\n",
    "plt.title('Internet Service vs Churn')\n",
    "plt.xlabel('Internet Service')\n",
    "plt.ylabel('Count')"
   ]
  },
  {
   "cell_type": "code",
   "execution_count": 29,
   "id": "b24287c2-0668-45f9-8fe5-831ead7afc85",
   "metadata": {},
   "outputs": [],
   "source": [
    "plt.show()"
   ]
  },
  {
   "cell_type": "code",
   "execution_count": 30,
   "id": "3ee91ec5-434b-4fce-ad9e-5cc85cfb045d",
   "metadata": {},
   "outputs": [
    {
     "data": {
      "text/plain": [
       "73.4630129206304"
      ]
     },
     "execution_count": 30,
     "metadata": {},
     "output_type": "execute_result"
    }
   ],
   "source": [
    "combined_df['EndDate'].isna().sum() / len(combined_df['EndDate']) * 100"
   ]
  },
  {
   "cell_type": "markdown",
   "id": "462ca8e1-4750-45e0-86a0-ea73d106fcff",
   "metadata": {},
   "source": [
    "So we can see above that the most people that leave the internet is our fiber optic customers by a pretty hefty amount. We can also see in the line below the chart that in total about 27% of customers have left overall which is pretty significant. We also see that most people leave in the fall months. "
   ]
  },
  {
   "cell_type": "markdown",
   "id": "a6e89077-279e-4b25-a499-779b71bbb90d",
   "metadata": {},
   "source": [
    "## Work Plan"
   ]
  },
  {
   "cell_type": "markdown",
   "id": "4a12c8a9-6250-4e14-913a-18d7807df2b0",
   "metadata": {},
   "source": [
    "I have already dont a lot of the preprocessing of the data and the initial EDA. Going forward my first steps will be to:\n",
    "- Finish any preprocessing that still may need to be done, including converting column names to lowercase\n",
    "- Do a bit more in depth EDA for example compare the features of churners vs non churners. Make some plots to spot any correlations with age or gender and churn rate. \n",
    "- Next I will start my feature engineering. As of right now it looks like I will create two new columns for Tenure and Churn(yes or no). I will also encode the categorical features so I can use them on various different models without issue. I will also determine which features have the most importance to use with the model we will be training.\n",
    "- Next we will split the data into our training and test sets and choose our features and our target(Churn == No)\n",
    "- After the data is split I will fit a few different models with the training data and evaluate its AUC-ROC and accuracy scores\n",
    "- Once I have determined the initial scores of the models I will then use Gridsearch or Randomsearch to tune the hyperparameters for the best model\n",
    "- With the best parameters found I will train again on the training set and then I will make predictions by using the Test set.\n",
    "- Lastly I will analyze the score of the model to make sure it meets the criteria I am looking to acheive. If so I will write up a conclusion with my results, if not I will further tune the data or change the model to make it work.\n",
    "  "
   ]
  },
  {
   "cell_type": "markdown",
   "id": "e9c6af20-9b7a-4bde-96d5-87eff43ca28b",
   "metadata": {},
   "source": [
    "## Questions"
   ]
  },
  {
   "cell_type": "markdown",
   "id": "da5dc239-8b4a-4675-9ec2-fae420bab025",
   "metadata": {},
   "source": [
    "Do you think it will be best to just drop the 11 customers in the total charges column?\n",
    "\n",
    "Should we take into account and look at the seasonality of when the customer started service vs when the customer stopped service or even if they havent stopped service? For example say people who started the contract in the summer tend not to churn.\n",
    "\n",
    "Do you see any reason to scale the data?\n",
    "\n",
    "For the features will it be a good idea to use everything except for Begin and End Date, and customer Id?\n",
    "\n",
    "Will i need to encode the columns that already have Yes/No answers?\n"
   ]
  },
  {
   "cell_type": "code",
   "execution_count": 36,
   "id": "250996fb-6076-472d-b1a6-e7d7af578a5e",
   "metadata": {},
   "outputs": [],
   "source": [
    "combined_df.columns = combined_df.columns.str.lower()"
   ]
  },
  {
   "cell_type": "code",
   "execution_count": 37,
   "id": "20ef030f-99ee-4255-b515-59ae07937116",
   "metadata": {},
   "outputs": [
    {
     "name": "stdout",
     "output_type": "stream",
     "text": [
      "<class 'pandas.core.frame.DataFrame'>\n",
      "RangeIndex: 7043 entries, 0 to 7042\n",
      "Data columns (total 20 columns):\n",
      " #   Column            Non-Null Count  Dtype         \n",
      "---  ------            --------------  -----         \n",
      " 0   customerid        7043 non-null   object        \n",
      " 1   begindate         7043 non-null   datetime64[ns]\n",
      " 2   enddate           1869 non-null   datetime64[ns]\n",
      " 3   type              7043 non-null   object        \n",
      " 4   paperlessbilling  7043 non-null   object        \n",
      " 5   paymentmethod     7043 non-null   object        \n",
      " 6   monthlycharges    7043 non-null   float64       \n",
      " 7   totalcharges      7032 non-null   float64       \n",
      " 8   gender            7043 non-null   object        \n",
      " 9   seniorcitizen     7043 non-null   int64         \n",
      " 10  partner           7043 non-null   object        \n",
      " 11  dependents        7043 non-null   object        \n",
      " 12  internetservice   7043 non-null   object        \n",
      " 13  onlinesecurity    7043 non-null   object        \n",
      " 14  onlinebackup      7043 non-null   object        \n",
      " 15  deviceprotection  7043 non-null   object        \n",
      " 16  techsupport       7043 non-null   object        \n",
      " 17  streamingtv       7043 non-null   object        \n",
      " 18  streamingmovies   7043 non-null   object        \n",
      " 19  multiplelines     7043 non-null   object        \n",
      "dtypes: datetime64[ns](2), float64(2), int64(1), object(15)\n",
      "memory usage: 1.1+ MB\n"
     ]
    }
   ],
   "source": [
    "combined_df.info()"
   ]
  },
  {
   "cell_type": "markdown",
   "id": "a37c86b2-3099-4152-86b2-bef076ed8873",
   "metadata": {},
   "source": [
    "Above I converted my column names to lowercase for consistancy and ease of coding going forward."
   ]
  },
  {
   "cell_type": "code",
   "execution_count": 39,
   "id": "90a3ca3e-5ec1-4026-9247-46be00e913d7",
   "metadata": {},
   "outputs": [],
   "source": [
    "combined_df['totalcharges'] = combined_df['totalcharges'].fillna(combined_df['monthlycharges'])"
   ]
  },
  {
   "cell_type": "code",
   "execution_count": 40,
   "id": "622f7064-d0a8-4bf9-a612-20fb6c44b3a4",
   "metadata": {},
   "outputs": [
    {
     "name": "stdout",
     "output_type": "stream",
     "text": [
      "<class 'pandas.core.series.Series'>\n",
      "RangeIndex: 7043 entries, 0 to 7042\n",
      "Series name: totalcharges\n",
      "Non-Null Count  Dtype  \n",
      "--------------  -----  \n",
      "7043 non-null   float64\n",
      "dtypes: float64(1)\n",
      "memory usage: 55.2 KB\n"
     ]
    }
   ],
   "source": [
    "combined_df['totalcharges'].info()"
   ]
  },
  {
   "cell_type": "code",
   "execution_count": 41,
   "id": "5be1e3d6-9e22-449f-bebc-b75792183264",
   "metadata": {},
   "outputs": [
    {
     "name": "stdout",
     "output_type": "stream",
     "text": [
      "19.7\n"
     ]
    },
    {
     "data": {
      "text/plain": [
       "19.7"
      ]
     },
     "execution_count": 41,
     "metadata": {},
     "output_type": "execute_result"
    }
   ],
   "source": [
    "print(combined_df['monthlycharges'][5218])\n",
    "combined_df['totalcharges'][5218]"
   ]
  },
  {
   "cell_type": "markdown",
   "id": "5b384562-50a5-49bf-99c3-3d8849731cc9",
   "metadata": {},
   "source": [
    "I chose to fill the 11 missing total charges with the data from the monthly charges of the same row. I did this because looking at the raw data in excel you see that the 11 total charges that were missing were from the 11 people that just signed up on the last day we have data for and they all have 2 year contracts. This seemed like the best approach to me."
   ]
  },
  {
   "cell_type": "code",
   "execution_count": 43,
   "id": "fab89dc4-0e96-46e3-8ea2-21f7eb445059",
   "metadata": {},
   "outputs": [],
   "source": [
    "# Making a Churn column (1 for churn, 0 for no churn)\n",
    "combined_df['churn'] = combined_df['enddate'].notna().astype(int)"
   ]
  },
  {
   "cell_type": "code",
   "execution_count": 44,
   "id": "ab8be59e-cee1-48dc-89b5-536762520179",
   "metadata": {},
   "outputs": [
    {
     "data": {
      "text/plain": [
       "0    0\n",
       "1    0\n",
       "2    1\n",
       "3    0\n",
       "4    1\n",
       "Name: churn, dtype: int32"
      ]
     },
     "execution_count": 44,
     "metadata": {},
     "output_type": "execute_result"
    }
   ],
   "source": [
    "combined_df['churn'].head()"
   ]
  },
  {
   "cell_type": "code",
   "execution_count": 45,
   "id": "5cac9f19-3c7b-4d0e-9d6b-972a676cd66a",
   "metadata": {},
   "outputs": [
    {
     "data": {
      "text/plain": [
       "churn\n",
       "0    5174\n",
       "1    1869\n",
       "Name: count, dtype: int64"
      ]
     },
     "execution_count": 45,
     "metadata": {},
     "output_type": "execute_result"
    }
   ],
   "source": [
    "combined_df['churn'].value_counts()"
   ]
  },
  {
   "cell_type": "code",
   "execution_count": 46,
   "id": "d7dc2290-eb8c-4e2f-a8ce-ce54f8a876f6",
   "metadata": {},
   "outputs": [
    {
     "data": {
      "image/png": "[encoded data removed]",
      "text/plain": [
       "<Figure size 1000x600 with 1 Axes>"
      ]
     },
     "metadata": {},
     "output_type": "display_data"
    }
   ],
   "source": [
    "plt.figure(figsize=(10,6))\n",
    "sns.countplot(data=combined_df, x='churn')\n",
    "plt.title('Churn')\n",
    "plt.xlabel('Churn')\n",
    "plt.ylabel('Count')\n",
    "plt.show()"
   ]
  },
  {
   "cell_type": "markdown",
   "id": "9fdec462-bcac-4bc5-8752-e749840025f1",
   "metadata": {},
   "source": [
    "We can see here that we have a bit of a class imbalance here. We will have to deal with that before training our model"
   ]
  },
  {
   "cell_type": "code",
   "execution_count": 48,
   "id": "d23143c5-1cd0-479d-aaf5-3ea83cc88c68",
   "metadata": {},
   "outputs": [],
   "source": [
    "last_date = pd.to_datetime('2020-02-01')\n",
    "combined_df['tenure'] = (last_date - combined_df['begindate']).dt.days\n",
    "\n",
    "#(combined_df['enddate']) - (combined_df['begindate'])"
   ]
  },
  {
   "cell_type": "code",
   "execution_count": 49,
   "id": "99c664f9-8ccd-4b2c-b969-6edda87011f0",
   "metadata": {},
   "outputs": [
    {
     "data": {
      "text/plain": [
       "0      31\n",
       "1    1036\n",
       "2     123\n",
       "3    1371\n",
       "4     153\n",
       "Name: tenure, dtype: int64"
      ]
     },
     "execution_count": 49,
     "metadata": {},
     "output_type": "execute_result"
    }
   ],
   "source": [
    "combined_df['tenure'].head()"
   ]
  },
  {
   "cell_type": "code",
   "execution_count": 50,
   "id": "4c2213c1-0611-4d88-be31-5a8a10ea5b6a",
   "metadata": {},
   "outputs": [
    {
     "data": {
      "image/png": "[encoded data removed]",
      "text/plain": [
       "<Figure size 1000x600 with 1 Axes>"
      ]
     },
     "metadata": {},
     "output_type": "display_data"
    }
   ],
   "source": [
    "plt.figure(figsize=(10, 6))\n",
    "sns.boxplot(x='churn', y='tenure', data=combined_df)\n",
    "plt.title('Churn vs Tenure ')\n",
    "plt.xlabel('Churn')\n",
    "plt.ylabel('Tenure (Days)')\n",
    "plt.show()"
   ]
  },
  {
   "cell_type": "markdown",
   "id": "0ea87b99-05f2-4873-aafb-82d7a5dd9a02",
   "metadata": {},
   "source": [
    "The above boxplot shows the distrubution of tenure for customers who churned (1) and those who did not (0). Customers who did churn have significantly lower median tenure then customers who did not churn. We also see that customers who churned have a more spread out distrubution of tenure with a longer tail to the right. We also see some outliers in the customers who churned particularly customers who had a high tenure above 2000 days. Overall we can see from this plot that tenure could be a large factor in churn. We can also see a large difference in distrubution of tenure between customers who churned and those who have not."
   ]
  },
  {
   "cell_type": "code",
   "execution_count": 52,
   "id": "f6074e3a-9dbc-4990-b29f-e7797e4202c7",
   "metadata": {},
   "outputs": [
    {
     "name": "stdout",
     "output_type": "stream",
     "text": [
      "<class 'pandas.core.frame.DataFrame'>\n",
      "RangeIndex: 7043 entries, 0 to 7042\n",
      "Data columns (total 22 columns):\n",
      " #   Column            Non-Null Count  Dtype         \n",
      "---  ------            --------------  -----         \n",
      " 0   customerid        7043 non-null   object        \n",
      " 1   begindate         7043 non-null   datetime64[ns]\n",
      " 2   enddate           1869 non-null   datetime64[ns]\n",
      " 3   type              7043 non-null   object        \n",
      " 4   paperlessbilling  7043 non-null   object        \n",
      " 5   paymentmethod     7043 non-null   object        \n",
      " 6   monthlycharges    7043 non-null   float64       \n",
      " 7   totalcharges      7043 non-null   float64       \n",
      " 8   gender            7043 non-null   object        \n",
      " 9   seniorcitizen     7043 non-null   int64         \n",
      " 10  partner           7043 non-null   object        \n",
      " 11  dependents        7043 non-null   object        \n",
      " 12  internetservice   7043 non-null   object        \n",
      " 13  onlinesecurity    7043 non-null   object        \n",
      " 14  onlinebackup      7043 non-null   object        \n",
      " 15  deviceprotection  7043 non-null   object        \n",
      " 16  techsupport       7043 non-null   object        \n",
      " 17  streamingtv       7043 non-null   object        \n",
      " 18  streamingmovies   7043 non-null   object        \n",
      " 19  multiplelines     7043 non-null   object        \n",
      " 20  churn             7043 non-null   int32         \n",
      " 21  tenure            7043 non-null   int64         \n",
      "dtypes: datetime64[ns](2), float64(2), int32(1), int64(2), object(15)\n",
      "memory usage: 1.2+ MB\n"
     ]
    }
   ],
   "source": [
    "combined_df.info()"
   ]
  },
  {
   "cell_type": "code",
   "execution_count": 53,
   "id": "168448b1-831b-4598-bb0f-a603c2891ad2",
   "metadata": {},
   "outputs": [
    {
     "data": {
      "image/png": "[encoded data removed]",
      "text/plain": [
       "<Figure size 1000x600 with 1 Axes>"
      ]
     },
     "metadata": {},
     "output_type": "display_data"
    }
   ],
   "source": [
    "# Count plot for Internet Service\n",
    "plt.figure(figsize=(10,6))\n",
    "sns.countplot(data=combined_df, x='churn', hue='seniorcitizen')\n",
    "plt.title('Senior Citizen vs Churn')\n",
    "plt.xlabel('Churn')\n",
    "plt.ylabel('Count')\n",
    "plt.legend(title='Senior Citizen', labels=['False', 'True'])\n",
    "plt.show()"
   ]
  },
  {
   "cell_type": "markdown",
   "id": "2cc35a2f-5f04-4fba-8a3a-ccec0ac10e78",
   "metadata": {},
   "source": [
    "We can see above that we have more people who are not senior citizens who have churned then people who are senior citizens. We also see that overall we have more non senior citizen customers. We can also see that we have slightly more senior citizens who dont churn then those who do."
   ]
  },
  {
   "cell_type": "code",
   "execution_count": 55,
   "id": "29ab608e-3dd7-45ec-a58b-eec2dd6b3fe7",
   "metadata": {},
   "outputs": [
    {
     "data": {
      "image/png": "[encoded data removed]",
      "text/plain": [
       "<Figure size 1000x600 with 1 Axes>"
      ]
     },
     "metadata": {},
     "output_type": "display_data"
    }
   ],
   "source": [
    "plt.figure(figsize=(10,6))\n",
    "sns.countplot(data=combined_df, x='churn', hue='partner')\n",
    "plt.title('Partner vs Churn')\n",
    "plt.xlabel('Churn')\n",
    "plt.ylabel('Count')\n",
    "plt.legend(title='Partner', labels=['False', 'True'])\n",
    "plt.show()"
   ]
  },
  {
   "cell_type": "markdown",
   "id": "8282d2f9-f750-42da-858c-54f5df5bd24b",
   "metadata": {},
   "source": [
    "We can see from this chart above that as far as people who churn are concerned there are more people with a partner that churn then people who are single. We can also see that we have significantly more of both groups that do not churn."
   ]
  },
  {
   "cell_type": "markdown",
   "id": "03630b34-6df9-414d-937a-fd9d8e49bcb3",
   "metadata": {},
   "source": [
    "Above we have a visual of what our churn looks like. We can see that a little less then 50% of customers churn. Now we just need to see what keeps our customers around."
   ]
  },
  {
   "cell_type": "code",
   "execution_count": 58,
   "id": "cb797425-89fa-464b-89a3-30503a9f66b0",
   "metadata": {},
   "outputs": [
    {
     "data": {
      "text/html": [
       "<div>\n",
       "<style scoped>\n",
       "    .dataframe tbody tr th:only-of-type {\n",
       "        vertical-align: middle;\n",
       "    }\n",
       "\n",
       "    .dataframe tbody tr th {\n",
       "        vertical-align: top;\n",
       "    }\n",
       "\n",
       "    .dataframe thead th {\n",
       "        text-align: right;\n",
       "    }\n",
       "</style>\n",
       "<table border=\"1\" class=\"dataframe\">\n",
       "  <thead>\n",
       "    <tr style=\"text-align: right;\">\n",
       "      <th></th>\n",
       "      <th>paperlessbilling</th>\n",
       "      <th>gender</th>\n",
       "      <th>partner</th>\n",
       "      <th>dependents</th>\n",
       "      <th>internetservice</th>\n",
       "      <th>onlinesecurity</th>\n",
       "      <th>onlinebackup</th>\n",
       "      <th>deviceprotection</th>\n",
       "      <th>techsupport</th>\n",
       "      <th>streamingtv</th>\n",
       "      <th>streamingmovies</th>\n",
       "      <th>multiplelines</th>\n",
       "    </tr>\n",
       "  </thead>\n",
       "  <tbody>\n",
       "    <tr>\n",
       "      <th>0</th>\n",
       "      <td>1.0</td>\n",
       "      <td>0.0</td>\n",
       "      <td>1.0</td>\n",
       "      <td>0.0</td>\n",
       "      <td>0.0</td>\n",
       "      <td>0.0</td>\n",
       "      <td>1.0</td>\n",
       "      <td>0.0</td>\n",
       "      <td>0.0</td>\n",
       "      <td>0.0</td>\n",
       "      <td>0.0</td>\n",
       "      <td>0.0</td>\n",
       "    </tr>\n",
       "    <tr>\n",
       "      <th>1</th>\n",
       "      <td>0.0</td>\n",
       "      <td>1.0</td>\n",
       "      <td>0.0</td>\n",
       "      <td>0.0</td>\n",
       "      <td>0.0</td>\n",
       "      <td>1.0</td>\n",
       "      <td>0.0</td>\n",
       "      <td>1.0</td>\n",
       "      <td>0.0</td>\n",
       "      <td>0.0</td>\n",
       "      <td>0.0</td>\n",
       "      <td>0.0</td>\n",
       "    </tr>\n",
       "    <tr>\n",
       "      <th>2</th>\n",
       "      <td>1.0</td>\n",
       "      <td>1.0</td>\n",
       "      <td>0.0</td>\n",
       "      <td>0.0</td>\n",
       "      <td>0.0</td>\n",
       "      <td>1.0</td>\n",
       "      <td>1.0</td>\n",
       "      <td>0.0</td>\n",
       "      <td>0.0</td>\n",
       "      <td>0.0</td>\n",
       "      <td>0.0</td>\n",
       "      <td>0.0</td>\n",
       "    </tr>\n",
       "    <tr>\n",
       "      <th>3</th>\n",
       "      <td>0.0</td>\n",
       "      <td>1.0</td>\n",
       "      <td>0.0</td>\n",
       "      <td>0.0</td>\n",
       "      <td>0.0</td>\n",
       "      <td>1.0</td>\n",
       "      <td>0.0</td>\n",
       "      <td>1.0</td>\n",
       "      <td>1.0</td>\n",
       "      <td>0.0</td>\n",
       "      <td>0.0</td>\n",
       "      <td>0.0</td>\n",
       "    </tr>\n",
       "    <tr>\n",
       "      <th>4</th>\n",
       "      <td>1.0</td>\n",
       "      <td>0.0</td>\n",
       "      <td>0.0</td>\n",
       "      <td>0.0</td>\n",
       "      <td>1.0</td>\n",
       "      <td>0.0</td>\n",
       "      <td>0.0</td>\n",
       "      <td>0.0</td>\n",
       "      <td>0.0</td>\n",
       "      <td>0.0</td>\n",
       "      <td>0.0</td>\n",
       "      <td>0.0</td>\n",
       "    </tr>\n",
       "  </tbody>\n",
       "</table>\n",
       "</div>"
      ],
      "text/plain": [
       "   paperlessbilling  gender  partner  dependents  internetservice  \\\n",
       "0               1.0     0.0      1.0         0.0              0.0   \n",
       "1               0.0     1.0      0.0         0.0              0.0   \n",
       "2               1.0     1.0      0.0         0.0              0.0   \n",
       "3               0.0     1.0      0.0         0.0              0.0   \n",
       "4               1.0     0.0      0.0         0.0              1.0   \n",
       "\n",
       "   onlinesecurity  onlinebackup  deviceprotection  techsupport  streamingtv  \\\n",
       "0             0.0           1.0               0.0          0.0          0.0   \n",
       "1             1.0           0.0               1.0          0.0          0.0   \n",
       "2             1.0           1.0               0.0          0.0          0.0   \n",
       "3             1.0           0.0               1.0          1.0          0.0   \n",
       "4             0.0           0.0               0.0          0.0          0.0   \n",
       "\n",
       "   streamingmovies  multiplelines  \n",
       "0              0.0            0.0  \n",
       "1              0.0            0.0  \n",
       "2              0.0            0.0  \n",
       "3              0.0            0.0  \n",
       "4              0.0            0.0  "
      ]
     },
     "execution_count": 58,
     "metadata": {},
     "output_type": "execute_result"
    }
   ],
   "source": [
    "encoder = OrdinalEncoder()\n",
    "columns_to_encode= ['paperlessbilling', 'gender', 'partner', 'dependents', 'internetservice','onlinesecurity','onlinebackup','deviceprotection','techsupport','streamingtv','streamingmovies','multiplelines']\n",
    "combined_df[columns_to_encode] = encoder.fit_transform(combined_df[columns_to_encode])\n",
    "combined_df[columns_to_encode].head()"
   ]
  },
  {
   "cell_type": "markdown",
   "id": "206b1f55-7e60-40d8-99eb-16a397b06420",
   "metadata": {},
   "source": [
    "Above I took all of my Yes/No binary columns and encoded them to 1's and 0's so we can use it to train our model."
   ]
  },
  {
   "cell_type": "code",
   "execution_count": 60,
   "id": "bd30ff7d-9d8d-4d45-a316-9fe6a7331b62",
   "metadata": {},
   "outputs": [],
   "source": [
    "combined_df = pd.get_dummies(combined_df, columns=['type', 'paymentmethod'], drop_first= True)"
   ]
  },
  {
   "cell_type": "markdown",
   "id": "cf3db89b-5e61-425e-a8df-8dfd25816f93",
   "metadata": {},
   "source": [
    "Above I have encoded my categorical features for use in training our model."
   ]
  },
  {
   "cell_type": "code",
   "execution_count": 62,
   "id": "26ba39c9-8d3d-43ea-a795-95975784acaa",
   "metadata": {},
   "outputs": [],
   "source": [
    "combined_df.drop(columns=['customerid','begindate','enddate'], inplace=True)\n"
   ]
  },
  {
   "cell_type": "markdown",
   "id": "8fb4679f-e37e-48f6-80a4-f0f932199b5c",
   "metadata": {},
   "source": [
    "Dropped the columns I wont be using for the model training."
   ]
  },
  {
   "cell_type": "code",
   "execution_count": 64,
   "id": "67972bfd-cee7-481f-8f0e-c0e81f2e3edb",
   "metadata": {},
   "outputs": [],
   "source": [
    "X = combined_df.drop('churn', axis=1)\n",
    "y = combined_df['churn'] "
   ]
  },
  {
   "cell_type": "code",
   "execution_count": 65,
   "id": "eed89751-ced0-45bd-a5fa-f6470e85b65a",
   "metadata": {},
   "outputs": [],
   "source": [
    "# First, split into training and validation/test sets\n",
    "X_train, X_temp, y_train, y_temp = train_test_split(X, y, test_size=0.4, random_state=1234)  # 60% train, 40% temp\n",
    "\n",
    "# Now, split the temp set into validation and test sets (50% of temp = 20% of original)\n",
    "X_val, X_test, y_val, y_test = train_test_split(X_temp, y_temp, test_size=0.5, random_state=1234)  # 50% of temp for test\n"
   ]
  },
  {
   "cell_type": "code",
   "execution_count": 66,
   "id": "d64a8879-9706-4891-8362-60317bce4de7",
   "metadata": {},
   "outputs": [
    {
     "name": "stdout",
     "output_type": "stream",
     "text": [
      "Training set size: 4225\n",
      "Validation set size: 1409\n",
      "Test set size: 1409\n"
     ]
    }
   ],
   "source": [
    "print(f\"Training set size: {X_train.shape[0]}\")\n",
    "print(f\"Validation set size: {X_val.shape[0]}\")\n",
    "print(f\"Test set size: {X_test.shape[0]}\")"
   ]
  },
  {
   "cell_type": "code",
   "execution_count": 67,
   "id": "151baa9f-467f-47e0-b2ba-f872d0f86828",
   "metadata": {},
   "outputs": [],
   "source": [
    "smote = SMOTE(random_state=1234)\n",
    "X_train_resampled, y_train_resampled = smote.fit_resample(X_train, y_train)"
   ]
  },
  {
   "cell_type": "code",
   "execution_count": 68,
   "id": "82f1966c-a3d0-49a8-9782-b25a80b5c81d",
   "metadata": {},
   "outputs": [],
   "source": [
    "models = {\n",
    "    'Logistic Regression': LogisticRegression(max_iter=2000, random_state=1234),\n",
    "    'Random Forest': RandomForestClassifier(random_state=1234),\n",
    "    'Gradient Boosting': GradientBoostingClassifier(random_state=1234)\n",
    "}"
   ]
  },
  {
   "cell_type": "code",
   "execution_count": 69,
   "id": "fb3c13fc-2170-4290-a9a9-4724c353689a",
   "metadata": {},
   "outputs": [
    {
     "name": "stdout",
     "output_type": "stream",
     "text": [
      "Logistic Regression - AUC-ROC: 0.80, Accuracy: 0.74\n",
      "Random Forest - AUC-ROC: 0.84, Accuracy: 0.80\n",
      "Gradient Boosting - AUC-ROC: 0.88, Accuracy: 0.83\n"
     ]
    }
   ],
   "source": [
    "for name, model in models.items():\n",
    "    model.fit(X_train_resampled, y_train_resampled)  # Use resampled training data\n",
    "    y_val_pred = model.predict(X_val)\n",
    "    y_val_proba = model.predict_proba(X_val)[:, 1]\n",
    "    \n",
    "    # Calculate AUC-ROC and accuracy\n",
    "    auc_roc = roc_auc_score(y_val, y_val_proba)\n",
    "    accuracy = accuracy_score(y_val, y_val_pred)\n",
    "    \n",
    "    print(f\"{name} - AUC-ROC: {auc_roc:.2f}, Accuracy: {accuracy:.2f}\")\n"
   ]
  },
  {
   "cell_type": "markdown",
   "id": "f89f9ad5-c325-4413-a2cb-c56b73adf2e2",
   "metadata": {},
   "source": [
    "We can see above that on our initial training of our models that the gradient boosting model has performed the best in both the AUC-ROC and the Accuracy metrics. The Random Forest model isn't doing to bad either at .84 and .80. For now I will try to tune the Gradient Boosting and the Random Forest models to see if I can make the scores a little bit higher still!"
   ]
  },
  {
   "cell_type": "code",
   "execution_count": 71,
   "id": "c25aa84a-b5cc-4866-8d3a-84fbf28c21d3",
   "metadata": {},
   "outputs": [],
   "source": [
    "param_grids = {\n",
    "    'Logistic Regression': {\n",
    "        'C': [0.1, 1, 10]\n",
    "    },\n",
    "    'Random Forest': {\n",
    "        'n_estimators': [50, 100, 200],\n",
    "        'max_depth': [None, 10, 20, 30],\n",
    "        'min_samples_split': [2, 5, 10],\n",
    "        'min_samples_leaf': [1, 2, 4]\n",
    "    },\n",
    "    'Gradient Boosting': {\n",
    "        'n_estimators': [50, 100, 200],\n",
    "        'learning_rate': [0.01, 0.1, 0.2],\n",
    "        'max_depth': [3, 5, 7],\n",
    "        'min_samples_split': [2, 5, 10],\n",
    "        'min_samples_leaf': [1, 2, 4]\n",
    "    }\n",
    "}"
   ]
  },
  {
   "cell_type": "code",
   "execution_count": 72,
   "id": "4bd76591-025b-48cc-b1d6-f311943e0387",
   "metadata": {},
   "outputs": [],
   "source": [
    "best_models = {}"
   ]
  },
  {
   "cell_type": "code",
   "execution_count": 73,
   "id": "78c6b534-d8b2-49d4-b379-e484b795a7a7",
   "metadata": {},
   "outputs": [
    {
     "name": "stdout",
     "output_type": "stream",
     "text": [
      "Tuning hyperparameters for Logistic Regression...\n",
      "Fitting 5 folds for each of 3 candidates, totalling 15 fits\n",
      "Best parameters for Logistic Regression: {'C': 0.1}\n",
      "Best cross-validated AUC-ROC score for Logistic Regression: 0.86\n",
      "Tuning hyperparameters for Random Forest...\n",
      "Fitting 5 folds for each of 108 candidates, totalling 540 fits\n",
      "Best parameters for Random Forest: {'max_depth': 30, 'min_samples_leaf': 1, 'min_samples_split': 2, 'n_estimators': 200}\n",
      "Best cross-validated AUC-ROC score for Random Forest: 0.96\n",
      "Tuning hyperparameters for Gradient Boosting...\n",
      "Fitting 5 folds for each of 243 candidates, totalling 1215 fits\n",
      "Best parameters for Gradient Boosting: {'learning_rate': 0.2, 'max_depth': 7, 'min_samples_leaf': 2, 'min_samples_split': 2, 'n_estimators': 200}\n",
      "Best cross-validated AUC-ROC score for Gradient Boosting: 0.98\n"
     ]
    }
   ],
   "source": [
    "# Hyperparameter tuning for each model\n",
    "for name, model in models.items():\n",
    "    print(f\"Tuning hyperparameters for {name}...\")\n",
    "    \n",
    "    # Create a GridSearchCV object\n",
    "    grid_search = GridSearchCV(estimator=model, \n",
    "                               param_grid=param_grids[name], \n",
    "                               scoring='roc_auc', \n",
    "                               cv=5,  # 5-fold cross-validation\n",
    "                               n_jobs=-1,  # Use all available cores\n",
    "                               verbose=2)  # Show detailed progress updates\n",
    "    \n",
    "    # Fit the model\n",
    "    grid_search.fit(X_train_resampled, y_train_resampled)\n",
    "    \n",
    "    # Get the best model and its parameters\n",
    "    best_model = grid_search.best_estimator_\n",
    "    best_score = grid_search.best_score_\n",
    "    \n",
    "    # Store the best model\n",
    "    best_models[name] = best_model\n",
    "    \n",
    "    print(f\"Best parameters for {name}: {grid_search.best_params_}\")\n",
    "    print(f\"Best cross-validated AUC-ROC score for {name}: {best_score:.2f}\")"
   ]
  },
  {
   "cell_type": "code",
   "execution_count": 74,
   "id": "c38efb1f-3e43-44ca-95e3-618bde01ed64",
   "metadata": {},
   "outputs": [
    {
     "name": "stdout",
     "output_type": "stream",
     "text": [
      "Logistic Regression - AUC-ROC: 0.80, Accuracy: 0.74\n",
      "Random Forest - AUC-ROC: 0.85, Accuracy: 0.80\n",
      "Gradient Boosting - AUC-ROC: 0.91, Accuracy: 0.86\n"
     ]
    }
   ],
   "source": [
    "for name, model in best_models.items():\n",
    "    y_val_pred = model.predict(X_val)\n",
    "    y_val_proba = model.predict_proba(X_val)[:, 1]\n",
    "    \n",
    "    # Calculate AUC-ROC and accuracy\n",
    "    auc_roc = roc_auc_score(y_val, y_val_proba)\n",
    "    accuracy = accuracy_score(y_val, y_val_pred)\n",
    "    \n",
    "    print(f\"{name} - AUC-ROC: {auc_roc:.2f}, Accuracy: {accuracy:.2f}\")"
   ]
  },
  {
   "cell_type": "markdown",
   "id": "968a0716-3fda-49c6-a9a8-6e160749171e",
   "metadata": {},
   "source": [
    "After doing some hyperparameter tuning on our 3 models we have, we saw some significant improvements of all 3 of the models. The highest AUC-ROC score was .98 and our lowest became .86. Thes best model is still the Gradient Boosting model.\n",
    "After the hyperparameter tuning was done I took the best models and fit them with the validation set data. We didnt see any change in the scores for the LR seem to have not changed. We see that after tuning the Random Forest AUC-ROC went up by one point but the accuracy stayed the same. We see the biggest score jump with the Gradient Boosting Model. This went from AUC-ROC of .88 up to .91 and an accuracy score of .83 to .86. The Gradient Boosting model seems to be performing really well. Lastly we will fit it with the test data and see what happens with that!"
   ]
  },
  {
   "cell_type": "code",
   "execution_count": 76,
   "id": "8e9a904f-c299-4fb4-824d-3ace3f6c1e24",
   "metadata": {},
   "outputs": [],
   "source": [
    "that_model = grid_search.best_estimator_"
   ]
  },
  {
   "cell_type": "code",
   "execution_count": 77,
   "id": "ad57b171-c43f-4902-b0ac-69d8c6d3a279",
   "metadata": {},
   "outputs": [
    {
     "data": {
      "text/html": [
       "<style>#sk-container-id-1 {\n",
       "  /* Definition of color scheme common for light and dark mode */\n",
       "  --sklearn-color-text: black;\n",
       "  --sklearn-color-line: gray;\n",
       "  /* Definition of color scheme for unfitted estimators */\n",
       "  --sklearn-color-unfitted-level-0: #fff5e6;\n",
       "  --sklearn-color-unfitted-level-1: #f6e4d2;\n",
       "  --sklearn-color-unfitted-level-2: #ffe0b3;\n",
       "  --sklearn-color-unfitted-level-3: chocolate;\n",
       "  /* Definition of color scheme for fitted estimators */\n",
       "  --sklearn-color-fitted-level-0: #f0f8ff;\n",
       "  --sklearn-color-fitted-level-1: #d4ebff;\n",
       "  --sklearn-color-fitted-level-2: #b3dbfd;\n",
       "  --sklearn-color-fitted-level-3: cornflowerblue;\n",
       "\n",
       "  /* Specific color for light theme */\n",
       "  --sklearn-color-text-on-default-background: var(--sg-text-color, var(--theme-code-foreground, var(--jp-content-font-color1, black)));\n",
       "  --sklearn-color-background: var(--sg-background-color, var(--theme-background, var(--jp-layout-color0, white)));\n",
       "  --sklearn-color-border-box: var(--sg-text-color, var(--theme-code-foreground, var(--jp-content-font-color1, black)));\n",
       "  --sklearn-color-icon: #696969;\n",
       "\n",
       "  @media (prefers-color-scheme: dark) {\n",
       "    /* Redefinition of color scheme for dark theme */\n",
       "    --sklearn-color-text-on-default-background: var(--sg-text-color, var(--theme-code-foreground, var(--jp-content-font-color1, white)));\n",
       "    --sklearn-color-background: var(--sg-background-color, var(--theme-background, var(--jp-layout-color0, #111)));\n",
       "    --sklearn-color-border-box: var(--sg-text-color, var(--theme-code-foreground, var(--jp-content-font-color1, white)));\n",
       "    --sklearn-color-icon: #878787;\n",
       "  }\n",
       "}\n",
       "\n",
       "#sk-container-id-1 {\n",
       "  color: var(--sklearn-color-text);\n",
       "}\n",
       "\n",
       "#sk-container-id-1 pre {\n",
       "  padding: 0;\n",
       "}\n",
       "\n",
       "#sk-container-id-1 input.sk-hidden--visually {\n",
       "  border: 0;\n",
       "  clip: rect(1px 1px 1px 1px);\n",
       "  clip: rect(1px, 1px, 1px, 1px);\n",
       "  height: 1px;\n",
       "  margin: -1px;\n",
       "  overflow: hidden;\n",
       "  padding: 0;\n",
       "  position: absolute;\n",
       "  width: 1px;\n",
       "}\n",
       "\n",
       "#sk-container-id-1 div.sk-dashed-wrapped {\n",
       "  border: 1px dashed var(--sklearn-color-line);\n",
       "  margin: 0 0.4em 0.5em 0.4em;\n",
       "  box-sizing: border-box;\n",
       "  padding-bottom: 0.4em;\n",
       "  background-color: var(--sklearn-color-background);\n",
       "}\n",
       "\n",
       "#sk-container-id-1 div.sk-container {\n",
       "  /* jupyter's `normalize.less` sets `[hidden] { display: none; }`\n",
       "     but bootstrap.min.css set `[hidden] { display: none !important; }`\n",
       "     so we also need the `!important` here to be able to override the\n",
       "     default hidden behavior on the sphinx rendered scikit-learn.org.\n",
       "     See: https://github.com/scikit-learn/scikit-learn/issues/21755 */\n",
       "  display: inline-block !important;\n",
       "  position: relative;\n",
       "}\n",
       "\n",
       "#sk-container-id-1 div.sk-text-repr-fallback {\n",
       "  display: none;\n",
       "}\n",
       "\n",
       "div.sk-parallel-item,\n",
       "div.sk-serial,\n",
       "div.sk-item {\n",
       "  /* draw centered vertical line to link estimators */\n",
       "  background-image: linear-gradient(var(--sklearn-color-text-on-default-background), var(--sklearn-color-text-on-default-background));\n",
       "  background-size: 2px 100%;\n",
       "  background-repeat: no-repeat;\n",
       "  background-position: center center;\n",
       "}\n",
       "\n",
       "/* Parallel-specific style estimator block */\n",
       "\n",
       "#sk-container-id-1 div.sk-parallel-item::after {\n",
       "  content: \"\";\n",
       "  width: 100%;\n",
       "  border-bottom: 2px solid var(--sklearn-color-text-on-default-background);\n",
       "  flex-grow: 1;\n",
       "}\n",
       "\n",
       "#sk-container-id-1 div.sk-parallel {\n",
       "  display: flex;\n",
       "  align-items: stretch;\n",
       "  justify-content: center;\n",
       "  background-color: var(--sklearn-color-background);\n",
       "  position: relative;\n",
       "}\n",
       "\n",
       "#sk-container-id-1 div.sk-parallel-item {\n",
       "  display: flex;\n",
       "  flex-direction: column;\n",
       "}\n",
       "\n",
       "#sk-container-id-1 div.sk-parallel-item:first-child::after {\n",
       "  align-self: flex-end;\n",
       "  width: 50%;\n",
       "}\n",
       "\n",
       "#sk-container-id-1 div.sk-parallel-item:last-child::after {\n",
       "  align-self: flex-start;\n",
       "  width: 50%;\n",
       "}\n",
       "\n",
       "#sk-container-id-1 div.sk-parallel-item:only-child::after {\n",
       "  width: 0;\n",
       "}\n",
       "\n",
       "/* Serial-specific style estimator block */\n",
       "\n",
       "#sk-container-id-1 div.sk-serial {\n",
       "  display: flex;\n",
       "  flex-direction: column;\n",
       "  align-items: center;\n",
       "  background-color: var(--sklearn-color-background);\n",
       "  padding-right: 1em;\n",
       "  padding-left: 1em;\n",
       "}\n",
       "\n",
       "\n",
       "/* Toggleable style: style used for estimator/Pipeline/ColumnTransformer box that is\n",
       "clickable and can be expanded/collapsed.\n",
       "- Pipeline and ColumnTransformer use this feature and define the default style\n",
       "- Estimators will overwrite some part of the style using the `sk-estimator` class\n",
       "*/\n",
       "\n",
       "/* Pipeline and ColumnTransformer style (default) */\n",
       "\n",
       "#sk-container-id-1 div.sk-toggleable {\n",
       "  /* Default theme specific background. It is overwritten whether we have a\n",
       "  specific estimator or a Pipeline/ColumnTransformer */\n",
       "  background-color: var(--sklearn-color-background);\n",
       "}\n",
       "\n",
       "/* Toggleable label */\n",
       "#sk-container-id-1 label.sk-toggleable__label {\n",
       "  cursor: pointer;\n",
       "  display: block;\n",
       "  width: 100%;\n",
       "  margin-bottom: 0;\n",
       "  padding: 0.5em;\n",
       "  box-sizing: border-box;\n",
       "  text-align: center;\n",
       "}\n",
       "\n",
       "#sk-container-id-1 label.sk-toggleable__label-arrow:before {\n",
       "  /* Arrow on the left of the label */\n",
       "  content: \"▸\";\n",
       "  float: left;\n",
       "  margin-right: 0.25em;\n",
       "  color: var(--sklearn-color-icon);\n",
       "}\n",
       "\n",
       "#sk-container-id-1 label.sk-toggleable__label-arrow:hover:before {\n",
       "  color: var(--sklearn-color-text);\n",
       "}\n",
       "\n",
       "/* Toggleable content - dropdown */\n",
       "\n",
       "#sk-container-id-1 div.sk-toggleable__content {\n",
       "  max-height: 0;\n",
       "  max-width: 0;\n",
       "  overflow: hidden;\n",
       "  text-align: left;\n",
       "  /* unfitted */\n",
       "  background-color: var(--sklearn-color-unfitted-level-0);\n",
       "}\n",
       "\n",
       "#sk-container-id-1 div.sk-toggleable__content.fitted {\n",
       "  /* fitted */\n",
       "  background-color: var(--sklearn-color-fitted-level-0);\n",
       "}\n",
       "\n",
       "#sk-container-id-1 div.sk-toggleable__content pre {\n",
       "  margin: 0.2em;\n",
       "  border-radius: 0.25em;\n",
       "  color: var(--sklearn-color-text);\n",
       "  /* unfitted */\n",
       "  background-color: var(--sklearn-color-unfitted-level-0);\n",
       "}\n",
       "\n",
       "#sk-container-id-1 div.sk-toggleable__content.fitted pre {\n",
       "  /* unfitted */\n",
       "  background-color: var(--sklearn-color-fitted-level-0);\n",
       "}\n",
       "\n",
       "#sk-container-id-1 input.sk-toggleable__control:checked~div.sk-toggleable__content {\n",
       "  /* Expand drop-down */\n",
       "  max-height: 200px;\n",
       "  max-width: 100%;\n",
       "  overflow: auto;\n",
       "}\n",
       "\n",
       "#sk-container-id-1 input.sk-toggleable__control:checked~label.sk-toggleable__label-arrow:before {\n",
       "  content: \"▾\";\n",
       "}\n",
       "\n",
       "/* Pipeline/ColumnTransformer-specific style */\n",
       "\n",
       "#sk-container-id-1 div.sk-label input.sk-toggleable__control:checked~label.sk-toggleable__label {\n",
       "  color: var(--sklearn-color-text);\n",
       "  background-color: var(--sklearn-color-unfitted-level-2);\n",
       "}\n",
       "\n",
       "#sk-container-id-1 div.sk-label.fitted input.sk-toggleable__control:checked~label.sk-toggleable__label {\n",
       "  background-color: var(--sklearn-color-fitted-level-2);\n",
       "}\n",
       "\n",
       "/* Estimator-specific style */\n",
       "\n",
       "/* Colorize estimator box */\n",
       "#sk-container-id-1 div.sk-estimator input.sk-toggleable__control:checked~label.sk-toggleable__label {\n",
       "  /* unfitted */\n",
       "  background-color: var(--sklearn-color-unfitted-level-2);\n",
       "}\n",
       "\n",
       "#sk-container-id-1 div.sk-estimator.fitted input.sk-toggleable__control:checked~label.sk-toggleable__label {\n",
       "  /* fitted */\n",
       "  background-color: var(--sklearn-color-fitted-level-2);\n",
       "}\n",
       "\n",
       "#sk-container-id-1 div.sk-label label.sk-toggleable__label,\n",
       "#sk-container-id-1 div.sk-label label {\n",
       "  /* The background is the default theme color */\n",
       "  color: var(--sklearn-color-text-on-default-background);\n",
       "}\n",
       "\n",
       "/* On hover, darken the color of the background */\n",
       "#sk-container-id-1 div.sk-label:hover label.sk-toggleable__label {\n",
       "  color: var(--sklearn-color-text);\n",
       "  background-color: var(--sklearn-color-unfitted-level-2);\n",
       "}\n",
       "\n",
       "/* Label box, darken color on hover, fitted */\n",
       "#sk-container-id-1 div.sk-label.fitted:hover label.sk-toggleable__label.fitted {\n",
       "  color: var(--sklearn-color-text);\n",
       "  background-color: var(--sklearn-color-fitted-level-2);\n",
       "}\n",
       "\n",
       "/* Estimator label */\n",
       "\n",
       "#sk-container-id-1 div.sk-label label {\n",
       "  font-family: monospace;\n",
       "  font-weight: bold;\n",
       "  display: inline-block;\n",
       "  line-height: 1.2em;\n",
       "}\n",
       "\n",
       "#sk-container-id-1 div.sk-label-container {\n",
       "  text-align: center;\n",
       "}\n",
       "\n",
       "/* Estimator-specific */\n",
       "#sk-container-id-1 div.sk-estimator {\n",
       "  font-family: monospace;\n",
       "  border: 1px dotted var(--sklearn-color-border-box);\n",
       "  border-radius: 0.25em;\n",
       "  box-sizing: border-box;\n",
       "  margin-bottom: 0.5em;\n",
       "  /* unfitted */\n",
       "  background-color: var(--sklearn-color-unfitted-level-0);\n",
       "}\n",
       "\n",
       "#sk-container-id-1 div.sk-estimator.fitted {\n",
       "  /* fitted */\n",
       "  background-color: var(--sklearn-color-fitted-level-0);\n",
       "}\n",
       "\n",
       "/* on hover */\n",
       "#sk-container-id-1 div.sk-estimator:hover {\n",
       "  /* unfitted */\n",
       "  background-color: var(--sklearn-color-unfitted-level-2);\n",
       "}\n",
       "\n",
       "#sk-container-id-1 div.sk-estimator.fitted:hover {\n",
       "  /* fitted */\n",
       "  background-color: var(--sklearn-color-fitted-level-2);\n",
       "}\n",
       "\n",
       "/* Specification for estimator info (e.g. \"i\" and \"?\") */\n",
       "\n",
       "/* Common style for \"i\" and \"?\" */\n",
       "\n",
       ".sk-estimator-doc-link,\n",
       "a:link.sk-estimator-doc-link,\n",
       "a:visited.sk-estimator-doc-link {\n",
       "  float: right;\n",
       "  font-size: smaller;\n",
       "  line-height: 1em;\n",
       "  font-family: monospace;\n",
       "  background-color: var(--sklearn-color-background);\n",
       "  border-radius: 1em;\n",
       "  height: 1em;\n",
       "  width: 1em;\n",
       "  text-decoration: none !important;\n",
       "  margin-left: 1ex;\n",
       "  /* unfitted */\n",
       "  border: var(--sklearn-color-unfitted-level-1) 1pt solid;\n",
       "  color: var(--sklearn-color-unfitted-level-1);\n",
       "}\n",
       "\n",
       ".sk-estimator-doc-link.fitted,\n",
       "a:link.sk-estimator-doc-link.fitted,\n",
       "a:visited.sk-estimator-doc-link.fitted {\n",
       "  /* fitted */\n",
       "  border: var(--sklearn-color-fitted-level-1) 1pt solid;\n",
       "  color: var(--sklearn-color-fitted-level-1);\n",
       "}\n",
       "\n",
       "/* On hover */\n",
       "div.sk-estimator:hover .sk-estimator-doc-link:hover,\n",
       ".sk-estimator-doc-link:hover,\n",
       "div.sk-label-container:hover .sk-estimator-doc-link:hover,\n",
       ".sk-estimator-doc-link:hover {\n",
       "  /* unfitted */\n",
       "  background-color: var(--sklearn-color-unfitted-level-3);\n",
       "  color: var(--sklearn-color-background);\n",
       "  text-decoration: none;\n",
       "}\n",
       "\n",
       "div.sk-estimator.fitted:hover .sk-estimator-doc-link.fitted:hover,\n",
       ".sk-estimator-doc-link.fitted:hover,\n",
       "div.sk-label-container:hover .sk-estimator-doc-link.fitted:hover,\n",
       ".sk-estimator-doc-link.fitted:hover {\n",
       "  /* fitted */\n",
       "  background-color: var(--sklearn-color-fitted-level-3);\n",
       "  color: var(--sklearn-color-background);\n",
       "  text-decoration: none;\n",
       "}\n",
       "\n",
       "/* Span, style for the box shown on hovering the info icon */\n",
       ".sk-estimator-doc-link span {\n",
       "  display: none;\n",
       "  z-index: 9999;\n",
       "  position: relative;\n",
       "  font-weight: normal;\n",
       "  right: .2ex;\n",
       "  padding: .5ex;\n",
       "  margin: .5ex;\n",
       "  width: min-content;\n",
       "  min-width: 20ex;\n",
       "  max-width: 50ex;\n",
       "  color: var(--sklearn-color-text);\n",
       "  box-shadow: 2pt 2pt 4pt #999;\n",
       "  /* unfitted */\n",
       "  background: var(--sklearn-color-unfitted-level-0);\n",
       "  border: .5pt solid var(--sklearn-color-unfitted-level-3);\n",
       "}\n",
       "\n",
       ".sk-estimator-doc-link.fitted span {\n",
       "  /* fitted */\n",
       "  background: var(--sklearn-color-fitted-level-0);\n",
       "  border: var(--sklearn-color-fitted-level-3);\n",
       "}\n",
       "\n",
       ".sk-estimator-doc-link:hover span {\n",
       "  display: block;\n",
       "}\n",
       "\n",
       "/* \"?\"-specific style due to the `<a>` HTML tag */\n",
       "\n",
       "#sk-container-id-1 a.estimator_doc_link {\n",
       "  float: right;\n",
       "  font-size: 1rem;\n",
       "  line-height: 1em;\n",
       "  font-family: monospace;\n",
       "  background-color: var(--sklearn-color-background);\n",
       "  border-radius: 1rem;\n",
       "  height: 1rem;\n",
       "  width: 1rem;\n",
       "  text-decoration: none;\n",
       "  /* unfitted */\n",
       "  color: var(--sklearn-color-unfitted-level-1);\n",
       "  border: var(--sklearn-color-unfitted-level-1) 1pt solid;\n",
       "}\n",
       "\n",
       "#sk-container-id-1 a.estimator_doc_link.fitted {\n",
       "  /* fitted */\n",
       "  border: var(--sklearn-color-fitted-level-1) 1pt solid;\n",
       "  color: var(--sklearn-color-fitted-level-1);\n",
       "}\n",
       "\n",
       "/* On hover */\n",
       "#sk-container-id-1 a.estimator_doc_link:hover {\n",
       "  /* unfitted */\n",
       "  background-color: var(--sklearn-color-unfitted-level-3);\n",
       "  color: var(--sklearn-color-background);\n",
       "  text-decoration: none;\n",
       "}\n",
       "\n",
       "#sk-container-id-1 a.estimator_doc_link.fitted:hover {\n",
       "  /* fitted */\n",
       "  background-color: var(--sklearn-color-fitted-level-3);\n",
       "}\n",
       "</style><div id=\"sk-container-id-1\" class=\"sk-top-container\"><div class=\"sk-text-repr-fallback\"><pre>GradientBoostingClassifier(learning_rate=0.2, max_depth=7, min_samples_leaf=2,\n",
       "                           n_estimators=200, random_state=1234)</pre><b>In a Jupyter environment, please rerun this cell to show the HTML representation or trust the notebook. <br />On GitHub, the HTML representation is unable to render, please try loading this page with nbviewer.org.</b></div><div class=\"sk-container\" hidden><div class=\"sk-item\"><div class=\"sk-estimator fitted sk-toggleable\"><input class=\"sk-toggleable__control sk-hidden--visually\" id=\"sk-estimator-id-1\" type=\"checkbox\" checked><label for=\"sk-estimator-id-1\" class=\"sk-toggleable__label fitted sk-toggleable__label-arrow fitted\">&nbsp;&nbsp;GradientBoostingClassifier<a class=\"sk-estimator-doc-link fitted\" rel=\"noreferrer\" target=\"_blank\" href=\"https://scikit-learn.org/1.4/modules/generated/sklearn.ensemble.GradientBoostingClassifier.html\">?<span>Documentation for GradientBoostingClassifier</span></a><span class=\"sk-estimator-doc-link fitted\">i<span>Fitted</span></span></label><div class=\"sk-toggleable__content fitted\"><pre>GradientBoostingClassifier(learning_rate=0.2, max_depth=7, min_samples_leaf=2,\n",
       "                           n_estimators=200, random_state=1234)</pre></div> </div></div></div></div>"
      ],
      "text/plain": [
       "GradientBoostingClassifier(learning_rate=0.2, max_depth=7, min_samples_leaf=2,\n",
       "                           n_estimators=200, random_state=1234)"
      ]
     },
     "execution_count": 77,
     "metadata": {},
     "output_type": "execute_result"
    }
   ],
   "source": [
    "that_model"
   ]
  },
  {
   "cell_type": "code",
   "execution_count": 78,
   "id": "eb1333fe-9836-4799-becd-5fbefe6c899e",
   "metadata": {},
   "outputs": [
    {
     "name": "stdout",
     "output_type": "stream",
     "text": [
      "Gradient Boosting Test Set Model - AUC-ROC: 0.92, Accuracy: 0.89\n"
     ]
    }
   ],
   "source": [
    "test_pred = that_model.predict(X_test)\n",
    "test_proba = that_model.predict_proba(X_test)[:, 1]\n",
    "    \n",
    "# Calculate AUC-ROC and accuracy\n",
    "test_auc_roc = roc_auc_score(y_test, test_proba)\n",
    "test_accuracy = accuracy_score(y_test, test_pred)\n",
    "    \n",
    "print(f\"Gradient Boosting Test Set Model - AUC-ROC: {test_auc_roc:.2f}, Accuracy: {test_accuracy:.2f}\")"
   ]
  },
  {
   "cell_type": "markdown",
   "id": "912e7caa-568a-4cfe-b9ad-761d3ac7133d",
   "metadata": {},
   "source": [
    "## Conclusions"
   ]
  },
  {
   "attachments": {},
   "cell_type": "markdown",
   "id": "9b397f77-c6d6-45cc-8a96-a12534d9c3df",
   "metadata": {
    "jp-MarkdownHeadingCollapsed": true
   },
   "source": [
    "Above we have fitted the best performing model and made predictions. We got an amazing AUC-ROC score of .92 which is even a point higher then what we had with the validation set and our accuracy went up to .89. These scores indicate that our model can almost perfectly distinguish between classes and that 89% of predictions made by the model are correct. These numbers should be a good sound indicator of how our model is performing because we addressed the class imbalance issue earlier in the code with SMOTE and while hypertuning the parameters we made sure to cross validate to help ensure we were not overfitting. \n",
    "Overall using the Gradient Boosting Model with the hyperparameters shown will serve our purpose quite well.\n"
   ]
  },
  {
   "cell_type": "markdown",
   "id": "fd78d64c-d9ac-49a8-991c-1c2007b9577f",
   "metadata": {},
   "source": [
    "## Solution Report"
   ]
  },
  {
   "cell_type": "markdown",
   "id": "a14535bb-1edd-48a4-af4c-6b1ae33df396",
   "metadata": {},
   "source": [
    "<ul>\n",
    "<li>What steps of the plan were performed and what steps were skipped (explain why)</li>\n",
    "<li>What difficulties did you encounter and how did you manage to solve them?</li>\n",
    "<li>What were some of the key steps to solving the task?</li>\n",
    "<li>What is your final model and what quality score does it have?</li>    \n",
    "</ul>\n",
    "<br>Starting at the top of my work plan, I finsihed up the preprocessing of the data after my initial EDA. This included converted all my column names to lowercase to make the coding a little easier and keep up consistancy. I also went ahead and filled in my missing data in the totalcharges column with the data from the monthlycharges column. I did this because the 11 customers without total charges had just signed up the month our data stopped.They all had 1 or 2 year contracts so I thought it was safe to assume they hadnt churned and their total charge would be whatever that months charges would have been. I then went and made two new columns that I thought would help and give us good data and easy useable binary churn column. The two columns I made are churn and tenure. I had a few hiccups doing the tenure. At first my data wasnt the right type to do the maths to get the number of days. After a little bit of searching I had found where I was going wrong and fixed that. After I finished doing that I went ahead and made a few more plots so I could get a better visual of our data. Doing that we were able to see the class imbalance that we had in our target. We also saw the handful of outliers that we had in tenure vs churn. This enabled me to know how to handle the data doing forward to train the models. The last bit of preproccessing that I did before i got into the models was i encoded all of my binary columns with OrdinalEncoder and then I did one hot encoding for my categorical features. I then dropped customerid, begindate, and enddate because they would not be needed for training the models.<br>\n",
    "<br>    After all of the preproccessing and EDA was finished I went ahead set up my target and feature variables. I then split all of my data into a training set, a validation set, and a test set. From there I resampled the data using SMOTE as to take care of the class imbalance I had. Next I did the initial training of the 3 models I had chosen. I initially got some good scores but I wanted them to be better so I continued ahead and did some hyperparameter tuning of the three models and made predictions with the validation set. The scores once again improved greatly. I then took the best model with the best parameters and made predictions with the test set.<br> \n",
    "<br>    The results I got were the following: Gradient Boosting Test Set Model - AUC-ROC: 0.92, Accuracy: 0.89. These are some really great scores to get with this model. It shows we can distinguish between classes almost perfectly and that it makes predictions with 89% accuracy which is really good. Some of the challengers I ran into while doing this were trying to determine exactly what data I wanted to use and if there was any features I wanted to create and then how to create them. I also had a few hiccups while converting the begindate and enddate to datetime so I could make the tenure column. I had to go back and re read things on to_datetime and the format and syntax. Some of the key steps I found to solving this task were making sure my data was the correct type and understanding the distrubution and how all the data we have correlates to each other. Once thats figured out it goes real smooth.<br>\n"
   ]
  },
  {
   "cell_type": "code",
   "execution_count": null,
   "id": "6a705de6-fb87-48b1-8359-97a276038fde",
   "metadata": {},
   "outputs": [],
   "source": []
  }
 ],
 "metadata": {
  "kernelspec": {
   "display_name": "Python 3 (ipykernel)",
   "language": "python",
   "name": "python3"
  },
  "language_info": {
   "codemirror_mode": {
    "name": "ipython",
    "version": 3
   },
   "file_extension": ".py",
   "mimetype": "text/x-python",
   "name": "python",
   "nbconvert_exporter": "python",
   "pygments_lexer": "ipython3",
   "version": "3.12.4"
  }
 },
 "nbformat": 4,
 "nbformat_minor": 5
}
