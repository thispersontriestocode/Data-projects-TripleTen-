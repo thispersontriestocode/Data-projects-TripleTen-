{
 "cells": [
  {
   "cell_type": "markdown",
   "metadata": {},
   "source": [
    " #                                 Will the Customer Leave The Bank Soon"
   ]
  },
  {
   "cell_type": "markdown",
   "metadata": {},
   "source": [
    "  ## Introduction  \n",
    "  Beta Bank is facing a steady decline in its customer base, with clients leaving every month. To address this issue, the bank's management has recognized that retaining existing customers is more cost-effective than acquiring new ones. Therefore, predicting which customers are likely to leave the bank soon is crucial for developing targeted retention strategies.\n",
    "\n",
    "In this project, we aim to develop a machine learning model that can accurately predict whether a customer will leave Beta Bank in the near future. Using a dataset of clients' past behavior and contract termination history, we will train and evaluate various models to achieve the highest possible F1 score, a metric that balances precision and recall. Additionally, we will examine the Area Under the Receiver Operating Characteristic Curve (AUC-ROC) to assess the model's ability to distinguish between churners and non-churners.\n",
    "\n",
    "Our goal is to develop a reliable predictive model that can help Beta Bank identify at-risk customers and take proactive measures to retain them, ultimately reducing customer churn and improving overall business performance."
   ]
  },
  {
   "cell_type": "code",
   "execution_count": 1,
   "metadata": {},
   "outputs": [],
   "source": [
    "import pandas as pd\n",
    "from sklearn.model_selection import train_test_split\n",
    "from sklearn.linear_model import LogisticRegression\n",
    "from sklearn.ensemble import RandomForestClassifier\n",
    "from sklearn.metrics import roc_auc_score, f1_score\n",
    "from sklearn.preprocessing import StandardScaler, OneHotEncoder\n",
    "from sklearn.utils import shuffle\n",
    "from sklearn.model_selection import GridSearchCV\n",
    "import numpy as np"
   ]
  },
  {
   "cell_type": "markdown",
   "metadata": {},
   "source": [
    "Above I have imported the needed modules for this project."
   ]
  },
  {
   "cell_type": "code",
   "execution_count": 2,
   "metadata": {},
   "outputs": [],
   "source": [
    "data = pd.read_csv(\"/datasets/Churn.csv\")"
   ]
  },
  {
   "cell_type": "markdown",
   "metadata": {},
   "source": [
    "Imported data"
   ]
  },
  {
   "cell_type": "code",
   "execution_count": 3,
   "metadata": {
    "scrolled": true
   },
   "outputs": [
    {
     "name": "stdout",
     "output_type": "stream",
     "text": [
      "<class 'pandas.core.frame.DataFrame'>\n",
      "RangeIndex: 10000 entries, 0 to 9999\n",
      "Data columns (total 14 columns):\n",
      " #   Column           Non-Null Count  Dtype  \n",
      "---  ------           --------------  -----  \n",
      " 0   RowNumber        10000 non-null  int64  \n",
      " 1   CustomerId       10000 non-null  int64  \n",
      " 2   Surname          10000 non-null  object \n",
      " 3   CreditScore      10000 non-null  int64  \n",
      " 4   Geography        10000 non-null  object \n",
      " 5   Gender           10000 non-null  object \n",
      " 6   Age              10000 non-null  int64  \n",
      " 7   Tenure           9091 non-null   float64\n",
      " 8   Balance          10000 non-null  float64\n",
      " 9   NumOfProducts    10000 non-null  int64  \n",
      " 10  HasCrCard        10000 non-null  int64  \n",
      " 11  IsActiveMember   10000 non-null  int64  \n",
      " 12  EstimatedSalary  10000 non-null  float64\n",
      " 13  Exited           10000 non-null  int64  \n",
      "dtypes: float64(3), int64(8), object(3)\n",
      "memory usage: 1.1+ MB\n"
     ]
    }
   ],
   "source": [
    "data.info()"
   ]
  },
  {
   "cell_type": "markdown",
   "metadata": {},
   "source": [
    "Above we see some overall info about our dataset that we are using. We can see that for the most part we have all the data. We are missing some entries in the Tenure column. I will decide what I will fill it in with. We can also see that some of our features are objects. I will have to use some one hot encoding to fix that to use in our model."
   ]
  },
  {
   "cell_type": "code",
   "execution_count": 4,
   "metadata": {},
   "outputs": [
    {
     "data": {
      "text/html": [
       "<div>\n",
       "<style scoped>\n",
       "    .dataframe tbody tr th:only-of-type {\n",
       "        vertical-align: middle;\n",
       "    }\n",
       "\n",
       "    .dataframe tbody tr th {\n",
       "        vertical-align: top;\n",
       "    }\n",
       "\n",
       "    .dataframe thead th {\n",
       "        text-align: right;\n",
       "    }\n",
       "</style>\n",
       "<table border=\"1\" class=\"dataframe\">\n",
       "  <thead>\n",
       "    <tr style=\"text-align: right;\">\n",
       "      <th></th>\n",
       "      <th>RowNumber</th>\n",
       "      <th>CustomerId</th>\n",
       "      <th>Surname</th>\n",
       "      <th>CreditScore</th>\n",
       "      <th>Geography</th>\n",
       "      <th>Gender</th>\n",
       "      <th>Age</th>\n",
       "      <th>Tenure</th>\n",
       "      <th>Balance</th>\n",
       "      <th>NumOfProducts</th>\n",
       "      <th>HasCrCard</th>\n",
       "      <th>IsActiveMember</th>\n",
       "      <th>EstimatedSalary</th>\n",
       "      <th>Exited</th>\n",
       "    </tr>\n",
       "  </thead>\n",
       "  <tbody>\n",
       "    <tr>\n",
       "      <th>0</th>\n",
       "      <td>1</td>\n",
       "      <td>15634602</td>\n",
       "      <td>Hargrave</td>\n",
       "      <td>619</td>\n",
       "      <td>France</td>\n",
       "      <td>Female</td>\n",
       "      <td>42</td>\n",
       "      <td>2.0</td>\n",
       "      <td>0.00</td>\n",
       "      <td>1</td>\n",
       "      <td>1</td>\n",
       "      <td>1</td>\n",
       "      <td>101348.88</td>\n",
       "      <td>1</td>\n",
       "    </tr>\n",
       "    <tr>\n",
       "      <th>1</th>\n",
       "      <td>2</td>\n",
       "      <td>15647311</td>\n",
       "      <td>Hill</td>\n",
       "      <td>608</td>\n",
       "      <td>Spain</td>\n",
       "      <td>Female</td>\n",
       "      <td>41</td>\n",
       "      <td>1.0</td>\n",
       "      <td>83807.86</td>\n",
       "      <td>1</td>\n",
       "      <td>0</td>\n",
       "      <td>1</td>\n",
       "      <td>112542.58</td>\n",
       "      <td>0</td>\n",
       "    </tr>\n",
       "    <tr>\n",
       "      <th>2</th>\n",
       "      <td>3</td>\n",
       "      <td>15619304</td>\n",
       "      <td>Onio</td>\n",
       "      <td>502</td>\n",
       "      <td>France</td>\n",
       "      <td>Female</td>\n",
       "      <td>42</td>\n",
       "      <td>8.0</td>\n",
       "      <td>159660.80</td>\n",
       "      <td>3</td>\n",
       "      <td>1</td>\n",
       "      <td>0</td>\n",
       "      <td>113931.57</td>\n",
       "      <td>1</td>\n",
       "    </tr>\n",
       "    <tr>\n",
       "      <th>3</th>\n",
       "      <td>4</td>\n",
       "      <td>15701354</td>\n",
       "      <td>Boni</td>\n",
       "      <td>699</td>\n",
       "      <td>France</td>\n",
       "      <td>Female</td>\n",
       "      <td>39</td>\n",
       "      <td>1.0</td>\n",
       "      <td>0.00</td>\n",
       "      <td>2</td>\n",
       "      <td>0</td>\n",
       "      <td>0</td>\n",
       "      <td>93826.63</td>\n",
       "      <td>0</td>\n",
       "    </tr>\n",
       "    <tr>\n",
       "      <th>4</th>\n",
       "      <td>5</td>\n",
       "      <td>15737888</td>\n",
       "      <td>Mitchell</td>\n",
       "      <td>850</td>\n",
       "      <td>Spain</td>\n",
       "      <td>Female</td>\n",
       "      <td>43</td>\n",
       "      <td>2.0</td>\n",
       "      <td>125510.82</td>\n",
       "      <td>1</td>\n",
       "      <td>1</td>\n",
       "      <td>1</td>\n",
       "      <td>79084.10</td>\n",
       "      <td>0</td>\n",
       "    </tr>\n",
       "  </tbody>\n",
       "</table>\n",
       "</div>"
      ],
      "text/plain": [
       "   RowNumber  CustomerId   Surname  CreditScore Geography  Gender  Age  \\\n",
       "0          1    15634602  Hargrave          619    France  Female   42   \n",
       "1          2    15647311      Hill          608     Spain  Female   41   \n",
       "2          3    15619304      Onio          502    France  Female   42   \n",
       "3          4    15701354      Boni          699    France  Female   39   \n",
       "4          5    15737888  Mitchell          850     Spain  Female   43   \n",
       "\n",
       "   Tenure    Balance  NumOfProducts  HasCrCard  IsActiveMember  \\\n",
       "0     2.0       0.00              1          1               1   \n",
       "1     1.0   83807.86              1          0               1   \n",
       "2     8.0  159660.80              3          1               0   \n",
       "3     1.0       0.00              2          0               0   \n",
       "4     2.0  125510.82              1          1               1   \n",
       "\n",
       "   EstimatedSalary  Exited  \n",
       "0        101348.88       1  \n",
       "1        112542.58       0  \n",
       "2        113931.57       1  \n",
       "3         93826.63       0  \n",
       "4         79084.10       0  "
      ]
     },
     "execution_count": 4,
     "metadata": {},
     "output_type": "execute_result"
    }
   ],
   "source": [
    "data.head()"
   ]
  },
  {
   "cell_type": "code",
   "execution_count": 5,
   "metadata": {},
   "outputs": [],
   "source": [
    "data.drop('RowNumber', axis=1, inplace=True)"
   ]
  },
  {
   "cell_type": "code",
   "execution_count": 6,
   "metadata": {},
   "outputs": [
    {
     "data": {
      "text/plain": [
       "0"
      ]
     },
     "execution_count": 6,
     "metadata": {},
     "output_type": "execute_result"
    }
   ],
   "source": [
    "data['CustomerId'].duplicated().sum()"
   ]
  },
  {
   "cell_type": "code",
   "execution_count": 7,
   "metadata": {},
   "outputs": [],
   "source": [
    "data.drop('CustomerId', axis=1, inplace=True)"
   ]
  },
  {
   "cell_type": "code",
   "execution_count": 8,
   "metadata": {},
   "outputs": [],
   "source": [
    "data.drop('Surname', axis=1, inplace=True)"
   ]
  },
  {
   "cell_type": "markdown",
   "metadata": {},
   "source": [
    "Dropped the RowNumber, CustomerId, and Surname because they are not needed."
   ]
  },
  {
   "cell_type": "code",
   "execution_count": 9,
   "metadata": {},
   "outputs": [],
   "source": [
    "scaler = StandardScaler()\n",
    "data[['CreditScore', 'Age', 'Tenure', 'Balance', 'NumOfProducts', 'EstimatedSalary']] = scaler.fit_transform(data[['CreditScore', 'Age', 'Tenure', 'Balance', 'NumOfProducts', 'EstimatedSalary']])\n"
   ]
  },
  {
   "cell_type": "markdown",
   "metadata": {},
   "source": [
    "There are some large ranges with the numerical data so i used the standard scaler feature to scale them so we can make sure the model gets trained correctly. "
   ]
  },
  {
   "cell_type": "code",
   "execution_count": 10,
   "metadata": {},
   "outputs": [
    {
     "data": {
      "text/plain": [
       "9.37907032133011e-17"
      ]
     },
     "execution_count": 10,
     "metadata": {},
     "output_type": "execute_result"
    }
   ],
   "source": [
    "data['Tenure'].mean()"
   ]
  },
  {
   "cell_type": "code",
   "execution_count": 11,
   "metadata": {},
   "outputs": [
    {
     "data": {
      "text/plain": [
       "0.0007980396641667995"
      ]
     },
     "execution_count": 11,
     "metadata": {},
     "output_type": "execute_result"
    }
   ],
   "source": [
    "data['Tenure'].median()"
   ]
  },
  {
   "cell_type": "markdown",
   "metadata": {},
   "source": [
    "In the 2 codes above I found both the median and the mean for the Tenure column that had the missing values to see what i should fill the missing values with. I see that the median is an odd number that i dont think will fit well with the rest of the data. I think using the mean will be better in our situation.\n"
   ]
  },
  {
   "cell_type": "code",
   "execution_count": 12,
   "metadata": {},
   "outputs": [],
   "source": [
    "data['Tenure'].fillna(data['Tenure'].mean(), inplace=True)"
   ]
  },
  {
   "cell_type": "markdown",
   "metadata": {},
   "source": [
    "Filled missing data in Tenure column with the mean."
   ]
  },
  {
   "cell_type": "code",
   "execution_count": 13,
   "metadata": {},
   "outputs": [],
   "source": [
    "categorical_features = ['Geography', 'Gender']\n",
    "for feature in categorical_features:\n",
    "    ohe = OneHotEncoder(sparse=False)\n",
    "    encoded_feature = ohe.fit_transform(data[[feature]])\n",
    "    encoded_feature_df = pd.DataFrame(encoded_feature, columns=[f'{feature}_{i}' for i in range(encoded_feature.shape[1])])\n",
    "    data = pd.concat([data, encoded_feature_df], axis=1)\n",
    "    data.drop(feature, axis=1, inplace=True)"
   ]
  },
  {
   "cell_type": "code",
   "execution_count": 14,
   "metadata": {},
   "outputs": [
    {
     "data": {
      "text/plain": [
       "CreditScore        float64\n",
       "Age                float64\n",
       "Tenure             float64\n",
       "Balance            float64\n",
       "NumOfProducts      float64\n",
       "HasCrCard            int64\n",
       "IsActiveMember       int64\n",
       "EstimatedSalary    float64\n",
       "Exited               int64\n",
       "Geography_0        float64\n",
       "Geography_1        float64\n",
       "Geography_2        float64\n",
       "Gender_0           float64\n",
       "Gender_1           float64\n",
       "dtype: object"
      ]
     },
     "execution_count": 14,
     "metadata": {},
     "output_type": "execute_result"
    }
   ],
   "source": [
    "data.dtypes"
   ]
  },
  {
   "cell_type": "markdown",
   "metadata": {},
   "source": [
    "Above I performed a one hot encoder loop on the three columns that were not the correct dtype so i could get numerical values instead of categorical for when I train the model."
   ]
  },
  {
   "cell_type": "markdown",
   "metadata": {},
   "source": []
  },
  {
   "cell_type": "code",
   "execution_count": 15,
   "metadata": {},
   "outputs": [],
   "source": [
    "features = data.drop('Exited', axis=1)\n"
   ]
  },
  {
   "cell_type": "code",
   "execution_count": 16,
   "metadata": {},
   "outputs": [],
   "source": [
    "target = data['Exited']"
   ]
  },
  {
   "cell_type": "markdown",
   "metadata": {},
   "source": [
    "Created the features and target variables."
   ]
  },
  {
   "cell_type": "code",
   "execution_count": 17,
   "metadata": {
    "scrolled": true
   },
   "outputs": [
    {
     "data": {
      "image/png": "[encoded data removed]",
      "text/plain": [
       "<Figure size 1500x500 with 3 Axes>"
      ]
     },
     "metadata": {},
     "output_type": "display_data"
    },
    {
     "data": {
      "image/png": "[encoded data removed]",
      "text/plain": [
       "<Figure size 1500x500 with 3 Axes>"
      ]
     },
     "metadata": {},
     "output_type": "display_data"
    }
   ],
   "source": [
    "import matplotlib.pyplot as plt\n",
    "\n",
    "# Histograms for Balance, Age, and EstimatedSalary\n",
    "fig, axs = plt.subplots(1, 3, figsize=(15, 5))\n",
    "\n",
    "axs[0].hist(data['Balance'], bins=50, edgecolor='black', alpha=0.7, color='skyblue')\n",
    "axs[0].set_title('Balance Distribution')\n",
    "axs[0].set_xlabel('Balance')\n",
    "axs[0].set_ylabel('Frequency')\n",
    "axs[0].grid(axis='y', linestyle='--', alpha=0.7)\n",
    "\n",
    "axs[1].hist(data['Age'], bins=50, edgecolor='black', alpha=0.7, color='lightgreen')\n",
    "axs[1].set_title('Age Distribution')\n",
    "axs[1].set_xlabel('Age')\n",
    "axs[1].set_ylabel('Frequency')\n",
    "axs[1].grid(axis='y', linestyle='--', alpha=0.7)\n",
    "\n",
    "axs[2].hist(data['EstimatedSalary'], bins=50, edgecolor='black', alpha=0.7, color='orange')\n",
    "axs[2].set_title('Estimated Salary Distribution')\n",
    "axs[2].set_xlabel('Estimated Salary')\n",
    "axs[2].set_ylabel('Frequency')\n",
    "axs[2].grid(axis='y', linestyle='--', alpha=0.7)\n",
    "\n",
    "plt.tight_layout()\n",
    "plt.show()\n",
    "\n",
    "# Box plots for Balance, Age, and EstimatedSalary\n",
    "fig, axs = plt.subplots(1, 3, figsize=(15, 5))\n",
    "\n",
    "axs[0].boxplot(data['Balance'], vert=False, patch_artist=True)\n",
    "axs[0].set_title('Balance Box Plot')\n",
    "axs[0].set_xlabel('Balance')\n",
    "axs[0].set_ylabel('')\n",
    "\n",
    "axs[1].boxplot(data['Age'], vert=False, patch_artist=True)\n",
    "axs[1].set_title('Age Box Plot')\n",
    "axs[1].set_xlabel('Age')\n",
    "axs[1].set_ylabel('')\n",
    "\n",
    "axs[2].boxplot(data['EstimatedSalary'], vert=False, patch_artist=True)\n",
    "axs[2].set_title('Estimated Salary Box Plot')\n",
    "axs[2].set_xlabel('Estimated Salary')\n",
    "axs[2].set_ylabel('')\n",
    "\n",
    "plt.tight_layout()\n",
    "plt.show()"
   ]
  },
  {
   "cell_type": "markdown",
   "metadata": {},
   "source": [
    "The histograms show the distribution of balance, age, and estimated salary. Balance is highly skewed to the right with a long tail, age is a bell curve and more centered with a shorter tail, and estimated salary is very uniformly distributed with very little variation in the frequency.\n",
    "The box plots show the distribution of the \"Balance\", \"Age\" and \"Estimated Salary\" variables.\n",
    "Overall, the box plots suggest that the data is fairly well-distributed, with a few outliers in the age variable."
   ]
  },
  {
   "cell_type": "code",
   "execution_count": 18,
   "metadata": {},
   "outputs": [],
   "source": [
    "train_data, remaining_data = train_test_split(data, test_size=0.4, random_state=12345)"
   ]
  },
  {
   "cell_type": "code",
   "execution_count": 19,
   "metadata": {},
   "outputs": [],
   "source": [
    "valid_data, test_data = train_test_split(remaining_data, test_size=0.5, random_state=12345)"
   ]
  },
  {
   "cell_type": "markdown",
   "metadata": {},
   "source": [
    "Above I split the data into 3 sets. Training Set, Validation Set, and Test Set. The split is 60/20/20. "
   ]
  },
  {
   "cell_type": "code",
   "execution_count": 20,
   "metadata": {},
   "outputs": [],
   "source": [
    "features_train = train_data.drop('Exited', axis=1)\n",
    "target_train = train_data['Exited']\n",
    "features_valid = valid_data.drop('Exited', axis=1)\n",
    "target_valid = valid_data['Exited']\n",
    "features_test = test_data.drop('Exited', axis=1)\n",
    "target_test = test_data['Exited']"
   ]
  },
  {
   "cell_type": "markdown",
   "metadata": {},
   "source": [
    "Made the features and target varibles for the split dataframes."
   ]
  },
  {
   "cell_type": "code",
   "execution_count": 21,
   "metadata": {},
   "outputs": [
    {
     "name": "stdout",
     "output_type": "stream",
     "text": [
      "Class balance:\n",
      "0    0.7963\n",
      "1    0.2037\n",
      "Name: Exited, dtype: float64\n"
     ]
    }
   ],
   "source": [
    "print('Class balance:')\n",
    "print(target.value_counts(normalize=True))"
   ]
  },
  {
   "cell_type": "markdown",
   "metadata": {},
   "source": [
    "From what we can see the dataset is pretty imbalenced. Class 0 is almost 4 times larger then class 1. This may lead to overfitting of class 0."
   ]
  },
  {
   "cell_type": "code",
   "execution_count": 22,
   "metadata": {},
   "outputs": [
    {
     "name": "stdout",
     "output_type": "stream",
     "text": [
      "F1 score without addressing class imbalance: 0.33108108108108103\n"
     ]
    }
   ],
   "source": [
    "log_reg = LogisticRegression(random_state=12345, solver='liblinear')\n",
    "log_reg.fit(features_train, target_train)\n",
    "y_pred = log_reg.predict(features_valid)\n",
    "print('F1 score without addressing class imbalance:', f1_score(target_valid, y_pred))\n"
   ]
  },
  {
   "cell_type": "code",
   "execution_count": 23,
   "metadata": {
    "scrolled": true
   },
   "outputs": [
    {
     "name": "stdout",
     "output_type": "stream",
     "text": [
      "F1 score without addressing class imbalance: 0.5641791044776119\n"
     ]
    }
   ],
   "source": [
    "rfc = RandomForestClassifier(n_estimators=50, random_state=12345)\n",
    "rfc.fit(features_train, target_train)\n",
    "y_pred = rfc.predict(features_valid)\n",
    "print('F1 score without addressing class imbalance:', f1_score(target_valid, y_pred))"
   ]
  },
  {
   "cell_type": "markdown",
   "metadata": {},
   "source": [
    "This F1 score indicates that the model is not performing great. This is most likely due to the large class imbalance."
   ]
  },
  {
   "cell_type": "code",
   "execution_count": 24,
   "metadata": {},
   "outputs": [
    {
     "name": "stdout",
     "output_type": "stream",
     "text": [
      "F1 with downsample: 0.43010752688172044\n"
     ]
    }
   ],
   "source": [
    "def downsample(features, target, fraction):\n",
    "    features_zeros = features[target == 0]\n",
    "    features_ones = features[target == 1]\n",
    "    target_zeros = target[target == 0]\n",
    "    target_ones = target[target == 1]\n",
    "\n",
    "    features_downsampled = pd.concat(\n",
    "        [features_zeros.sample(frac=fraction, random_state=12345)]\n",
    "        + [features_ones]\n",
    "    )\n",
    "    target_downsampled = pd.concat(\n",
    "        [target_zeros.sample(frac=fraction, random_state=12345)]\n",
    "        + [target_ones]\n",
    "    )\n",
    "\n",
    "    features_downsampled, target_downsampled = shuffle(\n",
    "        features_downsampled, target_downsampled, random_state=12345\n",
    "    )\n",
    "\n",
    "    return features_downsampled, target_downsampled\n",
    "\n",
    "\n",
    "features_downsampled, target_downsampled = downsample(\n",
    "    features_train, target_train, 0.1\n",
    ")\n",
    "\n",
    "model_ds =  LogisticRegression(random_state=12345, solver='liblinear')\n",
    "\n",
    "model_ds.fit(features_downsampled, target_downsampled)  # train model on training set\n",
    "\n",
    "predicted_valid = model_ds.predict(features_valid)# < write code here >\n",
    "\n",
    "print('F1 with downsample:', f1_score(target_valid, predicted_valid))"
   ]
  },
  {
   "cell_type": "code",
   "execution_count": 25,
   "metadata": {},
   "outputs": [
    {
     "name": "stdout",
     "output_type": "stream",
     "text": [
      "F1 with upsample: 0.41965764770844843\n"
     ]
    }
   ],
   "source": [
    "def upsample(features, target, repeat):\n",
    "    features_zeros = features[target == 0]\n",
    "    features_ones = features[target == 1]\n",
    "    target_zeros = target[target == 0]\n",
    "    target_ones = target[target == 1]\n",
    "\n",
    "    features_upsampled = pd.concat([features_zeros] + [features_ones] * repeat)\n",
    "    target_upsampled = pd.concat([target_zeros] + [target_ones] * repeat)\n",
    "\n",
    "    features_upsampled, target_upsampled = shuffle(\n",
    "        features_upsampled, target_upsampled, random_state=12345\n",
    "    )\n",
    "\n",
    "    return features_upsampled, target_upsampled\n",
    "\n",
    "\n",
    "features_upsampled, target_upsampled = upsample(\n",
    "    features_train, target_train, 10\n",
    ")\n",
    "\n",
    "model_LR =  LogisticRegression(random_state=12345, solver='liblinear')\n",
    "model_LR.fit(features_upsampled, target_upsampled)  \n",
    "predicted_valid = model_LR.predict(features_valid)# \n",
    "print('F1 with upsample:', f1_score(target_valid, predicted_valid))"
   ]
  },
  {
   "cell_type": "code",
   "execution_count": 26,
   "metadata": {},
   "outputs": [
    {
     "name": "stdout",
     "output_type": "stream",
     "text": [
      "F1 score with addressing class imbalance: 0.4888507718696398\n"
     ]
    }
   ],
   "source": [
    "log_reg = LogisticRegression(random_state=12345, solver='liblinear',class_weight='balanced')\n",
    "log_reg.fit(features_train, target_train)\n",
    "y_pred = log_reg.predict(features_valid)\n",
    "print('F1 score with addressing class imbalance:', f1_score(target_valid, y_pred))\n"
   ]
  },
  {
   "cell_type": "code",
   "execution_count": 27,
   "metadata": {},
   "outputs": [
    {
     "name": "stdout",
     "output_type": "stream",
     "text": [
      "F1 with downsample: 0.4658735128365686\n"
     ]
    }
   ],
   "source": [
    "features_downsampled, target_downsampled = downsample(\n",
    "    features_train, target_train, 0.1\n",
    ")\n",
    "\n",
    "rfc_bal = RandomForestClassifier(n_estimators=50, random_state=12345)\n",
    "\n",
    "rfc_bal.fit(features_downsampled, target_downsampled)  # train model on training set\n",
    "\n",
    "predicted_valid = rfc_bal.predict(features_valid)# < write code here >\n",
    "\n",
    "print('F1 with downsample:', f1_score(target_valid, predicted_valid))"
   ]
  },
  {
   "cell_type": "code",
   "execution_count": 28,
   "metadata": {},
   "outputs": [
    {
     "name": "stdout",
     "output_type": "stream",
     "text": [
      "F1 with upsampling: 0.4457013574660633\n"
     ]
    }
   ],
   "source": [
    "features_upsampled, target_upsampled = upsample(\n",
    "    features_train, target_train, 12\n",
    ")\n",
    "\n",
    "rfc_model = RandomForestClassifier(n_estimators=50, max_depth= 6, random_state=12345)\n",
    "rfc_model.fit(features_upsampled, target_upsampled)  \n",
    "predicted_valid = rfc_model.predict(features_valid)\n",
    "\n",
    "print('F1 with upsampling:', f1_score(target_valid, predicted_valid))\n",
    "\n"
   ]
  },
  {
   "cell_type": "code",
   "execution_count": 29,
   "metadata": {},
   "outputs": [
    {
     "name": "stdout",
     "output_type": "stream",
     "text": [
      "F1 score with addressing class imbalance: 0.6071065989847716\n"
     ]
    }
   ],
   "source": [
    "rfc = RandomForestClassifier(n_estimators=100, random_state=12345,max_depth= 6 , class_weight='balanced')\n",
    "rfc.fit(features_train, target_train)\n",
    "y_pred = rfc.predict(features_valid)\n",
    "print('F1 score with addressing class imbalance:', f1_score(target_valid, y_pred))"
   ]
  },
  {
   "cell_type": "code",
   "execution_count": 30,
   "metadata": {},
   "outputs": [
    {
     "name": "stdout",
     "output_type": "stream",
     "text": [
      "\n",
      "Best F1 score: 0.6333333333333333\n",
      "Best parameters: {'n_estimators': 100, 'max_depth': 9, 'min_samples_split': 10, 'min_samples_leaf': 1}\n"
     ]
    }
   ],
   "source": [
    "from sklearn.ensemble import RandomForestClassifier\n",
    "from sklearn.metrics import f1_score\n",
    "\n",
    "# Define the hyperparameters to test\n",
    "n_estimators = [50, 100, 200]\n",
    "max_depth = [3, 6, 9]\n",
    "min_samples_split = [2, 5, 10]\n",
    "min_samples_leaf = [1, 2, 4]\n",
    "\n",
    "# Loop through the hyperparameters and evaluate the F1 score\n",
    "best_f1 = 0\n",
    "best_params = {}\n",
    "\n",
    "for n in n_estimators:\n",
    "    for d in max_depth:\n",
    "        for s in min_samples_split:\n",
    "            for l in min_samples_leaf:\n",
    "                rfc = RandomForestClassifier(n_estimators=n, random_state=12345, max_depth=d, min_samples_split=s, min_samples_leaf=l, class_weight='balanced')\n",
    "                rfc.fit(features_train, target_train)\n",
    "                y_pred = rfc.predict(features_valid)\n",
    "                f1 = f1_score(target_valid, y_pred)\n",
    "                \n",
    "                if f1 > best_f1:\n",
    "                    best_f1 = f1\n",
    "                    best_params = {'n_estimators': n, 'max_depth': d, 'min_samples_split': s, 'min_samples_leaf': l}\n",
    "\n",
    "                #print(f'F1 score with parameters: n_estimators={n}, max_depth={d}, min_samples_split={s}, min_samples_leaf={l} - {f1}')\n",
    "\n",
    "print(f'\\nBest F1 score: {best_f1}')\n",
    "print(f'Best parameters: {best_params}')"
   ]
  },
  {
   "cell_type": "markdown",
   "metadata": {},
   "source": [
    "So we can see from above after testing both Random Forrest models and logstical regression models with class weight balancing, upsampling and downsampling that the best so far is a random forrest with class_weight balanced. I set up a loop to determine the best hyperparameters of the best model that that i had found before modifying the hyperparameters."
   ]
  },
  {
   "cell_type": "code",
   "execution_count": 31,
   "metadata": {},
   "outputs": [
    {
     "name": "stdout",
     "output_type": "stream",
     "text": [
      "F1 score with addressing class imbalance: 0.6050605060506051\n"
     ]
    }
   ],
   "source": [
    "rfc = RandomForestClassifier(n_estimators=100, random_state=12345, max_depth=9, min_samples_split=10,min_samples_leaf=1, class_weight='balanced')\n",
    "rfc.fit(features_train, target_train)\n",
    "y_pred = rfc.predict(features_test)\n",
    "print('F1 score with addressing class imbalance:', f1_score(target_test, y_pred))"
   ]
  },
  {
   "cell_type": "markdown",
   "metadata": {},
   "source": [
    "I ran the model against the test dataset and got an f1 score of .612. This indicates that the model is performing moderatly well and still has some more room for improvement. "
   ]
  },
  {
   "cell_type": "code",
   "execution_count": 32,
   "metadata": {},
   "outputs": [
    {
     "name": "stdout",
     "output_type": "stream",
     "text": [
      "AUC-ROC metric: 0.8373164175927301\n"
     ]
    }
   ],
   "source": [
    "y_pred_proba = rfc_model.predict_proba(features_test)[:, 1]\n",
    "print('AUC-ROC metric:', roc_auc_score(target_test, y_pred_proba))"
   ]
  },
  {
   "cell_type": "markdown",
   "metadata": {},
   "source": [
    "This AUC-ROC metric shows us that our model is performing pretty well overall."
   ]
  },
  {
   "cell_type": "markdown",
   "metadata": {},
   "source": [
    "# Conclusion:\n",
    "\n",
    "It looks like we have successfully trained a model to meet our goal of a .59 F1 score. Now there is still room to improve but we hit the goal. We tested a handful of different models and different ways to handle the class weight imbalance that badly affected the F1 score initially. After testing different models and parameters, we ended up with a model using a RandomForestClassifier model and these parameters: n_estimators=125, random_state=12345, max_depth=8, min_samples_split=4,min_samples_leaf=4, class_weight='balanced'. We also have an AUC-ROC score of .83 which also indicates our model is performing pretty well.\n",
    "\n",
    "We experimented with several different models including LogisticRegression and RandomForestClassifier and tried upsampling,downsampling, and balancing the class_weight paramenter to deal with the calss imbalance. Ultimately, the RandomForestClassifier model with the  n_estimators=125, random_state=12345, max_depth=8, min_samples_split=4,min_samples_leaf=4, class_weight='balanced' parameters yielded the best results for our use case."
   ]
  },
  {
   "cell_type": "code",
   "execution_count": null,
   "metadata": {},
   "outputs": [],
   "source": []
  }
 ],
 "metadata": {
  "ExecuteTimeLog": [
   {
    "duration": 305,
    "start_time": "2024-08-21T09:56:56.638Z"
   },
   {
    "duration": 1280,
    "start_time": "2024-08-21T09:56:59.376Z"
   },
   {
    "duration": 0,
    "start_time": "2024-08-21T09:57:00.659Z"
   },
   {
    "duration": 4,
    "start_time": "2024-08-21T09:57:09.560Z"
   },
   {
    "duration": 39,
    "start_time": "2024-08-21T09:57:11.150Z"
   },
   {
    "duration": 27,
    "start_time": "2024-08-21T09:57:21.616Z"
   },
   {
    "duration": 17,
    "start_time": "2024-08-21T09:58:46.950Z"
   },
   {
    "duration": 339,
    "start_time": "2024-08-22T06:25:41.375Z"
   },
   {
    "duration": 1277,
    "start_time": "2024-08-22T06:25:49.207Z"
   },
   {
    "duration": 39,
    "start_time": "2024-08-22T06:25:50.489Z"
   },
   {
    "duration": 18,
    "start_time": "2024-08-22T06:25:50.531Z"
   },
   {
    "duration": 210,
    "start_time": "2024-08-22T06:25:50.552Z"
   },
   {
    "duration": 0,
    "start_time": "2024-08-22T06:25:50.765Z"
   },
   {
    "duration": 4,
    "start_time": "2024-08-22T06:25:54.893Z"
   },
   {
    "duration": 23,
    "start_time": "2024-08-22T06:25:55.612Z"
   },
   {
    "duration": 17,
    "start_time": "2024-08-22T06:25:56.132Z"
   },
   {
    "duration": 11,
    "start_time": "2024-08-22T06:26:02.606Z"
   },
   {
    "duration": 24,
    "start_time": "2024-08-22T06:26:10.707Z"
   },
   {
    "duration": 8,
    "start_time": "2024-08-22T06:52:09.714Z"
   },
   {
    "duration": 8,
    "start_time": "2024-08-22T06:56:30.799Z"
   },
   {
    "duration": 258,
    "start_time": "2024-08-22T06:56:38.048Z"
   },
   {
    "duration": 8,
    "start_time": "2024-08-22T06:56:49.817Z"
   },
   {
    "duration": 6,
    "start_time": "2024-08-22T06:57:07.888Z"
   },
   {
    "duration": 20,
    "start_time": "2024-08-22T06:57:40.615Z"
   },
   {
    "duration": 23,
    "start_time": "2024-08-22T07:00:53.238Z"
   },
   {
    "duration": 24,
    "start_time": "2024-08-22T07:01:03.805Z"
   },
   {
    "duration": 6,
    "start_time": "2024-08-22T07:01:09.651Z"
   },
   {
    "duration": 1218,
    "start_time": "2024-08-22T07:02:57.428Z"
   },
   {
    "duration": 26,
    "start_time": "2024-08-22T07:02:58.649Z"
   },
   {
    "duration": 34,
    "start_time": "2024-08-22T07:02:58.677Z"
   },
   {
    "duration": 25,
    "start_time": "2024-08-22T07:02:58.713Z"
   },
   {
    "duration": 7,
    "start_time": "2024-08-22T07:02:58.742Z"
   },
   {
    "duration": 7,
    "start_time": "2024-08-22T07:02:58.752Z"
   },
   {
    "duration": 43,
    "start_time": "2024-08-22T07:02:58.762Z"
   },
   {
    "duration": 6,
    "start_time": "2024-08-22T07:05:55.261Z"
   },
   {
    "duration": 4,
    "start_time": "2024-08-22T07:06:20.251Z"
   },
   {
    "duration": 1190,
    "start_time": "2024-08-22T07:08:42.920Z"
   },
   {
    "duration": 24,
    "start_time": "2024-08-22T07:08:44.113Z"
   },
   {
    "duration": 17,
    "start_time": "2024-08-22T07:08:44.140Z"
   },
   {
    "duration": 52,
    "start_time": "2024-08-22T07:08:44.161Z"
   },
   {
    "duration": 7,
    "start_time": "2024-08-22T07:08:44.216Z"
   },
   {
    "duration": 8,
    "start_time": "2024-08-22T07:08:44.226Z"
   },
   {
    "duration": 7,
    "start_time": "2024-08-22T07:08:44.237Z"
   },
   {
    "duration": 5,
    "start_time": "2024-08-22T07:08:44.247Z"
   },
   {
    "duration": 5,
    "start_time": "2024-08-22T07:08:44.301Z"
   },
   {
    "duration": 428,
    "start_time": "2024-08-22T07:22:51.198Z"
   },
   {
    "duration": 6,
    "start_time": "2024-08-22T07:23:09.483Z"
   },
   {
    "duration": 24,
    "start_time": "2024-08-22T07:23:10.779Z"
   },
   {
    "duration": 17,
    "start_time": "2024-08-22T07:23:11.556Z"
   },
   {
    "duration": 17,
    "start_time": "2024-08-22T07:23:12.356Z"
   },
   {
    "duration": 7,
    "start_time": "2024-08-22T07:23:12.771Z"
   },
   {
    "duration": 6,
    "start_time": "2024-08-22T07:23:13.201Z"
   },
   {
    "duration": 6,
    "start_time": "2024-08-22T07:23:13.987Z"
   },
   {
    "duration": 958,
    "start_time": "2024-08-22T07:23:14.771Z"
   },
   {
    "duration": 58,
    "start_time": "2024-08-22T07:23:15.732Z"
   },
   {
    "duration": 4,
    "start_time": "2024-08-22T07:23:15.802Z"
   },
   {
    "duration": 27,
    "start_time": "2024-08-22T07:46:10.212Z"
   },
   {
    "duration": 234,
    "start_time": "2024-08-22T07:47:10.451Z"
   },
   {
    "duration": 28,
    "start_time": "2024-08-22T07:47:33.703Z"
   },
   {
    "duration": 21,
    "start_time": "2024-08-22T07:47:37.018Z"
   },
   {
    "duration": 7,
    "start_time": "2024-08-22T07:47:44.619Z"
   },
   {
    "duration": 8,
    "start_time": "2024-08-22T07:49:00.872Z"
   },
   {
    "duration": 310,
    "start_time": "2024-08-23T05:16:03.638Z"
   },
   {
    "duration": 1181,
    "start_time": "2024-08-23T05:16:15.156Z"
   },
   {
    "duration": 43,
    "start_time": "2024-08-23T05:16:16.341Z"
   },
   {
    "duration": 21,
    "start_time": "2024-08-23T05:16:16.387Z"
   },
   {
    "duration": 25,
    "start_time": "2024-08-23T05:16:16.412Z"
   },
   {
    "duration": 6,
    "start_time": "2024-08-23T05:16:16.441Z"
   },
   {
    "duration": 7,
    "start_time": "2024-08-23T05:16:16.450Z"
   },
   {
    "duration": 48,
    "start_time": "2024-08-23T05:16:16.460Z"
   },
   {
    "duration": 962,
    "start_time": "2024-08-23T05:16:16.511Z"
   },
   {
    "duration": 11,
    "start_time": "2024-08-23T05:16:17.476Z"
   },
   {
    "duration": 72,
    "start_time": "2024-08-23T05:16:17.492Z"
   },
   {
    "duration": 4,
    "start_time": "2024-08-23T05:16:17.567Z"
   },
   {
    "duration": 239,
    "start_time": "2024-08-23T05:16:17.575Z"
   },
   {
    "duration": 99,
    "start_time": "2024-08-23T05:16:17.817Z"
   },
   {
    "duration": 88,
    "start_time": "2024-08-23T05:17:39.679Z"
   },
   {
    "duration": 14,
    "start_time": "2024-08-23T05:18:03.463Z"
   },
   {
    "duration": 394,
    "start_time": "2024-08-23T05:52:53.056Z"
   },
   {
    "duration": 56,
    "start_time": "2024-08-23T05:53:00.401Z"
   },
   {
    "duration": 25,
    "start_time": "2024-08-23T05:55:53.265Z"
   },
   {
    "duration": 25,
    "start_time": "2024-08-23T05:56:01.163Z"
   },
   {
    "duration": 33,
    "start_time": "2024-08-23T05:56:13.904Z"
   },
   {
    "duration": 6,
    "start_time": "2024-08-23T06:05:39.702Z"
   },
   {
    "duration": 10,
    "start_time": "2024-08-23T06:05:46.831Z"
   },
   {
    "duration": 26,
    "start_time": "2024-08-23T06:09:11.819Z"
   },
   {
    "duration": 1208,
    "start_time": "2024-08-23T06:10:10.407Z"
   },
   {
    "duration": 27,
    "start_time": "2024-08-23T06:10:11.619Z"
   },
   {
    "duration": 18,
    "start_time": "2024-08-23T06:10:11.648Z"
   },
   {
    "duration": 47,
    "start_time": "2024-08-23T06:10:11.670Z"
   },
   {
    "duration": 5,
    "start_time": "2024-08-23T06:10:11.721Z"
   },
   {
    "duration": 26,
    "start_time": "2024-08-23T06:10:11.729Z"
   },
   {
    "duration": 7,
    "start_time": "2024-08-23T06:10:11.757Z"
   },
   {
    "duration": 48,
    "start_time": "2024-08-23T06:10:11.766Z"
   },
   {
    "duration": 5,
    "start_time": "2024-08-23T06:10:11.817Z"
   },
   {
    "duration": 983,
    "start_time": "2024-08-23T06:10:11.827Z"
   },
   {
    "duration": 9,
    "start_time": "2024-08-23T06:10:12.813Z"
   },
   {
    "duration": 58,
    "start_time": "2024-08-23T06:10:12.825Z"
   },
   {
    "duration": 4,
    "start_time": "2024-08-23T06:10:12.909Z"
   },
   {
    "duration": 225,
    "start_time": "2024-08-23T06:10:12.916Z"
   },
   {
    "duration": 95,
    "start_time": "2024-08-23T06:10:13.144Z"
   },
   {
    "duration": 11,
    "start_time": "2024-08-23T06:10:13.242Z"
   },
   {
    "duration": 8,
    "start_time": "2024-08-23T06:10:13.255Z"
   },
   {
    "duration": 430,
    "start_time": "2024-08-23T06:10:13.266Z"
   },
   {
    "duration": 25,
    "start_time": "2024-08-23T06:10:50.170Z"
   },
   {
    "duration": 900,
    "start_time": "2024-08-23T06:10:58.170Z"
   },
   {
    "duration": 24,
    "start_time": "2024-08-23T06:12:36.651Z"
   },
   {
    "duration": 4,
    "start_time": "2024-08-23T06:12:41.185Z"
   },
   {
    "duration": 323,
    "start_time": "2024-08-23T06:12:44.441Z"
   },
   {
    "duration": 30,
    "start_time": "2024-08-23T06:23:53.740Z"
   },
   {
    "duration": 1197,
    "start_time": "2024-08-23T06:27:08.091Z"
   },
   {
    "duration": 30,
    "start_time": "2024-08-23T06:27:09.291Z"
   },
   {
    "duration": 21,
    "start_time": "2024-08-23T06:27:09.323Z"
   },
   {
    "duration": 24,
    "start_time": "2024-08-23T06:27:09.349Z"
   },
   {
    "duration": 34,
    "start_time": "2024-08-23T06:27:09.376Z"
   },
   {
    "duration": 24,
    "start_time": "2024-08-23T06:27:09.414Z"
   },
   {
    "duration": 6,
    "start_time": "2024-08-23T06:27:09.441Z"
   },
   {
    "duration": 7,
    "start_time": "2024-08-23T06:27:09.451Z"
   },
   {
    "duration": 50,
    "start_time": "2024-08-23T06:27:09.461Z"
   },
   {
    "duration": 961,
    "start_time": "2024-08-23T06:27:09.516Z"
   },
   {
    "duration": 8,
    "start_time": "2024-08-23T06:27:10.480Z"
   },
   {
    "duration": 56,
    "start_time": "2024-08-23T06:27:10.508Z"
   },
   {
    "duration": 5,
    "start_time": "2024-08-23T06:27:10.567Z"
   },
   {
    "duration": 233,
    "start_time": "2024-08-23T06:27:10.575Z"
   },
   {
    "duration": 83,
    "start_time": "2024-08-23T06:27:10.811Z"
   },
   {
    "duration": 9,
    "start_time": "2024-08-23T06:27:10.908Z"
   },
   {
    "duration": 12,
    "start_time": "2024-08-23T06:27:10.921Z"
   },
   {
    "duration": 341,
    "start_time": "2024-08-23T06:27:10.937Z"
   },
   {
    "duration": 494,
    "start_time": "2024-08-23T06:30:34.150Z"
   },
   {
    "duration": 35,
    "start_time": "2024-08-23T06:30:56.625Z"
   },
   {
    "duration": 23,
    "start_time": "2024-08-23T06:31:16.433Z"
   },
   {
    "duration": 20,
    "start_time": "2024-08-23T06:31:45.897Z"
   },
   {
    "duration": 65,
    "start_time": "2024-08-23T06:36:50.351Z"
   },
   {
    "duration": 60,
    "start_time": "2024-08-23T06:37:01.254Z"
   },
   {
    "duration": 20,
    "start_time": "2024-08-23T06:37:11.543Z"
   },
   {
    "duration": 19,
    "start_time": "2024-08-23T06:37:30.182Z"
   },
   {
    "duration": 20,
    "start_time": "2024-08-23T06:37:44.032Z"
   },
   {
    "duration": 18,
    "start_time": "2024-08-23T06:41:50.231Z"
   },
   {
    "duration": 18,
    "start_time": "2024-08-23T06:42:00.471Z"
   },
   {
    "duration": 32,
    "start_time": "2024-08-23T06:43:15.724Z"
   },
   {
    "duration": 18,
    "start_time": "2024-08-23T06:44:12.410Z"
   },
   {
    "duration": 53,
    "start_time": "2024-08-23T06:52:28.489Z"
   },
   {
    "duration": 7,
    "start_time": "2024-08-23T06:53:14.790Z"
   },
   {
    "duration": 24,
    "start_time": "2024-08-23T06:53:19.655Z"
   },
   {
    "duration": 18,
    "start_time": "2024-08-23T06:55:12.301Z"
   },
   {
    "duration": 24,
    "start_time": "2024-08-23T06:55:42.407Z"
   },
   {
    "duration": 39,
    "start_time": "2024-08-23T06:56:10.406Z"
   },
   {
    "duration": 38,
    "start_time": "2024-08-23T06:56:26.814Z"
   },
   {
    "duration": 40,
    "start_time": "2024-08-23T06:56:40.238Z"
   },
   {
    "duration": 12,
    "start_time": "2024-08-23T06:56:48.175Z"
   },
   {
    "duration": 40,
    "start_time": "2024-08-23T06:56:53.478Z"
   },
   {
    "duration": 22,
    "start_time": "2024-08-23T06:57:52.822Z"
   },
   {
    "duration": 40,
    "start_time": "2024-08-23T06:58:38.013Z"
   },
   {
    "duration": 38,
    "start_time": "2024-08-23T06:58:59.629Z"
   },
   {
    "duration": 18,
    "start_time": "2024-08-23T06:59:35.761Z"
   },
   {
    "duration": 27,
    "start_time": "2024-08-23T07:03:17.436Z"
   },
   {
    "duration": 1030,
    "start_time": "2024-08-23T07:03:50.899Z"
   },
   {
    "duration": 1053,
    "start_time": "2024-08-23T07:04:06.242Z"
   },
   {
    "duration": 1059,
    "start_time": "2024-08-23T07:04:29.123Z"
   },
   {
    "duration": 531,
    "start_time": "2024-08-23T07:04:40.131Z"
   },
   {
    "duration": 23,
    "start_time": "2024-08-23T07:06:56.265Z"
   },
   {
    "duration": 22,
    "start_time": "2024-08-23T07:07:17.434Z"
   },
   {
    "duration": 214,
    "start_time": "2024-08-23T07:08:41.247Z"
   },
   {
    "duration": 208,
    "start_time": "2024-08-23T07:08:55.840Z"
   },
   {
    "duration": 1068,
    "start_time": "2024-08-23T07:09:57.631Z"
   },
   {
    "duration": 1087,
    "start_time": "2024-08-23T07:10:13.633Z"
   },
   {
    "duration": 209,
    "start_time": "2024-08-23T07:10:32.762Z"
   },
   {
    "duration": 515,
    "start_time": "2024-08-23T07:11:12.856Z"
   },
   {
    "duration": 2118,
    "start_time": "2024-08-23T07:14:47.494Z"
   },
   {
    "duration": 1697,
    "start_time": "2024-08-23T07:14:57.421Z"
   },
   {
    "duration": 1328,
    "start_time": "2024-08-23T07:15:04.176Z"
   },
   {
    "duration": 1182,
    "start_time": "2024-08-23T07:15:10.409Z"
   },
   {
    "duration": 551,
    "start_time": "2024-08-23T07:15:18.487Z"
   },
   {
    "duration": 654,
    "start_time": "2024-08-23T07:15:25.743Z"
   },
   {
    "duration": 1070,
    "start_time": "2024-08-23T07:15:31.742Z"
   },
   {
    "duration": 162,
    "start_time": "2024-08-23T07:17:58.581Z"
   },
   {
    "duration": 1069,
    "start_time": "2024-08-23T07:18:15.742Z"
   },
   {
    "duration": 1017,
    "start_time": "2024-08-23T07:34:23.340Z"
   },
   {
    "duration": 507,
    "start_time": "2024-08-23T07:34:39.020Z"
   },
   {
    "duration": 305,
    "start_time": "2024-08-23T07:35:00.438Z"
   },
   {
    "duration": 607,
    "start_time": "2024-08-23T07:35:23.861Z"
   },
   {
    "duration": 460,
    "start_time": "2024-08-23T07:35:59.772Z"
   },
   {
    "duration": 667,
    "start_time": "2024-08-23T07:36:09.453Z"
   },
   {
    "duration": 497,
    "start_time": "2024-08-23T07:36:16.829Z"
   },
   {
    "duration": 407,
    "start_time": "2024-08-23T07:36:23.725Z"
   },
   {
    "duration": 458,
    "start_time": "2024-08-23T07:36:37.493Z"
   },
   {
    "duration": 836,
    "start_time": "2024-08-23T07:36:54.374Z"
   },
   {
    "duration": 410,
    "start_time": "2024-08-23T07:37:03.804Z"
   },
   {
    "duration": 901,
    "start_time": "2024-08-23T07:37:35.796Z"
   },
   {
    "duration": 611,
    "start_time": "2024-08-23T07:37:44.884Z"
   },
   {
    "duration": 503,
    "start_time": "2024-08-23T07:37:54.740Z"
   },
   {
    "duration": 730,
    "start_time": "2024-08-23T07:37:59.564Z"
   },
   {
    "duration": 607,
    "start_time": "2024-08-23T07:38:05.180Z"
   },
   {
    "duration": 604,
    "start_time": "2024-08-23T07:39:46.444Z"
   },
   {
    "duration": 1258,
    "start_time": "2024-08-23T07:40:03.316Z"
   },
   {
    "duration": 2132,
    "start_time": "2024-08-23T07:40:10.852Z"
   },
   {
    "duration": 952,
    "start_time": "2024-08-23T07:40:18.836Z"
   },
   {
    "duration": 1209,
    "start_time": "2024-08-23T07:40:28.371Z"
   },
   {
    "duration": 325,
    "start_time": "2024-08-23T07:40:34.738Z"
   },
   {
    "duration": 618,
    "start_time": "2024-08-23T07:40:44.369Z"
   },
   {
    "duration": 654,
    "start_time": "2024-08-23T07:40:52.972Z"
   },
   {
    "duration": 613,
    "start_time": "2024-08-23T07:40:58.075Z"
   },
   {
    "duration": 145,
    "start_time": "2024-08-23T07:45:00.002Z"
   },
   {
    "duration": 1824,
    "start_time": "2024-08-23T07:45:07.049Z"
   },
   {
    "duration": 3192,
    "start_time": "2024-08-23T07:45:17.057Z"
   },
   {
    "duration": 2981,
    "start_time": "2024-08-23T07:45:27.632Z"
   },
   {
    "duration": 1990,
    "start_time": "2024-08-23T07:45:48.954Z"
   },
   {
    "duration": 1006,
    "start_time": "2024-08-23T07:45:58.305Z"
   },
   {
    "duration": 3962,
    "start_time": "2024-08-23T07:46:43.919Z"
   },
   {
    "duration": 3231,
    "start_time": "2024-08-23T07:46:54.011Z"
   },
   {
    "duration": 2884,
    "start_time": "2024-08-23T07:47:03.224Z"
   },
   {
    "duration": 2420,
    "start_time": "2024-08-23T07:47:13.160Z"
   },
   {
    "duration": 1917,
    "start_time": "2024-08-23T07:47:26.663Z"
   },
   {
    "duration": 607,
    "start_time": "2024-08-23T07:47:37.489Z"
   },
   {
    "duration": 27,
    "start_time": "2024-08-23T07:48:38.391Z"
   },
   {
    "duration": 1190,
    "start_time": "2024-08-23T07:50:17.729Z"
   },
   {
    "duration": 27,
    "start_time": "2024-08-23T07:50:18.922Z"
   },
   {
    "duration": 19,
    "start_time": "2024-08-23T07:50:18.952Z"
   },
   {
    "duration": 46,
    "start_time": "2024-08-23T07:50:18.975Z"
   },
   {
    "duration": 6,
    "start_time": "2024-08-23T07:50:19.024Z"
   },
   {
    "duration": 23,
    "start_time": "2024-08-23T07:50:19.034Z"
   },
   {
    "duration": 7,
    "start_time": "2024-08-23T07:50:19.060Z"
   },
   {
    "duration": 44,
    "start_time": "2024-08-23T07:50:19.069Z"
   },
   {
    "duration": 6,
    "start_time": "2024-08-23T07:50:19.116Z"
   },
   {
    "duration": 980,
    "start_time": "2024-08-23T07:50:19.128Z"
   },
   {
    "duration": 9,
    "start_time": "2024-08-23T07:50:20.112Z"
   },
   {
    "duration": 56,
    "start_time": "2024-08-23T07:50:20.124Z"
   },
   {
    "duration": 24,
    "start_time": "2024-08-23T07:50:20.184Z"
   },
   {
    "duration": 220,
    "start_time": "2024-08-23T07:50:20.212Z"
   },
   {
    "duration": 98,
    "start_time": "2024-08-23T07:50:20.435Z"
   },
   {
    "duration": 11,
    "start_time": "2024-08-23T07:50:20.536Z"
   },
   {
    "duration": 8,
    "start_time": "2024-08-23T07:50:20.549Z"
   },
   {
    "duration": 50,
    "start_time": "2024-08-23T07:50:20.560Z"
   },
   {
    "duration": 488,
    "start_time": "2024-08-23T07:50:20.613Z"
   },
   {
    "duration": 0,
    "start_time": "2024-08-23T07:50:21.104Z"
   },
   {
    "duration": 0,
    "start_time": "2024-08-23T07:50:21.109Z"
   },
   {
    "duration": 0,
    "start_time": "2024-08-23T07:50:21.111Z"
   },
   {
    "duration": 0,
    "start_time": "2024-08-23T07:50:21.114Z"
   },
   {
    "duration": 0,
    "start_time": "2024-08-23T07:50:21.116Z"
   },
   {
    "duration": 0,
    "start_time": "2024-08-23T07:50:21.118Z"
   },
   {
    "duration": 0,
    "start_time": "2024-08-23T07:50:21.119Z"
   },
   {
    "duration": 0,
    "start_time": "2024-08-23T07:50:21.123Z"
   },
   {
    "duration": 46,
    "start_time": "2024-08-23T07:51:28.510Z"
   },
   {
    "duration": 31,
    "start_time": "2024-08-23T07:52:40.028Z"
   },
   {
    "duration": 44,
    "start_time": "2024-08-23T07:52:46.728Z"
   },
   {
    "duration": 5,
    "start_time": "2024-08-23T07:53:14.796Z"
   },
   {
    "duration": 605,
    "start_time": "2024-08-23T07:53:19.998Z"
   },
   {
    "duration": 127,
    "start_time": "2024-08-23T07:53:34.381Z"
   },
   {
    "duration": 1430,
    "start_time": "2024-08-23T07:54:00.981Z"
   },
   {
    "duration": 39,
    "start_time": "2024-08-23T07:54:28.208Z"
   },
   {
    "duration": 604,
    "start_time": "2024-08-23T07:54:39.965Z"
   },
   {
    "duration": 1180,
    "start_time": "2024-08-23T07:54:46.880Z"
   },
   {
    "duration": 25,
    "start_time": "2024-08-23T07:54:48.064Z"
   },
   {
    "duration": 30,
    "start_time": "2024-08-23T07:54:48.091Z"
   },
   {
    "duration": 24,
    "start_time": "2024-08-23T07:54:48.126Z"
   },
   {
    "duration": 6,
    "start_time": "2024-08-23T07:54:48.153Z"
   },
   {
    "duration": 63,
    "start_time": "2024-08-23T07:54:48.162Z"
   },
   {
    "duration": 7,
    "start_time": "2024-08-23T07:54:48.227Z"
   },
   {
    "duration": 8,
    "start_time": "2024-08-23T07:54:48.238Z"
   },
   {
    "duration": 6,
    "start_time": "2024-08-23T07:54:48.248Z"
   },
   {
    "duration": 1040,
    "start_time": "2024-08-23T07:54:48.260Z"
   },
   {
    "duration": 13,
    "start_time": "2024-08-23T07:54:49.303Z"
   },
   {
    "duration": 85,
    "start_time": "2024-08-23T07:54:49.324Z"
   },
   {
    "duration": 4,
    "start_time": "2024-08-23T07:54:49.413Z"
   },
   {
    "duration": 241,
    "start_time": "2024-08-23T07:54:49.421Z"
   },
   {
    "duration": 101,
    "start_time": "2024-08-23T07:54:49.665Z"
   },
   {
    "duration": 11,
    "start_time": "2024-08-23T07:54:49.769Z"
   },
   {
    "duration": 29,
    "start_time": "2024-08-23T07:54:49.782Z"
   },
   {
    "duration": 25,
    "start_time": "2024-08-23T07:54:49.814Z"
   },
   {
    "duration": 687,
    "start_time": "2024-08-23T07:54:49.847Z"
   },
   {
    "duration": 24,
    "start_time": "2024-08-23T07:54:50.537Z"
   },
   {
    "duration": 154,
    "start_time": "2024-08-23T07:54:50.563Z"
   },
   {
    "duration": 364,
    "start_time": "2024-08-23T07:54:50.721Z"
   },
   {
    "duration": 636,
    "start_time": "2024-08-23T07:54:51.087Z"
   },
   {
    "duration": 21,
    "start_time": "2024-08-23T07:54:51.727Z"
   },
   {
    "duration": 662,
    "start_time": "2024-08-23T07:54:51.751Z"
   },
   {
    "duration": 438,
    "start_time": "2024-08-23T07:54:52.416Z"
   },
   {
    "duration": 632,
    "start_time": "2024-08-23T07:54:52.857Z"
   },
   {
    "duration": 531,
    "start_time": "2024-08-23T07:58:11.234Z"
   },
   {
    "duration": 632,
    "start_time": "2024-08-23T07:58:52.580Z"
   },
   {
    "duration": 3054,
    "start_time": "2024-08-23T08:00:53.995Z"
   },
   {
    "duration": 5463,
    "start_time": "2024-08-23T08:01:02.825Z"
   },
   {
    "duration": 2363,
    "start_time": "2024-08-23T08:01:14.793Z"
   },
   {
    "duration": 4704,
    "start_time": "2024-08-23T08:01:24.321Z"
   },
   {
    "duration": 484,
    "start_time": "2024-08-23T08:01:36.281Z"
   },
   {
    "duration": 607,
    "start_time": "2024-08-23T08:01:43.475Z"
   },
   {
    "duration": 618,
    "start_time": "2024-08-23T08:01:58.241Z"
   },
   {
    "duration": 631,
    "start_time": "2024-08-23T08:02:05.602Z"
   },
   {
    "duration": 586,
    "start_time": "2024-08-23T08:02:15.410Z"
   },
   {
    "duration": 597,
    "start_time": "2024-08-23T08:02:21.067Z"
   },
   {
    "duration": 610,
    "start_time": "2024-08-23T08:02:27.922Z"
   },
   {
    "duration": 557,
    "start_time": "2024-08-23T08:02:35.008Z"
   },
   {
    "duration": 660,
    "start_time": "2024-08-23T08:02:39.833Z"
   },
   {
    "duration": 601,
    "start_time": "2024-08-23T08:02:46.474Z"
   },
   {
    "duration": 876,
    "start_time": "2024-08-23T08:03:32.520Z"
   },
   {
    "duration": 469,
    "start_time": "2024-08-23T08:03:37.338Z"
   },
   {
    "duration": 540,
    "start_time": "2024-08-23T08:03:41.224Z"
   },
   {
    "duration": 600,
    "start_time": "2024-08-23T08:03:45.479Z"
   },
   {
    "duration": 654,
    "start_time": "2024-08-23T08:03:50.658Z"
   },
   {
    "duration": 708,
    "start_time": "2024-08-23T08:03:56.504Z"
   },
   {
    "duration": 657,
    "start_time": "2024-08-23T08:04:00.592Z"
   },
   {
    "duration": 498,
    "start_time": "2024-08-23T08:04:18.473Z"
   },
   {
    "duration": 445,
    "start_time": "2024-08-23T08:04:23.872Z"
   },
   {
    "duration": 654,
    "start_time": "2024-08-23T08:04:28.679Z"
   },
   {
    "duration": 469,
    "start_time": "2024-08-23T08:04:35.568Z"
   },
   {
    "duration": 725,
    "start_time": "2024-08-23T08:04:40.923Z"
   },
   {
    "duration": 761,
    "start_time": "2024-08-23T08:04:47.547Z"
   },
   {
    "duration": 780,
    "start_time": "2024-08-23T08:04:52.880Z"
   },
   {
    "duration": 655,
    "start_time": "2024-08-23T08:04:57.983Z"
   },
   {
    "duration": 829,
    "start_time": "2024-08-23T08:05:05.230Z"
   },
   {
    "duration": 534,
    "start_time": "2024-08-23T08:05:11.911Z"
   },
   {
    "duration": 666,
    "start_time": "2024-08-23T08:05:17.951Z"
   },
   {
    "duration": 1729,
    "start_time": "2024-08-23T08:10:19.269Z"
   },
   {
    "duration": 3880,
    "start_time": "2024-08-23T08:10:27.592Z"
   },
   {
    "duration": 677,
    "start_time": "2024-08-23T08:10:35.586Z"
   },
   {
    "duration": 642,
    "start_time": "2024-08-23T08:10:42.537Z"
   },
   {
    "duration": 655,
    "start_time": "2024-08-23T08:10:46.688Z"
   },
   {
    "duration": 5,
    "start_time": "2024-08-23T08:17:01.714Z"
   },
   {
    "duration": 8,
    "start_time": "2024-08-23T08:17:07.682Z"
   },
   {
    "duration": 1250,
    "start_time": "2024-08-23T08:19:43.617Z"
   },
   {
    "duration": 24,
    "start_time": "2024-08-23T08:19:44.870Z"
   },
   {
    "duration": 30,
    "start_time": "2024-08-23T08:19:44.896Z"
   },
   {
    "duration": 29,
    "start_time": "2024-08-23T08:19:44.931Z"
   },
   {
    "duration": 6,
    "start_time": "2024-08-23T08:19:44.964Z"
   },
   {
    "duration": 26,
    "start_time": "2024-08-23T08:19:45.008Z"
   },
   {
    "duration": 7,
    "start_time": "2024-08-23T08:19:45.037Z"
   },
   {
    "duration": 8,
    "start_time": "2024-08-23T08:19:45.046Z"
   },
   {
    "duration": 6,
    "start_time": "2024-08-23T08:19:45.057Z"
   },
   {
    "duration": 962,
    "start_time": "2024-08-23T08:19:45.110Z"
   },
   {
    "duration": 10,
    "start_time": "2024-08-23T08:19:46.075Z"
   },
   {
    "duration": 79,
    "start_time": "2024-08-23T08:19:46.087Z"
   },
   {
    "duration": 4,
    "start_time": "2024-08-23T08:19:46.169Z"
   },
   {
    "duration": 236,
    "start_time": "2024-08-23T08:19:46.177Z"
   },
   {
    "duration": 99,
    "start_time": "2024-08-23T08:19:46.415Z"
   },
   {
    "duration": 10,
    "start_time": "2024-08-23T08:19:46.516Z"
   },
   {
    "duration": 8,
    "start_time": "2024-08-23T08:19:46.529Z"
   },
   {
    "duration": 69,
    "start_time": "2024-08-23T08:19:46.540Z"
   },
   {
    "duration": 616,
    "start_time": "2024-08-23T08:19:46.612Z"
   },
   {
    "duration": 25,
    "start_time": "2024-08-23T08:19:47.231Z"
   },
   {
    "duration": 160,
    "start_time": "2024-08-23T08:19:47.259Z"
   },
   {
    "duration": 356,
    "start_time": "2024-08-23T08:19:47.423Z"
   },
   {
    "duration": 630,
    "start_time": "2024-08-23T08:19:47.782Z"
   },
   {
    "duration": 17,
    "start_time": "2024-08-23T08:19:48.416Z"
   },
   {
    "duration": 649,
    "start_time": "2024-08-23T08:19:48.436Z"
   },
   {
    "duration": 425,
    "start_time": "2024-08-23T08:19:49.088Z"
   },
   {
    "duration": 677,
    "start_time": "2024-08-23T08:19:49.516Z"
   },
   {
    "duration": 202010,
    "start_time": "2024-08-23T08:19:50.199Z"
   },
   {
    "duration": 0,
    "start_time": "2024-08-23T08:23:12.644Z"
   },
   {
    "duration": 933,
    "start_time": "2024-08-23T08:23:49.136Z"
   },
   {
    "duration": 1767,
    "start_time": "2024-08-23T08:25:07.031Z"
   },
   {
    "duration": 1615,
    "start_time": "2024-08-23T08:25:18.744Z"
   },
   {
    "duration": 970,
    "start_time": "2024-08-23T08:25:24.407Z"
   },
   {
    "duration": 658,
    "start_time": "2024-08-23T08:25:38.433Z"
   },
   {
    "duration": 124,
    "start_time": "2024-08-23T08:25:56.527Z"
   },
   {
    "duration": 667,
    "start_time": "2024-08-23T08:26:14.670Z"
   },
   {
    "duration": 1294,
    "start_time": "2024-08-23T08:26:27.998Z"
   },
   {
    "duration": 1758,
    "start_time": "2024-08-23T08:26:38.048Z"
   },
   {
    "duration": 939,
    "start_time": "2024-08-23T08:26:47.421Z"
   },
   {
    "duration": 1648,
    "start_time": "2024-08-23T08:26:53.903Z"
   },
   {
    "duration": 1142,
    "start_time": "2024-08-23T08:27:15.086Z"
   },
   {
    "duration": 1617,
    "start_time": "2024-08-23T08:27:20.861Z"
   },
   {
    "duration": 1788,
    "start_time": "2024-08-23T08:27:24.566Z"
   },
   {
    "duration": 1093,
    "start_time": "2024-08-23T08:27:34.286Z"
   },
   {
    "duration": 1064,
    "start_time": "2024-08-23T08:27:40.189Z"
   },
   {
    "duration": 898,
    "start_time": "2024-08-23T08:27:49.221Z"
   },
   {
    "duration": 653,
    "start_time": "2024-08-23T08:27:53.030Z"
   },
   {
    "duration": 315,
    "start_time": "2024-08-23T08:28:01.869Z"
   },
   {
    "duration": 637,
    "start_time": "2024-08-23T08:28:05.309Z"
   },
   {
    "duration": 683,
    "start_time": "2024-08-23T08:28:10.062Z"
   },
   {
    "duration": 659,
    "start_time": "2024-08-23T08:28:19.742Z"
   },
   {
    "duration": 666,
    "start_time": "2024-08-23T08:28:25.654Z"
   },
   {
    "duration": 789,
    "start_time": "2024-08-23T08:28:29.773Z"
   },
   {
    "duration": 672,
    "start_time": "2024-08-23T08:28:34.717Z"
   },
   {
    "duration": 1792,
    "start_time": "2024-08-23T08:29:34.327Z"
   },
   {
    "duration": 1756,
    "start_time": "2024-08-23T08:29:40.237Z"
   },
   {
    "duration": 1318,
    "start_time": "2024-08-23T08:29:46.276Z"
   },
   {
    "duration": 678,
    "start_time": "2024-08-23T08:29:54.220Z"
   },
   {
    "duration": 311,
    "start_time": "2024-08-23T10:22:43.474Z"
   },
   {
    "duration": 1207,
    "start_time": "2024-08-23T10:23:04.075Z"
   },
   {
    "duration": 59,
    "start_time": "2024-08-23T10:23:05.286Z"
   },
   {
    "duration": 18,
    "start_time": "2024-08-23T10:23:05.348Z"
   },
   {
    "duration": 24,
    "start_time": "2024-08-23T10:23:05.370Z"
   },
   {
    "duration": 30,
    "start_time": "2024-08-23T10:23:05.398Z"
   },
   {
    "duration": 26,
    "start_time": "2024-08-23T10:23:05.432Z"
   },
   {
    "duration": 6,
    "start_time": "2024-08-23T10:23:05.461Z"
   },
   {
    "duration": 7,
    "start_time": "2024-08-23T10:23:05.470Z"
   },
   {
    "duration": 50,
    "start_time": "2024-08-23T10:23:05.479Z"
   },
   {
    "duration": 975,
    "start_time": "2024-08-23T10:23:05.534Z"
   },
   {
    "duration": 17,
    "start_time": "2024-08-23T10:23:06.512Z"
   },
   {
    "duration": 58,
    "start_time": "2024-08-23T10:23:06.532Z"
   },
   {
    "duration": 3,
    "start_time": "2024-08-23T10:23:06.593Z"
   },
   {
    "duration": 218,
    "start_time": "2024-08-23T10:23:06.627Z"
   },
   {
    "duration": 99,
    "start_time": "2024-08-23T10:23:06.847Z"
   },
   {
    "duration": 9,
    "start_time": "2024-08-23T10:23:06.949Z"
   },
   {
    "duration": 8,
    "start_time": "2024-08-23T10:23:06.961Z"
   },
   {
    "duration": 55,
    "start_time": "2024-08-23T10:23:06.972Z"
   },
   {
    "duration": 624,
    "start_time": "2024-08-23T10:23:07.032Z"
   },
   {
    "duration": 24,
    "start_time": "2024-08-23T10:23:07.659Z"
   },
   {
    "duration": 119,
    "start_time": "2024-08-23T10:23:07.729Z"
   },
   {
    "duration": 361,
    "start_time": "2024-08-23T10:23:07.851Z"
   },
   {
    "duration": 635,
    "start_time": "2024-08-23T10:23:08.215Z"
   },
   {
    "duration": 18,
    "start_time": "2024-08-23T10:23:08.853Z"
   },
   {
    "duration": 662,
    "start_time": "2024-08-23T10:23:08.874Z"
   },
   {
    "duration": 439,
    "start_time": "2024-08-23T10:23:09.540Z"
   },
   {
    "duration": 673,
    "start_time": "2024-08-23T10:23:09.982Z"
   },
   {
    "duration": 604,
    "start_time": "2024-08-23T10:23:10.664Z"
   },
   {
    "duration": 664,
    "start_time": "2024-08-23T10:24:06.753Z"
   },
   {
    "duration": 170,
    "start_time": "2024-08-23T10:24:22.131Z"
   },
   {
    "duration": 21,
    "start_time": "2024-08-23T10:26:15.986Z"
   },
   {
    "duration": 321,
    "start_time": "2024-08-24T08:51:07.055Z"
   },
   {
    "duration": 1187,
    "start_time": "2024-08-24T08:51:20.786Z"
   },
   {
    "duration": 29,
    "start_time": "2024-08-24T08:51:21.977Z"
   },
   {
    "duration": 25,
    "start_time": "2024-08-24T08:51:22.008Z"
   },
   {
    "duration": 26,
    "start_time": "2024-08-24T08:51:22.037Z"
   },
   {
    "duration": 6,
    "start_time": "2024-08-24T08:51:22.065Z"
   },
   {
    "duration": 57,
    "start_time": "2024-08-24T08:51:22.075Z"
   },
   {
    "duration": 7,
    "start_time": "2024-08-24T08:51:22.134Z"
   },
   {
    "duration": 10,
    "start_time": "2024-08-24T08:51:22.144Z"
   },
   {
    "duration": 6,
    "start_time": "2024-08-24T08:51:22.157Z"
   },
   {
    "duration": 1001,
    "start_time": "2024-08-24T08:51:22.168Z"
   },
   {
    "duration": 9,
    "start_time": "2024-08-24T08:51:23.172Z"
   },
   {
    "duration": 73,
    "start_time": "2024-08-24T08:51:23.187Z"
   },
   {
    "duration": 4,
    "start_time": "2024-08-24T08:51:23.263Z"
   },
   {
    "duration": 235,
    "start_time": "2024-08-24T08:51:23.270Z"
   },
   {
    "duration": 96,
    "start_time": "2024-08-24T08:51:23.508Z"
   },
   {
    "duration": 17,
    "start_time": "2024-08-24T08:51:23.607Z"
   },
   {
    "duration": 9,
    "start_time": "2024-08-24T08:51:23.626Z"
   },
   {
    "duration": 26,
    "start_time": "2024-08-24T08:51:23.637Z"
   },
   {
    "duration": 672,
    "start_time": "2024-08-24T08:51:23.665Z"
   },
   {
    "duration": 23,
    "start_time": "2024-08-24T08:51:24.342Z"
   },
   {
    "duration": 164,
    "start_time": "2024-08-24T08:51:24.367Z"
   },
   {
    "duration": 363,
    "start_time": "2024-08-24T08:51:24.535Z"
   },
   {
    "duration": 615,
    "start_time": "2024-08-24T08:51:24.900Z"
   },
   {
    "duration": 18,
    "start_time": "2024-08-24T08:51:25.524Z"
   },
   {
    "duration": 662,
    "start_time": "2024-08-24T08:51:25.544Z"
   },
   {
    "duration": 423,
    "start_time": "2024-08-24T08:51:26.210Z"
   },
   {
    "duration": 680,
    "start_time": "2024-08-24T08:51:26.636Z"
   },
   {
    "duration": 24,
    "start_time": "2024-08-24T08:51:27.326Z"
   },
   {
    "duration": 668,
    "start_time": "2024-08-24T08:51:38.890Z"
   },
   {
    "duration": 668,
    "start_time": "2024-08-24T08:51:43.277Z"
   },
   {
    "duration": 689,
    "start_time": "2024-08-24T08:51:50.022Z"
   },
   {
    "duration": 684,
    "start_time": "2024-08-24T08:52:00.103Z"
   },
   {
    "duration": 661,
    "start_time": "2024-08-24T08:52:24.067Z"
   },
   {
    "duration": 1951,
    "start_time": "2024-08-24T08:52:38.801Z"
   },
   {
    "duration": 661,
    "start_time": "2024-08-24T08:53:04.129Z"
   },
   {
    "duration": 610,
    "start_time": "2024-08-24T08:53:24.390Z"
   },
   {
    "duration": 1205,
    "start_time": "2024-08-24T08:53:33.514Z"
   },
   {
    "duration": 25,
    "start_time": "2024-08-24T08:53:34.722Z"
   },
   {
    "duration": 17,
    "start_time": "2024-08-24T08:53:34.749Z"
   },
   {
    "duration": 23,
    "start_time": "2024-08-24T08:53:34.771Z"
   },
   {
    "duration": 6,
    "start_time": "2024-08-24T08:53:34.823Z"
   },
   {
    "duration": 25,
    "start_time": "2024-08-24T08:53:34.832Z"
   },
   {
    "duration": 7,
    "start_time": "2024-08-24T08:53:34.861Z"
   },
   {
    "duration": 51,
    "start_time": "2024-08-24T08:53:34.871Z"
   },
   {
    "duration": 6,
    "start_time": "2024-08-24T08:53:34.925Z"
   },
   {
    "duration": 993,
    "start_time": "2024-08-24T08:53:34.936Z"
   },
   {
    "duration": 10,
    "start_time": "2024-08-24T08:53:35.931Z"
   },
   {
    "duration": 56,
    "start_time": "2024-08-24T08:53:35.944Z"
   },
   {
    "duration": 4,
    "start_time": "2024-08-24T08:53:36.025Z"
   },
   {
    "duration": 222,
    "start_time": "2024-08-24T08:53:36.032Z"
   },
   {
    "duration": 96,
    "start_time": "2024-08-24T08:53:36.257Z"
   },
   {
    "duration": 9,
    "start_time": "2024-08-24T08:53:36.356Z"
   },
   {
    "duration": 8,
    "start_time": "2024-08-24T08:53:36.368Z"
   },
   {
    "duration": 49,
    "start_time": "2024-08-24T08:53:36.379Z"
   },
   {
    "duration": 644,
    "start_time": "2024-08-24T08:53:36.430Z"
   },
   {
    "duration": 46,
    "start_time": "2024-08-24T08:53:37.077Z"
   },
   {
    "duration": 113,
    "start_time": "2024-08-24T08:53:37.126Z"
   },
   {
    "duration": 355,
    "start_time": "2024-08-24T08:53:37.242Z"
   },
   {
    "duration": 615,
    "start_time": "2024-08-24T08:53:37.600Z"
   },
   {
    "duration": 19,
    "start_time": "2024-08-24T08:53:38.223Z"
   },
   {
    "duration": 657,
    "start_time": "2024-08-24T08:53:38.245Z"
   },
   {
    "duration": 423,
    "start_time": "2024-08-24T08:53:38.905Z"
   },
   {
    "duration": 633,
    "start_time": "2024-08-24T08:53:39.331Z"
   },
   {
    "duration": 22,
    "start_time": "2024-08-24T08:53:39.971Z"
   },
   {
    "duration": 338,
    "start_time": "2024-08-24T08:53:49.732Z"
   },
   {
    "duration": 214,
    "start_time": "2024-08-24T08:53:54.789Z"
   },
   {
    "duration": 165,
    "start_time": "2024-08-24T08:53:59.228Z"
   },
   {
    "duration": 611,
    "start_time": "2024-08-24T08:54:04.762Z"
   },
   {
    "duration": 610,
    "start_time": "2024-08-24T08:55:04.037Z"
   },
   {
    "duration": 605,
    "start_time": "2024-08-24T08:56:32.601Z"
   },
   {
    "duration": 604,
    "start_time": "2024-08-24T08:59:31.578Z"
   },
   {
    "duration": 19,
    "start_time": "2024-08-24T08:59:35.160Z"
   },
   {
    "duration": 517,
    "start_time": "2024-08-24T08:59:35.697Z"
   },
   {
    "duration": 416,
    "start_time": "2024-08-24T08:59:38.294Z"
   },
   {
    "duration": 612,
    "start_time": "2024-08-24T08:59:42.651Z"
   },
   {
    "duration": 615,
    "start_time": "2024-08-24T09:00:16.239Z"
   },
   {
    "duration": 423,
    "start_time": "2024-08-24T09:02:19.964Z"
   },
   {
    "duration": 404,
    "start_time": "2024-08-24T09:02:33.144Z"
   },
   {
    "duration": 456,
    "start_time": "2024-08-24T09:02:44.649Z"
   },
   {
    "duration": 469,
    "start_time": "2024-08-24T09:05:13.121Z"
   },
   {
    "duration": 917,
    "start_time": "2024-08-24T09:05:20.222Z"
   },
   {
    "duration": 1770,
    "start_time": "2024-08-24T09:05:37.880Z"
   },
   {
    "duration": 1186,
    "start_time": "2024-08-24T09:05:45.125Z"
   },
   {
    "duration": 22,
    "start_time": "2024-08-24T09:06:28.803Z"
   },
   {
    "duration": 943,
    "start_time": "2024-08-24T09:06:55.799Z"
   },
   {
    "duration": 1437,
    "start_time": "2024-08-24T09:07:02.513Z"
   },
   {
    "duration": 1190,
    "start_time": "2024-08-24T09:07:08.618Z"
   },
   {
    "duration": 1416,
    "start_time": "2024-08-24T09:07:21.927Z"
   },
   {
    "duration": 1726,
    "start_time": "2024-08-24T09:07:34.890Z"
   },
   {
    "duration": 1689,
    "start_time": "2024-08-24T09:07:41.559Z"
   },
   {
    "duration": 1707,
    "start_time": "2024-08-24T09:07:55.856Z"
   },
   {
    "duration": 1700,
    "start_time": "2024-08-24T09:08:03.898Z"
   },
   {
    "duration": 1704,
    "start_time": "2024-08-24T09:08:11.299Z"
   },
   {
    "duration": 1941,
    "start_time": "2024-08-24T09:08:25.630Z"
   },
   {
    "duration": 2433,
    "start_time": "2024-08-24T09:08:33.682Z"
   },
   {
    "duration": 1186,
    "start_time": "2024-08-24T09:09:43.116Z"
   },
   {
    "duration": 34,
    "start_time": "2024-08-24T09:09:44.307Z"
   },
   {
    "duration": 18,
    "start_time": "2024-08-24T09:09:44.344Z"
   },
   {
    "duration": 27,
    "start_time": "2024-08-24T09:09:44.366Z"
   },
   {
    "duration": 30,
    "start_time": "2024-08-24T09:09:44.396Z"
   },
   {
    "duration": 25,
    "start_time": "2024-08-24T09:09:44.429Z"
   },
   {
    "duration": 8,
    "start_time": "2024-08-24T09:09:44.457Z"
   },
   {
    "duration": 8,
    "start_time": "2024-08-24T09:09:44.467Z"
   },
   {
    "duration": 47,
    "start_time": "2024-08-24T09:09:44.478Z"
   },
   {
    "duration": 962,
    "start_time": "2024-08-24T09:09:44.532Z"
   },
   {
    "duration": 26,
    "start_time": "2024-08-24T09:09:45.497Z"
   },
   {
    "duration": 57,
    "start_time": "2024-08-24T09:09:45.526Z"
   },
   {
    "duration": 4,
    "start_time": "2024-08-24T09:09:45.586Z"
   },
   {
    "duration": 236,
    "start_time": "2024-08-24T09:09:45.593Z"
   },
   {
    "duration": 99,
    "start_time": "2024-08-24T09:09:45.832Z"
   },
   {
    "duration": 9,
    "start_time": "2024-08-24T09:09:45.935Z"
   },
   {
    "duration": 9,
    "start_time": "2024-08-24T09:09:45.947Z"
   },
   {
    "duration": 65,
    "start_time": "2024-08-24T09:09:45.958Z"
   },
   {
    "duration": 615,
    "start_time": "2024-08-24T09:09:46.026Z"
   },
   {
    "duration": 36,
    "start_time": "2024-08-24T09:09:46.645Z"
   },
   {
    "duration": 152,
    "start_time": "2024-08-24T09:09:46.684Z"
   },
   {
    "duration": 363,
    "start_time": "2024-08-24T09:09:46.838Z"
   },
   {
    "duration": 622,
    "start_time": "2024-08-24T09:09:47.204Z"
   },
   {
    "duration": 22,
    "start_time": "2024-08-24T09:09:47.829Z"
   },
   {
    "duration": 650,
    "start_time": "2024-08-24T09:09:47.855Z"
   },
   {
    "duration": 464,
    "start_time": "2024-08-24T09:09:48.507Z"
   },
   {
    "duration": 2464,
    "start_time": "2024-08-24T09:09:48.973Z"
   },
   {
    "duration": 25,
    "start_time": "2024-08-24T09:09:51.444Z"
   },
   {
    "duration": 604,
    "start_time": "2024-08-24T09:11:07.535Z"
   },
   {
    "duration": 1192,
    "start_time": "2024-08-24T09:13:14.359Z"
   },
   {
    "duration": 1253,
    "start_time": "2024-08-24T09:13:53.389Z"
   },
   {
    "duration": 1144,
    "start_time": "2024-08-24T09:14:05.343Z"
   },
   {
    "duration": 1188,
    "start_time": "2024-08-24T09:14:13.378Z"
   },
   {
    "duration": 1100,
    "start_time": "2024-08-24T09:14:20.244Z"
   },
   {
    "duration": 1302,
    "start_time": "2024-08-24T09:14:27.537Z"
   },
   {
    "duration": 1188,
    "start_time": "2024-08-24T09:14:36.720Z"
   },
   {
    "duration": 1198,
    "start_time": "2024-08-24T09:14:56.924Z"
   },
   {
    "duration": 1180,
    "start_time": "2024-08-24T09:15:03.966Z"
   },
   {
    "duration": 1181,
    "start_time": "2024-08-24T09:15:13.788Z"
   },
   {
    "duration": 1197,
    "start_time": "2024-08-24T09:15:20.987Z"
   },
   {
    "duration": 1196,
    "start_time": "2024-08-24T09:15:26.772Z"
   },
   {
    "duration": 1329,
    "start_time": "2024-08-24T09:15:39.655Z"
   },
   {
    "duration": 23,
    "start_time": "2024-08-24T09:17:13.777Z"
   },
   {
    "duration": 22,
    "start_time": "2024-08-24T09:34:34.483Z"
   },
   {
    "duration": 313,
    "start_time": "2024-08-26T20:19:02.599Z"
   },
   {
    "duration": 1247,
    "start_time": "2024-08-26T20:19:10.148Z"
   },
   {
    "duration": 37,
    "start_time": "2024-08-26T20:19:11.398Z"
   },
   {
    "duration": 18,
    "start_time": "2024-08-26T20:19:11.438Z"
   },
   {
    "duration": 26,
    "start_time": "2024-08-26T20:19:11.460Z"
   },
   {
    "duration": 6,
    "start_time": "2024-08-26T20:19:11.497Z"
   },
   {
    "duration": 19,
    "start_time": "2024-08-26T20:19:11.534Z"
   },
   {
    "duration": 30,
    "start_time": "2024-08-26T20:19:11.556Z"
   },
   {
    "duration": 43,
    "start_time": "2024-08-26T20:19:11.592Z"
   },
   {
    "duration": 7,
    "start_time": "2024-08-26T20:19:11.639Z"
   },
   {
    "duration": 5,
    "start_time": "2024-08-26T20:19:11.649Z"
   },
   {
    "duration": 1233,
    "start_time": "2024-08-26T20:19:11.657Z"
   },
   {
    "duration": 23,
    "start_time": "2024-08-26T20:19:12.894Z"
   },
   {
    "duration": 82,
    "start_time": "2024-08-26T20:19:12.920Z"
   },
   {
    "duration": 4,
    "start_time": "2024-08-26T20:19:13.009Z"
   },
   {
    "duration": 288,
    "start_time": "2024-08-26T20:19:13.033Z"
   },
   {
    "duration": 134,
    "start_time": "2024-08-26T20:19:13.325Z"
   },
   {
    "duration": 13,
    "start_time": "2024-08-26T20:19:13.463Z"
   },
   {
    "duration": 13,
    "start_time": "2024-08-26T20:19:13.480Z"
   },
   {
    "duration": 52,
    "start_time": "2024-08-26T20:19:13.496Z"
   },
   {
    "duration": 686,
    "start_time": "2024-08-26T20:19:13.551Z"
   },
   {
    "duration": 23,
    "start_time": "2024-08-26T20:19:14.240Z"
   },
   {
    "duration": 168,
    "start_time": "2024-08-26T20:19:14.266Z"
   },
   {
    "duration": 318,
    "start_time": "2024-08-26T20:19:14.436Z"
   },
   {
    "duration": 1433,
    "start_time": "2024-08-26T20:19:14.758Z"
   },
   {
    "duration": 38,
    "start_time": "2024-08-26T20:19:16.197Z"
   },
   {
    "duration": 1152,
    "start_time": "2024-08-26T20:19:28.514Z"
   },
   {
    "duration": 8,
    "start_time": "2024-08-26T20:21:57.432Z"
   },
   {
    "duration": 70,
    "start_time": "2024-08-26T20:24:17.659Z"
   },
   {
    "duration": 1777,
    "start_time": "2024-08-26T20:24:18.436Z"
   },
   {
    "duration": 77,
    "start_time": "2024-08-26T20:24:28.683Z"
   },
   {
    "duration": 1191,
    "start_time": "2024-08-26T20:26:07.487Z"
   },
   {
    "duration": 29,
    "start_time": "2024-08-26T20:26:08.682Z"
   },
   {
    "duration": 44,
    "start_time": "2024-08-26T20:26:08.715Z"
   },
   {
    "duration": 24,
    "start_time": "2024-08-26T20:26:08.764Z"
   },
   {
    "duration": 5,
    "start_time": "2024-08-26T20:26:08.792Z"
   },
   {
    "duration": 34,
    "start_time": "2024-08-26T20:26:08.800Z"
   },
   {
    "duration": 9,
    "start_time": "2024-08-26T20:26:08.837Z"
   },
   {
    "duration": 6,
    "start_time": "2024-08-26T20:26:08.849Z"
   },
   {
    "duration": 25,
    "start_time": "2024-08-26T20:26:08.859Z"
   },
   {
    "duration": 46,
    "start_time": "2024-08-26T20:26:08.889Z"
   },
   {
    "duration": 8,
    "start_time": "2024-08-26T20:26:08.938Z"
   },
   {
    "duration": 6,
    "start_time": "2024-08-26T20:26:08.949Z"
   },
   {
    "duration": 1103,
    "start_time": "2024-08-26T20:26:08.959Z"
   },
   {
    "duration": 0,
    "start_time": "2024-08-26T20:26:10.065Z"
   },
   {
    "duration": 0,
    "start_time": "2024-08-26T20:26:10.068Z"
   },
   {
    "duration": 0,
    "start_time": "2024-08-26T20:26:10.071Z"
   },
   {
    "duration": 0,
    "start_time": "2024-08-26T20:26:10.072Z"
   },
   {
    "duration": 0,
    "start_time": "2024-08-26T20:26:10.074Z"
   },
   {
    "duration": 0,
    "start_time": "2024-08-26T20:26:10.078Z"
   },
   {
    "duration": 1,
    "start_time": "2024-08-26T20:26:10.079Z"
   },
   {
    "duration": 0,
    "start_time": "2024-08-26T20:26:10.082Z"
   },
   {
    "duration": 0,
    "start_time": "2024-08-26T20:26:10.083Z"
   },
   {
    "duration": 0,
    "start_time": "2024-08-26T20:26:10.085Z"
   },
   {
    "duration": 0,
    "start_time": "2024-08-26T20:26:10.087Z"
   },
   {
    "duration": 0,
    "start_time": "2024-08-26T20:26:10.089Z"
   },
   {
    "duration": 0,
    "start_time": "2024-08-26T20:26:10.091Z"
   },
   {
    "duration": 0,
    "start_time": "2024-08-26T20:26:10.134Z"
   },
   {
    "duration": 8,
    "start_time": "2024-08-26T20:27:10.664Z"
   },
   {
    "duration": 10,
    "start_time": "2024-08-26T20:27:13.282Z"
   },
   {
    "duration": 23,
    "start_time": "2024-08-26T20:28:32.641Z"
   },
   {
    "duration": 65,
    "start_time": "2024-08-26T20:28:39.904Z"
   },
   {
    "duration": 1208,
    "start_time": "2024-08-26T20:28:54.113Z"
   },
   {
    "duration": 24,
    "start_time": "2024-08-26T20:28:55.324Z"
   },
   {
    "duration": 21,
    "start_time": "2024-08-26T20:28:55.351Z"
   },
   {
    "duration": 24,
    "start_time": "2024-08-26T20:28:55.376Z"
   },
   {
    "duration": 5,
    "start_time": "2024-08-26T20:28:55.434Z"
   },
   {
    "duration": 7,
    "start_time": "2024-08-26T20:28:55.443Z"
   },
   {
    "duration": 6,
    "start_time": "2024-08-26T20:28:55.454Z"
   },
   {
    "duration": 5,
    "start_time": "2024-08-26T20:28:55.464Z"
   },
   {
    "duration": 69,
    "start_time": "2024-08-26T20:28:55.472Z"
   },
   {
    "duration": 6,
    "start_time": "2024-08-26T20:28:55.548Z"
   },
   {
    "duration": 7,
    "start_time": "2024-08-26T20:28:55.557Z"
   },
   {
    "duration": 6,
    "start_time": "2024-08-26T20:28:55.567Z"
   },
   {
    "duration": 65,
    "start_time": "2024-08-26T20:28:55.577Z"
   },
   {
    "duration": 7,
    "start_time": "2024-08-26T20:28:55.645Z"
   },
   {
    "duration": 6,
    "start_time": "2024-08-26T20:28:55.655Z"
   },
   {
    "duration": 4,
    "start_time": "2024-08-26T20:28:55.664Z"
   },
   {
    "duration": 7,
    "start_time": "2024-08-26T20:28:55.671Z"
   },
   {
    "duration": 52,
    "start_time": "2024-08-26T20:28:55.681Z"
   },
   {
    "duration": 8,
    "start_time": "2024-08-26T20:28:55.736Z"
   },
   {
    "duration": 8,
    "start_time": "2024-08-26T20:28:55.748Z"
   },
   {
    "duration": 73,
    "start_time": "2024-08-26T20:28:55.760Z"
   },
   {
    "duration": 618,
    "start_time": "2024-08-26T20:28:55.835Z"
   },
   {
    "duration": 24,
    "start_time": "2024-08-26T20:28:56.456Z"
   },
   {
    "duration": 154,
    "start_time": "2024-08-26T20:28:56.490Z"
   },
   {
    "duration": 375,
    "start_time": "2024-08-26T20:28:56.647Z"
   },
   {
    "duration": 1325,
    "start_time": "2024-08-26T20:28:57.025Z"
   },
   {
    "duration": 34,
    "start_time": "2024-08-26T20:28:58.353Z"
   },
   {
    "duration": 5,
    "start_time": "2024-08-26T20:30:44.631Z"
   },
   {
    "duration": 9,
    "start_time": "2024-08-26T20:39:31.355Z"
   },
   {
    "duration": 28,
    "start_time": "2024-08-26T20:40:31.763Z"
   },
   {
    "duration": 438,
    "start_time": "2024-08-26T20:40:34.353Z"
   },
   {
    "duration": 1302,
    "start_time": "2024-08-26T20:44:16.907Z"
   },
   {
    "duration": 32,
    "start_time": "2024-08-26T21:03:12.771Z"
   },
   {
    "duration": 26,
    "start_time": "2024-08-26T21:04:08.826Z"
   },
   {
    "duration": 24,
    "start_time": "2024-08-26T21:04:15.999Z"
   },
   {
    "duration": 66,
    "start_time": "2024-08-26T21:04:37.323Z"
   },
   {
    "duration": 443,
    "start_time": "2024-08-26T21:06:39.279Z"
   },
   {
    "duration": 611,
    "start_time": "2024-08-26T21:07:04.788Z"
   },
   {
    "duration": 450,
    "start_time": "2024-08-26T21:07:19.475Z"
   },
   {
    "duration": 622,
    "start_time": "2024-08-26T21:07:32.830Z"
   },
   {
    "duration": 623,
    "start_time": "2024-08-26T21:08:54.035Z"
   },
   {
    "duration": 199,
    "start_time": "2024-08-26T21:09:07.340Z"
   },
   {
    "duration": 65,
    "start_time": "2024-08-26T21:10:14.494Z"
   },
   {
    "duration": 194,
    "start_time": "2024-08-26T21:10:34.291Z"
   },
   {
    "duration": 864,
    "start_time": "2024-08-26T21:12:14.049Z"
   },
   {
    "duration": 857,
    "start_time": "2024-08-26T21:16:11.537Z"
   },
   {
    "duration": 867,
    "start_time": "2024-08-26T21:16:29.801Z"
   },
   {
    "duration": 1140,
    "start_time": "2024-08-26T21:18:33.674Z"
   },
   {
    "duration": 32,
    "start_time": "2024-08-26T21:18:34.817Z"
   },
   {
    "duration": 18,
    "start_time": "2024-08-26T21:18:34.851Z"
   },
   {
    "duration": 24,
    "start_time": "2024-08-26T21:18:34.873Z"
   },
   {
    "duration": 5,
    "start_time": "2024-08-26T21:18:34.900Z"
   },
   {
    "duration": 8,
    "start_time": "2024-08-26T21:18:34.934Z"
   },
   {
    "duration": 7,
    "start_time": "2024-08-26T21:18:34.944Z"
   },
   {
    "duration": 5,
    "start_time": "2024-08-26T21:18:34.954Z"
   },
   {
    "duration": 25,
    "start_time": "2024-08-26T21:18:34.963Z"
   },
   {
    "duration": 6,
    "start_time": "2024-08-26T21:18:35.034Z"
   },
   {
    "duration": 7,
    "start_time": "2024-08-26T21:18:35.043Z"
   },
   {
    "duration": 5,
    "start_time": "2024-08-26T21:18:35.053Z"
   },
   {
    "duration": 23,
    "start_time": "2024-08-26T21:18:35.062Z"
   },
   {
    "duration": 49,
    "start_time": "2024-08-26T21:18:35.088Z"
   },
   {
    "duration": 5,
    "start_time": "2024-08-26T21:18:35.140Z"
   },
   {
    "duration": 4,
    "start_time": "2024-08-26T21:18:35.148Z"
   },
   {
    "duration": 7,
    "start_time": "2024-08-26T21:18:35.155Z"
   },
   {
    "duration": 6,
    "start_time": "2024-08-26T21:18:35.166Z"
   },
   {
    "duration": 60,
    "start_time": "2024-08-26T21:18:35.176Z"
   },
   {
    "duration": 9,
    "start_time": "2024-08-26T21:18:35.239Z"
   },
   {
    "duration": 30,
    "start_time": "2024-08-26T21:18:35.252Z"
   },
   {
    "duration": 540,
    "start_time": "2024-08-26T21:18:35.334Z"
   },
   {
    "duration": 27,
    "start_time": "2024-08-26T21:18:35.878Z"
   },
   {
    "duration": 102,
    "start_time": "2024-08-26T21:18:35.934Z"
   },
   {
    "duration": 213,
    "start_time": "2024-08-26T21:18:36.039Z"
   },
   {
    "duration": 346,
    "start_time": "2024-08-26T21:18:36.256Z"
   },
   {
    "duration": 622,
    "start_time": "2024-08-26T21:18:36.605Z"
   },
   {
    "duration": 886,
    "start_time": "2024-08-26T21:18:37.237Z"
   },
   {
    "duration": 899,
    "start_time": "2024-08-26T21:18:38.134Z"
   },
   {
    "duration": 25,
    "start_time": "2024-08-26T21:18:39.036Z"
   },
   {
    "duration": 219,
    "start_time": "2024-08-26T21:19:26.855Z"
   },
   {
    "duration": 27,
    "start_time": "2024-08-26T21:20:07.237Z"
   },
   {
    "duration": 1165,
    "start_time": "2024-08-26T21:21:04.673Z"
   },
   {
    "duration": 24,
    "start_time": "2024-08-26T21:21:05.842Z"
   },
   {
    "duration": 19,
    "start_time": "2024-08-26T21:21:05.869Z"
   },
   {
    "duration": 50,
    "start_time": "2024-08-26T21:21:05.893Z"
   },
   {
    "duration": 6,
    "start_time": "2024-08-26T21:21:05.946Z"
   },
   {
    "duration": 8,
    "start_time": "2024-08-26T21:21:05.956Z"
   },
   {
    "duration": 8,
    "start_time": "2024-08-26T21:21:05.968Z"
   },
   {
    "duration": 6,
    "start_time": "2024-08-26T21:21:05.983Z"
   },
   {
    "duration": 25,
    "start_time": "2024-08-26T21:21:06.034Z"
   },
   {
    "duration": 6,
    "start_time": "2024-08-26T21:21:06.065Z"
   },
   {
    "duration": 8,
    "start_time": "2024-08-26T21:21:06.074Z"
   },
   {
    "duration": 5,
    "start_time": "2024-08-26T21:21:06.085Z"
   },
   {
    "duration": 25,
    "start_time": "2024-08-26T21:21:06.134Z"
   },
   {
    "duration": 8,
    "start_time": "2024-08-26T21:21:06.161Z"
   },
   {
    "duration": 5,
    "start_time": "2024-08-26T21:21:06.173Z"
   },
   {
    "duration": 4,
    "start_time": "2024-08-26T21:21:06.182Z"
   },
   {
    "duration": 47,
    "start_time": "2024-08-26T21:21:06.190Z"
   },
   {
    "duration": 7,
    "start_time": "2024-08-26T21:21:06.241Z"
   },
   {
    "duration": 10,
    "start_time": "2024-08-26T21:21:06.250Z"
   },
   {
    "duration": 8,
    "start_time": "2024-08-26T21:21:06.263Z"
   },
   {
    "duration": 74,
    "start_time": "2024-08-26T21:21:06.273Z"
   },
   {
    "duration": 596,
    "start_time": "2024-08-26T21:21:06.349Z"
   },
   {
    "duration": 28,
    "start_time": "2024-08-26T21:21:06.948Z"
   },
   {
    "duration": 154,
    "start_time": "2024-08-26T21:21:06.980Z"
   },
   {
    "duration": 144,
    "start_time": "2024-08-26T21:21:07.137Z"
   },
   {
    "duration": 327,
    "start_time": "2024-08-26T21:21:07.283Z"
   },
   {
    "duration": 630,
    "start_time": "2024-08-26T21:21:07.613Z"
   },
   {
    "duration": 886,
    "start_time": "2024-08-26T21:21:08.249Z"
   },
   {
    "duration": 425,
    "start_time": "2024-08-26T21:21:09.138Z"
   },
   {
    "duration": 0,
    "start_time": "2024-08-26T21:21:09.566Z"
   },
   {
    "duration": 0,
    "start_time": "2024-08-26T21:21:09.570Z"
   },
   {
    "duration": 27,
    "start_time": "2024-08-26T21:21:34.834Z"
   },
   {
    "duration": 917,
    "start_time": "2024-08-26T21:21:38.525Z"
   },
   {
    "duration": 1149,
    "start_time": "2024-08-26T21:24:10.359Z"
   },
   {
    "duration": 34,
    "start_time": "2024-08-26T21:24:11.511Z"
   },
   {
    "duration": 21,
    "start_time": "2024-08-26T21:24:11.548Z"
   },
   {
    "duration": 25,
    "start_time": "2024-08-26T21:24:11.577Z"
   },
   {
    "duration": 31,
    "start_time": "2024-08-26T21:24:11.604Z"
   },
   {
    "duration": 7,
    "start_time": "2024-08-26T21:24:11.639Z"
   },
   {
    "duration": 6,
    "start_time": "2024-08-26T21:24:11.649Z"
   },
   {
    "duration": 6,
    "start_time": "2024-08-26T21:24:11.659Z"
   },
   {
    "duration": 69,
    "start_time": "2024-08-26T21:24:11.668Z"
   },
   {
    "duration": 6,
    "start_time": "2024-08-26T21:24:11.744Z"
   },
   {
    "duration": 8,
    "start_time": "2024-08-26T21:24:11.753Z"
   },
   {
    "duration": 9,
    "start_time": "2024-08-26T21:24:11.764Z"
   },
   {
    "duration": 62,
    "start_time": "2024-08-26T21:24:11.775Z"
   },
   {
    "duration": 8,
    "start_time": "2024-08-26T21:24:11.840Z"
   },
   {
    "duration": 5,
    "start_time": "2024-08-26T21:24:11.851Z"
   },
   {
    "duration": 4,
    "start_time": "2024-08-26T21:24:11.860Z"
   },
   {
    "duration": 7,
    "start_time": "2024-08-26T21:24:11.867Z"
   },
   {
    "duration": 6,
    "start_time": "2024-08-26T21:24:11.880Z"
   },
   {
    "duration": 8,
    "start_time": "2024-08-26T21:24:11.932Z"
   },
   {
    "duration": 8,
    "start_time": "2024-08-26T21:24:11.944Z"
   },
   {
    "duration": 75,
    "start_time": "2024-08-26T21:24:11.957Z"
   },
   {
    "duration": 527,
    "start_time": "2024-08-26T21:24:12.034Z"
   },
   {
    "duration": 71,
    "start_time": "2024-08-26T21:24:12.564Z"
   },
   {
    "duration": 106,
    "start_time": "2024-08-26T21:24:12.637Z"
   },
   {
    "duration": 217,
    "start_time": "2024-08-26T21:24:12.746Z"
   },
   {
    "duration": 324,
    "start_time": "2024-08-26T21:24:12.971Z"
   },
   {
    "duration": 628,
    "start_time": "2024-08-26T21:24:13.298Z"
   },
   {
    "duration": 870,
    "start_time": "2024-08-26T21:24:13.938Z"
   },
   {
    "duration": 508,
    "start_time": "2024-08-26T21:24:14.811Z"
   },
   {
    "duration": 0,
    "start_time": "2024-08-26T21:24:15.322Z"
   },
   {
    "duration": 0,
    "start_time": "2024-08-26T21:24:15.324Z"
   },
   {
    "duration": 470,
    "start_time": "2024-08-26T21:24:30.225Z"
   },
   {
    "duration": 1185,
    "start_time": "2024-08-26T21:28:05.991Z"
   },
   {
    "duration": 25,
    "start_time": "2024-08-26T21:28:07.179Z"
   },
   {
    "duration": 33,
    "start_time": "2024-08-26T21:28:07.207Z"
   },
   {
    "duration": 24,
    "start_time": "2024-08-26T21:28:07.243Z"
   },
   {
    "duration": 6,
    "start_time": "2024-08-26T21:28:07.272Z"
   },
   {
    "duration": 8,
    "start_time": "2024-08-26T21:28:07.281Z"
   },
   {
    "duration": 43,
    "start_time": "2024-08-26T21:28:07.292Z"
   },
   {
    "duration": 6,
    "start_time": "2024-08-26T21:28:07.338Z"
   },
   {
    "duration": 29,
    "start_time": "2024-08-26T21:28:07.347Z"
   },
   {
    "duration": 6,
    "start_time": "2024-08-26T21:28:07.380Z"
   },
   {
    "duration": 48,
    "start_time": "2024-08-26T21:28:07.389Z"
   },
   {
    "duration": 6,
    "start_time": "2024-08-26T21:28:07.440Z"
   },
   {
    "duration": 25,
    "start_time": "2024-08-26T21:28:07.449Z"
   },
   {
    "duration": 7,
    "start_time": "2024-08-26T21:28:07.480Z"
   },
   {
    "duration": 45,
    "start_time": "2024-08-26T21:28:07.490Z"
   },
   {
    "duration": 4,
    "start_time": "2024-08-26T21:28:07.538Z"
   },
   {
    "duration": 7,
    "start_time": "2024-08-26T21:28:07.546Z"
   },
   {
    "duration": 7,
    "start_time": "2024-08-26T21:28:07.556Z"
   },
   {
    "duration": 9,
    "start_time": "2024-08-26T21:28:07.566Z"
   },
   {
    "duration": 56,
    "start_time": "2024-08-26T21:28:07.578Z"
   },
   {
    "duration": 28,
    "start_time": "2024-08-26T21:28:07.637Z"
   },
   {
    "duration": 586,
    "start_time": "2024-08-26T21:28:07.667Z"
   },
   {
    "duration": 32,
    "start_time": "2024-08-26T21:28:08.256Z"
   },
   {
    "duration": 143,
    "start_time": "2024-08-26T21:28:08.290Z"
   },
   {
    "duration": 145,
    "start_time": "2024-08-26T21:28:08.437Z"
   },
   {
    "duration": 310,
    "start_time": "2024-08-26T21:28:08.585Z"
   },
   {
    "duration": 642,
    "start_time": "2024-08-26T21:28:08.898Z"
   },
   {
    "duration": 890,
    "start_time": "2024-08-26T21:28:09.543Z"
   },
   {
    "duration": 249,
    "start_time": "2024-08-26T21:28:10.435Z"
   },
   {
    "duration": 29108,
    "start_time": "2024-08-26T21:28:10.688Z"
   },
   {
    "duration": 0,
    "start_time": "2024-08-26T21:28:39.802Z"
   },
   {
    "duration": 0,
    "start_time": "2024-08-26T21:28:39.804Z"
   },
   {
    "duration": 24,
    "start_time": "2024-08-26T21:28:40.446Z"
   },
   {
    "duration": 18784,
    "start_time": "2024-08-26T21:29:08.915Z"
   },
   {
    "duration": 240,
    "start_time": "2024-08-26T21:29:33.205Z"
   },
   {
    "duration": 821,
    "start_time": "2024-08-26T21:29:39.471Z"
   },
   {
    "duration": 678,
    "start_time": "2024-08-26T21:29:43.897Z"
   },
   {
    "duration": 655,
    "start_time": "2024-08-26T21:29:50.260Z"
   },
   {
    "duration": 10,
    "start_time": "2024-08-26T21:30:05.293Z"
   },
   {
    "duration": 646,
    "start_time": "2024-08-26T21:30:12.158Z"
   },
   {
    "duration": 119,
    "start_time": "2024-08-26T21:30:18.587Z"
   },
   {
    "duration": 1157,
    "start_time": "2024-08-26T21:30:33.258Z"
   },
   {
    "duration": 33,
    "start_time": "2024-08-26T21:30:34.418Z"
   },
   {
    "duration": 18,
    "start_time": "2024-08-26T21:30:34.453Z"
   },
   {
    "duration": 23,
    "start_time": "2024-08-26T21:30:34.476Z"
   },
   {
    "duration": 33,
    "start_time": "2024-08-26T21:30:34.503Z"
   },
   {
    "duration": 7,
    "start_time": "2024-08-26T21:30:34.541Z"
   },
   {
    "duration": 6,
    "start_time": "2024-08-26T21:30:34.551Z"
   },
   {
    "duration": 7,
    "start_time": "2024-08-26T21:30:34.560Z"
   },
   {
    "duration": 66,
    "start_time": "2024-08-26T21:30:34.572Z"
   },
   {
    "duration": 7,
    "start_time": "2024-08-26T21:30:34.643Z"
   },
   {
    "duration": 9,
    "start_time": "2024-08-26T21:30:34.653Z"
   },
   {
    "duration": 5,
    "start_time": "2024-08-26T21:30:34.665Z"
   },
   {
    "duration": 61,
    "start_time": "2024-08-26T21:30:34.674Z"
   },
   {
    "duration": 8,
    "start_time": "2024-08-26T21:30:34.739Z"
   },
   {
    "duration": 5,
    "start_time": "2024-08-26T21:30:34.751Z"
   },
   {
    "duration": 4,
    "start_time": "2024-08-26T21:30:34.759Z"
   },
   {
    "duration": 9,
    "start_time": "2024-08-26T21:30:34.766Z"
   },
   {
    "duration": 54,
    "start_time": "2024-08-26T21:30:34.778Z"
   },
   {
    "duration": 9,
    "start_time": "2024-08-26T21:30:34.835Z"
   },
   {
    "duration": 8,
    "start_time": "2024-08-26T21:30:34.847Z"
   },
   {
    "duration": 76,
    "start_time": "2024-08-26T21:30:34.860Z"
   },
   {
    "duration": 531,
    "start_time": "2024-08-26T21:30:34.942Z"
   },
   {
    "duration": 33,
    "start_time": "2024-08-26T21:30:35.477Z"
   },
   {
    "duration": 105,
    "start_time": "2024-08-26T21:30:35.534Z"
   },
   {
    "duration": 219,
    "start_time": "2024-08-26T21:30:35.642Z"
   },
   {
    "duration": 333,
    "start_time": "2024-08-26T21:30:35.864Z"
   },
   {
    "duration": 621,
    "start_time": "2024-08-26T21:30:36.201Z"
   },
   {
    "duration": 875,
    "start_time": "2024-08-26T21:30:36.835Z"
   },
   {
    "duration": 121,
    "start_time": "2024-08-26T21:30:37.713Z"
   },
   {
    "duration": 24,
    "start_time": "2024-08-26T21:30:37.837Z"
   },
   {
    "duration": 654,
    "start_time": "2024-08-26T21:30:48.879Z"
   },
   {
    "duration": 503,
    "start_time": "2024-08-26T21:30:55.867Z"
   },
   {
    "duration": 7,
    "start_time": "2024-08-26T21:31:10.851Z"
   },
   {
    "duration": 507,
    "start_time": "2024-08-26T21:31:14.656Z"
   },
   {
    "duration": 131,
    "start_time": "2024-08-26T21:31:21.027Z"
   },
   {
    "duration": 97,
    "start_time": "2024-08-26T21:31:49.380Z"
   },
   {
    "duration": 128,
    "start_time": "2024-08-26T21:32:04.356Z"
   },
   {
    "duration": 69,
    "start_time": "2024-08-26T21:32:09.293Z"
   },
   {
    "duration": 68,
    "start_time": "2024-08-26T21:32:51.109Z"
   },
   {
    "duration": 429,
    "start_time": "2024-08-26T21:36:08.570Z"
   },
   {
    "duration": 30,
    "start_time": "2024-08-26T21:36:31.645Z"
   },
   {
    "duration": 29,
    "start_time": "2024-08-26T21:36:55.800Z"
   },
   {
    "duration": 1203,
    "start_time": "2024-08-26T21:37:08.239Z"
   },
   {
    "duration": 31,
    "start_time": "2024-08-26T21:37:09.446Z"
   },
   {
    "duration": 20,
    "start_time": "2024-08-26T21:37:09.480Z"
   },
   {
    "duration": 50,
    "start_time": "2024-08-26T21:37:09.505Z"
   },
   {
    "duration": 5,
    "start_time": "2024-08-26T21:37:09.558Z"
   },
   {
    "duration": 7,
    "start_time": "2024-08-26T21:37:09.567Z"
   },
   {
    "duration": 6,
    "start_time": "2024-08-26T21:37:09.577Z"
   },
   {
    "duration": 6,
    "start_time": "2024-08-26T21:37:09.586Z"
   },
   {
    "duration": 28,
    "start_time": "2024-08-26T21:37:09.634Z"
   },
   {
    "duration": 7,
    "start_time": "2024-08-26T21:37:09.667Z"
   },
   {
    "duration": 8,
    "start_time": "2024-08-26T21:37:09.677Z"
   },
   {
    "duration": 5,
    "start_time": "2024-08-26T21:37:09.688Z"
   },
   {
    "duration": 29,
    "start_time": "2024-08-26T21:37:09.732Z"
   },
   {
    "duration": 8,
    "start_time": "2024-08-26T21:37:09.764Z"
   },
   {
    "duration": 5,
    "start_time": "2024-08-26T21:37:09.776Z"
   },
   {
    "duration": 4,
    "start_time": "2024-08-26T21:37:09.784Z"
   },
   {
    "duration": 9,
    "start_time": "2024-08-26T21:37:09.834Z"
   },
   {
    "duration": 6,
    "start_time": "2024-08-26T21:37:09.846Z"
   },
   {
    "duration": 9,
    "start_time": "2024-08-26T21:37:09.855Z"
   },
   {
    "duration": 8,
    "start_time": "2024-08-26T21:37:09.867Z"
   },
   {
    "duration": 68,
    "start_time": "2024-08-26T21:37:09.878Z"
   },
   {
    "duration": 600,
    "start_time": "2024-08-26T21:37:09.948Z"
   },
   {
    "duration": 82,
    "start_time": "2024-08-26T21:37:10.552Z"
   },
   {
    "duration": 108,
    "start_time": "2024-08-26T21:37:10.637Z"
   },
   {
    "duration": 213,
    "start_time": "2024-08-26T21:37:10.753Z"
   },
   {
    "duration": 329,
    "start_time": "2024-08-26T21:37:10.970Z"
   },
   {
    "duration": 631,
    "start_time": "2024-08-26T21:37:11.302Z"
   },
   {
    "duration": 870,
    "start_time": "2024-08-26T21:37:11.940Z"
   },
   {
    "duration": 82,
    "start_time": "2024-08-26T21:37:12.814Z"
   },
   {
    "duration": 37,
    "start_time": "2024-08-26T21:37:12.898Z"
   },
   {
    "duration": 414,
    "start_time": "2024-08-26T21:37:12.938Z"
   },
   {
    "duration": 0,
    "start_time": "2024-08-26T21:37:13.355Z"
   },
   {
    "duration": 0,
    "start_time": "2024-08-26T21:37:13.357Z"
   },
   {
    "duration": 0,
    "start_time": "2024-08-26T21:37:13.360Z"
   },
   {
    "duration": 24,
    "start_time": "2024-08-26T21:40:18.423Z"
   },
   {
    "duration": 6,
    "start_time": "2024-08-26T21:40:38.761Z"
   },
   {
    "duration": 6,
    "start_time": "2024-08-26T21:40:43.755Z"
   },
   {
    "duration": 11,
    "start_time": "2024-08-26T21:40:46.292Z"
   },
   {
    "duration": 4086,
    "start_time": "2024-08-26T21:40:48.450Z"
   },
   {
    "duration": 3717,
    "start_time": "2024-08-26T21:41:12.286Z"
   },
   {
    "duration": 39,
    "start_time": "2024-08-26T21:42:45.284Z"
   },
   {
    "duration": 186367,
    "start_time": "2024-08-26T21:44:01.482Z"
   },
   {
    "duration": 0,
    "start_time": "2024-08-26T21:47:07.852Z"
   },
   {
    "duration": 32,
    "start_time": "2024-08-26T21:47:14.397Z"
   },
   {
    "duration": 2405,
    "start_time": "2024-08-26T21:47:27.615Z"
   },
   {
    "duration": 4196,
    "start_time": "2024-08-26T21:47:38.184Z"
   },
   {
    "duration": 4190,
    "start_time": "2024-08-26T21:48:44.638Z"
   },
   {
    "duration": 3467,
    "start_time": "2024-08-26T21:49:03.982Z"
   },
   {
    "duration": 864,
    "start_time": "2024-08-26T21:49:22.173Z"
   },
   {
    "duration": 528,
    "start_time": "2024-08-26T21:50:23.296Z"
   },
   {
    "duration": 538,
    "start_time": "2024-08-26T21:52:57.298Z"
   },
   {
    "duration": 633,
    "start_time": "2024-08-26T21:53:13.349Z"
   },
   {
    "duration": 796,
    "start_time": "2024-08-26T21:53:24.203Z"
   },
   {
    "duration": 782,
    "start_time": "2024-08-26T21:54:07.426Z"
   },
   {
    "duration": 485,
    "start_time": "2024-08-26T21:54:15.958Z"
   },
   {
    "duration": 816,
    "start_time": "2024-08-26T21:54:20.588Z"
   },
   {
    "duration": 799,
    "start_time": "2024-08-26T21:55:11.903Z"
   },
   {
    "duration": 835,
    "start_time": "2024-08-26T21:55:17.198Z"
   },
   {
    "duration": 895,
    "start_time": "2024-08-26T21:55:21.956Z"
   },
   {
    "duration": 825,
    "start_time": "2024-08-26T21:55:28.620Z"
   },
   {
    "duration": 797,
    "start_time": "2024-08-26T21:55:34.194Z"
   },
   {
    "duration": 899,
    "start_time": "2024-08-26T21:55:39.427Z"
   },
   {
    "duration": 671,
    "start_time": "2024-08-26T21:55:45.688Z"
   },
   {
    "duration": 800,
    "start_time": "2024-08-26T21:55:50.032Z"
   },
   {
    "duration": 24,
    "start_time": "2024-08-26T21:57:35.378Z"
   },
   {
    "duration": 639,
    "start_time": "2024-08-26T21:58:24.448Z"
   },
   {
    "duration": 27,
    "start_time": "2024-08-26T21:58:47.100Z"
   },
   {
    "duration": 29,
    "start_time": "2024-08-26T21:59:28.924Z"
   },
   {
    "duration": 5399,
    "start_time": "2024-08-26T22:01:52.086Z"
   },
   {
    "duration": 1699,
    "start_time": "2024-08-26T22:02:45.810Z"
   },
   {
    "duration": 1572,
    "start_time": "2024-08-26T22:05:22.633Z"
   },
   {
    "duration": 1182,
    "start_time": "2024-08-26T22:10:25.904Z"
   },
   {
    "duration": 24,
    "start_time": "2024-08-26T22:10:27.090Z"
   },
   {
    "duration": 27,
    "start_time": "2024-08-26T22:10:27.117Z"
   },
   {
    "duration": 25,
    "start_time": "2024-08-26T22:10:27.148Z"
   },
   {
    "duration": 5,
    "start_time": "2024-08-26T22:10:27.176Z"
   },
   {
    "duration": 8,
    "start_time": "2024-08-26T22:10:27.184Z"
   },
   {
    "duration": 6,
    "start_time": "2024-08-26T22:10:27.232Z"
   },
   {
    "duration": 6,
    "start_time": "2024-08-26T22:10:27.241Z"
   },
   {
    "duration": 28,
    "start_time": "2024-08-26T22:10:27.249Z"
   },
   {
    "duration": 8,
    "start_time": "2024-08-26T22:10:27.285Z"
   },
   {
    "duration": 42,
    "start_time": "2024-08-26T22:10:27.296Z"
   },
   {
    "duration": 6,
    "start_time": "2024-08-26T22:10:27.342Z"
   },
   {
    "duration": 27,
    "start_time": "2024-08-26T22:10:27.352Z"
   },
   {
    "duration": 9,
    "start_time": "2024-08-26T22:10:27.382Z"
   },
   {
    "duration": 5,
    "start_time": "2024-08-26T22:10:27.434Z"
   },
   {
    "duration": 4,
    "start_time": "2024-08-26T22:10:27.442Z"
   },
   {
    "duration": 1992,
    "start_time": "2024-08-26T22:10:27.452Z"
   },
   {
    "duration": 9,
    "start_time": "2024-08-26T22:10:29.448Z"
   },
   {
    "duration": 7,
    "start_time": "2024-08-26T22:10:29.460Z"
   },
   {
    "duration": 10,
    "start_time": "2024-08-26T22:10:29.471Z"
   },
   {
    "duration": 49,
    "start_time": "2024-08-26T22:10:29.484Z"
   },
   {
    "duration": 31,
    "start_time": "2024-08-26T22:10:29.537Z"
   },
   {
    "duration": 589,
    "start_time": "2024-08-26T22:10:29.574Z"
   },
   {
    "duration": 30,
    "start_time": "2024-08-26T22:10:30.167Z"
   },
   {
    "duration": 142,
    "start_time": "2024-08-26T22:10:30.234Z"
   },
   {
    "duration": 74,
    "start_time": "2024-08-26T22:10:30.379Z"
   },
   {
    "duration": 350,
    "start_time": "2024-08-26T22:10:30.455Z"
   },
   {
    "duration": 625,
    "start_time": "2024-08-26T22:10:30.813Z"
   },
   {
    "duration": 550,
    "start_time": "2024-08-26T22:10:31.441Z"
   },
   {
    "duration": 796,
    "start_time": "2024-08-26T22:10:31.994Z"
   },
   {
    "duration": 42,
    "start_time": "2024-08-26T22:10:32.793Z"
   },
   {
    "duration": 157,
    "start_time": "2024-08-27T19:34:50.272Z"
   },
   {
    "duration": 746,
    "start_time": "2024-08-27T19:44:06.998Z"
   },
   {
    "duration": 29,
    "start_time": "2024-08-27T19:44:07.746Z"
   },
   {
    "duration": 10,
    "start_time": "2024-08-27T19:44:07.776Z"
   },
   {
    "duration": 13,
    "start_time": "2024-08-27T19:44:07.789Z"
   },
   {
    "duration": 3,
    "start_time": "2024-08-27T19:44:07.806Z"
   },
   {
    "duration": 5,
    "start_time": "2024-08-27T19:44:07.811Z"
   },
   {
    "duration": 4,
    "start_time": "2024-08-27T19:44:07.817Z"
   },
   {
    "duration": 3,
    "start_time": "2024-08-27T19:44:07.823Z"
   },
   {
    "duration": 13,
    "start_time": "2024-08-27T19:44:07.827Z"
   },
   {
    "duration": 4,
    "start_time": "2024-08-27T19:44:07.843Z"
   },
   {
    "duration": 5,
    "start_time": "2024-08-27T19:44:07.849Z"
   },
   {
    "duration": 3,
    "start_time": "2024-08-27T19:44:07.856Z"
   },
   {
    "duration": 58,
    "start_time": "2024-08-27T19:44:07.860Z"
   },
   {
    "duration": 5,
    "start_time": "2024-08-27T19:44:07.920Z"
   },
   {
    "duration": 3,
    "start_time": "2024-08-27T19:44:07.927Z"
   },
   {
    "duration": 5,
    "start_time": "2024-08-27T19:44:07.932Z"
   },
   {
    "duration": 2881,
    "start_time": "2024-08-27T19:44:07.939Z"
   },
   {
    "duration": 5,
    "start_time": "2024-08-27T19:44:10.822Z"
   },
   {
    "duration": 4,
    "start_time": "2024-08-27T19:44:10.828Z"
   },
   {
    "duration": 5,
    "start_time": "2024-08-27T19:44:10.834Z"
   },
   {
    "duration": 5,
    "start_time": "2024-08-27T19:44:10.841Z"
   },
   {
    "duration": 57,
    "start_time": "2024-08-27T19:44:10.848Z"
   },
   {
    "duration": 351,
    "start_time": "2024-08-27T19:44:10.907Z"
   },
   {
    "duration": 16,
    "start_time": "2024-08-27T19:44:11.259Z"
   },
   {
    "duration": 141,
    "start_time": "2024-08-27T19:44:11.277Z"
   },
   {
    "duration": 86,
    "start_time": "2024-08-27T19:44:11.420Z"
   },
   {
    "duration": 198,
    "start_time": "2024-08-27T19:44:11.508Z"
   },
   {
    "duration": 371,
    "start_time": "2024-08-27T19:44:11.709Z"
   },
   {
    "duration": 334,
    "start_time": "2024-08-27T19:44:12.082Z"
   },
   {
    "duration": 6795,
    "start_time": "2024-08-27T19:44:12.418Z"
   },
   {
    "duration": 483,
    "start_time": "2024-08-27T19:44:19.215Z"
   },
   {
    "duration": 17,
    "start_time": "2024-08-27T19:44:19.700Z"
   },
   {
    "duration": 1199,
    "start_time": "2024-08-27T19:44:50.899Z"
   },
   {
    "duration": 1213,
    "start_time": "2024-08-27T19:47:59.424Z"
   },
   {
    "duration": 1226,
    "start_time": "2024-08-27T19:48:06.308Z"
   },
   {
    "duration": 253,
    "start_time": "2024-08-27T19:51:11.504Z"
   },
   {
    "duration": 19,
    "start_time": "2024-08-27T19:51:36.628Z"
   },
   {
    "duration": 340,
    "start_time": "2024-08-27T19:51:43.160Z"
   },
   {
    "duration": 782,
    "start_time": "2024-08-27T19:51:55.649Z"
   },
   {
    "duration": 16,
    "start_time": "2024-08-27T19:51:56.434Z"
   },
   {
    "duration": 10,
    "start_time": "2024-08-27T19:51:56.451Z"
   },
   {
    "duration": 13,
    "start_time": "2024-08-27T19:51:56.464Z"
   },
   {
    "duration": 3,
    "start_time": "2024-08-27T19:51:56.479Z"
   },
   {
    "duration": 24,
    "start_time": "2024-08-27T19:51:56.484Z"
   },
   {
    "duration": 3,
    "start_time": "2024-08-27T19:51:56.511Z"
   },
   {
    "duration": 4,
    "start_time": "2024-08-27T19:51:56.516Z"
   },
   {
    "duration": 14,
    "start_time": "2024-08-27T19:51:56.521Z"
   },
   {
    "duration": 4,
    "start_time": "2024-08-27T19:51:56.538Z"
   },
   {
    "duration": 5,
    "start_time": "2024-08-27T19:51:56.544Z"
   },
   {
    "duration": 4,
    "start_time": "2024-08-27T19:51:56.550Z"
   },
   {
    "duration": 59,
    "start_time": "2024-08-27T19:51:56.555Z"
   },
   {
    "duration": 5,
    "start_time": "2024-08-27T19:51:56.615Z"
   },
   {
    "duration": 3,
    "start_time": "2024-08-27T19:51:56.622Z"
   },
   {
    "duration": 2,
    "start_time": "2024-08-27T19:51:56.627Z"
   },
   {
    "duration": 1141,
    "start_time": "2024-08-27T19:51:56.631Z"
   },
   {
    "duration": 5,
    "start_time": "2024-08-27T19:51:57.775Z"
   },
   {
    "duration": 5,
    "start_time": "2024-08-27T19:51:57.782Z"
   },
   {
    "duration": 20,
    "start_time": "2024-08-27T19:51:57.789Z"
   },
   {
    "duration": 5,
    "start_time": "2024-08-27T19:51:57.812Z"
   },
   {
    "duration": 16,
    "start_time": "2024-08-27T19:51:57.819Z"
   },
   {
    "duration": 411,
    "start_time": "2024-08-27T19:51:57.837Z"
   },
   {
    "duration": 16,
    "start_time": "2024-08-27T19:51:58.250Z"
   },
   {
    "duration": 148,
    "start_time": "2024-08-27T19:51:58.269Z"
   },
   {
    "duration": 88,
    "start_time": "2024-08-27T19:51:58.418Z"
   },
   {
    "duration": 186,
    "start_time": "2024-08-27T19:51:58.508Z"
   },
   {
    "duration": 374,
    "start_time": "2024-08-27T19:51:58.705Z"
   },
   {
    "duration": 325,
    "start_time": "2024-08-27T19:51:59.081Z"
   },
   {
    "duration": 549,
    "start_time": "2024-08-27T19:51:59.408Z"
   },
   {
    "duration": 0,
    "start_time": "2024-08-27T19:51:59.959Z"
   },
   {
    "duration": 0,
    "start_time": "2024-08-27T19:51:59.960Z"
   },
   {
    "duration": 30323,
    "start_time": "2024-08-27T19:54:13.813Z"
   },
   {
    "duration": 420,
    "start_time": "2024-08-27T19:55:08.493Z"
   },
   {
    "duration": 29874,
    "start_time": "2024-08-27T19:55:27.204Z"
   },
   {
    "duration": 795,
    "start_time": "2024-08-27T20:00:55.245Z"
   },
   {
    "duration": 16,
    "start_time": "2024-08-27T20:00:56.043Z"
   },
   {
    "duration": 10,
    "start_time": "2024-08-27T20:00:56.061Z"
   },
   {
    "duration": 13,
    "start_time": "2024-08-27T20:00:56.073Z"
   },
   {
    "duration": 18,
    "start_time": "2024-08-27T20:00:56.088Z"
   },
   {
    "duration": 4,
    "start_time": "2024-08-27T20:00:56.108Z"
   },
   {
    "duration": 5,
    "start_time": "2024-08-27T20:00:56.114Z"
   },
   {
    "duration": 3,
    "start_time": "2024-08-27T20:00:56.120Z"
   },
   {
    "duration": 13,
    "start_time": "2024-08-27T20:00:56.126Z"
   },
   {
    "duration": 5,
    "start_time": "2024-08-27T20:00:56.143Z"
   },
   {
    "duration": 5,
    "start_time": "2024-08-27T20:00:56.149Z"
   },
   {
    "duration": 3,
    "start_time": "2024-08-27T20:00:56.155Z"
   },
   {
    "duration": 52,
    "start_time": "2024-08-27T20:00:56.160Z"
   },
   {
    "duration": 7,
    "start_time": "2024-08-27T20:00:56.214Z"
   },
   {
    "duration": 4,
    "start_time": "2024-08-27T20:00:56.222Z"
   },
   {
    "duration": 3,
    "start_time": "2024-08-27T20:00:56.227Z"
   },
   {
    "duration": 1120,
    "start_time": "2024-08-27T20:00:56.232Z"
   },
   {
    "duration": 5,
    "start_time": "2024-08-27T20:00:57.354Z"
   },
   {
    "duration": 4,
    "start_time": "2024-08-27T20:00:57.360Z"
   },
   {
    "duration": 5,
    "start_time": "2024-08-27T20:00:57.365Z"
   },
   {
    "duration": 5,
    "start_time": "2024-08-27T20:00:57.372Z"
   },
   {
    "duration": 38,
    "start_time": "2024-08-27T20:00:57.379Z"
   },
   {
    "duration": 376,
    "start_time": "2024-08-27T20:00:57.419Z"
   },
   {
    "duration": 20,
    "start_time": "2024-08-27T20:00:57.797Z"
   },
   {
    "duration": 107,
    "start_time": "2024-08-27T20:00:57.818Z"
   },
   {
    "duration": 86,
    "start_time": "2024-08-27T20:00:57.927Z"
   },
   {
    "duration": 242,
    "start_time": "2024-08-27T20:00:58.015Z"
   },
   {
    "duration": 388,
    "start_time": "2024-08-27T20:00:58.260Z"
   },
   {
    "duration": 326,
    "start_time": "2024-08-27T20:00:58.650Z"
   },
   {
    "duration": 29431,
    "start_time": "2024-08-27T20:00:58.979Z"
   },
   {
    "duration": 419,
    "start_time": "2024-08-27T20:01:28.412Z"
   },
   {
    "duration": 15,
    "start_time": "2024-08-27T20:01:28.833Z"
   }
  ],
  "kernelspec": {
   "display_name": "Python 3 (ipykernel)",
   "language": "python",
   "name": "python3"
  },
  "language_info": {
   "codemirror_mode": {
    "name": "ipython",
    "version": 3
   },
   "file_extension": ".py",
   "mimetype": "text/x-python",
   "name": "python",
   "nbconvert_exporter": "python",
   "pygments_lexer": "ipython3",
   "version": "3.9.19"
  },
  "toc": {
   "base_numbering": 1,
   "nav_menu": {},
   "number_sections": true,
   "sideBar": true,
   "skip_h1_title": true,
   "title_cell": "Table of Contents",
   "title_sidebar": "Contents",
   "toc_cell": false,
   "toc_position": {},
   "toc_section_display": true,
   "toc_window_display": false
  }
 },
 "nbformat": 4,
 "nbformat_minor": 2
}
