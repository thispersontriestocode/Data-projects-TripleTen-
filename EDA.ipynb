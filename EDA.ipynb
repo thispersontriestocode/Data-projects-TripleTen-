{
 "cells": [
  {
   "cell_type": "code",
   "execution_count": 1,
   "id": "fbf1adab",
   "metadata": {},
   "outputs": [],
   "source": [
    "import pandas as pd\n",
    "import matplotlib.pyplot as plt\n",
    "import numpy as np"
   ]
  },
  {
   "cell_type": "code",
   "execution_count": 2,
   "id": "ad6a1efa",
   "metadata": {},
   "outputs": [],
   "source": [
    "orders = pd.read_csv('/datasets/instacart_orders.csv', sep=';')"
   ]
  },
  {
   "cell_type": "code",
   "execution_count": 3,
   "id": "5130e05e",
   "metadata": {},
   "outputs": [],
   "source": [
    "products = pd.read_csv('/datasets/products.csv', sep=';')"
   ]
  },
  {
   "cell_type": "code",
   "execution_count": 4,
   "id": "d8370c05",
   "metadata": {},
   "outputs": [],
   "source": [
    "departments = pd.read_csv('/datasets/departments.csv', sep=';')"
   ]
  },
  {
   "cell_type": "code",
   "execution_count": 5,
   "id": "59e2090f",
   "metadata": {},
   "outputs": [],
   "source": [
    "aisles = pd.read_csv('/datasets/aisles.csv',sep=';')"
   ]
  },
  {
   "cell_type": "code",
   "execution_count": 6,
   "id": "6fc81694",
   "metadata": {},
   "outputs": [],
   "source": [
    "order_products = pd.read_csv('/datasets/order_products.csv',sep=';')"
   ]
  },
  {
   "cell_type": "markdown",
   "id": "07357848-dc64-4156-9cc3-01ff4365226d",
   "metadata": {},
   "source": [
    "## Find and remove duplicate values (and describe why you make your choices)"
   ]
  },
  {
   "cell_type": "markdown",
   "id": "f179f0a9",
   "metadata": {},
   "source": [
    "### `orders` data frame"
   ]
  },
  {
   "cell_type": "code",
   "execution_count": 7,
   "id": "b99297a5-405a-463d-8535-9adc3da4ad74",
   "metadata": {
    "scrolled": true
   },
   "outputs": [
    {
     "name": "stdout",
     "output_type": "stream",
     "text": [
      "<class 'pandas.core.frame.DataFrame'>\n",
      "RangeIndex: 478967 entries, 0 to 478966\n",
      "Data columns (total 6 columns):\n",
      " #   Column                  Non-Null Count   Dtype  \n",
      "---  ------                  --------------   -----  \n",
      " 0   order_id                478967 non-null  int64  \n",
      " 1   user_id                 478967 non-null  int64  \n",
      " 2   order_number            478967 non-null  int64  \n",
      " 3   order_dow               478967 non-null  int64  \n",
      " 4   order_hour_of_day       478967 non-null  int64  \n",
      " 5   days_since_prior_order  450148 non-null  float64\n",
      "dtypes: float64(1), int64(5)\n",
      "memory usage: 21.9 MB\n",
      "None\n",
      "\n",
      "15\n"
     ]
    }
   ],
   "source": [
    "# Check for duplicated orders\n",
    "print(orders.info())\n",
    "print()\n",
    "print(orders.duplicated().sum())\n",
    "\n",
    "#I used .info() to get information on my dataset duplicated to see how many entries I had knowing that i wouldnt be able \n",
    "#to see everything. I then did a sum of the duplicates to see the total number i had.\n"
   ]
  },
  {
   "cell_type": "code",
   "execution_count": 8,
   "id": "0d44de5d",
   "metadata": {},
   "outputs": [
    {
     "name": "stdout",
     "output_type": "stream",
     "text": [
      "0         False\n",
      "1         False\n",
      "2         False\n",
      "3         False\n",
      "4         False\n",
      "          ...  \n",
      "478962    False\n",
      "478963    False\n",
      "478964    False\n",
      "478965    False\n",
      "478966    False\n",
      "Length: 478967, dtype: bool\n",
      "\n",
      "121\n"
     ]
    }
   ],
   "source": [
    "# Check for all orders placed Wednesday at 2:00 AM\n",
    "wed_orders = (orders['order_dow'] == 3) & (orders['order_hour_of_day'] == 2)\n",
    "\n",
    "print(wed_orders)\n",
    "print()\n",
    "print(wed_orders.sum())\n",
    "\n"
   ]
  },
  {
   "cell_type": "code",
   "execution_count": 9,
   "id": "480563c7",
   "metadata": {
    "scrolled": true
   },
   "outputs": [
    {
     "name": "stdout",
     "output_type": "stream",
     "text": [
      "<class 'pandas.core.frame.DataFrame'>\n",
      "RangeIndex: 478967 entries, 0 to 478966\n",
      "Data columns (total 6 columns):\n",
      " #   Column                  Non-Null Count   Dtype  \n",
      "---  ------                  --------------   -----  \n",
      " 0   order_id                478967 non-null  int64  \n",
      " 1   user_id                 478967 non-null  int64  \n",
      " 2   order_number            478967 non-null  int64  \n",
      " 3   order_dow               478967 non-null  int64  \n",
      " 4   order_hour_of_day       478967 non-null  int64  \n",
      " 5   days_since_prior_order  450148 non-null  float64\n",
      "dtypes: float64(1), int64(5)\n",
      "memory usage: 21.9 MB\n",
      "None\n",
      "\n",
      "        order_id  user_id  order_number  order_dow  order_hour_of_day  \\\n",
      "0        1515936   183418            11          6                 13   \n",
      "1        1690866   163593             5          5                 12   \n",
      "2        1454967    39980             4          5                 19   \n",
      "3        1768857    82516            56          0                 20   \n",
      "4        3007858   196724             2          4                 12   \n",
      "...          ...      ...           ...        ...                ...   \n",
      "478962   3210681     5617             5          1                 14   \n",
      "478963   3270802   112087             2          3                 13   \n",
      "478964    885349    82944            16          2                 11   \n",
      "478965    216274     4391             3          3                  8   \n",
      "478966   2071924     1730            18          1                 14   \n",
      "\n",
      "        days_since_prior_order  \n",
      "0                         30.0  \n",
      "1                          9.0  \n",
      "2                          2.0  \n",
      "3                         10.0  \n",
      "4                         17.0  \n",
      "...                        ...  \n",
      "478962                     7.0  \n",
      "478963                     6.0  \n",
      "478964                     6.0  \n",
      "478965                     8.0  \n",
      "478966                    15.0  \n",
      "\n",
      "[478952 rows x 6 columns]\n",
      "\n",
      "<class 'pandas.core.frame.DataFrame'>\n",
      "Int64Index: 478952 entries, 0 to 478966\n",
      "Data columns (total 6 columns):\n",
      " #   Column                  Non-Null Count   Dtype  \n",
      "---  ------                  --------------   -----  \n",
      " 0   order_id                478952 non-null  int64  \n",
      " 1   user_id                 478952 non-null  int64  \n",
      " 2   order_number            478952 non-null  int64  \n",
      " 3   order_dow               478952 non-null  int64  \n",
      " 4   order_hour_of_day       478952 non-null  int64  \n",
      " 5   days_since_prior_order  450135 non-null  float64\n",
      "dtypes: float64(1), int64(5)\n",
      "memory usage: 25.6 MB\n",
      "None\n"
     ]
    }
   ],
   "source": [
    "# Remove duplicate orders\n",
    "\n",
    "print(orders.info())\n",
    "\n",
    "print()\n",
    "\n",
    "orders = orders.drop_duplicates()\n",
    "print(orders)\n",
    "print()\n",
    "print(orders.info())\n",
    "\n",
    "# Ran orders.info so i could see how many entires i had to start. I then did drop duplicates and then ran .info again knowing from before i only had 15 duplicates to be dropped. "
   ]
  },
  {
   "cell_type": "code",
   "execution_count": 10,
   "id": "0b2396a2",
   "metadata": {},
   "outputs": [
    {
     "name": "stdout",
     "output_type": "stream",
     "text": [
      "0\n"
     ]
    }
   ],
   "source": [
    "# Double check for duplicate rows\n",
    "print(orders.duplicated().sum())\n",
    "\n",
    "# ran duplicated and sum to confirm i had no more duplicates. "
   ]
  },
  {
   "cell_type": "code",
   "execution_count": 11,
   "id": "f6113ef1",
   "metadata": {},
   "outputs": [
    {
     "name": "stdout",
     "output_type": "stream",
     "text": [
      "0\n"
     ]
    }
   ],
   "source": [
    "# Double check for duplicate order IDs only\n",
    "print(orders['order_id'].duplicated().sum())\n",
    "\n",
    "#Called duplicated and sum on just the order_id column\n"
   ]
  },
  {
   "cell_type": "markdown",
   "id": "45e6bc46",
   "metadata": {},
   "source": [
    "### `products` data frame"
   ]
  },
  {
   "cell_type": "code",
   "execution_count": 12,
   "id": "5f526b5b-8175-46fa-a0fd-441767d50e64",
   "metadata": {},
   "outputs": [
    {
     "name": "stdout",
     "output_type": "stream",
     "text": [
      "0\n"
     ]
    }
   ],
   "source": [
    "# Check for fully duplicate rows\n",
    "print(products.duplicated().sum())\n"
   ]
  },
  {
   "cell_type": "code",
   "execution_count": 13,
   "id": "88daa4f4",
   "metadata": {},
   "outputs": [
    {
     "name": "stdout",
     "output_type": "stream",
     "text": [
      "<class 'pandas.core.frame.DataFrame'>\n",
      "RangeIndex: 49694 entries, 0 to 49693\n",
      "Data columns (total 4 columns):\n",
      " #   Column         Non-Null Count  Dtype \n",
      "---  ------         --------------  ----- \n",
      " 0   product_id     49694 non-null  int64 \n",
      " 1   product_name   48436 non-null  object\n",
      " 2   aisle_id       49694 non-null  int64 \n",
      " 3   department_id  49694 non-null  int64 \n",
      "dtypes: int64(3), object(1)\n",
      "memory usage: 1.5+ MB\n",
      "None\n",
      "\n",
      "0\n"
     ]
    }
   ],
   "source": [
    "# Check for just duplicate product IDs\n",
    "print(products.info())\n",
    "print()\n",
    "print(products['product_id'].duplicated().sum())"
   ]
  },
  {
   "cell_type": "code",
   "execution_count": 14,
   "id": "c773f0bf",
   "metadata": {},
   "outputs": [
    {
     "name": "stdout",
     "output_type": "stream",
     "text": [
      "1361\n"
     ]
    }
   ],
   "source": [
    "# Check for just duplicate product names (convert names to lowercase to compare better)\n",
    "products['product_name'] = products['product_name'].str.lower()\n",
    "print(products['product_name'].duplicated().sum())"
   ]
  },
  {
   "cell_type": "code",
   "execution_count": 15,
   "id": "01efd02e",
   "metadata": {},
   "outputs": [
    {
     "name": "stdout",
     "output_type": "stream",
     "text": [
      "       product_id                                     product_name  aisle_id  \\\n",
      "2058         2059                                  biotin 1000 mcg        47   \n",
      "5455         5456                 green tea with ginseng and honey        96   \n",
      "5558         5559                           cream of mushroom soup        69   \n",
      "7558         7559                        cinnamon rolls with icing       105   \n",
      "9037         9038                           american cheese slices        21   \n",
      "...           ...                                              ...       ...   \n",
      "49689       49690                    high performance energy drink        64   \n",
      "49690       49691                    original pancake & waffle mix       130   \n",
      "49691       49692  organic instant oatmeal light maple brown sugar       130   \n",
      "49692       49693                           spring water body wash       127   \n",
      "49693       49694                          burrito- steak & cheese        38   \n",
      "\n",
      "       department_id  \n",
      "2058              11  \n",
      "5455              20  \n",
      "5558              15  \n",
      "7558              13  \n",
      "9037              16  \n",
      "...              ...  \n",
      "49689              7  \n",
      "49690             14  \n",
      "49691             14  \n",
      "49692             11  \n",
      "49693              1  \n",
      "\n",
      "[104 rows x 4 columns]\n",
      "\n",
      "0\n"
     ]
    }
   ],
   "source": [
    "# Check for duplicate product names that aren't missing\n",
    "no_miss_dup = products[~(products['product_name'].isna()) & (products['product_name'].str.lower().duplicated())]\n",
    "\n",
    "print(no_miss_dup)\n",
    "print()\n",
    "print(no_miss_dup.duplicated().sum())\n",
    "\n",
    "# Made a variable that holds the df with no missing product names. After doing this i ran duplicated and sum to confirm there were no duplicates. "
   ]
  },
  {
   "cell_type": "markdown",
   "id": "9da8d293",
   "metadata": {},
   "source": [
    "\n"
   ]
  },
  {
   "cell_type": "markdown",
   "id": "60f30db1",
   "metadata": {},
   "source": [
    "### `departments` data frame"
   ]
  },
  {
   "cell_type": "code",
   "execution_count": 16,
   "id": "fb410ad4-0fbf-4b80-bb09-23fdea79afe3",
   "metadata": {},
   "outputs": [
    {
     "name": "stdout",
     "output_type": "stream",
     "text": [
      "    department_id       department\n",
      "0               1           frozen\n",
      "1               2            other\n",
      "2               3           bakery\n",
      "3               4          produce\n",
      "4               5          alcohol\n",
      "5               6    international\n",
      "6               7        beverages\n",
      "7               8             pets\n",
      "8               9  dry goods pasta\n",
      "9              10             bulk\n",
      "10             11    personal care\n",
      "11             12     meat seafood\n",
      "12             13           pantry\n",
      "13             14        breakfast\n",
      "14             15     canned goods\n",
      "15             16       dairy eggs\n",
      "16             17        household\n",
      "17             18           babies\n",
      "18             19           snacks\n",
      "19             20             deli\n",
      "20             21          missing\n"
     ]
    }
   ],
   "source": [
    "print(departments)"
   ]
  },
  {
   "cell_type": "code",
   "execution_count": 17,
   "id": "332b12bb",
   "metadata": {},
   "outputs": [
    {
     "name": "stdout",
     "output_type": "stream",
     "text": [
      "0\n"
     ]
    }
   ],
   "source": [
    "print(departments.duplicated().sum())"
   ]
  },
  {
   "cell_type": "markdown",
   "id": "889349c1",
   "metadata": {},
   "source": [
    "### `aisles` data frame"
   ]
  },
  {
   "cell_type": "code",
   "execution_count": 18,
   "id": "9da89fb9-4679-40f5-ad0d-c34df753a3f8",
   "metadata": {},
   "outputs": [
    {
     "name": "stdout",
     "output_type": "stream",
     "text": [
      "<class 'pandas.core.frame.DataFrame'>\n",
      "RangeIndex: 134 entries, 0 to 133\n",
      "Data columns (total 2 columns):\n",
      " #   Column    Non-Null Count  Dtype \n",
      "---  ------    --------------  ----- \n",
      " 0   aisle_id  134 non-null    int64 \n",
      " 1   aisle     134 non-null    object\n",
      "dtypes: int64(1), object(1)\n",
      "memory usage: 2.2+ KB\n",
      "None\n",
      "\n",
      "    aisle_id                       aisle\n",
      "0          1       prepared soups salads\n",
      "1          2           specialty cheeses\n",
      "2          3         energy granola bars\n",
      "3          4               instant foods\n",
      "4          5  marinades meat preparation\n",
      "5          6                       other\n",
      "6          7               packaged meat\n",
      "7          8             bakery desserts\n",
      "8          9                 pasta sauce\n",
      "9         10            kitchen supplies\n",
      "10        11            cold flu allergy\n",
      "11        12                 fresh pasta\n",
      "12        13              prepared meals\n",
      "13        14      tofu meat alternatives\n",
      "14        15            packaged seafood\n"
     ]
    }
   ],
   "source": [
    "print(aisles.info())\n",
    "print()\n",
    "print(aisles.head(15))"
   ]
  },
  {
   "cell_type": "code",
   "execution_count": 19,
   "id": "da7c2822",
   "metadata": {},
   "outputs": [
    {
     "name": "stdout",
     "output_type": "stream",
     "text": [
      "0\n"
     ]
    }
   ],
   "source": [
    "print(aisles.duplicated().sum())"
   ]
  },
  {
   "cell_type": "markdown",
   "id": "274cd06a",
   "metadata": {},
   "source": [
    "### `order_products` data frame"
   ]
  },
  {
   "cell_type": "code",
   "execution_count": 20,
   "id": "52326689-84a8-4b8f-a881-7c68780f62c9",
   "metadata": {},
   "outputs": [
    {
     "name": "stdout",
     "output_type": "stream",
     "text": [
      "<class 'pandas.core.frame.DataFrame'>\n",
      "RangeIndex: 4545007 entries, 0 to 4545006\n",
      "Data columns (total 4 columns):\n",
      " #   Column             Dtype  \n",
      "---  ------             -----  \n",
      " 0   order_id           int64  \n",
      " 1   product_id         int64  \n",
      " 2   add_to_cart_order  float64\n",
      " 3   reordered          int64  \n",
      "dtypes: float64(1), int64(3)\n",
      "memory usage: 138.7 MB\n",
      "None\n",
      "\n",
      "0\n"
     ]
    }
   ],
   "source": [
    "# Check for fullly duplicate rows\n",
    "print(order_products.info())\n",
    "print()\n",
    "print(order_products.duplicated().sum())\n"
   ]
  },
  {
   "cell_type": "code",
   "execution_count": 21,
   "id": "7b861391",
   "metadata": {},
   "outputs": [
    {
     "name": "stdout",
     "output_type": "stream",
     "text": [
      "Empty DataFrame\n",
      "Columns: [order_id, product_id, add_to_cart_order, reordered]\n",
      "Index: []\n"
     ]
    }
   ],
   "source": [
    "# Double check for any other tricky duplicates\n",
    "print(order_products[order_products.duplicated(subset=['order_id', 'product_id'])])\n",
    "\n"
   ]
  },
  {
   "cell_type": "markdown",
   "id": "1e46de76",
   "metadata": {},
   "source": [
    "## Find and remove missing values\n"
   ]
  },
  {
   "cell_type": "markdown",
   "id": "c0aebd78",
   "metadata": {},
   "source": [
    "### `products` data frame"
   ]
  },
  {
   "cell_type": "code",
   "execution_count": 22,
   "id": "fe4a8b0f",
   "metadata": {},
   "outputs": [
    {
     "name": "stdout",
     "output_type": "stream",
     "text": [
      "<class 'pandas.core.frame.DataFrame'>\n",
      "RangeIndex: 49694 entries, 0 to 49693\n",
      "Data columns (total 4 columns):\n",
      " #   Column         Non-Null Count  Dtype \n",
      "---  ------         --------------  ----- \n",
      " 0   product_id     49694 non-null  int64 \n",
      " 1   product_name   48436 non-null  object\n",
      " 2   aisle_id       49694 non-null  int64 \n",
      " 3   department_id  49694 non-null  int64 \n",
      "dtypes: int64(3), object(1)\n",
      "memory usage: 1.5+ MB\n",
      "None\n"
     ]
    }
   ],
   "source": [
    "print(products.info())"
   ]
  },
  {
   "cell_type": "code",
   "execution_count": 23,
   "id": "e96167bc",
   "metadata": {},
   "outputs": [
    {
     "name": "stdout",
     "output_type": "stream",
     "text": [
      "1258\n",
      "\n",
      "       product_id product_name  aisle_id  department_id\n",
      "37             38          NaN       100             21\n",
      "71             72          NaN       100             21\n",
      "109           110          NaN       100             21\n",
      "296           297          NaN       100             21\n",
      "416           417          NaN       100             21\n",
      "...           ...          ...       ...            ...\n",
      "49552       49553          NaN       100             21\n",
      "49574       49575          NaN       100             21\n",
      "49640       49641          NaN       100             21\n",
      "49663       49664          NaN       100             21\n",
      "49668       49669          NaN       100             21\n",
      "\n",
      "[1258 rows x 4 columns]\n"
     ]
    }
   ],
   "source": [
    "# Are all of the missing product names associated with aisle ID 100?\n",
    "print(products['product_name'].isna().sum())\n",
    "products_missing_name_100 = products[(products['product_name'].isna()) & (products['aisle_id'] == 100)]\n",
    "print()\n",
    "print(products_missing_name_100)"
   ]
  },
  {
   "cell_type": "markdown",
   "id": "42aaf638",
   "metadata": {},
   "source": [
    "It looks like all of the missing names in the product_name column are associated with aisle_id 100. I determined this by first getting a sum of how many missing values I had in the product name category. I found it was 1258. After running some logic the resulting dataframe had 1258 entires also. This confirms the missing product names are associated with aisle 100."
   ]
  },
  {
   "cell_type": "code",
   "execution_count": 24,
   "id": "8fd0a541",
   "metadata": {},
   "outputs": [
    {
     "name": "stdout",
     "output_type": "stream",
     "text": [
      "       product_id product_name  aisle_id  department_id\n",
      "37             38          NaN       100             21\n",
      "71             72          NaN       100             21\n",
      "109           110          NaN       100             21\n",
      "296           297          NaN       100             21\n",
      "416           417          NaN       100             21\n",
      "...           ...          ...       ...            ...\n",
      "49552       49553          NaN       100             21\n",
      "49574       49575          NaN       100             21\n",
      "49640       49641          NaN       100             21\n",
      "49663       49664          NaN       100             21\n",
      "49668       49669          NaN       100             21\n",
      "\n",
      "[1258 rows x 4 columns]\n"
     ]
    }
   ],
   "source": [
    "# Are all of the missing product names associated with department ID 21?\n",
    "products_missing_name_d21 = products[(products['product_name'].isna()) & (products['department_id'] == 21)]\n",
    "print(products_missing_name_d21)"
   ]
  },
  {
   "cell_type": "code",
   "execution_count": 25,
   "id": "325c3464",
   "metadata": {
    "scrolled": true
   },
   "outputs": [
    {
     "name": "stdout",
     "output_type": "stream",
     "text": [
      "     product_id  product_name  aisle_id  department_id\n",
      "37           38         False       100             21\n",
      "71           72         False       100             21\n",
      "109         110         False       100             21\n",
      "296         297         False       100             21\n",
      "416         417         False       100             21\n",
      "\n",
      "   product_id  product_name  aisle_id  department_id    aisle department\n",
      "0          38         False       100             21  missing    missing\n",
      "1          72         False       100             21  missing    missing\n",
      "2         110         False       100             21  missing    missing\n",
      "3         297         False       100             21  missing    missing\n",
      "4         417         False       100             21  missing    missing\n"
     ]
    }
   ],
   "source": [
    "# What is this ailse and department?\n",
    "only_100_21 = products_missing_name_100 & products_missing_name_d21\n",
    "print(only_100_21.head())\n",
    "print()\n",
    "products_aisle_dept = pd.merge(\n",
    "    only_100_21,\n",
    "    aisles,\n",
    "    on='aisle_id',\n",
    "    how='left'\n",
    ")\n",
    "\n",
    "products_aisle_dept = pd.merge(\n",
    "    products_aisle_dept,\n",
    "    departments,\n",
    "    on='department_id',\n",
    "    how='left'\n",
    ")\n",
    "\n",
    "print(products_aisle_dept.head())"
   ]
  },
  {
   "cell_type": "markdown",
   "id": "e5a26a70",
   "metadata": {},
   "source": [
    "After merging the products df with the aisles df due to them both having matching department ids, i then combined that new dataframe with the departments df on the department id because again they matched. \n",
    "After doing this you find that the aisle 100 and department 21 are both labeled 'missing'"
   ]
  },
  {
   "cell_type": "code",
   "execution_count": 26,
   "id": "6b295120",
   "metadata": {},
   "outputs": [
    {
     "name": "stdout",
     "output_type": "stream",
     "text": [
      "Unknown\n"
     ]
    }
   ],
   "source": [
    "# Fill missing product names with 'Unknown'\n",
    "products['product_name'] = products['product_name'].fillna('Unknown')\n",
    "print(products['product_name'][37])\n",
    "\n",
    "#printed a value that i knew from previous was NaN and is now Unknown"
   ]
  },
  {
   "cell_type": "markdown",
   "id": "7eb45c86",
   "metadata": {},
   "source": [
    "### `orders` data frame"
   ]
  },
  {
   "cell_type": "code",
   "execution_count": 27,
   "id": "93e41d96",
   "metadata": {},
   "outputs": [
    {
     "name": "stdout",
     "output_type": "stream",
     "text": [
      "<class 'pandas.core.frame.DataFrame'>\n",
      "Int64Index: 478952 entries, 0 to 478966\n",
      "Data columns (total 6 columns):\n",
      " #   Column                  Non-Null Count   Dtype  \n",
      "---  ------                  --------------   -----  \n",
      " 0   order_id                478952 non-null  int64  \n",
      " 1   user_id                 478952 non-null  int64  \n",
      " 2   order_number            478952 non-null  int64  \n",
      " 3   order_dow               478952 non-null  int64  \n",
      " 4   order_hour_of_day       478952 non-null  int64  \n",
      " 5   days_since_prior_order  450135 non-null  float64\n",
      "dtypes: float64(1), int64(5)\n",
      "memory usage: 25.6 MB\n"
     ]
    }
   ],
   "source": [
    "orders.info()"
   ]
  },
  {
   "cell_type": "code",
   "execution_count": 28,
   "id": "166e5a86",
   "metadata": {},
   "outputs": [
    {
     "name": "stdout",
     "output_type": "stream",
     "text": [
      "0\n",
      "No\n"
     ]
    }
   ],
   "source": [
    "# Are there any missing values where it's not a customer's first order?\n",
    "value = (orders['days_since_prior_order'].isna()) & (orders['order_number'] > 1)\n",
    "print(value.sum())\n",
    "\n",
    "if value.sum() == 0 :\n",
    "    print('No')\n",
    "else :\n",
    "    print('yes') \n",
    "    \n",
    "    "
   ]
  },
  {
   "cell_type": "markdown",
   "id": "69dc9ca4",
   "metadata": {},
   "source": [
    "### `order_products` data frame"
   ]
  },
  {
   "cell_type": "code",
   "execution_count": 29,
   "id": "b8240253",
   "metadata": {},
   "outputs": [
    {
     "name": "stdout",
     "output_type": "stream",
     "text": [
      "<class 'pandas.core.frame.DataFrame'>\n",
      "RangeIndex: 4545007 entries, 0 to 4545006\n",
      "Data columns (total 4 columns):\n",
      " #   Column             Dtype  \n",
      "---  ------             -----  \n",
      " 0   order_id           int64  \n",
      " 1   product_id         int64  \n",
      " 2   add_to_cart_order  float64\n",
      " 3   reordered          int64  \n",
      "dtypes: float64(1), int64(3)\n",
      "memory usage: 138.7 MB\n",
      "None\n"
     ]
    }
   ],
   "source": [
    "print(order_products.info())"
   ]
  },
  {
   "cell_type": "code",
   "execution_count": 30,
   "id": "9a78e5ee",
   "metadata": {},
   "outputs": [
    {
     "name": "stdout",
     "output_type": "stream",
     "text": [
      "order_id             4.0\n",
      "product_id           1.0\n",
      "add_to_cart_order    1.0\n",
      "reordered            0.0\n",
      "dtype: float64\n",
      "\n",
      "order_id             3421079.0\n",
      "product_id             49694.0\n",
      "add_to_cart_order         64.0\n",
      "reordered                  1.0\n",
      "dtype: float64\n"
     ]
    }
   ],
   "source": [
    "# What are the min and max values in this column?\n",
    "print(order_products.min())\n",
    "print()\n",
    "print(order_products.max())"
   ]
  },
  {
   "cell_type": "code",
   "execution_count": 31,
   "id": "ab9d0c2b",
   "metadata": {},
   "outputs": [
    {
     "name": "stdout",
     "output_type": "stream",
     "text": [
      "order_id               0\n",
      "product_id             0\n",
      "add_to_cart_order    836\n",
      "reordered              0\n",
      "dtype: int64\n",
      "         order_id  product_id  add_to_cart_order  reordered\n",
      "737       2449164        5068                NaN          0\n",
      "9926      1968313       43867                NaN          0\n",
      "14394     2926893       11688                NaN          0\n",
      "16418     1717990        4142                NaN          0\n",
      "30114     1959075       42828                NaN          1\n",
      "...           ...         ...                ...        ...\n",
      "4505662   1800005        7411                NaN          0\n",
      "4511400   1633337         260                NaN          0\n",
      "4517562    404157        9517                NaN          0\n",
      "4534112   1673227       17835                NaN          0\n",
      "4535739   1832957       17949                NaN          1\n",
      "\n",
      "[836 rows x 4 columns]\n"
     ]
    }
   ],
   "source": [
    "# Save all order IDs with at least one missing value in 'add_to_cart_order'\n",
    "print(order_products.isna().sum())\n",
    "\n",
    "nan_add_to_cart_order = order_products[order_products['add_to_cart_order'].isna()]\n",
    "print(nan_add_to_cart_order)"
   ]
  },
  {
   "cell_type": "code",
   "execution_count": 32,
   "id": "54c31695",
   "metadata": {
    "scrolled": true
   },
   "outputs": [
    {
     "name": "stdout",
     "output_type": "stream",
     "text": [
      "65\n",
      "\n",
      "       order_id  product_id  add_to_cart_order  reordered\n",
      "267     2094761       31469               57.0          1\n",
      "737     2449164        5068                NaN          0\n",
      "1742    2997021        4920               37.0          0\n",
      "3463     871281       40063               61.0          1\n",
      "3535     171934       36397                7.0          0\n",
      "4350       9310       44422               11.0          1\n",
      "6768    2729254       13176               61.0          0\n",
      "6878     180546        8021               58.0          1\n",
      "7307     903110       47766               14.0          1\n",
      "8649     678116        1365                9.0          1\n",
      "9926    1968313       43867                NaN          0\n",
      "9934     903110       24390               15.0          1\n",
      "10355   1673227       38312               10.0          1\n",
      "11333   2999801       21376               47.0          1\n",
      "13027    180546       26454               63.0          0\n",
      "\n",
      "order_id\n",
      "9310        65\n",
      "61355      127\n",
      "102236      95\n",
      "129627      69\n",
      "165801      70\n",
      "          ... \n",
      "2999801     70\n",
      "3125735     86\n",
      "3308010    115\n",
      "3347453     71\n",
      "3383594     69\n",
      "Length: 70, dtype: int64\n",
      "\n",
      "Do all orders with missing values have more than 64 products? True\n"
     ]
    }
   ],
   "source": [
    "# Do all orders with missing values have more than 64 products?\n",
    "print(order_products['order_id'].value_counts().loc[9310])\n",
    "# Identify orders with at least one missing 'add_to_cart_order'\n",
    "missing_orders = order_products[order_products['add_to_cart_order'].isna()]['order_id'].unique()\n",
    "print()\n",
    "# Filter the dataframe to include only rows of orders with missing 'add_to_cart_order'\n",
    "missing_orders_df = order_products[order_products['order_id'].isin(missing_orders)]\n",
    "print(missing_orders_df.head(15))\n",
    "print()\n",
    "# Group by 'order_id' and count the number of products (rows) in each order\n",
    "product_counts = missing_orders_df.groupby('order_id').size()\n",
    "print(product_counts)\n",
    "# Check if all orders have more than 64 products\n",
    "more_than_64_products = product_counts > 64\n",
    "print()\n",
    "# Print the result\n",
    "all_more_than_64 = more_than_64_products.all()\n",
    "print(\"Do all orders with missing values have more than 64 products?\", all_more_than_64)"
   ]
  },
  {
   "cell_type": "code",
   "execution_count": 33,
   "id": "fef811b4",
   "metadata": {},
   "outputs": [
    {
     "name": "stdout",
     "output_type": "stream",
     "text": [
      "int64\n",
      "0\n",
      "     order_id  product_id  add_to_cart_order  reordered\n",
      "737   2449164        5068                999          0\n",
      "738   1405788       18027                  2          1\n"
     ]
    }
   ],
   "source": [
    "# Replace missing values with 999 and convert column to integer type\n",
    "order_products['add_to_cart_order'] = order_products['add_to_cart_order'].fillna('999')\n",
    "order_products['add_to_cart_order'] = order_products['add_to_cart_order'].astype('int64')\n",
    "print(order_products['add_to_cart_order'].dtype)\n",
    "print(order_products['add_to_cart_order'].isna().sum())\n",
    "print(order_products[737:739])"
   ]
  },
  {
   "cell_type": "markdown",
   "id": "fea4bcc7",
   "metadata": {},
   "source": []
  },
  {
   "cell_type": "markdown",
   "id": "short-capability",
   "metadata": {},
   "source": [
    "### Verify that the `'order_hour_of_day'` and `'order_dow'` values in the `orders` tables are sensible (i.e. `'order_hour_of_day'` ranges from 0 to 23 and `'order_dow'` ranges from 0 to 6)"
   ]
  },
  {
   "cell_type": "code",
   "execution_count": 34,
   "id": "growing-fruit",
   "metadata": {},
   "outputs": [
    {
     "name": "stdout",
     "output_type": "stream",
     "text": [
      "Times are sensible\n"
     ]
    }
   ],
   "source": [
    "if (orders['order_hour_of_day'].min() >= 0) and (orders['order_hour_of_day'].max() <= 23):\n",
    "    print('Times are sensible')\n",
    "else:\n",
    "    print('Times are not sensible')"
   ]
  },
  {
   "cell_type": "code",
   "execution_count": 35,
   "id": "accessory-malaysia",
   "metadata": {},
   "outputs": [
    {
     "name": "stdout",
     "output_type": "stream",
     "text": [
      "Days are sensible\n"
     ]
    }
   ],
   "source": [
    "if (orders['order_dow'].min() >=0) and (orders['order_dow'].max() <= 6) :\n",
    "    print('Days are sensible')\n",
    "else:\n",
    "    print('Days are not sensible')"
   ]
  },
  {
   "cell_type": "markdown",
   "id": "a6743a70",
   "metadata": {},
   "source": [
    "###  What time of day do people shop for groceries?"
   ]
  },
  {
   "cell_type": "code",
   "execution_count": 36,
   "id": "a36cca27",
   "metadata": {},
   "outputs": [
    {
     "name": "stdout",
     "output_type": "stream",
     "text": [
      "10    40578\n",
      "11    40032\n",
      "15    39789\n",
      "14    39631\n",
      "13    39007\n",
      "16    38112\n",
      "12    38034\n",
      "9     35896\n",
      "17    31930\n",
      "18    25510\n",
      "8     25024\n",
      "19    19547\n",
      "20    14624\n",
      "7     13043\n",
      "21    11019\n",
      "22     8512\n",
      "23     5611\n",
      "6      4215\n",
      "0      3180\n",
      "1      1763\n",
      "5      1371\n",
      "2       989\n",
      "3       770\n",
      "4       765\n",
      "Name: order_hour_of_day, dtype: int64\n",
      "\n"
     ]
    }
   ],
   "source": [
    "grouped_orders = orders['order_hour_of_day'].value_counts()\n",
    "print(grouped_orders)\n",
    "print()\n",
    "# Compute the value counts and store them in a separate DataFrame\n",
    "grouped_orders = orders['order_hour_of_day'].value_counts().sort_index().reset_index()\n",
    "grouped_orders.columns = ['order_hour_of_day', 'num_orders']\n",
    "#grouped_orders = 'group'\n",
    "\n"
   ]
  },
  {
   "cell_type": "code",
   "execution_count": 37,
   "id": "447ea340",
   "metadata": {},
   "outputs": [
    {
     "data": {
      "image/png": "[encoded data removed]",
      "text/plain": [
       "<Figure size 640x480 with 1 Axes>"
      ]
     },
     "metadata": {},
     "output_type": "display_data"
    }
   ],
   "source": [
    "grouped_orders.plot(\n",
    "    title='Customer Count by Hour',\n",
    "    x='order_hour_of_day',\n",
    "    y='num_orders',\n",
    "    kind='bar',\n",
    "    xlabel='Hour',\n",
    "    ylabel='Number of Orders'\n",
    ")\n",
    "plt.show()"
   ]
  },
  {
   "cell_type": "markdown",
   "id": "documented-command",
   "metadata": {},
   "source": [
    "###  What day of the week do people shop for groceries?"
   ]
  },
  {
   "cell_type": "code",
   "execution_count": 38,
   "id": "chief-digit",
   "metadata": {
    "scrolled": true
   },
   "outputs": [
    {
     "data": {
      "image/png": "[encoded data removed]",
      "text/plain": [
       "<Figure size 640x480 with 1 Axes>"
      ]
     },
     "metadata": {},
     "output_type": "display_data"
    }
   ],
   "source": [
    "grouped_orders_day = orders['order_dow'].value_counts().sort_index().reset_index()\n",
    "grouped_orders_day.columns = ['order_dow', 'num_orders']\n",
    "grouped_orders_day.plot(\n",
    "    title='Customer Count by Day',\n",
    "    x='order_dow',\n",
    "    y='num_orders',\n",
    "    kind='bar',\n",
    "    xlabel='Day',\n",
    "    ylabel='Number of Orders'\n",
    ")\n",
    "plt.show()"
   ]
  },
  {
   "cell_type": "markdown",
   "id": "6dcae0d3",
   "metadata": {},
   "source": [
    "People shop for groceries the most on Day 0"
   ]
  },
  {
   "cell_type": "markdown",
   "id": "cutting-concert",
   "metadata": {},
   "source": [
    "### How long do people wait until placing another order?"
   ]
  },
  {
   "cell_type": "code",
   "execution_count": 39,
   "id": "c231f523",
   "metadata": {
    "scrolled": true
   },
   "outputs": [
    {
     "name": "stdout",
     "output_type": "stream",
     "text": [
      "    index  days_since_prior_order\n",
      "0     0.0                    9589\n",
      "1     1.0                   20179\n",
      "2     2.0                   27138\n",
      "3     3.0                   30224\n",
      "4     4.0                   31006\n",
      "5     5.0                   30096\n",
      "6     6.0                   33930\n",
      "7     7.0                   44577\n",
      "8     8.0                   25361\n",
      "9     9.0                   16753\n",
      "10   10.0                   13309\n",
      "11   11.0                   11467\n",
      "12   12.0                   10658\n",
      "13   13.0                   11737\n",
      "14   14.0                   13992\n",
      "15   15.0                    9416\n",
      "16   16.0                    6587\n",
      "17   17.0                    5498\n",
      "18   18.0                    4971\n",
      "19   19.0                    4939\n",
      "20   20.0                    5302\n",
      "21   21.0                    6448\n",
      "22   22.0                    4514\n",
      "23   23.0                    3337\n",
      "24   24.0                    3015\n",
      "25   25.0                    2711\n",
      "26   26.0                    2640\n",
      "27   27.0                    2986\n",
      "28   28.0                    3745\n",
      "29   29.0                    2673\n",
      "30   30.0                   51337\n",
      "\n",
      "    index  days_since_prior_order\n",
      "26   26.0                    2640\n",
      "29   29.0                    2673\n",
      "25   25.0                    2711\n",
      "27   27.0                    2986\n",
      "24   24.0                    3015\n",
      "23   23.0                    3337\n",
      "28   28.0                    3745\n",
      "22   22.0                    4514\n",
      "19   19.0                    4939\n",
      "18   18.0                    4971\n",
      "20   20.0                    5302\n",
      "17   17.0                    5498\n",
      "21   21.0                    6448\n",
      "16   16.0                    6587\n",
      "15   15.0                    9416\n",
      "0     0.0                    9589\n",
      "12   12.0                   10658\n",
      "11   11.0                   11467\n",
      "13   13.0                   11737\n",
      "10   10.0                   13309\n",
      "14   14.0                   13992\n",
      "9     9.0                   16753\n",
      "1     1.0                   20179\n",
      "8     8.0                   25361\n",
      "2     2.0                   27138\n",
      "5     5.0                   30096\n",
      "3     3.0                   30224\n",
      "4     4.0                   31006\n",
      "6     6.0                   33930\n",
      "7     7.0                   44577\n",
      "30   30.0                   51337\n",
      "\n"
     ]
    }
   ],
   "source": [
    "days_wait = orders['days_since_prior_order'].value_counts().sort_index().reset_index()\n",
    "print(days_wait)\n",
    "print()\n",
    "days_wait_sorted = days_wait.sort_values(by='days_since_prior_order')\n",
    "#days_wait_sorted = \n",
    "print(days_wait_sorted)\n",
    "print()\n"
   ]
  },
  {
   "cell_type": "markdown",
   "id": "discrete-vertex",
   "metadata": {},
   "source": []
  },
  {
   "cell_type": "code",
   "execution_count": 40,
   "id": "exciting-fantasy",
   "metadata": {},
   "outputs": [
    {
     "data": {
      "image/png": "[encoded data removed]",
      "text/plain": [
       "<Figure size 1500x500 with 1 Axes>"
      ]
     },
     "metadata": {},
     "output_type": "display_data"
    }
   ],
   "source": [
    "days_wait_sorted.plot(kind=\"bar\", x= 'days_since_prior_order', y='index', figsize=[15, 5])\n",
    "plt.show()"
   ]
  },
  {
   "cell_type": "markdown",
   "id": "packed-classic",
   "metadata": {},
   "source": [
    "### Is there a difference in `'order_hour_of_day'` distributions on Wednesdays and Saturdays? Plot the histograms for both days and describe the differences that you see."
   ]
  },
  {
   "cell_type": "code",
   "execution_count": 41,
   "id": "d89b8403",
   "metadata": {},
   "outputs": [],
   "source": [
    "wednesdays = orders[orders['order_dow'] == 3]"
   ]
  },
  {
   "cell_type": "code",
   "execution_count": 42,
   "id": "94e54e8a",
   "metadata": {},
   "outputs": [],
   "source": [
    "saturdays = orders[orders['order_dow'] == 6]"
   ]
  },
  {
   "cell_type": "code",
   "execution_count": 43,
   "id": "797c90a8",
   "metadata": {},
   "outputs": [
    {
     "data": {
      "image/png": "[encoded data removed]",
      "text/plain": [
       "<Figure size 1000x600 with 1 Axes>"
      ]
     },
     "metadata": {},
     "output_type": "display_data"
    }
   ],
   "source": [
    "plt.figure(figsize=(10, 6))\n",
    "plt.hist(wednesdays['order_hour_of_day'], bins=24, alpha=0.5, label='Wednesdays')\n",
    "plt.hist(saturdays['order_hour_of_day'], bins=24, alpha=0.5, label='Saturdays')\n",
    "plt.xlabel('Hour of Day')\n",
    "plt.ylabel('Frequency')\n",
    "plt.title('Order Hour of Day Distribution by Day of Week')\n",
    "plt.legend()\n",
    "plt.show()"
   ]
  },
  {
   "cell_type": "markdown",
   "id": "13a23759",
   "metadata": {},
   "source": [
    "It looks like the most active time for both wednesday and saturday.Saturday from about 12 to 3pm seems to be the busiest times overall."
   ]
  },
  {
   "cell_type": "markdown",
   "id": "e3891143",
   "metadata": {},
   "source": [
    "### What's the distribution for the number of orders per customer?"
   ]
  },
  {
   "cell_type": "code",
   "execution_count": 44,
   "id": "d8c26c23",
   "metadata": {},
   "outputs": [
    {
     "data": {
      "image/png": "[encoded data removed]",
      "text/plain": [
       "<Figure size 1000x600 with 1 Axes>"
      ]
     },
     "metadata": {},
     "output_type": "display_data"
    }
   ],
   "source": [
    "# Group the data by customer_id and count the number of orders\n",
    "order_counts = orders.groupby('user_id').size().reset_index(name='order_count')\n",
    "\n",
    "# Plot the histogram\n",
    "plt.figure(figsize=(10, 6))\n",
    "plt.hist(order_counts['order_count'], bins=50, alpha=0.5)\n",
    "plt.xlabel('Number of Orders')\n",
    "plt.ylabel('Frequency')\n",
    "plt.title('Distribution of Number of Orders per Customer')\n",
    "plt.show()"
   ]
  },
  {
   "cell_type": "markdown",
   "id": "d2eff7d5",
   "metadata": {},
   "source": []
  },
  {
   "cell_type": "markdown",
   "id": "54a0319c",
   "metadata": {},
   "source": [
    "###  What are the top 20 popular products (display their id and name)?"
   ]
  },
  {
   "cell_type": "code",
   "execution_count": 45,
   "id": "exterior-arizona",
   "metadata": {
    "scrolled": true
   },
   "outputs": [
    {
     "data": {
      "text/html": [
       "<div>\n",
       "<style scoped>\n",
       "    .dataframe tbody tr th:only-of-type {\n",
       "        vertical-align: middle;\n",
       "    }\n",
       "\n",
       "    .dataframe tbody tr th {\n",
       "        vertical-align: top;\n",
       "    }\n",
       "\n",
       "    .dataframe thead th {\n",
       "        text-align: right;\n",
       "    }\n",
       "</style>\n",
       "<table border=\"1\" class=\"dataframe\">\n",
       "  <thead>\n",
       "    <tr style=\"text-align: right;\">\n",
       "      <th></th>\n",
       "      <th>product_id</th>\n",
       "      <th>product_name</th>\n",
       "      <th>order_count</th>\n",
       "    </tr>\n",
       "  </thead>\n",
       "  <tbody>\n",
       "    <tr>\n",
       "      <th>22808</th>\n",
       "      <td>24852</td>\n",
       "      <td>banana</td>\n",
       "      <td>66050</td>\n",
       "    </tr>\n",
       "    <tr>\n",
       "      <th>12025</th>\n",
       "      <td>13176</td>\n",
       "      <td>bag of organic bananas</td>\n",
       "      <td>53297</td>\n",
       "    </tr>\n",
       "    <tr>\n",
       "      <th>19370</th>\n",
       "      <td>21137</td>\n",
       "      <td>organic strawberries</td>\n",
       "      <td>37039</td>\n",
       "    </tr>\n",
       "    <tr>\n",
       "      <th>20077</th>\n",
       "      <td>21903</td>\n",
       "      <td>organic baby spinach</td>\n",
       "      <td>33971</td>\n",
       "    </tr>\n",
       "    <tr>\n",
       "      <th>43271</th>\n",
       "      <td>47209</td>\n",
       "      <td>organic hass avocado</td>\n",
       "      <td>29773</td>\n",
       "    </tr>\n",
       "    <tr>\n",
       "      <th>...</th>\n",
       "      <td>...</td>\n",
       "      <td>...</td>\n",
       "      <td>...</td>\n",
       "    </tr>\n",
       "    <tr>\n",
       "      <th>5339</th>\n",
       "      <td>5836</td>\n",
       "      <td>arctic d cod liver oil lemon</td>\n",
       "      <td>1</td>\n",
       "    </tr>\n",
       "    <tr>\n",
       "      <th>39932</th>\n",
       "      <td>43573</td>\n",
       "      <td>whisk- 10 inch</td>\n",
       "      <td>1</td>\n",
       "    </tr>\n",
       "    <tr>\n",
       "      <th>39930</th>\n",
       "      <td>43570</td>\n",
       "      <td>queso cotija</td>\n",
       "      <td>1</td>\n",
       "    </tr>\n",
       "    <tr>\n",
       "      <th>33181</th>\n",
       "      <td>36174</td>\n",
       "      <td>whole pinto beans</td>\n",
       "      <td>1</td>\n",
       "    </tr>\n",
       "    <tr>\n",
       "      <th>37938</th>\n",
       "      <td>41403</td>\n",
       "      <td>extra rich &amp; thick spaghetti sauce spices &amp; se...</td>\n",
       "      <td>1</td>\n",
       "    </tr>\n",
       "  </tbody>\n",
       "</table>\n",
       "<p>45573 rows × 3 columns</p>\n",
       "</div>"
      ],
      "text/plain": [
       "       product_id                                       product_name  \\\n",
       "22808       24852                                             banana   \n",
       "12025       13176                             bag of organic bananas   \n",
       "19370       21137                               organic strawberries   \n",
       "20077       21903                               organic baby spinach   \n",
       "43271       47209                               organic hass avocado   \n",
       "...           ...                                                ...   \n",
       "5339         5836                       arctic d cod liver oil lemon   \n",
       "39932       43573                                     whisk- 10 inch   \n",
       "39930       43570                                       queso cotija   \n",
       "33181       36174                                  whole pinto beans   \n",
       "37938       41403  extra rich & thick spaghetti sauce spices & se...   \n",
       "\n",
       "       order_count  \n",
       "22808        66050  \n",
       "12025        53297  \n",
       "19370        37039  \n",
       "20077        33971  \n",
       "43271        29773  \n",
       "...            ...  \n",
       "5339             1  \n",
       "39932            1  \n",
       "39930            1  \n",
       "33181            1  \n",
       "37938            1  \n",
       "\n",
       "[45573 rows x 3 columns]"
      ]
     },
     "execution_count": 45,
     "metadata": {},
     "output_type": "execute_result"
    }
   ],
   "source": [
    "merged_order_products = pd.merge(order_products, products, on='product_id')\n",
    "\n",
    "product_orders = merged_order_products.groupby(['product_id', 'product_name']).size().reset_index(name='order_count')\n",
    "\n",
    "\n",
    "product_orders = product_orders.sort_values('order_count', ascending=False)\n",
    "product_orders\n"
   ]
  },
  {
   "cell_type": "code",
   "execution_count": 46,
   "id": "universal-facial",
   "metadata": {},
   "outputs": [
    {
     "name": "stdout",
     "output_type": "stream",
     "text": [
      "       product_id              product_name  order_count\n",
      "22808       24852                    banana        66050\n",
      "12025       13176    bag of organic bananas        53297\n",
      "19370       21137      organic strawberries        37039\n",
      "20077       21903      organic baby spinach        33971\n",
      "43271       47209      organic hass avocado        29773\n",
      "43788       47766           organic avocado        24689\n",
      "43663       47626               large lemon        21495\n",
      "15364       16797              strawberries        20018\n",
      "24047       26209                     limes        19690\n",
      "25556       27845        organic whole milk        19600\n",
      "25666       27966       organic raspberries        19197\n",
      "21025       22935      organic yellow onion        15898\n",
      "22908       24964            organic garlic        15292\n",
      "41244       45007          organic zucchini        14584\n",
      "35996       39275       organic blueberries        13879\n",
      "45561       49683            cucumber kirby        13675\n",
      "25889       28204        organic fuji apple        12544\n",
      "5375         5876             organic lemon        12232\n",
      "7543         8277  apple honeycrisp organic        11993\n",
      "37301       40706    organic grape tomatoes        11781\n"
     ]
    }
   ],
   "source": [
    "top_20_products = product_orders.head(20)\n",
    "print(top_20_products)"
   ]
  },
  {
   "cell_type": "code",
   "execution_count": 47,
   "id": "bbcdd20b",
   "metadata": {},
   "outputs": [
    {
     "name": "stdout",
     "output_type": "stream",
     "text": [
      "       product_id              product_name  order_count\n",
      "22808       24852                    banana        66050\n",
      "12025       13176    bag of organic bananas        53297\n",
      "19370       21137      organic strawberries        37039\n",
      "20077       21903      organic baby spinach        33971\n",
      "43271       47209      organic hass avocado        29773\n",
      "43788       47766           organic avocado        24689\n",
      "43663       47626               large lemon        21495\n",
      "15364       16797              strawberries        20018\n",
      "24047       26209                     limes        19690\n",
      "25556       27845        organic whole milk        19600\n",
      "25666       27966       organic raspberries        19197\n",
      "21025       22935      organic yellow onion        15898\n",
      "22908       24964            organic garlic        15292\n",
      "41244       45007          organic zucchini        14584\n",
      "35996       39275       organic blueberries        13879\n",
      "45561       49683            cucumber kirby        13675\n",
      "25889       28204        organic fuji apple        12544\n",
      "5375         5876             organic lemon        12232\n",
      "7543         8277  apple honeycrisp organic        11993\n",
      "37301       40706    organic grape tomatoes        11781\n"
     ]
    }
   ],
   "source": [
    "\n",
    "print(top_20_products[['product_id', 'product_name', 'order_count']])"
   ]
  },
  {
   "cell_type": "markdown",
   "id": "romantic-deposit",
   "metadata": {},
   "source": [
    "### How many items do people typically buy in one order? What does the distribution look like?"
   ]
  },
  {
   "cell_type": "code",
   "execution_count": 48,
   "id": "virtual-punch",
   "metadata": {},
   "outputs": [
    {
     "name": "stdout",
     "output_type": "stream",
     "text": [
      "        order_id  num_items\n",
      "0              4         13\n",
      "1              9         15\n",
      "2             11          5\n",
      "3             19          3\n",
      "4             20          8\n",
      "...          ...        ...\n",
      "450041   3421034         17\n",
      "450042   3421053          9\n",
      "450043   3421071          5\n",
      "450044   3421077          4\n",
      "450045   3421079          1\n",
      "\n",
      "[450046 rows x 2 columns]\n"
     ]
    }
   ],
   "source": [
    "order_sizes = order_products.groupby('order_id')['product_id'].count().reset_index(name='num_items')\n",
    "print(order_sizes)"
   ]
  },
  {
   "cell_type": "code",
   "execution_count": 49,
   "id": "sensitive-breathing",
   "metadata": {},
   "outputs": [
    {
     "data": {
      "image/png": "[encoded data removed]",
      "text/plain": [
       "<Figure size 640x480 with 1 Axes>"
      ]
     },
     "metadata": {},
     "output_type": "display_data"
    }
   ],
   "source": [
    "plt.hist(order_sizes['num_items'], bins=75)\n",
    "plt.xlabel(\"Number of items in order\")\n",
    "plt.ylabel(\"Frequency\")\n",
    "plt.title(\"Distribution of Order Sizes\")\n",
    "plt.show()"
   ]
  },
  {
   "cell_type": "markdown",
   "id": "5e6b5537",
   "metadata": {},
   "source": [
    "###  What are the top 20 items that are reordered most frequently (display their names and product IDs)?"
   ]
  },
  {
   "cell_type": "code",
   "execution_count": 50,
   "id": "9374e55a",
   "metadata": {},
   "outputs": [
    {
     "data": {
      "text/html": [
       "<div>\n",
       "<style scoped>\n",
       "    .dataframe tbody tr th:only-of-type {\n",
       "        vertical-align: middle;\n",
       "    }\n",
       "\n",
       "    .dataframe tbody tr th {\n",
       "        vertical-align: top;\n",
       "    }\n",
       "\n",
       "    .dataframe thead th {\n",
       "        text-align: right;\n",
       "    }\n",
       "</style>\n",
       "<table border=\"1\" class=\"dataframe\">\n",
       "  <thead>\n",
       "    <tr style=\"text-align: right;\">\n",
       "      <th></th>\n",
       "      <th>product_id</th>\n",
       "      <th>product_name</th>\n",
       "      <th>reordered</th>\n",
       "      <th>order_count</th>\n",
       "    </tr>\n",
       "  </thead>\n",
       "  <tbody>\n",
       "    <tr>\n",
       "      <th>79991</th>\n",
       "      <td>49694</td>\n",
       "      <td>burrito- steak &amp; cheese</td>\n",
       "      <td>1</td>\n",
       "      <td>3</td>\n",
       "    </tr>\n",
       "    <tr>\n",
       "      <th>31423</th>\n",
       "      <td>19555</td>\n",
       "      <td>three seed sourdough home bake bread</td>\n",
       "      <td>1</td>\n",
       "      <td>1</td>\n",
       "    </tr>\n",
       "    <tr>\n",
       "      <th>62789</th>\n",
       "      <td>39019</td>\n",
       "      <td>reduced sodium fat free chicken broth</td>\n",
       "      <td>1</td>\n",
       "      <td>10</td>\n",
       "    </tr>\n",
       "    <tr>\n",
       "      <th>31427</th>\n",
       "      <td>19557</td>\n",
       "      <td>jamaican jerk seasoning</td>\n",
       "      <td>1</td>\n",
       "      <td>1</td>\n",
       "    </tr>\n",
       "    <tr>\n",
       "      <th>31429</th>\n",
       "      <td>19558</td>\n",
       "      <td>raw honey</td>\n",
       "      <td>1</td>\n",
       "      <td>21</td>\n",
       "    </tr>\n",
       "    <tr>\n",
       "      <th>...</th>\n",
       "      <td>...</td>\n",
       "      <td>...</td>\n",
       "      <td>...</td>\n",
       "      <td>...</td>\n",
       "    </tr>\n",
       "    <tr>\n",
       "      <th>34463</th>\n",
       "      <td>21437</td>\n",
       "      <td>steak &amp; burger seasoning</td>\n",
       "      <td>0</td>\n",
       "      <td>2</td>\n",
       "    </tr>\n",
       "    <tr>\n",
       "      <th>34465</th>\n",
       "      <td>21442</td>\n",
       "      <td>cracked black pepper turkey breast</td>\n",
       "      <td>0</td>\n",
       "      <td>4</td>\n",
       "    </tr>\n",
       "    <tr>\n",
       "      <th>34468</th>\n",
       "      <td>21444</td>\n",
       "      <td>mountain breeze with bleach cleanser</td>\n",
       "      <td>0</td>\n",
       "      <td>1</td>\n",
       "    </tr>\n",
       "    <tr>\n",
       "      <th>34469</th>\n",
       "      <td>21445</td>\n",
       "      <td>spicy italian uncured sausage</td>\n",
       "      <td>0</td>\n",
       "      <td>20</td>\n",
       "    </tr>\n",
       "    <tr>\n",
       "      <th>39996</th>\n",
       "      <td>24837</td>\n",
       "      <td>organic dried mushrooms medley</td>\n",
       "      <td>0</td>\n",
       "      <td>11</td>\n",
       "    </tr>\n",
       "  </tbody>\n",
       "</table>\n",
       "<p>79992 rows × 4 columns</p>\n",
       "</div>"
      ],
      "text/plain": [
       "       product_id                           product_name  reordered  \\\n",
       "79991       49694                burrito- steak & cheese          1   \n",
       "31423       19555   three seed sourdough home bake bread          1   \n",
       "62789       39019  reduced sodium fat free chicken broth          1   \n",
       "31427       19557                jamaican jerk seasoning          1   \n",
       "31429       19558                              raw honey          1   \n",
       "...           ...                                    ...        ...   \n",
       "34463       21437               steak & burger seasoning          0   \n",
       "34465       21442     cracked black pepper turkey breast          0   \n",
       "34468       21444   mountain breeze with bleach cleanser          0   \n",
       "34469       21445          spicy italian uncured sausage          0   \n",
       "39996       24837         organic dried mushrooms medley          0   \n",
       "\n",
       "       order_count  \n",
       "79991            3  \n",
       "31423            1  \n",
       "62789           10  \n",
       "31427            1  \n",
       "31429           21  \n",
       "...            ...  \n",
       "34463            2  \n",
       "34465            4  \n",
       "34468            1  \n",
       "34469           20  \n",
       "39996           11  \n",
       "\n",
       "[79992 rows x 4 columns]"
      ]
     },
     "execution_count": 50,
     "metadata": {},
     "output_type": "execute_result"
    }
   ],
   "source": [
    "merged_reorder_products = pd.merge(order_products, products, on='product_id')\n",
    "\n",
    "product_reorders = merged_order_products.groupby(['product_id', 'product_name', 'reordered']).size().reset_index(name='order_count')\n",
    "\n",
    "product_reorders = product_reorders.sort_values('reordered', ascending=False)\n",
    "product_reorders"
   ]
  },
  {
   "cell_type": "code",
   "execution_count": 51,
   "id": "professional-surfing",
   "metadata": {
    "scrolled": true
   },
   "outputs": [
    {
     "name": "stdout",
     "output_type": "stream",
     "text": [
      "       product_id                                     product_name  reordered  \\\n",
      "79991       49694                          burrito- steak & cheese          1   \n",
      "31423       19555             three seed sourdough home bake bread          1   \n",
      "62789       39019            reduced sodium fat free chicken broth          1   \n",
      "31427       19557                          jamaican jerk seasoning          1   \n",
      "31429       19558                                        raw honey          1   \n",
      "31431       19559                 rosemary truffle gourmet popcorn          1   \n",
      "62786       39017                            unscented 3 in 1 soap          1   \n",
      "31433       19560    2chic avocado & olive oil shampoo travel size          1   \n",
      "31435       19561                     raw organic green super food          1   \n",
      "62784       39016             organic thai red curry sprouted rice          1   \n",
      "31437       19562           double cream chive vegan cashew cheese          1   \n",
      "62782       39015                original snack size french twists          1   \n",
      "31440       19565                         truvia sweetener packets          1   \n",
      "31442       19567                                            white          1   \n",
      "31443       19568                                          Unknown          1   \n",
      "62780       39014                   egg sausage and cheese burrito          1   \n",
      "31446       19570                               sunburst tangerine          1   \n",
      "62778       39013                     smoked fresh turkey kielbasa          1   \n",
      "31448       19571  organix grain free chicken & vegetable dog food          1   \n",
      "31425       19556                     sesame gruyere cheese crisps          1   \n",
      "\n",
      "       order_count  \n",
      "79991            3  \n",
      "31423            1  \n",
      "62789           10  \n",
      "31427            1  \n",
      "31429           21  \n",
      "31431           34  \n",
      "62786            5  \n",
      "31433            1  \n",
      "31435            1  \n",
      "62784            1  \n",
      "31437           22  \n",
      "62782            2  \n",
      "31440           27  \n",
      "31442            1  \n",
      "31443            3  \n",
      "62780            2  \n",
      "31446           31  \n",
      "62778          128  \n",
      "31448           47  \n",
      "31425            7  \n"
     ]
    }
   ],
   "source": [
    "print(product_reorders.head(20))"
   ]
  },
  {
   "cell_type": "code",
   "execution_count": 52,
   "id": "48dd3658",
   "metadata": {},
   "outputs": [
    {
     "name": "stdout",
     "output_type": "stream",
     "text": [
      "       product_id                                     product_name  reordered\n",
      "79991       49694                          burrito- steak & cheese          1\n",
      "31423       19555             three seed sourdough home bake bread          1\n",
      "62789       39019            reduced sodium fat free chicken broth          1\n",
      "31427       19557                          jamaican jerk seasoning          1\n",
      "31429       19558                                        raw honey          1\n",
      "31431       19559                 rosemary truffle gourmet popcorn          1\n",
      "62786       39017                            unscented 3 in 1 soap          1\n",
      "31433       19560    2chic avocado & olive oil shampoo travel size          1\n",
      "31435       19561                     raw organic green super food          1\n",
      "62784       39016             organic thai red curry sprouted rice          1\n",
      "31437       19562           double cream chive vegan cashew cheese          1\n",
      "62782       39015                original snack size french twists          1\n",
      "31440       19565                         truvia sweetener packets          1\n",
      "31442       19567                                            white          1\n",
      "31443       19568                                          Unknown          1\n",
      "62780       39014                   egg sausage and cheese burrito          1\n",
      "31446       19570                               sunburst tangerine          1\n",
      "62778       39013                     smoked fresh turkey kielbasa          1\n",
      "31448       19571  organix grain free chicken & vegetable dog food          1\n",
      "31425       19556                     sesame gruyere cheese crisps          1\n"
     ]
    }
   ],
   "source": [
    "top_20_reorder = product_reorders.head(20)\n",
    "\n",
    "print(top_20_reorder[['product_id', 'product_name', 'reordered']])\n"
   ]
  },
  {
   "cell_type": "code",
   "execution_count": 53,
   "id": "39e00d09",
   "metadata": {},
   "outputs": [
    {
     "name": "stdout",
     "output_type": "stream",
     "text": [
      "    product_id  reorder_count  \\\n",
      "0            1            158   \n",
      "1            3             31   \n",
      "2            4             25   \n",
      "3            7              1   \n",
      "4            8              6   \n",
      "5            9             16   \n",
      "6           10            151   \n",
      "7           11             10   \n",
      "8           12             16   \n",
      "9           13              1   \n",
      "10          18              8   \n",
      "11          22              3   \n",
      "12          23             56   \n",
      "13          25            199   \n",
      "14          26             35   \n",
      "15          27              9   \n",
      "16          28             60   \n",
      "17          29             12   \n",
      "18          30              2   \n",
      "19          31              2   \n",
      "\n",
      "                                         product_name  aisle_id  department_id  \n",
      "0                          chocolate sandwich cookies        61             19  \n",
      "1                robust golden unsweetened oolong tea        94              7  \n",
      "2   smart ones classic favorites mini rigatoni wit...        38              1  \n",
      "3                      pure coconut water with orange        98              7  \n",
      "4                   cut russet potatoes steam n' mash       116              1  \n",
      "5                   light strawberry blueberry yogurt       120             16  \n",
      "6      sparkling orange juice & prickly pear beverage       115              7  \n",
      "7                                   peach mango juice        31              7  \n",
      "8                          chocolate fudge layer cake       119              1  \n",
      "9                                   saline nasal mist        11             11  \n",
      "10                pizza for one suprema  frozen pizza        79              1  \n",
      "11                  fresh breath oral rinse mild mint        20             11  \n",
      "12                             organic turkey burgers        49             12  \n",
      "13            salted caramel lean protein & fiber bar         3             19  \n",
      "14        fancy feast trout feast flaked wet cat food        41              8  \n",
      "15  complete spring water foaming antibacterial ha...       127             11  \n",
      "16                                  wheat chex cereal       121             14  \n",
      "17  fresh cut golden sweet no salt added whole ker...        81             15  \n",
      "18         three cheese ziti- marinara with meatballs        38              1  \n",
      "19                                 white pearl onions       123              4  \n"
     ]
    }
   ],
   "source": [
    "\n",
    "# Filter order_products to only include rows with reordered = 1\n",
    "order_products_reordered = order_products[order_products['reordered'] == 1]\n",
    "\n",
    "# Group by product_id and count any column\n",
    "product_reorder_counts = order_products_reordered.groupby('product_id').size().reset_index(name='reorder_count')\n",
    "\n",
    "# Merge with products to get product names\n",
    "product_reorder_counts = product_reorder_counts.merge(products, on='product_id')\n",
    "\n",
    "# Display the result\n",
    "print(product_reorder_counts.head(20))"
   ]
  },
  {
   "cell_type": "markdown",
   "id": "9d312b14",
   "metadata": {},
   "source": [
    "###  For each product, what proportion of its orders are reorders?"
   ]
  },
  {
   "cell_type": "code",
   "execution_count": 54,
   "id": "8ae9f4b1",
   "metadata": {},
   "outputs": [],
   "source": [
    "\n",
    "product_reorder_proportion = order_products.groupby('product_id')['reordered'].mean().reset_index(name='reorder_proportion')\n"
   ]
  },
  {
   "cell_type": "code",
   "execution_count": 55,
   "id": "103e7fe1",
   "metadata": {},
   "outputs": [],
   "source": [
    "result = pd.merge(product_reorder_proportion, products, on='product_id')"
   ]
  },
  {
   "cell_type": "code",
   "execution_count": 56,
   "id": "social-individual",
   "metadata": {},
   "outputs": [
    {
     "name": "stdout",
     "output_type": "stream",
     "text": [
      "       product_id                                       product_name  \\\n",
      "0               1                         chocolate sandwich cookies   \n",
      "1               2                                   all-seasons salt   \n",
      "2               3               robust golden unsweetened oolong tea   \n",
      "3               4  smart ones classic favorites mini rigatoni wit...   \n",
      "4               7                     pure coconut water with orange   \n",
      "...           ...                                                ...   \n",
      "45568       49690                      high performance energy drink   \n",
      "45569       49691                      original pancake & waffle mix   \n",
      "45570       49692    organic instant oatmeal light maple brown sugar   \n",
      "45571       49693                             spring water body wash   \n",
      "45572       49694                            burrito- steak & cheese   \n",
      "\n",
      "       reorder_proportion  \n",
      "0                0.564286  \n",
      "1                0.000000  \n",
      "2                0.738095  \n",
      "3                0.510204  \n",
      "4                0.500000  \n",
      "...                   ...  \n",
      "45568            0.800000  \n",
      "45569            0.430556  \n",
      "45570            0.416667  \n",
      "45571            0.440000  \n",
      "45572            0.333333  \n",
      "\n",
      "[45573 rows x 3 columns]\n"
     ]
    }
   ],
   "source": [
    "result = result[['product_id', 'product_name', 'reorder_proportion']]\n",
    "\n",
    "print(result)"
   ]
  },
  {
   "cell_type": "markdown",
   "id": "subject-boxing",
   "metadata": {},
   "source": [
    "###  For each customer, what proportion of their products ordered are reorders?"
   ]
  },
  {
   "cell_type": "code",
   "execution_count": 57,
   "id": "medical-couple",
   "metadata": {
    "scrolled": true
   },
   "outputs": [
    {
     "name": "stdout",
     "output_type": "stream",
     "text": [
      "   order_id  product_id  order_count\n",
      "0         4       10054            1\n",
      "1         4       17616            1\n",
      "2         4       21351            1\n",
      "3         4       22598            1\n",
      "4         4       25146            1\n",
      "5         4       26434            1\n",
      "6         4       27761            1\n",
      "7         4       32645            1\n",
      "8         4       34862            1\n",
      "9         4       39758            1\n",
      "        order_id  total_orders\n",
      "0              4            13\n",
      "1              9            15\n",
      "2             11             5\n",
      "3             19             3\n",
      "4             20             8\n",
      "...          ...           ...\n",
      "450041   3421034            17\n",
      "450042   3421053             9\n",
      "450043   3421071             5\n",
      "450044   3421077             4\n",
      "450045   3421079             1\n",
      "\n",
      "[450046 rows x 2 columns]\n",
      "    order_id  product_id  order_count  total_orders\n",
      "0          4       10054            1            13\n",
      "1          4       17616            1            13\n",
      "2          4       21351            1            13\n",
      "3          4       22598            1            13\n",
      "4          4       25146            1            13\n",
      "5          4       26434            1            13\n",
      "6          4       27761            1            13\n",
      "7          4       32645            1            13\n",
      "8          4       34862            1            13\n",
      "9          4       39758            1            13\n",
      "10         4       40285            1            13\n",
      "11         4       41276            1            13\n",
      "12         4       46842            1            13\n",
      "13         9         432            1            15\n",
      "14         9        2014            1            15\n",
      "15         9        3990            1            15\n",
      "        order_id  avg_reorder_proportion\n",
      "0              4                     0.0\n",
      "1              9                     0.0\n",
      "2             11                     0.0\n",
      "3             19                     0.0\n",
      "4             20                     0.0\n",
      "...          ...                     ...\n",
      "450041   3421034                     0.0\n",
      "450042   3421053                     0.0\n",
      "450043   3421071                     0.0\n",
      "450044   3421077                     0.0\n",
      "450045   3421079                     0.0\n",
      "\n",
      "[450046 rows x 2 columns]\n"
     ]
    }
   ],
   "source": [
    "#group by order_id and product_id and counts the number of orders\n",
    "customer_orders = merged_reorder_products.groupby(['order_id', 'product_id']).size().reset_index(name='order_count')\n",
    "print(customer_orders.head(10))\n",
    "\n",
    "# Calculate the total number of orders for each customer\n",
    "customer_total_orders = customer_orders.groupby('order_id')['order_count'].sum().reset_index(name='total_orders')\n",
    "print(customer_total_orders)\n",
    "\n",
    "# customer_orders and customer_total_orders dataframes merged on order_id\n",
    "merged_total_df = pd.merge(customer_orders, customer_total_orders, on='order_id')\n",
    "print(merged_total_df.head(16))\n",
    "\n",
    "# Calculated the proportion of reordered products for each customer\n",
    "merged_total_df['reorder'] = (merged_total_df['order_count'] - 1) / merged_total_df['total_orders'] * 100\n",
    "\n",
    "# Grouped by order_id and calculate the average reorder proportion\n",
    "customer_reorder_proportion = merged_total_df.groupby('order_id')['reorder'].mean().reset_index(name='avg_reorder_proportion')\n",
    "\n",
    "print(customer_reorder_proportion)"
   ]
  },
  {
   "cell_type": "markdown",
   "id": "92d35137",
   "metadata": {},
   "source": [
    "###  What are the top 20 items that people put in their carts first? "
   ]
  },
  {
   "cell_type": "code",
   "execution_count": 58,
   "id": "0ae57274",
   "metadata": {
    "scrolled": true
   },
   "outputs": [
    {
     "name": "stdout",
     "output_type": "stream",
     "text": [
      "         order_id  product_id  add_to_cart_order  reordered\n",
      "1          567889        1560                  1          1\n",
      "2         2261212       26683                  1          1\n",
      "14        1961225       37553                  1          1\n",
      "16         639939       10017                  1          1\n",
      "23         750040        8518                  1          0\n",
      "...           ...         ...                ...        ...\n",
      "4544978   1759009       46175                  1          0\n",
      "4544989    115427       20842                  1          1\n",
      "4544990   2049780       28576                  1          1\n",
      "4544997   2300092       10017                  1          0\n",
      "4544999   1622300       24852                  1          1\n",
      "\n",
      "[450046 rows x 4 columns]\n"
     ]
    }
   ],
   "source": [
    "# Filter the first item added to each cart (add_to_cart_order == 1)\n",
    "first_items = order_products[order_products['add_to_cart_order'] == 1]\n",
    "print(first_items)\n",
    "\n",
    "# Group by product_id and count the number of times each product was the first item added\n",
    "first_item_counts = first_items.groupby('product_id')['product_id'].count().reset_index(name='count')\n",
    "\n",
    "# Merge with the products dataframe to get the product names\n",
    "first_item_counts = pd.merge(first_item_counts, products, on='product_id')\n",
    "\n",
    "# Sort by count in descending order and select the top 20\n",
    "top_20_first_items = first_item_counts.sort_values('count', ascending=False).head(20)\n",
    "\n",
    "# Rearrange the columns to get the desired output\n",
    "top_20_first_items = top_20_first_items[['product_id', 'product_name', 'count']]\n",
    "\n"
   ]
  },
  {
   "cell_type": "code",
   "execution_count": 59,
   "id": "forty-netherlands",
   "metadata": {
    "scrolled": true
   },
   "outputs": [
    {
     "name": "stdout",
     "output_type": "stream",
     "text": [
      "       product_id                 product_name  count\n",
      "13414       24852                       banana  15562\n",
      "7127        13176       bag of organic bananas  11026\n",
      "15028       27845           organic whole milk   4363\n",
      "11384       21137         organic strawberries   3946\n",
      "25439       47209         organic hass avocado   3390\n",
      "11786       21903         organic baby spinach   3336\n",
      "25732       47766              organic avocado   3044\n",
      "10622       19660                 spring water   2336\n",
      "9050        16797                 strawberries   2308\n",
      "15102       27966          organic raspberries   2024\n",
      "24024       44632   sparkling water grapefruit   1914\n",
      "26519       49235          organic half & half   1797\n",
      "25658       47626                  large lemon   1737\n",
      "115           196                         soda   1733\n",
      "20853       38689     organic reduced fat milk   1397\n",
      "14158       26209                        limes   1370\n",
      "6660        12341                hass avocados   1340\n",
      "3153         5785  organic reduced fat 2% milk   1310\n",
      "14639       27086                  half & half   1309\n",
      "23335       43352                  raspberries   1246\n"
     ]
    }
   ],
   "source": [
    "print(top_20_first_items)"
   ]
  },
  {
   "cell_type": "markdown",
   "id": "28ce9872",
   "metadata": {},
   "source": []
  },
  {
   "cell_type": "code",
   "execution_count": null,
   "id": "f4a2af09",
   "metadata": {},
   "outputs": [],
   "source": []
  }
 ],
 "metadata": {
  "ExecuteTimeLog": [
   {
    "duration": 10,
    "start_time": "2024-06-10T11:24:52.910Z"
   },
   {
    "duration": 4,
    "start_time": "2024-06-10T11:25:15.349Z"
   },
   {
    "duration": 469,
    "start_time": "2024-06-10T11:25:23.796Z"
   },
   {
    "duration": 3,
    "start_time": "2024-06-10T11:25:36.828Z"
   },
   {
    "duration": 3,
    "start_time": "2024-06-10T11:25:40.962Z"
   },
   {
    "duration": 4,
    "start_time": "2024-06-10T11:25:42.731Z"
   },
   {
    "duration": 465,
    "start_time": "2024-06-10T11:25:59.109Z"
   },
   {
    "duration": 3,
    "start_time": "2024-06-10T11:25:59.578Z"
   },
   {
    "duration": 4,
    "start_time": "2024-06-10T11:25:59.584Z"
   },
   {
    "duration": 3,
    "start_time": "2024-06-10T11:25:59.609Z"
   },
   {
    "duration": 4,
    "start_time": "2024-06-10T11:25:59.615Z"
   },
   {
    "duration": 4,
    "start_time": "2024-06-10T11:25:59.621Z"
   },
   {
    "duration": 4,
    "start_time": "2024-06-10T11:25:59.628Z"
   },
   {
    "duration": 4,
    "start_time": "2024-06-10T11:25:59.635Z"
   },
   {
    "duration": 3,
    "start_time": "2024-06-10T11:25:59.643Z"
   },
   {
    "duration": 4,
    "start_time": "2024-06-10T11:25:59.705Z"
   },
   {
    "duration": 4,
    "start_time": "2024-06-10T11:25:59.714Z"
   },
   {
    "duration": 3,
    "start_time": "2024-06-10T11:25:59.722Z"
   },
   {
    "duration": 4,
    "start_time": "2024-06-10T11:25:59.730Z"
   },
   {
    "duration": 4,
    "start_time": "2024-06-10T11:25:59.738Z"
   },
   {
    "duration": 4,
    "start_time": "2024-06-10T11:25:59.745Z"
   },
   {
    "duration": 4,
    "start_time": "2024-06-10T11:25:59.806Z"
   },
   {
    "duration": 3,
    "start_time": "2024-06-10T11:25:59.813Z"
   },
   {
    "duration": 5,
    "start_time": "2024-06-10T11:25:59.819Z"
   },
   {
    "duration": 4,
    "start_time": "2024-06-10T11:25:59.827Z"
   },
   {
    "duration": 4,
    "start_time": "2024-06-10T11:25:59.834Z"
   },
   {
    "duration": 4,
    "start_time": "2024-06-10T11:25:59.842Z"
   },
   {
    "duration": 5,
    "start_time": "2024-06-10T11:25:59.848Z"
   },
   {
    "duration": 3,
    "start_time": "2024-06-10T11:26:59.075Z"
   },
   {
    "duration": 4,
    "start_time": "2024-06-10T11:27:00.175Z"
   },
   {
    "duration": 465,
    "start_time": "2024-06-10T11:27:02.487Z"
   },
   {
    "duration": 33,
    "start_time": "2024-06-10T11:27:07.593Z"
   },
   {
    "duration": 95,
    "start_time": "2024-06-10T11:28:32.632Z"
   },
   {
    "duration": 1061,
    "start_time": "2024-06-10T11:29:45.934Z"
   },
   {
    "duration": 9,
    "start_time": "2024-06-10T11:30:03.680Z"
   },
   {
    "duration": 435,
    "start_time": "2024-06-10T11:30:49.639Z"
   },
   {
    "duration": 4,
    "start_time": "2024-06-10T11:30:50.078Z"
   },
   {
    "duration": 424,
    "start_time": "2024-06-10T11:30:50.086Z"
   },
   {
    "duration": 50,
    "start_time": "2024-06-10T11:30:50.515Z"
   },
   {
    "duration": 16,
    "start_time": "2024-06-10T11:30:50.568Z"
   },
   {
    "duration": 19,
    "start_time": "2024-06-10T11:30:50.588Z"
   },
   {
    "duration": 369,
    "start_time": "2024-06-10T11:30:50.610Z"
   },
   {
    "duration": 0,
    "start_time": "2024-06-10T11:30:50.984Z"
   },
   {
    "duration": 0,
    "start_time": "2024-06-10T11:30:50.986Z"
   },
   {
    "duration": 0,
    "start_time": "2024-06-10T11:30:50.989Z"
   },
   {
    "duration": 0,
    "start_time": "2024-06-10T11:30:51.005Z"
   },
   {
    "duration": 0,
    "start_time": "2024-06-10T11:30:51.008Z"
   },
   {
    "duration": 0,
    "start_time": "2024-06-10T11:30:51.010Z"
   },
   {
    "duration": 1,
    "start_time": "2024-06-10T11:30:51.013Z"
   },
   {
    "duration": 0,
    "start_time": "2024-06-10T11:30:51.015Z"
   },
   {
    "duration": 0,
    "start_time": "2024-06-10T11:30:51.018Z"
   },
   {
    "duration": 0,
    "start_time": "2024-06-10T11:30:51.021Z"
   },
   {
    "duration": 0,
    "start_time": "2024-06-10T11:30:51.023Z"
   },
   {
    "duration": 0,
    "start_time": "2024-06-10T11:30:51.026Z"
   },
   {
    "duration": 0,
    "start_time": "2024-06-10T11:30:51.029Z"
   },
   {
    "duration": 0,
    "start_time": "2024-06-10T11:30:51.032Z"
   },
   {
    "duration": 0,
    "start_time": "2024-06-10T11:30:51.033Z"
   },
   {
    "duration": 0,
    "start_time": "2024-06-10T11:30:51.036Z"
   },
   {
    "duration": 0,
    "start_time": "2024-06-10T11:30:51.038Z"
   },
   {
    "duration": 0,
    "start_time": "2024-06-10T11:30:51.040Z"
   },
   {
    "duration": 0,
    "start_time": "2024-06-10T11:30:51.043Z"
   },
   {
    "duration": 0,
    "start_time": "2024-06-10T11:30:51.045Z"
   },
   {
    "duration": 3332,
    "start_time": "2024-06-10T11:31:03.645Z"
   },
   {
    "duration": 280,
    "start_time": "2024-06-10T11:34:20.440Z"
   },
   {
    "duration": 545,
    "start_time": "2024-06-10T11:35:20.231Z"
   },
   {
    "duration": 552,
    "start_time": "2024-06-10T11:36:35.330Z"
   },
   {
    "duration": 523,
    "start_time": "2024-06-10T11:37:53.054Z"
   },
   {
    "duration": 808,
    "start_time": "2024-06-10T11:38:13.417Z"
   },
   {
    "duration": 807,
    "start_time": "2024-06-10T11:38:44.500Z"
   },
   {
    "duration": 546,
    "start_time": "2024-06-10T11:39:07.151Z"
   },
   {
    "duration": 536,
    "start_time": "2024-06-10T11:39:59.350Z"
   },
   {
    "duration": 540,
    "start_time": "2024-06-10T11:40:08.574Z"
   },
   {
    "duration": 523,
    "start_time": "2024-06-10T11:42:40.841Z"
   },
   {
    "duration": 534,
    "start_time": "2024-06-10T11:43:27.125Z"
   },
   {
    "duration": 555,
    "start_time": "2024-06-10T11:43:57.961Z"
   },
   {
    "duration": 527,
    "start_time": "2024-06-10T11:44:13.371Z"
   },
   {
    "duration": 9,
    "start_time": "2024-06-10T11:50:33.436Z"
   },
   {
    "duration": 585,
    "start_time": "2024-06-10T11:50:47.395Z"
   },
   {
    "duration": 24,
    "start_time": "2024-06-10T11:52:42.610Z"
   },
   {
    "duration": 545,
    "start_time": "2024-06-10T11:53:15.393Z"
   },
   {
    "duration": 471,
    "start_time": "2024-06-10T11:54:03.890Z"
   },
   {
    "duration": 4,
    "start_time": "2024-06-10T11:54:04.364Z"
   },
   {
    "duration": 223,
    "start_time": "2024-06-10T11:54:04.372Z"
   },
   {
    "duration": 51,
    "start_time": "2024-06-10T11:54:04.600Z"
   },
   {
    "duration": 7,
    "start_time": "2024-06-10T11:54:04.654Z"
   },
   {
    "duration": 7,
    "start_time": "2024-06-10T11:54:04.664Z"
   },
   {
    "duration": 3306,
    "start_time": "2024-06-10T11:54:04.675Z"
   },
   {
    "duration": 346,
    "start_time": "2024-06-10T11:54:07.983Z"
   },
   {
    "duration": 3,
    "start_time": "2024-06-10T11:54:08.332Z"
   },
   {
    "duration": 4,
    "start_time": "2024-06-10T11:54:08.342Z"
   },
   {
    "duration": 4,
    "start_time": "2024-06-10T11:54:08.349Z"
   },
   {
    "duration": 3,
    "start_time": "2024-06-10T11:54:08.356Z"
   },
   {
    "duration": 43,
    "start_time": "2024-06-10T11:54:08.362Z"
   },
   {
    "duration": 6,
    "start_time": "2024-06-10T11:54:08.408Z"
   },
   {
    "duration": 4,
    "start_time": "2024-06-10T11:54:08.417Z"
   },
   {
    "duration": 5,
    "start_time": "2024-06-10T11:54:08.423Z"
   },
   {
    "duration": 4,
    "start_time": "2024-06-10T11:54:08.431Z"
   },
   {
    "duration": 4,
    "start_time": "2024-06-10T11:54:08.438Z"
   },
   {
    "duration": 4,
    "start_time": "2024-06-10T11:54:08.445Z"
   },
   {
    "duration": 3,
    "start_time": "2024-06-10T11:54:08.452Z"
   },
   {
    "duration": 4,
    "start_time": "2024-06-10T11:54:08.509Z"
   },
   {
    "duration": 5,
    "start_time": "2024-06-10T11:54:08.517Z"
   },
   {
    "duration": 4,
    "start_time": "2024-06-10T11:54:08.525Z"
   },
   {
    "duration": 4,
    "start_time": "2024-06-10T11:54:08.532Z"
   },
   {
    "duration": 4,
    "start_time": "2024-06-10T11:54:08.539Z"
   },
   {
    "duration": 3,
    "start_time": "2024-06-10T11:54:08.546Z"
   },
   {
    "duration": 53,
    "start_time": "2024-06-10T11:54:08.553Z"
   },
   {
    "duration": 343,
    "start_time": "2024-06-10T11:54:34.058Z"
   },
   {
    "duration": 378,
    "start_time": "2024-06-10T11:54:53.004Z"
   },
   {
    "duration": 390,
    "start_time": "2024-06-10T14:17:05.771Z"
   },
   {
    "duration": 517,
    "start_time": "2024-06-10T14:17:13.035Z"
   },
   {
    "duration": 4,
    "start_time": "2024-06-10T14:17:13.556Z"
   },
   {
    "duration": 286,
    "start_time": "2024-06-10T14:17:13.563Z"
   },
   {
    "duration": 92,
    "start_time": "2024-06-10T14:17:13.857Z"
   },
   {
    "duration": 11,
    "start_time": "2024-06-10T14:17:13.952Z"
   },
   {
    "duration": 10,
    "start_time": "2024-06-10T14:17:13.966Z"
   },
   {
    "duration": 4284,
    "start_time": "2024-06-10T14:17:13.979Z"
   },
   {
    "duration": 434,
    "start_time": "2024-06-10T14:17:18.266Z"
   },
   {
    "duration": 166,
    "start_time": "2024-06-10T14:17:18.704Z"
   },
   {
    "duration": 0,
    "start_time": "2024-06-10T14:17:18.876Z"
   },
   {
    "duration": 0,
    "start_time": "2024-06-10T14:17:18.878Z"
   },
   {
    "duration": 0,
    "start_time": "2024-06-10T14:17:18.879Z"
   },
   {
    "duration": 0,
    "start_time": "2024-06-10T14:17:18.882Z"
   },
   {
    "duration": 0,
    "start_time": "2024-06-10T14:17:18.885Z"
   },
   {
    "duration": 0,
    "start_time": "2024-06-10T14:17:18.888Z"
   },
   {
    "duration": 0,
    "start_time": "2024-06-10T14:17:18.890Z"
   },
   {
    "duration": 0,
    "start_time": "2024-06-10T14:17:18.893Z"
   },
   {
    "duration": 0,
    "start_time": "2024-06-10T14:17:18.895Z"
   },
   {
    "duration": 0,
    "start_time": "2024-06-10T14:17:18.922Z"
   },
   {
    "duration": 0,
    "start_time": "2024-06-10T14:17:18.924Z"
   },
   {
    "duration": 0,
    "start_time": "2024-06-10T14:17:18.925Z"
   },
   {
    "duration": 0,
    "start_time": "2024-06-10T14:17:18.928Z"
   },
   {
    "duration": 0,
    "start_time": "2024-06-10T14:17:18.931Z"
   },
   {
    "duration": 0,
    "start_time": "2024-06-10T14:17:18.935Z"
   },
   {
    "duration": 0,
    "start_time": "2024-06-10T14:17:18.938Z"
   },
   {
    "duration": 0,
    "start_time": "2024-06-10T14:17:18.941Z"
   },
   {
    "duration": 0,
    "start_time": "2024-06-10T14:17:18.943Z"
   },
   {
    "duration": 22,
    "start_time": "2024-06-10T14:17:42.984Z"
   },
   {
    "duration": 7,
    "start_time": "2024-06-10T14:18:37.961Z"
   },
   {
    "duration": 10,
    "start_time": "2024-06-10T14:19:02.218Z"
   },
   {
    "duration": 10,
    "start_time": "2024-06-10T16:19:21.332Z"
   },
   {
    "duration": 202,
    "start_time": "2024-06-10T16:20:23.555Z"
   },
   {
    "duration": 241,
    "start_time": "2024-06-10T16:21:37.630Z"
   },
   {
    "duration": 241,
    "start_time": "2024-06-10T16:21:58.584Z"
   },
   {
    "duration": 268,
    "start_time": "2024-06-10T16:23:11.061Z"
   },
   {
    "duration": 20,
    "start_time": "2024-06-10T16:25:26.046Z"
   },
   {
    "duration": 268,
    "start_time": "2024-06-10T16:25:50.731Z"
   },
   {
    "duration": 59,
    "start_time": "2024-06-10T16:28:05.937Z"
   },
   {
    "duration": 217,
    "start_time": "2024-06-10T16:29:25.606Z"
   },
   {
    "duration": 243,
    "start_time": "2024-06-10T16:29:54.241Z"
   },
   {
    "duration": 24,
    "start_time": "2024-06-10T16:32:56.180Z"
   },
   {
    "duration": 17,
    "start_time": "2024-06-10T16:33:20.944Z"
   },
   {
    "duration": 448,
    "start_time": "2024-06-10T16:33:55.682Z"
   },
   {
    "duration": 4,
    "start_time": "2024-06-10T16:33:56.134Z"
   },
   {
    "duration": 226,
    "start_time": "2024-06-10T16:33:56.141Z"
   },
   {
    "duration": 75,
    "start_time": "2024-06-10T16:33:56.370Z"
   },
   {
    "duration": 10,
    "start_time": "2024-06-10T16:33:56.450Z"
   },
   {
    "duration": 9,
    "start_time": "2024-06-10T16:33:56.463Z"
   },
   {
    "duration": 3848,
    "start_time": "2024-06-10T16:33:56.475Z"
   },
   {
    "duration": 231,
    "start_time": "2024-06-10T16:34:00.327Z"
   },
   {
    "duration": 12,
    "start_time": "2024-06-10T16:34:00.562Z"
   },
   {
    "duration": 307,
    "start_time": "2024-06-10T16:34:00.579Z"
   },
   {
    "duration": 235,
    "start_time": "2024-06-10T16:34:00.889Z"
   },
   {
    "duration": 63,
    "start_time": "2024-06-10T16:34:01.129Z"
   },
   {
    "duration": 46,
    "start_time": "2024-06-10T16:34:01.198Z"
   },
   {
    "duration": 16,
    "start_time": "2024-06-10T16:34:01.252Z"
   },
   {
    "duration": 4,
    "start_time": "2024-06-10T16:34:01.271Z"
   },
   {
    "duration": 46,
    "start_time": "2024-06-10T16:34:01.279Z"
   },
   {
    "duration": 4,
    "start_time": "2024-06-10T16:34:01.329Z"
   },
   {
    "duration": 3,
    "start_time": "2024-06-10T16:34:01.337Z"
   },
   {
    "duration": 4,
    "start_time": "2024-06-10T16:34:01.344Z"
   },
   {
    "duration": 4,
    "start_time": "2024-06-10T16:34:01.351Z"
   },
   {
    "duration": 4,
    "start_time": "2024-06-10T16:34:01.359Z"
   },
   {
    "duration": 58,
    "start_time": "2024-06-10T16:34:01.366Z"
   },
   {
    "duration": 5,
    "start_time": "2024-06-10T16:34:01.427Z"
   },
   {
    "duration": 5,
    "start_time": "2024-06-10T16:34:01.436Z"
   },
   {
    "duration": 4,
    "start_time": "2024-06-10T16:34:01.445Z"
   },
   {
    "duration": 5,
    "start_time": "2024-06-10T16:34:01.452Z"
   },
   {
    "duration": 4,
    "start_time": "2024-06-10T16:34:01.460Z"
   },
   {
    "duration": 19,
    "start_time": "2024-06-10T16:35:08.526Z"
   },
   {
    "duration": 133,
    "start_time": "2024-06-10T16:37:56.694Z"
   },
   {
    "duration": 31,
    "start_time": "2024-06-10T16:38:05.517Z"
   },
   {
    "duration": 34,
    "start_time": "2024-06-10T16:39:55.650Z"
   },
   {
    "duration": 52,
    "start_time": "2024-06-10T16:40:11.071Z"
   },
   {
    "duration": 54,
    "start_time": "2024-06-10T16:44:20.212Z"
   },
   {
    "duration": 589,
    "start_time": "2024-06-10T16:44:43.225Z"
   },
   {
    "duration": 52,
    "start_time": "2024-06-10T16:44:50.807Z"
   },
   {
    "duration": 37,
    "start_time": "2024-06-10T16:45:33.246Z"
   },
   {
    "duration": 51,
    "start_time": "2024-06-10T16:46:01.179Z"
   },
   {
    "duration": 40,
    "start_time": "2024-06-10T16:46:28.724Z"
   },
   {
    "duration": 477,
    "start_time": "2024-06-10T16:49:11.165Z"
   },
   {
    "duration": 8,
    "start_time": "2024-06-10T16:49:11.647Z"
   },
   {
    "duration": 231,
    "start_time": "2024-06-10T16:49:11.659Z"
   },
   {
    "duration": 71,
    "start_time": "2024-06-10T16:49:11.894Z"
   },
   {
    "duration": 8,
    "start_time": "2024-06-10T16:49:11.968Z"
   },
   {
    "duration": 0,
    "start_time": "2024-06-10T16:49:11.981Z"
   },
   {
    "duration": 0,
    "start_time": "2024-06-10T16:49:11.983Z"
   },
   {
    "duration": 1,
    "start_time": "2024-06-10T16:49:11.986Z"
   },
   {
    "duration": 0,
    "start_time": "2024-06-10T16:49:11.990Z"
   },
   {
    "duration": 0,
    "start_time": "2024-06-10T16:49:12.023Z"
   },
   {
    "duration": 0,
    "start_time": "2024-06-10T16:49:12.026Z"
   },
   {
    "duration": 0,
    "start_time": "2024-06-10T16:49:12.029Z"
   },
   {
    "duration": 0,
    "start_time": "2024-06-10T16:49:12.032Z"
   },
   {
    "duration": 0,
    "start_time": "2024-06-10T16:49:12.034Z"
   },
   {
    "duration": 0,
    "start_time": "2024-06-10T16:49:12.036Z"
   },
   {
    "duration": 0,
    "start_time": "2024-06-10T16:49:12.039Z"
   },
   {
    "duration": 0,
    "start_time": "2024-06-10T16:49:12.041Z"
   },
   {
    "duration": 0,
    "start_time": "2024-06-10T16:49:12.043Z"
   },
   {
    "duration": 0,
    "start_time": "2024-06-10T16:49:12.045Z"
   },
   {
    "duration": 0,
    "start_time": "2024-06-10T16:49:12.048Z"
   },
   {
    "duration": 0,
    "start_time": "2024-06-10T16:49:12.050Z"
   },
   {
    "duration": 0,
    "start_time": "2024-06-10T16:49:12.054Z"
   },
   {
    "duration": 0,
    "start_time": "2024-06-10T16:49:12.056Z"
   },
   {
    "duration": 0,
    "start_time": "2024-06-10T16:49:12.058Z"
   },
   {
    "duration": 0,
    "start_time": "2024-06-10T16:49:12.062Z"
   },
   {
    "duration": 0,
    "start_time": "2024-06-10T16:49:12.122Z"
   },
   {
    "duration": 0,
    "start_time": "2024-06-10T16:49:12.125Z"
   },
   {
    "duration": 6,
    "start_time": "2024-06-10T16:49:31.646Z"
   },
   {
    "duration": 6,
    "start_time": "2024-06-10T16:49:47.805Z"
   },
   {
    "duration": 459,
    "start_time": "2024-06-10T16:49:57.574Z"
   },
   {
    "duration": 4,
    "start_time": "2024-06-10T16:49:58.037Z"
   },
   {
    "duration": 232,
    "start_time": "2024-06-10T16:49:58.045Z"
   },
   {
    "duration": 68,
    "start_time": "2024-06-10T16:49:58.283Z"
   },
   {
    "duration": 5,
    "start_time": "2024-06-10T16:49:58.357Z"
   },
   {
    "duration": 0,
    "start_time": "2024-06-10T16:49:58.367Z"
   },
   {
    "duration": 0,
    "start_time": "2024-06-10T16:49:58.369Z"
   },
   {
    "duration": 0,
    "start_time": "2024-06-10T16:49:58.371Z"
   },
   {
    "duration": 0,
    "start_time": "2024-06-10T16:49:58.374Z"
   },
   {
    "duration": 0,
    "start_time": "2024-06-10T16:49:58.376Z"
   },
   {
    "duration": 0,
    "start_time": "2024-06-10T16:49:58.379Z"
   },
   {
    "duration": 0,
    "start_time": "2024-06-10T16:49:58.381Z"
   },
   {
    "duration": 0,
    "start_time": "2024-06-10T16:49:58.385Z"
   },
   {
    "duration": 0,
    "start_time": "2024-06-10T16:49:58.424Z"
   },
   {
    "duration": 0,
    "start_time": "2024-06-10T16:49:58.427Z"
   },
   {
    "duration": 0,
    "start_time": "2024-06-10T16:49:58.430Z"
   },
   {
    "duration": 0,
    "start_time": "2024-06-10T16:49:58.433Z"
   },
   {
    "duration": 0,
    "start_time": "2024-06-10T16:49:58.436Z"
   },
   {
    "duration": 0,
    "start_time": "2024-06-10T16:49:58.439Z"
   },
   {
    "duration": 0,
    "start_time": "2024-06-10T16:49:58.442Z"
   },
   {
    "duration": 0,
    "start_time": "2024-06-10T16:49:58.446Z"
   },
   {
    "duration": 0,
    "start_time": "2024-06-10T16:49:58.448Z"
   },
   {
    "duration": 0,
    "start_time": "2024-06-10T16:49:58.453Z"
   },
   {
    "duration": 0,
    "start_time": "2024-06-10T16:49:58.456Z"
   },
   {
    "duration": 0,
    "start_time": "2024-06-10T16:49:58.459Z"
   },
   {
    "duration": 0,
    "start_time": "2024-06-10T16:49:58.522Z"
   },
   {
    "duration": 0,
    "start_time": "2024-06-10T16:49:58.525Z"
   },
   {
    "duration": 9,
    "start_time": "2024-06-10T16:50:14.619Z"
   },
   {
    "duration": 8,
    "start_time": "2024-06-10T16:50:15.709Z"
   },
   {
    "duration": 3756,
    "start_time": "2024-06-10T16:50:16.250Z"
   },
   {
    "duration": 232,
    "start_time": "2024-06-10T16:50:20.010Z"
   },
   {
    "duration": 12,
    "start_time": "2024-06-10T16:50:20.245Z"
   },
   {
    "duration": 550,
    "start_time": "2024-06-10T16:50:24.248Z"
   },
   {
    "duration": 5,
    "start_time": "2024-06-10T16:50:24.803Z"
   },
   {
    "duration": 278,
    "start_time": "2024-06-10T16:50:24.827Z"
   },
   {
    "duration": 69,
    "start_time": "2024-06-10T16:50:25.109Z"
   },
   {
    "duration": 8,
    "start_time": "2024-06-10T16:50:25.184Z"
   },
   {
    "duration": 28,
    "start_time": "2024-06-10T16:50:25.196Z"
   },
   {
    "duration": 3914,
    "start_time": "2024-06-10T16:50:25.228Z"
   },
   {
    "duration": 274,
    "start_time": "2024-06-10T16:50:29.149Z"
   },
   {
    "duration": 14,
    "start_time": "2024-06-10T16:50:29.428Z"
   },
   {
    "duration": 317,
    "start_time": "2024-06-10T16:50:29.445Z"
   },
   {
    "duration": 227,
    "start_time": "2024-06-10T16:50:29.766Z"
   },
   {
    "duration": 78,
    "start_time": "2024-06-10T16:50:29.997Z"
   },
   {
    "duration": 44,
    "start_time": "2024-06-10T16:50:30.079Z"
   },
   {
    "duration": 20,
    "start_time": "2024-06-10T16:50:30.130Z"
   },
   {
    "duration": 71,
    "start_time": "2024-06-10T16:50:30.153Z"
   },
   {
    "duration": 48,
    "start_time": "2024-06-10T16:50:30.227Z"
   },
   {
    "duration": 4,
    "start_time": "2024-06-10T16:50:30.279Z"
   },
   {
    "duration": 36,
    "start_time": "2024-06-10T16:50:30.287Z"
   },
   {
    "duration": 4,
    "start_time": "2024-06-10T16:50:30.326Z"
   },
   {
    "duration": 4,
    "start_time": "2024-06-10T16:50:30.336Z"
   },
   {
    "duration": 5,
    "start_time": "2024-06-10T16:50:30.345Z"
   },
   {
    "duration": 4,
    "start_time": "2024-06-10T16:50:30.354Z"
   },
   {
    "duration": 4,
    "start_time": "2024-06-10T16:50:30.362Z"
   },
   {
    "duration": 53,
    "start_time": "2024-06-10T16:50:30.371Z"
   },
   {
    "duration": 5,
    "start_time": "2024-06-10T16:50:30.428Z"
   },
   {
    "duration": 3,
    "start_time": "2024-06-10T16:50:30.438Z"
   },
   {
    "duration": 5,
    "start_time": "2024-06-10T16:50:30.446Z"
   },
   {
    "duration": 13,
    "start_time": "2024-06-10T16:51:15.754Z"
   },
   {
    "duration": 5,
    "start_time": "2024-06-10T16:51:53.107Z"
   },
   {
    "duration": 17,
    "start_time": "2024-06-10T16:55:50.215Z"
   },
   {
    "duration": 10,
    "start_time": "2024-06-10T16:56:12.488Z"
   },
   {
    "duration": 1394,
    "start_time": "2024-06-10T16:56:13.611Z"
   },
   {
    "duration": 16,
    "start_time": "2024-06-10T16:56:20.187Z"
   },
   {
    "duration": 5,
    "start_time": "2024-06-10T16:56:42.435Z"
   },
   {
    "duration": 1497,
    "start_time": "2024-06-10T16:57:18.583Z"
   },
   {
    "duration": 1163,
    "start_time": "2024-06-10T16:59:44.922Z"
   },
   {
    "duration": 92,
    "start_time": "2024-06-10T18:22:03.419Z"
   },
   {
    "duration": 80,
    "start_time": "2024-06-10T18:22:25.768Z"
   },
   {
    "duration": 1738,
    "start_time": "2024-06-10T18:24:33.056Z"
   },
   {
    "duration": 8,
    "start_time": "2024-06-10T18:24:52.006Z"
   },
   {
    "duration": 1489,
    "start_time": "2024-06-10T18:24:58.214Z"
   },
   {
    "duration": 1883,
    "start_time": "2024-06-10T18:25:15.464Z"
   },
   {
    "duration": 1388,
    "start_time": "2024-06-10T18:27:12.110Z"
   },
   {
    "duration": 1329,
    "start_time": "2024-06-10T18:27:28.539Z"
   },
   {
    "duration": 1560,
    "start_time": "2024-06-10T18:27:55.017Z"
   },
   {
    "duration": 42,
    "start_time": "2024-06-10T18:28:56.769Z"
   },
   {
    "duration": 41,
    "start_time": "2024-06-10T18:29:20.656Z"
   },
   {
    "duration": 395,
    "start_time": "2024-06-10T23:00:37.999Z"
   },
   {
    "duration": 475,
    "start_time": "2024-06-10T23:01:59.157Z"
   },
   {
    "duration": 4,
    "start_time": "2024-06-10T23:01:59.639Z"
   },
   {
    "duration": 340,
    "start_time": "2024-06-10T23:01:59.647Z"
   },
   {
    "duration": 125,
    "start_time": "2024-06-10T23:01:59.992Z"
   },
   {
    "duration": 11,
    "start_time": "2024-06-10T23:02:00.128Z"
   },
   {
    "duration": 10,
    "start_time": "2024-06-10T23:02:00.150Z"
   },
   {
    "duration": 1690,
    "start_time": "2024-06-10T23:02:00.163Z"
   },
   {
    "duration": 208,
    "start_time": "2024-06-10T23:02:01.856Z"
   },
   {
    "duration": 13,
    "start_time": "2024-06-10T23:02:02.067Z"
   },
   {
    "duration": 279,
    "start_time": "2024-06-10T23:02:02.104Z"
   },
   {
    "duration": 187,
    "start_time": "2024-06-10T23:02:02.388Z"
   },
   {
    "duration": 62,
    "start_time": "2024-06-10T23:02:02.578Z"
   },
   {
    "duration": 30,
    "start_time": "2024-06-10T23:02:02.642Z"
   },
   {
    "duration": 41,
    "start_time": "2024-06-10T23:02:02.675Z"
   },
   {
    "duration": 48,
    "start_time": "2024-06-10T23:02:02.720Z"
   },
   {
    "duration": 65,
    "start_time": "2024-06-10T23:02:02.771Z"
   },
   {
    "duration": 14,
    "start_time": "2024-06-10T23:02:02.843Z"
   },
   {
    "duration": 6,
    "start_time": "2024-06-10T23:02:02.861Z"
   },
   {
    "duration": 45,
    "start_time": "2024-06-10T23:02:02.871Z"
   },
   {
    "duration": 11,
    "start_time": "2024-06-10T23:02:02.930Z"
   },
   {
    "duration": 1498,
    "start_time": "2024-06-10T23:02:02.945Z"
   },
   {
    "duration": 1311,
    "start_time": "2024-06-10T23:02:04.446Z"
   },
   {
    "duration": 18,
    "start_time": "2024-06-10T23:02:05.761Z"
   },
   {
    "duration": 46,
    "start_time": "2024-06-10T23:02:05.782Z"
   },
   {
    "duration": 4,
    "start_time": "2024-06-10T23:02:05.837Z"
   },
   {
    "duration": 5,
    "start_time": "2024-06-10T23:02:05.844Z"
   },
   {
    "duration": 4,
    "start_time": "2024-06-10T23:02:05.853Z"
   },
   {
    "duration": 3,
    "start_time": "2024-06-10T23:02:05.864Z"
   },
   {
    "duration": 4,
    "start_time": "2024-06-10T23:02:05.870Z"
   },
   {
    "duration": 3,
    "start_time": "2024-06-10T23:02:05.879Z"
   },
   {
    "duration": 25,
    "start_time": "2024-06-10T23:02:05.885Z"
   },
   {
    "duration": 3,
    "start_time": "2024-06-10T23:02:05.912Z"
   },
   {
    "duration": 49,
    "start_time": "2024-06-10T23:06:56.135Z"
   },
   {
    "duration": 171,
    "start_time": "2024-06-10T23:07:35.572Z"
   },
   {
    "duration": 25,
    "start_time": "2024-06-10T23:07:58.879Z"
   },
   {
    "duration": 13,
    "start_time": "2024-06-10T23:08:37.031Z"
   },
   {
    "duration": 25,
    "start_time": "2024-06-10T23:08:41.323Z"
   },
   {
    "duration": 37,
    "start_time": "2024-06-10T23:08:58.943Z"
   },
   {
    "duration": 14,
    "start_time": "2024-06-10T23:14:00.051Z"
   },
   {
    "duration": 10,
    "start_time": "2024-06-10T23:14:24.058Z"
   },
   {
    "duration": 17,
    "start_time": "2024-06-10T23:14:36.161Z"
   },
   {
    "duration": 10,
    "start_time": "2024-06-10T23:16:39.259Z"
   },
   {
    "duration": 14,
    "start_time": "2024-06-10T23:17:02.066Z"
   },
   {
    "duration": 17,
    "start_time": "2024-06-10T23:18:40.818Z"
   },
   {
    "duration": 18,
    "start_time": "2024-06-10T23:19:36.432Z"
   },
   {
    "duration": 18,
    "start_time": "2024-06-10T23:19:58.267Z"
   },
   {
    "duration": 14,
    "start_time": "2024-06-10T23:20:15.289Z"
   },
   {
    "duration": 23,
    "start_time": "2024-06-10T23:21:03.632Z"
   },
   {
    "duration": 41,
    "start_time": "2024-06-10T23:24:19.786Z"
   },
   {
    "duration": 28,
    "start_time": "2024-06-10T23:24:54.327Z"
   },
   {
    "duration": 15,
    "start_time": "2024-06-10T23:29:18.814Z"
   },
   {
    "duration": 18,
    "start_time": "2024-06-10T23:29:37.797Z"
   },
   {
    "duration": 9,
    "start_time": "2024-06-10T23:36:57.904Z"
   },
   {
    "duration": 463,
    "start_time": "2024-06-10T23:37:16.376Z"
   },
   {
    "duration": 12,
    "start_time": "2024-06-10T23:37:22.693Z"
   },
   {
    "duration": 17,
    "start_time": "2024-06-10T23:38:46.481Z"
   },
   {
    "duration": 20,
    "start_time": "2024-06-11T00:06:38.132Z"
   },
   {
    "duration": 17,
    "start_time": "2024-06-11T00:07:35.234Z"
   },
   {
    "duration": 463,
    "start_time": "2024-06-11T00:07:47.138Z"
   },
   {
    "duration": 4,
    "start_time": "2024-06-11T00:07:47.605Z"
   },
   {
    "duration": 227,
    "start_time": "2024-06-11T00:07:47.611Z"
   },
   {
    "duration": 62,
    "start_time": "2024-06-11T00:07:47.842Z"
   },
   {
    "duration": 9,
    "start_time": "2024-06-11T00:07:47.907Z"
   },
   {
    "duration": 9,
    "start_time": "2024-06-11T00:07:47.919Z"
   },
   {
    "duration": 1279,
    "start_time": "2024-06-11T00:07:47.931Z"
   },
   {
    "duration": 204,
    "start_time": "2024-06-11T00:07:49.213Z"
   },
   {
    "duration": 11,
    "start_time": "2024-06-11T00:07:49.419Z"
   },
   {
    "duration": 255,
    "start_time": "2024-06-11T00:07:49.436Z"
   },
   {
    "duration": 187,
    "start_time": "2024-06-11T00:07:49.694Z"
   },
   {
    "duration": 58,
    "start_time": "2024-06-11T00:07:49.884Z"
   },
   {
    "duration": 23,
    "start_time": "2024-06-11T00:07:49.945Z"
   },
   {
    "duration": 44,
    "start_time": "2024-06-11T00:07:49.971Z"
   },
   {
    "duration": 34,
    "start_time": "2024-06-11T00:07:50.018Z"
   },
   {
    "duration": 68,
    "start_time": "2024-06-11T00:07:50.055Z"
   },
   {
    "duration": 14,
    "start_time": "2024-06-11T00:07:50.126Z"
   },
   {
    "duration": 5,
    "start_time": "2024-06-11T00:07:50.143Z"
   },
   {
    "duration": 51,
    "start_time": "2024-06-11T00:07:50.151Z"
   },
   {
    "duration": 6,
    "start_time": "2024-06-11T00:07:50.205Z"
   },
   {
    "duration": 1411,
    "start_time": "2024-06-11T00:07:50.214Z"
   },
   {
    "duration": 1253,
    "start_time": "2024-06-11T00:07:51.627Z"
   },
   {
    "duration": 29,
    "start_time": "2024-06-11T00:07:52.883Z"
   },
   {
    "duration": 20,
    "start_time": "2024-06-11T00:07:52.916Z"
   },
   {
    "duration": 28,
    "start_time": "2024-06-11T00:07:52.945Z"
   },
   {
    "duration": 26,
    "start_time": "2024-06-11T00:07:52.976Z"
   },
   {
    "duration": 9,
    "start_time": "2024-06-11T00:07:53.005Z"
   },
   {
    "duration": 16,
    "start_time": "2024-06-11T00:07:53.021Z"
   },
   {
    "duration": 173,
    "start_time": "2024-06-11T00:07:53.039Z"
   },
   {
    "duration": 0,
    "start_time": "2024-06-11T00:07:53.215Z"
   },
   {
    "duration": 0,
    "start_time": "2024-06-11T00:07:53.217Z"
   },
   {
    "duration": 0,
    "start_time": "2024-06-11T00:07:53.219Z"
   },
   {
    "duration": 0,
    "start_time": "2024-06-11T00:07:53.221Z"
   },
   {
    "duration": 19,
    "start_time": "2024-06-11T00:08:04.732Z"
   },
   {
    "duration": 15,
    "start_time": "2024-06-11T00:08:39.475Z"
   },
   {
    "duration": 9,
    "start_time": "2024-06-11T00:09:01.269Z"
   },
   {
    "duration": 8,
    "start_time": "2024-06-11T00:09:21.391Z"
   },
   {
    "duration": 10,
    "start_time": "2024-06-11T00:09:51.683Z"
   },
   {
    "duration": 9,
    "start_time": "2024-06-11T00:10:20.822Z"
   },
   {
    "duration": 8,
    "start_time": "2024-06-11T00:12:38.635Z"
   },
   {
    "duration": 8,
    "start_time": "2024-06-11T00:12:59.812Z"
   },
   {
    "duration": 9,
    "start_time": "2024-06-11T00:13:11.608Z"
   },
   {
    "duration": 14,
    "start_time": "2024-06-11T00:22:00.596Z"
   },
   {
    "duration": 8,
    "start_time": "2024-06-11T00:22:23.518Z"
   },
   {
    "duration": 9,
    "start_time": "2024-06-11T00:23:16.309Z"
   },
   {
    "duration": 8,
    "start_time": "2024-06-11T00:23:32.154Z"
   },
   {
    "duration": 14,
    "start_time": "2024-06-11T00:23:56.362Z"
   },
   {
    "duration": 16,
    "start_time": "2024-06-11T00:24:03.986Z"
   },
   {
    "duration": 4,
    "start_time": "2024-06-11T00:25:28.121Z"
   },
   {
    "duration": 7,
    "start_time": "2024-06-11T00:26:23.591Z"
   },
   {
    "duration": 1042,
    "start_time": "2024-06-11T00:26:51.156Z"
   },
   {
    "duration": 16,
    "start_time": "2024-06-11T00:27:26.155Z"
   },
   {
    "duration": 14,
    "start_time": "2024-06-11T00:27:44.083Z"
   },
   {
    "duration": 15,
    "start_time": "2024-06-11T00:28:24.429Z"
   },
   {
    "duration": 22,
    "start_time": "2024-06-11T00:30:29.198Z"
   },
   {
    "duration": 15,
    "start_time": "2024-06-11T00:34:29.530Z"
   },
   {
    "duration": 9,
    "start_time": "2024-06-11T00:41:09.938Z"
   },
   {
    "duration": 7,
    "start_time": "2024-06-11T00:41:13.840Z"
   },
   {
    "duration": 14,
    "start_time": "2024-06-11T00:41:27.585Z"
   },
   {
    "duration": 10,
    "start_time": "2024-06-11T00:41:49.055Z"
   },
   {
    "duration": 18,
    "start_time": "2024-06-11T00:45:03.076Z"
   },
   {
    "duration": 24,
    "start_time": "2024-06-11T00:45:31.972Z"
   },
   {
    "duration": 23,
    "start_time": "2024-06-11T00:46:41.011Z"
   },
   {
    "duration": 21,
    "start_time": "2024-06-11T00:47:28.496Z"
   },
   {
    "duration": 11,
    "start_time": "2024-06-11T00:52:12.966Z"
   },
   {
    "duration": 9,
    "start_time": "2024-06-11T00:52:28.812Z"
   },
   {
    "duration": 13,
    "start_time": "2024-06-11T00:52:52.286Z"
   },
   {
    "duration": 54,
    "start_time": "2024-06-11T00:54:12.715Z"
   },
   {
    "duration": 63,
    "start_time": "2024-06-11T00:54:46.642Z"
   },
   {
    "duration": 108,
    "start_time": "2024-06-11T00:55:11.662Z"
   },
   {
    "duration": 91,
    "start_time": "2024-06-11T00:55:18.934Z"
   },
   {
    "duration": 11,
    "start_time": "2024-06-11T00:56:14.930Z"
   },
   {
    "duration": 34,
    "start_time": "2024-06-11T00:57:50.743Z"
   },
   {
    "duration": 35,
    "start_time": "2024-06-11T01:02:27.642Z"
   },
   {
    "duration": 38,
    "start_time": "2024-06-11T01:03:38.465Z"
   },
   {
    "duration": 41,
    "start_time": "2024-06-11T01:04:14.099Z"
   },
   {
    "duration": 10,
    "start_time": "2024-06-11T01:10:51.991Z"
   },
   {
    "duration": 16,
    "start_time": "2024-06-11T01:11:17.900Z"
   },
   {
    "duration": 26,
    "start_time": "2024-06-11T01:16:07.214Z"
   },
   {
    "duration": 48,
    "start_time": "2024-06-11T01:16:24.635Z"
   },
   {
    "duration": 419,
    "start_time": "2024-06-11T11:06:44.983Z"
   },
   {
    "duration": 4,
    "start_time": "2024-06-11T11:06:45.405Z"
   },
   {
    "duration": 233,
    "start_time": "2024-06-11T11:06:45.412Z"
   },
   {
    "duration": 81,
    "start_time": "2024-06-11T11:06:45.649Z"
   },
   {
    "duration": 11,
    "start_time": "2024-06-11T11:06:45.733Z"
   },
   {
    "duration": 10,
    "start_time": "2024-06-11T11:06:45.747Z"
   },
   {
    "duration": 1368,
    "start_time": "2024-06-11T11:06:45.760Z"
   },
   {
    "duration": 219,
    "start_time": "2024-06-11T11:06:47.132Z"
   },
   {
    "duration": 11,
    "start_time": "2024-06-11T11:06:47.354Z"
   },
   {
    "duration": 235,
    "start_time": "2024-06-11T11:06:47.371Z"
   },
   {
    "duration": 181,
    "start_time": "2024-06-11T11:06:47.609Z"
   },
   {
    "duration": 59,
    "start_time": "2024-06-11T11:06:47.793Z"
   },
   {
    "duration": 22,
    "start_time": "2024-06-11T11:06:47.855Z"
   },
   {
    "duration": 18,
    "start_time": "2024-06-11T11:06:47.879Z"
   },
   {
    "duration": 61,
    "start_time": "2024-06-11T11:06:47.900Z"
   },
   {
    "duration": 41,
    "start_time": "2024-06-11T11:06:47.965Z"
   },
   {
    "duration": 6,
    "start_time": "2024-06-11T11:06:48.033Z"
   },
   {
    "duration": 6,
    "start_time": "2024-06-11T11:06:48.042Z"
   },
   {
    "duration": 16,
    "start_time": "2024-06-11T11:06:48.051Z"
   },
   {
    "duration": 6,
    "start_time": "2024-06-11T11:06:48.069Z"
   },
   {
    "duration": 1408,
    "start_time": "2024-06-11T11:06:48.078Z"
   },
   {
    "duration": 1196,
    "start_time": "2024-06-11T11:06:49.489Z"
   },
   {
    "duration": 16,
    "start_time": "2024-06-11T11:06:50.687Z"
   },
   {
    "duration": 34,
    "start_time": "2024-06-11T11:06:50.706Z"
   },
   {
    "duration": 14,
    "start_time": "2024-06-11T11:06:50.743Z"
   },
   {
    "duration": 20,
    "start_time": "2024-06-11T11:06:50.760Z"
   },
   {
    "duration": 10,
    "start_time": "2024-06-11T11:06:50.783Z"
   },
   {
    "duration": 16,
    "start_time": "2024-06-11T11:06:50.840Z"
   },
   {
    "duration": 7,
    "start_time": "2024-06-11T11:06:50.861Z"
   },
   {
    "duration": 12,
    "start_time": "2024-06-11T11:06:50.871Z"
   },
   {
    "duration": 132,
    "start_time": "2024-06-11T11:06:50.886Z"
   },
   {
    "duration": 40,
    "start_time": "2024-06-11T11:06:51.033Z"
   },
   {
    "duration": 132,
    "start_time": "2024-06-11T11:06:51.078Z"
   },
   {
    "duration": 4,
    "start_time": "2024-06-11T11:06:51.215Z"
   },
   {
    "duration": 112,
    "start_time": "2024-06-11T11:08:58.457Z"
   },
   {
    "duration": 123,
    "start_time": "2024-06-11T11:09:26.802Z"
   },
   {
    "duration": 135,
    "start_time": "2024-06-11T11:11:06.018Z"
   },
   {
    "duration": 671,
    "start_time": "2024-06-11T11:11:33.613Z"
   },
   {
    "duration": 1756,
    "start_time": "2024-06-11T11:14:37.453Z"
   },
   {
    "duration": 578,
    "start_time": "2024-06-11T11:14:45.569Z"
   },
   {
    "duration": 24,
    "start_time": "2024-06-11T11:23:27.366Z"
   },
   {
    "duration": 622,
    "start_time": "2024-06-11T11:24:20.248Z"
   },
   {
    "duration": 37,
    "start_time": "2024-06-11T11:25:34.155Z"
   },
   {
    "duration": 809,
    "start_time": "2024-06-11T11:29:17.429Z"
   },
   {
    "duration": 133,
    "start_time": "2024-06-11T11:29:34.465Z"
   },
   {
    "duration": 1033,
    "start_time": "2024-06-11T11:29:47.440Z"
   },
   {
    "duration": 982,
    "start_time": "2024-06-11T11:29:50.505Z"
   },
   {
    "duration": 1074,
    "start_time": "2024-06-11T11:30:30.336Z"
   },
   {
    "duration": 989,
    "start_time": "2024-06-11T11:30:44.977Z"
   },
   {
    "duration": 980,
    "start_time": "2024-06-11T11:31:19.766Z"
   },
   {
    "duration": 1014,
    "start_time": "2024-06-11T11:31:46.390Z"
   },
   {
    "duration": 991,
    "start_time": "2024-06-11T11:31:54.983Z"
   },
   {
    "duration": 1017,
    "start_time": "2024-06-11T11:32:26.049Z"
   },
   {
    "duration": 9,
    "start_time": "2024-06-11T11:43:34.217Z"
   },
   {
    "duration": 6,
    "start_time": "2024-06-11T11:43:52.578Z"
   },
   {
    "duration": 5,
    "start_time": "2024-06-11T11:44:21.310Z"
   },
   {
    "duration": 25,
    "start_time": "2024-06-11T11:44:51.612Z"
   },
   {
    "duration": 22,
    "start_time": "2024-06-11T11:45:08.277Z"
   },
   {
    "duration": 19,
    "start_time": "2024-06-11T11:45:33.305Z"
   },
   {
    "duration": 37,
    "start_time": "2024-06-11T11:45:51.255Z"
   },
   {
    "duration": 866,
    "start_time": "2024-06-11T11:46:54.590Z"
   },
   {
    "duration": 6,
    "start_time": "2024-06-11T11:48:29.664Z"
   },
   {
    "duration": 6,
    "start_time": "2024-06-11T11:50:37.536Z"
   },
   {
    "duration": 573,
    "start_time": "2024-06-11T11:55:49.007Z"
   },
   {
    "duration": 47,
    "start_time": "2024-06-11T11:57:27.728Z"
   },
   {
    "duration": 44,
    "start_time": "2024-06-11T11:58:21.985Z"
   },
   {
    "duration": 37,
    "start_time": "2024-06-11T11:58:28.750Z"
   },
   {
    "duration": 307,
    "start_time": "2024-06-11T14:11:57.187Z"
   },
   {
    "duration": 459,
    "start_time": "2024-06-11T14:12:22.013Z"
   },
   {
    "duration": 4,
    "start_time": "2024-06-11T14:12:22.476Z"
   },
   {
    "duration": 237,
    "start_time": "2024-06-11T14:12:22.483Z"
   },
   {
    "duration": 85,
    "start_time": "2024-06-11T14:12:22.724Z"
   },
   {
    "duration": 8,
    "start_time": "2024-06-11T14:12:22.812Z"
   },
   {
    "duration": 9,
    "start_time": "2024-06-11T14:12:22.823Z"
   },
   {
    "duration": 1321,
    "start_time": "2024-06-11T14:12:22.835Z"
   },
   {
    "duration": 192,
    "start_time": "2024-06-11T14:12:24.159Z"
   },
   {
    "duration": 10,
    "start_time": "2024-06-11T14:12:24.354Z"
   },
   {
    "duration": 240,
    "start_time": "2024-06-11T14:12:24.370Z"
   },
   {
    "duration": 179,
    "start_time": "2024-06-11T14:12:24.616Z"
   },
   {
    "duration": 46,
    "start_time": "2024-06-11T14:12:24.798Z"
   },
   {
    "duration": 22,
    "start_time": "2024-06-11T14:12:24.847Z"
   },
   {
    "duration": 48,
    "start_time": "2024-06-11T14:12:24.871Z"
   },
   {
    "duration": 33,
    "start_time": "2024-06-11T14:12:24.922Z"
   },
   {
    "duration": 66,
    "start_time": "2024-06-11T14:12:24.958Z"
   },
   {
    "duration": 7,
    "start_time": "2024-06-11T14:12:25.026Z"
   },
   {
    "duration": 6,
    "start_time": "2024-06-11T14:12:25.036Z"
   },
   {
    "duration": 18,
    "start_time": "2024-06-11T14:12:25.045Z"
   },
   {
    "duration": 43,
    "start_time": "2024-06-11T14:12:25.066Z"
   },
   {
    "duration": 1365,
    "start_time": "2024-06-11T14:12:25.112Z"
   },
   {
    "duration": 1176,
    "start_time": "2024-06-11T14:12:26.480Z"
   },
   {
    "duration": 16,
    "start_time": "2024-06-11T14:12:27.658Z"
   },
   {
    "duration": 32,
    "start_time": "2024-06-11T14:12:27.678Z"
   },
   {
    "duration": 15,
    "start_time": "2024-06-11T14:12:27.715Z"
   },
   {
    "duration": 22,
    "start_time": "2024-06-11T14:12:27.733Z"
   },
   {
    "duration": 11,
    "start_time": "2024-06-11T14:12:27.759Z"
   },
   {
    "duration": 17,
    "start_time": "2024-06-11T14:12:27.811Z"
   },
   {
    "duration": 8,
    "start_time": "2024-06-11T14:12:27.830Z"
   },
   {
    "duration": 11,
    "start_time": "2024-06-11T14:12:27.841Z"
   },
   {
    "duration": 130,
    "start_time": "2024-06-11T14:12:27.856Z"
   },
   {
    "duration": 52,
    "start_time": "2024-06-11T14:12:27.989Z"
   },
   {
    "duration": 614,
    "start_time": "2024-06-11T14:12:28.044Z"
   },
   {
    "duration": 1000,
    "start_time": "2024-06-11T14:12:28.661Z"
   },
   {
    "duration": 7,
    "start_time": "2024-06-11T14:12:29.665Z"
   },
   {
    "duration": 6,
    "start_time": "2024-06-11T14:12:29.676Z"
   },
   {
    "duration": 500,
    "start_time": "2024-06-11T14:12:29.708Z"
   },
   {
    "duration": 43,
    "start_time": "2024-06-11T14:12:36.267Z"
   },
   {
    "duration": 26,
    "start_time": "2024-06-11T14:13:19.366Z"
   },
   {
    "duration": 21,
    "start_time": "2024-06-11T14:13:35.380Z"
   },
   {
    "duration": 9,
    "start_time": "2024-06-11T14:13:42.315Z"
   },
   {
    "duration": 9,
    "start_time": "2024-06-11T14:13:57.207Z"
   },
   {
    "duration": 4304,
    "start_time": "2024-06-11T14:15:14.518Z"
   },
   {
    "duration": 249,
    "start_time": "2024-06-11T14:20:42.334Z"
   },
   {
    "duration": 304,
    "start_time": "2024-06-11T22:00:12.889Z"
   },
   {
    "duration": 509,
    "start_time": "2024-06-11T22:00:23.124Z"
   },
   {
    "duration": 5,
    "start_time": "2024-06-11T22:00:23.636Z"
   },
   {
    "duration": 246,
    "start_time": "2024-06-11T22:00:23.644Z"
   },
   {
    "duration": 83,
    "start_time": "2024-06-11T22:00:23.893Z"
   },
   {
    "duration": 11,
    "start_time": "2024-06-11T22:00:23.981Z"
   },
   {
    "duration": 10,
    "start_time": "2024-06-11T22:00:23.994Z"
   },
   {
    "duration": 1360,
    "start_time": "2024-06-11T22:00:24.008Z"
   },
   {
    "duration": 196,
    "start_time": "2024-06-11T22:00:25.371Z"
   },
   {
    "duration": 11,
    "start_time": "2024-06-11T22:00:25.570Z"
   },
   {
    "duration": 237,
    "start_time": "2024-06-11T22:00:25.584Z"
   },
   {
    "duration": 192,
    "start_time": "2024-06-11T22:00:25.833Z"
   },
   {
    "duration": 45,
    "start_time": "2024-06-11T22:00:26.033Z"
   },
   {
    "duration": 22,
    "start_time": "2024-06-11T22:00:26.081Z"
   },
   {
    "duration": 17,
    "start_time": "2024-06-11T22:00:26.134Z"
   },
   {
    "duration": 34,
    "start_time": "2024-06-11T22:00:26.154Z"
   },
   {
    "duration": 71,
    "start_time": "2024-06-11T22:00:26.191Z"
   },
   {
    "duration": 7,
    "start_time": "2024-06-11T22:00:26.264Z"
   },
   {
    "duration": 7,
    "start_time": "2024-06-11T22:00:26.274Z"
   },
   {
    "duration": 52,
    "start_time": "2024-06-11T22:00:26.284Z"
   },
   {
    "duration": 6,
    "start_time": "2024-06-11T22:00:26.339Z"
   },
   {
    "duration": 1385,
    "start_time": "2024-06-11T22:00:26.348Z"
   },
   {
    "duration": 1145,
    "start_time": "2024-06-11T22:00:27.735Z"
   },
   {
    "duration": 16,
    "start_time": "2024-06-11T22:00:28.882Z"
   },
   {
    "duration": 32,
    "start_time": "2024-06-11T22:00:28.902Z"
   },
   {
    "duration": 14,
    "start_time": "2024-06-11T22:00:28.937Z"
   },
   {
    "duration": 21,
    "start_time": "2024-06-11T22:00:28.954Z"
   },
   {
    "duration": 11,
    "start_time": "2024-06-11T22:00:28.977Z"
   },
   {
    "duration": 17,
    "start_time": "2024-06-11T22:00:29.034Z"
   },
   {
    "duration": 9,
    "start_time": "2024-06-11T22:00:29.054Z"
   },
   {
    "duration": 11,
    "start_time": "2024-06-11T22:00:29.066Z"
   },
   {
    "duration": 132,
    "start_time": "2024-06-11T22:00:29.080Z"
   },
   {
    "duration": 57,
    "start_time": "2024-06-11T22:00:29.216Z"
   },
   {
    "duration": 599,
    "start_time": "2024-06-11T22:00:29.276Z"
   },
   {
    "duration": 1032,
    "start_time": "2024-06-11T22:00:29.878Z"
   },
   {
    "duration": 20,
    "start_time": "2024-06-11T22:00:30.913Z"
   },
   {
    "duration": 6,
    "start_time": "2024-06-11T22:00:30.937Z"
   },
   {
    "duration": 4623,
    "start_time": "2024-06-11T22:00:30.946Z"
   },
   {
    "duration": 0,
    "start_time": "2024-06-11T22:00:35.572Z"
   },
   {
    "duration": 0,
    "start_time": "2024-06-11T22:00:35.575Z"
   },
   {
    "duration": 0,
    "start_time": "2024-06-11T22:00:35.578Z"
   },
   {
    "duration": 0,
    "start_time": "2024-06-11T22:00:35.581Z"
   },
   {
    "duration": 254,
    "start_time": "2024-06-11T22:00:49.190Z"
   },
   {
    "duration": 7,
    "start_time": "2024-06-11T22:00:54.367Z"
   },
   {
    "duration": 14,
    "start_time": "2024-06-11T22:01:11.604Z"
   },
   {
    "duration": 18,
    "start_time": "2024-06-11T22:01:37.568Z"
   },
   {
    "duration": 44,
    "start_time": "2024-06-11T22:04:22.400Z"
   },
   {
    "duration": 45,
    "start_time": "2024-06-11T22:04:40.820Z"
   },
   {
    "duration": 25,
    "start_time": "2024-06-11T22:05:04.756Z"
   },
   {
    "duration": 38,
    "start_time": "2024-06-11T22:11:19.488Z"
   },
   {
    "duration": 38,
    "start_time": "2024-06-11T22:11:48.369Z"
   },
   {
    "duration": 21,
    "start_time": "2024-06-11T22:13:34.707Z"
   },
   {
    "duration": 893,
    "start_time": "2024-06-11T22:14:20.167Z"
   },
   {
    "duration": 39,
    "start_time": "2024-06-11T22:16:44.124Z"
   },
   {
    "duration": 21,
    "start_time": "2024-06-11T22:17:35.376Z"
   },
   {
    "duration": 100,
    "start_time": "2024-06-11T22:17:43.168Z"
   },
   {
    "duration": 38,
    "start_time": "2024-06-11T22:18:56.826Z"
   },
   {
    "duration": 28,
    "start_time": "2024-06-11T22:19:27.169Z"
   },
   {
    "duration": 95,
    "start_time": "2024-06-11T22:20:57.183Z"
   },
   {
    "duration": 465,
    "start_time": "2024-06-11T22:21:12.067Z"
   },
   {
    "duration": 3,
    "start_time": "2024-06-11T22:21:12.536Z"
   },
   {
    "duration": 218,
    "start_time": "2024-06-11T22:21:12.543Z"
   },
   {
    "duration": 56,
    "start_time": "2024-06-11T22:21:12.765Z"
   },
   {
    "duration": 8,
    "start_time": "2024-06-11T22:21:12.832Z"
   },
   {
    "duration": 8,
    "start_time": "2024-06-11T22:21:12.843Z"
   },
   {
    "duration": 1272,
    "start_time": "2024-06-11T22:21:12.854Z"
   },
   {
    "duration": 194,
    "start_time": "2024-06-11T22:21:14.129Z"
   },
   {
    "duration": 14,
    "start_time": "2024-06-11T22:21:14.326Z"
   },
   {
    "duration": 239,
    "start_time": "2024-06-11T22:21:14.346Z"
   },
   {
    "duration": 182,
    "start_time": "2024-06-11T22:21:14.588Z"
   },
   {
    "duration": 59,
    "start_time": "2024-06-11T22:21:14.774Z"
   },
   {
    "duration": 22,
    "start_time": "2024-06-11T22:21:14.836Z"
   },
   {
    "duration": 17,
    "start_time": "2024-06-11T22:21:14.860Z"
   },
   {
    "duration": 66,
    "start_time": "2024-06-11T22:21:14.880Z"
   },
   {
    "duration": 40,
    "start_time": "2024-06-11T22:21:14.949Z"
   },
   {
    "duration": 6,
    "start_time": "2024-06-11T22:21:14.993Z"
   },
   {
    "duration": 36,
    "start_time": "2024-06-11T22:21:15.002Z"
   },
   {
    "duration": 15,
    "start_time": "2024-06-11T22:21:15.041Z"
   },
   {
    "duration": 6,
    "start_time": "2024-06-11T22:21:15.059Z"
   },
   {
    "duration": 1376,
    "start_time": "2024-06-11T22:21:15.069Z"
   },
   {
    "duration": 1191,
    "start_time": "2024-06-11T22:21:16.448Z"
   },
   {
    "duration": 16,
    "start_time": "2024-06-11T22:21:17.644Z"
   },
   {
    "duration": 16,
    "start_time": "2024-06-11T22:21:17.664Z"
   },
   {
    "duration": 13,
    "start_time": "2024-06-11T22:21:17.683Z"
   },
   {
    "duration": 24,
    "start_time": "2024-06-11T22:21:17.733Z"
   },
   {
    "duration": 16,
    "start_time": "2024-06-11T22:21:17.760Z"
   },
   {
    "duration": 48,
    "start_time": "2024-06-11T22:21:17.784Z"
   },
   {
    "duration": 9,
    "start_time": "2024-06-11T22:21:17.837Z"
   },
   {
    "duration": 13,
    "start_time": "2024-06-11T22:21:17.850Z"
   },
   {
    "duration": 118,
    "start_time": "2024-06-11T22:21:17.866Z"
   },
   {
    "duration": 57,
    "start_time": "2024-06-11T22:21:17.986Z"
   },
   {
    "duration": 586,
    "start_time": "2024-06-11T22:21:18.047Z"
   },
   {
    "duration": 1005,
    "start_time": "2024-06-11T22:21:18.636Z"
   },
   {
    "duration": 6,
    "start_time": "2024-06-11T22:21:19.644Z"
   },
   {
    "duration": 6,
    "start_time": "2024-06-11T22:21:19.653Z"
   },
   {
    "duration": 1034,
    "start_time": "2024-06-11T22:21:19.662Z"
   },
   {
    "duration": 0,
    "start_time": "2024-06-11T22:21:20.698Z"
   },
   {
    "duration": 0,
    "start_time": "2024-06-11T22:21:20.700Z"
   },
   {
    "duration": 0,
    "start_time": "2024-06-11T22:21:20.703Z"
   },
   {
    "duration": 0,
    "start_time": "2024-06-11T22:21:20.705Z"
   },
   {
    "duration": 272,
    "start_time": "2024-06-11T23:20:40.433Z"
   },
   {
    "duration": 20,
    "start_time": "2024-06-11T23:21:06.955Z"
   },
   {
    "duration": 915,
    "start_time": "2024-06-11T23:21:55.183Z"
   },
   {
    "duration": 99,
    "start_time": "2024-06-11T23:22:25.713Z"
   },
   {
    "duration": 21,
    "start_time": "2024-06-11T23:23:09.705Z"
   },
   {
    "duration": 112,
    "start_time": "2024-06-11T23:23:15.288Z"
   },
   {
    "duration": 107,
    "start_time": "2024-06-11T23:33:51.609Z"
   },
   {
    "duration": 21,
    "start_time": "2024-06-11T23:35:06.524Z"
   },
   {
    "duration": 100,
    "start_time": "2024-06-11T23:35:10.661Z"
   },
   {
    "duration": 463,
    "start_time": "2024-06-11T23:38:19.278Z"
   },
   {
    "duration": 103,
    "start_time": "2024-06-11T23:38:55.476Z"
   },
   {
    "duration": 21,
    "start_time": "2024-06-11T23:39:26.799Z"
   },
   {
    "duration": 94,
    "start_time": "2024-06-11T23:39:29.821Z"
   },
   {
    "duration": 118,
    "start_time": "2024-06-11T23:41:38.919Z"
   },
   {
    "duration": 453,
    "start_time": "2024-06-11T23:42:13.054Z"
   },
   {
    "duration": 4,
    "start_time": "2024-06-11T23:42:13.510Z"
   },
   {
    "duration": 226,
    "start_time": "2024-06-11T23:42:13.517Z"
   },
   {
    "duration": 56,
    "start_time": "2024-06-11T23:42:13.746Z"
   },
   {
    "duration": 8,
    "start_time": "2024-06-11T23:42:13.805Z"
   },
   {
    "duration": 9,
    "start_time": "2024-06-11T23:42:13.832Z"
   },
   {
    "duration": 1271,
    "start_time": "2024-06-11T23:42:13.843Z"
   },
   {
    "duration": 202,
    "start_time": "2024-06-11T23:42:15.116Z"
   },
   {
    "duration": 17,
    "start_time": "2024-06-11T23:42:15.320Z"
   },
   {
    "duration": 227,
    "start_time": "2024-06-11T23:42:15.344Z"
   },
   {
    "duration": 184,
    "start_time": "2024-06-11T23:42:15.575Z"
   },
   {
    "duration": 55,
    "start_time": "2024-06-11T23:42:15.763Z"
   },
   {
    "duration": 26,
    "start_time": "2024-06-11T23:42:15.834Z"
   },
   {
    "duration": 23,
    "start_time": "2024-06-11T23:42:15.865Z"
   },
   {
    "duration": 57,
    "start_time": "2024-06-11T23:42:15.892Z"
   },
   {
    "duration": 39,
    "start_time": "2024-06-11T23:42:15.952Z"
   },
   {
    "duration": 39,
    "start_time": "2024-06-11T23:42:15.994Z"
   },
   {
    "duration": 5,
    "start_time": "2024-06-11T23:42:16.037Z"
   },
   {
    "duration": 17,
    "start_time": "2024-06-11T23:42:16.046Z"
   },
   {
    "duration": 6,
    "start_time": "2024-06-11T23:42:16.065Z"
   },
   {
    "duration": 1413,
    "start_time": "2024-06-11T23:42:16.074Z"
   },
   {
    "duration": 1185,
    "start_time": "2024-06-11T23:42:17.490Z"
   },
   {
    "duration": 17,
    "start_time": "2024-06-11T23:42:18.678Z"
   },
   {
    "duration": 37,
    "start_time": "2024-06-11T23:42:18.698Z"
   },
   {
    "duration": 13,
    "start_time": "2024-06-11T23:42:18.738Z"
   },
   {
    "duration": 21,
    "start_time": "2024-06-11T23:42:18.754Z"
   },
   {
    "duration": 10,
    "start_time": "2024-06-11T23:42:18.777Z"
   },
   {
    "duration": 17,
    "start_time": "2024-06-11T23:42:18.839Z"
   },
   {
    "duration": 8,
    "start_time": "2024-06-11T23:42:18.858Z"
   },
   {
    "duration": 12,
    "start_time": "2024-06-11T23:42:18.869Z"
   },
   {
    "duration": 127,
    "start_time": "2024-06-11T23:42:18.884Z"
   },
   {
    "duration": 50,
    "start_time": "2024-06-11T23:42:19.014Z"
   },
   {
    "duration": 602,
    "start_time": "2024-06-11T23:42:19.067Z"
   },
   {
    "duration": 1008,
    "start_time": "2024-06-11T23:42:19.672Z"
   },
   {
    "duration": 7,
    "start_time": "2024-06-11T23:42:20.683Z"
   },
   {
    "duration": 6,
    "start_time": "2024-06-11T23:42:20.693Z"
   },
   {
    "duration": 1078,
    "start_time": "2024-06-11T23:42:20.701Z"
   },
   {
    "duration": 0,
    "start_time": "2024-06-11T23:42:21.782Z"
   },
   {
    "duration": 0,
    "start_time": "2024-06-11T23:42:21.783Z"
   },
   {
    "duration": 0,
    "start_time": "2024-06-11T23:42:21.785Z"
   },
   {
    "duration": 0,
    "start_time": "2024-06-11T23:42:21.787Z"
   },
   {
    "duration": 250,
    "start_time": "2024-06-11T23:42:54.349Z"
   },
   {
    "duration": 36,
    "start_time": "2024-06-11T23:43:29.291Z"
   },
   {
    "duration": 20,
    "start_time": "2024-06-11T23:44:01.113Z"
   },
   {
    "duration": 21,
    "start_time": "2024-06-11T23:47:29.763Z"
   },
   {
    "duration": 931,
    "start_time": "2024-06-11T23:47:58.717Z"
   },
   {
    "duration": 439,
    "start_time": "2024-06-11T23:48:37.583Z"
   },
   {
    "duration": 9,
    "start_time": "2024-06-11T23:48:38.025Z"
   },
   {
    "duration": 213,
    "start_time": "2024-06-11T23:48:38.038Z"
   },
   {
    "duration": 62,
    "start_time": "2024-06-11T23:48:38.256Z"
   },
   {
    "duration": 18,
    "start_time": "2024-06-11T23:48:38.321Z"
   },
   {
    "duration": 9,
    "start_time": "2024-06-11T23:48:38.342Z"
   },
   {
    "duration": 1275,
    "start_time": "2024-06-11T23:48:38.354Z"
   },
   {
    "duration": 188,
    "start_time": "2024-06-11T23:48:39.633Z"
   },
   {
    "duration": 16,
    "start_time": "2024-06-11T23:48:39.824Z"
   },
   {
    "duration": 230,
    "start_time": "2024-06-11T23:48:39.847Z"
   },
   {
    "duration": 184,
    "start_time": "2024-06-11T23:48:40.080Z"
   },
   {
    "duration": 46,
    "start_time": "2024-06-11T23:48:40.267Z"
   },
   {
    "duration": 21,
    "start_time": "2024-06-11T23:48:40.333Z"
   },
   {
    "duration": 16,
    "start_time": "2024-06-11T23:48:40.357Z"
   },
   {
    "duration": 67,
    "start_time": "2024-06-11T23:48:40.376Z"
   },
   {
    "duration": 41,
    "start_time": "2024-06-11T23:48:40.445Z"
   },
   {
    "duration": 7,
    "start_time": "2024-06-11T23:48:40.489Z"
   },
   {
    "duration": 36,
    "start_time": "2024-06-11T23:48:40.500Z"
   },
   {
    "duration": 19,
    "start_time": "2024-06-11T23:48:40.539Z"
   },
   {
    "duration": 8,
    "start_time": "2024-06-11T23:48:40.562Z"
   },
   {
    "duration": 1407,
    "start_time": "2024-06-11T23:48:40.574Z"
   },
   {
    "duration": 1187,
    "start_time": "2024-06-11T23:48:41.984Z"
   },
   {
    "duration": 15,
    "start_time": "2024-06-11T23:48:43.174Z"
   },
   {
    "duration": 41,
    "start_time": "2024-06-11T23:48:43.192Z"
   },
   {
    "duration": 13,
    "start_time": "2024-06-11T23:48:43.236Z"
   },
   {
    "duration": 20,
    "start_time": "2024-06-11T23:48:43.252Z"
   },
   {
    "duration": 10,
    "start_time": "2024-06-11T23:48:43.274Z"
   },
   {
    "duration": 52,
    "start_time": "2024-06-11T23:48:43.291Z"
   },
   {
    "duration": 8,
    "start_time": "2024-06-11T23:48:43.346Z"
   },
   {
    "duration": 10,
    "start_time": "2024-06-11T23:48:43.358Z"
   },
   {
    "duration": 126,
    "start_time": "2024-06-11T23:48:43.371Z"
   },
   {
    "duration": 53,
    "start_time": "2024-06-11T23:48:43.500Z"
   },
   {
    "duration": 613,
    "start_time": "2024-06-11T23:48:43.557Z"
   },
   {
    "duration": 1002,
    "start_time": "2024-06-11T23:48:44.173Z"
   },
   {
    "duration": 7,
    "start_time": "2024-06-11T23:48:45.179Z"
   },
   {
    "duration": 6,
    "start_time": "2024-06-11T23:48:45.189Z"
   },
   {
    "duration": 1054,
    "start_time": "2024-06-11T23:48:45.198Z"
   },
   {
    "duration": 0,
    "start_time": "2024-06-11T23:48:46.255Z"
   },
   {
    "duration": 0,
    "start_time": "2024-06-11T23:48:46.257Z"
   },
   {
    "duration": 0,
    "start_time": "2024-06-11T23:48:46.260Z"
   },
   {
    "duration": 0,
    "start_time": "2024-06-11T23:48:46.262Z"
   },
   {
    "duration": 21,
    "start_time": "2024-06-11T23:49:09.349Z"
   },
   {
    "duration": 900,
    "start_time": "2024-06-11T23:49:12.141Z"
   },
   {
    "duration": 95,
    "start_time": "2024-06-11T23:50:27.185Z"
   },
   {
    "duration": 255,
    "start_time": "2024-06-11T23:51:07.688Z"
   },
   {
    "duration": 21,
    "start_time": "2024-06-11T23:51:13.314Z"
   },
   {
    "duration": 99,
    "start_time": "2024-06-11T23:51:15.744Z"
   },
   {
    "duration": 113,
    "start_time": "2024-06-11T23:51:51.595Z"
   },
   {
    "duration": 22,
    "start_time": "2024-06-11T23:52:40.910Z"
   },
   {
    "duration": 106,
    "start_time": "2024-06-11T23:52:47.107Z"
   },
   {
    "duration": 22,
    "start_time": "2024-06-11T23:53:34.574Z"
   },
   {
    "duration": 102,
    "start_time": "2024-06-11T23:53:50.576Z"
   },
   {
    "duration": 98,
    "start_time": "2024-06-11T23:54:12.543Z"
   },
   {
    "duration": 92,
    "start_time": "2024-06-11T23:54:24.259Z"
   },
   {
    "duration": 24,
    "start_time": "2024-06-11T23:56:48.338Z"
   },
   {
    "duration": 91,
    "start_time": "2024-06-11T23:56:56.738Z"
   },
   {
    "duration": 474,
    "start_time": "2024-06-11T23:57:11.285Z"
   },
   {
    "duration": 22,
    "start_time": "2024-06-11T23:57:45.311Z"
   },
   {
    "duration": 569,
    "start_time": "2024-06-11T23:57:48.970Z"
   },
   {
    "duration": 706,
    "start_time": "2024-06-12T00:02:41.377Z"
   },
   {
    "duration": 4,
    "start_time": "2024-06-12T00:02:42.087Z"
   },
   {
    "duration": 279,
    "start_time": "2024-06-12T00:02:42.102Z"
   },
   {
    "duration": 67,
    "start_time": "2024-06-12T00:02:42.384Z"
   },
   {
    "duration": 9,
    "start_time": "2024-06-12T00:02:42.453Z"
   },
   {
    "duration": 8,
    "start_time": "2024-06-12T00:02:42.465Z"
   },
   {
    "duration": 1255,
    "start_time": "2024-06-12T00:02:42.476Z"
   },
   {
    "duration": 203,
    "start_time": "2024-06-12T00:02:43.737Z"
   },
   {
    "duration": 11,
    "start_time": "2024-06-12T00:02:43.943Z"
   },
   {
    "duration": 256,
    "start_time": "2024-06-12T00:02:43.957Z"
   },
   {
    "duration": 179,
    "start_time": "2024-06-12T00:02:44.216Z"
   },
   {
    "duration": 56,
    "start_time": "2024-06-12T00:02:44.398Z"
   },
   {
    "duration": 22,
    "start_time": "2024-06-12T00:02:44.457Z"
   },
   {
    "duration": 18,
    "start_time": "2024-06-12T00:02:44.482Z"
   },
   {
    "duration": 57,
    "start_time": "2024-06-12T00:02:44.503Z"
   },
   {
    "duration": 40,
    "start_time": "2024-06-12T00:02:44.563Z"
   },
   {
    "duration": 7,
    "start_time": "2024-06-12T00:02:44.634Z"
   },
   {
    "duration": 6,
    "start_time": "2024-06-12T00:02:44.644Z"
   },
   {
    "duration": 16,
    "start_time": "2024-06-12T00:02:44.653Z"
   },
   {
    "duration": 6,
    "start_time": "2024-06-12T00:02:44.672Z"
   },
   {
    "duration": 1383,
    "start_time": "2024-06-12T00:02:44.681Z"
   },
   {
    "duration": 1192,
    "start_time": "2024-06-12T00:02:46.067Z"
   },
   {
    "duration": 18,
    "start_time": "2024-06-12T00:02:47.265Z"
   },
   {
    "duration": 47,
    "start_time": "2024-06-12T00:02:47.286Z"
   },
   {
    "duration": 13,
    "start_time": "2024-06-12T00:02:47.336Z"
   },
   {
    "duration": 21,
    "start_time": "2024-06-12T00:02:47.357Z"
   },
   {
    "duration": 10,
    "start_time": "2024-06-12T00:02:47.381Z"
   },
   {
    "duration": 54,
    "start_time": "2024-06-12T00:02:47.394Z"
   },
   {
    "duration": 8,
    "start_time": "2024-06-12T00:02:47.451Z"
   },
   {
    "duration": 11,
    "start_time": "2024-06-12T00:02:47.462Z"
   },
   {
    "duration": 131,
    "start_time": "2024-06-12T00:02:47.477Z"
   },
   {
    "duration": 46,
    "start_time": "2024-06-12T00:02:47.612Z"
   },
   {
    "duration": 597,
    "start_time": "2024-06-12T00:02:47.661Z"
   },
   {
    "duration": 987,
    "start_time": "2024-06-12T00:02:48.261Z"
   },
   {
    "duration": 6,
    "start_time": "2024-06-12T00:02:49.250Z"
   },
   {
    "duration": 6,
    "start_time": "2024-06-12T00:02:49.260Z"
   },
   {
    "duration": 427,
    "start_time": "2024-06-12T00:02:49.268Z"
   },
   {
    "duration": 7,
    "start_time": "2024-06-12T00:02:49.698Z"
   },
   {
    "duration": 0,
    "start_time": "2024-06-12T00:02:49.708Z"
   },
   {
    "duration": 0,
    "start_time": "2024-06-12T00:02:49.710Z"
   },
   {
    "duration": 0,
    "start_time": "2024-06-12T00:02:49.732Z"
   },
   {
    "duration": 231,
    "start_time": "2024-06-12T00:04:06.337Z"
   },
   {
    "duration": 369,
    "start_time": "2024-06-12T00:04:29.253Z"
   },
   {
    "duration": 24,
    "start_time": "2024-06-12T00:04:52.560Z"
   },
   {
    "duration": 408,
    "start_time": "2024-06-12T00:04:59.916Z"
   },
   {
    "duration": 22,
    "start_time": "2024-06-12T00:05:22.995Z"
   },
   {
    "duration": 428,
    "start_time": "2024-06-12T00:05:25.743Z"
   },
   {
    "duration": 30,
    "start_time": "2024-06-12T00:08:46.327Z"
   },
   {
    "duration": 8,
    "start_time": "2024-06-12T00:09:24.726Z"
   },
   {
    "duration": 9,
    "start_time": "2024-06-12T00:09:25.627Z"
   },
   {
    "duration": 349,
    "start_time": "2024-06-12T00:09:26.524Z"
   },
   {
    "duration": 435,
    "start_time": "2024-06-12T00:09:54.674Z"
   },
   {
    "duration": 359,
    "start_time": "2024-06-12T00:10:15.575Z"
   },
   {
    "duration": 352,
    "start_time": "2024-06-12T00:10:28.015Z"
   },
   {
    "duration": 367,
    "start_time": "2024-06-12T00:10:35.036Z"
   },
   {
    "duration": 704,
    "start_time": "2024-06-12T00:25:02.154Z"
   },
   {
    "duration": 358,
    "start_time": "2024-06-12T00:25:22.506Z"
   },
   {
    "duration": 397,
    "start_time": "2024-06-12T00:27:06.915Z"
   },
   {
    "duration": 391,
    "start_time": "2024-06-12T00:27:17.172Z"
   },
   {
    "duration": 363,
    "start_time": "2024-06-12T00:27:36.024Z"
   },
   {
    "duration": 365,
    "start_time": "2024-06-12T00:27:42.873Z"
   },
   {
    "duration": 2001,
    "start_time": "2024-06-12T00:52:01.611Z"
   },
   {
    "duration": 1893,
    "start_time": "2024-06-12T00:52:56.717Z"
   },
   {
    "duration": 1884,
    "start_time": "2024-06-12T00:56:39.220Z"
   },
   {
    "duration": 4,
    "start_time": "2024-06-12T00:57:30.059Z"
   },
   {
    "duration": 8,
    "start_time": "2024-06-12T00:57:51.605Z"
   },
   {
    "duration": 9,
    "start_time": "2024-06-12T00:58:02.431Z"
   },
   {
    "duration": 1985,
    "start_time": "2024-06-12T01:03:30.562Z"
   },
   {
    "duration": 1922,
    "start_time": "2024-06-12T01:03:51.372Z"
   },
   {
    "duration": 1898,
    "start_time": "2024-06-12T01:04:17.444Z"
   },
   {
    "duration": 1912,
    "start_time": "2024-06-12T01:04:44.442Z"
   },
   {
    "duration": 1898,
    "start_time": "2024-06-12T01:04:52.420Z"
   },
   {
    "duration": 1919,
    "start_time": "2024-06-12T01:08:55.032Z"
   },
   {
    "duration": 2516,
    "start_time": "2024-06-12T01:09:19.187Z"
   },
   {
    "duration": 2197,
    "start_time": "2024-06-12T01:10:23.031Z"
   },
   {
    "duration": 2156,
    "start_time": "2024-06-12T01:11:16.288Z"
   },
   {
    "duration": 2080,
    "start_time": "2024-06-12T01:12:18.241Z"
   },
   {
    "duration": 2058,
    "start_time": "2024-06-12T01:12:30.593Z"
   },
   {
    "duration": 7,
    "start_time": "2024-06-12T01:13:38.880Z"
   },
   {
    "duration": 11,
    "start_time": "2024-06-12T01:13:58.422Z"
   },
   {
    "duration": 246,
    "start_time": "2024-06-12T01:15:18.147Z"
   },
   {
    "duration": 9,
    "start_time": "2024-06-12T01:15:45.189Z"
   },
   {
    "duration": 310,
    "start_time": "2024-06-12T11:13:53.478Z"
   },
   {
    "duration": 4216,
    "start_time": "2024-06-12T11:14:02.557Z"
   },
   {
    "duration": 4,
    "start_time": "2024-06-12T11:14:06.776Z"
   },
   {
    "duration": 233,
    "start_time": "2024-06-12T11:14:06.783Z"
   },
   {
    "duration": 90,
    "start_time": "2024-06-12T11:14:07.021Z"
   },
   {
    "duration": 22,
    "start_time": "2024-06-12T11:14:07.114Z"
   },
   {
    "duration": 18,
    "start_time": "2024-06-12T11:14:07.146Z"
   },
   {
    "duration": 1357,
    "start_time": "2024-06-12T11:14:07.168Z"
   },
   {
    "duration": 190,
    "start_time": "2024-06-12T11:14:08.528Z"
   },
   {
    "duration": 14,
    "start_time": "2024-06-12T11:14:08.721Z"
   },
   {
    "duration": 232,
    "start_time": "2024-06-12T11:14:08.740Z"
   },
   {
    "duration": 180,
    "start_time": "2024-06-12T11:14:08.974Z"
   },
   {
    "duration": 45,
    "start_time": "2024-06-12T11:14:09.157Z"
   },
   {
    "duration": 46,
    "start_time": "2024-06-12T11:14:09.205Z"
   },
   {
    "duration": 17,
    "start_time": "2024-06-12T11:14:09.254Z"
   },
   {
    "duration": 61,
    "start_time": "2024-06-12T11:14:09.274Z"
   },
   {
    "duration": 51,
    "start_time": "2024-06-12T11:14:09.339Z"
   },
   {
    "duration": 8,
    "start_time": "2024-06-12T11:14:09.393Z"
   },
   {
    "duration": 30,
    "start_time": "2024-06-12T11:14:09.404Z"
   },
   {
    "duration": 16,
    "start_time": "2024-06-12T11:14:09.438Z"
   },
   {
    "duration": 6,
    "start_time": "2024-06-12T11:14:09.458Z"
   },
   {
    "duration": 1370,
    "start_time": "2024-06-12T11:14:09.468Z"
   },
   {
    "duration": 1202,
    "start_time": "2024-06-12T11:14:10.841Z"
   },
   {
    "duration": 16,
    "start_time": "2024-06-12T11:14:12.046Z"
   },
   {
    "duration": 16,
    "start_time": "2024-06-12T11:14:12.065Z"
   },
   {
    "duration": 51,
    "start_time": "2024-06-12T11:14:12.084Z"
   },
   {
    "duration": 22,
    "start_time": "2024-06-12T11:14:12.139Z"
   },
   {
    "duration": 10,
    "start_time": "2024-06-12T11:14:12.164Z"
   },
   {
    "duration": 51,
    "start_time": "2024-06-12T11:14:12.182Z"
   },
   {
    "duration": 10,
    "start_time": "2024-06-12T11:14:12.236Z"
   },
   {
    "duration": 11,
    "start_time": "2024-06-12T11:14:12.249Z"
   },
   {
    "duration": 118,
    "start_time": "2024-06-12T11:14:12.264Z"
   },
   {
    "duration": 55,
    "start_time": "2024-06-12T11:14:12.384Z"
   },
   {
    "duration": 596,
    "start_time": "2024-06-12T11:14:12.442Z"
   },
   {
    "duration": 993,
    "start_time": "2024-06-12T11:14:13.041Z"
   },
   {
    "duration": 6,
    "start_time": "2024-06-12T11:14:14.037Z"
   },
   {
    "duration": 6,
    "start_time": "2024-06-12T11:14:14.046Z"
   },
   {
    "duration": 451,
    "start_time": "2024-06-12T11:14:14.056Z"
   },
   {
    "duration": 0,
    "start_time": "2024-06-12T11:14:14.510Z"
   },
   {
    "duration": 0,
    "start_time": "2024-06-12T11:14:14.512Z"
   },
   {
    "duration": 0,
    "start_time": "2024-06-12T11:14:14.514Z"
   },
   {
    "duration": 0,
    "start_time": "2024-06-12T11:14:14.516Z"
   },
   {
    "duration": 0,
    "start_time": "2024-06-12T11:14:14.533Z"
   },
   {
    "duration": 0,
    "start_time": "2024-06-12T11:14:14.535Z"
   },
   {
    "duration": 0,
    "start_time": "2024-06-12T11:14:14.537Z"
   },
   {
    "duration": 0,
    "start_time": "2024-06-12T11:14:14.539Z"
   },
   {
    "duration": 0,
    "start_time": "2024-06-12T11:14:14.541Z"
   },
   {
    "duration": 0,
    "start_time": "2024-06-12T11:14:14.543Z"
   },
   {
    "duration": 0,
    "start_time": "2024-06-12T11:14:14.545Z"
   },
   {
    "duration": 0,
    "start_time": "2024-06-12T11:14:14.548Z"
   },
   {
    "duration": 0,
    "start_time": "2024-06-12T11:14:14.549Z"
   },
   {
    "duration": 0,
    "start_time": "2024-06-12T11:14:14.551Z"
   },
   {
    "duration": 0,
    "start_time": "2024-06-12T11:14:14.552Z"
   },
   {
    "duration": 39,
    "start_time": "2024-06-12T11:14:35.137Z"
   },
   {
    "duration": 3,
    "start_time": "2024-06-12T11:14:43.583Z"
   },
   {
    "duration": 3,
    "start_time": "2024-06-12T11:14:44.547Z"
   },
   {
    "duration": 183,
    "start_time": "2024-06-12T11:14:45.299Z"
   },
   {
    "duration": 55,
    "start_time": "2024-06-12T11:14:45.970Z"
   },
   {
    "duration": 8,
    "start_time": "2024-06-12T11:14:46.471Z"
   },
   {
    "duration": 7,
    "start_time": "2024-06-12T11:14:46.913Z"
   },
   {
    "duration": 1242,
    "start_time": "2024-06-12T11:14:47.247Z"
   },
   {
    "duration": 149,
    "start_time": "2024-06-12T11:14:49.440Z"
   },
   {
    "duration": 9,
    "start_time": "2024-06-12T11:14:50.533Z"
   },
   {
    "duration": 193,
    "start_time": "2024-06-12T11:14:51.508Z"
   },
   {
    "duration": 156,
    "start_time": "2024-06-12T11:14:53.547Z"
   },
   {
    "duration": 42,
    "start_time": "2024-06-12T11:14:54.587Z"
   },
   {
    "duration": 27,
    "start_time": "2024-06-12T11:14:59.409Z"
   },
   {
    "duration": 17,
    "start_time": "2024-06-12T11:15:00.238Z"
   },
   {
    "duration": 33,
    "start_time": "2024-06-12T11:15:02.152Z"
   },
   {
    "duration": 42,
    "start_time": "2024-06-12T11:15:02.835Z"
   },
   {
    "duration": 7,
    "start_time": "2024-06-12T11:15:05.358Z"
   },
   {
    "duration": 5,
    "start_time": "2024-06-12T11:15:06.749Z"
   },
   {
    "duration": 15,
    "start_time": "2024-06-12T11:15:08.314Z"
   },
   {
    "duration": 6,
    "start_time": "2024-06-12T11:15:10.481Z"
   },
   {
    "duration": 1397,
    "start_time": "2024-06-12T11:15:11.973Z"
   },
   {
    "duration": 1351,
    "start_time": "2024-06-12T11:15:14.089Z"
   },
   {
    "duration": 16,
    "start_time": "2024-06-12T11:15:17.689Z"
   },
   {
    "duration": 16,
    "start_time": "2024-06-12T11:15:19.237Z"
   },
   {
    "duration": 13,
    "start_time": "2024-06-12T11:15:20.777Z"
   },
   {
    "duration": 23,
    "start_time": "2024-06-12T11:15:21.429Z"
   },
   {
    "duration": 9,
    "start_time": "2024-06-12T11:15:23.274Z"
   },
   {
    "duration": 21,
    "start_time": "2024-06-12T11:15:24.785Z"
   },
   {
    "duration": 8,
    "start_time": "2024-06-12T11:15:25.814Z"
   },
   {
    "duration": 11,
    "start_time": "2024-06-12T11:15:27.639Z"
   },
   {
    "duration": 89,
    "start_time": "2024-06-12T11:15:28.769Z"
   },
   {
    "duration": 35,
    "start_time": "2024-06-12T11:15:29.425Z"
   },
   {
    "duration": 627,
    "start_time": "2024-06-12T11:15:30.210Z"
   },
   {
    "duration": 982,
    "start_time": "2024-06-12T11:15:33.890Z"
   },
   {
    "duration": 6,
    "start_time": "2024-06-12T11:15:40.948Z"
   },
   {
    "duration": 6,
    "start_time": "2024-06-12T11:15:42.536Z"
   },
   {
    "duration": 38,
    "start_time": "2024-06-12T11:15:43.834Z"
   },
   {
    "duration": 37,
    "start_time": "2024-06-12T11:16:18.104Z"
   },
   {
    "duration": 392,
    "start_time": "2024-06-12T11:17:23.660Z"
   },
   {
    "duration": 255,
    "start_time": "2024-06-12T11:17:30.730Z"
   },
   {
    "duration": 22,
    "start_time": "2024-06-12T11:17:34.268Z"
   },
   {
    "duration": 438,
    "start_time": "2024-06-12T11:17:37.173Z"
   },
   {
    "duration": 10,
    "start_time": "2024-06-12T11:17:40.387Z"
   },
   {
    "duration": 10,
    "start_time": "2024-06-12T11:17:41.724Z"
   },
   {
    "duration": 349,
    "start_time": "2024-06-12T11:17:42.994Z"
   },
   {
    "duration": 347,
    "start_time": "2024-06-12T11:17:49.144Z"
   },
   {
    "duration": 1852,
    "start_time": "2024-06-12T11:17:52.053Z"
   },
   {
    "duration": 7,
    "start_time": "2024-06-12T11:17:56.214Z"
   },
   {
    "duration": 8,
    "start_time": "2024-06-12T11:17:58.774Z"
   },
   {
    "duration": 1906,
    "start_time": "2024-06-12T11:18:13.857Z"
   },
   {
    "duration": 10,
    "start_time": "2024-06-12T11:18:19.837Z"
   },
   {
    "duration": 7,
    "start_time": "2024-06-12T11:18:21.150Z"
   },
   {
    "duration": 8,
    "start_time": "2024-06-12T11:18:24.112Z"
   },
   {
    "duration": 3172,
    "start_time": "2024-06-12T11:21:11.973Z"
   },
   {
    "duration": 3109,
    "start_time": "2024-06-12T11:22:58.054Z"
   },
   {
    "duration": 3690,
    "start_time": "2024-06-12T11:25:27.882Z"
   },
   {
    "duration": 3764,
    "start_time": "2024-06-12T11:26:39.033Z"
   },
   {
    "duration": 3878,
    "start_time": "2024-06-12T11:29:28.494Z"
   },
   {
    "duration": 752,
    "start_time": "2024-06-12T11:30:37.875Z"
   },
   {
    "duration": 87,
    "start_time": "2024-06-12T11:31:27.489Z"
   },
   {
    "duration": 81,
    "start_time": "2024-06-12T11:31:35.914Z"
   },
   {
    "duration": 34,
    "start_time": "2024-06-12T11:32:59.528Z"
   },
   {
    "duration": 2079,
    "start_time": "2024-06-12T11:33:05.317Z"
   },
   {
    "duration": 10,
    "start_time": "2024-06-12T11:33:10.669Z"
   },
   {
    "duration": 7,
    "start_time": "2024-06-12T11:33:12.477Z"
   },
   {
    "duration": 9,
    "start_time": "2024-06-12T11:33:14.806Z"
   },
   {
    "duration": 33,
    "start_time": "2024-06-12T11:33:17.137Z"
   },
   {
    "duration": 724,
    "start_time": "2024-06-12T11:33:24.447Z"
   },
   {
    "duration": 4,
    "start_time": "2024-06-12T11:33:25.176Z"
   },
   {
    "duration": 299,
    "start_time": "2024-06-12T11:33:25.183Z"
   },
   {
    "duration": 92,
    "start_time": "2024-06-12T11:33:25.488Z"
   },
   {
    "duration": 12,
    "start_time": "2024-06-12T11:33:25.583Z"
   },
   {
    "duration": 15,
    "start_time": "2024-06-12T11:33:25.598Z"
   },
   {
    "duration": 1494,
    "start_time": "2024-06-12T11:33:25.616Z"
   },
   {
    "duration": 218,
    "start_time": "2024-06-12T11:33:27.114Z"
   },
   {
    "duration": 13,
    "start_time": "2024-06-12T11:33:27.339Z"
   },
   {
    "duration": 251,
    "start_time": "2024-06-12T11:33:27.360Z"
   },
   {
    "duration": 200,
    "start_time": "2024-06-12T11:33:27.614Z"
   },
   {
    "duration": 65,
    "start_time": "2024-06-12T11:33:27.817Z"
   },
   {
    "duration": 26,
    "start_time": "2024-06-12T11:33:27.885Z"
   },
   {
    "duration": 35,
    "start_time": "2024-06-12T11:33:27.914Z"
   },
   {
    "duration": 35,
    "start_time": "2024-06-12T11:33:27.953Z"
   },
   {
    "duration": 81,
    "start_time": "2024-06-12T11:33:27.992Z"
   },
   {
    "duration": 10,
    "start_time": "2024-06-12T11:33:28.077Z"
   },
   {
    "duration": 8,
    "start_time": "2024-06-12T11:33:28.091Z"
   },
   {
    "duration": 54,
    "start_time": "2024-06-12T11:33:28.107Z"
   },
   {
    "duration": 8,
    "start_time": "2024-06-12T11:33:28.168Z"
   },
   {
    "duration": 1441,
    "start_time": "2024-06-12T11:33:28.180Z"
   },
   {
    "duration": 1196,
    "start_time": "2024-06-12T11:33:29.637Z"
   },
   {
    "duration": 17,
    "start_time": "2024-06-12T11:33:30.836Z"
   },
   {
    "duration": 18,
    "start_time": "2024-06-12T11:33:30.856Z"
   },
   {
    "duration": 17,
    "start_time": "2024-06-12T11:33:30.877Z"
   },
   {
    "duration": 28,
    "start_time": "2024-06-12T11:33:30.934Z"
   },
   {
    "duration": 10,
    "start_time": "2024-06-12T11:33:30.965Z"
   },
   {
    "duration": 50,
    "start_time": "2024-06-12T11:33:30.985Z"
   },
   {
    "duration": 9,
    "start_time": "2024-06-12T11:33:31.039Z"
   },
   {
    "duration": 13,
    "start_time": "2024-06-12T11:33:31.051Z"
   },
   {
    "duration": 124,
    "start_time": "2024-06-12T11:33:31.067Z"
   },
   {
    "duration": 57,
    "start_time": "2024-06-12T11:33:31.193Z"
   },
   {
    "duration": 691,
    "start_time": "2024-06-12T11:33:31.255Z"
   },
   {
    "duration": 1023,
    "start_time": "2024-06-12T11:33:31.949Z"
   },
   {
    "duration": 6,
    "start_time": "2024-06-12T11:33:32.976Z"
   },
   {
    "duration": 6,
    "start_time": "2024-06-12T11:33:32.985Z"
   },
   {
    "duration": 427,
    "start_time": "2024-06-12T11:33:32.994Z"
   },
   {
    "duration": 241,
    "start_time": "2024-06-12T11:33:33.424Z"
   },
   {
    "duration": 21,
    "start_time": "2024-06-12T11:33:33.668Z"
   },
   {
    "duration": 454,
    "start_time": "2024-06-12T11:33:33.692Z"
   },
   {
    "duration": 9,
    "start_time": "2024-06-12T11:33:34.151Z"
   },
   {
    "duration": 10,
    "start_time": "2024-06-12T11:33:34.163Z"
   },
   {
    "duration": 380,
    "start_time": "2024-06-12T11:33:34.175Z"
   },
   {
    "duration": 354,
    "start_time": "2024-06-12T11:33:34.558Z"
   },
   {
    "duration": 1880,
    "start_time": "2024-06-12T11:33:34.915Z"
   },
   {
    "duration": 7,
    "start_time": "2024-06-12T11:33:36.797Z"
   },
   {
    "duration": 26,
    "start_time": "2024-06-12T11:33:36.808Z"
   },
   {
    "duration": 1979,
    "start_time": "2024-06-12T11:33:36.838Z"
   },
   {
    "duration": 19,
    "start_time": "2024-06-12T11:33:38.819Z"
   },
   {
    "duration": 8,
    "start_time": "2024-06-12T11:33:38.841Z"
   },
   {
    "duration": 9,
    "start_time": "2024-06-12T11:33:38.852Z"
   },
   {
    "duration": 453,
    "start_time": "2024-06-12T11:33:38.865Z"
   },
   {
    "duration": 3764,
    "start_time": "2024-06-12T11:34:11.070Z"
   },
   {
    "duration": 382,
    "start_time": "2024-06-12T14:06:00.211Z"
   },
   {
    "duration": 4696,
    "start_time": "2024-06-12T14:06:10.426Z"
   },
   {
    "duration": 4,
    "start_time": "2024-06-12T14:06:15.125Z"
   },
   {
    "duration": 249,
    "start_time": "2024-06-12T14:06:15.132Z"
   },
   {
    "duration": 85,
    "start_time": "2024-06-12T14:06:15.386Z"
   },
   {
    "duration": 12,
    "start_time": "2024-06-12T14:06:15.474Z"
   },
   {
    "duration": 9,
    "start_time": "2024-06-12T14:06:15.490Z"
   },
   {
    "duration": 1430,
    "start_time": "2024-06-12T14:06:15.502Z"
   },
   {
    "duration": 227,
    "start_time": "2024-06-12T14:06:16.938Z"
   },
   {
    "duration": 13,
    "start_time": "2024-06-12T14:06:17.168Z"
   },
   {
    "duration": 275,
    "start_time": "2024-06-12T14:06:17.189Z"
   },
   {
    "duration": 196,
    "start_time": "2024-06-12T14:06:17.467Z"
   },
   {
    "duration": 64,
    "start_time": "2024-06-12T14:06:17.666Z"
   },
   {
    "duration": 27,
    "start_time": "2024-06-12T14:06:17.733Z"
   },
   {
    "duration": 19,
    "start_time": "2024-06-12T14:06:17.763Z"
   },
   {
    "duration": 67,
    "start_time": "2024-06-12T14:06:17.787Z"
   },
   {
    "duration": 67,
    "start_time": "2024-06-12T14:06:17.859Z"
   },
   {
    "duration": 7,
    "start_time": "2024-06-12T14:06:17.929Z"
   },
   {
    "duration": 7,
    "start_time": "2024-06-12T14:06:17.946Z"
   },
   {
    "duration": 16,
    "start_time": "2024-06-12T14:06:17.957Z"
   },
   {
    "duration": 45,
    "start_time": "2024-06-12T14:06:17.977Z"
   },
   {
    "duration": 1551,
    "start_time": "2024-06-12T14:06:18.027Z"
   },
   {
    "duration": 1454,
    "start_time": "2024-06-12T14:06:19.582Z"
   },
   {
    "duration": 16,
    "start_time": "2024-06-12T14:06:21.040Z"
   },
   {
    "duration": 24,
    "start_time": "2024-06-12T14:06:21.059Z"
   },
   {
    "duration": 40,
    "start_time": "2024-06-12T14:06:21.087Z"
   },
   {
    "duration": 30,
    "start_time": "2024-06-12T14:06:21.131Z"
   },
   {
    "duration": 12,
    "start_time": "2024-06-12T14:06:21.165Z"
   },
   {
    "duration": 42,
    "start_time": "2024-06-12T14:06:21.185Z"
   },
   {
    "duration": 11,
    "start_time": "2024-06-12T14:06:21.231Z"
   },
   {
    "duration": 16,
    "start_time": "2024-06-12T14:06:21.246Z"
   },
   {
    "duration": 257,
    "start_time": "2024-06-12T14:06:21.266Z"
   },
   {
    "duration": 41,
    "start_time": "2024-06-12T14:06:21.528Z"
   },
   {
    "duration": 695,
    "start_time": "2024-06-12T14:06:21.573Z"
   },
   {
    "duration": 1047,
    "start_time": "2024-06-12T14:06:22.272Z"
   },
   {
    "duration": 7,
    "start_time": "2024-06-12T14:06:23.325Z"
   },
   {
    "duration": 8,
    "start_time": "2024-06-12T14:06:23.337Z"
   },
   {
    "duration": 477,
    "start_time": "2024-06-12T14:06:23.348Z"
   },
   {
    "duration": 295,
    "start_time": "2024-06-12T14:06:23.828Z"
   },
   {
    "duration": 29,
    "start_time": "2024-06-12T14:06:24.128Z"
   },
   {
    "duration": 544,
    "start_time": "2024-06-12T14:06:24.162Z"
   },
   {
    "duration": 11,
    "start_time": "2024-06-12T14:06:24.722Z"
   },
   {
    "duration": 11,
    "start_time": "2024-06-12T14:06:24.736Z"
   },
   {
    "duration": 401,
    "start_time": "2024-06-12T14:06:24.754Z"
   },
   {
    "duration": 437,
    "start_time": "2024-06-12T14:06:25.158Z"
   },
   {
    "duration": 2027,
    "start_time": "2024-06-12T14:06:25.599Z"
   },
   {
    "duration": 8,
    "start_time": "2024-06-12T14:06:27.628Z"
   },
   {
    "duration": 11,
    "start_time": "2024-06-12T14:06:27.641Z"
   },
   {
    "duration": 2185,
    "start_time": "2024-06-12T14:06:27.656Z"
   },
   {
    "duration": 17,
    "start_time": "2024-06-12T14:06:29.851Z"
   },
   {
    "duration": 11,
    "start_time": "2024-06-12T14:06:29.873Z"
   },
   {
    "duration": 11,
    "start_time": "2024-06-12T14:06:29.888Z"
   },
   {
    "duration": 4532,
    "start_time": "2024-06-12T14:06:29.922Z"
   },
   {
    "duration": 4682,
    "start_time": "2024-06-12T14:13:12.464Z"
   },
   {
    "duration": 4350,
    "start_time": "2024-06-12T14:13:39.118Z"
   },
   {
    "duration": 4115,
    "start_time": "2024-06-12T14:14:02.882Z"
   },
   {
    "duration": 340,
    "start_time": "2024-06-12T14:25:17.754Z"
   },
   {
    "duration": 808,
    "start_time": "2024-06-12T14:25:31.339Z"
   },
   {
    "duration": 4,
    "start_time": "2024-06-12T14:25:32.151Z"
   },
   {
    "duration": 318,
    "start_time": "2024-06-12T14:25:32.160Z"
   },
   {
    "duration": 98,
    "start_time": "2024-06-12T14:25:32.484Z"
   },
   {
    "duration": 11,
    "start_time": "2024-06-12T14:25:32.586Z"
   },
   {
    "duration": 11,
    "start_time": "2024-06-12T14:25:32.600Z"
   },
   {
    "duration": 1494,
    "start_time": "2024-06-12T14:25:32.615Z"
   },
   {
    "duration": 261,
    "start_time": "2024-06-12T14:25:34.114Z"
   },
   {
    "duration": 16,
    "start_time": "2024-06-12T14:25:34.378Z"
   },
   {
    "duration": 323,
    "start_time": "2024-06-12T14:25:34.400Z"
   },
   {
    "duration": 237,
    "start_time": "2024-06-12T14:25:34.727Z"
   },
   {
    "duration": 85,
    "start_time": "2024-06-12T14:25:34.968Z"
   },
   {
    "duration": 36,
    "start_time": "2024-06-12T14:25:35.056Z"
   },
   {
    "duration": 41,
    "start_time": "2024-06-12T14:25:35.096Z"
   },
   {
    "duration": 43,
    "start_time": "2024-06-12T14:25:35.141Z"
   },
   {
    "duration": 84,
    "start_time": "2024-06-12T14:25:35.188Z"
   },
   {
    "duration": 10,
    "start_time": "2024-06-12T14:25:35.276Z"
   },
   {
    "duration": 38,
    "start_time": "2024-06-12T14:25:35.290Z"
   },
   {
    "duration": 23,
    "start_time": "2024-06-12T14:25:35.332Z"
   },
   {
    "duration": 7,
    "start_time": "2024-06-12T14:25:35.359Z"
   },
   {
    "duration": 1685,
    "start_time": "2024-06-12T14:25:35.370Z"
   },
   {
    "duration": 1469,
    "start_time": "2024-06-12T14:25:37.059Z"
   },
   {
    "duration": 18,
    "start_time": "2024-06-12T14:25:38.532Z"
   },
   {
    "duration": 20,
    "start_time": "2024-06-12T14:25:38.554Z"
   },
   {
    "duration": 53,
    "start_time": "2024-06-12T14:25:38.577Z"
   },
   {
    "duration": 24,
    "start_time": "2024-06-12T14:25:38.634Z"
   },
   {
    "duration": 12,
    "start_time": "2024-06-12T14:25:38.661Z"
   },
   {
    "duration": 18,
    "start_time": "2024-06-12T14:25:38.722Z"
   },
   {
    "duration": 10,
    "start_time": "2024-06-12T14:25:38.744Z"
   },
   {
    "duration": 13,
    "start_time": "2024-06-12T14:25:38.758Z"
   },
   {
    "duration": 166,
    "start_time": "2024-06-12T14:25:38.776Z"
   },
   {
    "duration": 42,
    "start_time": "2024-06-12T14:25:38.945Z"
   },
   {
    "duration": 734,
    "start_time": "2024-06-12T14:25:38.991Z"
   },
   {
    "duration": 1069,
    "start_time": "2024-06-12T14:25:39.728Z"
   },
   {
    "duration": 23,
    "start_time": "2024-06-12T14:25:40.800Z"
   },
   {
    "duration": 9,
    "start_time": "2024-06-12T14:25:40.827Z"
   },
   {
    "duration": 482,
    "start_time": "2024-06-12T14:25:40.840Z"
   },
   {
    "duration": 261,
    "start_time": "2024-06-12T14:25:41.325Z"
   },
   {
    "duration": 36,
    "start_time": "2024-06-12T14:25:41.589Z"
   },
   {
    "duration": 471,
    "start_time": "2024-06-12T14:25:41.628Z"
   },
   {
    "duration": 24,
    "start_time": "2024-06-12T14:25:42.103Z"
   },
   {
    "duration": 11,
    "start_time": "2024-06-12T14:25:42.130Z"
   },
   {
    "duration": 412,
    "start_time": "2024-06-12T14:25:42.144Z"
   },
   {
    "duration": 422,
    "start_time": "2024-06-12T14:25:42.560Z"
   },
   {
    "duration": 2102,
    "start_time": "2024-06-12T14:25:42.986Z"
   },
   {
    "duration": 8,
    "start_time": "2024-06-12T14:25:45.091Z"
   },
   {
    "duration": 25,
    "start_time": "2024-06-12T14:25:45.103Z"
   },
   {
    "duration": 2130,
    "start_time": "2024-06-12T14:25:45.132Z"
   },
   {
    "duration": 12,
    "start_time": "2024-06-12T14:25:47.265Z"
   },
   {
    "duration": 8,
    "start_time": "2024-06-12T14:25:47.284Z"
   },
   {
    "duration": 34,
    "start_time": "2024-06-12T14:25:47.295Z"
   },
   {
    "duration": 478,
    "start_time": "2024-06-12T14:25:47.332Z"
   },
   {
    "duration": 0,
    "start_time": "2024-06-12T14:25:47.813Z"
   },
   {
    "duration": 4151,
    "start_time": "2024-06-12T14:27:34.343Z"
   },
   {
    "duration": 26,
    "start_time": "2024-06-12T14:31:37.431Z"
   },
   {
    "duration": 201,
    "start_time": "2024-06-12T14:32:33.288Z"
   },
   {
    "duration": 209,
    "start_time": "2024-06-12T14:36:54.937Z"
   },
   {
    "duration": 28,
    "start_time": "2024-06-12T14:36:57.585Z"
   },
   {
    "duration": 16,
    "start_time": "2024-06-12T14:36:59.745Z"
   },
   {
    "duration": 600,
    "start_time": "2024-06-12T14:44:18.044Z"
   },
   {
    "duration": 578,
    "start_time": "2024-06-12T14:44:43.219Z"
   },
   {
    "duration": 607,
    "start_time": "2024-06-12T14:44:57.183Z"
   },
   {
    "duration": 281,
    "start_time": "2024-06-12T14:45:25.679Z"
   },
   {
    "duration": 277,
    "start_time": "2024-06-12T14:45:38.464Z"
   },
   {
    "duration": 220,
    "start_time": "2024-06-12T14:45:48.177Z"
   },
   {
    "duration": 337,
    "start_time": "2024-06-12T14:45:54.704Z"
   },
   {
    "duration": 112,
    "start_time": "2024-06-12T14:51:05.095Z"
   },
   {
    "duration": 35,
    "start_time": "2024-06-12T14:51:12.958Z"
   },
   {
    "duration": 776,
    "start_time": "2024-06-12T14:51:19.743Z"
   },
   {
    "duration": 4,
    "start_time": "2024-06-12T14:51:20.525Z"
   },
   {
    "duration": 304,
    "start_time": "2024-06-12T14:51:20.532Z"
   },
   {
    "duration": 67,
    "start_time": "2024-06-12T14:51:20.839Z"
   },
   {
    "duration": 15,
    "start_time": "2024-06-12T14:51:20.926Z"
   },
   {
    "duration": 12,
    "start_time": "2024-06-12T14:51:20.945Z"
   },
   {
    "duration": 1716,
    "start_time": "2024-06-12T14:51:20.961Z"
   },
   {
    "duration": 271,
    "start_time": "2024-06-12T14:51:22.682Z"
   },
   {
    "duration": 14,
    "start_time": "2024-06-12T14:51:22.956Z"
   },
   {
    "duration": 330,
    "start_time": "2024-06-12T14:51:22.975Z"
   },
   {
    "duration": 277,
    "start_time": "2024-06-12T14:51:23.311Z"
   },
   {
    "duration": 80,
    "start_time": "2024-06-12T14:51:23.598Z"
   },
   {
    "duration": 40,
    "start_time": "2024-06-12T14:51:23.683Z"
   },
   {
    "duration": 23,
    "start_time": "2024-06-12T14:51:23.730Z"
   },
   {
    "duration": 67,
    "start_time": "2024-06-12T14:51:23.757Z"
   },
   {
    "duration": 70,
    "start_time": "2024-06-12T14:51:23.828Z"
   },
   {
    "duration": 9,
    "start_time": "2024-06-12T14:51:23.905Z"
   },
   {
    "duration": 9,
    "start_time": "2024-06-12T14:51:23.925Z"
   },
   {
    "duration": 24,
    "start_time": "2024-06-12T14:51:23.938Z"
   },
   {
    "duration": 8,
    "start_time": "2024-06-12T14:51:23.966Z"
   },
   {
    "duration": 1847,
    "start_time": "2024-06-12T14:51:23.977Z"
   },
   {
    "duration": 1700,
    "start_time": "2024-06-12T14:51:25.828Z"
   },
   {
    "duration": 23,
    "start_time": "2024-06-12T14:51:27.533Z"
   },
   {
    "duration": 25,
    "start_time": "2024-06-12T14:51:27.563Z"
   },
   {
    "duration": 41,
    "start_time": "2024-06-12T14:51:27.592Z"
   },
   {
    "duration": 25,
    "start_time": "2024-06-12T14:51:27.637Z"
   },
   {
    "duration": 10,
    "start_time": "2024-06-12T14:51:27.665Z"
   },
   {
    "duration": 55,
    "start_time": "2024-06-12T14:51:27.679Z"
   },
   {
    "duration": 10,
    "start_time": "2024-06-12T14:51:27.738Z"
   },
   {
    "duration": 13,
    "start_time": "2024-06-12T14:51:27.752Z"
   },
   {
    "duration": 154,
    "start_time": "2024-06-12T14:51:27.768Z"
   },
   {
    "duration": 51,
    "start_time": "2024-06-12T14:51:27.925Z"
   },
   {
    "duration": 741,
    "start_time": "2024-06-12T14:51:27.980Z"
   },
   {
    "duration": 1143,
    "start_time": "2024-06-12T14:51:28.725Z"
   },
   {
    "duration": 12,
    "start_time": "2024-06-12T14:51:29.872Z"
   },
   {
    "duration": 35,
    "start_time": "2024-06-12T14:51:29.889Z"
   },
   {
    "duration": 462,
    "start_time": "2024-06-12T14:51:29.928Z"
   },
   {
    "duration": 299,
    "start_time": "2024-06-12T14:51:30.393Z"
   },
   {
    "duration": 47,
    "start_time": "2024-06-12T14:51:30.696Z"
   },
   {
    "duration": 654,
    "start_time": "2024-06-12T14:51:30.748Z"
   },
   {
    "duration": 20,
    "start_time": "2024-06-12T14:51:31.411Z"
   },
   {
    "duration": 12,
    "start_time": "2024-06-12T14:51:31.435Z"
   },
   {
    "duration": 420,
    "start_time": "2024-06-12T14:51:31.450Z"
   },
   {
    "duration": 411,
    "start_time": "2024-06-12T14:51:31.874Z"
   },
   {
    "duration": 2541,
    "start_time": "2024-06-12T14:51:32.288Z"
   },
   {
    "duration": 9,
    "start_time": "2024-06-12T14:51:34.835Z"
   },
   {
    "duration": 14,
    "start_time": "2024-06-12T14:51:34.848Z"
   },
   {
    "duration": 776,
    "start_time": "2024-06-12T14:51:34.866Z"
   },
   {
    "duration": 379,
    "start_time": "2024-06-12T14:51:35.646Z"
   },
   {
    "duration": 2209,
    "start_time": "2024-06-12T14:51:36.029Z"
   },
   {
    "duration": 12,
    "start_time": "2024-06-12T14:51:38.241Z"
   },
   {
    "duration": 9,
    "start_time": "2024-06-12T14:51:38.257Z"
   },
   {
    "duration": 9,
    "start_time": "2024-06-12T14:51:38.270Z"
   },
   {
    "duration": 226,
    "start_time": "2024-06-12T14:51:38.325Z"
   },
   {
    "duration": 26,
    "start_time": "2024-06-12T14:51:38.555Z"
   },
   {
    "duration": 38,
    "start_time": "2024-06-12T14:51:38.585Z"
   },
   {
    "duration": 4753,
    "start_time": "2024-06-12T14:51:38.628Z"
   },
   {
    "duration": 127,
    "start_time": "2024-06-12T14:51:43.385Z"
   },
   {
    "duration": 28,
    "start_time": "2024-06-12T14:53:34.316Z"
   },
   {
    "duration": 8,
    "start_time": "2024-06-12T14:54:20.246Z"
   },
   {
    "duration": 1106,
    "start_time": "2024-06-12T14:55:46.985Z"
   },
   {
    "duration": 10,
    "start_time": "2024-06-12T14:56:16.439Z"
   },
   {
    "duration": 110,
    "start_time": "2024-06-12T14:56:19.532Z"
   },
   {
    "duration": 364,
    "start_time": "2024-06-12T14:56:32.359Z"
   },
   {
    "duration": 589,
    "start_time": "2024-06-12T14:58:22.312Z"
   },
   {
    "duration": 1218,
    "start_time": "2024-06-12T14:58:25.885Z"
   },
   {
    "duration": 1038,
    "start_time": "2024-06-12T14:58:40.250Z"
   },
   {
    "duration": 826,
    "start_time": "2024-06-12T14:59:29.587Z"
   },
   {
    "duration": 8,
    "start_time": "2024-06-12T14:59:30.427Z"
   },
   {
    "duration": 286,
    "start_time": "2024-06-12T14:59:30.439Z"
   },
   {
    "duration": 60,
    "start_time": "2024-06-12T14:59:30.729Z"
   },
   {
    "duration": 32,
    "start_time": "2024-06-12T14:59:30.792Z"
   },
   {
    "duration": 11,
    "start_time": "2024-06-12T14:59:30.827Z"
   },
   {
    "duration": 1321,
    "start_time": "2024-06-12T14:59:30.841Z"
   },
   {
    "duration": 234,
    "start_time": "2024-06-12T14:59:32.165Z"
   },
   {
    "duration": 24,
    "start_time": "2024-06-12T14:59:32.402Z"
   },
   {
    "duration": 301,
    "start_time": "2024-06-12T14:59:32.432Z"
   },
   {
    "duration": 286,
    "start_time": "2024-06-12T14:59:32.737Z"
   },
   {
    "duration": 65,
    "start_time": "2024-06-12T14:59:33.026Z"
   },
   {
    "duration": 57,
    "start_time": "2024-06-12T14:59:33.098Z"
   },
   {
    "duration": 21,
    "start_time": "2024-06-12T14:59:33.159Z"
   },
   {
    "duration": 75,
    "start_time": "2024-06-12T14:59:33.186Z"
   },
   {
    "duration": 71,
    "start_time": "2024-06-12T14:59:33.264Z"
   },
   {
    "duration": 9,
    "start_time": "2024-06-12T14:59:33.338Z"
   },
   {
    "duration": 9,
    "start_time": "2024-06-12T14:59:33.351Z"
   },
   {
    "duration": 60,
    "start_time": "2024-06-12T14:59:33.364Z"
   },
   {
    "duration": 7,
    "start_time": "2024-06-12T14:59:33.428Z"
   },
   {
    "duration": 1875,
    "start_time": "2024-06-12T14:59:33.444Z"
   },
   {
    "duration": 1558,
    "start_time": "2024-06-12T14:59:35.326Z"
   },
   {
    "duration": 24,
    "start_time": "2024-06-12T14:59:36.888Z"
   },
   {
    "duration": 20,
    "start_time": "2024-06-12T14:59:36.924Z"
   },
   {
    "duration": 15,
    "start_time": "2024-06-12T14:59:36.951Z"
   },
   {
    "duration": 72,
    "start_time": "2024-06-12T14:59:36.970Z"
   },
   {
    "duration": 11,
    "start_time": "2024-06-12T14:59:37.045Z"
   },
   {
    "duration": 19,
    "start_time": "2024-06-12T14:59:37.066Z"
   },
   {
    "duration": 38,
    "start_time": "2024-06-12T14:59:37.088Z"
   },
   {
    "duration": 14,
    "start_time": "2024-06-12T14:59:37.131Z"
   },
   {
    "duration": 138,
    "start_time": "2024-06-12T14:59:37.149Z"
   },
   {
    "duration": 63,
    "start_time": "2024-06-12T14:59:37.290Z"
   },
   {
    "duration": 803,
    "start_time": "2024-06-12T14:59:37.358Z"
   },
   {
    "duration": 1193,
    "start_time": "2024-06-12T14:59:38.165Z"
   },
   {
    "duration": 9,
    "start_time": "2024-06-12T14:59:39.364Z"
   },
   {
    "duration": 8,
    "start_time": "2024-06-12T14:59:39.379Z"
   },
   {
    "duration": 511,
    "start_time": "2024-06-12T14:59:39.422Z"
   },
   {
    "duration": 306,
    "start_time": "2024-06-12T14:59:39.942Z"
   },
   {
    "duration": 31,
    "start_time": "2024-06-12T14:59:40.254Z"
   },
   {
    "duration": 561,
    "start_time": "2024-06-12T14:59:40.289Z"
   },
   {
    "duration": 14,
    "start_time": "2024-06-12T14:59:40.854Z"
   },
   {
    "duration": 14,
    "start_time": "2024-06-12T14:59:40.871Z"
   },
   {
    "duration": 539,
    "start_time": "2024-06-12T14:59:40.888Z"
   },
   {
    "duration": 396,
    "start_time": "2024-06-12T14:59:41.431Z"
   },
   {
    "duration": 2525,
    "start_time": "2024-06-12T14:59:41.831Z"
   },
   {
    "duration": 9,
    "start_time": "2024-06-12T14:59:44.359Z"
   },
   {
    "duration": 11,
    "start_time": "2024-06-12T14:59:44.372Z"
   },
   {
    "duration": 841,
    "start_time": "2024-06-12T14:59:44.388Z"
   },
   {
    "duration": 424,
    "start_time": "2024-06-12T14:59:45.235Z"
   },
   {
    "duration": 2630,
    "start_time": "2024-06-12T14:59:45.662Z"
   },
   {
    "duration": 43,
    "start_time": "2024-06-12T14:59:48.296Z"
   },
   {
    "duration": 11,
    "start_time": "2024-06-12T14:59:48.344Z"
   },
   {
    "duration": 13,
    "start_time": "2024-06-12T14:59:48.360Z"
   },
   {
    "duration": 259,
    "start_time": "2024-06-12T14:59:48.379Z"
   },
   {
    "duration": 24,
    "start_time": "2024-06-12T14:59:48.642Z"
   },
   {
    "duration": 15,
    "start_time": "2024-06-12T14:59:48.669Z"
   },
   {
    "duration": 5140,
    "start_time": "2024-06-12T14:59:48.688Z"
   },
   {
    "duration": 457,
    "start_time": "2024-06-12T14:59:53.831Z"
   },
   {
    "duration": 9,
    "start_time": "2024-06-12T14:59:54.292Z"
   },
   {
    "duration": 27,
    "start_time": "2024-06-12T15:01:30.682Z"
   },
   {
    "duration": 10,
    "start_time": "2024-06-12T15:01:36.674Z"
   },
   {
    "duration": 334,
    "start_time": "2024-06-12T15:01:59.046Z"
   },
   {
    "duration": 169,
    "start_time": "2024-06-12T15:02:08.175Z"
   },
   {
    "duration": 7,
    "start_time": "2024-06-12T15:02:41.052Z"
   },
   {
    "duration": 6,
    "start_time": "2024-06-12T15:02:45.701Z"
   },
   {
    "duration": 10,
    "start_time": "2024-06-12T15:02:52.279Z"
   },
   {
    "duration": 26,
    "start_time": "2024-06-12T15:03:04.887Z"
   },
   {
    "duration": 6,
    "start_time": "2024-06-12T15:04:18.886Z"
   },
   {
    "duration": 4,
    "start_time": "2024-06-12T15:04:25.629Z"
   },
   {
    "duration": 1036,
    "start_time": "2024-06-12T15:05:31.512Z"
   },
   {
    "duration": 7,
    "start_time": "2024-06-12T15:06:43.580Z"
   },
   {
    "duration": 1594,
    "start_time": "2024-06-12T15:06:48.772Z"
   },
   {
    "duration": 1440,
    "start_time": "2024-06-12T15:07:10.262Z"
   },
   {
    "duration": 316,
    "start_time": "2024-06-12T15:07:54.624Z"
   },
   {
    "duration": 319,
    "start_time": "2024-06-12T15:08:05.395Z"
   },
   {
    "duration": 325,
    "start_time": "2024-06-12T15:08:20.931Z"
   },
   {
    "duration": 6,
    "start_time": "2024-06-12T15:08:27.847Z"
   },
   {
    "duration": 9,
    "start_time": "2024-06-12T15:08:34.867Z"
   },
   {
    "duration": 754,
    "start_time": "2024-06-12T15:08:41.937Z"
   },
   {
    "duration": 5,
    "start_time": "2024-06-12T15:08:42.695Z"
   },
   {
    "duration": 284,
    "start_time": "2024-06-12T15:08:42.704Z"
   },
   {
    "duration": 66,
    "start_time": "2024-06-12T15:08:42.993Z"
   },
   {
    "duration": 8,
    "start_time": "2024-06-12T15:08:43.062Z"
   },
   {
    "duration": 9,
    "start_time": "2024-06-12T15:08:43.073Z"
   },
   {
    "duration": 1288,
    "start_time": "2024-06-12T15:08:43.085Z"
   },
   {
    "duration": 223,
    "start_time": "2024-06-12T15:08:44.376Z"
   },
   {
    "duration": 23,
    "start_time": "2024-06-12T15:08:44.602Z"
   },
   {
    "duration": 262,
    "start_time": "2024-06-12T15:08:44.631Z"
   },
   {
    "duration": 221,
    "start_time": "2024-06-12T15:08:44.896Z"
   },
   {
    "duration": 49,
    "start_time": "2024-06-12T15:08:45.122Z"
   },
   {
    "duration": 24,
    "start_time": "2024-06-12T15:08:45.174Z"
   },
   {
    "duration": 18,
    "start_time": "2024-06-12T15:08:45.223Z"
   },
   {
    "duration": 37,
    "start_time": "2024-06-12T15:08:45.244Z"
   },
   {
    "duration": 73,
    "start_time": "2024-06-12T15:08:45.284Z"
   },
   {
    "duration": 6,
    "start_time": "2024-06-12T15:08:45.361Z"
   },
   {
    "duration": 9,
    "start_time": "2024-06-12T15:08:45.370Z"
   },
   {
    "duration": 47,
    "start_time": "2024-06-12T15:08:45.382Z"
   },
   {
    "duration": 6,
    "start_time": "2024-06-12T15:08:45.432Z"
   },
   {
    "duration": 1512,
    "start_time": "2024-06-12T15:08:45.441Z"
   },
   {
    "duration": 1333,
    "start_time": "2024-06-12T15:08:46.956Z"
   },
   {
    "duration": 31,
    "start_time": "2024-06-12T15:08:48.293Z"
   },
   {
    "duration": 18,
    "start_time": "2024-06-12T15:08:48.328Z"
   },
   {
    "duration": 25,
    "start_time": "2024-06-12T15:08:48.350Z"
   },
   {
    "duration": 53,
    "start_time": "2024-06-12T15:08:48.379Z"
   },
   {
    "duration": 13,
    "start_time": "2024-06-12T15:08:48.435Z"
   },
   {
    "duration": 21,
    "start_time": "2024-06-12T15:08:48.460Z"
   },
   {
    "duration": 44,
    "start_time": "2024-06-12T15:08:48.485Z"
   },
   {
    "duration": 14,
    "start_time": "2024-06-12T15:08:48.532Z"
   },
   {
    "duration": 132,
    "start_time": "2024-06-12T15:08:48.550Z"
   },
   {
    "duration": 67,
    "start_time": "2024-06-12T15:08:48.685Z"
   },
   {
    "duration": 653,
    "start_time": "2024-06-12T15:08:48.756Z"
   },
   {
    "duration": 13,
    "start_time": "2024-06-12T15:08:49.412Z"
   },
   {
    "duration": 0,
    "start_time": "2024-06-12T15:08:49.428Z"
   },
   {
    "duration": 0,
    "start_time": "2024-06-12T15:08:49.431Z"
   },
   {
    "duration": 0,
    "start_time": "2024-06-12T15:08:49.433Z"
   },
   {
    "duration": 0,
    "start_time": "2024-06-12T15:08:49.436Z"
   },
   {
    "duration": 0,
    "start_time": "2024-06-12T15:08:49.439Z"
   },
   {
    "duration": 0,
    "start_time": "2024-06-12T15:08:49.441Z"
   },
   {
    "duration": 0,
    "start_time": "2024-06-12T15:08:49.444Z"
   },
   {
    "duration": 0,
    "start_time": "2024-06-12T15:08:49.446Z"
   },
   {
    "duration": 0,
    "start_time": "2024-06-12T15:08:49.448Z"
   },
   {
    "duration": 0,
    "start_time": "2024-06-12T15:08:49.452Z"
   },
   {
    "duration": 0,
    "start_time": "2024-06-12T15:08:49.454Z"
   },
   {
    "duration": 0,
    "start_time": "2024-06-12T15:08:49.457Z"
   },
   {
    "duration": 0,
    "start_time": "2024-06-12T15:08:49.459Z"
   },
   {
    "duration": 0,
    "start_time": "2024-06-12T15:08:49.460Z"
   },
   {
    "duration": 0,
    "start_time": "2024-06-12T15:08:49.463Z"
   },
   {
    "duration": 0,
    "start_time": "2024-06-12T15:08:49.526Z"
   },
   {
    "duration": 0,
    "start_time": "2024-06-12T15:08:49.529Z"
   },
   {
    "duration": 0,
    "start_time": "2024-06-12T15:08:49.531Z"
   },
   {
    "duration": 0,
    "start_time": "2024-06-12T15:08:49.534Z"
   },
   {
    "duration": 0,
    "start_time": "2024-06-12T15:08:49.538Z"
   },
   {
    "duration": 0,
    "start_time": "2024-06-12T15:08:49.543Z"
   },
   {
    "duration": 0,
    "start_time": "2024-06-12T15:08:49.546Z"
   },
   {
    "duration": 0,
    "start_time": "2024-06-12T15:08:49.549Z"
   },
   {
    "duration": 0,
    "start_time": "2024-06-12T15:08:49.551Z"
   },
   {
    "duration": 0,
    "start_time": "2024-06-12T15:08:49.554Z"
   },
   {
    "duration": 9,
    "start_time": "2024-06-12T15:15:07.521Z"
   },
   {
    "duration": 3,
    "start_time": "2024-06-12T15:15:24.194Z"
   },
   {
    "duration": 3,
    "start_time": "2024-06-12T15:15:25.123Z"
   },
   {
    "duration": 228,
    "start_time": "2024-06-12T15:15:25.757Z"
   },
   {
    "duration": 69,
    "start_time": "2024-06-12T15:15:26.382Z"
   },
   {
    "duration": 8,
    "start_time": "2024-06-12T15:15:27.008Z"
   },
   {
    "duration": 11,
    "start_time": "2024-06-12T15:15:27.620Z"
   },
   {
    "duration": 1551,
    "start_time": "2024-06-12T15:15:28.768Z"
   },
   {
    "duration": 251,
    "start_time": "2024-06-12T15:15:30.990Z"
   },
   {
    "duration": 10,
    "start_time": "2024-06-12T15:15:32.487Z"
   },
   {
    "duration": 266,
    "start_time": "2024-06-12T15:15:35.280Z"
   },
   {
    "duration": 228,
    "start_time": "2024-06-12T15:15:37.079Z"
   },
   {
    "duration": 60,
    "start_time": "2024-06-12T15:15:38.119Z"
   },
   {
    "duration": 26,
    "start_time": "2024-06-12T15:15:39.392Z"
   },
   {
    "duration": 26,
    "start_time": "2024-06-12T15:15:40.113Z"
   },
   {
    "duration": 37,
    "start_time": "2024-06-12T15:15:41.406Z"
   },
   {
    "duration": 47,
    "start_time": "2024-06-12T15:15:43.824Z"
   },
   {
    "duration": 7,
    "start_time": "2024-06-12T15:15:47.170Z"
   },
   {
    "duration": 7,
    "start_time": "2024-06-12T15:15:48.650Z"
   },
   {
    "duration": 16,
    "start_time": "2024-06-12T15:15:49.520Z"
   },
   {
    "duration": 8,
    "start_time": "2024-06-12T15:16:47.375Z"
   },
   {
    "duration": 7,
    "start_time": "2024-06-12T15:17:08.954Z"
   },
   {
    "duration": 8,
    "start_time": "2024-06-12T15:17:39.229Z"
   },
   {
    "duration": 1011,
    "start_time": "2024-06-12T15:18:13.712Z"
   },
   {
    "duration": 1709,
    "start_time": "2024-06-12T15:19:09.235Z"
   },
   {
    "duration": 378,
    "start_time": "2024-06-12T15:19:26.811Z"
   },
   {
    "duration": 771,
    "start_time": "2024-06-12T15:19:40.140Z"
   },
   {
    "duration": 8,
    "start_time": "2024-06-12T15:22:25.229Z"
   },
   {
    "duration": 69,
    "start_time": "2024-06-12T15:22:43.740Z"
   },
   {
    "duration": 103,
    "start_time": "2024-06-12T15:23:22.443Z"
   },
   {
    "duration": 82,
    "start_time": "2024-06-12T15:23:32.331Z"
   },
   {
    "duration": 85,
    "start_time": "2024-06-12T15:24:12.313Z"
   },
   {
    "duration": 1049,
    "start_time": "2024-06-12T15:24:23.409Z"
   },
   {
    "duration": 1999,
    "start_time": "2024-06-12T15:25:07.757Z"
   },
   {
    "duration": 1081,
    "start_time": "2024-06-12T15:25:29.356Z"
   },
   {
    "duration": 1024,
    "start_time": "2024-06-12T15:26:14.843Z"
   },
   {
    "duration": 60,
    "start_time": "2024-06-12T15:28:41.456Z"
   },
   {
    "duration": 68,
    "start_time": "2024-06-12T15:28:46.319Z"
   },
   {
    "duration": 681,
    "start_time": "2024-06-12T15:29:21.305Z"
   },
   {
    "duration": 85,
    "start_time": "2024-06-12T15:29:27.368Z"
   },
   {
    "duration": 563,
    "start_time": "2024-06-12T15:30:15.012Z"
   },
   {
    "duration": 832,
    "start_time": "2024-06-12T15:30:59.115Z"
   },
   {
    "duration": 4,
    "start_time": "2024-06-12T15:30:59.951Z"
   },
   {
    "duration": 284,
    "start_time": "2024-06-12T15:30:59.958Z"
   },
   {
    "duration": 62,
    "start_time": "2024-06-12T15:31:00.247Z"
   },
   {
    "duration": 13,
    "start_time": "2024-06-12T15:31:00.325Z"
   },
   {
    "duration": 9,
    "start_time": "2024-06-12T15:31:00.341Z"
   },
   {
    "duration": 1372,
    "start_time": "2024-06-12T15:31:00.353Z"
   },
   {
    "duration": 284,
    "start_time": "2024-06-12T15:31:01.730Z"
   },
   {
    "duration": 13,
    "start_time": "2024-06-12T15:31:02.024Z"
   },
   {
    "duration": 304,
    "start_time": "2024-06-12T15:31:02.044Z"
   },
   {
    "duration": 227,
    "start_time": "2024-06-12T15:31:02.351Z"
   },
   {
    "duration": 75,
    "start_time": "2024-06-12T15:31:02.581Z"
   },
   {
    "duration": 29,
    "start_time": "2024-06-12T15:31:02.660Z"
   },
   {
    "duration": 43,
    "start_time": "2024-06-12T15:31:02.693Z"
   },
   {
    "duration": 41,
    "start_time": "2024-06-12T15:31:02.739Z"
   },
   {
    "duration": 82,
    "start_time": "2024-06-12T15:31:02.783Z"
   },
   {
    "duration": 9,
    "start_time": "2024-06-12T15:31:02.869Z"
   },
   {
    "duration": 42,
    "start_time": "2024-06-12T15:31:02.882Z"
   },
   {
    "duration": 20,
    "start_time": "2024-06-12T15:31:02.928Z"
   },
   {
    "duration": 8,
    "start_time": "2024-06-12T15:31:02.952Z"
   },
   {
    "duration": 1811,
    "start_time": "2024-06-12T15:31:02.964Z"
   },
   {
    "duration": 1359,
    "start_time": "2024-06-12T15:31:04.779Z"
   },
   {
    "duration": 17,
    "start_time": "2024-06-12T15:31:06.141Z"
   },
   {
    "duration": 17,
    "start_time": "2024-06-12T15:31:06.162Z"
   },
   {
    "duration": 49,
    "start_time": "2024-06-12T15:31:06.182Z"
   },
   {
    "duration": 26,
    "start_time": "2024-06-12T15:31:06.234Z"
   },
   {
    "duration": 12,
    "start_time": "2024-06-12T15:31:06.266Z"
   },
   {
    "duration": 19,
    "start_time": "2024-06-12T15:31:06.325Z"
   },
   {
    "duration": 10,
    "start_time": "2024-06-12T15:31:06.348Z"
   },
   {
    "duration": 16,
    "start_time": "2024-06-12T15:31:06.362Z"
   },
   {
    "duration": 157,
    "start_time": "2024-06-12T15:31:06.381Z"
   },
   {
    "duration": 40,
    "start_time": "2024-06-12T15:31:06.541Z"
   },
   {
    "duration": 685,
    "start_time": "2024-06-12T15:31:06.585Z"
   },
   {
    "duration": 942,
    "start_time": "2024-06-12T15:31:07.273Z"
   },
   {
    "duration": 9,
    "start_time": "2024-06-12T15:31:08.219Z"
   },
   {
    "duration": 8,
    "start_time": "2024-06-12T15:31:08.232Z"
   },
   {
    "duration": 479,
    "start_time": "2024-06-12T15:31:08.244Z"
   },
   {
    "duration": 270,
    "start_time": "2024-06-12T15:31:08.727Z"
   },
   {
    "duration": 37,
    "start_time": "2024-06-12T15:31:09.000Z"
   },
   {
    "duration": 485,
    "start_time": "2024-06-12T15:31:09.041Z"
   },
   {
    "duration": 10,
    "start_time": "2024-06-12T15:31:09.530Z"
   },
   {
    "duration": 11,
    "start_time": "2024-06-12T15:31:09.543Z"
   },
   {
    "duration": 467,
    "start_time": "2024-06-12T15:31:09.556Z"
   },
   {
    "duration": 409,
    "start_time": "2024-06-12T15:31:10.027Z"
   },
   {
    "duration": 2303,
    "start_time": "2024-06-12T15:31:10.440Z"
   },
   {
    "duration": 7,
    "start_time": "2024-06-12T15:31:12.747Z"
   },
   {
    "duration": 10,
    "start_time": "2024-06-12T15:31:12.758Z"
   },
   {
    "duration": 679,
    "start_time": "2024-06-12T15:31:12.772Z"
   },
   {
    "duration": 365,
    "start_time": "2024-06-12T15:31:13.455Z"
   },
   {
    "duration": 2354,
    "start_time": "2024-06-12T15:31:13.824Z"
   },
   {
    "duration": 11,
    "start_time": "2024-06-12T15:31:16.182Z"
   },
   {
    "duration": 28,
    "start_time": "2024-06-12T15:31:16.197Z"
   },
   {
    "duration": 11,
    "start_time": "2024-06-12T15:31:16.229Z"
   },
   {
    "duration": 259,
    "start_time": "2024-06-12T15:31:16.244Z"
   },
   {
    "duration": 33,
    "start_time": "2024-06-12T15:31:16.505Z"
   },
   {
    "duration": 13,
    "start_time": "2024-06-12T15:31:16.541Z"
   },
   {
    "duration": 4756,
    "start_time": "2024-06-12T15:31:16.559Z"
   },
   {
    "duration": 207,
    "start_time": "2024-06-12T15:31:21.324Z"
   },
   {
    "duration": 7,
    "start_time": "2024-06-12T15:31:21.535Z"
   },
   {
    "duration": 74,
    "start_time": "2024-06-12T15:31:45.318Z"
   },
   {
    "duration": 116,
    "start_time": "2024-06-12T15:32:58.313Z"
   },
   {
    "duration": 108,
    "start_time": "2024-06-12T15:33:23.028Z"
   },
   {
    "duration": 9,
    "start_time": "2024-06-12T15:33:28.983Z"
   },
   {
    "duration": 4309,
    "start_time": "2024-06-12T16:05:59.135Z"
   },
   {
    "duration": 3,
    "start_time": "2024-06-12T16:06:03.448Z"
   },
   {
    "duration": 239,
    "start_time": "2024-06-12T16:06:03.455Z"
   },
   {
    "duration": 86,
    "start_time": "2024-06-12T16:06:03.702Z"
   },
   {
    "duration": 9,
    "start_time": "2024-06-12T16:06:03.791Z"
   },
   {
    "duration": 10,
    "start_time": "2024-06-12T16:06:03.803Z"
   },
   {
    "duration": 1377,
    "start_time": "2024-06-12T16:06:03.816Z"
   },
   {
    "duration": 205,
    "start_time": "2024-06-12T16:06:05.196Z"
   },
   {
    "duration": 11,
    "start_time": "2024-06-12T16:06:05.404Z"
   },
   {
    "duration": 259,
    "start_time": "2024-06-12T16:06:05.422Z"
   },
   {
    "duration": 189,
    "start_time": "2024-06-12T16:06:05.684Z"
   },
   {
    "duration": 64,
    "start_time": "2024-06-12T16:06:05.876Z"
   },
   {
    "duration": 32,
    "start_time": "2024-06-12T16:06:05.943Z"
   },
   {
    "duration": 43,
    "start_time": "2024-06-12T16:06:05.978Z"
   },
   {
    "duration": 35,
    "start_time": "2024-06-12T16:06:06.024Z"
   },
   {
    "duration": 70,
    "start_time": "2024-06-12T16:06:06.063Z"
   },
   {
    "duration": 7,
    "start_time": "2024-06-12T16:06:06.136Z"
   },
   {
    "duration": 7,
    "start_time": "2024-06-12T16:06:06.147Z"
   },
   {
    "duration": 55,
    "start_time": "2024-06-12T16:06:06.158Z"
   },
   {
    "duration": 6,
    "start_time": "2024-06-12T16:06:06.217Z"
   },
   {
    "duration": 1432,
    "start_time": "2024-06-12T16:06:06.227Z"
   },
   {
    "duration": 1243,
    "start_time": "2024-06-12T16:06:07.661Z"
   },
   {
    "duration": 19,
    "start_time": "2024-06-12T16:06:08.908Z"
   },
   {
    "duration": 17,
    "start_time": "2024-06-12T16:06:08.930Z"
   },
   {
    "duration": 54,
    "start_time": "2024-06-12T16:06:08.951Z"
   },
   {
    "duration": 21,
    "start_time": "2024-06-12T16:06:09.008Z"
   },
   {
    "duration": 11,
    "start_time": "2024-06-12T16:06:09.032Z"
   },
   {
    "duration": 52,
    "start_time": "2024-06-12T16:06:09.051Z"
   },
   {
    "duration": 8,
    "start_time": "2024-06-12T16:06:09.106Z"
   },
   {
    "duration": 13,
    "start_time": "2024-06-12T16:06:09.117Z"
   },
   {
    "duration": 128,
    "start_time": "2024-06-12T16:06:09.132Z"
   },
   {
    "duration": 54,
    "start_time": "2024-06-12T16:06:09.263Z"
   },
   {
    "duration": 596,
    "start_time": "2024-06-12T16:06:09.320Z"
   },
   {
    "duration": 872,
    "start_time": "2024-06-12T16:06:09.920Z"
   },
   {
    "duration": 9,
    "start_time": "2024-06-12T16:06:10.795Z"
   },
   {
    "duration": 6,
    "start_time": "2024-06-12T16:06:10.807Z"
   },
   {
    "duration": 502,
    "start_time": "2024-06-12T16:06:10.816Z"
   },
   {
    "duration": 252,
    "start_time": "2024-06-12T16:06:11.321Z"
   },
   {
    "duration": 35,
    "start_time": "2024-06-12T16:06:11.577Z"
   },
   {
    "duration": 438,
    "start_time": "2024-06-12T16:06:11.614Z"
   },
   {
    "duration": 10,
    "start_time": "2024-06-12T16:06:12.054Z"
   },
   {
    "duration": 9,
    "start_time": "2024-06-12T16:06:12.067Z"
   },
   {
    "duration": 368,
    "start_time": "2024-06-12T16:06:12.101Z"
   },
   {
    "duration": 400,
    "start_time": "2024-06-12T16:06:12.472Z"
   },
   {
    "duration": 1909,
    "start_time": "2024-06-12T16:06:12.875Z"
   },
   {
    "duration": 18,
    "start_time": "2024-06-12T16:06:14.787Z"
   },
   {
    "duration": 8,
    "start_time": "2024-06-12T16:06:14.808Z"
   },
   {
    "duration": 545,
    "start_time": "2024-06-12T16:06:14.822Z"
   },
   {
    "duration": 350,
    "start_time": "2024-06-12T16:06:15.370Z"
   },
   {
    "duration": 2000,
    "start_time": "2024-06-12T16:06:15.723Z"
   },
   {
    "duration": 11,
    "start_time": "2024-06-12T16:06:17.726Z"
   },
   {
    "duration": 7,
    "start_time": "2024-06-12T16:06:17.742Z"
   },
   {
    "duration": 9,
    "start_time": "2024-06-12T16:06:17.752Z"
   },
   {
    "duration": 247,
    "start_time": "2024-06-12T16:06:17.764Z"
   },
   {
    "duration": 20,
    "start_time": "2024-06-12T16:06:18.014Z"
   },
   {
    "duration": 13,
    "start_time": "2024-06-12T16:06:18.037Z"
   },
   {
    "duration": 4082,
    "start_time": "2024-06-12T16:06:18.054Z"
   },
   {
    "duration": 158,
    "start_time": "2024-06-12T16:06:22.139Z"
   },
   {
    "duration": 8,
    "start_time": "2024-06-12T16:06:22.302Z"
   },
   {
    "duration": 10,
    "start_time": "2024-06-12T16:14:34.373Z"
   },
   {
    "duration": 418,
    "start_time": "2024-06-12T16:22:09.197Z"
   },
   {
    "duration": 730,
    "start_time": "2024-06-12T16:22:16.583Z"
   },
   {
    "duration": 4,
    "start_time": "2024-06-12T16:22:17.316Z"
   },
   {
    "duration": 267,
    "start_time": "2024-06-12T16:22:17.322Z"
   },
   {
    "duration": 57,
    "start_time": "2024-06-12T16:22:17.601Z"
   },
   {
    "duration": 9,
    "start_time": "2024-06-12T16:22:17.661Z"
   },
   {
    "duration": 8,
    "start_time": "2024-06-12T16:22:17.673Z"
   },
   {
    "duration": 1313,
    "start_time": "2024-06-12T16:22:17.683Z"
   },
   {
    "duration": 191,
    "start_time": "2024-06-12T16:22:18.999Z"
   },
   {
    "duration": 10,
    "start_time": "2024-06-12T16:22:19.201Z"
   },
   {
    "duration": 241,
    "start_time": "2024-06-12T16:22:19.217Z"
   },
   {
    "duration": 188,
    "start_time": "2024-06-12T16:22:19.461Z"
   },
   {
    "duration": 61,
    "start_time": "2024-06-12T16:22:19.652Z"
   },
   {
    "duration": 23,
    "start_time": "2024-06-12T16:22:19.716Z"
   },
   {
    "duration": 17,
    "start_time": "2024-06-12T16:22:19.742Z"
   },
   {
    "duration": 62,
    "start_time": "2024-06-12T16:22:19.762Z"
   },
   {
    "duration": 41,
    "start_time": "2024-06-12T16:22:19.827Z"
   },
   {
    "duration": 32,
    "start_time": "2024-06-12T16:22:19.870Z"
   },
   {
    "duration": 7,
    "start_time": "2024-06-12T16:22:19.905Z"
   },
   {
    "duration": 17,
    "start_time": "2024-06-12T16:22:19.914Z"
   },
   {
    "duration": 6,
    "start_time": "2024-06-12T16:22:19.934Z"
   },
   {
    "duration": 1436,
    "start_time": "2024-06-12T16:22:19.943Z"
   },
   {
    "duration": 1221,
    "start_time": "2024-06-12T16:22:21.382Z"
   },
   {
    "duration": 16,
    "start_time": "2024-06-12T16:22:22.606Z"
   },
   {
    "duration": 16,
    "start_time": "2024-06-12T16:22:22.624Z"
   },
   {
    "duration": 13,
    "start_time": "2024-06-12T16:22:22.644Z"
   },
   {
    "duration": 58,
    "start_time": "2024-06-12T16:22:22.660Z"
   },
   {
    "duration": 9,
    "start_time": "2024-06-12T16:22:22.721Z"
   },
   {
    "duration": 15,
    "start_time": "2024-06-12T16:22:22.739Z"
   },
   {
    "duration": 46,
    "start_time": "2024-06-12T16:22:22.757Z"
   },
   {
    "duration": 14,
    "start_time": "2024-06-12T16:22:22.805Z"
   },
   {
    "duration": 122,
    "start_time": "2024-06-12T16:22:22.822Z"
   },
   {
    "duration": 54,
    "start_time": "2024-06-12T16:22:22.947Z"
   },
   {
    "duration": 625,
    "start_time": "2024-06-12T16:22:23.004Z"
   },
   {
    "duration": 884,
    "start_time": "2024-06-12T16:22:23.633Z"
   },
   {
    "duration": 8,
    "start_time": "2024-06-12T16:22:24.520Z"
   },
   {
    "duration": 8,
    "start_time": "2024-06-12T16:22:24.532Z"
   },
   {
    "duration": 493,
    "start_time": "2024-06-12T16:22:24.544Z"
   },
   {
    "duration": 267,
    "start_time": "2024-06-12T16:22:25.040Z"
   },
   {
    "duration": 26,
    "start_time": "2024-06-12T16:22:25.310Z"
   },
   {
    "duration": 569,
    "start_time": "2024-06-12T16:22:25.339Z"
   },
   {
    "duration": 12,
    "start_time": "2024-06-12T16:22:25.911Z"
   },
   {
    "duration": 11,
    "start_time": "2024-06-12T16:22:25.926Z"
   },
   {
    "duration": 416,
    "start_time": "2024-06-12T16:22:25.941Z"
   },
   {
    "duration": 432,
    "start_time": "2024-06-12T16:22:26.361Z"
   },
   {
    "duration": 2046,
    "start_time": "2024-06-12T16:22:26.798Z"
   },
   {
    "duration": 8,
    "start_time": "2024-06-12T16:22:28.848Z"
   },
   {
    "duration": 9,
    "start_time": "2024-06-12T16:22:28.861Z"
   },
   {
    "duration": 598,
    "start_time": "2024-06-12T16:22:28.873Z"
   },
   {
    "duration": 343,
    "start_time": "2024-06-12T16:22:29.475Z"
   },
   {
    "duration": 2067,
    "start_time": "2024-06-12T16:22:29.821Z"
   },
   {
    "duration": 20,
    "start_time": "2024-06-12T16:22:31.892Z"
   },
   {
    "duration": 11,
    "start_time": "2024-06-12T16:22:31.916Z"
   },
   {
    "duration": 19,
    "start_time": "2024-06-12T16:22:31.932Z"
   },
   {
    "duration": 586,
    "start_time": "2024-06-12T16:22:31.960Z"
   },
   {
    "duration": 0,
    "start_time": "2024-06-12T16:22:32.549Z"
   },
   {
    "duration": 0,
    "start_time": "2024-06-12T16:22:32.552Z"
   },
   {
    "duration": 0,
    "start_time": "2024-06-12T16:22:32.555Z"
   },
   {
    "duration": 0,
    "start_time": "2024-06-12T16:22:32.557Z"
   },
   {
    "duration": 0,
    "start_time": "2024-06-12T16:22:32.560Z"
   },
   {
    "duration": 0,
    "start_time": "2024-06-12T16:22:32.563Z"
   },
   {
    "duration": 16,
    "start_time": "2024-06-12T16:22:38.104Z"
   },
   {
    "duration": 191,
    "start_time": "2024-06-12T16:23:45.248Z"
   },
   {
    "duration": 19,
    "start_time": "2024-06-12T16:23:45.761Z"
   },
   {
    "duration": 12,
    "start_time": "2024-06-12T16:23:46.246Z"
   },
   {
    "duration": 4234,
    "start_time": "2024-06-12T16:24:10.941Z"
   },
   {
    "duration": 145,
    "start_time": "2024-06-12T16:24:51.383Z"
   },
   {
    "duration": 7,
    "start_time": "2024-06-12T16:24:52.455Z"
   },
   {
    "duration": 455,
    "start_time": "2024-06-12T16:58:31.626Z"
   },
   {
    "duration": 4490,
    "start_time": "2024-06-12T16:59:20.971Z"
   },
   {
    "duration": 4,
    "start_time": "2024-06-12T16:59:25.464Z"
   },
   {
    "duration": 274,
    "start_time": "2024-06-12T16:59:25.472Z"
   },
   {
    "duration": 95,
    "start_time": "2024-06-12T16:59:25.753Z"
   },
   {
    "duration": 11,
    "start_time": "2024-06-12T16:59:25.851Z"
   },
   {
    "duration": 10,
    "start_time": "2024-06-12T16:59:25.865Z"
   },
   {
    "duration": 1475,
    "start_time": "2024-06-12T16:59:25.879Z"
   },
   {
    "duration": 225,
    "start_time": "2024-06-12T16:59:27.357Z"
   },
   {
    "duration": 13,
    "start_time": "2024-06-12T16:59:27.585Z"
   },
   {
    "duration": 275,
    "start_time": "2024-06-12T16:59:27.605Z"
   },
   {
    "duration": 473,
    "start_time": "2024-06-12T16:59:27.884Z"
   },
   {
    "duration": 0,
    "start_time": "2024-06-12T16:59:28.364Z"
   },
   {
    "duration": 0,
    "start_time": "2024-06-12T16:59:28.366Z"
   },
   {
    "duration": 0,
    "start_time": "2024-06-12T16:59:28.369Z"
   },
   {
    "duration": 0,
    "start_time": "2024-06-12T16:59:28.371Z"
   },
   {
    "duration": 0,
    "start_time": "2024-06-12T16:59:28.373Z"
   },
   {
    "duration": 0,
    "start_time": "2024-06-12T16:59:28.376Z"
   },
   {
    "duration": 0,
    "start_time": "2024-06-12T16:59:28.378Z"
   },
   {
    "duration": 0,
    "start_time": "2024-06-12T16:59:28.381Z"
   },
   {
    "duration": 0,
    "start_time": "2024-06-12T16:59:28.384Z"
   },
   {
    "duration": 0,
    "start_time": "2024-06-12T16:59:28.388Z"
   },
   {
    "duration": 0,
    "start_time": "2024-06-12T16:59:28.390Z"
   },
   {
    "duration": 0,
    "start_time": "2024-06-12T16:59:28.433Z"
   },
   {
    "duration": 0,
    "start_time": "2024-06-12T16:59:28.436Z"
   },
   {
    "duration": 0,
    "start_time": "2024-06-12T16:59:28.439Z"
   },
   {
    "duration": 1,
    "start_time": "2024-06-12T16:59:28.441Z"
   },
   {
    "duration": 0,
    "start_time": "2024-06-12T16:59:28.445Z"
   },
   {
    "duration": 0,
    "start_time": "2024-06-12T16:59:28.447Z"
   },
   {
    "duration": 0,
    "start_time": "2024-06-12T16:59:28.451Z"
   },
   {
    "duration": 0,
    "start_time": "2024-06-12T16:59:28.453Z"
   },
   {
    "duration": 0,
    "start_time": "2024-06-12T16:59:28.455Z"
   },
   {
    "duration": 0,
    "start_time": "2024-06-12T16:59:28.457Z"
   },
   {
    "duration": 0,
    "start_time": "2024-06-12T16:59:28.459Z"
   },
   {
    "duration": 0,
    "start_time": "2024-06-12T16:59:28.462Z"
   },
   {
    "duration": 1,
    "start_time": "2024-06-12T16:59:28.463Z"
   },
   {
    "duration": 0,
    "start_time": "2024-06-12T16:59:28.466Z"
   },
   {
    "duration": 0,
    "start_time": "2024-06-12T16:59:28.470Z"
   },
   {
    "duration": 0,
    "start_time": "2024-06-12T16:59:28.472Z"
   },
   {
    "duration": 0,
    "start_time": "2024-06-12T16:59:28.474Z"
   },
   {
    "duration": 0,
    "start_time": "2024-06-12T16:59:28.476Z"
   },
   {
    "duration": 0,
    "start_time": "2024-06-12T16:59:28.534Z"
   },
   {
    "duration": 0,
    "start_time": "2024-06-12T16:59:28.537Z"
   },
   {
    "duration": 0,
    "start_time": "2024-06-12T16:59:28.540Z"
   },
   {
    "duration": 0,
    "start_time": "2024-06-12T16:59:28.542Z"
   },
   {
    "duration": 0,
    "start_time": "2024-06-12T16:59:28.544Z"
   },
   {
    "duration": 0,
    "start_time": "2024-06-12T16:59:28.547Z"
   },
   {
    "duration": 0,
    "start_time": "2024-06-12T16:59:28.550Z"
   },
   {
    "duration": 0,
    "start_time": "2024-06-12T16:59:28.552Z"
   },
   {
    "duration": 0,
    "start_time": "2024-06-12T16:59:28.553Z"
   },
   {
    "duration": 0,
    "start_time": "2024-06-12T16:59:28.556Z"
   },
   {
    "duration": 0,
    "start_time": "2024-06-12T16:59:28.558Z"
   },
   {
    "duration": 0,
    "start_time": "2024-06-12T16:59:28.560Z"
   },
   {
    "duration": 0,
    "start_time": "2024-06-12T16:59:28.563Z"
   },
   {
    "duration": 0,
    "start_time": "2024-06-12T16:59:28.565Z"
   },
   {
    "duration": 0,
    "start_time": "2024-06-12T16:59:28.567Z"
   },
   {
    "duration": 0,
    "start_time": "2024-06-12T16:59:28.569Z"
   },
   {
    "duration": 0,
    "start_time": "2024-06-12T16:59:28.572Z"
   },
   {
    "duration": 0,
    "start_time": "2024-06-12T16:59:28.575Z"
   },
   {
    "duration": 0,
    "start_time": "2024-06-12T16:59:28.641Z"
   },
   {
    "duration": 161,
    "start_time": "2024-06-12T17:01:25.159Z"
   },
   {
    "duration": 54,
    "start_time": "2024-06-12T17:01:36.491Z"
   },
   {
    "duration": 9,
    "start_time": "2024-06-12T17:11:07.152Z"
   },
   {
    "duration": 17,
    "start_time": "2024-06-12T17:29:49.889Z"
   },
   {
    "duration": 8,
    "start_time": "2024-06-12T17:29:51.550Z"
   },
   {
    "duration": 384,
    "start_time": "2024-06-12T17:29:56.417Z"
   },
   {
    "duration": 22,
    "start_time": "2024-06-12T17:30:24.626Z"
   },
   {
    "duration": 440,
    "start_time": "2024-06-12T17:30:27.777Z"
   },
   {
    "duration": 486,
    "start_time": "2024-06-12T17:30:51.504Z"
   },
   {
    "duration": 1659,
    "start_time": "2024-06-12T17:34:46.666Z"
   },
   {
    "duration": 1635,
    "start_time": "2024-06-12T17:34:53.902Z"
   },
   {
    "duration": 1658,
    "start_time": "2024-06-12T17:35:15.253Z"
   },
   {
    "duration": 8,
    "start_time": "2024-06-12T17:35:26.418Z"
   },
   {
    "duration": 1672,
    "start_time": "2024-06-12T17:35:36.574Z"
   },
   {
    "duration": 1668,
    "start_time": "2024-06-12T17:36:42.474Z"
   },
   {
    "duration": 1745,
    "start_time": "2024-06-12T17:46:45.043Z"
   },
   {
    "duration": 10,
    "start_time": "2024-06-12T17:46:46.791Z"
   },
   {
    "duration": 6,
    "start_time": "2024-06-12T17:46:46.971Z"
   },
   {
    "duration": 8,
    "start_time": "2024-06-12T17:46:52.124Z"
   },
   {
    "duration": 257,
    "start_time": "2024-06-12T18:18:20.043Z"
   },
   {
    "duration": 229,
    "start_time": "2024-06-12T18:20:17.448Z"
   },
   {
    "duration": 218,
    "start_time": "2024-06-12T18:21:22.637Z"
   },
   {
    "duration": 227,
    "start_time": "2024-06-12T18:21:44.364Z"
   },
   {
    "duration": 1738,
    "start_time": "2024-06-12T18:22:15.653Z"
   },
   {
    "duration": 12,
    "start_time": "2024-06-12T18:26:43.844Z"
   },
   {
    "duration": 5230,
    "start_time": "2024-06-12T20:07:03.011Z"
   },
   {
    "duration": 303,
    "start_time": "2024-06-12T20:07:08.245Z"
   },
   {
    "duration": 102,
    "start_time": "2024-06-12T20:07:08.551Z"
   },
   {
    "duration": 11,
    "start_time": "2024-06-12T20:07:08.656Z"
   },
   {
    "duration": 11,
    "start_time": "2024-06-12T20:07:08.672Z"
   },
   {
    "duration": 1613,
    "start_time": "2024-06-12T20:07:08.685Z"
   },
   {
    "duration": 301,
    "start_time": "2024-06-12T20:07:10.301Z"
   },
   {
    "duration": 37,
    "start_time": "2024-06-12T20:07:10.605Z"
   },
   {
    "duration": 316,
    "start_time": "2024-06-12T20:07:10.654Z"
   },
   {
    "duration": 237,
    "start_time": "2024-06-12T20:07:10.974Z"
   },
   {
    "duration": 66,
    "start_time": "2024-06-12T20:07:11.214Z"
   },
   {
    "duration": 25,
    "start_time": "2024-06-12T20:07:11.283Z"
   },
   {
    "duration": 38,
    "start_time": "2024-06-12T20:07:11.311Z"
   },
   {
    "duration": 38,
    "start_time": "2024-06-12T20:07:11.358Z"
   },
   {
    "duration": 76,
    "start_time": "2024-06-12T20:07:11.399Z"
   },
   {
    "duration": 7,
    "start_time": "2024-06-12T20:07:11.479Z"
   },
   {
    "duration": 8,
    "start_time": "2024-06-12T20:07:11.490Z"
   },
   {
    "duration": 30,
    "start_time": "2024-06-12T20:07:11.525Z"
   },
   {
    "duration": 8,
    "start_time": "2024-06-12T20:07:11.559Z"
   },
   {
    "duration": 1711,
    "start_time": "2024-06-12T20:07:11.571Z"
   },
   {
    "duration": 1672,
    "start_time": "2024-06-12T20:07:13.287Z"
   },
   {
    "duration": 19,
    "start_time": "2024-06-12T20:07:14.962Z"
   },
   {
    "duration": 57,
    "start_time": "2024-06-12T20:07:14.985Z"
   },
   {
    "duration": 17,
    "start_time": "2024-06-12T20:07:15.052Z"
   },
   {
    "duration": 70,
    "start_time": "2024-06-12T20:07:15.073Z"
   },
   {
    "duration": 13,
    "start_time": "2024-06-12T20:07:15.153Z"
   },
   {
    "duration": 21,
    "start_time": "2024-06-12T20:07:15.169Z"
   },
   {
    "duration": 51,
    "start_time": "2024-06-12T20:07:15.195Z"
   },
   {
    "duration": 16,
    "start_time": "2024-06-12T20:07:15.259Z"
   },
   {
    "duration": 162,
    "start_time": "2024-06-12T20:07:15.280Z"
   },
   {
    "duration": 42,
    "start_time": "2024-06-12T20:07:15.454Z"
   },
   {
    "duration": 802,
    "start_time": "2024-06-12T20:07:15.499Z"
   },
   {
    "duration": 1141,
    "start_time": "2024-06-12T20:07:16.305Z"
   },
   {
    "duration": 7,
    "start_time": "2024-06-12T20:07:17.458Z"
   },
   {
    "duration": 8,
    "start_time": "2024-06-12T20:07:17.469Z"
   },
   {
    "duration": 71,
    "start_time": "2024-06-12T20:07:17.483Z"
   },
   {
    "duration": 595,
    "start_time": "2024-06-12T20:07:17.558Z"
   },
   {
    "duration": 312,
    "start_time": "2024-06-12T20:07:18.156Z"
   },
   {
    "duration": 24,
    "start_time": "2024-06-12T20:07:18.472Z"
   },
   {
    "duration": 653,
    "start_time": "2024-06-12T20:07:18.499Z"
   },
   {
    "duration": 11,
    "start_time": "2024-06-12T20:07:19.163Z"
   },
   {
    "duration": 12,
    "start_time": "2024-06-12T20:07:19.177Z"
   },
   {
    "duration": 495,
    "start_time": "2024-06-12T20:07:19.193Z"
   },
   {
    "duration": 565,
    "start_time": "2024-06-12T20:07:19.697Z"
   },
   {
    "duration": 2475,
    "start_time": "2024-06-12T20:07:20.267Z"
   },
   {
    "duration": 9,
    "start_time": "2024-06-12T20:07:22.747Z"
   },
   {
    "duration": 14,
    "start_time": "2024-06-12T20:07:22.761Z"
   },
   {
    "duration": 687,
    "start_time": "2024-06-12T20:07:22.778Z"
   },
   {
    "duration": 482,
    "start_time": "2024-06-12T20:07:23.468Z"
   },
   {
    "duration": 2534,
    "start_time": "2024-06-12T20:07:23.954Z"
   },
   {
    "duration": 8,
    "start_time": "2024-06-12T20:07:26.492Z"
   },
   {
    "duration": 25,
    "start_time": "2024-06-12T20:07:26.503Z"
   },
   {
    "duration": 309,
    "start_time": "2024-06-12T20:07:26.531Z"
   },
   {
    "duration": 294,
    "start_time": "2024-06-12T20:07:26.843Z"
   },
   {
    "duration": 28,
    "start_time": "2024-06-12T20:07:27.144Z"
   },
   {
    "duration": 19,
    "start_time": "2024-06-12T20:07:27.181Z"
   },
   {
    "duration": 4664,
    "start_time": "2024-06-12T20:07:27.210Z"
   },
   {
    "duration": 112,
    "start_time": "2024-06-12T20:07:31.877Z"
   },
   {
    "duration": 9,
    "start_time": "2024-06-12T20:07:31.991Z"
   },
   {
    "duration": 21,
    "start_time": "2024-06-12T20:10:50.232Z"
   },
   {
    "duration": 27,
    "start_time": "2024-06-12T20:11:22.260Z"
   },
   {
    "duration": 10,
    "start_time": "2024-06-12T20:11:26.953Z"
   },
   {
    "duration": 7,
    "start_time": "2024-06-12T20:11:34.959Z"
   },
   {
    "duration": 37,
    "start_time": "2024-06-12T20:11:39.681Z"
   },
   {
    "duration": 468,
    "start_time": "2024-06-12T20:11:46.805Z"
   },
   {
    "duration": 6,
    "start_time": "2024-06-12T20:11:57.634Z"
   },
   {
    "duration": 23,
    "start_time": "2024-06-12T20:12:40.252Z"
   },
   {
    "duration": 2222,
    "start_time": "2024-12-08T20:11:36.447Z"
   },
   {
    "duration": 151,
    "start_time": "2024-12-08T20:11:38.671Z"
   },
   {
    "duration": 57,
    "start_time": "2024-12-08T20:11:38.824Z"
   },
   {
    "duration": 6,
    "start_time": "2024-12-08T20:11:38.882Z"
   },
   {
    "duration": 6,
    "start_time": "2024-12-08T20:11:38.891Z"
   },
   {
    "duration": 805,
    "start_time": "2024-12-08T20:11:38.898Z"
   },
   {
    "duration": 109,
    "start_time": "2024-12-08T20:11:39.705Z"
   },
   {
    "duration": 12,
    "start_time": "2024-12-08T20:11:39.816Z"
   },
   {
    "duration": 128,
    "start_time": "2024-12-08T20:11:39.829Z"
   },
   {
    "duration": 95,
    "start_time": "2024-12-08T20:11:39.959Z"
   },
   {
    "duration": 27,
    "start_time": "2024-12-08T20:11:40.056Z"
   },
   {
    "duration": 12,
    "start_time": "2024-12-08T20:11:40.084Z"
   },
   {
    "duration": 30,
    "start_time": "2024-12-08T20:11:40.098Z"
   },
   {
    "duration": 19,
    "start_time": "2024-12-08T20:11:40.133Z"
   },
   {
    "duration": 23,
    "start_time": "2024-12-08T20:11:40.154Z"
   },
   {
    "duration": 4,
    "start_time": "2024-12-08T20:11:40.178Z"
   },
   {
    "duration": 4,
    "start_time": "2024-12-08T20:11:40.184Z"
   },
   {
    "duration": 40,
    "start_time": "2024-12-08T20:11:40.189Z"
   },
   {
    "duration": 4,
    "start_time": "2024-12-08T20:11:40.231Z"
   },
   {
    "duration": 788,
    "start_time": "2024-12-08T20:11:40.236Z"
   },
   {
    "duration": 715,
    "start_time": "2024-12-08T20:11:41.026Z"
   },
   {
    "duration": 11,
    "start_time": "2024-12-08T20:11:41.743Z"
   },
   {
    "duration": 10,
    "start_time": "2024-12-08T20:11:41.755Z"
   },
   {
    "duration": 8,
    "start_time": "2024-12-08T20:11:41.766Z"
   },
   {
    "duration": 12,
    "start_time": "2024-12-08T20:11:41.776Z"
   },
   {
    "duration": 38,
    "start_time": "2024-12-08T20:11:41.790Z"
   },
   {
    "duration": 10,
    "start_time": "2024-12-08T20:11:41.830Z"
   },
   {
    "duration": 6,
    "start_time": "2024-12-08T20:11:41.842Z"
   },
   {
    "duration": 7,
    "start_time": "2024-12-08T20:11:41.849Z"
   },
   {
    "duration": 78,
    "start_time": "2024-12-08T20:11:41.858Z"
   },
   {
    "duration": 21,
    "start_time": "2024-12-08T20:11:41.938Z"
   },
   {
    "duration": 353,
    "start_time": "2024-12-08T20:11:41.961Z"
   },
   {
    "duration": 505,
    "start_time": "2024-12-08T20:11:42.316Z"
   },
   {
    "duration": 3,
    "start_time": "2024-12-08T20:11:42.824Z"
   },
   {
    "duration": 4,
    "start_time": "2024-12-08T20:11:42.830Z"
   },
   {
    "duration": 10,
    "start_time": "2024-12-08T20:11:42.835Z"
   },
   {
    "duration": 259,
    "start_time": "2024-12-08T20:11:42.847Z"
   },
   {
    "duration": 135,
    "start_time": "2024-12-08T20:11:43.108Z"
   },
   {
    "duration": 12,
    "start_time": "2024-12-08T20:11:43.245Z"
   },
   {
    "duration": 252,
    "start_time": "2024-12-08T20:11:43.258Z"
   },
   {
    "duration": 10,
    "start_time": "2024-12-08T20:11:43.514Z"
   },
   {
    "duration": 6,
    "start_time": "2024-12-08T20:11:43.526Z"
   },
   {
    "duration": 199,
    "start_time": "2024-12-08T20:11:43.533Z"
   },
   {
    "duration": 198,
    "start_time": "2024-12-08T20:11:43.734Z"
   },
   {
    "duration": 1134,
    "start_time": "2024-12-08T20:11:43.934Z"
   },
   {
    "duration": 5,
    "start_time": "2024-12-08T20:11:45.070Z"
   },
   {
    "duration": 5,
    "start_time": "2024-12-08T20:11:45.077Z"
   },
   {
    "duration": 297,
    "start_time": "2024-12-08T20:11:45.085Z"
   },
   {
    "duration": 194,
    "start_time": "2024-12-08T20:11:45.384Z"
   },
   {
    "duration": 1159,
    "start_time": "2024-12-08T20:11:45.579Z"
   },
   {
    "duration": 4,
    "start_time": "2024-12-08T20:11:46.740Z"
   },
   {
    "duration": 5,
    "start_time": "2024-12-08T20:11:46.746Z"
   },
   {
    "duration": 189,
    "start_time": "2024-12-08T20:11:46.753Z"
   },
   {
    "duration": 118,
    "start_time": "2024-12-08T20:11:46.944Z"
   },
   {
    "duration": 10,
    "start_time": "2024-12-08T20:11:47.064Z"
   },
   {
    "duration": 8,
    "start_time": "2024-12-08T20:11:47.076Z"
   },
   {
    "duration": 2386,
    "start_time": "2024-12-08T20:11:47.085Z"
   },
   {
    "duration": 53,
    "start_time": "2024-12-08T20:11:49.473Z"
   },
   {
    "duration": 4,
    "start_time": "2024-12-08T20:11:49.528Z"
   }
  ],
  "kernelspec": {
   "display_name": "Python 3 (ipykernel)",
   "language": "python",
   "name": "python3"
  },
  "language_info": {
   "codemirror_mode": {
    "name": "ipython",
    "version": 3
   },
   "file_extension": ".py",
   "mimetype": "text/x-python",
   "name": "python",
   "nbconvert_exporter": "python",
   "pygments_lexer": "ipython3",
   "version": "3.9.19"
  },
  "toc": {
   "base_numbering": 1,
   "nav_menu": {},
   "number_sections": true,
   "sideBar": true,
   "skip_h1_title": true,
   "title_cell": "Table of Contents",
   "title_sidebar": "Contents",
   "toc_cell": false,
   "toc_position": {},
   "toc_section_display": true,
   "toc_window_display": false
  },
  "vscode": {
   "interpreter": {
    "hash": "01a7be9ec63e704a62cefc5fe7a4756944464ee731be31632bdf42a4cb4688cf"
   }
  }
 },
 "nbformat": 4,
 "nbformat_minor": 5
}
