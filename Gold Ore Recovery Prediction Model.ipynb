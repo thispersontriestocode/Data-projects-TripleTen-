{
 "cells": [
  {
   "cell_type": "markdown",
   "metadata": {},
   "source": [
    "# Gold Ore Recovery Prediction Model"
   ]
  },
  {
   "cell_type": "markdown",
   "metadata": {},
   "source": [
    "Zyfra, a company specializing in efficiency solutions for heavy industry, aims to optimize its gold ore extraction and purification process. To achieve this, we will develop a machine learning model that predicts the amount of gold recovered from gold ore based on available data. The model will help identify profitable parameters and eliminate unprofitable ones, ultimately leading to increased efficiency and reduced costs in the production process."
   ]
  },
  {
   "cell_type": "code",
   "execution_count": 1,
   "metadata": {},
   "outputs": [],
   "source": [
    "import matplotlib.pyplot as plt\n",
    "import numpy as np\n",
    "import pandas as pd\n",
    "from scipy.stats import zscore\n",
    "from sklearn.model_selection import GridSearchCV\n",
    "from sklearn.metrics import make_scorer\n",
    "from sklearn.linear_model import LinearRegression\n",
    "from sklearn.tree import DecisionTreeRegressor\n",
    "from sklearn.ensemble import RandomForestRegressor\n",
    "from sklearn.preprocessing import StandardScaler"
   ]
  },
  {
   "cell_type": "markdown",
   "metadata": {},
   "source": [
    "# 1.1 Open the files and look into the data."
   ]
  },
  {
   "cell_type": "code",
   "execution_count": 2,
   "metadata": {},
   "outputs": [],
   "source": [
    "train_df = pd.read_csv('/datasets/gold_recovery_train.csv')\n",
    "test_df = pd.read_csv('/datasets/gold_recovery_test.csv')\n",
    "full_df = pd.read_csv('/datasets/gold_recovery_full.csv')"
   ]
  },
  {
   "cell_type": "markdown",
   "metadata": {},
   "source": [
    "# 1.2. Check that recovery is calculated correctly. Using the training set, calculate recovery for the rougher.output.recovery feature. Find the MAE between your calculations and the feature values.\n"
   ]
  },
  {
   "cell_type": "code",
   "execution_count": 3,
   "metadata": {},
   "outputs": [
    {
     "data": {
      "text/plain": [
       "0        87.107763\n",
       "1        86.843261\n",
       "2        86.842308\n",
       "3        87.226430\n",
       "4        86.688794\n",
       "           ...    \n",
       "16855    89.574376\n",
       "16856    87.724007\n",
       "16857    88.890579\n",
       "16858    89.858126\n",
       "16859    89.514960\n",
       "Length: 16860, dtype: float64"
      ]
     },
     "execution_count": 3,
     "metadata": {},
     "output_type": "execute_result"
    }
   ],
   "source": [
    "\n",
    "# Calculate the numerator\n",
    "numerator = (train_df['rougher.input.feed_au'] - train_df['rougher.output.tail_au']) * train_df['rougher.output.concentrate_au']\n",
    "\n",
    "# Calculate the denominator\n",
    "denominator = (train_df['rougher.output.concentrate_au'] - train_df['rougher.output.tail_au']) * train_df['rougher.input.feed_au']\n",
    "\n",
    "# Calculate the final result\n",
    "calculated_recovery = (numerator / denominator) * 100\n",
    "\n",
    "calculated_recovery"
   ]
  },
  {
   "cell_type": "code",
   "execution_count": 4,
   "metadata": {},
   "outputs": [
    {
     "name": "stdout",
     "output_type": "stream",
     "text": [
      "MAE between calculated recovery and feature values: 0.0000\n"
     ]
    }
   ],
   "source": [
    "mae = (calculated_recovery - train_df['rougher.output.recovery']).abs().mean()\n",
    "\n",
    "print(f'MAE between calculated recovery and feature values: {mae:.4f}')"
   ]
  },
  {
   "cell_type": "markdown",
   "metadata": {},
   "source": [
    "We can see above that we have a MAE of zero which means the calculations in the training set were spot on to what they were supposed to be!"
   ]
  },
  {
   "cell_type": "markdown",
   "metadata": {},
   "source": [
    "# 1.3. Analyze the features not available in the test set. What are these parameters? What is their type?"
   ]
  },
  {
   "cell_type": "code",
   "execution_count": 5,
   "metadata": {},
   "outputs": [
    {
     "name": "stdout",
     "output_type": "stream",
     "text": [
      "<class 'pandas.core.frame.DataFrame'>\n",
      "RangeIndex: 5856 entries, 0 to 5855\n",
      "Data columns (total 53 columns):\n",
      " #   Column                                      Non-Null Count  Dtype  \n",
      "---  ------                                      --------------  -----  \n",
      " 0   date                                        5856 non-null   object \n",
      " 1   primary_cleaner.input.sulfate               5554 non-null   float64\n",
      " 2   primary_cleaner.input.depressant            5572 non-null   float64\n",
      " 3   primary_cleaner.input.feed_size             5856 non-null   float64\n",
      " 4   primary_cleaner.input.xanthate              5690 non-null   float64\n",
      " 5   primary_cleaner.state.floatbank8_a_air      5840 non-null   float64\n",
      " 6   primary_cleaner.state.floatbank8_a_level    5840 non-null   float64\n",
      " 7   primary_cleaner.state.floatbank8_b_air      5840 non-null   float64\n",
      " 8   primary_cleaner.state.floatbank8_b_level    5840 non-null   float64\n",
      " 9   primary_cleaner.state.floatbank8_c_air      5840 non-null   float64\n",
      " 10  primary_cleaner.state.floatbank8_c_level    5840 non-null   float64\n",
      " 11  primary_cleaner.state.floatbank8_d_air      5840 non-null   float64\n",
      " 12  primary_cleaner.state.floatbank8_d_level    5840 non-null   float64\n",
      " 13  rougher.input.feed_ag                       5840 non-null   float64\n",
      " 14  rougher.input.feed_pb                       5840 non-null   float64\n",
      " 15  rougher.input.feed_rate                     5816 non-null   float64\n",
      " 16  rougher.input.feed_size                     5834 non-null   float64\n",
      " 17  rougher.input.feed_sol                      5789 non-null   float64\n",
      " 18  rougher.input.feed_au                       5840 non-null   float64\n",
      " 19  rougher.input.floatbank10_sulfate           5599 non-null   float64\n",
      " 20  rougher.input.floatbank10_xanthate          5733 non-null   float64\n",
      " 21  rougher.input.floatbank11_sulfate           5801 non-null   float64\n",
      " 22  rougher.input.floatbank11_xanthate          5503 non-null   float64\n",
      " 23  rougher.state.floatbank10_a_air             5839 non-null   float64\n",
      " 24  rougher.state.floatbank10_a_level           5840 non-null   float64\n",
      " 25  rougher.state.floatbank10_b_air             5839 non-null   float64\n",
      " 26  rougher.state.floatbank10_b_level           5840 non-null   float64\n",
      " 27  rougher.state.floatbank10_c_air             5839 non-null   float64\n",
      " 28  rougher.state.floatbank10_c_level           5840 non-null   float64\n",
      " 29  rougher.state.floatbank10_d_air             5839 non-null   float64\n",
      " 30  rougher.state.floatbank10_d_level           5840 non-null   float64\n",
      " 31  rougher.state.floatbank10_e_air             5839 non-null   float64\n",
      " 32  rougher.state.floatbank10_e_level           5840 non-null   float64\n",
      " 33  rougher.state.floatbank10_f_air             5839 non-null   float64\n",
      " 34  rougher.state.floatbank10_f_level           5840 non-null   float64\n",
      " 35  secondary_cleaner.state.floatbank2_a_air    5836 non-null   float64\n",
      " 36  secondary_cleaner.state.floatbank2_a_level  5840 non-null   float64\n",
      " 37  secondary_cleaner.state.floatbank2_b_air    5833 non-null   float64\n",
      " 38  secondary_cleaner.state.floatbank2_b_level  5840 non-null   float64\n",
      " 39  secondary_cleaner.state.floatbank3_a_air    5822 non-null   float64\n",
      " 40  secondary_cleaner.state.floatbank3_a_level  5840 non-null   float64\n",
      " 41  secondary_cleaner.state.floatbank3_b_air    5840 non-null   float64\n",
      " 42  secondary_cleaner.state.floatbank3_b_level  5840 non-null   float64\n",
      " 43  secondary_cleaner.state.floatbank4_a_air    5840 non-null   float64\n",
      " 44  secondary_cleaner.state.floatbank4_a_level  5840 non-null   float64\n",
      " 45  secondary_cleaner.state.floatbank4_b_air    5840 non-null   float64\n",
      " 46  secondary_cleaner.state.floatbank4_b_level  5840 non-null   float64\n",
      " 47  secondary_cleaner.state.floatbank5_a_air    5840 non-null   float64\n",
      " 48  secondary_cleaner.state.floatbank5_a_level  5840 non-null   float64\n",
      " 49  secondary_cleaner.state.floatbank5_b_air    5840 non-null   float64\n",
      " 50  secondary_cleaner.state.floatbank5_b_level  5840 non-null   float64\n",
      " 51  secondary_cleaner.state.floatbank6_a_air    5840 non-null   float64\n",
      " 52  secondary_cleaner.state.floatbank6_a_level  5840 non-null   float64\n",
      "dtypes: float64(52), object(1)\n",
      "memory usage: 2.4+ MB\n"
     ]
    }
   ],
   "source": [
    "test_df.info()"
   ]
  },
  {
   "cell_type": "code",
   "execution_count": 6,
   "metadata": {},
   "outputs": [
    {
     "data": {
      "text/html": [
       "<div>\n",
       "<style scoped>\n",
       "    .dataframe tbody tr th:only-of-type {\n",
       "        vertical-align: middle;\n",
       "    }\n",
       "\n",
       "    .dataframe tbody tr th {\n",
       "        vertical-align: top;\n",
       "    }\n",
       "\n",
       "    .dataframe thead th {\n",
       "        text-align: right;\n",
       "    }\n",
       "</style>\n",
       "<table border=\"1\" class=\"dataframe\">\n",
       "  <thead>\n",
       "    <tr style=\"text-align: right;\">\n",
       "      <th></th>\n",
       "      <th>primary_cleaner.input.sulfate</th>\n",
       "      <th>primary_cleaner.input.depressant</th>\n",
       "      <th>primary_cleaner.input.feed_size</th>\n",
       "      <th>primary_cleaner.input.xanthate</th>\n",
       "      <th>primary_cleaner.state.floatbank8_a_air</th>\n",
       "      <th>primary_cleaner.state.floatbank8_a_level</th>\n",
       "      <th>primary_cleaner.state.floatbank8_b_air</th>\n",
       "      <th>primary_cleaner.state.floatbank8_b_level</th>\n",
       "      <th>primary_cleaner.state.floatbank8_c_air</th>\n",
       "      <th>primary_cleaner.state.floatbank8_c_level</th>\n",
       "      <th>...</th>\n",
       "      <th>secondary_cleaner.state.floatbank4_a_air</th>\n",
       "      <th>secondary_cleaner.state.floatbank4_a_level</th>\n",
       "      <th>secondary_cleaner.state.floatbank4_b_air</th>\n",
       "      <th>secondary_cleaner.state.floatbank4_b_level</th>\n",
       "      <th>secondary_cleaner.state.floatbank5_a_air</th>\n",
       "      <th>secondary_cleaner.state.floatbank5_a_level</th>\n",
       "      <th>secondary_cleaner.state.floatbank5_b_air</th>\n",
       "      <th>secondary_cleaner.state.floatbank5_b_level</th>\n",
       "      <th>secondary_cleaner.state.floatbank6_a_air</th>\n",
       "      <th>secondary_cleaner.state.floatbank6_a_level</th>\n",
       "    </tr>\n",
       "  </thead>\n",
       "  <tbody>\n",
       "    <tr>\n",
       "      <th>count</th>\n",
       "      <td>5554.000000</td>\n",
       "      <td>5572.000000</td>\n",
       "      <td>5856.000000</td>\n",
       "      <td>5690.000000</td>\n",
       "      <td>5840.000000</td>\n",
       "      <td>5840.000000</td>\n",
       "      <td>5840.000000</td>\n",
       "      <td>5840.000000</td>\n",
       "      <td>5840.000000</td>\n",
       "      <td>5840.000000</td>\n",
       "      <td>...</td>\n",
       "      <td>5840.000000</td>\n",
       "      <td>5840.000000</td>\n",
       "      <td>5840.000000</td>\n",
       "      <td>5840.000000</td>\n",
       "      <td>5840.000000</td>\n",
       "      <td>5840.000000</td>\n",
       "      <td>5840.000000</td>\n",
       "      <td>5840.000000</td>\n",
       "      <td>5840.000000</td>\n",
       "      <td>5840.000000</td>\n",
       "    </tr>\n",
       "    <tr>\n",
       "      <th>mean</th>\n",
       "      <td>170.515243</td>\n",
       "      <td>8.482873</td>\n",
       "      <td>7.264651</td>\n",
       "      <td>1.321420</td>\n",
       "      <td>1481.990241</td>\n",
       "      <td>-509.057796</td>\n",
       "      <td>1486.908670</td>\n",
       "      <td>-511.743956</td>\n",
       "      <td>1468.495216</td>\n",
       "      <td>-509.741212</td>\n",
       "      <td>...</td>\n",
       "      <td>15.636031</td>\n",
       "      <td>-516.266074</td>\n",
       "      <td>13.145702</td>\n",
       "      <td>-476.338907</td>\n",
       "      <td>12.308967</td>\n",
       "      <td>-512.208126</td>\n",
       "      <td>9.470986</td>\n",
       "      <td>-505.017827</td>\n",
       "      <td>16.678722</td>\n",
       "      <td>-512.351694</td>\n",
       "    </tr>\n",
       "    <tr>\n",
       "      <th>std</th>\n",
       "      <td>49.608602</td>\n",
       "      <td>3.353105</td>\n",
       "      <td>0.611526</td>\n",
       "      <td>0.693246</td>\n",
       "      <td>310.453166</td>\n",
       "      <td>61.339256</td>\n",
       "      <td>313.224286</td>\n",
       "      <td>67.139074</td>\n",
       "      <td>309.980748</td>\n",
       "      <td>62.671873</td>\n",
       "      <td>...</td>\n",
       "      <td>4.660835</td>\n",
       "      <td>62.756748</td>\n",
       "      <td>4.304086</td>\n",
       "      <td>105.549424</td>\n",
       "      <td>3.762827</td>\n",
       "      <td>58.864651</td>\n",
       "      <td>3.312471</td>\n",
       "      <td>68.785898</td>\n",
       "      <td>5.404514</td>\n",
       "      <td>69.919839</td>\n",
       "    </tr>\n",
       "    <tr>\n",
       "      <th>min</th>\n",
       "      <td>0.000103</td>\n",
       "      <td>0.000031</td>\n",
       "      <td>5.650000</td>\n",
       "      <td>0.000003</td>\n",
       "      <td>0.000000</td>\n",
       "      <td>-799.773788</td>\n",
       "      <td>0.000000</td>\n",
       "      <td>-800.029078</td>\n",
       "      <td>0.000000</td>\n",
       "      <td>-799.995127</td>\n",
       "      <td>...</td>\n",
       "      <td>0.000000</td>\n",
       "      <td>-799.798523</td>\n",
       "      <td>0.000000</td>\n",
       "      <td>-800.836914</td>\n",
       "      <td>-0.223393</td>\n",
       "      <td>-799.661076</td>\n",
       "      <td>0.528083</td>\n",
       "      <td>-800.220337</td>\n",
       "      <td>-0.079426</td>\n",
       "      <td>-809.859706</td>\n",
       "    </tr>\n",
       "    <tr>\n",
       "      <th>25%</th>\n",
       "      <td>143.340022</td>\n",
       "      <td>6.411500</td>\n",
       "      <td>6.885625</td>\n",
       "      <td>0.888769</td>\n",
       "      <td>1497.190681</td>\n",
       "      <td>-500.455211</td>\n",
       "      <td>1497.150234</td>\n",
       "      <td>-500.936639</td>\n",
       "      <td>1437.050321</td>\n",
       "      <td>-501.300441</td>\n",
       "      <td>...</td>\n",
       "      <td>12.057838</td>\n",
       "      <td>-501.054741</td>\n",
       "      <td>11.880119</td>\n",
       "      <td>-500.419113</td>\n",
       "      <td>10.123459</td>\n",
       "      <td>-500.879383</td>\n",
       "      <td>7.991208</td>\n",
       "      <td>-500.223089</td>\n",
       "      <td>13.012422</td>\n",
       "      <td>-500.833821</td>\n",
       "    </tr>\n",
       "    <tr>\n",
       "      <th>50%</th>\n",
       "      <td>176.103893</td>\n",
       "      <td>8.023252</td>\n",
       "      <td>7.259333</td>\n",
       "      <td>1.183362</td>\n",
       "      <td>1554.659783</td>\n",
       "      <td>-499.997402</td>\n",
       "      <td>1553.268084</td>\n",
       "      <td>-500.066588</td>\n",
       "      <td>1546.160672</td>\n",
       "      <td>-500.079537</td>\n",
       "      <td>...</td>\n",
       "      <td>17.001867</td>\n",
       "      <td>-500.160145</td>\n",
       "      <td>14.952102</td>\n",
       "      <td>-499.644328</td>\n",
       "      <td>12.062877</td>\n",
       "      <td>-500.047621</td>\n",
       "      <td>9.980774</td>\n",
       "      <td>-500.001338</td>\n",
       "      <td>16.007242</td>\n",
       "      <td>-500.041085</td>\n",
       "    </tr>\n",
       "    <tr>\n",
       "      <th>75%</th>\n",
       "      <td>207.240761</td>\n",
       "      <td>10.017725</td>\n",
       "      <td>7.650000</td>\n",
       "      <td>1.763797</td>\n",
       "      <td>1601.681656</td>\n",
       "      <td>-499.575313</td>\n",
       "      <td>1601.784707</td>\n",
       "      <td>-499.323361</td>\n",
       "      <td>1600.785573</td>\n",
       "      <td>-499.009545</td>\n",
       "      <td>...</td>\n",
       "      <td>18.030985</td>\n",
       "      <td>-499.441529</td>\n",
       "      <td>15.940011</td>\n",
       "      <td>-401.523664</td>\n",
       "      <td>15.017881</td>\n",
       "      <td>-499.297033</td>\n",
       "      <td>11.992176</td>\n",
       "      <td>-499.722835</td>\n",
       "      <td>21.009076</td>\n",
       "      <td>-499.395621</td>\n",
       "    </tr>\n",
       "    <tr>\n",
       "      <th>max</th>\n",
       "      <td>274.409626</td>\n",
       "      <td>40.024582</td>\n",
       "      <td>15.500000</td>\n",
       "      <td>5.433169</td>\n",
       "      <td>2212.432090</td>\n",
       "      <td>-57.195404</td>\n",
       "      <td>1975.147923</td>\n",
       "      <td>-142.527229</td>\n",
       "      <td>1715.053773</td>\n",
       "      <td>-150.937035</td>\n",
       "      <td>...</td>\n",
       "      <td>30.051797</td>\n",
       "      <td>-401.565212</td>\n",
       "      <td>31.269706</td>\n",
       "      <td>-6.506986</td>\n",
       "      <td>25.258848</td>\n",
       "      <td>-244.483566</td>\n",
       "      <td>14.090194</td>\n",
       "      <td>-126.463446</td>\n",
       "      <td>26.705889</td>\n",
       "      <td>-29.093593</td>\n",
       "    </tr>\n",
       "  </tbody>\n",
       "</table>\n",
       "<p>8 rows × 52 columns</p>\n",
       "</div>"
      ],
      "text/plain": [
       "       primary_cleaner.input.sulfate  primary_cleaner.input.depressant  \\\n",
       "count                    5554.000000                       5572.000000   \n",
       "mean                      170.515243                          8.482873   \n",
       "std                        49.608602                          3.353105   \n",
       "min                         0.000103                          0.000031   \n",
       "25%                       143.340022                          6.411500   \n",
       "50%                       176.103893                          8.023252   \n",
       "75%                       207.240761                         10.017725   \n",
       "max                       274.409626                         40.024582   \n",
       "\n",
       "       primary_cleaner.input.feed_size  primary_cleaner.input.xanthate  \\\n",
       "count                      5856.000000                     5690.000000   \n",
       "mean                          7.264651                        1.321420   \n",
       "std                           0.611526                        0.693246   \n",
       "min                           5.650000                        0.000003   \n",
       "25%                           6.885625                        0.888769   \n",
       "50%                           7.259333                        1.183362   \n",
       "75%                           7.650000                        1.763797   \n",
       "max                          15.500000                        5.433169   \n",
       "\n",
       "       primary_cleaner.state.floatbank8_a_air  \\\n",
       "count                             5840.000000   \n",
       "mean                              1481.990241   \n",
       "std                                310.453166   \n",
       "min                                  0.000000   \n",
       "25%                               1497.190681   \n",
       "50%                               1554.659783   \n",
       "75%                               1601.681656   \n",
       "max                               2212.432090   \n",
       "\n",
       "       primary_cleaner.state.floatbank8_a_level  \\\n",
       "count                               5840.000000   \n",
       "mean                                -509.057796   \n",
       "std                                   61.339256   \n",
       "min                                 -799.773788   \n",
       "25%                                 -500.455211   \n",
       "50%                                 -499.997402   \n",
       "75%                                 -499.575313   \n",
       "max                                  -57.195404   \n",
       "\n",
       "       primary_cleaner.state.floatbank8_b_air  \\\n",
       "count                             5840.000000   \n",
       "mean                              1486.908670   \n",
       "std                                313.224286   \n",
       "min                                  0.000000   \n",
       "25%                               1497.150234   \n",
       "50%                               1553.268084   \n",
       "75%                               1601.784707   \n",
       "max                               1975.147923   \n",
       "\n",
       "       primary_cleaner.state.floatbank8_b_level  \\\n",
       "count                               5840.000000   \n",
       "mean                                -511.743956   \n",
       "std                                   67.139074   \n",
       "min                                 -800.029078   \n",
       "25%                                 -500.936639   \n",
       "50%                                 -500.066588   \n",
       "75%                                 -499.323361   \n",
       "max                                 -142.527229   \n",
       "\n",
       "       primary_cleaner.state.floatbank8_c_air  \\\n",
       "count                             5840.000000   \n",
       "mean                              1468.495216   \n",
       "std                                309.980748   \n",
       "min                                  0.000000   \n",
       "25%                               1437.050321   \n",
       "50%                               1546.160672   \n",
       "75%                               1600.785573   \n",
       "max                               1715.053773   \n",
       "\n",
       "       primary_cleaner.state.floatbank8_c_level  ...  \\\n",
       "count                               5840.000000  ...   \n",
       "mean                                -509.741212  ...   \n",
       "std                                   62.671873  ...   \n",
       "min                                 -799.995127  ...   \n",
       "25%                                 -501.300441  ...   \n",
       "50%                                 -500.079537  ...   \n",
       "75%                                 -499.009545  ...   \n",
       "max                                 -150.937035  ...   \n",
       "\n",
       "       secondary_cleaner.state.floatbank4_a_air  \\\n",
       "count                               5840.000000   \n",
       "mean                                  15.636031   \n",
       "std                                    4.660835   \n",
       "min                                    0.000000   \n",
       "25%                                   12.057838   \n",
       "50%                                   17.001867   \n",
       "75%                                   18.030985   \n",
       "max                                   30.051797   \n",
       "\n",
       "       secondary_cleaner.state.floatbank4_a_level  \\\n",
       "count                                 5840.000000   \n",
       "mean                                  -516.266074   \n",
       "std                                     62.756748   \n",
       "min                                   -799.798523   \n",
       "25%                                   -501.054741   \n",
       "50%                                   -500.160145   \n",
       "75%                                   -499.441529   \n",
       "max                                   -401.565212   \n",
       "\n",
       "       secondary_cleaner.state.floatbank4_b_air  \\\n",
       "count                               5840.000000   \n",
       "mean                                  13.145702   \n",
       "std                                    4.304086   \n",
       "min                                    0.000000   \n",
       "25%                                   11.880119   \n",
       "50%                                   14.952102   \n",
       "75%                                   15.940011   \n",
       "max                                   31.269706   \n",
       "\n",
       "       secondary_cleaner.state.floatbank4_b_level  \\\n",
       "count                                 5840.000000   \n",
       "mean                                  -476.338907   \n",
       "std                                    105.549424   \n",
       "min                                   -800.836914   \n",
       "25%                                   -500.419113   \n",
       "50%                                   -499.644328   \n",
       "75%                                   -401.523664   \n",
       "max                                     -6.506986   \n",
       "\n",
       "       secondary_cleaner.state.floatbank5_a_air  \\\n",
       "count                               5840.000000   \n",
       "mean                                  12.308967   \n",
       "std                                    3.762827   \n",
       "min                                   -0.223393   \n",
       "25%                                   10.123459   \n",
       "50%                                   12.062877   \n",
       "75%                                   15.017881   \n",
       "max                                   25.258848   \n",
       "\n",
       "       secondary_cleaner.state.floatbank5_a_level  \\\n",
       "count                                 5840.000000   \n",
       "mean                                  -512.208126   \n",
       "std                                     58.864651   \n",
       "min                                   -799.661076   \n",
       "25%                                   -500.879383   \n",
       "50%                                   -500.047621   \n",
       "75%                                   -499.297033   \n",
       "max                                   -244.483566   \n",
       "\n",
       "       secondary_cleaner.state.floatbank5_b_air  \\\n",
       "count                               5840.000000   \n",
       "mean                                   9.470986   \n",
       "std                                    3.312471   \n",
       "min                                    0.528083   \n",
       "25%                                    7.991208   \n",
       "50%                                    9.980774   \n",
       "75%                                   11.992176   \n",
       "max                                   14.090194   \n",
       "\n",
       "       secondary_cleaner.state.floatbank5_b_level  \\\n",
       "count                                 5840.000000   \n",
       "mean                                  -505.017827   \n",
       "std                                     68.785898   \n",
       "min                                   -800.220337   \n",
       "25%                                   -500.223089   \n",
       "50%                                   -500.001338   \n",
       "75%                                   -499.722835   \n",
       "max                                   -126.463446   \n",
       "\n",
       "       secondary_cleaner.state.floatbank6_a_air  \\\n",
       "count                               5840.000000   \n",
       "mean                                  16.678722   \n",
       "std                                    5.404514   \n",
       "min                                   -0.079426   \n",
       "25%                                   13.012422   \n",
       "50%                                   16.007242   \n",
       "75%                                   21.009076   \n",
       "max                                   26.705889   \n",
       "\n",
       "       secondary_cleaner.state.floatbank6_a_level  \n",
       "count                                 5840.000000  \n",
       "mean                                  -512.351694  \n",
       "std                                     69.919839  \n",
       "min                                   -809.859706  \n",
       "25%                                   -500.833821  \n",
       "50%                                   -500.041085  \n",
       "75%                                   -499.395621  \n",
       "max                                    -29.093593  \n",
       "\n",
       "[8 rows x 52 columns]"
      ]
     },
     "execution_count": 6,
     "metadata": {},
     "output_type": "execute_result"
    }
   ],
   "source": [
    "test_df.describe()"
   ]
  },
  {
   "cell_type": "code",
   "execution_count": 7,
   "metadata": {
    "scrolled": true
   },
   "outputs": [
    {
     "name": "stdout",
     "output_type": "stream",
     "text": [
      "Missing values in training data:\n",
      "date                                            0\n",
      "final.output.concentrate_ag                    72\n",
      "final.output.concentrate_pb                    72\n",
      "final.output.concentrate_sol                  370\n",
      "final.output.concentrate_au                    71\n",
      "                                             ... \n",
      "secondary_cleaner.state.floatbank5_a_level     85\n",
      "secondary_cleaner.state.floatbank5_b_air       85\n",
      "secondary_cleaner.state.floatbank5_b_level     84\n",
      "secondary_cleaner.state.floatbank6_a_air      103\n",
      "secondary_cleaner.state.floatbank6_a_level     85\n",
      "Length: 87, dtype: int64\n"
     ]
    }
   ],
   "source": [
    "print(\"Missing values in training data:\")\n",
    "print(train_df.isnull().sum())"
   ]
  },
  {
   "cell_type": "markdown",
   "metadata": {},
   "source": [
    "As we can see above, we have a lot of missing values that we will have to take care of. We do have some large ranges of numbers in the various columns, this tells me we will probably have some outliers or that our data is a little skewed. That being said I will try replacing the missing values with the median of the columns to hopefully get a more accurate look at everything."
   ]
  },
  {
   "cell_type": "code",
   "execution_count": 8,
   "metadata": {},
   "outputs": [
    {
     "name": "stdout",
     "output_type": "stream",
     "text": [
      "Features not available in the test set:\n",
      "Index(['final.output.concentrate_ag', 'final.output.concentrate_pb',\n",
      "       'final.output.concentrate_sol', 'final.output.concentrate_au',\n",
      "       'final.output.recovery', 'final.output.tail_ag', 'final.output.tail_pb',\n",
      "       'final.output.tail_sol', 'final.output.tail_au',\n",
      "       'primary_cleaner.output.concentrate_ag',\n",
      "       'primary_cleaner.output.concentrate_pb',\n",
      "       'primary_cleaner.output.concentrate_sol',\n",
      "       'primary_cleaner.output.concentrate_au',\n",
      "       'primary_cleaner.output.tail_ag', 'primary_cleaner.output.tail_pb',\n",
      "       'primary_cleaner.output.tail_sol', 'primary_cleaner.output.tail_au',\n",
      "       'rougher.calculation.sulfate_to_au_concentrate',\n",
      "       'rougher.calculation.floatbank10_sulfate_to_au_feed',\n",
      "       'rougher.calculation.floatbank11_sulfate_to_au_feed',\n",
      "       'rougher.calculation.au_pb_ratio', 'rougher.output.concentrate_ag',\n",
      "       'rougher.output.concentrate_pb', 'rougher.output.concentrate_sol',\n",
      "       'rougher.output.concentrate_au', 'rougher.output.recovery',\n",
      "       'rougher.output.tail_ag', 'rougher.output.tail_pb',\n",
      "       'rougher.output.tail_sol', 'rougher.output.tail_au',\n",
      "       'secondary_cleaner.output.tail_ag', 'secondary_cleaner.output.tail_pb',\n",
      "       'secondary_cleaner.output.tail_sol',\n",
      "       'secondary_cleaner.output.tail_au'],\n",
      "      dtype='object')\n"
     ]
    }
   ],
   "source": [
    "# Get the column names of the training and test data\n",
    "train_columns = train_df.columns\n",
    "test_columns = test_df.columns\n",
    "\n",
    "# Find the features that are not available in the test set\n",
    "missing_features = train_columns[~train_columns.isin(test_columns)]\n",
    "\n",
    "print(\"Features not available in the test set:\")\n",
    "print(missing_features)"
   ]
  },
  {
   "cell_type": "code",
   "execution_count": 9,
   "metadata": {},
   "outputs": [
    {
     "data": {
      "text/plain": [
       "final.output.concentrate_ag                           float64\n",
       "final.output.concentrate_pb                           float64\n",
       "final.output.concentrate_sol                          float64\n",
       "final.output.concentrate_au                           float64\n",
       "final.output.recovery                                 float64\n",
       "final.output.tail_ag                                  float64\n",
       "final.output.tail_pb                                  float64\n",
       "final.output.tail_sol                                 float64\n",
       "final.output.tail_au                                  float64\n",
       "primary_cleaner.output.concentrate_ag                 float64\n",
       "primary_cleaner.output.concentrate_pb                 float64\n",
       "primary_cleaner.output.concentrate_sol                float64\n",
       "primary_cleaner.output.concentrate_au                 float64\n",
       "primary_cleaner.output.tail_ag                        float64\n",
       "primary_cleaner.output.tail_pb                        float64\n",
       "primary_cleaner.output.tail_sol                       float64\n",
       "primary_cleaner.output.tail_au                        float64\n",
       "rougher.calculation.sulfate_to_au_concentrate         float64\n",
       "rougher.calculation.floatbank10_sulfate_to_au_feed    float64\n",
       "rougher.calculation.floatbank11_sulfate_to_au_feed    float64\n",
       "rougher.calculation.au_pb_ratio                       float64\n",
       "rougher.output.concentrate_ag                         float64\n",
       "rougher.output.concentrate_pb                         float64\n",
       "rougher.output.concentrate_sol                        float64\n",
       "rougher.output.concentrate_au                         float64\n",
       "rougher.output.recovery                               float64\n",
       "rougher.output.tail_ag                                float64\n",
       "rougher.output.tail_pb                                float64\n",
       "rougher.output.tail_sol                               float64\n",
       "rougher.output.tail_au                                float64\n",
       "secondary_cleaner.output.tail_ag                      float64\n",
       "secondary_cleaner.output.tail_pb                      float64\n",
       "secondary_cleaner.output.tail_sol                     float64\n",
       "secondary_cleaner.output.tail_au                      float64\n",
       "dtype: object"
      ]
     },
     "execution_count": 9,
     "metadata": {},
     "output_type": "execute_result"
    }
   ],
   "source": [
    "train_df[missing_features].dtypes\n"
   ]
  },
  {
   "cell_type": "markdown",
   "metadata": {},
   "source": [
    "Above I compared the features in the training set with the features in the test set. We can see what those are above and we can also see that all of them are float values, this makes sense because we are measuring. Interesting we see that we dont have any of the final outputs in the test set. The test set seems to have a lot of the steps in the process but not the outputs for them. We will have to grab those from the full dataset so we can have targets in our ML later."
   ]
  },
  {
   "cell_type": "markdown",
   "metadata": {},
   "source": [
    "# 1.4. Perform data preprocessing."
   ]
  },
  {
   "cell_type": "code",
   "execution_count": 10,
   "metadata": {},
   "outputs": [],
   "source": [
    "test_df = test_df.merge(full_df[['date', 'rougher.output.recovery', 'final.output.recovery']], on='date')\n",
    "y_test = test_df[['rougher.output.recovery', 'final.output.recovery']]"
   ]
  },
  {
   "cell_type": "code",
   "execution_count": 11,
   "metadata": {},
   "outputs": [],
   "source": [
    "# Select numeric columns in train_df\n",
    "numeric_cols_train = train_df.select_dtypes(include=['int64', 'float64']).columns \n",
    "\n",
    "# Forward fill NaNs in train_df\n",
    "train_df[numeric_cols_train] = train_df[numeric_cols_train].fillna(method='ffill')\n",
    "\n",
    "# Select numeric columns in test_df\n",
    "numeric_cols_test = test_df.select_dtypes(include=['int64', 'float64']).columns\n",
    "\n",
    "\n",
    "# Forward fill NaNs in test_df\n",
    "test_df[numeric_cols_test] = test_df[numeric_cols_test].fillna(method='ffill')\n",
    "\n",
    " "
   ]
  },
  {
   "cell_type": "code",
   "execution_count": 12,
   "metadata": {
    "scrolled": true
   },
   "outputs": [
    {
     "name": "stdout",
     "output_type": "stream",
     "text": [
      "<class 'pandas.core.frame.DataFrame'>\n",
      "RangeIndex: 16860 entries, 0 to 16859\n",
      "Data columns (total 87 columns):\n",
      " #   Column                                              Non-Null Count  Dtype  \n",
      "---  ------                                              --------------  -----  \n",
      " 0   date                                                16860 non-null  object \n",
      " 1   final.output.concentrate_ag                         16860 non-null  float64\n",
      " 2   final.output.concentrate_pb                         16860 non-null  float64\n",
      " 3   final.output.concentrate_sol                        16860 non-null  float64\n",
      " 4   final.output.concentrate_au                         16860 non-null  float64\n",
      " 5   final.output.recovery                               16860 non-null  float64\n",
      " 6   final.output.tail_ag                                16860 non-null  float64\n",
      " 7   final.output.tail_pb                                16860 non-null  float64\n",
      " 8   final.output.tail_sol                               16860 non-null  float64\n",
      " 9   final.output.tail_au                                16860 non-null  float64\n",
      " 10  primary_cleaner.input.sulfate                       16860 non-null  float64\n",
      " 11  primary_cleaner.input.depressant                    16860 non-null  float64\n",
      " 12  primary_cleaner.input.feed_size                     16860 non-null  float64\n",
      " 13  primary_cleaner.input.xanthate                      16860 non-null  float64\n",
      " 14  primary_cleaner.output.concentrate_ag               16860 non-null  float64\n",
      " 15  primary_cleaner.output.concentrate_pb               16860 non-null  float64\n",
      " 16  primary_cleaner.output.concentrate_sol              16860 non-null  float64\n",
      " 17  primary_cleaner.output.concentrate_au               16860 non-null  float64\n",
      " 18  primary_cleaner.output.tail_ag                      16860 non-null  float64\n",
      " 19  primary_cleaner.output.tail_pb                      16860 non-null  float64\n",
      " 20  primary_cleaner.output.tail_sol                     16860 non-null  float64\n",
      " 21  primary_cleaner.output.tail_au                      16860 non-null  float64\n",
      " 22  primary_cleaner.state.floatbank8_a_air              16860 non-null  float64\n",
      " 23  primary_cleaner.state.floatbank8_a_level            16860 non-null  float64\n",
      " 24  primary_cleaner.state.floatbank8_b_air              16860 non-null  float64\n",
      " 25  primary_cleaner.state.floatbank8_b_level            16860 non-null  float64\n",
      " 26  primary_cleaner.state.floatbank8_c_air              16860 non-null  float64\n",
      " 27  primary_cleaner.state.floatbank8_c_level            16860 non-null  float64\n",
      " 28  primary_cleaner.state.floatbank8_d_air              16860 non-null  float64\n",
      " 29  primary_cleaner.state.floatbank8_d_level            16860 non-null  float64\n",
      " 30  rougher.calculation.sulfate_to_au_concentrate       16860 non-null  float64\n",
      " 31  rougher.calculation.floatbank10_sulfate_to_au_feed  16860 non-null  float64\n",
      " 32  rougher.calculation.floatbank11_sulfate_to_au_feed  16860 non-null  float64\n",
      " 33  rougher.calculation.au_pb_ratio                     16860 non-null  float64\n",
      " 34  rougher.input.feed_ag                               16860 non-null  float64\n",
      " 35  rougher.input.feed_pb                               16860 non-null  float64\n",
      " 36  rougher.input.feed_rate                             16860 non-null  float64\n",
      " 37  rougher.input.feed_size                             16860 non-null  float64\n",
      " 38  rougher.input.feed_sol                              16860 non-null  float64\n",
      " 39  rougher.input.feed_au                               16860 non-null  float64\n",
      " 40  rougher.input.floatbank10_sulfate                   16860 non-null  float64\n",
      " 41  rougher.input.floatbank10_xanthate                  16860 non-null  float64\n",
      " 42  rougher.input.floatbank11_sulfate                   16860 non-null  float64\n",
      " 43  rougher.input.floatbank11_xanthate                  16860 non-null  float64\n",
      " 44  rougher.output.concentrate_ag                       16860 non-null  float64\n",
      " 45  rougher.output.concentrate_pb                       16860 non-null  float64\n",
      " 46  rougher.output.concentrate_sol                      16860 non-null  float64\n",
      " 47  rougher.output.concentrate_au                       16860 non-null  float64\n",
      " 48  rougher.output.recovery                             16860 non-null  float64\n",
      " 49  rougher.output.tail_ag                              16860 non-null  float64\n",
      " 50  rougher.output.tail_pb                              16860 non-null  float64\n",
      " 51  rougher.output.tail_sol                             16860 non-null  float64\n",
      " 52  rougher.output.tail_au                              16860 non-null  float64\n",
      " 53  rougher.state.floatbank10_a_air                     16860 non-null  float64\n",
      " 54  rougher.state.floatbank10_a_level                   16860 non-null  float64\n",
      " 55  rougher.state.floatbank10_b_air                     16860 non-null  float64\n",
      " 56  rougher.state.floatbank10_b_level                   16860 non-null  float64\n",
      " 57  rougher.state.floatbank10_c_air                     16860 non-null  float64\n",
      " 58  rougher.state.floatbank10_c_level                   16860 non-null  float64\n",
      " 59  rougher.state.floatbank10_d_air                     16860 non-null  float64\n",
      " 60  rougher.state.floatbank10_d_level                   16860 non-null  float64\n",
      " 61  rougher.state.floatbank10_e_air                     16860 non-null  float64\n",
      " 62  rougher.state.floatbank10_e_level                   16860 non-null  float64\n",
      " 63  rougher.state.floatbank10_f_air                     16860 non-null  float64\n",
      " 64  rougher.state.floatbank10_f_level                   16860 non-null  float64\n",
      " 65  secondary_cleaner.output.tail_ag                    16860 non-null  float64\n",
      " 66  secondary_cleaner.output.tail_pb                    16860 non-null  float64\n",
      " 67  secondary_cleaner.output.tail_sol                   16860 non-null  float64\n",
      " 68  secondary_cleaner.output.tail_au                    16860 non-null  float64\n",
      " 69  secondary_cleaner.state.floatbank2_a_air            16860 non-null  float64\n",
      " 70  secondary_cleaner.state.floatbank2_a_level          16860 non-null  float64\n",
      " 71  secondary_cleaner.state.floatbank2_b_air            16860 non-null  float64\n",
      " 72  secondary_cleaner.state.floatbank2_b_level          16860 non-null  float64\n",
      " 73  secondary_cleaner.state.floatbank3_a_air            16860 non-null  float64\n",
      " 74  secondary_cleaner.state.floatbank3_a_level          16860 non-null  float64\n",
      " 75  secondary_cleaner.state.floatbank3_b_air            16860 non-null  float64\n",
      " 76  secondary_cleaner.state.floatbank3_b_level          16860 non-null  float64\n",
      " 77  secondary_cleaner.state.floatbank4_a_air            16860 non-null  float64\n",
      " 78  secondary_cleaner.state.floatbank4_a_level          16860 non-null  float64\n",
      " 79  secondary_cleaner.state.floatbank4_b_air            16860 non-null  float64\n",
      " 80  secondary_cleaner.state.floatbank4_b_level          16860 non-null  float64\n",
      " 81  secondary_cleaner.state.floatbank5_a_air            16860 non-null  float64\n",
      " 82  secondary_cleaner.state.floatbank5_a_level          16860 non-null  float64\n",
      " 83  secondary_cleaner.state.floatbank5_b_air            16860 non-null  float64\n",
      " 84  secondary_cleaner.state.floatbank5_b_level          16860 non-null  float64\n",
      " 85  secondary_cleaner.state.floatbank6_a_air            16860 non-null  float64\n",
      " 86  secondary_cleaner.state.floatbank6_a_level          16860 non-null  float64\n",
      "dtypes: float64(86), object(1)\n",
      "memory usage: 11.2+ MB\n"
     ]
    }
   ],
   "source": [
    "\n",
    "train_df.info()\n"
   ]
  },
  {
   "cell_type": "code",
   "execution_count": 13,
   "metadata": {},
   "outputs": [
    {
     "name": "stdout",
     "output_type": "stream",
     "text": [
      "<class 'pandas.core.frame.DataFrame'>\n",
      "Int64Index: 5856 entries, 0 to 5855\n",
      "Data columns (total 55 columns):\n",
      " #   Column                                      Non-Null Count  Dtype  \n",
      "---  ------                                      --------------  -----  \n",
      " 0   date                                        5856 non-null   object \n",
      " 1   primary_cleaner.input.sulfate               5856 non-null   float64\n",
      " 2   primary_cleaner.input.depressant            5856 non-null   float64\n",
      " 3   primary_cleaner.input.feed_size             5856 non-null   float64\n",
      " 4   primary_cleaner.input.xanthate              5856 non-null   float64\n",
      " 5   primary_cleaner.state.floatbank8_a_air      5856 non-null   float64\n",
      " 6   primary_cleaner.state.floatbank8_a_level    5856 non-null   float64\n",
      " 7   primary_cleaner.state.floatbank8_b_air      5856 non-null   float64\n",
      " 8   primary_cleaner.state.floatbank8_b_level    5856 non-null   float64\n",
      " 9   primary_cleaner.state.floatbank8_c_air      5856 non-null   float64\n",
      " 10  primary_cleaner.state.floatbank8_c_level    5856 non-null   float64\n",
      " 11  primary_cleaner.state.floatbank8_d_air      5856 non-null   float64\n",
      " 12  primary_cleaner.state.floatbank8_d_level    5856 non-null   float64\n",
      " 13  rougher.input.feed_ag                       5856 non-null   float64\n",
      " 14  rougher.input.feed_pb                       5856 non-null   float64\n",
      " 15  rougher.input.feed_rate                     5856 non-null   float64\n",
      " 16  rougher.input.feed_size                     5856 non-null   float64\n",
      " 17  rougher.input.feed_sol                      5856 non-null   float64\n",
      " 18  rougher.input.feed_au                       5856 non-null   float64\n",
      " 19  rougher.input.floatbank10_sulfate           5856 non-null   float64\n",
      " 20  rougher.input.floatbank10_xanthate          5856 non-null   float64\n",
      " 21  rougher.input.floatbank11_sulfate           5856 non-null   float64\n",
      " 22  rougher.input.floatbank11_xanthate          5856 non-null   float64\n",
      " 23  rougher.state.floatbank10_a_air             5856 non-null   float64\n",
      " 24  rougher.state.floatbank10_a_level           5856 non-null   float64\n",
      " 25  rougher.state.floatbank10_b_air             5856 non-null   float64\n",
      " 26  rougher.state.floatbank10_b_level           5856 non-null   float64\n",
      " 27  rougher.state.floatbank10_c_air             5856 non-null   float64\n",
      " 28  rougher.state.floatbank10_c_level           5856 non-null   float64\n",
      " 29  rougher.state.floatbank10_d_air             5856 non-null   float64\n",
      " 30  rougher.state.floatbank10_d_level           5856 non-null   float64\n",
      " 31  rougher.state.floatbank10_e_air             5856 non-null   float64\n",
      " 32  rougher.state.floatbank10_e_level           5856 non-null   float64\n",
      " 33  rougher.state.floatbank10_f_air             5856 non-null   float64\n",
      " 34  rougher.state.floatbank10_f_level           5856 non-null   float64\n",
      " 35  secondary_cleaner.state.floatbank2_a_air    5856 non-null   float64\n",
      " 36  secondary_cleaner.state.floatbank2_a_level  5856 non-null   float64\n",
      " 37  secondary_cleaner.state.floatbank2_b_air    5856 non-null   float64\n",
      " 38  secondary_cleaner.state.floatbank2_b_level  5856 non-null   float64\n",
      " 39  secondary_cleaner.state.floatbank3_a_air    5856 non-null   float64\n",
      " 40  secondary_cleaner.state.floatbank3_a_level  5856 non-null   float64\n",
      " 41  secondary_cleaner.state.floatbank3_b_air    5856 non-null   float64\n",
      " 42  secondary_cleaner.state.floatbank3_b_level  5856 non-null   float64\n",
      " 43  secondary_cleaner.state.floatbank4_a_air    5856 non-null   float64\n",
      " 44  secondary_cleaner.state.floatbank4_a_level  5856 non-null   float64\n",
      " 45  secondary_cleaner.state.floatbank4_b_air    5856 non-null   float64\n",
      " 46  secondary_cleaner.state.floatbank4_b_level  5856 non-null   float64\n",
      " 47  secondary_cleaner.state.floatbank5_a_air    5856 non-null   float64\n",
      " 48  secondary_cleaner.state.floatbank5_a_level  5856 non-null   float64\n",
      " 49  secondary_cleaner.state.floatbank5_b_air    5856 non-null   float64\n",
      " 50  secondary_cleaner.state.floatbank5_b_level  5856 non-null   float64\n",
      " 51  secondary_cleaner.state.floatbank6_a_air    5856 non-null   float64\n",
      " 52  secondary_cleaner.state.floatbank6_a_level  5856 non-null   float64\n",
      " 53  rougher.output.recovery                     5856 non-null   float64\n",
      " 54  final.output.recovery                       5856 non-null   float64\n",
      "dtypes: float64(54), object(1)\n",
      "memory usage: 2.5+ MB\n"
     ]
    }
   ],
   "source": [
    "test_df.info()"
   ]
  },
  {
   "cell_type": "markdown",
   "metadata": {},
   "source": [
    "We can see that we have filled the missing values in our test_df with the median of the columns!"
   ]
  },
  {
   "cell_type": "markdown",
   "metadata": {},
   "source": [
    "#####                                      2. Analyze the data"
   ]
  },
  {
   "cell_type": "markdown",
   "metadata": {},
   "source": [
    "# 2.1. Take note of how the concentrations of metals (Au, Ag, Pb) change depending on the purification stage."
   ]
  },
  {
   "cell_type": "code",
   "execution_count": 14,
   "metadata": {},
   "outputs": [
    {
     "data": {
      "image/png": "[encoded data removed]",
      "text/plain": [
       "<Figure size 1500x500 with 3 Axes>"
      ]
     },
     "metadata": {},
     "output_type": "display_data"
    }
   ],
   "source": [
    "# Extract the relevant columns from the training data\n",
    "au_cols = ['rougher.input.feed_au', 'rougher.output.concentrate_au', 'primary_cleaner.output.concentrate_au', 'final.output.concentrate_au']\n",
    "ag_cols = ['rougher.input.feed_ag', 'rougher.output.concentrate_ag', 'primary_cleaner.output.concentrate_ag', 'final.output.concentrate_ag']\n",
    "pb_cols = ['rougher.input.feed_pb', 'rougher.output.concentrate_pb', 'primary_cleaner.output.concentrate_pb', 'final.output.concentrate_pb']\n",
    "\n",
    "# Create a figure with three subplots\n",
    "fig, axs = plt.subplots(1, 3, figsize=(15, 5))\n",
    "\n",
    "# Plot the Au concentrations\n",
    "axs[0].hist([train_df[col] for col in au_cols], bins=20, label=['Rougher Input', 'Rougher Output', 'Primary Cleaner Output', 'Final Output'], alpha=0.5)\n",
    "axs[0].set_title('Au Concentration Changes')\n",
    "axs[0].set_xlabel('Concentration')\n",
    "axs[0].set_ylabel('Frequency')\n",
    "\n",
    "# Plot the Ag concentrations\n",
    "axs[1].hist([train_df[col] for col in ag_cols], bins=20, label=['Rougher Input', 'Rougher Output', 'Primary Cleaner Output', 'Final Output'], alpha=0.5)\n",
    "axs[1].set_title('Ag Concentration Changes')\n",
    "axs[1].set_xlabel('Concentration')\n",
    "axs[1].set_ylabel('Frequency')\n",
    "\n",
    "# Plot the Pb concentrations\n",
    "axs[2].hist([train_df[col] for col in pb_cols], bins=20, label=['Rougher Input', 'Rougher Output', 'Primary Cleaner Output', 'Final Output'], alpha=0.5)\n",
    "axs[2].set_title('Pb Concentration Changes')\n",
    "axs[2].set_xlabel('Concentration')\n",
    "axs[2].set_ylabel('Frequency')\n",
    "\n",
    "# Add legends to each subplot\n",
    "for ax in axs:\n",
    "    ax.legend()\n",
    "\n",
    "# Show the plot\n",
    "plt.show()"
   ]
  },
  {
   "cell_type": "markdown",
   "metadata": {},
   "source": [
    "# 2.2. Compare the feed particle size distributions in the training set and in the test set. If the distributions vary significantly, the model evaluation will be incorrect."
   ]
  },
  {
   "cell_type": "code",
   "execution_count": 15,
   "metadata": {},
   "outputs": [
    {
     "name": "stdout",
     "output_type": "stream",
     "text": [
      "<class 'pandas.core.frame.DataFrame'>\n",
      "RangeIndex: 16860 entries, 0 to 16859\n",
      "Data columns (total 87 columns):\n",
      " #   Column                                              Non-Null Count  Dtype  \n",
      "---  ------                                              --------------  -----  \n",
      " 0   date                                                16860 non-null  object \n",
      " 1   final.output.concentrate_ag                         16860 non-null  float64\n",
      " 2   final.output.concentrate_pb                         16860 non-null  float64\n",
      " 3   final.output.concentrate_sol                        16860 non-null  float64\n",
      " 4   final.output.concentrate_au                         16860 non-null  float64\n",
      " 5   final.output.recovery                               16860 non-null  float64\n",
      " 6   final.output.tail_ag                                16860 non-null  float64\n",
      " 7   final.output.tail_pb                                16860 non-null  float64\n",
      " 8   final.output.tail_sol                               16860 non-null  float64\n",
      " 9   final.output.tail_au                                16860 non-null  float64\n",
      " 10  primary_cleaner.input.sulfate                       16860 non-null  float64\n",
      " 11  primary_cleaner.input.depressant                    16860 non-null  float64\n",
      " 12  primary_cleaner.input.feed_size                     16860 non-null  float64\n",
      " 13  primary_cleaner.input.xanthate                      16860 non-null  float64\n",
      " 14  primary_cleaner.output.concentrate_ag               16860 non-null  float64\n",
      " 15  primary_cleaner.output.concentrate_pb               16860 non-null  float64\n",
      " 16  primary_cleaner.output.concentrate_sol              16860 non-null  float64\n",
      " 17  primary_cleaner.output.concentrate_au               16860 non-null  float64\n",
      " 18  primary_cleaner.output.tail_ag                      16860 non-null  float64\n",
      " 19  primary_cleaner.output.tail_pb                      16860 non-null  float64\n",
      " 20  primary_cleaner.output.tail_sol                     16860 non-null  float64\n",
      " 21  primary_cleaner.output.tail_au                      16860 non-null  float64\n",
      " 22  primary_cleaner.state.floatbank8_a_air              16860 non-null  float64\n",
      " 23  primary_cleaner.state.floatbank8_a_level            16860 non-null  float64\n",
      " 24  primary_cleaner.state.floatbank8_b_air              16860 non-null  float64\n",
      " 25  primary_cleaner.state.floatbank8_b_level            16860 non-null  float64\n",
      " 26  primary_cleaner.state.floatbank8_c_air              16860 non-null  float64\n",
      " 27  primary_cleaner.state.floatbank8_c_level            16860 non-null  float64\n",
      " 28  primary_cleaner.state.floatbank8_d_air              16860 non-null  float64\n",
      " 29  primary_cleaner.state.floatbank8_d_level            16860 non-null  float64\n",
      " 30  rougher.calculation.sulfate_to_au_concentrate       16860 non-null  float64\n",
      " 31  rougher.calculation.floatbank10_sulfate_to_au_feed  16860 non-null  float64\n",
      " 32  rougher.calculation.floatbank11_sulfate_to_au_feed  16860 non-null  float64\n",
      " 33  rougher.calculation.au_pb_ratio                     16860 non-null  float64\n",
      " 34  rougher.input.feed_ag                               16860 non-null  float64\n",
      " 35  rougher.input.feed_pb                               16860 non-null  float64\n",
      " 36  rougher.input.feed_rate                             16860 non-null  float64\n",
      " 37  rougher.input.feed_size                             16860 non-null  float64\n",
      " 38  rougher.input.feed_sol                              16860 non-null  float64\n",
      " 39  rougher.input.feed_au                               16860 non-null  float64\n",
      " 40  rougher.input.floatbank10_sulfate                   16860 non-null  float64\n",
      " 41  rougher.input.floatbank10_xanthate                  16860 non-null  float64\n",
      " 42  rougher.input.floatbank11_sulfate                   16860 non-null  float64\n",
      " 43  rougher.input.floatbank11_xanthate                  16860 non-null  float64\n",
      " 44  rougher.output.concentrate_ag                       16860 non-null  float64\n",
      " 45  rougher.output.concentrate_pb                       16860 non-null  float64\n",
      " 46  rougher.output.concentrate_sol                      16860 non-null  float64\n",
      " 47  rougher.output.concentrate_au                       16860 non-null  float64\n",
      " 48  rougher.output.recovery                             16860 non-null  float64\n",
      " 49  rougher.output.tail_ag                              16860 non-null  float64\n",
      " 50  rougher.output.tail_pb                              16860 non-null  float64\n",
      " 51  rougher.output.tail_sol                             16860 non-null  float64\n",
      " 52  rougher.output.tail_au                              16860 non-null  float64\n",
      " 53  rougher.state.floatbank10_a_air                     16860 non-null  float64\n",
      " 54  rougher.state.floatbank10_a_level                   16860 non-null  float64\n",
      " 55  rougher.state.floatbank10_b_air                     16860 non-null  float64\n",
      " 56  rougher.state.floatbank10_b_level                   16860 non-null  float64\n",
      " 57  rougher.state.floatbank10_c_air                     16860 non-null  float64\n",
      " 58  rougher.state.floatbank10_c_level                   16860 non-null  float64\n",
      " 59  rougher.state.floatbank10_d_air                     16860 non-null  float64\n",
      " 60  rougher.state.floatbank10_d_level                   16860 non-null  float64\n",
      " 61  rougher.state.floatbank10_e_air                     16860 non-null  float64\n",
      " 62  rougher.state.floatbank10_e_level                   16860 non-null  float64\n",
      " 63  rougher.state.floatbank10_f_air                     16860 non-null  float64\n",
      " 64  rougher.state.floatbank10_f_level                   16860 non-null  float64\n",
      " 65  secondary_cleaner.output.tail_ag                    16860 non-null  float64\n",
      " 66  secondary_cleaner.output.tail_pb                    16860 non-null  float64\n",
      " 67  secondary_cleaner.output.tail_sol                   16860 non-null  float64\n",
      " 68  secondary_cleaner.output.tail_au                    16860 non-null  float64\n",
      " 69  secondary_cleaner.state.floatbank2_a_air            16860 non-null  float64\n",
      " 70  secondary_cleaner.state.floatbank2_a_level          16860 non-null  float64\n",
      " 71  secondary_cleaner.state.floatbank2_b_air            16860 non-null  float64\n",
      " 72  secondary_cleaner.state.floatbank2_b_level          16860 non-null  float64\n",
      " 73  secondary_cleaner.state.floatbank3_a_air            16860 non-null  float64\n",
      " 74  secondary_cleaner.state.floatbank3_a_level          16860 non-null  float64\n",
      " 75  secondary_cleaner.state.floatbank3_b_air            16860 non-null  float64\n",
      " 76  secondary_cleaner.state.floatbank3_b_level          16860 non-null  float64\n",
      " 77  secondary_cleaner.state.floatbank4_a_air            16860 non-null  float64\n",
      " 78  secondary_cleaner.state.floatbank4_a_level          16860 non-null  float64\n",
      " 79  secondary_cleaner.state.floatbank4_b_air            16860 non-null  float64\n",
      " 80  secondary_cleaner.state.floatbank4_b_level          16860 non-null  float64\n",
      " 81  secondary_cleaner.state.floatbank5_a_air            16860 non-null  float64\n",
      " 82  secondary_cleaner.state.floatbank5_a_level          16860 non-null  float64\n",
      " 83  secondary_cleaner.state.floatbank5_b_air            16860 non-null  float64\n",
      " 84  secondary_cleaner.state.floatbank5_b_level          16860 non-null  float64\n",
      " 85  secondary_cleaner.state.floatbank6_a_air            16860 non-null  float64\n",
      " 86  secondary_cleaner.state.floatbank6_a_level          16860 non-null  float64\n",
      "dtypes: float64(86), object(1)\n",
      "memory usage: 11.2+ MB\n"
     ]
    }
   ],
   "source": [
    "train_df.info()"
   ]
  },
  {
   "cell_type": "code",
   "execution_count": 16,
   "metadata": {},
   "outputs": [
    {
     "name": "stdout",
     "output_type": "stream",
     "text": [
      "<class 'pandas.core.frame.DataFrame'>\n",
      "Int64Index: 5856 entries, 0 to 5855\n",
      "Data columns (total 55 columns):\n",
      " #   Column                                      Non-Null Count  Dtype  \n",
      "---  ------                                      --------------  -----  \n",
      " 0   date                                        5856 non-null   object \n",
      " 1   primary_cleaner.input.sulfate               5856 non-null   float64\n",
      " 2   primary_cleaner.input.depressant            5856 non-null   float64\n",
      " 3   primary_cleaner.input.feed_size             5856 non-null   float64\n",
      " 4   primary_cleaner.input.xanthate              5856 non-null   float64\n",
      " 5   primary_cleaner.state.floatbank8_a_air      5856 non-null   float64\n",
      " 6   primary_cleaner.state.floatbank8_a_level    5856 non-null   float64\n",
      " 7   primary_cleaner.state.floatbank8_b_air      5856 non-null   float64\n",
      " 8   primary_cleaner.state.floatbank8_b_level    5856 non-null   float64\n",
      " 9   primary_cleaner.state.floatbank8_c_air      5856 non-null   float64\n",
      " 10  primary_cleaner.state.floatbank8_c_level    5856 non-null   float64\n",
      " 11  primary_cleaner.state.floatbank8_d_air      5856 non-null   float64\n",
      " 12  primary_cleaner.state.floatbank8_d_level    5856 non-null   float64\n",
      " 13  rougher.input.feed_ag                       5856 non-null   float64\n",
      " 14  rougher.input.feed_pb                       5856 non-null   float64\n",
      " 15  rougher.input.feed_rate                     5856 non-null   float64\n",
      " 16  rougher.input.feed_size                     5856 non-null   float64\n",
      " 17  rougher.input.feed_sol                      5856 non-null   float64\n",
      " 18  rougher.input.feed_au                       5856 non-null   float64\n",
      " 19  rougher.input.floatbank10_sulfate           5856 non-null   float64\n",
      " 20  rougher.input.floatbank10_xanthate          5856 non-null   float64\n",
      " 21  rougher.input.floatbank11_sulfate           5856 non-null   float64\n",
      " 22  rougher.input.floatbank11_xanthate          5856 non-null   float64\n",
      " 23  rougher.state.floatbank10_a_air             5856 non-null   float64\n",
      " 24  rougher.state.floatbank10_a_level           5856 non-null   float64\n",
      " 25  rougher.state.floatbank10_b_air             5856 non-null   float64\n",
      " 26  rougher.state.floatbank10_b_level           5856 non-null   float64\n",
      " 27  rougher.state.floatbank10_c_air             5856 non-null   float64\n",
      " 28  rougher.state.floatbank10_c_level           5856 non-null   float64\n",
      " 29  rougher.state.floatbank10_d_air             5856 non-null   float64\n",
      " 30  rougher.state.floatbank10_d_level           5856 non-null   float64\n",
      " 31  rougher.state.floatbank10_e_air             5856 non-null   float64\n",
      " 32  rougher.state.floatbank10_e_level           5856 non-null   float64\n",
      " 33  rougher.state.floatbank10_f_air             5856 non-null   float64\n",
      " 34  rougher.state.floatbank10_f_level           5856 non-null   float64\n",
      " 35  secondary_cleaner.state.floatbank2_a_air    5856 non-null   float64\n",
      " 36  secondary_cleaner.state.floatbank2_a_level  5856 non-null   float64\n",
      " 37  secondary_cleaner.state.floatbank2_b_air    5856 non-null   float64\n",
      " 38  secondary_cleaner.state.floatbank2_b_level  5856 non-null   float64\n",
      " 39  secondary_cleaner.state.floatbank3_a_air    5856 non-null   float64\n",
      " 40  secondary_cleaner.state.floatbank3_a_level  5856 non-null   float64\n",
      " 41  secondary_cleaner.state.floatbank3_b_air    5856 non-null   float64\n",
      " 42  secondary_cleaner.state.floatbank3_b_level  5856 non-null   float64\n",
      " 43  secondary_cleaner.state.floatbank4_a_air    5856 non-null   float64\n",
      " 44  secondary_cleaner.state.floatbank4_a_level  5856 non-null   float64\n",
      " 45  secondary_cleaner.state.floatbank4_b_air    5856 non-null   float64\n",
      " 46  secondary_cleaner.state.floatbank4_b_level  5856 non-null   float64\n",
      " 47  secondary_cleaner.state.floatbank5_a_air    5856 non-null   float64\n",
      " 48  secondary_cleaner.state.floatbank5_a_level  5856 non-null   float64\n",
      " 49  secondary_cleaner.state.floatbank5_b_air    5856 non-null   float64\n",
      " 50  secondary_cleaner.state.floatbank5_b_level  5856 non-null   float64\n",
      " 51  secondary_cleaner.state.floatbank6_a_air    5856 non-null   float64\n",
      " 52  secondary_cleaner.state.floatbank6_a_level  5856 non-null   float64\n",
      " 53  rougher.output.recovery                     5856 non-null   float64\n",
      " 54  final.output.recovery                       5856 non-null   float64\n",
      "dtypes: float64(54), object(1)\n",
      "memory usage: 2.5+ MB\n"
     ]
    }
   ],
   "source": [
    "test_df.info()"
   ]
  },
  {
   "cell_type": "code",
   "execution_count": 17,
   "metadata": {},
   "outputs": [],
   "source": [
    "train_primary_feed_size = train_df.loc[:, 'primary_cleaner.input.feed_size']\n",
    "train_rougher_feed_size = train_df.loc[:, 'rougher.input.feed_size']"
   ]
  },
  {
   "cell_type": "code",
   "execution_count": 18,
   "metadata": {},
   "outputs": [],
   "source": [
    "test_primary_feed_size = test_df.loc[:, 'primary_cleaner.input.feed_size']\n",
    "test_rougher_feed_size = test_df.loc[:, 'rougher.input.feed_size']"
   ]
  },
  {
   "cell_type": "code",
   "execution_count": 19,
   "metadata": {},
   "outputs": [
    {
     "data": {
      "image/png": "[encoded data removed]",
      "text/plain": [
       "<Figure size 800x600 with 1 Axes>"
      ]
     },
     "metadata": {},
     "output_type": "display_data"
    },
    {
     "data": {
      "image/png": "[encoded data removed]",
      "text/plain": [
       "<Figure size 800x600 with 1 Axes>"
      ]
     },
     "metadata": {},
     "output_type": "display_data"
    }
   ],
   "source": [
    "\n",
    "# Plot the normalized histogram of primary cleaner feed particle sizes\n",
    "plt.figure(figsize=(8, 6))  \n",
    "plt.hist(train_primary_feed_size.values.flatten(), bins=50, alpha=0.7, density=True, label='Training Data')\n",
    "plt.hist(test_primary_feed_size.values.flatten(), bins=50, alpha=0.7, density=True, label='Test Data')  \n",
    "plt.xlabel('Feed Particle Size')\n",
    "plt.ylabel('Frequency Density')\n",
    "plt.title('Primary Cleaner Feed Particle Size Distribution (Training and Test Data)')\n",
    "plt.legend()  \n",
    "plt.xlim(-10, 15)  \n",
    "plt.show()\n",
    "\n",
    "# Plot the normalized histogram of rougher feed particle sizes\n",
    "plt.figure(figsize=(8, 6))  \n",
    "plt.hist(train_rougher_feed_size.values.flatten(), bins=50, alpha=0.7, density=True, label='Training Data')\n",
    "plt.hist(test_rougher_feed_size.values.flatten(), bins=50, alpha=0.7, density=True, label='Test Data')  \n",
    "plt.xlabel('Feed Particle Size')\n",
    "plt.ylabel('Frequency Density')\n",
    "plt.title('Rougher Feed Particle Size Distribution (Training and Test Data)')\n",
    "plt.legend()  \n",
    "plt.xlim(-10, 15)  \n",
    "plt.show()"
   ]
  },
  {
   "cell_type": "markdown",
   "metadata": {},
   "source": [
    "Primary Cleaner Feed Particle Size Distribution\n",
    "\n",
    "The histogram shows a relatively symmetrical distribution with a slight skew to the right.\n",
    "The majority of the data points are concentrated between 0 and 10, with a peak around 5-6.\n",
    "There is a small tail of data points extending to the right, up to around 15.\n",
    "The training and test data distributions appear to be similar, with the test data having a slightly more pronounced peak.\n",
    "\n",
    "Rougher Feed Particle Size Distribution\n",
    "\n",
    "The histogram shows a more skewed distribution, with a longer tail to the right.\n",
    "The majority of the data points are concentrated between 0 and 5, with a peak around 2-3.\n",
    "There is a more pronounced tail of data points extending to the right, up to around 15.\n",
    "The training and test data distributions appear to be similar, but with some differences in the shape of the tail.\n",
    "Some observations and potential insights:\n",
    "\n",
    "The primary cleaner feed particle size distribution appears to be more symmetrical and concentrated around a central value, whereas the rougher feed particle size distribution is more skewed and has a longer tail.\n",
    "The rougher feed particle size distribution has a more pronounced tail, which could indicate the presence of outliers or extreme values.\n",
    "The similarities between the training and test data distributions suggest that the data is relatively consistent and well-represented in both datasets.\n",
    "The differences in the shape of the tail between the training and test data distributions for the rougher feed particle size could indicate some differences in the underlying processes or mechanisms that generate these values."
   ]
  },
  {
   "cell_type": "markdown",
   "metadata": {},
   "source": [
    "# 2.3 : Consider the total concentrations of all substances at different stages: raw feed, rougher concentrate, and final concentrate. Describe the findings and eliminate anomalies. \n"
   ]
  },
  {
   "cell_type": "code",
   "execution_count": 20,
   "metadata": {},
   "outputs": [],
   "source": [
    "train_df['rougher.input.feed_total'] = train_df['rougher.input.feed_au'] + \\\n",
    "                                     train_df['rougher.input.feed_ag'] + \\\n",
    "                                     train_df['rougher.input.feed_pb'] +\\\n",
    "                                     train_df['rougher.input.feed_sol']"
   ]
  },
  {
   "cell_type": "code",
   "execution_count": 21,
   "metadata": {
    "scrolled": false
   },
   "outputs": [
    {
     "data": {
      "image/png": "[encoded data removed]",
      "text/plain": [
       "<Figure size 640x480 with 1 Axes>"
      ]
     },
     "metadata": {},
     "output_type": "display_data"
    }
   ],
   "source": [
    "plt.hist(train_df['rougher.input.feed_total'], bins=20, alpha =0.7, label='Train Data Raw Feed')\n",
    "plt.title('Total Concentration of Raw Input Feed Distribution (Training Data)')\n",
    "plt.xlabel('Concentration')\n",
    "plt.ylabel('Frequency')\n",
    "plt.legend()\n",
    "plt.show()\n",
    "\n"
   ]
  },
  {
   "cell_type": "code",
   "execution_count": 22,
   "metadata": {
    "scrolled": true
   },
   "outputs": [],
   "source": [
    "train_df['rougher.output.concentrate_total'] = train_df['rougher.output.concentrate_au'] + \\\n",
    "                                     train_df['rougher.output.concentrate_ag'] + \\\n",
    "                                     train_df['rougher.output.concentrate_pb'] + \\\n",
    "                                     train_df['rougher.output.concentrate_sol']\n",
    "\n"
   ]
  },
  {
   "cell_type": "code",
   "execution_count": 23,
   "metadata": {},
   "outputs": [
    {
     "data": {
      "image/png": "[encoded data removed]",
      "text/plain": [
       "<Figure size 640x480 with 1 Axes>"
      ]
     },
     "metadata": {},
     "output_type": "display_data"
    }
   ],
   "source": [
    "plt.hist(train_df['rougher.output.concentrate_total'], bins=20, alpha =0.7, label='Test Data Pb')\n",
    "\n",
    "plt.title('Total Concentration of Rougher Output Distribution (Training Data)')\n",
    "plt.xlabel('Concentration')\n",
    "plt.ylabel('Frequency')\n",
    "plt.legend()\n",
    "plt.show()\n",
    "\n",
    "\n"
   ]
  },
  {
   "cell_type": "code",
   "execution_count": 24,
   "metadata": {},
   "outputs": [],
   "source": [
    "train_df['final.output.concentrate_total'] = train_df['final.output.concentrate_au'] + \\\n",
    "                                     train_df['final.output.concentrate_ag'] + \\\n",
    "                                     train_df['final.output.concentrate_pb'] +\\\n",
    "                                     train_df['final.output.concentrate_sol']"
   ]
  },
  {
   "cell_type": "code",
   "execution_count": 25,
   "metadata": {},
   "outputs": [
    {
     "data": {
      "image/png": "[encoded data removed]",
      "text/plain": [
       "<Figure size 640x480 with 1 Axes>"
      ]
     },
     "metadata": {},
     "output_type": "display_data"
    }
   ],
   "source": [
    "plt.hist(train_df['final.output.concentrate_total'], bins=20, alpha =0.7, label='Test Data Pb')\n",
    "\n",
    "plt.title('Total Concentration of Final Output Distribution (Training Data)')\n",
    "plt.xlabel('Concentration')\n",
    "plt.ylabel('Frequency')\n",
    "plt.legend()\n",
    "plt.show()\n",
    "\n"
   ]
  },
  {
   "cell_type": "markdown",
   "metadata": {},
   "source": [
    "The histograms show the distribution of the total concentration of raw input feed, rougher output, and final outpout in the training data. The first histogram shows a bimodal distribution, with peaks at -10 and 0. The second histogram shows a unimodal distribution, with a peak at 0. The third histogram shows a bimodal distribution, with peaks at -5 and 0.\n",
    "\n",
    "The anomalies in the histograms are the peaks at -10 in the first histogram and 0 in the second 2 graphs. These peaks are likely due to outliers in the data."
   ]
  },
  {
   "cell_type": "code",
   "execution_count": 26,
   "metadata": {},
   "outputs": [],
   "source": [
    "\n",
    "# Define a threshold for \"near-zero\" values\n",
    "threshold = 1e-1  # This can be adjusted based on domain knowledge\n",
    "\n",
    "# Remove rows with near-zero concentration at any stage\n",
    "cleaned_train_df = train_df[(train_df['rougher.input.feed_total'] > threshold) &\n",
    "                            (train_df['rougher.output.concentrate_total'] > threshold) &\n",
    "                            (train_df['final.output.concentrate_total'] > threshold)]"
   ]
  },
  {
   "cell_type": "markdown",
   "metadata": {},
   "source": [
    "Above I used the threshold method to eliminate anomolies/outliers in the data. By eliminating these anomalies, we can improve the quality of our data and reduce the impact of outliers on our analysis."
   ]
  },
  {
   "cell_type": "markdown",
   "metadata": {},
   "source": [
    "# 3. Build The Model"
   ]
  },
  {
   "cell_type": "markdown",
   "metadata": {},
   "source": [
    "# 3.1  Write a function to calculate the final sMAPE value."
   ]
  },
  {
   "cell_type": "code",
   "execution_count": 27,
   "metadata": {},
   "outputs": [],
   "source": [
    "def calculate_smape(actual, predicted):\n",
    "    smape = np.mean(np.abs(actual - predicted) / ((np.abs(actual) + np.abs(predicted))/2)) * 100\n",
    "    return smape"
   ]
  },
  {
   "cell_type": "code",
   "execution_count": 28,
   "metadata": {},
   "outputs": [],
   "source": [
    "smape_scorer = make_scorer(calculate_smape, greater_is_better=False, needs_proba=False)"
   ]
  },
  {
   "cell_type": "code",
   "execution_count": 29,
   "metadata": {},
   "outputs": [],
   "source": [
    "common_cols = set(train_df.columns) & set(test_df.columns)\n",
    "train_df = train_df[common_cols]\n"
   ]
  },
  {
   "cell_type": "code",
   "execution_count": 30,
   "metadata": {},
   "outputs": [],
   "source": [
    "train_df = train_df.loc[:, common_cols]\n",
    "test_df = test_df.loc[:, common_cols]"
   ]
  },
  {
   "cell_type": "code",
   "execution_count": 31,
   "metadata": {},
   "outputs": [],
   "source": [
    "# Define features and targets\n",
    "X_train = train_df.drop(['rougher.output.recovery', 'final.output.recovery','date'], axis=1)\n",
    "y1_train = train_df['rougher.output.recovery']\n",
    "y2_train = train_df['final.output.recovery']\n",
    "\n",
    "X_test = test_df.drop(['rougher.output.recovery', 'final.output.recovery','date'], axis=1)\n",
    "y1_test = test_df['rougher.output.recovery']\n",
    "y2_test = test_df['final.output.recovery']"
   ]
  },
  {
   "cell_type": "code",
   "execution_count": 32,
   "metadata": {},
   "outputs": [],
   "source": [
    "scaler = StandardScaler()\n",
    "X_train = scaler.fit_transform(X_train)\n",
    "X_test = scaler.transform(X_test)"
   ]
  },
  {
   "cell_type": "code",
   "execution_count": 33,
   "metadata": {},
   "outputs": [],
   "source": [
    "models = {\n",
    "    'Linear Regression': LinearRegression(),\n",
    "    'Decision Tree': DecisionTreeRegressor(random_state=1234),\n",
    "    'Random Forest': RandomForestRegressor(random_state=1234)\n",
    "}"
   ]
  },
  {
   "cell_type": "code",
   "execution_count": 34,
   "metadata": {},
   "outputs": [],
   "source": [
    "param_grids = {\n",
    "    'Linear Regression': {},\n",
    "    'Decision Tree': {'max_depth': [10, 20, 30]},\n",
    "    'Random Forest': {'n_estimators': [100, 200, 300]}\n",
    "}"
   ]
  },
  {
   "cell_type": "code",
   "execution_count": 35,
   "metadata": {},
   "outputs": [
    {
     "name": "stdout",
     "output_type": "stream",
     "text": [
      "Hyperparameter tuning for Linear Regression on target 1 completed\n",
      "Best SMAPE for Linear Regression on target 1: 11.97466094717232\n",
      "Best parameters for Linear Regression on target 1: {}\n",
      "Hyperparameter tuning for Linear Regression on target 2 completed\n",
      "Best SMAPE for Linear Regression on target 2: 12.424172560772933\n",
      "Best parameters for Linear Regression on target 2: {}\n",
      "Hyperparameter tuning for Decision Tree on target 1 completed\n",
      "Best SMAPE for Decision Tree on target 1: 12.723857590366517\n",
      "Best parameters for Decision Tree on target 1: {'max_depth': 10}\n",
      "Hyperparameter tuning for Decision Tree on target 2 completed\n",
      "Best SMAPE for Decision Tree on target 2: 16.379257165292763\n",
      "Best parameters for Decision Tree on target 2: {'max_depth': 10}\n",
      "Hyperparameter tuning for Random Forest on target 1 completed\n",
      "Best SMAPE for Random Forest on target 1: 16.462577288390357\n",
      "Best parameters for Random Forest on target 1: {'n_estimators': 100}\n",
      "Hyperparameter tuning for Random Forest on target 2 completed\n",
      "Best SMAPE for Random Forest on target 2: 14.858162139350004\n",
      "Best parameters for Random Forest on target 2: {'n_estimators': 200}\n"
     ]
    }
   ],
   "source": [
    "results = {}\n",
    "for model_name, model in models.items():\n",
    "    param_grid = param_grids[model_name]\n",
    "    results[model_name] = {}\n",
    "    \n",
    "    # Train model on first target\n",
    "    grid_search1 = GridSearchCV(model, param_grid, cv=5, scoring=smape_scorer)\n",
    "    try:\n",
    "        grid_search1.fit(X_train, y1_train)\n",
    "        y1_pred = grid_search1.predict(X_test)\n",
    "        smape1 = calculate_smape(y1_test, y1_pred)\n",
    "        results[model_name]['target1'] = {\n",
    "            'best_model': grid_search1.best_estimator_,\n",
    "            'best_smape': smape1,\n",
    "            'best_params': grid_search1.best_params_\n",
    "        }\n",
    "        print(f\"Hyperparameter tuning for {model_name} on target 1 completed\")\n",
    "        print(f\"Best SMAPE for {model_name} on target 1: {smape1}\")\n",
    "        print(f\"Best parameters for {model_name} on target 1: {grid_search1.best_params_}\")\n",
    "    except Exception as e:\n",
    "        print(f\"Error during hyperparameter tuning for {model_name} on target 1: {e}\")\n",
    "    \n",
    "    # Train model on second target\n",
    "    grid_search2 = GridSearchCV(model, param_grid, cv=5, scoring=smape_scorer)\n",
    "    try:\n",
    "        grid_search2.fit(X_train, y2_train)\n",
    "        y2_pred = grid_search2.predict(X_test)\n",
    "        smape2 = calculate_smape(y2_test, y2_pred)\n",
    "        results[model_name]['target2'] = {\n",
    "            'best_model': grid_search2.best_estimator_,\n",
    "            'best_smape': smape2,\n",
    "            'best_params': grid_search2.best_params_\n",
    "        }\n",
    "        print(f\"Hyperparameter tuning for {model_name} on target 2 completed\")\n",
    "        print(f\"Best SMAPE for {model_name} on target 2: {smape2}\")\n",
    "        print(f\"Best parameters for {model_name} on target 2: {grid_search2.best_params_}\")\n",
    "    except Exception as e:\n",
    "        print(f\"Error during hyperparameter tuning for {model_name} on target 2: {e}\")\n"
   ]
  },
  {
   "cell_type": "code",
   "execution_count": 36,
   "metadata": {},
   "outputs": [],
   "source": [
    "\n",
    "model_1 = LinearRegression()# initialize model constructor\n",
    "model_1.fit(X_train, y1_train) # train model on training set\n",
    "y1_pred = model_1.predict(X_test) # get model predictions on validation set\n",
    "\n",
    "model_2 =LinearRegression()\n",
    "model_2.fit(X_train, y2_train) # train model on training set\n",
    "y2_pred = model_1.predict(X_test) # get model predictions on validation set\n"
   ]
  },
  {
   "cell_type": "code",
   "execution_count": 37,
   "metadata": {},
   "outputs": [
    {
     "name": "stdout",
     "output_type": "stream",
     "text": [
      "SMAPE calculated on test data\n",
      "SMAPE1: 11.97%\n",
      "SMAPE2: 26.36%\n"
     ]
    }
   ],
   "source": [
    "smape1 = calculate_smape(y1_test, y1_pred)\n",
    "smape2 = calculate_smape(y2_test, y2_pred)\n",
    "\n",
    "print(\"SMAPE calculated on test data\")\n",
    "print(f\"SMAPE1: {smape1:.2f}%\")\n",
    "print(f\"SMAPE2: {smape2:.2f}%\")\n"
   ]
  },
  {
   "cell_type": "code",
   "execution_count": 38,
   "metadata": {},
   "outputs": [
    {
     "name": "stdout",
     "output_type": "stream",
     "text": [
      "Final SMAPE calculated\n",
      "Final SMAPE: 22.76%\n"
     ]
    }
   ],
   "source": [
    "final_smape = 0.25 * smape1 + 0.75 * smape2\n",
    "\n",
    "print(\"Final SMAPE calculated\")\n",
    "print(f\"Final SMAPE: {final_smape:.2f}%\")"
   ]
  },
  {
   "cell_type": "code",
   "execution_count": 39,
   "metadata": {},
   "outputs": [
    {
     "name": "stdout",
     "output_type": "stream",
     "text": [
      "Model 1 SMAPE: 11.97466094717232\n",
      "Constant Model 1 SMAPE: 9.948726994290135\n",
      "Model 2 SMAPE: 26.360877975674985\n",
      "Constant Model 2 SMAPE: 13.08791545567015\n",
      "Model Final SMAPE: 22.76432371854932\n",
      "Constant Model Final SMAPE: 12.303118340325145\n"
     ]
    }
   ],
   "source": [
    "# Sanity check: compare with best constant model\n",
    "best_constant_model_1 = np.mean(y1_test)\n",
    "best_constant_model_2 = np.mean(y2_test)\n",
    "constant_smape1 = calculate_smape(y1_test, [best_constant_model_1] * len(y1_test))\n",
    "constant_smape2 = calculate_smape(y2_test, [best_constant_model_2] * len(y2_test))\n",
    "constant_final_smape = 0.25 * constant_smape1 + 0.75 * constant_smape2\n",
    "\n",
    "print(\"Model 1 SMAPE:\", smape1)\n",
    "print(\"Constant Model 1 SMAPE:\", constant_smape1)\n",
    "print(\"Model 2 SMAPE:\", smape2)\n",
    "print(\"Constant Model 2 SMAPE:\", constant_smape2)\n",
    "\n",
    "\n",
    "print(\"Model Final SMAPE:\", final_smape)\n",
    "print(\"Constant Model Final SMAPE:\", constant_final_smape)"
   ]
  },
  {
   "cell_type": "markdown",
   "metadata": {},
   "source": [
    "Model 1: SMAPE (11.9747) > Constant Model 1 SMAPE (9.9487), indicating that the Constant Model 1 is a better predictor.\n",
    "Model 2: SMAPE (26.3609) > Constant Model 2 SMAPE (13.0879), indicating that the Constant Model 2 is a better predictor.\n",
    "Final Model: SMAPE (22.7643) > Constant Model Final SMAPE (12.3031), indicating that the Constant Model Final is a better predictor.\n",
    "In all cases, the constant models outperform their respective models, suggesting that the models need improvement. But still not performing to bad"
   ]
  }
 ],
 "metadata": {
  "ExecuteTimeLog": [
   {
    "duration": 2641,
    "start_time": "2024-09-14T21:02:59.781Z"
   },
   {
    "duration": 567,
    "start_time": "2024-09-14T21:14:56.317Z"
   },
   {
    "duration": 2,
    "start_time": "2024-09-14T21:15:28.759Z"
   },
   {
    "duration": 62,
    "start_time": "2024-09-14T21:15:30.566Z"
   },
   {
    "duration": 683,
    "start_time": "2024-09-14T21:15:48.765Z"
   },
   {
    "duration": 6,
    "start_time": "2024-09-14T21:47:59.357Z"
   },
   {
    "duration": 883,
    "start_time": "2024-09-14T21:48:57.172Z"
   },
   {
    "duration": 495,
    "start_time": "2024-09-14T21:48:58.057Z"
   },
   {
    "duration": 4,
    "start_time": "2024-09-14T21:48:58.554Z"
   },
   {
    "duration": 3,
    "start_time": "2024-09-14T21:49:14.501Z"
   },
   {
    "duration": 909,
    "start_time": "2024-09-14T21:54:15.832Z"
   },
   {
    "duration": 491,
    "start_time": "2024-09-14T21:54:16.743Z"
   },
   {
    "duration": 4,
    "start_time": "2024-09-14T21:54:17.236Z"
   },
   {
    "duration": 5,
    "start_time": "2024-09-14T21:56:01.413Z"
   },
   {
    "duration": 11,
    "start_time": "2024-09-14T22:00:58.908Z"
   },
   {
    "duration": 9,
    "start_time": "2024-09-14T22:01:17.016Z"
   },
   {
    "duration": 272,
    "start_time": "2024-09-14T22:04:19.352Z"
   },
   {
    "duration": 4,
    "start_time": "2024-09-14T22:04:32.969Z"
   },
   {
    "duration": 10,
    "start_time": "2024-09-14T22:07:05.277Z"
   },
   {
    "duration": 156,
    "start_time": "2024-09-15T18:11:48.825Z"
   },
   {
    "duration": 2601,
    "start_time": "2024-09-15T18:11:54.918Z"
   },
   {
    "duration": 709,
    "start_time": "2024-09-15T18:11:57.522Z"
   },
   {
    "duration": 9,
    "start_time": "2024-09-15T18:11:58.232Z"
   },
   {
    "duration": 4,
    "start_time": "2024-09-15T18:11:58.243Z"
   },
   {
    "duration": 11,
    "start_time": "2024-09-15T18:11:58.249Z"
   },
   {
    "duration": 119,
    "start_time": "2024-09-15T18:11:58.261Z"
   },
   {
    "duration": 19,
    "start_time": "2024-09-15T18:26:12.761Z"
   },
   {
    "duration": 4,
    "start_time": "2024-09-15T18:52:36.453Z"
   },
   {
    "duration": 8,
    "start_time": "2024-09-15T18:56:23.674Z"
   },
   {
    "duration": 267,
    "start_time": "2024-09-15T20:24:55.552Z"
   },
   {
    "duration": 7,
    "start_time": "2024-09-15T20:25:02.594Z"
   },
   {
    "duration": 12,
    "start_time": "2024-09-15T20:33:11.725Z"
   },
   {
    "duration": 479,
    "start_time": "2024-09-15T20:33:13.844Z"
   },
   {
    "duration": 7,
    "start_time": "2024-09-15T20:33:14.325Z"
   },
   {
    "duration": 4,
    "start_time": "2024-09-15T20:33:14.334Z"
   },
   {
    "duration": 10,
    "start_time": "2024-09-15T20:33:15.230Z"
   },
   {
    "duration": 84,
    "start_time": "2024-09-15T20:33:15.724Z"
   },
   {
    "duration": 19,
    "start_time": "2024-09-15T20:33:16.403Z"
   },
   {
    "duration": 6,
    "start_time": "2024-09-15T20:33:16.876Z"
   },
   {
    "duration": 4,
    "start_time": "2024-09-15T20:33:20.853Z"
   },
   {
    "duration": 6,
    "start_time": "2024-09-15T20:33:21.203Z"
   },
   {
    "duration": 93,
    "start_time": "2024-09-15T20:34:20.445Z"
   },
   {
    "duration": 14,
    "start_time": "2024-09-15T20:34:51.590Z"
   },
   {
    "duration": 115,
    "start_time": "2024-09-15T20:35:16.086Z"
   },
   {
    "duration": 8,
    "start_time": "2024-09-15T20:36:30.896Z"
   },
   {
    "duration": 580,
    "start_time": "2024-09-15T20:36:39.384Z"
   },
   {
    "duration": 125,
    "start_time": "2024-09-15T20:37:34.250Z"
   },
   {
    "duration": 8,
    "start_time": "2024-09-15T20:37:57.154Z"
   },
   {
    "duration": 9,
    "start_time": "2024-09-15T20:38:26.084Z"
   },
   {
    "duration": 7,
    "start_time": "2024-09-15T20:39:23.022Z"
   },
   {
    "duration": 5,
    "start_time": "2024-09-15T20:40:19.877Z"
   },
   {
    "duration": 15,
    "start_time": "2024-09-15T20:41:26.312Z"
   },
   {
    "duration": 75,
    "start_time": "2024-09-15T20:41:55.833Z"
   },
   {
    "duration": 124,
    "start_time": "2024-09-15T20:43:33.280Z"
   },
   {
    "duration": 4,
    "start_time": "2024-09-15T20:53:56.286Z"
   },
   {
    "duration": 920,
    "start_time": "2024-09-15T20:54:06.841Z"
   },
   {
    "duration": 497,
    "start_time": "2024-09-15T20:54:07.763Z"
   },
   {
    "duration": 9,
    "start_time": "2024-09-15T20:54:08.261Z"
   },
   {
    "duration": 4,
    "start_time": "2024-09-15T20:54:08.271Z"
   },
   {
    "duration": 10,
    "start_time": "2024-09-15T20:54:08.279Z"
   },
   {
    "duration": 112,
    "start_time": "2024-09-15T20:54:08.291Z"
   },
   {
    "duration": 27,
    "start_time": "2024-09-15T20:54:08.404Z"
   },
   {
    "duration": 6,
    "start_time": "2024-09-15T20:54:08.433Z"
   },
   {
    "duration": 3,
    "start_time": "2024-09-15T20:54:08.441Z"
   },
   {
    "duration": 7,
    "start_time": "2024-09-15T20:54:08.446Z"
   },
   {
    "duration": 3,
    "start_time": "2024-09-15T20:54:08.454Z"
   },
   {
    "duration": 131,
    "start_time": "2024-09-15T20:54:08.459Z"
   },
   {
    "duration": 7,
    "start_time": "2024-09-15T20:54:08.591Z"
   },
   {
    "duration": 5,
    "start_time": "2024-09-15T20:54:08.602Z"
   },
   {
    "duration": 116,
    "start_time": "2024-09-15T20:54:08.608Z"
   },
   {
    "duration": 160,
    "start_time": "2024-09-16T15:43:55.667Z"
   },
   {
    "duration": 2701,
    "start_time": "2024-09-16T15:44:07.597Z"
   },
   {
    "duration": 693,
    "start_time": "2024-09-16T15:44:10.300Z"
   },
   {
    "duration": 9,
    "start_time": "2024-09-16T15:44:10.995Z"
   },
   {
    "duration": 4,
    "start_time": "2024-09-16T15:44:11.007Z"
   },
   {
    "duration": 12,
    "start_time": "2024-09-16T15:44:11.013Z"
   },
   {
    "duration": 117,
    "start_time": "2024-09-16T15:44:11.026Z"
   },
   {
    "duration": 19,
    "start_time": "2024-09-16T15:44:11.145Z"
   },
   {
    "duration": 5,
    "start_time": "2024-09-16T15:44:11.166Z"
   },
   {
    "duration": 3,
    "start_time": "2024-09-16T15:44:11.186Z"
   },
   {
    "duration": 5,
    "start_time": "2024-09-16T15:44:11.192Z"
   },
   {
    "duration": 4,
    "start_time": "2024-09-16T15:44:11.199Z"
   },
   {
    "duration": 122,
    "start_time": "2024-09-16T15:44:11.204Z"
   },
   {
    "duration": 7,
    "start_time": "2024-09-16T15:44:11.328Z"
   },
   {
    "duration": 5,
    "start_time": "2024-09-16T15:44:11.336Z"
   },
   {
    "duration": 114,
    "start_time": "2024-09-16T15:44:11.343Z"
   },
   {
    "duration": 227,
    "start_time": "2024-09-16T22:09:09.360Z"
   },
   {
    "duration": 867,
    "start_time": "2024-09-16T22:09:23.865Z"
   },
   {
    "duration": 596,
    "start_time": "2024-09-16T22:09:24.735Z"
   },
   {
    "duration": 9,
    "start_time": "2024-09-16T22:09:25.333Z"
   },
   {
    "duration": 4,
    "start_time": "2024-09-16T22:09:25.344Z"
   },
   {
    "duration": 11,
    "start_time": "2024-09-16T22:09:25.352Z"
   },
   {
    "duration": 111,
    "start_time": "2024-09-16T22:09:25.364Z"
   },
   {
    "duration": 31,
    "start_time": "2024-09-16T22:09:25.477Z"
   },
   {
    "duration": 8,
    "start_time": "2024-09-16T22:09:25.510Z"
   },
   {
    "duration": 3,
    "start_time": "2024-09-16T22:09:25.520Z"
   },
   {
    "duration": 7,
    "start_time": "2024-09-16T22:09:25.525Z"
   },
   {
    "duration": 4,
    "start_time": "2024-09-16T22:09:25.534Z"
   },
   {
    "duration": 150,
    "start_time": "2024-09-16T22:09:25.539Z"
   },
   {
    "duration": 8,
    "start_time": "2024-09-16T22:09:25.696Z"
   },
   {
    "duration": 9,
    "start_time": "2024-09-16T22:09:25.707Z"
   },
   {
    "duration": 126,
    "start_time": "2024-09-16T22:09:25.718Z"
   },
   {
    "duration": 289,
    "start_time": "2024-09-16T22:09:25.846Z"
   },
   {
    "duration": 15,
    "start_time": "2024-09-16T22:09:41.676Z"
   },
   {
    "duration": 148,
    "start_time": "2024-09-16T22:09:58.208Z"
   },
   {
    "duration": 436,
    "start_time": "2024-09-16T22:10:47.477Z"
   },
   {
    "duration": 4,
    "start_time": "2024-09-16T22:14:56.388Z"
   },
   {
    "duration": 15,
    "start_time": "2024-09-16T22:18:29.691Z"
   },
   {
    "duration": 5,
    "start_time": "2024-09-16T22:18:41.301Z"
   },
   {
    "duration": 15,
    "start_time": "2024-09-16T22:20:49.619Z"
   },
   {
    "duration": 3,
    "start_time": "2024-09-16T22:20:57.731Z"
   },
   {
    "duration": 4,
    "start_time": "2024-09-16T22:20:58.338Z"
   },
   {
    "duration": 6,
    "start_time": "2024-09-16T22:20:58.859Z"
   },
   {
    "duration": 7,
    "start_time": "2024-09-16T22:21:14.258Z"
   },
   {
    "duration": 122,
    "start_time": "2024-09-16T22:23:17.597Z"
   },
   {
    "duration": 2282,
    "start_time": "2024-09-17T11:25:25.393Z"
   },
   {
    "duration": 936,
    "start_time": "2024-09-17T11:25:45.060Z"
   },
   {
    "duration": 736,
    "start_time": "2024-09-17T11:25:45.998Z"
   },
   {
    "duration": 15,
    "start_time": "2024-09-17T11:25:46.735Z"
   },
   {
    "duration": 5,
    "start_time": "2024-09-17T11:25:46.752Z"
   },
   {
    "duration": 12,
    "start_time": "2024-09-17T11:25:46.760Z"
   },
   {
    "duration": 109,
    "start_time": "2024-09-17T11:25:46.774Z"
   },
   {
    "duration": 20,
    "start_time": "2024-09-17T11:25:46.885Z"
   },
   {
    "duration": 7,
    "start_time": "2024-09-17T11:25:46.907Z"
   },
   {
    "duration": 4,
    "start_time": "2024-09-17T11:25:46.915Z"
   },
   {
    "duration": 6,
    "start_time": "2024-09-17T11:25:46.943Z"
   },
   {
    "duration": 4,
    "start_time": "2024-09-17T11:25:46.950Z"
   },
   {
    "duration": 126,
    "start_time": "2024-09-17T11:25:46.955Z"
   },
   {
    "duration": 7,
    "start_time": "2024-09-17T11:25:47.084Z"
   },
   {
    "duration": 4,
    "start_time": "2024-09-17T11:25:47.094Z"
   },
   {
    "duration": 115,
    "start_time": "2024-09-17T11:25:47.100Z"
   },
   {
    "duration": 3,
    "start_time": "2024-09-17T11:25:47.217Z"
   },
   {
    "duration": 4,
    "start_time": "2024-09-17T11:25:47.222Z"
   },
   {
    "duration": 17,
    "start_time": "2024-09-17T11:25:47.228Z"
   },
   {
    "duration": 5,
    "start_time": "2024-09-17T11:25:47.247Z"
   },
   {
    "duration": 193,
    "start_time": "2024-09-17T11:25:47.254Z"
   },
   {
    "duration": 124,
    "start_time": "2024-09-17T11:25:47.448Z"
   },
   {
    "duration": 13,
    "start_time": "2024-09-17T11:38:29.838Z"
   },
   {
    "duration": 3,
    "start_time": "2024-09-17T16:33:14.734Z"
   },
   {
    "duration": 11,
    "start_time": "2024-09-17T16:33:58.688Z"
   },
   {
    "duration": 10,
    "start_time": "2024-09-17T16:34:04.442Z"
   },
   {
    "duration": 421,
    "start_time": "2024-09-17T16:50:36.307Z"
   },
   {
    "duration": 3,
    "start_time": "2024-09-17T16:50:46.623Z"
   },
   {
    "duration": 393,
    "start_time": "2024-09-17T16:50:48.211Z"
   },
   {
    "duration": 473,
    "start_time": "2024-09-17T16:59:07.376Z"
   },
   {
    "duration": 216,
    "start_time": "2024-09-17T17:04:43.937Z"
   },
   {
    "duration": 383,
    "start_time": "2024-09-17T17:04:56.462Z"
   },
   {
    "duration": 317,
    "start_time": "2024-09-17T17:51:40.697Z"
   },
   {
    "duration": 314,
    "start_time": "2024-09-17T18:18:33.983Z"
   },
   {
    "duration": 162,
    "start_time": "2024-09-17T18:18:44.040Z"
   },
   {
    "duration": 165,
    "start_time": "2024-09-17T18:19:45.689Z"
   },
   {
    "duration": 8,
    "start_time": "2024-09-17T18:20:00.320Z"
   },
   {
    "duration": 155,
    "start_time": "2024-09-17T18:20:05.041Z"
   },
   {
    "duration": 174,
    "start_time": "2024-09-17T18:20:20.669Z"
   },
   {
    "duration": 5,
    "start_time": "2024-09-17T18:23:21.972Z"
   },
   {
    "duration": 19,
    "start_time": "2024-09-17T18:23:32.295Z"
   },
   {
    "duration": 281,
    "start_time": "2024-09-17T19:13:14.883Z"
   },
   {
    "duration": 269,
    "start_time": "2024-09-17T19:13:56.042Z"
   },
   {
    "duration": 267,
    "start_time": "2024-09-17T19:14:06.859Z"
   },
   {
    "duration": 282,
    "start_time": "2024-09-17T19:14:36.587Z"
   },
   {
    "duration": 264,
    "start_time": "2024-09-17T19:15:00.005Z"
   },
   {
    "duration": 3,
    "start_time": "2024-09-17T19:17:21.719Z"
   },
   {
    "duration": 131,
    "start_time": "2024-09-17T19:17:44.752Z"
   },
   {
    "duration": 224,
    "start_time": "2024-09-17T19:18:07.664Z"
   },
   {
    "duration": 5,
    "start_time": "2024-09-17T19:18:51.267Z"
   },
   {
    "duration": 166,
    "start_time": "2024-09-17T19:19:24.051Z"
   },
   {
    "duration": 179,
    "start_time": "2024-09-17T19:20:13.054Z"
   },
   {
    "duration": 176,
    "start_time": "2024-09-17T19:22:17.245Z"
   },
   {
    "duration": 159,
    "start_time": "2024-09-18T11:14:27.223Z"
   },
   {
    "duration": 2664,
    "start_time": "2024-09-18T11:14:34.065Z"
   },
   {
    "duration": 742,
    "start_time": "2024-09-18T11:14:36.731Z"
   },
   {
    "duration": 9,
    "start_time": "2024-09-18T11:14:37.474Z"
   },
   {
    "duration": 4,
    "start_time": "2024-09-18T11:14:37.484Z"
   },
   {
    "duration": 11,
    "start_time": "2024-09-18T11:14:37.490Z"
   },
   {
    "duration": 106,
    "start_time": "2024-09-18T11:14:37.502Z"
   },
   {
    "duration": 20,
    "start_time": "2024-09-18T11:14:37.609Z"
   },
   {
    "duration": 6,
    "start_time": "2024-09-18T11:14:37.630Z"
   },
   {
    "duration": 4,
    "start_time": "2024-09-18T11:14:37.638Z"
   },
   {
    "duration": 28,
    "start_time": "2024-09-18T11:14:37.643Z"
   },
   {
    "duration": 5,
    "start_time": "2024-09-18T11:14:37.672Z"
   },
   {
    "duration": 118,
    "start_time": "2024-09-18T11:14:37.678Z"
   },
   {
    "duration": 7,
    "start_time": "2024-09-18T11:14:37.797Z"
   },
   {
    "duration": 5,
    "start_time": "2024-09-18T11:14:37.807Z"
   },
   {
    "duration": 115,
    "start_time": "2024-09-18T11:14:37.813Z"
   },
   {
    "duration": 4,
    "start_time": "2024-09-18T11:14:37.929Z"
   },
   {
    "duration": 3,
    "start_time": "2024-09-18T11:14:37.934Z"
   },
   {
    "duration": 6,
    "start_time": "2024-09-18T11:14:37.939Z"
   },
   {
    "duration": 25,
    "start_time": "2024-09-18T11:14:37.946Z"
   },
   {
    "duration": 128,
    "start_time": "2024-09-18T11:14:37.972Z"
   },
   {
    "duration": 13,
    "start_time": "2024-09-18T11:14:38.102Z"
   },
   {
    "duration": 9,
    "start_time": "2024-09-18T11:14:38.117Z"
   },
   {
    "duration": 3,
    "start_time": "2024-09-18T11:14:38.128Z"
   },
   {
    "duration": 3,
    "start_time": "2024-09-18T11:14:38.133Z"
   },
   {
    "duration": 254,
    "start_time": "2024-09-18T11:14:38.137Z"
   },
   {
    "duration": 5,
    "start_time": "2024-09-18T11:14:38.392Z"
   },
   {
    "duration": 180,
    "start_time": "2024-09-18T11:14:38.399Z"
   },
   {
    "duration": 5,
    "start_time": "2024-09-18T11:14:38.581Z"
   },
   {
    "duration": 19,
    "start_time": "2024-09-18T11:14:38.587Z"
   },
   {
    "duration": 274,
    "start_time": "2024-09-18T11:15:27.604Z"
   },
   {
    "duration": 5,
    "start_time": "2024-09-18T11:15:33.014Z"
   },
   {
    "duration": 1317,
    "start_time": "2024-09-18T11:15:33.680Z"
   },
   {
    "duration": 5,
    "start_time": "2024-09-18T11:48:41.783Z"
   },
   {
    "duration": 4,
    "start_time": "2024-09-18T11:48:47.226Z"
   },
   {
    "duration": 170,
    "start_time": "2024-09-18T11:48:49.827Z"
   },
   {
    "duration": 3,
    "start_time": "2024-09-18T11:54:22.313Z"
   },
   {
    "duration": 4,
    "start_time": "2024-09-18T11:55:45.185Z"
   },
   {
    "duration": 142,
    "start_time": "2024-09-18T11:56:09.347Z"
   },
   {
    "duration": 137,
    "start_time": "2024-09-18T11:56:42.255Z"
   },
   {
    "duration": 475,
    "start_time": "2024-09-18T11:58:06.574Z"
   },
   {
    "duration": 4,
    "start_time": "2024-09-18T12:00:03.235Z"
   },
   {
    "duration": 4,
    "start_time": "2024-09-18T12:03:21.618Z"
   },
   {
    "duration": 143,
    "start_time": "2024-09-18T12:04:01.698Z"
   },
   {
    "duration": 233,
    "start_time": "2024-09-18T12:04:49.166Z"
   },
   {
    "duration": 14,
    "start_time": "2024-09-18T12:29:58.875Z"
   },
   {
    "duration": 3,
    "start_time": "2024-09-18T12:30:20.300Z"
   },
   {
    "duration": 5,
    "start_time": "2024-09-18T12:30:24.439Z"
   },
   {
    "duration": 19,
    "start_time": "2024-09-18T12:31:04.822Z"
   },
   {
    "duration": 21579,
    "start_time": "2024-09-18T12:31:32.870Z"
   },
   {
    "duration": 7,
    "start_time": "2024-09-18T12:34:10.441Z"
   },
   {
    "duration": 3,
    "start_time": "2024-09-18T12:41:59.748Z"
   },
   {
    "duration": 7,
    "start_time": "2024-09-18T12:42:24.493Z"
   },
   {
    "duration": 8,
    "start_time": "2024-09-18T12:44:18.607Z"
   },
   {
    "duration": 9,
    "start_time": "2024-09-18T12:46:25.485Z"
   },
   {
    "duration": 24,
    "start_time": "2024-09-18T12:46:38.170Z"
   },
   {
    "duration": 17,
    "start_time": "2024-09-18T12:46:42.521Z"
   },
   {
    "duration": 841,
    "start_time": "2024-09-18T12:47:30.756Z"
   },
   {
    "duration": 496,
    "start_time": "2024-09-18T12:47:31.601Z"
   },
   {
    "duration": 9,
    "start_time": "2024-09-18T12:47:32.098Z"
   },
   {
    "duration": 4,
    "start_time": "2024-09-18T12:47:32.109Z"
   },
   {
    "duration": 10,
    "start_time": "2024-09-18T12:47:32.115Z"
   },
   {
    "duration": 109,
    "start_time": "2024-09-18T12:47:32.128Z"
   },
   {
    "duration": 18,
    "start_time": "2024-09-18T12:47:32.239Z"
   },
   {
    "duration": 14,
    "start_time": "2024-09-18T12:47:32.258Z"
   },
   {
    "duration": 4,
    "start_time": "2024-09-18T12:47:32.274Z"
   },
   {
    "duration": 6,
    "start_time": "2024-09-18T12:47:32.280Z"
   },
   {
    "duration": 6,
    "start_time": "2024-09-18T12:47:32.288Z"
   },
   {
    "duration": 26,
    "start_time": "2024-09-18T12:47:32.295Z"
   },
   {
    "duration": 8,
    "start_time": "2024-09-18T12:47:32.323Z"
   },
   {
    "duration": 7,
    "start_time": "2024-09-18T12:47:32.369Z"
   },
   {
    "duration": 16,
    "start_time": "2024-09-18T12:47:32.377Z"
   },
   {
    "duration": 3,
    "start_time": "2024-09-18T12:47:32.394Z"
   },
   {
    "duration": 3,
    "start_time": "2024-09-18T12:47:32.399Z"
   },
   {
    "duration": 5,
    "start_time": "2024-09-18T12:47:32.404Z"
   },
   {
    "duration": 5,
    "start_time": "2024-09-18T12:47:32.410Z"
   },
   {
    "duration": 199,
    "start_time": "2024-09-18T12:47:32.417Z"
   },
   {
    "duration": 12,
    "start_time": "2024-09-18T12:47:32.618Z"
   },
   {
    "duration": 10,
    "start_time": "2024-09-18T12:47:32.631Z"
   },
   {
    "duration": 3,
    "start_time": "2024-09-18T12:47:32.643Z"
   },
   {
    "duration": 24,
    "start_time": "2024-09-18T12:47:32.647Z"
   },
   {
    "duration": 232,
    "start_time": "2024-09-18T12:47:32.672Z"
   },
   {
    "duration": 5,
    "start_time": "2024-09-18T12:47:32.906Z"
   },
   {
    "duration": 150,
    "start_time": "2024-09-18T12:47:32.912Z"
   },
   {
    "duration": 7,
    "start_time": "2024-09-18T12:47:33.064Z"
   },
   {
    "duration": 150,
    "start_time": "2024-09-18T12:47:33.073Z"
   },
   {
    "duration": 4,
    "start_time": "2024-09-18T12:47:33.225Z"
   },
   {
    "duration": 151,
    "start_time": "2024-09-18T12:47:33.230Z"
   },
   {
    "duration": 20,
    "start_time": "2024-09-18T12:47:33.383Z"
   },
   {
    "duration": 20,
    "start_time": "2024-09-18T12:47:55.422Z"
   },
   {
    "duration": 8,
    "start_time": "2024-09-18T12:52:18.621Z"
   },
   {
    "duration": 19,
    "start_time": "2024-09-18T12:52:29.004Z"
   },
   {
    "duration": 222,
    "start_time": "2024-09-18T12:54:49.800Z"
   },
   {
    "duration": 18,
    "start_time": "2024-09-18T12:54:59.331Z"
   },
   {
    "duration": 19,
    "start_time": "2024-09-18T13:24:50.735Z"
   },
   {
    "duration": 10,
    "start_time": "2024-09-18T13:25:58.072Z"
   },
   {
    "duration": 3,
    "start_time": "2024-09-18T14:50:35.362Z"
   },
   {
    "duration": 103,
    "start_time": "2024-09-18T15:03:36.416Z"
   },
   {
    "duration": 870,
    "start_time": "2024-09-18T15:05:48.933Z"
   },
   {
    "duration": 513,
    "start_time": "2024-09-18T15:05:49.805Z"
   },
   {
    "duration": 9,
    "start_time": "2024-09-18T15:05:50.319Z"
   },
   {
    "duration": 4,
    "start_time": "2024-09-18T15:05:50.330Z"
   },
   {
    "duration": 11,
    "start_time": "2024-09-18T15:05:50.336Z"
   },
   {
    "duration": 103,
    "start_time": "2024-09-18T15:05:50.348Z"
   },
   {
    "duration": 26,
    "start_time": "2024-09-18T15:05:50.453Z"
   },
   {
    "duration": 7,
    "start_time": "2024-09-18T15:05:50.481Z"
   },
   {
    "duration": 4,
    "start_time": "2024-09-18T15:05:50.489Z"
   },
   {
    "duration": 6,
    "start_time": "2024-09-18T15:05:50.496Z"
   },
   {
    "duration": 6,
    "start_time": "2024-09-18T15:05:50.504Z"
   },
   {
    "duration": 23,
    "start_time": "2024-09-18T15:05:50.513Z"
   },
   {
    "duration": 36,
    "start_time": "2024-09-18T15:05:50.538Z"
   },
   {
    "duration": 5,
    "start_time": "2024-09-18T15:05:50.576Z"
   },
   {
    "duration": 16,
    "start_time": "2024-09-18T15:05:50.582Z"
   },
   {
    "duration": 5,
    "start_time": "2024-09-18T15:05:50.600Z"
   },
   {
    "duration": 3,
    "start_time": "2024-09-18T15:05:50.607Z"
   },
   {
    "duration": 5,
    "start_time": "2024-09-18T15:05:50.612Z"
   },
   {
    "duration": 5,
    "start_time": "2024-09-18T15:05:50.619Z"
   },
   {
    "duration": 207,
    "start_time": "2024-09-18T15:05:50.626Z"
   },
   {
    "duration": 13,
    "start_time": "2024-09-18T15:05:50.835Z"
   },
   {
    "duration": 25,
    "start_time": "2024-09-18T15:05:50.849Z"
   },
   {
    "duration": 4,
    "start_time": "2024-09-18T15:05:50.876Z"
   },
   {
    "duration": 2,
    "start_time": "2024-09-18T15:05:50.882Z"
   },
   {
    "duration": 240,
    "start_time": "2024-09-18T15:05:50.886Z"
   },
   {
    "duration": 5,
    "start_time": "2024-09-18T15:05:51.127Z"
   },
   {
    "duration": 159,
    "start_time": "2024-09-18T15:05:51.134Z"
   },
   {
    "duration": 4,
    "start_time": "2024-09-18T15:05:51.297Z"
   },
   {
    "duration": 150,
    "start_time": "2024-09-18T15:05:51.302Z"
   },
   {
    "duration": 4,
    "start_time": "2024-09-18T15:05:51.453Z"
   },
   {
    "duration": 164,
    "start_time": "2024-09-18T15:05:51.469Z"
   },
   {
    "duration": 13,
    "start_time": "2024-09-18T15:05:51.635Z"
   },
   {
    "duration": 3,
    "start_time": "2024-09-18T15:05:51.650Z"
   },
   {
    "duration": 116,
    "start_time": "2024-09-18T15:05:51.654Z"
   },
   {
    "duration": 22,
    "start_time": "2024-09-18T15:07:12.330Z"
   },
   {
    "duration": 880,
    "start_time": "2024-09-18T15:07:18.718Z"
   },
   {
    "duration": 505,
    "start_time": "2024-09-18T15:07:19.600Z"
   },
   {
    "duration": 9,
    "start_time": "2024-09-18T15:07:20.107Z"
   },
   {
    "duration": 4,
    "start_time": "2024-09-18T15:07:20.118Z"
   },
   {
    "duration": 11,
    "start_time": "2024-09-18T15:07:20.124Z"
   },
   {
    "duration": 106,
    "start_time": "2024-09-18T15:07:20.137Z"
   },
   {
    "duration": 27,
    "start_time": "2024-09-18T15:07:20.244Z"
   },
   {
    "duration": 6,
    "start_time": "2024-09-18T15:07:20.272Z"
   },
   {
    "duration": 3,
    "start_time": "2024-09-18T15:07:20.280Z"
   },
   {
    "duration": 5,
    "start_time": "2024-09-18T15:07:20.287Z"
   },
   {
    "duration": 6,
    "start_time": "2024-09-18T15:07:20.293Z"
   },
   {
    "duration": 24,
    "start_time": "2024-09-18T15:07:20.301Z"
   },
   {
    "duration": 43,
    "start_time": "2024-09-18T15:07:20.327Z"
   },
   {
    "duration": 5,
    "start_time": "2024-09-18T15:07:20.372Z"
   },
   {
    "duration": 16,
    "start_time": "2024-09-18T15:07:20.378Z"
   },
   {
    "duration": 3,
    "start_time": "2024-09-18T15:07:20.396Z"
   },
   {
    "duration": 3,
    "start_time": "2024-09-18T15:07:20.401Z"
   },
   {
    "duration": 4,
    "start_time": "2024-09-18T15:07:20.406Z"
   },
   {
    "duration": 4,
    "start_time": "2024-09-18T15:07:20.412Z"
   },
   {
    "duration": 204,
    "start_time": "2024-09-18T15:07:20.417Z"
   },
   {
    "duration": 11,
    "start_time": "2024-09-18T15:07:20.623Z"
   },
   {
    "duration": 9,
    "start_time": "2024-09-18T15:07:20.636Z"
   },
   {
    "duration": 3,
    "start_time": "2024-09-18T15:07:20.647Z"
   },
   {
    "duration": 21,
    "start_time": "2024-09-18T15:07:20.651Z"
   },
   {
    "duration": 240,
    "start_time": "2024-09-18T15:07:20.674Z"
   },
   {
    "duration": 4,
    "start_time": "2024-09-18T15:07:20.916Z"
   },
   {
    "duration": 152,
    "start_time": "2024-09-18T15:07:20.922Z"
   },
   {
    "duration": 4,
    "start_time": "2024-09-18T15:07:21.078Z"
   },
   {
    "duration": 160,
    "start_time": "2024-09-18T15:07:21.083Z"
   },
   {
    "duration": 5,
    "start_time": "2024-09-18T15:07:21.244Z"
   },
   {
    "duration": 163,
    "start_time": "2024-09-18T15:07:21.250Z"
   },
   {
    "duration": 15,
    "start_time": "2024-09-18T15:07:21.415Z"
   },
   {
    "duration": 4,
    "start_time": "2024-09-18T15:07:21.431Z"
   },
   {
    "duration": 113,
    "start_time": "2024-09-18T15:07:21.436Z"
   },
   {
    "duration": 23,
    "start_time": "2024-09-18T15:08:56.897Z"
   },
   {
    "duration": 14,
    "start_time": "2024-09-18T15:09:11.192Z"
   },
   {
    "duration": 27,
    "start_time": "2024-09-18T15:09:26.365Z"
   },
   {
    "duration": 21,
    "start_time": "2024-09-18T15:09:32.633Z"
   },
   {
    "duration": 7,
    "start_time": "2024-09-18T15:09:38.911Z"
   },
   {
    "duration": 22,
    "start_time": "2024-09-18T15:09:46.058Z"
   },
   {
    "duration": 6,
    "start_time": "2024-09-18T15:09:47.705Z"
   },
   {
    "duration": 6,
    "start_time": "2024-09-18T15:09:51.211Z"
   },
   {
    "duration": 920,
    "start_time": "2024-09-18T15:10:01.285Z"
   },
   {
    "duration": 499,
    "start_time": "2024-09-18T15:10:02.208Z"
   },
   {
    "duration": 9,
    "start_time": "2024-09-18T15:10:02.709Z"
   },
   {
    "duration": 4,
    "start_time": "2024-09-18T15:10:02.719Z"
   },
   {
    "duration": 11,
    "start_time": "2024-09-18T15:10:02.726Z"
   },
   {
    "duration": 106,
    "start_time": "2024-09-18T15:10:02.739Z"
   },
   {
    "duration": 28,
    "start_time": "2024-09-18T15:10:02.847Z"
   },
   {
    "duration": 7,
    "start_time": "2024-09-18T15:10:02.876Z"
   },
   {
    "duration": 3,
    "start_time": "2024-09-18T15:10:02.884Z"
   },
   {
    "duration": 6,
    "start_time": "2024-09-18T15:10:02.889Z"
   },
   {
    "duration": 6,
    "start_time": "2024-09-18T15:10:02.897Z"
   },
   {
    "duration": 24,
    "start_time": "2024-09-18T15:10:02.905Z"
   },
   {
    "duration": 41,
    "start_time": "2024-09-18T15:10:02.930Z"
   },
   {
    "duration": 7,
    "start_time": "2024-09-18T15:10:02.975Z"
   },
   {
    "duration": 17,
    "start_time": "2024-09-18T15:10:02.983Z"
   },
   {
    "duration": 6,
    "start_time": "2024-09-18T15:10:03.002Z"
   },
   {
    "duration": 4,
    "start_time": "2024-09-18T15:10:03.009Z"
   },
   {
    "duration": 5,
    "start_time": "2024-09-18T15:10:03.014Z"
   },
   {
    "duration": 4,
    "start_time": "2024-09-18T15:10:03.021Z"
   },
   {
    "duration": 201,
    "start_time": "2024-09-18T15:10:03.027Z"
   },
   {
    "duration": 12,
    "start_time": "2024-09-18T15:10:03.230Z"
   },
   {
    "duration": 26,
    "start_time": "2024-09-18T15:10:03.244Z"
   },
   {
    "duration": 4,
    "start_time": "2024-09-18T15:10:03.272Z"
   },
   {
    "duration": 4,
    "start_time": "2024-09-18T15:10:03.277Z"
   },
   {
    "duration": 240,
    "start_time": "2024-09-18T15:10:03.283Z"
   },
   {
    "duration": 4,
    "start_time": "2024-09-18T15:10:03.525Z"
   },
   {
    "duration": 156,
    "start_time": "2024-09-18T15:10:03.531Z"
   },
   {
    "duration": 4,
    "start_time": "2024-09-18T15:10:03.688Z"
   },
   {
    "duration": 148,
    "start_time": "2024-09-18T15:10:03.694Z"
   },
   {
    "duration": 4,
    "start_time": "2024-09-18T15:10:03.844Z"
   },
   {
    "duration": 164,
    "start_time": "2024-09-18T15:10:03.850Z"
   },
   {
    "duration": 15,
    "start_time": "2024-09-18T15:10:04.016Z"
   },
   {
    "duration": 4,
    "start_time": "2024-09-18T15:10:04.033Z"
   },
   {
    "duration": 119,
    "start_time": "2024-09-18T15:10:04.039Z"
   },
   {
    "duration": 25,
    "start_time": "2024-09-18T15:11:46.485Z"
   },
   {
    "duration": 7,
    "start_time": "2024-09-18T15:11:47.579Z"
   },
   {
    "duration": 18,
    "start_time": "2024-09-18T15:14:12.249Z"
   },
   {
    "duration": 7,
    "start_time": "2024-09-18T15:14:14.057Z"
   },
   {
    "duration": 6,
    "start_time": "2024-09-18T15:14:23.994Z"
   },
   {
    "duration": 19,
    "start_time": "2024-09-18T15:14:26.649Z"
   },
   {
    "duration": 7,
    "start_time": "2024-09-18T15:14:27.326Z"
   },
   {
    "duration": 6,
    "start_time": "2024-09-18T15:14:27.900Z"
   },
   {
    "duration": 473,
    "start_time": "2024-09-18T15:17:15.598Z"
   },
   {
    "duration": 74,
    "start_time": "2024-09-18T15:17:58.036Z"
   },
   {
    "duration": 935,
    "start_time": "2024-09-18T15:18:07.504Z"
   },
   {
    "duration": 510,
    "start_time": "2024-09-18T15:18:08.441Z"
   },
   {
    "duration": 9,
    "start_time": "2024-09-18T15:18:08.953Z"
   },
   {
    "duration": 4,
    "start_time": "2024-09-18T15:18:08.969Z"
   },
   {
    "duration": 12,
    "start_time": "2024-09-18T15:18:08.975Z"
   },
   {
    "duration": 98,
    "start_time": "2024-09-18T15:18:08.988Z"
   },
   {
    "duration": 19,
    "start_time": "2024-09-18T15:18:09.088Z"
   },
   {
    "duration": 7,
    "start_time": "2024-09-18T15:18:09.109Z"
   },
   {
    "duration": 4,
    "start_time": "2024-09-18T15:18:09.118Z"
   },
   {
    "duration": 6,
    "start_time": "2024-09-18T15:18:09.125Z"
   },
   {
    "duration": 37,
    "start_time": "2024-09-18T15:18:09.132Z"
   },
   {
    "duration": 393,
    "start_time": "2024-09-18T15:18:09.172Z"
   },
   {
    "duration": 0,
    "start_time": "2024-09-18T15:18:09.571Z"
   },
   {
    "duration": 0,
    "start_time": "2024-09-18T15:18:09.572Z"
   },
   {
    "duration": 0,
    "start_time": "2024-09-18T15:18:09.573Z"
   },
   {
    "duration": 0,
    "start_time": "2024-09-18T15:18:09.575Z"
   },
   {
    "duration": 0,
    "start_time": "2024-09-18T15:18:09.576Z"
   },
   {
    "duration": 0,
    "start_time": "2024-09-18T15:18:09.577Z"
   },
   {
    "duration": 0,
    "start_time": "2024-09-18T15:18:09.578Z"
   },
   {
    "duration": 0,
    "start_time": "2024-09-18T15:18:09.579Z"
   },
   {
    "duration": 0,
    "start_time": "2024-09-18T15:18:09.580Z"
   },
   {
    "duration": 0,
    "start_time": "2024-09-18T15:18:09.582Z"
   },
   {
    "duration": 0,
    "start_time": "2024-09-18T15:18:09.583Z"
   },
   {
    "duration": 0,
    "start_time": "2024-09-18T15:18:09.583Z"
   },
   {
    "duration": 0,
    "start_time": "2024-09-18T15:18:09.585Z"
   },
   {
    "duration": 0,
    "start_time": "2024-09-18T15:18:09.586Z"
   },
   {
    "duration": 0,
    "start_time": "2024-09-18T15:18:09.587Z"
   },
   {
    "duration": 0,
    "start_time": "2024-09-18T15:18:09.588Z"
   },
   {
    "duration": 0,
    "start_time": "2024-09-18T15:18:09.589Z"
   },
   {
    "duration": 0,
    "start_time": "2024-09-18T15:18:09.591Z"
   },
   {
    "duration": 0,
    "start_time": "2024-09-18T15:18:09.592Z"
   },
   {
    "duration": 0,
    "start_time": "2024-09-18T15:18:09.593Z"
   },
   {
    "duration": 0,
    "start_time": "2024-09-18T15:18:09.594Z"
   },
   {
    "duration": 0,
    "start_time": "2024-09-18T15:18:09.597Z"
   },
   {
    "duration": 357,
    "start_time": "2024-09-18T15:33:03.256Z"
   },
   {
    "duration": 18,
    "start_time": "2024-09-18T15:34:09.324Z"
   },
   {
    "duration": 6,
    "start_time": "2024-09-18T15:34:12.188Z"
   },
   {
    "duration": 5,
    "start_time": "2024-09-18T15:34:15.274Z"
   },
   {
    "duration": 927,
    "start_time": "2024-09-18T15:34:46.107Z"
   },
   {
    "duration": 532,
    "start_time": "2024-09-18T15:34:47.036Z"
   },
   {
    "duration": 9,
    "start_time": "2024-09-18T15:34:47.570Z"
   },
   {
    "duration": 3,
    "start_time": "2024-09-18T15:34:47.581Z"
   },
   {
    "duration": 11,
    "start_time": "2024-09-18T15:34:47.588Z"
   },
   {
    "duration": 110,
    "start_time": "2024-09-18T15:34:47.600Z"
   },
   {
    "duration": 19,
    "start_time": "2024-09-18T15:34:47.712Z"
   },
   {
    "duration": 5,
    "start_time": "2024-09-18T15:34:47.733Z"
   },
   {
    "duration": 4,
    "start_time": "2024-09-18T15:34:47.740Z"
   },
   {
    "duration": 26,
    "start_time": "2024-09-18T15:34:47.746Z"
   },
   {
    "duration": 7,
    "start_time": "2024-09-18T15:34:47.774Z"
   },
   {
    "duration": 22,
    "start_time": "2024-09-18T15:34:47.783Z"
   },
   {
    "duration": 6,
    "start_time": "2024-09-18T15:34:47.807Z"
   },
   {
    "duration": 5,
    "start_time": "2024-09-18T15:34:47.817Z"
   },
   {
    "duration": 304,
    "start_time": "2024-09-18T15:34:47.824Z"
   },
   {
    "duration": 0,
    "start_time": "2024-09-18T15:34:48.130Z"
   },
   {
    "duration": 0,
    "start_time": "2024-09-18T15:34:48.130Z"
   },
   {
    "duration": 0,
    "start_time": "2024-09-18T15:34:48.132Z"
   },
   {
    "duration": 0,
    "start_time": "2024-09-18T15:34:48.133Z"
   },
   {
    "duration": 0,
    "start_time": "2024-09-18T15:34:48.134Z"
   },
   {
    "duration": 0,
    "start_time": "2024-09-18T15:34:48.135Z"
   },
   {
    "duration": 0,
    "start_time": "2024-09-18T15:34:48.136Z"
   },
   {
    "duration": 0,
    "start_time": "2024-09-18T15:34:48.137Z"
   },
   {
    "duration": 0,
    "start_time": "2024-09-18T15:34:48.138Z"
   },
   {
    "duration": 0,
    "start_time": "2024-09-18T15:34:48.140Z"
   },
   {
    "duration": 0,
    "start_time": "2024-09-18T15:34:48.141Z"
   },
   {
    "duration": 0,
    "start_time": "2024-09-18T15:34:48.142Z"
   },
   {
    "duration": 0,
    "start_time": "2024-09-18T15:34:48.143Z"
   },
   {
    "duration": 0,
    "start_time": "2024-09-18T15:34:48.144Z"
   },
   {
    "duration": 0,
    "start_time": "2024-09-18T15:34:48.145Z"
   },
   {
    "duration": 0,
    "start_time": "2024-09-18T15:34:48.170Z"
   },
   {
    "duration": 0,
    "start_time": "2024-09-18T15:34:48.171Z"
   },
   {
    "duration": 0,
    "start_time": "2024-09-18T15:34:48.172Z"
   },
   {
    "duration": 0,
    "start_time": "2024-09-18T15:34:48.172Z"
   },
   {
    "duration": 345,
    "start_time": "2024-09-18T15:36:23.196Z"
   },
   {
    "duration": 21,
    "start_time": "2024-09-18T15:37:10.558Z"
   },
   {
    "duration": 6,
    "start_time": "2024-09-18T15:37:11.084Z"
   },
   {
    "duration": 6,
    "start_time": "2024-09-18T15:37:13.562Z"
   },
   {
    "duration": 16,
    "start_time": "2024-09-18T15:37:16.298Z"
   },
   {
    "duration": 50,
    "start_time": "2024-09-18T15:39:12.763Z"
   },
   {
    "duration": 41,
    "start_time": "2024-09-18T15:40:22.686Z"
   },
   {
    "duration": 7,
    "start_time": "2024-09-18T15:40:24.733Z"
   },
   {
    "duration": 4,
    "start_time": "2024-09-18T15:40:35.782Z"
   },
   {
    "duration": 5,
    "start_time": "2024-09-18T15:40:42.942Z"
   },
   {
    "duration": 7,
    "start_time": "2024-09-18T15:40:44.125Z"
   },
   {
    "duration": 5,
    "start_time": "2024-09-18T15:40:54.790Z"
   },
   {
    "duration": 40,
    "start_time": "2024-09-18T15:41:13.303Z"
   },
   {
    "duration": 6,
    "start_time": "2024-09-18T15:41:15.695Z"
   },
   {
    "duration": 36,
    "start_time": "2024-09-18T15:41:30.782Z"
   },
   {
    "duration": 7,
    "start_time": "2024-09-18T15:41:32.736Z"
   },
   {
    "duration": 6,
    "start_time": "2024-09-18T15:41:33.386Z"
   },
   {
    "duration": 867,
    "start_time": "2024-09-18T15:41:43.833Z"
   },
   {
    "duration": 503,
    "start_time": "2024-09-18T15:41:44.702Z"
   },
   {
    "duration": 10,
    "start_time": "2024-09-18T15:41:45.206Z"
   },
   {
    "duration": 4,
    "start_time": "2024-09-18T15:41:45.218Z"
   },
   {
    "duration": 11,
    "start_time": "2024-09-18T15:41:45.225Z"
   },
   {
    "duration": 107,
    "start_time": "2024-09-18T15:41:45.237Z"
   },
   {
    "duration": 27,
    "start_time": "2024-09-18T15:41:45.346Z"
   },
   {
    "duration": 5,
    "start_time": "2024-09-18T15:41:45.375Z"
   },
   {
    "duration": 3,
    "start_time": "2024-09-18T15:41:45.382Z"
   },
   {
    "duration": 13,
    "start_time": "2024-09-18T15:41:45.386Z"
   },
   {
    "duration": 7,
    "start_time": "2024-09-18T15:41:45.401Z"
   },
   {
    "duration": 64,
    "start_time": "2024-09-18T15:41:45.410Z"
   },
   {
    "duration": 7,
    "start_time": "2024-09-18T15:41:45.476Z"
   },
   {
    "duration": 5,
    "start_time": "2024-09-18T15:41:45.487Z"
   },
   {
    "duration": 19,
    "start_time": "2024-09-18T15:41:45.494Z"
   },
   {
    "duration": 4,
    "start_time": "2024-09-18T15:41:45.514Z"
   },
   {
    "duration": 4,
    "start_time": "2024-09-18T15:41:45.519Z"
   },
   {
    "duration": 5,
    "start_time": "2024-09-18T15:41:45.524Z"
   },
   {
    "duration": 45,
    "start_time": "2024-09-18T15:41:45.530Z"
   },
   {
    "duration": 171,
    "start_time": "2024-09-18T15:41:45.576Z"
   },
   {
    "duration": 21,
    "start_time": "2024-09-18T15:41:45.749Z"
   },
   {
    "duration": 9,
    "start_time": "2024-09-18T15:41:45.772Z"
   },
   {
    "duration": 3,
    "start_time": "2024-09-18T15:41:45.783Z"
   },
   {
    "duration": 3,
    "start_time": "2024-09-18T15:41:45.788Z"
   },
   {
    "duration": 264,
    "start_time": "2024-09-18T15:41:45.792Z"
   },
   {
    "duration": 4,
    "start_time": "2024-09-18T15:41:46.057Z"
   },
   {
    "duration": 142,
    "start_time": "2024-09-18T15:41:46.069Z"
   },
   {
    "duration": 9,
    "start_time": "2024-09-18T15:41:46.213Z"
   },
   {
    "duration": 159,
    "start_time": "2024-09-18T15:41:46.226Z"
   },
   {
    "duration": 4,
    "start_time": "2024-09-18T15:41:46.387Z"
   },
   {
    "duration": 167,
    "start_time": "2024-09-18T15:41:46.393Z"
   },
   {
    "duration": 25,
    "start_time": "2024-09-18T15:41:46.562Z"
   },
   {
    "duration": 4,
    "start_time": "2024-09-18T15:41:46.588Z"
   },
   {
    "duration": 351768,
    "start_time": "2024-09-18T15:41:46.594Z"
   },
   {
    "duration": 161,
    "start_time": "2024-09-19T11:25:20.079Z"
   },
   {
    "duration": 2748,
    "start_time": "2024-09-19T11:25:25.772Z"
   },
   {
    "duration": 715,
    "start_time": "2024-09-19T11:25:28.522Z"
   },
   {
    "duration": 10,
    "start_time": "2024-09-19T11:25:29.238Z"
   },
   {
    "duration": 4,
    "start_time": "2024-09-19T11:25:29.250Z"
   },
   {
    "duration": 11,
    "start_time": "2024-09-19T11:25:29.257Z"
   },
   {
    "duration": 115,
    "start_time": "2024-09-19T11:25:29.270Z"
   },
   {
    "duration": 5,
    "start_time": "2024-09-19T11:25:29.388Z"
   },
   {
    "duration": 16,
    "start_time": "2024-09-19T11:25:29.395Z"
   },
   {
    "duration": 8,
    "start_time": "2024-09-19T11:25:29.413Z"
   },
   {
    "duration": 6,
    "start_time": "2024-09-19T11:25:29.423Z"
   },
   {
    "duration": 6,
    "start_time": "2024-09-19T11:25:29.431Z"
   },
   {
    "duration": 73,
    "start_time": "2024-09-19T11:25:29.439Z"
   },
   {
    "duration": 7,
    "start_time": "2024-09-19T11:25:29.514Z"
   },
   {
    "duration": 32,
    "start_time": "2024-09-19T11:25:29.525Z"
   },
   {
    "duration": 45,
    "start_time": "2024-09-19T11:25:29.559Z"
   },
   {
    "duration": 16,
    "start_time": "2024-09-19T11:25:29.606Z"
   },
   {
    "duration": 31,
    "start_time": "2024-09-19T11:25:29.623Z"
   },
   {
    "duration": 22,
    "start_time": "2024-09-19T11:25:29.656Z"
   },
   {
    "duration": 13,
    "start_time": "2024-09-19T11:25:29.679Z"
   },
   {
    "duration": 135,
    "start_time": "2024-09-19T11:25:29.695Z"
   },
   {
    "duration": 13,
    "start_time": "2024-09-19T11:25:29.832Z"
   },
   {
    "duration": 9,
    "start_time": "2024-09-19T11:25:29.847Z"
   },
   {
    "duration": 4,
    "start_time": "2024-09-19T11:25:29.858Z"
   },
   {
    "duration": 3,
    "start_time": "2024-09-19T11:25:29.864Z"
   },
   {
    "duration": 275,
    "start_time": "2024-09-19T11:25:29.869Z"
   },
   {
    "duration": 4,
    "start_time": "2024-09-19T11:25:30.145Z"
   },
   {
    "duration": 161,
    "start_time": "2024-09-19T11:25:30.151Z"
   },
   {
    "duration": 4,
    "start_time": "2024-09-19T11:25:30.315Z"
   },
   {
    "duration": 229,
    "start_time": "2024-09-19T11:25:30.321Z"
   },
   {
    "duration": 5,
    "start_time": "2024-09-19T11:25:30.552Z"
   },
   {
    "duration": 161,
    "start_time": "2024-09-19T11:25:30.558Z"
   },
   {
    "duration": 21,
    "start_time": "2024-09-19T11:25:30.722Z"
   },
   {
    "duration": 4,
    "start_time": "2024-09-19T11:25:30.745Z"
   },
   {
    "duration": 245,
    "start_time": "2024-09-19T11:25:30.750Z"
   },
   {
    "duration": 0,
    "start_time": "2024-09-19T11:25:30.997Z"
   },
   {
    "duration": 976,
    "start_time": "2024-09-19T11:25:56.011Z"
   },
   {
    "duration": 570,
    "start_time": "2024-09-19T11:25:56.989Z"
   },
   {
    "duration": 9,
    "start_time": "2024-09-19T11:25:57.561Z"
   },
   {
    "duration": 5,
    "start_time": "2024-09-19T11:25:57.571Z"
   },
   {
    "duration": 33,
    "start_time": "2024-09-19T11:25:57.579Z"
   },
   {
    "duration": 102,
    "start_time": "2024-09-19T11:25:57.614Z"
   },
   {
    "duration": 8,
    "start_time": "2024-09-19T11:25:57.720Z"
   },
   {
    "duration": 4,
    "start_time": "2024-09-19T11:25:57.730Z"
   },
   {
    "duration": 7,
    "start_time": "2024-09-19T11:25:57.737Z"
   },
   {
    "duration": 6,
    "start_time": "2024-09-19T11:25:57.746Z"
   },
   {
    "duration": 6,
    "start_time": "2024-09-19T11:25:57.754Z"
   },
   {
    "duration": 78,
    "start_time": "2024-09-19T11:25:57.761Z"
   },
   {
    "duration": 8,
    "start_time": "2024-09-19T11:25:57.840Z"
   },
   {
    "duration": 6,
    "start_time": "2024-09-19T11:25:57.852Z"
   },
   {
    "duration": 20,
    "start_time": "2024-09-19T11:25:57.860Z"
   },
   {
    "duration": 28,
    "start_time": "2024-09-19T11:25:57.882Z"
   },
   {
    "duration": 4,
    "start_time": "2024-09-19T11:25:57.912Z"
   },
   {
    "duration": 5,
    "start_time": "2024-09-19T11:25:57.919Z"
   },
   {
    "duration": 5,
    "start_time": "2024-09-19T11:25:57.926Z"
   },
   {
    "duration": 203,
    "start_time": "2024-09-19T11:25:57.933Z"
   },
   {
    "duration": 13,
    "start_time": "2024-09-19T11:25:58.138Z"
   },
   {
    "duration": 11,
    "start_time": "2024-09-19T11:25:58.153Z"
   },
   {
    "duration": 5,
    "start_time": "2024-09-19T11:25:58.165Z"
   },
   {
    "duration": 5,
    "start_time": "2024-09-19T11:25:58.172Z"
   },
   {
    "duration": 271,
    "start_time": "2024-09-19T11:25:58.179Z"
   },
   {
    "duration": 5,
    "start_time": "2024-09-19T11:25:58.452Z"
   },
   {
    "duration": 164,
    "start_time": "2024-09-19T11:25:58.459Z"
   },
   {
    "duration": 5,
    "start_time": "2024-09-19T11:25:58.625Z"
   },
   {
    "duration": 168,
    "start_time": "2024-09-19T11:25:58.632Z"
   },
   {
    "duration": 10,
    "start_time": "2024-09-19T11:25:58.803Z"
   },
   {
    "duration": 165,
    "start_time": "2024-09-19T11:25:58.816Z"
   },
   {
    "duration": 32,
    "start_time": "2024-09-19T11:25:58.983Z"
   },
   {
    "duration": 4,
    "start_time": "2024-09-19T11:25:59.017Z"
   },
   {
    "duration": 358657,
    "start_time": "2024-09-19T11:25:59.023Z"
   },
   {
    "duration": 3,
    "start_time": "2024-09-19T13:57:46.862Z"
   },
   {
    "duration": 4,
    "start_time": "2024-09-19T13:59:06.025Z"
   },
   {
    "duration": 240,
    "start_time": "2024-09-19T14:18:20.313Z"
   },
   {
    "duration": 994,
    "start_time": "2024-09-19T14:18:55.511Z"
   },
   {
    "duration": 512,
    "start_time": "2024-09-19T14:18:56.507Z"
   },
   {
    "duration": 8,
    "start_time": "2024-09-19T14:18:57.021Z"
   },
   {
    "duration": 4,
    "start_time": "2024-09-19T14:18:57.031Z"
   },
   {
    "duration": 11,
    "start_time": "2024-09-19T14:18:57.038Z"
   },
   {
    "duration": 206,
    "start_time": "2024-09-19T14:18:57.050Z"
   },
   {
    "duration": 6,
    "start_time": "2024-09-19T14:18:57.259Z"
   },
   {
    "duration": 4,
    "start_time": "2024-09-19T14:18:57.267Z"
   },
   {
    "duration": 11,
    "start_time": "2024-09-19T14:18:57.274Z"
   },
   {
    "duration": 30,
    "start_time": "2024-09-19T14:18:57.287Z"
   },
   {
    "duration": 7,
    "start_time": "2024-09-19T14:18:57.319Z"
   },
   {
    "duration": 49,
    "start_time": "2024-09-19T14:18:57.328Z"
   },
   {
    "duration": 30,
    "start_time": "2024-09-19T14:18:57.379Z"
   },
   {
    "duration": 8,
    "start_time": "2024-09-19T14:18:57.415Z"
   },
   {
    "duration": 21,
    "start_time": "2024-09-19T14:18:57.425Z"
   },
   {
    "duration": 3,
    "start_time": "2024-09-19T14:18:57.448Z"
   },
   {
    "duration": 3,
    "start_time": "2024-09-19T14:18:57.454Z"
   },
   {
    "duration": 5,
    "start_time": "2024-09-19T14:18:57.459Z"
   },
   {
    "duration": 5,
    "start_time": "2024-09-19T14:18:57.466Z"
   },
   {
    "duration": 173,
    "start_time": "2024-09-19T14:18:57.473Z"
   },
   {
    "duration": 13,
    "start_time": "2024-09-19T14:18:57.649Z"
   },
   {
    "duration": 12,
    "start_time": "2024-09-19T14:18:57.664Z"
   },
   {
    "duration": 4,
    "start_time": "2024-09-19T14:18:57.677Z"
   },
   {
    "duration": 4,
    "start_time": "2024-09-19T14:18:57.682Z"
   },
   {
    "duration": 284,
    "start_time": "2024-09-19T14:18:57.687Z"
   },
   {
    "duration": 4,
    "start_time": "2024-09-19T14:18:57.973Z"
   },
   {
    "duration": 158,
    "start_time": "2024-09-19T14:18:57.979Z"
   },
   {
    "duration": 5,
    "start_time": "2024-09-19T14:18:58.139Z"
   },
   {
    "duration": 166,
    "start_time": "2024-09-19T14:18:58.146Z"
   },
   {
    "duration": 4,
    "start_time": "2024-09-19T14:18:58.314Z"
   },
   {
    "duration": 170,
    "start_time": "2024-09-19T14:18:58.320Z"
   },
   {
    "duration": 25,
    "start_time": "2024-09-19T14:18:58.492Z"
   },
   {
    "duration": 4,
    "start_time": "2024-09-19T14:18:58.519Z"
   },
   {
    "duration": 358998,
    "start_time": "2024-09-19T14:18:58.526Z"
   },
   {
    "duration": 35121,
    "start_time": "2024-09-19T14:24:57.526Z"
   },
   {
    "duration": 4,
    "start_time": "2024-09-19T14:31:54.330Z"
   },
   {
    "duration": 34673,
    "start_time": "2024-09-19T14:31:59.173Z"
   },
   {
    "duration": 34883,
    "start_time": "2024-09-19T14:47:18.112Z"
   },
   {
    "duration": 6,
    "start_time": "2024-09-19T14:54:39.734Z"
   },
   {
    "duration": 2,
    "start_time": "2024-09-19T14:55:35.267Z"
   },
   {
    "duration": 5,
    "start_time": "2024-09-19T14:55:49.888Z"
   },
   {
    "duration": 88020,
    "start_time": "2024-09-19T17:15:02.703Z"
   },
   {
    "duration": 26322,
    "start_time": "2024-09-19T17:17:15.739Z"
   },
   {
    "duration": 105170,
    "start_time": "2024-09-19T17:19:17.044Z"
   },
   {
    "duration": 977,
    "start_time": "2024-09-19T17:46:38.231Z"
   },
   {
    "duration": 544,
    "start_time": "2024-09-19T17:46:39.210Z"
   },
   {
    "duration": 10,
    "start_time": "2024-09-19T17:46:39.757Z"
   },
   {
    "duration": 6,
    "start_time": "2024-09-19T17:46:39.770Z"
   },
   {
    "duration": 30,
    "start_time": "2024-09-19T17:46:39.781Z"
   },
   {
    "duration": 161,
    "start_time": "2024-09-19T17:46:39.813Z"
   },
   {
    "duration": 6,
    "start_time": "2024-09-19T17:46:39.976Z"
   },
   {
    "duration": 4,
    "start_time": "2024-09-19T17:46:39.983Z"
   },
   {
    "duration": 24,
    "start_time": "2024-09-19T17:46:39.989Z"
   },
   {
    "duration": 7,
    "start_time": "2024-09-19T17:46:40.015Z"
   },
   {
    "duration": 7,
    "start_time": "2024-09-19T17:46:40.024Z"
   },
   {
    "duration": 51,
    "start_time": "2024-09-19T17:46:40.032Z"
   },
   {
    "duration": 28,
    "start_time": "2024-09-19T17:46:40.085Z"
   },
   {
    "duration": 5,
    "start_time": "2024-09-19T17:46:40.116Z"
   },
   {
    "duration": 19,
    "start_time": "2024-09-19T17:46:40.122Z"
   },
   {
    "duration": 3,
    "start_time": "2024-09-19T17:46:40.143Z"
   },
   {
    "duration": 4,
    "start_time": "2024-09-19T17:46:40.148Z"
   },
   {
    "duration": 5,
    "start_time": "2024-09-19T17:46:40.155Z"
   },
   {
    "duration": 5,
    "start_time": "2024-09-19T17:46:40.161Z"
   },
   {
    "duration": 164,
    "start_time": "2024-09-19T17:46:40.167Z"
   },
   {
    "duration": 12,
    "start_time": "2024-09-19T17:46:40.333Z"
   },
   {
    "duration": 10,
    "start_time": "2024-09-19T17:46:40.346Z"
   },
   {
    "duration": 3,
    "start_time": "2024-09-19T17:46:40.358Z"
   },
   {
    "duration": 4,
    "start_time": "2024-09-19T17:46:40.363Z"
   },
   {
    "duration": 267,
    "start_time": "2024-09-19T17:46:40.370Z"
   },
   {
    "duration": 4,
    "start_time": "2024-09-19T17:46:40.639Z"
   },
   {
    "duration": 159,
    "start_time": "2024-09-19T17:46:40.644Z"
   },
   {
    "duration": 4,
    "start_time": "2024-09-19T17:46:40.809Z"
   },
   {
    "duration": 156,
    "start_time": "2024-09-19T17:46:40.815Z"
   },
   {
    "duration": 4,
    "start_time": "2024-09-19T17:46:40.973Z"
   },
   {
    "duration": 161,
    "start_time": "2024-09-19T17:46:40.979Z"
   },
   {
    "duration": 19,
    "start_time": "2024-09-19T17:46:41.142Z"
   },
   {
    "duration": 4,
    "start_time": "2024-09-19T17:46:41.162Z"
   },
   {
    "duration": 357783,
    "start_time": "2024-09-19T17:46:41.168Z"
   },
   {
    "duration": 240,
    "start_time": "2024-09-19T17:52:38.953Z"
   },
   {
    "duration": 0,
    "start_time": "2024-09-19T17:52:39.195Z"
   },
   {
    "duration": 0,
    "start_time": "2024-09-19T17:52:39.196Z"
   },
   {
    "duration": 32498,
    "start_time": "2024-09-19T18:56:30.747Z"
   },
   {
    "duration": 911,
    "start_time": "2024-09-19T18:58:30.493Z"
   },
   {
    "duration": 520,
    "start_time": "2024-09-19T18:58:31.407Z"
   },
   {
    "duration": 10,
    "start_time": "2024-09-19T18:58:31.929Z"
   },
   {
    "duration": 4,
    "start_time": "2024-09-19T18:58:31.941Z"
   },
   {
    "duration": 11,
    "start_time": "2024-09-19T18:58:31.949Z"
   },
   {
    "duration": 190,
    "start_time": "2024-09-19T18:58:31.961Z"
   },
   {
    "duration": 7,
    "start_time": "2024-09-19T18:58:32.153Z"
   },
   {
    "duration": 4,
    "start_time": "2024-09-19T18:58:32.162Z"
   },
   {
    "duration": 6,
    "start_time": "2024-09-19T18:58:32.169Z"
   },
   {
    "duration": 32,
    "start_time": "2024-09-19T18:58:32.177Z"
   },
   {
    "duration": 6,
    "start_time": "2024-09-19T18:58:32.211Z"
   },
   {
    "duration": 55,
    "start_time": "2024-09-19T18:58:32.219Z"
   },
   {
    "duration": 7,
    "start_time": "2024-09-19T18:58:32.276Z"
   },
   {
    "duration": 6,
    "start_time": "2024-09-19T18:58:32.312Z"
   },
   {
    "duration": 21,
    "start_time": "2024-09-19T18:58:32.319Z"
   },
   {
    "duration": 4,
    "start_time": "2024-09-19T18:58:32.342Z"
   },
   {
    "duration": 3,
    "start_time": "2024-09-19T18:58:32.348Z"
   },
   {
    "duration": 5,
    "start_time": "2024-09-19T18:58:32.353Z"
   },
   {
    "duration": 5,
    "start_time": "2024-09-19T18:58:32.360Z"
   },
   {
    "duration": 163,
    "start_time": "2024-09-19T18:58:32.367Z"
   },
   {
    "duration": 13,
    "start_time": "2024-09-19T18:58:32.532Z"
   },
   {
    "duration": 9,
    "start_time": "2024-09-19T18:58:32.547Z"
   },
   {
    "duration": 3,
    "start_time": "2024-09-19T18:58:32.557Z"
   },
   {
    "duration": 6,
    "start_time": "2024-09-19T18:58:32.562Z"
   },
   {
    "duration": 269,
    "start_time": "2024-09-19T18:58:32.570Z"
   },
   {
    "duration": 4,
    "start_time": "2024-09-19T18:58:32.841Z"
   },
   {
    "duration": 222,
    "start_time": "2024-09-19T18:58:32.847Z"
   },
   {
    "duration": 5,
    "start_time": "2024-09-19T18:58:33.071Z"
   },
   {
    "duration": 226,
    "start_time": "2024-09-19T18:58:33.079Z"
   },
   {
    "duration": 5,
    "start_time": "2024-09-19T18:58:33.309Z"
   },
   {
    "duration": 168,
    "start_time": "2024-09-19T18:58:33.315Z"
   },
   {
    "duration": 30,
    "start_time": "2024-09-19T18:58:33.485Z"
   },
   {
    "duration": 4,
    "start_time": "2024-09-19T18:58:33.516Z"
   },
   {
    "duration": 940,
    "start_time": "2024-09-19T19:03:57.268Z"
   },
   {
    "duration": 550,
    "start_time": "2024-09-19T19:03:58.210Z"
   },
   {
    "duration": 9,
    "start_time": "2024-09-19T19:03:58.762Z"
   },
   {
    "duration": 4,
    "start_time": "2024-09-19T19:03:58.773Z"
   },
   {
    "duration": 11,
    "start_time": "2024-09-19T19:03:58.781Z"
   },
   {
    "duration": 164,
    "start_time": "2024-09-19T19:03:58.794Z"
   },
   {
    "duration": 6,
    "start_time": "2024-09-19T19:03:58.960Z"
   },
   {
    "duration": 4,
    "start_time": "2024-09-19T19:03:58.968Z"
   },
   {
    "duration": 6,
    "start_time": "2024-09-19T19:03:58.974Z"
   },
   {
    "duration": 28,
    "start_time": "2024-09-19T19:03:58.982Z"
   },
   {
    "duration": 6,
    "start_time": "2024-09-19T19:03:59.012Z"
   },
   {
    "duration": 49,
    "start_time": "2024-09-19T19:03:59.021Z"
   },
   {
    "duration": 7,
    "start_time": "2024-09-19T19:03:59.072Z"
   },
   {
    "duration": 6,
    "start_time": "2024-09-19T19:03:59.111Z"
   },
   {
    "duration": 20,
    "start_time": "2024-09-19T19:03:59.119Z"
   },
   {
    "duration": 4,
    "start_time": "2024-09-19T19:03:59.141Z"
   },
   {
    "duration": 4,
    "start_time": "2024-09-19T19:03:59.147Z"
   },
   {
    "duration": 5,
    "start_time": "2024-09-19T19:03:59.153Z"
   },
   {
    "duration": 4,
    "start_time": "2024-09-19T19:03:59.160Z"
   },
   {
    "duration": 178,
    "start_time": "2024-09-19T19:03:59.167Z"
   },
   {
    "duration": 16,
    "start_time": "2024-09-19T19:03:59.348Z"
   },
   {
    "duration": 11,
    "start_time": "2024-09-19T19:03:59.367Z"
   },
   {
    "duration": 35,
    "start_time": "2024-09-19T19:03:59.379Z"
   },
   {
    "duration": 4,
    "start_time": "2024-09-19T19:03:59.416Z"
   },
   {
    "duration": 258,
    "start_time": "2024-09-19T19:03:59.422Z"
   },
   {
    "duration": 4,
    "start_time": "2024-09-19T19:03:59.682Z"
   },
   {
    "duration": 170,
    "start_time": "2024-09-19T19:03:59.688Z"
   },
   {
    "duration": 4,
    "start_time": "2024-09-19T19:03:59.860Z"
   },
   {
    "duration": 148,
    "start_time": "2024-09-19T19:03:59.866Z"
   },
   {
    "duration": 4,
    "start_time": "2024-09-19T19:04:00.016Z"
   },
   {
    "duration": 168,
    "start_time": "2024-09-19T19:04:00.023Z"
   },
   {
    "duration": 29,
    "start_time": "2024-09-19T19:04:00.194Z"
   },
   {
    "duration": 3,
    "start_time": "2024-09-19T19:04:00.225Z"
   },
   {
    "duration": 361256,
    "start_time": "2024-09-19T19:04:00.230Z"
   },
   {
    "duration": 166,
    "start_time": "2024-09-20T11:04:36.147Z"
   },
   {
    "duration": 2561,
    "start_time": "2024-09-20T11:04:41.485Z"
   },
   {
    "duration": 718,
    "start_time": "2024-09-20T11:04:44.048Z"
   },
   {
    "duration": 11,
    "start_time": "2024-09-20T11:04:44.767Z"
   },
   {
    "duration": 4,
    "start_time": "2024-09-20T11:04:44.781Z"
   },
   {
    "duration": 28,
    "start_time": "2024-09-20T11:04:44.787Z"
   },
   {
    "duration": 101,
    "start_time": "2024-09-20T11:04:44.817Z"
   },
   {
    "duration": 6,
    "start_time": "2024-09-20T11:04:44.919Z"
   },
   {
    "duration": 3,
    "start_time": "2024-09-20T11:04:44.927Z"
   },
   {
    "duration": 6,
    "start_time": "2024-09-20T11:04:44.932Z"
   },
   {
    "duration": 6,
    "start_time": "2024-09-20T11:04:44.941Z"
   },
   {
    "duration": 5,
    "start_time": "2024-09-20T11:04:44.949Z"
   },
   {
    "duration": 84,
    "start_time": "2024-09-20T11:04:44.955Z"
   },
   {
    "duration": 7,
    "start_time": "2024-09-20T11:04:45.041Z"
   },
   {
    "duration": 5,
    "start_time": "2024-09-20T11:04:45.050Z"
   },
   {
    "duration": 21,
    "start_time": "2024-09-20T11:04:45.056Z"
   },
   {
    "duration": 3,
    "start_time": "2024-09-20T11:04:45.079Z"
   },
   {
    "duration": 3,
    "start_time": "2024-09-20T11:04:45.108Z"
   },
   {
    "duration": 5,
    "start_time": "2024-09-20T11:04:45.113Z"
   },
   {
    "duration": 4,
    "start_time": "2024-09-20T11:04:45.120Z"
   },
   {
    "duration": 142,
    "start_time": "2024-09-20T11:04:45.126Z"
   },
   {
    "duration": 12,
    "start_time": "2024-09-20T11:04:45.270Z"
   },
   {
    "duration": 24,
    "start_time": "2024-09-20T11:04:45.284Z"
   },
   {
    "duration": 3,
    "start_time": "2024-09-20T11:04:45.310Z"
   },
   {
    "duration": 2,
    "start_time": "2024-09-20T11:04:45.315Z"
   },
   {
    "duration": 246,
    "start_time": "2024-09-20T11:04:45.319Z"
   },
   {
    "duration": 4,
    "start_time": "2024-09-20T11:04:45.568Z"
   },
   {
    "duration": 150,
    "start_time": "2024-09-20T11:04:45.573Z"
   },
   {
    "duration": 3,
    "start_time": "2024-09-20T11:04:45.727Z"
   },
   {
    "duration": 155,
    "start_time": "2024-09-20T11:04:45.732Z"
   },
   {
    "duration": 4,
    "start_time": "2024-09-20T11:04:45.888Z"
   },
   {
    "duration": 159,
    "start_time": "2024-09-20T11:04:45.894Z"
   },
   {
    "duration": 18,
    "start_time": "2024-09-20T11:04:46.054Z"
   },
   {
    "duration": 3,
    "start_time": "2024-09-20T11:04:46.074Z"
   },
   {
    "duration": 355432,
    "start_time": "2024-09-20T11:04:46.079Z"
   },
   {
    "duration": 1085972,
    "start_time": "2024-09-20T11:10:41.512Z"
   },
   {
    "duration": 0,
    "start_time": "2024-09-20T11:28:47.486Z"
   },
   {
    "duration": 0,
    "start_time": "2024-09-20T11:28:47.487Z"
   },
   {
    "duration": 936,
    "start_time": "2024-09-20T11:29:52.143Z"
   },
   {
    "duration": 519,
    "start_time": "2024-09-20T11:29:53.081Z"
   },
   {
    "duration": 10,
    "start_time": "2024-09-20T11:29:53.601Z"
   },
   {
    "duration": 4,
    "start_time": "2024-09-20T11:29:53.612Z"
   },
   {
    "duration": 11,
    "start_time": "2024-09-20T11:29:53.618Z"
   },
   {
    "duration": 160,
    "start_time": "2024-09-20T11:29:53.631Z"
   },
   {
    "duration": 6,
    "start_time": "2024-09-20T11:29:53.792Z"
   },
   {
    "duration": 3,
    "start_time": "2024-09-20T11:29:53.809Z"
   },
   {
    "duration": 5,
    "start_time": "2024-09-20T11:29:53.814Z"
   },
   {
    "duration": 6,
    "start_time": "2024-09-20T11:29:53.822Z"
   },
   {
    "duration": 5,
    "start_time": "2024-09-20T11:29:53.830Z"
   },
   {
    "duration": 72,
    "start_time": "2024-09-20T11:29:53.837Z"
   },
   {
    "duration": 7,
    "start_time": "2024-09-20T11:29:53.911Z"
   },
   {
    "duration": 5,
    "start_time": "2024-09-20T11:29:53.919Z"
   },
   {
    "duration": 18,
    "start_time": "2024-09-20T11:29:53.925Z"
   },
   {
    "duration": 3,
    "start_time": "2024-09-20T11:29:53.945Z"
   },
   {
    "duration": 3,
    "start_time": "2024-09-20T11:29:53.950Z"
   },
   {
    "duration": 4,
    "start_time": "2024-09-20T11:29:53.955Z"
   },
   {
    "duration": 4,
    "start_time": "2024-09-20T11:29:53.961Z"
   },
   {
    "duration": 164,
    "start_time": "2024-09-20T11:29:53.968Z"
   },
   {
    "duration": 12,
    "start_time": "2024-09-20T11:29:54.134Z"
   },
   {
    "duration": 10,
    "start_time": "2024-09-20T11:29:54.147Z"
   },
   {
    "duration": 3,
    "start_time": "2024-09-20T11:29:54.158Z"
   },
   {
    "duration": 4,
    "start_time": "2024-09-20T11:29:54.163Z"
   },
   {
    "duration": 259,
    "start_time": "2024-09-20T11:29:54.168Z"
   },
   {
    "duration": 4,
    "start_time": "2024-09-20T11:29:54.429Z"
   },
   {
    "duration": 152,
    "start_time": "2024-09-20T11:29:54.435Z"
   },
   {
    "duration": 3,
    "start_time": "2024-09-20T11:29:54.591Z"
   },
   {
    "duration": 150,
    "start_time": "2024-09-20T11:29:54.596Z"
   },
   {
    "duration": 5,
    "start_time": "2024-09-20T11:29:54.748Z"
   },
   {
    "duration": 160,
    "start_time": "2024-09-20T11:29:54.755Z"
   },
   {
    "duration": 19,
    "start_time": "2024-09-20T11:29:54.917Z"
   },
   {
    "duration": 4,
    "start_time": "2024-09-20T11:29:54.937Z"
   },
   {
    "duration": 356229,
    "start_time": "2024-09-20T11:29:54.943Z"
   },
   {
    "duration": 2441292,
    "start_time": "2024-09-20T11:35:51.174Z"
   },
   {
    "duration": 0,
    "start_time": "2024-09-20T12:16:32.468Z"
   },
   {
    "duration": 0,
    "start_time": "2024-09-20T12:16:32.469Z"
   },
   {
    "duration": 0,
    "start_time": "2024-09-20T12:16:32.471Z"
   },
   {
    "duration": 22,
    "start_time": "2024-09-20T12:22:36.797Z"
   },
   {
    "duration": 23,
    "start_time": "2024-09-20T12:22:49.567Z"
   },
   {
    "duration": 81753,
    "start_time": "2024-09-20T12:23:04.435Z"
   },
   {
    "duration": 60530,
    "start_time": "2024-09-20T12:31:06.422Z"
   },
   {
    "duration": 889618,
    "start_time": "2024-09-20T12:33:28.822Z"
   },
   {
    "duration": 0,
    "start_time": "2024-09-20T12:48:18.442Z"
   },
   {
    "duration": 60531,
    "start_time": "2024-09-20T12:48:22.878Z"
   },
   {
    "duration": 67997,
    "start_time": "2024-09-20T12:59:07.802Z"
   },
   {
    "duration": 34658,
    "start_time": "2024-09-20T13:01:12.313Z"
   },
   {
    "duration": 27267,
    "start_time": "2024-09-20T13:02:11.244Z"
   },
   {
    "duration": 2675,
    "start_time": "2024-09-20T13:50:38.307Z"
   },
   {
    "duration": 674,
    "start_time": "2024-09-20T13:50:40.985Z"
   },
   {
    "duration": 9,
    "start_time": "2024-09-20T13:50:41.661Z"
   },
   {
    "duration": 5,
    "start_time": "2024-09-20T13:50:41.673Z"
   },
   {
    "duration": 11,
    "start_time": "2024-09-20T13:50:41.680Z"
   },
   {
    "duration": 105,
    "start_time": "2024-09-20T13:50:41.693Z"
   },
   {
    "duration": 7,
    "start_time": "2024-09-20T13:50:41.799Z"
   },
   {
    "duration": 4,
    "start_time": "2024-09-20T13:50:41.808Z"
   },
   {
    "duration": 5,
    "start_time": "2024-09-20T13:50:41.814Z"
   },
   {
    "duration": 24,
    "start_time": "2024-09-20T13:50:41.822Z"
   },
   {
    "duration": 4,
    "start_time": "2024-09-20T13:50:41.848Z"
   },
   {
    "duration": 49,
    "start_time": "2024-09-20T13:50:41.854Z"
   },
   {
    "duration": 7,
    "start_time": "2024-09-20T13:50:41.905Z"
   },
   {
    "duration": 6,
    "start_time": "2024-09-20T13:50:41.942Z"
   },
   {
    "duration": 20,
    "start_time": "2024-09-20T13:50:41.950Z"
   },
   {
    "duration": 4,
    "start_time": "2024-09-20T13:50:41.972Z"
   },
   {
    "duration": 4,
    "start_time": "2024-09-20T13:50:41.977Z"
   },
   {
    "duration": 5,
    "start_time": "2024-09-20T13:50:41.982Z"
   },
   {
    "duration": 4,
    "start_time": "2024-09-20T13:50:41.989Z"
   },
   {
    "duration": 160,
    "start_time": "2024-09-20T13:50:41.995Z"
   },
   {
    "duration": 75,
    "start_time": "2024-09-20T13:50:42.157Z"
   },
   {
    "duration": 10,
    "start_time": "2024-09-20T13:50:42.243Z"
   },
   {
    "duration": 3,
    "start_time": "2024-09-20T13:50:42.255Z"
   },
   {
    "duration": 3,
    "start_time": "2024-09-20T13:50:42.259Z"
   },
   {
    "duration": 252,
    "start_time": "2024-09-20T13:50:42.264Z"
   },
   {
    "duration": 4,
    "start_time": "2024-09-20T13:50:42.519Z"
   },
   {
    "duration": 154,
    "start_time": "2024-09-20T13:50:42.524Z"
   },
   {
    "duration": 4,
    "start_time": "2024-09-20T13:50:42.683Z"
   },
   {
    "duration": 154,
    "start_time": "2024-09-20T13:50:42.688Z"
   },
   {
    "duration": 4,
    "start_time": "2024-09-20T13:50:42.845Z"
   },
   {
    "duration": 170,
    "start_time": "2024-09-20T13:50:42.851Z"
   },
   {
    "duration": 25,
    "start_time": "2024-09-20T13:50:43.023Z"
   },
   {
    "duration": 4,
    "start_time": "2024-09-20T13:50:43.050Z"
   },
   {
    "duration": 288,
    "start_time": "2024-09-20T13:50:43.056Z"
   },
   {
    "duration": 0,
    "start_time": "2024-09-20T13:50:43.346Z"
   },
   {
    "duration": 0,
    "start_time": "2024-09-20T13:50:43.347Z"
   },
   {
    "duration": 0,
    "start_time": "2024-09-20T13:50:43.349Z"
   },
   {
    "duration": 0,
    "start_time": "2024-09-20T13:50:43.350Z"
   },
   {
    "duration": 358276,
    "start_time": "2024-09-20T14:05:51.528Z"
   },
   {
    "duration": 2713,
    "start_time": "2024-09-20T16:22:07.189Z"
   },
   {
    "duration": 657,
    "start_time": "2024-09-20T16:22:09.904Z"
   },
   {
    "duration": 9,
    "start_time": "2024-09-20T16:22:10.562Z"
   },
   {
    "duration": 3,
    "start_time": "2024-09-20T16:22:10.574Z"
   },
   {
    "duration": 10,
    "start_time": "2024-09-20T16:22:10.579Z"
   },
   {
    "duration": 107,
    "start_time": "2024-09-20T16:22:10.590Z"
   },
   {
    "duration": 6,
    "start_time": "2024-09-20T16:22:10.699Z"
   },
   {
    "duration": 4,
    "start_time": "2024-09-20T16:22:10.707Z"
   },
   {
    "duration": 5,
    "start_time": "2024-09-20T16:22:10.713Z"
   },
   {
    "duration": 6,
    "start_time": "2024-09-20T16:22:10.722Z"
   },
   {
    "duration": 5,
    "start_time": "2024-09-20T16:22:10.730Z"
   },
   {
    "duration": 48,
    "start_time": "2024-09-20T16:22:10.769Z"
   },
   {
    "duration": 6,
    "start_time": "2024-09-20T16:22:10.819Z"
   },
   {
    "duration": 5,
    "start_time": "2024-09-20T16:22:10.827Z"
   },
   {
    "duration": 45,
    "start_time": "2024-09-20T16:22:10.834Z"
   },
   {
    "duration": 4,
    "start_time": "2024-09-20T16:22:10.880Z"
   },
   {
    "duration": 3,
    "start_time": "2024-09-20T16:22:10.886Z"
   },
   {
    "duration": 6,
    "start_time": "2024-09-20T16:22:10.890Z"
   },
   {
    "duration": 5,
    "start_time": "2024-09-20T16:22:10.897Z"
   },
   {
    "duration": 141,
    "start_time": "2024-09-20T16:22:10.903Z"
   },
   {
    "duration": 11,
    "start_time": "2024-09-20T16:22:11.046Z"
   },
   {
    "duration": 20,
    "start_time": "2024-09-20T16:22:11.058Z"
   },
   {
    "duration": 3,
    "start_time": "2024-09-20T16:22:11.079Z"
   },
   {
    "duration": 3,
    "start_time": "2024-09-20T16:22:11.084Z"
   },
   {
    "duration": 301,
    "start_time": "2024-09-20T16:22:11.089Z"
   },
   {
    "duration": 4,
    "start_time": "2024-09-20T16:22:11.392Z"
   },
   {
    "duration": 152,
    "start_time": "2024-09-20T16:22:11.398Z"
   },
   {
    "duration": 16,
    "start_time": "2024-09-20T16:22:11.554Z"
   },
   {
    "duration": 145,
    "start_time": "2024-09-20T16:22:11.571Z"
   },
   {
    "duration": 4,
    "start_time": "2024-09-20T16:22:11.718Z"
   },
   {
    "duration": 157,
    "start_time": "2024-09-20T16:22:11.724Z"
   },
   {
    "duration": 19,
    "start_time": "2024-09-20T16:22:11.883Z"
   },
   {
    "duration": 4,
    "start_time": "2024-09-20T16:22:11.903Z"
   },
   {
    "duration": 354016,
    "start_time": "2024-09-20T16:22:11.908Z"
   },
   {
    "duration": 5011338,
    "start_time": "2024-09-20T16:33:58.850Z"
   },
   {
    "duration": 0,
    "start_time": "2024-09-20T17:57:30.191Z"
   },
   {
    "duration": 0,
    "start_time": "2024-09-20T17:57:30.194Z"
   },
   {
    "duration": 3766,
    "start_time": "2024-09-20T17:58:46.037Z"
   },
   {
    "duration": 20298,
    "start_time": "2024-09-20T18:00:03.606Z"
   },
   {
    "duration": 34814,
    "start_time": "2024-09-20T18:00:34.079Z"
   },
   {
    "duration": 4,
    "start_time": "2024-09-20T18:01:17.894Z"
   },
   {
    "duration": 8,
    "start_time": "2024-09-20T18:22:53.094Z"
   },
   {
    "duration": 2197,
    "start_time": "2024-09-20T19:11:06.693Z"
   },
   {
    "duration": 926,
    "start_time": "2024-09-20T19:11:39.310Z"
   },
   {
    "duration": 730,
    "start_time": "2024-09-20T19:11:40.238Z"
   },
   {
    "duration": 10,
    "start_time": "2024-09-20T19:11:40.970Z"
   },
   {
    "duration": 5,
    "start_time": "2024-09-20T19:11:40.983Z"
   },
   {
    "duration": 12,
    "start_time": "2024-09-20T19:11:40.991Z"
   },
   {
    "duration": 162,
    "start_time": "2024-09-20T19:11:41.005Z"
   },
   {
    "duration": 6,
    "start_time": "2024-09-20T19:11:41.168Z"
   },
   {
    "duration": 3,
    "start_time": "2024-09-20T19:11:41.177Z"
   },
   {
    "duration": 6,
    "start_time": "2024-09-20T19:11:41.183Z"
   },
   {
    "duration": 7,
    "start_time": "2024-09-20T19:11:41.192Z"
   },
   {
    "duration": 33,
    "start_time": "2024-09-20T19:11:41.201Z"
   },
   {
    "duration": 59,
    "start_time": "2024-09-20T19:11:41.236Z"
   },
   {
    "duration": 8,
    "start_time": "2024-09-20T19:11:41.297Z"
   },
   {
    "duration": 23,
    "start_time": "2024-09-20T19:11:41.310Z"
   },
   {
    "duration": 23,
    "start_time": "2024-09-20T19:11:41.335Z"
   },
   {
    "duration": 7,
    "start_time": "2024-09-20T19:11:41.361Z"
   },
   {
    "duration": 3,
    "start_time": "2024-09-20T19:11:41.370Z"
   },
   {
    "duration": 3,
    "start_time": "2024-09-20T19:11:41.375Z"
   },
   {
    "duration": 2,
    "start_time": "2024-09-20T19:11:41.380Z"
   },
   {
    "duration": 728,
    "start_time": "2024-09-20T19:11:41.384Z"
   },
   {
    "duration": 0,
    "start_time": "2024-09-20T19:11:42.116Z"
   },
   {
    "duration": 0,
    "start_time": "2024-09-20T19:11:42.117Z"
   },
   {
    "duration": 0,
    "start_time": "2024-09-20T19:11:42.119Z"
   },
   {
    "duration": 0,
    "start_time": "2024-09-20T19:11:42.120Z"
   },
   {
    "duration": 0,
    "start_time": "2024-09-20T19:11:42.121Z"
   },
   {
    "duration": 0,
    "start_time": "2024-09-20T19:11:42.122Z"
   },
   {
    "duration": 0,
    "start_time": "2024-09-20T19:11:42.123Z"
   },
   {
    "duration": 0,
    "start_time": "2024-09-20T19:11:42.124Z"
   },
   {
    "duration": 0,
    "start_time": "2024-09-20T19:11:42.131Z"
   },
   {
    "duration": 0,
    "start_time": "2024-09-20T19:11:42.132Z"
   },
   {
    "duration": 0,
    "start_time": "2024-09-20T19:11:42.133Z"
   },
   {
    "duration": 0,
    "start_time": "2024-09-20T19:11:42.136Z"
   },
   {
    "duration": 0,
    "start_time": "2024-09-20T19:11:42.137Z"
   },
   {
    "duration": 0,
    "start_time": "2024-09-20T19:11:42.137Z"
   },
   {
    "duration": 0,
    "start_time": "2024-09-20T19:11:42.139Z"
   },
   {
    "duration": 0,
    "start_time": "2024-09-20T19:11:42.140Z"
   },
   {
    "duration": 657,
    "start_time": "2024-09-20T19:12:07.824Z"
   },
   {
    "duration": 167,
    "start_time": "2024-09-23T12:08:28.689Z"
   },
   {
    "duration": 2649,
    "start_time": "2024-09-23T12:08:35.784Z"
   },
   {
    "duration": 694,
    "start_time": "2024-09-23T12:08:38.436Z"
   },
   {
    "duration": 8,
    "start_time": "2024-09-23T12:08:39.132Z"
   },
   {
    "duration": 3,
    "start_time": "2024-09-23T12:08:39.142Z"
   },
   {
    "duration": 10,
    "start_time": "2024-09-23T12:08:39.148Z"
   },
   {
    "duration": 108,
    "start_time": "2024-09-23T12:08:39.160Z"
   },
   {
    "duration": 5,
    "start_time": "2024-09-23T12:08:39.270Z"
   },
   {
    "duration": 4,
    "start_time": "2024-09-23T12:08:39.276Z"
   },
   {
    "duration": 5,
    "start_time": "2024-09-23T12:08:39.282Z"
   },
   {
    "duration": 23,
    "start_time": "2024-09-23T12:08:39.289Z"
   },
   {
    "duration": 5,
    "start_time": "2024-09-23T12:08:39.313Z"
   },
   {
    "duration": 47,
    "start_time": "2024-09-23T12:08:39.319Z"
   },
   {
    "duration": 6,
    "start_time": "2024-09-23T12:08:39.369Z"
   },
   {
    "duration": 30,
    "start_time": "2024-09-23T12:08:39.379Z"
   },
   {
    "duration": 18,
    "start_time": "2024-09-23T12:08:39.411Z"
   },
   {
    "duration": 2,
    "start_time": "2024-09-23T12:08:39.431Z"
   },
   {
    "duration": 2,
    "start_time": "2024-09-23T12:08:39.435Z"
   },
   {
    "duration": 3,
    "start_time": "2024-09-23T12:08:39.439Z"
   },
   {
    "duration": 3,
    "start_time": "2024-09-23T12:08:39.443Z"
   },
   {
    "duration": 637,
    "start_time": "2024-09-23T12:08:39.448Z"
   },
   {
    "duration": 23,
    "start_time": "2024-09-23T12:08:40.087Z"
   },
   {
    "duration": 9,
    "start_time": "2024-09-23T12:08:40.111Z"
   },
   {
    "duration": 3,
    "start_time": "2024-09-23T12:08:40.122Z"
   },
   {
    "duration": 4,
    "start_time": "2024-09-23T12:08:40.126Z"
   },
   {
    "duration": 325,
    "start_time": "2024-09-23T12:08:40.132Z"
   },
   {
    "duration": 4,
    "start_time": "2024-09-23T12:08:40.459Z"
   },
   {
    "duration": 146,
    "start_time": "2024-09-23T12:08:40.465Z"
   },
   {
    "duration": 4,
    "start_time": "2024-09-23T12:08:40.613Z"
   },
   {
    "duration": 144,
    "start_time": "2024-09-23T12:08:40.619Z"
   },
   {
    "duration": 4,
    "start_time": "2024-09-23T12:08:40.766Z"
   },
   {
    "duration": 163,
    "start_time": "2024-09-23T12:08:40.771Z"
   },
   {
    "duration": 20,
    "start_time": "2024-09-23T12:08:40.936Z"
   },
   {
    "duration": 3,
    "start_time": "2024-09-23T12:08:40.958Z"
   },
   {
    "duration": 958,
    "start_time": "2024-09-23T12:14:34.134Z"
   },
   {
    "duration": 508,
    "start_time": "2024-09-23T12:14:35.094Z"
   },
   {
    "duration": 9,
    "start_time": "2024-09-23T12:14:35.603Z"
   },
   {
    "duration": 4,
    "start_time": "2024-09-23T12:14:35.613Z"
   },
   {
    "duration": 11,
    "start_time": "2024-09-23T12:14:35.621Z"
   },
   {
    "duration": 165,
    "start_time": "2024-09-23T12:14:35.633Z"
   },
   {
    "duration": 10,
    "start_time": "2024-09-23T12:14:35.800Z"
   },
   {
    "duration": 4,
    "start_time": "2024-09-23T12:14:35.811Z"
   },
   {
    "duration": 5,
    "start_time": "2024-09-23T12:14:35.817Z"
   },
   {
    "duration": 6,
    "start_time": "2024-09-23T12:14:35.824Z"
   },
   {
    "duration": 4,
    "start_time": "2024-09-23T12:14:35.831Z"
   },
   {
    "duration": 78,
    "start_time": "2024-09-23T12:14:35.837Z"
   },
   {
    "duration": 6,
    "start_time": "2024-09-23T12:14:35.917Z"
   },
   {
    "duration": 6,
    "start_time": "2024-09-23T12:14:35.926Z"
   },
   {
    "duration": 24,
    "start_time": "2024-09-23T12:14:35.933Z"
   },
   {
    "duration": 5,
    "start_time": "2024-09-23T12:14:35.958Z"
   },
   {
    "duration": 3,
    "start_time": "2024-09-23T12:14:35.965Z"
   },
   {
    "duration": 2,
    "start_time": "2024-09-23T12:14:35.969Z"
   },
   {
    "duration": 3,
    "start_time": "2024-09-23T12:14:35.973Z"
   },
   {
    "duration": 626,
    "start_time": "2024-09-23T12:14:35.977Z"
   },
   {
    "duration": 12,
    "start_time": "2024-09-23T12:14:36.608Z"
   },
   {
    "duration": 9,
    "start_time": "2024-09-23T12:14:36.622Z"
   },
   {
    "duration": 5,
    "start_time": "2024-09-23T12:14:36.633Z"
   },
   {
    "duration": 0,
    "start_time": "2024-09-23T12:14:36.639Z"
   },
   {
    "duration": 0,
    "start_time": "2024-09-23T12:14:36.641Z"
   },
   {
    "duration": 0,
    "start_time": "2024-09-23T12:14:36.642Z"
   },
   {
    "duration": 0,
    "start_time": "2024-09-23T12:14:36.643Z"
   },
   {
    "duration": 0,
    "start_time": "2024-09-23T12:14:36.644Z"
   },
   {
    "duration": 0,
    "start_time": "2024-09-23T12:14:36.645Z"
   },
   {
    "duration": 0,
    "start_time": "2024-09-23T12:14:36.647Z"
   },
   {
    "duration": 0,
    "start_time": "2024-09-23T12:14:36.649Z"
   },
   {
    "duration": 0,
    "start_time": "2024-09-23T12:14:36.650Z"
   },
   {
    "duration": 0,
    "start_time": "2024-09-23T12:14:36.652Z"
   },
   {
    "duration": 0,
    "start_time": "2024-09-23T12:14:36.653Z"
   },
   {
    "duration": 0,
    "start_time": "2024-09-23T12:14:36.654Z"
   },
   {
    "duration": 0,
    "start_time": "2024-09-23T12:14:36.655Z"
   },
   {
    "duration": 3,
    "start_time": "2024-09-23T12:16:15.107Z"
   },
   {
    "duration": 3,
    "start_time": "2024-09-23T12:16:16.961Z"
   },
   {
    "duration": 450,
    "start_time": "2024-09-23T12:16:17.674Z"
   },
   {
    "duration": 3,
    "start_time": "2024-09-23T14:37:35.779Z"
   },
   {
    "duration": 3,
    "start_time": "2024-09-23T14:48:54.541Z"
   },
   {
    "duration": 347,
    "start_time": "2024-09-23T14:50:24.713Z"
   },
   {
    "duration": 3,
    "start_time": "2024-09-23T14:50:34.067Z"
   },
   {
    "duration": 928,
    "start_time": "2024-09-23T14:54:26.010Z"
   },
   {
    "duration": 573,
    "start_time": "2024-09-23T14:54:26.940Z"
   },
   {
    "duration": 9,
    "start_time": "2024-09-23T14:54:27.515Z"
   },
   {
    "duration": 4,
    "start_time": "2024-09-23T14:54:27.526Z"
   },
   {
    "duration": 11,
    "start_time": "2024-09-23T14:54:27.533Z"
   },
   {
    "duration": 165,
    "start_time": "2024-09-23T14:54:27.545Z"
   },
   {
    "duration": 7,
    "start_time": "2024-09-23T14:54:27.712Z"
   },
   {
    "duration": 3,
    "start_time": "2024-09-23T14:54:27.722Z"
   },
   {
    "duration": 7,
    "start_time": "2024-09-23T14:54:27.727Z"
   },
   {
    "duration": 6,
    "start_time": "2024-09-23T14:54:27.736Z"
   },
   {
    "duration": 5,
    "start_time": "2024-09-23T14:54:27.744Z"
   },
   {
    "duration": 80,
    "start_time": "2024-09-23T14:54:27.750Z"
   },
   {
    "duration": 7,
    "start_time": "2024-09-23T14:54:27.832Z"
   },
   {
    "duration": 5,
    "start_time": "2024-09-23T14:54:27.843Z"
   },
   {
    "duration": 23,
    "start_time": "2024-09-23T14:54:27.849Z"
   },
   {
    "duration": 623,
    "start_time": "2024-09-23T14:54:27.874Z"
   },
   {
    "duration": 12,
    "start_time": "2024-09-23T14:54:28.508Z"
   },
   {
    "duration": 9,
    "start_time": "2024-09-23T14:54:28.521Z"
   },
   {
    "duration": 2,
    "start_time": "2024-09-23T14:54:28.532Z"
   },
   {
    "duration": 3,
    "start_time": "2024-09-23T14:54:28.536Z"
   },
   {
    "duration": 476,
    "start_time": "2024-09-23T14:54:28.541Z"
   },
   {
    "duration": 4,
    "start_time": "2024-09-23T14:54:29.019Z"
   },
   {
    "duration": 151,
    "start_time": "2024-09-23T14:54:29.025Z"
   },
   {
    "duration": 5,
    "start_time": "2024-09-23T14:54:29.177Z"
   },
   {
    "duration": 155,
    "start_time": "2024-09-23T14:54:29.183Z"
   },
   {
    "duration": 5,
    "start_time": "2024-09-23T14:54:29.340Z"
   },
   {
    "duration": 238,
    "start_time": "2024-09-23T14:54:29.347Z"
   },
   {
    "duration": 30,
    "start_time": "2024-09-23T14:54:29.587Z"
   },
   {
    "duration": 3,
    "start_time": "2024-09-23T14:54:29.619Z"
   },
   {
    "duration": 3,
    "start_time": "2024-09-23T14:54:29.624Z"
   },
   {
    "duration": 2,
    "start_time": "2024-09-23T14:54:29.630Z"
   },
   {
    "duration": 5,
    "start_time": "2024-09-23T14:54:29.634Z"
   },
   {
    "duration": 974,
    "start_time": "2024-09-23T14:54:29.641Z"
   },
   {
    "duration": 0,
    "start_time": "2024-09-23T14:54:30.617Z"
   },
   {
    "duration": 0,
    "start_time": "2024-09-23T14:54:30.619Z"
   },
   {
    "duration": 0,
    "start_time": "2024-09-23T14:54:30.620Z"
   },
   {
    "duration": 0,
    "start_time": "2024-09-23T14:54:30.621Z"
   },
   {
    "duration": 0,
    "start_time": "2024-09-23T14:54:30.622Z"
   },
   {
    "duration": 0,
    "start_time": "2024-09-23T14:54:30.623Z"
   },
   {
    "duration": 0,
    "start_time": "2024-09-23T14:54:30.624Z"
   },
   {
    "duration": 0,
    "start_time": "2024-09-23T14:54:30.626Z"
   },
   {
    "duration": 0,
    "start_time": "2024-09-23T14:54:30.627Z"
   },
   {
    "duration": 0,
    "start_time": "2024-09-23T14:54:30.628Z"
   },
   {
    "duration": 0,
    "start_time": "2024-09-23T14:54:30.629Z"
   },
   {
    "duration": 37,
    "start_time": "2024-09-23T14:55:19.323Z"
   },
   {
    "duration": 5,
    "start_time": "2024-09-23T14:59:37.482Z"
   },
   {
    "duration": 3,
    "start_time": "2024-09-23T14:59:38.869Z"
   },
   {
    "duration": 3,
    "start_time": "2024-09-23T14:59:40.062Z"
   },
   {
    "duration": 936,
    "start_time": "2024-09-23T15:07:57.163Z"
   },
   {
    "duration": 506,
    "start_time": "2024-09-23T15:07:58.101Z"
   },
   {
    "duration": 10,
    "start_time": "2024-09-23T15:07:58.608Z"
   },
   {
    "duration": 4,
    "start_time": "2024-09-23T15:07:58.619Z"
   },
   {
    "duration": 10,
    "start_time": "2024-09-23T15:07:58.625Z"
   },
   {
    "duration": 163,
    "start_time": "2024-09-23T15:07:58.637Z"
   },
   {
    "duration": 10,
    "start_time": "2024-09-23T15:07:58.803Z"
   },
   {
    "duration": 4,
    "start_time": "2024-09-23T15:07:58.815Z"
   },
   {
    "duration": 6,
    "start_time": "2024-09-23T15:07:58.821Z"
   },
   {
    "duration": 6,
    "start_time": "2024-09-23T15:07:58.829Z"
   },
   {
    "duration": 5,
    "start_time": "2024-09-23T15:07:58.837Z"
   },
   {
    "duration": 84,
    "start_time": "2024-09-23T15:07:58.843Z"
   },
   {
    "duration": 6,
    "start_time": "2024-09-23T15:07:58.929Z"
   },
   {
    "duration": 5,
    "start_time": "2024-09-23T15:07:58.938Z"
   },
   {
    "duration": 26,
    "start_time": "2024-09-23T15:07:58.944Z"
   },
   {
    "duration": 614,
    "start_time": "2024-09-23T15:07:58.971Z"
   },
   {
    "duration": 22,
    "start_time": "2024-09-23T15:07:59.587Z"
   },
   {
    "duration": 9,
    "start_time": "2024-09-23T15:07:59.611Z"
   },
   {
    "duration": 3,
    "start_time": "2024-09-23T15:07:59.622Z"
   },
   {
    "duration": 3,
    "start_time": "2024-09-23T15:07:59.627Z"
   },
   {
    "duration": 502,
    "start_time": "2024-09-23T15:07:59.632Z"
   },
   {
    "duration": 4,
    "start_time": "2024-09-23T15:08:00.136Z"
   },
   {
    "duration": 152,
    "start_time": "2024-09-23T15:08:00.141Z"
   },
   {
    "duration": 4,
    "start_time": "2024-09-23T15:08:00.295Z"
   },
   {
    "duration": 160,
    "start_time": "2024-09-23T15:08:00.300Z"
   },
   {
    "duration": 4,
    "start_time": "2024-09-23T15:08:00.462Z"
   },
   {
    "duration": 230,
    "start_time": "2024-09-23T15:08:00.467Z"
   },
   {
    "duration": 27,
    "start_time": "2024-09-23T15:08:00.699Z"
   },
   {
    "duration": 3,
    "start_time": "2024-09-23T15:08:00.729Z"
   },
   {
    "duration": 4,
    "start_time": "2024-09-23T15:08:00.733Z"
   },
   {
    "duration": 4,
    "start_time": "2024-09-23T15:08:00.740Z"
   },
   {
    "duration": 7,
    "start_time": "2024-09-23T15:08:00.745Z"
   },
   {
    "duration": 6,
    "start_time": "2024-09-23T15:08:00.754Z"
   },
   {
    "duration": 3,
    "start_time": "2024-09-23T15:08:00.764Z"
   },
   {
    "duration": 3,
    "start_time": "2024-09-23T15:08:00.768Z"
   },
   {
    "duration": 921,
    "start_time": "2024-09-23T15:34:28.351Z"
   },
   {
    "duration": 531,
    "start_time": "2024-09-23T15:34:29.275Z"
   },
   {
    "duration": 9,
    "start_time": "2024-09-23T15:34:29.808Z"
   },
   {
    "duration": 4,
    "start_time": "2024-09-23T15:34:29.820Z"
   },
   {
    "duration": 11,
    "start_time": "2024-09-23T15:34:29.825Z"
   },
   {
    "duration": 153,
    "start_time": "2024-09-23T15:34:29.837Z"
   },
   {
    "duration": 19,
    "start_time": "2024-09-23T15:34:29.992Z"
   },
   {
    "duration": 3,
    "start_time": "2024-09-23T15:34:30.013Z"
   },
   {
    "duration": 6,
    "start_time": "2024-09-23T15:34:30.018Z"
   },
   {
    "duration": 7,
    "start_time": "2024-09-23T15:34:30.027Z"
   },
   {
    "duration": 5,
    "start_time": "2024-09-23T15:34:30.035Z"
   },
   {
    "duration": 81,
    "start_time": "2024-09-23T15:34:30.042Z"
   },
   {
    "duration": 7,
    "start_time": "2024-09-23T15:34:30.124Z"
   },
   {
    "duration": 6,
    "start_time": "2024-09-23T15:34:30.132Z"
   },
   {
    "duration": 25,
    "start_time": "2024-09-23T15:34:30.139Z"
   },
   {
    "duration": 609,
    "start_time": "2024-09-23T15:34:30.166Z"
   },
   {
    "duration": 11,
    "start_time": "2024-09-23T15:34:30.777Z"
   },
   {
    "duration": 25,
    "start_time": "2024-09-23T15:34:30.790Z"
   },
   {
    "duration": 4,
    "start_time": "2024-09-23T15:34:30.816Z"
   },
   {
    "duration": 3,
    "start_time": "2024-09-23T15:34:30.822Z"
   },
   {
    "duration": 456,
    "start_time": "2024-09-23T15:34:30.827Z"
   },
   {
    "duration": 4,
    "start_time": "2024-09-23T15:34:31.286Z"
   },
   {
    "duration": 151,
    "start_time": "2024-09-23T15:34:31.291Z"
   },
   {
    "duration": 3,
    "start_time": "2024-09-23T15:34:31.444Z"
   },
   {
    "duration": 145,
    "start_time": "2024-09-23T15:34:31.449Z"
   },
   {
    "duration": 16,
    "start_time": "2024-09-23T15:34:31.595Z"
   },
   {
    "duration": 218,
    "start_time": "2024-09-23T15:34:31.613Z"
   },
   {
    "duration": 22,
    "start_time": "2024-09-23T15:34:31.835Z"
   },
   {
    "duration": 6,
    "start_time": "2024-09-23T15:34:31.858Z"
   },
   {
    "duration": 3,
    "start_time": "2024-09-23T15:34:31.865Z"
   },
   {
    "duration": 3,
    "start_time": "2024-09-23T15:34:31.870Z"
   },
   {
    "duration": 7,
    "start_time": "2024-09-23T15:34:31.875Z"
   },
   {
    "duration": 30,
    "start_time": "2024-09-23T15:34:31.883Z"
   },
   {
    "duration": 5,
    "start_time": "2024-09-23T15:34:31.914Z"
   },
   {
    "duration": 3,
    "start_time": "2024-09-23T15:34:31.921Z"
   },
   {
    "duration": 6,
    "start_time": "2024-09-23T15:34:31.925Z"
   },
   {
    "duration": 0,
    "start_time": "2024-09-23T15:34:31.932Z"
   },
   {
    "duration": 0,
    "start_time": "2024-09-23T15:34:31.934Z"
   },
   {
    "duration": 0,
    "start_time": "2024-09-23T15:34:31.935Z"
   },
   {
    "duration": 0,
    "start_time": "2024-09-23T15:34:31.937Z"
   },
   {
    "duration": 0,
    "start_time": "2024-09-23T15:34:31.938Z"
   },
   {
    "duration": 0,
    "start_time": "2024-09-23T15:34:31.939Z"
   },
   {
    "duration": 0,
    "start_time": "2024-09-23T15:34:31.940Z"
   },
   {
    "duration": 0,
    "start_time": "2024-09-23T15:34:31.941Z"
   },
   {
    "duration": 5,
    "start_time": "2024-09-23T15:36:23.099Z"
   },
   {
    "duration": 4,
    "start_time": "2024-09-23T15:36:35.202Z"
   },
   {
    "duration": 4,
    "start_time": "2024-09-23T15:36:55.908Z"
   },
   {
    "duration": 4,
    "start_time": "2024-09-23T15:39:41.476Z"
   },
   {
    "duration": 3,
    "start_time": "2024-09-23T15:39:57.850Z"
   },
   {
    "duration": 5,
    "start_time": "2024-09-23T15:41:36.319Z"
   },
   {
    "duration": 2792,
    "start_time": "2024-09-23T18:58:04.845Z"
   },
   {
    "duration": 749,
    "start_time": "2024-09-23T18:58:07.640Z"
   },
   {
    "duration": 10,
    "start_time": "2024-09-23T18:58:08.391Z"
   },
   {
    "duration": 5,
    "start_time": "2024-09-23T18:58:08.403Z"
   },
   {
    "duration": 12,
    "start_time": "2024-09-23T18:58:08.411Z"
   },
   {
    "duration": 119,
    "start_time": "2024-09-23T18:58:08.426Z"
   },
   {
    "duration": 7,
    "start_time": "2024-09-23T18:58:08.547Z"
   },
   {
    "duration": 4,
    "start_time": "2024-09-23T18:58:08.556Z"
   },
   {
    "duration": 30,
    "start_time": "2024-09-23T18:58:08.562Z"
   },
   {
    "duration": 10,
    "start_time": "2024-09-23T18:58:08.594Z"
   },
   {
    "duration": 5,
    "start_time": "2024-09-23T18:58:08.606Z"
   },
   {
    "duration": 45,
    "start_time": "2024-09-23T18:58:08.612Z"
   },
   {
    "duration": 28,
    "start_time": "2024-09-23T18:58:08.660Z"
   },
   {
    "duration": 7,
    "start_time": "2024-09-23T18:58:08.691Z"
   },
   {
    "duration": 22,
    "start_time": "2024-09-23T18:58:08.699Z"
   },
   {
    "duration": 683,
    "start_time": "2024-09-23T18:58:08.725Z"
   },
   {
    "duration": 12,
    "start_time": "2024-09-23T18:58:09.409Z"
   },
   {
    "duration": 8,
    "start_time": "2024-09-23T18:58:09.423Z"
   },
   {
    "duration": 3,
    "start_time": "2024-09-23T18:58:09.433Z"
   },
   {
    "duration": 3,
    "start_time": "2024-09-23T18:58:09.438Z"
   },
   {
    "duration": 511,
    "start_time": "2024-09-23T18:58:09.443Z"
   },
   {
    "duration": 4,
    "start_time": "2024-09-23T18:58:09.956Z"
   },
   {
    "duration": 161,
    "start_time": "2024-09-23T18:58:09.962Z"
   },
   {
    "duration": 4,
    "start_time": "2024-09-23T18:58:10.125Z"
   },
   {
    "duration": 147,
    "start_time": "2024-09-23T18:58:10.131Z"
   },
   {
    "duration": 9,
    "start_time": "2024-09-23T18:58:10.280Z"
   },
   {
    "duration": 161,
    "start_time": "2024-09-23T18:58:10.291Z"
   },
   {
    "duration": 19,
    "start_time": "2024-09-23T18:58:10.453Z"
   },
   {
    "duration": 13,
    "start_time": "2024-09-23T18:58:10.474Z"
   },
   {
    "duration": 3,
    "start_time": "2024-09-23T18:58:10.488Z"
   },
   {
    "duration": 3,
    "start_time": "2024-09-23T18:58:10.493Z"
   },
   {
    "duration": 7,
    "start_time": "2024-09-23T18:58:10.497Z"
   },
   {
    "duration": 5,
    "start_time": "2024-09-23T18:58:10.506Z"
   },
   {
    "duration": 3,
    "start_time": "2024-09-23T18:58:10.513Z"
   },
   {
    "duration": 3,
    "start_time": "2024-09-23T18:58:10.517Z"
   },
   {
    "duration": 1022271,
    "start_time": "2024-09-23T18:58:10.522Z"
   },
   {
    "duration": 0,
    "start_time": "2024-09-23T19:15:12.795Z"
   },
   {
    "duration": 0,
    "start_time": "2024-09-23T19:15:12.796Z"
   },
   {
    "duration": 0,
    "start_time": "2024-09-23T19:15:12.798Z"
   },
   {
    "duration": 0,
    "start_time": "2024-09-23T19:15:12.799Z"
   },
   {
    "duration": 0,
    "start_time": "2024-09-23T19:15:12.801Z"
   },
   {
    "duration": 0,
    "start_time": "2024-09-23T19:15:12.803Z"
   },
   {
    "duration": 0,
    "start_time": "2024-09-23T19:15:12.804Z"
   },
   {
    "duration": 0,
    "start_time": "2024-09-23T19:15:12.805Z"
   },
   {
    "duration": 3,
    "start_time": "2024-09-23T19:15:29.415Z"
   },
   {
    "duration": 697904,
    "start_time": "2024-09-23T19:15:29.948Z"
   },
   {
    "duration": 5,
    "start_time": "2024-09-23T19:27:07.856Z"
   },
   {
    "duration": 4,
    "start_time": "2024-09-23T19:27:19.726Z"
   },
   {
    "duration": 79,
    "start_time": "2024-09-23T19:27:33.497Z"
   },
   {
    "duration": 323,
    "start_time": "2024-09-24T00:33:27.546Z"
   },
   {
    "duration": 23,
    "start_time": "2024-09-24T00:33:28.324Z"
   },
   {
    "duration": 975,
    "start_time": "2024-09-24T00:33:43.692Z"
   },
   {
    "duration": 529,
    "start_time": "2024-09-24T00:33:44.670Z"
   },
   {
    "duration": 12,
    "start_time": "2024-09-24T00:33:45.200Z"
   },
   {
    "duration": 5,
    "start_time": "2024-09-24T00:33:45.214Z"
   },
   {
    "duration": 12,
    "start_time": "2024-09-24T00:33:45.220Z"
   },
   {
    "duration": 199,
    "start_time": "2024-09-24T00:33:45.234Z"
   },
   {
    "duration": 8,
    "start_time": "2024-09-24T00:33:45.435Z"
   },
   {
    "duration": 4,
    "start_time": "2024-09-24T00:33:45.445Z"
   },
   {
    "duration": 36,
    "start_time": "2024-09-24T00:33:45.451Z"
   },
   {
    "duration": 6,
    "start_time": "2024-09-24T00:33:45.491Z"
   },
   {
    "duration": 29,
    "start_time": "2024-09-24T00:33:45.500Z"
   },
   {
    "duration": 8,
    "start_time": "2024-09-24T00:33:45.531Z"
   },
   {
    "duration": 7,
    "start_time": "2024-09-24T00:33:45.541Z"
   },
   {
    "duration": 144,
    "start_time": "2024-09-24T00:33:45.586Z"
   },
   {
    "duration": 673,
    "start_time": "2024-09-24T00:33:45.732Z"
   },
   {
    "duration": 15,
    "start_time": "2024-09-24T00:33:46.407Z"
   },
   {
    "duration": 17,
    "start_time": "2024-09-24T00:33:46.424Z"
   },
   {
    "duration": 3,
    "start_time": "2024-09-24T00:33:46.444Z"
   },
   {
    "duration": 3,
    "start_time": "2024-09-24T00:33:46.449Z"
   },
   {
    "duration": 505,
    "start_time": "2024-09-24T00:33:46.487Z"
   },
   {
    "duration": 5,
    "start_time": "2024-09-24T00:33:46.994Z"
   },
   {
    "duration": 164,
    "start_time": "2024-09-24T00:33:47.001Z"
   },
   {
    "duration": 5,
    "start_time": "2024-09-24T00:33:47.167Z"
   },
   {
    "duration": 174,
    "start_time": "2024-09-24T00:33:47.174Z"
   },
   {
    "duration": 3,
    "start_time": "2024-09-24T00:33:47.350Z"
   },
   {
    "duration": 242,
    "start_time": "2024-09-24T00:33:47.355Z"
   },
   {
    "duration": 14,
    "start_time": "2024-09-24T00:33:47.598Z"
   },
   {
    "duration": 3,
    "start_time": "2024-09-24T00:33:47.617Z"
   },
   {
    "duration": 3,
    "start_time": "2024-09-24T00:33:47.622Z"
   },
   {
    "duration": 3,
    "start_time": "2024-09-24T00:33:47.627Z"
   },
   {
    "duration": 6,
    "start_time": "2024-09-24T00:33:47.632Z"
   },
   {
    "duration": 4,
    "start_time": "2024-09-24T00:33:47.640Z"
   },
   {
    "duration": 4,
    "start_time": "2024-09-24T00:33:47.686Z"
   },
   {
    "duration": 3,
    "start_time": "2024-09-24T00:33:47.691Z"
   },
   {
    "duration": 1268,
    "start_time": "2024-09-24T00:33:47.696Z"
   },
   {
    "duration": 239,
    "start_time": "2024-09-24T00:33:48.966Z"
   },
   {
    "duration": 0,
    "start_time": "2024-09-24T00:33:49.207Z"
   },
   {
    "duration": 0,
    "start_time": "2024-09-24T00:33:49.209Z"
   },
   {
    "duration": 0,
    "start_time": "2024-09-24T00:33:49.210Z"
   },
   {
    "duration": 1,
    "start_time": "2024-09-24T00:33:49.211Z"
   },
   {
    "duration": 0,
    "start_time": "2024-09-24T00:33:49.213Z"
   },
   {
    "duration": 0,
    "start_time": "2024-09-24T00:33:49.215Z"
   },
   {
    "duration": 0,
    "start_time": "2024-09-24T00:33:49.216Z"
   },
   {
    "duration": 16,
    "start_time": "2024-09-24T00:38:50.507Z"
   },
   {
    "duration": 7,
    "start_time": "2024-09-24T00:38:52.267Z"
   },
   {
    "duration": 6,
    "start_time": "2024-09-24T00:39:01.017Z"
   },
   {
    "duration": 12,
    "start_time": "2024-09-24T00:43:18.854Z"
   },
   {
    "duration": 477,
    "start_time": "2024-09-24T00:50:57.077Z"
   },
   {
    "duration": 938,
    "start_time": "2024-09-24T01:31:40.375Z"
   },
   {
    "duration": 542,
    "start_time": "2024-09-24T01:31:41.316Z"
   },
   {
    "duration": 12,
    "start_time": "2024-09-24T01:31:41.860Z"
   },
   {
    "duration": 16,
    "start_time": "2024-09-24T01:31:41.874Z"
   },
   {
    "duration": 19,
    "start_time": "2024-09-24T01:31:41.894Z"
   },
   {
    "duration": 191,
    "start_time": "2024-09-24T01:31:41.918Z"
   },
   {
    "duration": 8,
    "start_time": "2024-09-24T01:31:42.115Z"
   },
   {
    "duration": 4,
    "start_time": "2024-09-24T01:31:42.125Z"
   },
   {
    "duration": 7,
    "start_time": "2024-09-24T01:31:42.131Z"
   },
   {
    "duration": 6,
    "start_time": "2024-09-24T01:31:42.142Z"
   },
   {
    "duration": 251,
    "start_time": "2024-09-24T01:31:42.150Z"
   },
   {
    "duration": 0,
    "start_time": "2024-09-24T01:31:42.404Z"
   },
   {
    "duration": 0,
    "start_time": "2024-09-24T01:31:42.405Z"
   },
   {
    "duration": 0,
    "start_time": "2024-09-24T01:31:42.406Z"
   },
   {
    "duration": 0,
    "start_time": "2024-09-24T01:31:42.407Z"
   },
   {
    "duration": 0,
    "start_time": "2024-09-24T01:31:42.408Z"
   },
   {
    "duration": 0,
    "start_time": "2024-09-24T01:31:42.408Z"
   },
   {
    "duration": 0,
    "start_time": "2024-09-24T01:31:42.409Z"
   },
   {
    "duration": 0,
    "start_time": "2024-09-24T01:31:42.410Z"
   },
   {
    "duration": 0,
    "start_time": "2024-09-24T01:31:42.411Z"
   },
   {
    "duration": 0,
    "start_time": "2024-09-24T01:31:42.412Z"
   },
   {
    "duration": 0,
    "start_time": "2024-09-24T01:31:42.413Z"
   },
   {
    "duration": 0,
    "start_time": "2024-09-24T01:31:42.414Z"
   },
   {
    "duration": 0,
    "start_time": "2024-09-24T01:31:42.418Z"
   },
   {
    "duration": 0,
    "start_time": "2024-09-24T01:31:42.419Z"
   },
   {
    "duration": 0,
    "start_time": "2024-09-24T01:31:42.420Z"
   },
   {
    "duration": 0,
    "start_time": "2024-09-24T01:31:42.422Z"
   },
   {
    "duration": 0,
    "start_time": "2024-09-24T01:31:42.423Z"
   },
   {
    "duration": 0,
    "start_time": "2024-09-24T01:31:42.424Z"
   },
   {
    "duration": 0,
    "start_time": "2024-09-24T01:31:42.425Z"
   },
   {
    "duration": 0,
    "start_time": "2024-09-24T01:31:42.426Z"
   },
   {
    "duration": 0,
    "start_time": "2024-09-24T01:31:42.427Z"
   },
   {
    "duration": 0,
    "start_time": "2024-09-24T01:31:42.428Z"
   },
   {
    "duration": 0,
    "start_time": "2024-09-24T01:31:42.429Z"
   },
   {
    "duration": 0,
    "start_time": "2024-09-24T01:31:42.430Z"
   },
   {
    "duration": 0,
    "start_time": "2024-09-24T01:31:42.431Z"
   },
   {
    "duration": 0,
    "start_time": "2024-09-24T01:31:42.435Z"
   },
   {
    "duration": 0,
    "start_time": "2024-09-24T01:31:42.436Z"
   },
   {
    "duration": 0,
    "start_time": "2024-09-24T01:31:42.437Z"
   },
   {
    "duration": 0,
    "start_time": "2024-09-24T01:31:42.438Z"
   },
   {
    "duration": 0,
    "start_time": "2024-09-24T01:31:42.439Z"
   },
   {
    "duration": 0,
    "start_time": "2024-09-24T01:31:42.440Z"
   },
   {
    "duration": 0,
    "start_time": "2024-09-24T01:31:42.441Z"
   },
   {
    "duration": 0,
    "start_time": "2024-09-24T01:31:42.442Z"
   },
   {
    "duration": 27,
    "start_time": "2024-09-24T01:35:08.918Z"
   },
   {
    "duration": 8,
    "start_time": "2024-09-24T01:35:12.727Z"
   },
   {
    "duration": 12,
    "start_time": "2024-09-24T01:35:25.575Z"
   },
   {
    "duration": 12,
    "start_time": "2024-09-24T01:35:46.096Z"
   },
   {
    "duration": 11,
    "start_time": "2024-09-24T01:35:54.121Z"
   },
   {
    "duration": 14,
    "start_time": "2024-09-24T01:35:59.906Z"
   },
   {
    "duration": 509,
    "start_time": "2024-09-24T01:36:54.371Z"
   },
   {
    "duration": 317,
    "start_time": "2024-09-24T01:41:03.299Z"
   },
   {
    "duration": 205,
    "start_time": "2024-09-24T01:42:43.183Z"
   },
   {
    "duration": 639,
    "start_time": "2024-09-24T01:42:52.188Z"
   },
   {
    "duration": 13,
    "start_time": "2024-09-24T01:43:51.321Z"
   },
   {
    "duration": 12,
    "start_time": "2024-09-24T01:43:56.858Z"
   },
   {
    "duration": 2,
    "start_time": "2024-09-24T01:44:15.194Z"
   },
   {
    "duration": 3,
    "start_time": "2024-09-24T01:44:16.310Z"
   },
   {
    "duration": 567,
    "start_time": "2024-09-24T01:44:17.146Z"
   },
   {
    "duration": 4,
    "start_time": "2024-09-24T01:44:29.770Z"
   },
   {
    "duration": 150,
    "start_time": "2024-09-24T01:44:30.339Z"
   },
   {
    "duration": 4,
    "start_time": "2024-09-24T01:44:33.320Z"
   },
   {
    "duration": 153,
    "start_time": "2024-09-24T01:44:34.000Z"
   },
   {
    "duration": 4,
    "start_time": "2024-09-24T01:44:36.962Z"
   },
   {
    "duration": 138,
    "start_time": "2024-09-24T01:44:39.692Z"
   },
   {
    "duration": 12,
    "start_time": "2024-09-24T01:45:07.049Z"
   },
   {
    "duration": 3,
    "start_time": "2024-09-24T01:45:14.838Z"
   },
   {
    "duration": 3,
    "start_time": "2024-09-24T01:45:35.840Z"
   },
   {
    "duration": 3,
    "start_time": "2024-09-24T01:45:36.920Z"
   },
   {
    "duration": 9,
    "start_time": "2024-09-24T01:45:38.634Z"
   },
   {
    "duration": 6,
    "start_time": "2024-09-24T01:45:40.273Z"
   },
   {
    "duration": 3,
    "start_time": "2024-09-24T01:45:42.019Z"
   },
   {
    "duration": 2,
    "start_time": "2024-09-24T01:45:50.482Z"
   },
   {
    "duration": 1174,
    "start_time": "2024-09-24T01:45:52.981Z"
   },
   {
    "duration": 619,
    "start_time": "2024-09-24T01:48:17.324Z"
   },
   {
    "duration": 6,
    "start_time": "2024-09-24T01:48:41.223Z"
   },
   {
    "duration": 3,
    "start_time": "2024-09-24T01:48:43.768Z"
   },
   {
    "duration": 3,
    "start_time": "2024-09-24T01:48:45.259Z"
   },
   {
    "duration": 983,
    "start_time": "2024-09-24T01:53:59.430Z"
   },
   {
    "duration": 516,
    "start_time": "2024-09-24T01:54:00.415Z"
   },
   {
    "duration": 9,
    "start_time": "2024-09-24T01:54:00.932Z"
   },
   {
    "duration": 4,
    "start_time": "2024-09-24T01:54:00.943Z"
   },
   {
    "duration": 10,
    "start_time": "2024-09-24T01:54:00.949Z"
   },
   {
    "duration": 157,
    "start_time": "2024-09-24T01:54:00.961Z"
   },
   {
    "duration": 6,
    "start_time": "2024-09-24T01:54:01.120Z"
   },
   {
    "duration": 4,
    "start_time": "2024-09-24T01:54:01.127Z"
   },
   {
    "duration": 6,
    "start_time": "2024-09-24T01:54:01.133Z"
   },
   {
    "duration": 5,
    "start_time": "2024-09-24T01:54:01.142Z"
   },
   {
    "duration": 54,
    "start_time": "2024-09-24T01:54:01.148Z"
   },
   {
    "duration": 12,
    "start_time": "2024-09-24T01:54:01.204Z"
   },
   {
    "duration": 10,
    "start_time": "2024-09-24T01:54:01.218Z"
   },
   {
    "duration": 220,
    "start_time": "2024-09-24T01:54:01.230Z"
   },
   {
    "duration": 637,
    "start_time": "2024-09-24T01:54:01.453Z"
   },
   {
    "duration": 12,
    "start_time": "2024-09-24T01:54:02.092Z"
   },
   {
    "duration": 9,
    "start_time": "2024-09-24T01:54:02.106Z"
   },
   {
    "duration": 5,
    "start_time": "2024-09-24T01:54:02.117Z"
   },
   {
    "duration": 4,
    "start_time": "2024-09-24T01:54:02.123Z"
   },
   {
    "duration": 500,
    "start_time": "2024-09-24T01:54:02.129Z"
   },
   {
    "duration": 5,
    "start_time": "2024-09-24T01:54:02.631Z"
   },
   {
    "duration": 151,
    "start_time": "2024-09-24T01:54:02.637Z"
   },
   {
    "duration": 4,
    "start_time": "2024-09-24T01:54:02.790Z"
   },
   {
    "duration": 155,
    "start_time": "2024-09-24T01:54:02.795Z"
   },
   {
    "duration": 5,
    "start_time": "2024-09-24T01:54:02.952Z"
   },
   {
    "duration": 261,
    "start_time": "2024-09-24T01:54:02.959Z"
   },
   {
    "duration": 5,
    "start_time": "2024-09-24T01:54:03.221Z"
   },
   {
    "duration": 0,
    "start_time": "2024-09-24T01:54:03.228Z"
   },
   {
    "duration": 0,
    "start_time": "2024-09-24T01:54:03.229Z"
   },
   {
    "duration": 0,
    "start_time": "2024-09-24T01:54:03.231Z"
   },
   {
    "duration": 0,
    "start_time": "2024-09-24T01:54:03.232Z"
   },
   {
    "duration": 0,
    "start_time": "2024-09-24T01:54:03.233Z"
   },
   {
    "duration": 0,
    "start_time": "2024-09-24T01:54:03.235Z"
   },
   {
    "duration": 0,
    "start_time": "2024-09-24T01:54:03.236Z"
   },
   {
    "duration": 0,
    "start_time": "2024-09-24T01:54:03.238Z"
   },
   {
    "duration": 0,
    "start_time": "2024-09-24T01:54:03.240Z"
   },
   {
    "duration": 0,
    "start_time": "2024-09-24T01:54:03.241Z"
   },
   {
    "duration": 0,
    "start_time": "2024-09-24T01:54:03.243Z"
   },
   {
    "duration": 0,
    "start_time": "2024-09-24T01:54:03.244Z"
   },
   {
    "duration": 1,
    "start_time": "2024-09-24T01:54:03.245Z"
   },
   {
    "duration": 0,
    "start_time": "2024-09-24T01:54:03.247Z"
   },
   {
    "duration": 0,
    "start_time": "2024-09-24T01:54:03.287Z"
   },
   {
    "duration": 0,
    "start_time": "2024-09-24T01:54:03.288Z"
   },
   {
    "duration": 0,
    "start_time": "2024-09-24T01:54:03.289Z"
   },
   {
    "duration": 1003,
    "start_time": "2024-09-24T01:54:26.527Z"
   },
   {
    "duration": 583,
    "start_time": "2024-09-24T01:54:27.532Z"
   },
   {
    "duration": 11,
    "start_time": "2024-09-24T01:54:28.117Z"
   },
   {
    "duration": 4,
    "start_time": "2024-09-24T01:54:28.131Z"
   },
   {
    "duration": 14,
    "start_time": "2024-09-24T01:54:28.137Z"
   },
   {
    "duration": 166,
    "start_time": "2024-09-24T01:54:28.153Z"
   },
   {
    "duration": 7,
    "start_time": "2024-09-24T01:54:28.320Z"
   },
   {
    "duration": 3,
    "start_time": "2024-09-24T01:54:28.329Z"
   },
   {
    "duration": 6,
    "start_time": "2024-09-24T01:54:28.333Z"
   },
   {
    "duration": 4,
    "start_time": "2024-09-24T01:54:28.342Z"
   },
   {
    "duration": 56,
    "start_time": "2024-09-24T01:54:28.348Z"
   },
   {
    "duration": 12,
    "start_time": "2024-09-24T01:54:28.406Z"
   },
   {
    "duration": 10,
    "start_time": "2024-09-24T01:54:28.420Z"
   },
   {
    "duration": 210,
    "start_time": "2024-09-24T01:54:28.432Z"
   },
   {
    "duration": 670,
    "start_time": "2024-09-24T01:54:28.644Z"
   },
   {
    "duration": 19,
    "start_time": "2024-09-24T01:54:29.316Z"
   },
   {
    "duration": 15,
    "start_time": "2024-09-24T01:54:29.337Z"
   },
   {
    "duration": 3,
    "start_time": "2024-09-24T01:54:29.354Z"
   },
   {
    "duration": 3,
    "start_time": "2024-09-24T01:54:29.359Z"
   },
   {
    "duration": 555,
    "start_time": "2024-09-24T01:54:29.386Z"
   },
   {
    "duration": 4,
    "start_time": "2024-09-24T01:54:29.942Z"
   },
   {
    "duration": 182,
    "start_time": "2024-09-24T01:54:29.948Z"
   },
   {
    "duration": 7,
    "start_time": "2024-09-24T01:54:30.132Z"
   },
   {
    "duration": 161,
    "start_time": "2024-09-24T01:54:30.141Z"
   },
   {
    "duration": 5,
    "start_time": "2024-09-24T01:54:30.304Z"
   },
   {
    "duration": 285,
    "start_time": "2024-09-24T01:54:30.311Z"
   },
   {
    "duration": 5,
    "start_time": "2024-09-24T01:54:30.598Z"
   },
   {
    "duration": 0,
    "start_time": "2024-09-24T01:54:30.605Z"
   },
   {
    "duration": 0,
    "start_time": "2024-09-24T01:54:30.606Z"
   },
   {
    "duration": 0,
    "start_time": "2024-09-24T01:54:30.607Z"
   },
   {
    "duration": 0,
    "start_time": "2024-09-24T01:54:30.608Z"
   },
   {
    "duration": 0,
    "start_time": "2024-09-24T01:54:30.609Z"
   },
   {
    "duration": 0,
    "start_time": "2024-09-24T01:54:30.610Z"
   },
   {
    "duration": 0,
    "start_time": "2024-09-24T01:54:30.611Z"
   },
   {
    "duration": 0,
    "start_time": "2024-09-24T01:54:30.611Z"
   },
   {
    "duration": 0,
    "start_time": "2024-09-24T01:54:30.612Z"
   },
   {
    "duration": 0,
    "start_time": "2024-09-24T01:54:30.613Z"
   },
   {
    "duration": 0,
    "start_time": "2024-09-24T01:54:30.614Z"
   },
   {
    "duration": 0,
    "start_time": "2024-09-24T01:54:30.615Z"
   },
   {
    "duration": 0,
    "start_time": "2024-09-24T01:54:30.617Z"
   },
   {
    "duration": 0,
    "start_time": "2024-09-24T01:54:30.618Z"
   },
   {
    "duration": 0,
    "start_time": "2024-09-24T01:54:30.620Z"
   },
   {
    "duration": 0,
    "start_time": "2024-09-24T01:54:30.621Z"
   },
   {
    "duration": 0,
    "start_time": "2024-09-24T01:54:30.622Z"
   },
   {
    "duration": 962,
    "start_time": "2024-09-24T01:54:49.515Z"
   },
   {
    "duration": 506,
    "start_time": "2024-09-24T01:54:50.479Z"
   },
   {
    "duration": 8,
    "start_time": "2024-09-24T01:54:50.987Z"
   },
   {
    "duration": 4,
    "start_time": "2024-09-24T01:54:50.998Z"
   },
   {
    "duration": 12,
    "start_time": "2024-09-24T01:54:51.004Z"
   },
   {
    "duration": 174,
    "start_time": "2024-09-24T01:54:51.017Z"
   },
   {
    "duration": 7,
    "start_time": "2024-09-24T01:54:51.193Z"
   },
   {
    "duration": 3,
    "start_time": "2024-09-24T01:54:51.201Z"
   },
   {
    "duration": 6,
    "start_time": "2024-09-24T01:54:51.206Z"
   },
   {
    "duration": 4,
    "start_time": "2024-09-24T01:54:51.215Z"
   },
   {
    "duration": 27,
    "start_time": "2024-09-24T01:54:51.220Z"
   },
   {
    "duration": 46,
    "start_time": "2024-09-24T01:54:51.248Z"
   },
   {
    "duration": 10,
    "start_time": "2024-09-24T01:54:51.296Z"
   },
   {
    "duration": 209,
    "start_time": "2024-09-24T01:54:51.308Z"
   },
   {
    "duration": 629,
    "start_time": "2024-09-24T01:54:51.519Z"
   },
   {
    "duration": 13,
    "start_time": "2024-09-24T01:54:52.150Z"
   },
   {
    "duration": 26,
    "start_time": "2024-09-24T01:54:52.166Z"
   },
   {
    "duration": 3,
    "start_time": "2024-09-24T01:54:52.194Z"
   },
   {
    "duration": 3,
    "start_time": "2024-09-24T01:54:52.198Z"
   },
   {
    "duration": 475,
    "start_time": "2024-09-24T01:54:52.202Z"
   },
   {
    "duration": 3,
    "start_time": "2024-09-24T01:54:52.679Z"
   },
   {
    "duration": 157,
    "start_time": "2024-09-24T01:54:52.683Z"
   },
   {
    "duration": 5,
    "start_time": "2024-09-24T01:54:52.841Z"
   },
   {
    "duration": 150,
    "start_time": "2024-09-24T01:54:52.847Z"
   },
   {
    "duration": 4,
    "start_time": "2024-09-24T01:54:52.998Z"
   },
   {
    "duration": 259,
    "start_time": "2024-09-24T01:54:53.004Z"
   },
   {
    "duration": 3,
    "start_time": "2024-09-24T01:54:53.265Z"
   },
   {
    "duration": 11,
    "start_time": "2024-09-24T01:54:53.287Z"
   },
   {
    "duration": 4,
    "start_time": "2024-09-24T01:54:53.299Z"
   },
   {
    "duration": 4,
    "start_time": "2024-09-24T01:54:53.305Z"
   },
   {
    "duration": 6,
    "start_time": "2024-09-24T01:54:53.310Z"
   },
   {
    "duration": 246,
    "start_time": "2024-09-24T01:54:53.318Z"
   },
   {
    "duration": 0,
    "start_time": "2024-09-24T01:54:53.565Z"
   },
   {
    "duration": 0,
    "start_time": "2024-09-24T01:54:53.567Z"
   },
   {
    "duration": 0,
    "start_time": "2024-09-24T01:54:53.568Z"
   },
   {
    "duration": 0,
    "start_time": "2024-09-24T01:54:53.569Z"
   },
   {
    "duration": 0,
    "start_time": "2024-09-24T01:54:53.569Z"
   },
   {
    "duration": 0,
    "start_time": "2024-09-24T01:54:53.587Z"
   },
   {
    "duration": 0,
    "start_time": "2024-09-24T01:54:53.588Z"
   },
   {
    "duration": 0,
    "start_time": "2024-09-24T01:54:53.590Z"
   },
   {
    "duration": 0,
    "start_time": "2024-09-24T01:54:53.591Z"
   },
   {
    "duration": 0,
    "start_time": "2024-09-24T01:54:53.594Z"
   },
   {
    "duration": 0,
    "start_time": "2024-09-24T01:54:53.596Z"
   },
   {
    "duration": 0,
    "start_time": "2024-09-24T01:54:53.597Z"
   },
   {
    "duration": 7,
    "start_time": "2024-09-24T01:55:27.021Z"
   },
   {
    "duration": 7,
    "start_time": "2024-09-24T01:55:31.295Z"
   },
   {
    "duration": 2,
    "start_time": "2024-09-24T01:55:32.069Z"
   },
   {
    "duration": 3,
    "start_time": "2024-09-24T01:55:32.769Z"
   },
   {
    "duration": 190473,
    "start_time": "2024-09-24T01:55:33.489Z"
   },
   {
    "duration": 1006,
    "start_time": "2024-09-24T02:02:46.776Z"
   },
   {
    "duration": 573,
    "start_time": "2024-09-24T02:02:47.784Z"
   },
   {
    "duration": 9,
    "start_time": "2024-09-24T02:02:48.359Z"
   },
   {
    "duration": 15,
    "start_time": "2024-09-24T02:02:48.371Z"
   },
   {
    "duration": 23,
    "start_time": "2024-09-24T02:02:48.391Z"
   },
   {
    "duration": 198,
    "start_time": "2024-09-24T02:02:48.416Z"
   },
   {
    "duration": 7,
    "start_time": "2024-09-24T02:02:48.616Z"
   },
   {
    "duration": 4,
    "start_time": "2024-09-24T02:02:48.624Z"
   },
   {
    "duration": 6,
    "start_time": "2024-09-24T02:02:48.630Z"
   },
   {
    "duration": 5,
    "start_time": "2024-09-24T02:02:48.641Z"
   },
   {
    "duration": 62,
    "start_time": "2024-09-24T02:02:48.648Z"
   },
   {
    "duration": 14,
    "start_time": "2024-09-24T02:02:48.712Z"
   },
   {
    "duration": 11,
    "start_time": "2024-09-24T02:02:48.729Z"
   },
   {
    "duration": 220,
    "start_time": "2024-09-24T02:02:48.741Z"
   },
   {
    "duration": 646,
    "start_time": "2024-09-24T02:02:48.963Z"
   },
   {
    "duration": 15,
    "start_time": "2024-09-24T02:02:49.611Z"
   },
   {
    "duration": 12,
    "start_time": "2024-09-24T02:02:49.628Z"
   },
   {
    "duration": 3,
    "start_time": "2024-09-24T02:02:49.642Z"
   },
   {
    "duration": 3,
    "start_time": "2024-09-24T02:02:49.647Z"
   },
   {
    "duration": 497,
    "start_time": "2024-09-24T02:02:49.652Z"
   },
   {
    "duration": 4,
    "start_time": "2024-09-24T02:02:50.153Z"
   },
   {
    "duration": 173,
    "start_time": "2024-09-24T02:02:50.159Z"
   },
   {
    "duration": 4,
    "start_time": "2024-09-24T02:02:50.334Z"
   },
   {
    "duration": 174,
    "start_time": "2024-09-24T02:02:50.340Z"
   },
   {
    "duration": 5,
    "start_time": "2024-09-24T02:02:50.515Z"
   },
   {
    "duration": 235,
    "start_time": "2024-09-24T02:02:50.521Z"
   },
   {
    "duration": 3,
    "start_time": "2024-09-24T02:02:50.758Z"
   },
   {
    "duration": 20,
    "start_time": "2024-09-24T02:02:50.766Z"
   },
   {
    "duration": 3,
    "start_time": "2024-09-24T02:02:50.789Z"
   },
   {
    "duration": 23,
    "start_time": "2024-09-24T02:02:50.794Z"
   },
   {
    "duration": 6,
    "start_time": "2024-09-24T02:02:50.820Z"
   },
   {
    "duration": 6,
    "start_time": "2024-09-24T02:02:50.828Z"
   },
   {
    "duration": 6,
    "start_time": "2024-09-24T02:02:50.836Z"
   },
   {
    "duration": 3,
    "start_time": "2024-09-24T02:02:50.844Z"
   },
   {
    "duration": 3,
    "start_time": "2024-09-24T02:02:50.849Z"
   },
   {
    "duration": 349158,
    "start_time": "2024-09-24T02:02:50.854Z"
   },
   {
    "duration": 0,
    "start_time": "2024-09-24T02:08:40.014Z"
   },
   {
    "duration": 0,
    "start_time": "2024-09-24T02:08:40.015Z"
   },
   {
    "duration": 0,
    "start_time": "2024-09-24T02:08:40.016Z"
   },
   {
    "duration": 0,
    "start_time": "2024-09-24T02:08:40.017Z"
   },
   {
    "duration": 0,
    "start_time": "2024-09-24T02:08:40.018Z"
   },
   {
    "duration": 0,
    "start_time": "2024-09-24T02:08:40.019Z"
   },
   {
    "duration": 0,
    "start_time": "2024-09-24T02:08:40.020Z"
   },
   {
    "duration": 0,
    "start_time": "2024-09-24T02:08:40.022Z"
   },
   {
    "duration": 6,
    "start_time": "2024-09-24T02:08:52.970Z"
   },
   {
    "duration": 1770,
    "start_time": "2024-09-24T02:09:59.839Z"
   },
   {
    "duration": 10,
    "start_time": "2024-09-24T02:11:24.600Z"
   },
   {
    "duration": 170109,
    "start_time": "2024-09-24T02:11:26.242Z"
   },
   {
    "duration": 981,
    "start_time": "2024-09-24T02:14:48.125Z"
   },
   {
    "duration": 561,
    "start_time": "2024-09-24T02:14:49.112Z"
   },
   {
    "duration": 9,
    "start_time": "2024-09-24T02:14:49.675Z"
   },
   {
    "duration": 15,
    "start_time": "2024-09-24T02:14:49.690Z"
   },
   {
    "duration": 10,
    "start_time": "2024-09-24T02:14:49.715Z"
   },
   {
    "duration": 148,
    "start_time": "2024-09-24T02:14:49.727Z"
   },
   {
    "duration": 23,
    "start_time": "2024-09-24T02:14:49.878Z"
   },
   {
    "duration": 5,
    "start_time": "2024-09-24T02:14:49.911Z"
   },
   {
    "duration": 9,
    "start_time": "2024-09-24T02:14:49.918Z"
   },
   {
    "duration": 5,
    "start_time": "2024-09-24T02:14:49.931Z"
   },
   {
    "duration": 29,
    "start_time": "2024-09-24T02:14:49.938Z"
   },
   {
    "duration": 14,
    "start_time": "2024-09-24T02:14:49.970Z"
   },
   {
    "duration": 28,
    "start_time": "2024-09-24T02:14:49.990Z"
   },
   {
    "duration": 212,
    "start_time": "2024-09-24T02:14:50.026Z"
   },
   {
    "duration": 665,
    "start_time": "2024-09-24T02:14:50.240Z"
   },
   {
    "duration": 14,
    "start_time": "2024-09-24T02:14:50.915Z"
   },
   {
    "duration": 10,
    "start_time": "2024-09-24T02:14:50.932Z"
   },
   {
    "duration": 3,
    "start_time": "2024-09-24T02:14:50.943Z"
   },
   {
    "duration": 2,
    "start_time": "2024-09-24T02:14:50.948Z"
   },
   {
    "duration": 476,
    "start_time": "2024-09-24T02:14:50.952Z"
   },
   {
    "duration": 3,
    "start_time": "2024-09-24T02:14:51.430Z"
   },
   {
    "duration": 162,
    "start_time": "2024-09-24T02:14:51.435Z"
   },
   {
    "duration": 6,
    "start_time": "2024-09-24T02:14:51.599Z"
   },
   {
    "duration": 152,
    "start_time": "2024-09-24T02:14:51.617Z"
   },
   {
    "duration": 3,
    "start_time": "2024-09-24T02:14:51.771Z"
   },
   {
    "duration": 234,
    "start_time": "2024-09-24T02:14:51.776Z"
   },
   {
    "duration": 4,
    "start_time": "2024-09-24T02:14:52.012Z"
   },
   {
    "duration": 11,
    "start_time": "2024-09-24T02:14:52.022Z"
   },
   {
    "duration": 3,
    "start_time": "2024-09-24T02:14:52.034Z"
   },
   {
    "duration": 3,
    "start_time": "2024-09-24T02:14:52.039Z"
   },
   {
    "duration": 6,
    "start_time": "2024-09-24T02:14:52.043Z"
   },
   {
    "duration": 7,
    "start_time": "2024-09-24T02:14:52.051Z"
   },
   {
    "duration": 37,
    "start_time": "2024-09-24T02:14:52.060Z"
   },
   {
    "duration": 14,
    "start_time": "2024-09-24T02:14:52.099Z"
   },
   {
    "duration": 4,
    "start_time": "2024-09-24T02:14:52.115Z"
   },
   {
    "duration": 970,
    "start_time": "2024-09-24T02:28:59.514Z"
   },
   {
    "duration": 560,
    "start_time": "2024-09-24T02:29:00.486Z"
   },
   {
    "duration": 9,
    "start_time": "2024-09-24T02:29:01.048Z"
   },
   {
    "duration": 4,
    "start_time": "2024-09-24T02:29:01.061Z"
   },
   {
    "duration": 43,
    "start_time": "2024-09-24T02:29:01.066Z"
   },
   {
    "duration": 155,
    "start_time": "2024-09-24T02:29:01.116Z"
   },
   {
    "duration": 7,
    "start_time": "2024-09-24T02:29:01.273Z"
   },
   {
    "duration": 5,
    "start_time": "2024-09-24T02:29:01.288Z"
   },
   {
    "duration": 12,
    "start_time": "2024-09-24T02:29:01.295Z"
   },
   {
    "duration": 10,
    "start_time": "2024-09-24T02:29:01.309Z"
   },
   {
    "duration": 13,
    "start_time": "2024-09-24T02:29:01.322Z"
   },
   {
    "duration": 28,
    "start_time": "2024-09-24T02:29:01.337Z"
   },
   {
    "duration": 43,
    "start_time": "2024-09-24T02:29:01.367Z"
   },
   {
    "duration": 12,
    "start_time": "2024-09-24T02:29:01.412Z"
   },
   {
    "duration": 237,
    "start_time": "2024-09-24T02:29:01.425Z"
   },
   {
    "duration": 649,
    "start_time": "2024-09-24T02:29:01.664Z"
   },
   {
    "duration": 14,
    "start_time": "2024-09-24T02:29:02.315Z"
   },
   {
    "duration": 10,
    "start_time": "2024-09-24T02:29:02.330Z"
   },
   {
    "duration": 3,
    "start_time": "2024-09-24T02:29:02.341Z"
   },
   {
    "duration": 2,
    "start_time": "2024-09-24T02:29:02.346Z"
   },
   {
    "duration": 507,
    "start_time": "2024-09-24T02:29:02.350Z"
   },
   {
    "duration": 4,
    "start_time": "2024-09-24T02:29:02.866Z"
   },
   {
    "duration": 164,
    "start_time": "2024-09-24T02:29:02.873Z"
   },
   {
    "duration": 4,
    "start_time": "2024-09-24T02:29:03.039Z"
   },
   {
    "duration": 184,
    "start_time": "2024-09-24T02:29:03.045Z"
   },
   {
    "duration": 4,
    "start_time": "2024-09-24T02:29:03.233Z"
   },
   {
    "duration": 242,
    "start_time": "2024-09-24T02:29:03.239Z"
   },
   {
    "duration": 15,
    "start_time": "2024-09-24T02:29:03.490Z"
   },
   {
    "duration": 18,
    "start_time": "2024-09-24T02:29:03.518Z"
   },
   {
    "duration": 3,
    "start_time": "2024-09-24T02:29:03.538Z"
   },
   {
    "duration": 3,
    "start_time": "2024-09-24T02:29:03.543Z"
   },
   {
    "duration": 5,
    "start_time": "2024-09-24T02:29:03.547Z"
   },
   {
    "duration": 6,
    "start_time": "2024-09-24T02:29:03.555Z"
   },
   {
    "duration": 8,
    "start_time": "2024-09-24T02:29:03.563Z"
   },
   {
    "duration": 3,
    "start_time": "2024-09-24T02:29:03.573Z"
   },
   {
    "duration": 15,
    "start_time": "2024-09-24T02:29:03.578Z"
   },
   {
    "duration": 1078906,
    "start_time": "2024-09-24T02:29:03.595Z"
   },
   {
    "duration": 4,
    "start_time": "2024-09-24T02:47:02.515Z"
   },
   {
    "duration": 7,
    "start_time": "2024-09-24T02:47:02.521Z"
   },
   {
    "duration": 374,
    "start_time": "2024-09-24T02:47:02.529Z"
   },
   {
    "duration": 0,
    "start_time": "2024-09-24T02:47:02.907Z"
   },
   {
    "duration": 0,
    "start_time": "2024-09-24T02:47:02.911Z"
   },
   {
    "duration": 0,
    "start_time": "2024-09-24T02:47:02.915Z"
   },
   {
    "duration": 2,
    "start_time": "2024-09-24T02:50:38.639Z"
   },
   {
    "duration": 7,
    "start_time": "2024-09-24T02:51:07.092Z"
   },
   {
    "duration": 5,
    "start_time": "2024-09-24T02:51:41.616Z"
   },
   {
    "duration": 6,
    "start_time": "2024-09-24T02:51:52.707Z"
   },
   {
    "duration": 11,
    "start_time": "2024-09-24T02:52:15.207Z"
   },
   {
    "duration": 20,
    "start_time": "2024-09-24T02:52:17.608Z"
   },
   {
    "duration": 6,
    "start_time": "2024-09-24T13:53:39.569Z"
   },
   {
    "duration": 155,
    "start_time": "2024-09-24T13:53:39.753Z"
   },
   {
    "duration": 2544,
    "start_time": "2024-09-24T13:54:42.339Z"
   },
   {
    "duration": 630,
    "start_time": "2024-09-24T13:54:44.886Z"
   },
   {
    "duration": 12,
    "start_time": "2024-09-24T13:54:45.518Z"
   },
   {
    "duration": 4,
    "start_time": "2024-09-24T13:54:45.532Z"
   },
   {
    "duration": 11,
    "start_time": "2024-09-24T13:54:45.538Z"
   },
   {
    "duration": 112,
    "start_time": "2024-09-24T13:54:45.550Z"
   },
   {
    "duration": 7,
    "start_time": "2024-09-24T13:54:45.664Z"
   },
   {
    "duration": 4,
    "start_time": "2024-09-24T13:54:45.673Z"
   },
   {
    "duration": 7,
    "start_time": "2024-09-24T13:54:45.679Z"
   },
   {
    "duration": 3,
    "start_time": "2024-09-24T13:54:45.689Z"
   },
   {
    "duration": 36,
    "start_time": "2024-09-24T13:54:45.693Z"
   },
   {
    "duration": 26,
    "start_time": "2024-09-24T13:54:45.730Z"
   },
   {
    "duration": 12,
    "start_time": "2024-09-24T13:54:45.757Z"
   },
   {
    "duration": 10,
    "start_time": "2024-09-24T13:54:45.771Z"
   },
   {
    "duration": 208,
    "start_time": "2024-09-24T13:54:45.782Z"
   },
   {
    "duration": 643,
    "start_time": "2024-09-24T13:54:45.992Z"
   },
   {
    "duration": 12,
    "start_time": "2024-09-24T13:54:46.637Z"
   },
   {
    "duration": 10,
    "start_time": "2024-09-24T13:54:46.650Z"
   },
   {
    "duration": 3,
    "start_time": "2024-09-24T13:54:46.661Z"
   },
   {
    "duration": 3,
    "start_time": "2024-09-24T13:54:46.665Z"
   },
   {
    "duration": 466,
    "start_time": "2024-09-24T13:54:46.669Z"
   },
   {
    "duration": 4,
    "start_time": "2024-09-24T13:54:47.137Z"
   },
   {
    "duration": 147,
    "start_time": "2024-09-24T13:54:47.143Z"
   },
   {
    "duration": 4,
    "start_time": "2024-09-24T13:54:47.292Z"
   },
   {
    "duration": 153,
    "start_time": "2024-09-24T13:54:47.298Z"
   },
   {
    "duration": 4,
    "start_time": "2024-09-24T13:54:47.453Z"
   },
   {
    "duration": 151,
    "start_time": "2024-09-24T13:54:47.459Z"
   },
   {
    "duration": 3,
    "start_time": "2024-09-24T13:54:47.614Z"
   },
   {
    "duration": 11,
    "start_time": "2024-09-24T13:54:47.624Z"
   },
   {
    "duration": 5,
    "start_time": "2024-09-24T13:54:47.637Z"
   },
   {
    "duration": 3,
    "start_time": "2024-09-24T13:54:47.644Z"
   },
   {
    "duration": 5,
    "start_time": "2024-09-24T13:54:47.648Z"
   },
   {
    "duration": 6,
    "start_time": "2024-09-24T13:54:47.655Z"
   },
   {
    "duration": 5,
    "start_time": "2024-09-24T13:54:47.663Z"
   },
   {
    "duration": 3,
    "start_time": "2024-09-24T13:54:47.670Z"
   },
   {
    "duration": 4,
    "start_time": "2024-09-24T13:54:47.674Z"
   },
   {
    "duration": 1017135,
    "start_time": "2024-09-24T13:54:47.679Z"
   },
   {
    "duration": 309,
    "start_time": "2024-09-24T14:11:44.816Z"
   },
   {
    "duration": 0,
    "start_time": "2024-09-24T14:11:45.127Z"
   },
   {
    "duration": 0,
    "start_time": "2024-09-24T14:11:45.128Z"
   },
   {
    "duration": 0,
    "start_time": "2024-09-24T14:11:45.128Z"
   },
   {
    "duration": 0,
    "start_time": "2024-09-24T14:11:45.130Z"
   },
   {
    "duration": 0,
    "start_time": "2024-09-24T14:11:45.130Z"
   },
   {
    "duration": 1456,
    "start_time": "2024-09-24T16:14:31.572Z"
   },
   {
    "duration": 841,
    "start_time": "2024-09-24T16:14:56.991Z"
   },
   {
    "duration": 496,
    "start_time": "2024-09-24T16:14:57.834Z"
   },
   {
    "duration": 10,
    "start_time": "2024-09-24T16:14:58.331Z"
   },
   {
    "duration": 3,
    "start_time": "2024-09-24T16:14:58.343Z"
   },
   {
    "duration": 10,
    "start_time": "2024-09-24T16:14:58.348Z"
   },
   {
    "duration": 154,
    "start_time": "2024-09-24T16:14:58.360Z"
   },
   {
    "duration": 9,
    "start_time": "2024-09-24T16:14:58.516Z"
   },
   {
    "duration": 4,
    "start_time": "2024-09-24T16:14:58.527Z"
   },
   {
    "duration": 6,
    "start_time": "2024-09-24T16:14:58.532Z"
   },
   {
    "duration": 3,
    "start_time": "2024-09-24T16:14:58.541Z"
   },
   {
    "duration": 11,
    "start_time": "2024-09-24T16:14:58.545Z"
   },
   {
    "duration": 24,
    "start_time": "2024-09-24T16:14:58.557Z"
   },
   {
    "duration": 49,
    "start_time": "2024-09-24T16:14:58.582Z"
   },
   {
    "duration": 9,
    "start_time": "2024-09-24T16:14:58.632Z"
   },
   {
    "duration": 204,
    "start_time": "2024-09-24T16:14:58.643Z"
   },
   {
    "duration": 601,
    "start_time": "2024-09-24T16:14:58.848Z"
   },
   {
    "duration": 13,
    "start_time": "2024-09-24T16:14:59.451Z"
   },
   {
    "duration": 9,
    "start_time": "2024-09-24T16:14:59.465Z"
   },
   {
    "duration": 2,
    "start_time": "2024-09-24T16:14:59.477Z"
   },
   {
    "duration": 2,
    "start_time": "2024-09-24T16:14:59.481Z"
   },
   {
    "duration": 461,
    "start_time": "2024-09-24T16:14:59.485Z"
   },
   {
    "duration": 5,
    "start_time": "2024-09-24T16:14:59.948Z"
   },
   {
    "duration": 148,
    "start_time": "2024-09-24T16:14:59.955Z"
   },
   {
    "duration": 4,
    "start_time": "2024-09-24T16:15:00.106Z"
   },
   {
    "duration": 142,
    "start_time": "2024-09-24T16:15:00.123Z"
   },
   {
    "duration": 4,
    "start_time": "2024-09-24T16:15:00.266Z"
   },
   {
    "duration": 211,
    "start_time": "2024-09-24T16:15:00.272Z"
   },
   {
    "duration": 3,
    "start_time": "2024-09-24T16:15:00.485Z"
   },
   {
    "duration": 10,
    "start_time": "2024-09-24T16:15:00.490Z"
   },
   {
    "duration": 3,
    "start_time": "2024-09-24T16:15:00.502Z"
   },
   {
    "duration": 2,
    "start_time": "2024-09-24T16:15:00.524Z"
   },
   {
    "duration": 5,
    "start_time": "2024-09-24T16:15:00.571Z"
   },
   {
    "duration": 5,
    "start_time": "2024-09-24T16:15:00.579Z"
   },
   {
    "duration": 6,
    "start_time": "2024-09-24T16:15:00.586Z"
   },
   {
    "duration": 2,
    "start_time": "2024-09-24T16:15:00.594Z"
   },
   {
    "duration": 4,
    "start_time": "2024-09-24T16:15:00.598Z"
   },
   {
    "duration": 881,
    "start_time": "2024-09-24T16:22:42.915Z"
   },
   {
    "duration": 496,
    "start_time": "2024-09-24T16:22:43.798Z"
   },
   {
    "duration": 9,
    "start_time": "2024-09-24T16:22:44.295Z"
   },
   {
    "duration": 17,
    "start_time": "2024-09-24T16:22:44.306Z"
   },
   {
    "duration": 12,
    "start_time": "2024-09-24T16:22:44.326Z"
   },
   {
    "duration": 141,
    "start_time": "2024-09-24T16:22:44.340Z"
   },
   {
    "duration": 6,
    "start_time": "2024-09-24T16:22:44.483Z"
   },
   {
    "duration": 3,
    "start_time": "2024-09-24T16:22:44.491Z"
   },
   {
    "duration": 6,
    "start_time": "2024-09-24T16:22:44.496Z"
   },
   {
    "duration": 2,
    "start_time": "2024-09-24T16:22:44.523Z"
   },
   {
    "duration": 10,
    "start_time": "2024-09-24T16:22:44.527Z"
   },
   {
    "duration": 25,
    "start_time": "2024-09-24T16:22:44.538Z"
   },
   {
    "duration": 13,
    "start_time": "2024-09-24T16:22:44.565Z"
   },
   {
    "duration": 9,
    "start_time": "2024-09-24T16:22:44.583Z"
   },
   {
    "duration": 183,
    "start_time": "2024-09-24T16:22:44.624Z"
   },
   {
    "duration": 598,
    "start_time": "2024-09-24T16:22:44.809Z"
   },
   {
    "duration": 21,
    "start_time": "2024-09-24T16:22:45.408Z"
   },
   {
    "duration": 9,
    "start_time": "2024-09-24T16:22:45.431Z"
   },
   {
    "duration": 2,
    "start_time": "2024-09-24T16:22:45.442Z"
   },
   {
    "duration": 3,
    "start_time": "2024-09-24T16:22:45.446Z"
   },
   {
    "duration": 459,
    "start_time": "2024-09-24T16:22:45.450Z"
   },
   {
    "duration": 6,
    "start_time": "2024-09-24T16:22:45.910Z"
   },
   {
    "duration": 140,
    "start_time": "2024-09-24T16:22:45.925Z"
   },
   {
    "duration": 4,
    "start_time": "2024-09-24T16:22:46.067Z"
   },
   {
    "duration": 153,
    "start_time": "2024-09-24T16:22:46.072Z"
   },
   {
    "duration": 4,
    "start_time": "2024-09-24T16:22:46.227Z"
   },
   {
    "duration": 211,
    "start_time": "2024-09-24T16:22:46.233Z"
   },
   {
    "duration": 3,
    "start_time": "2024-09-24T16:22:46.445Z"
   },
   {
    "duration": 12,
    "start_time": "2024-09-24T16:22:46.449Z"
   },
   {
    "duration": 3,
    "start_time": "2024-09-24T16:22:46.463Z"
   },
   {
    "duration": 2,
    "start_time": "2024-09-24T16:22:46.468Z"
   },
   {
    "duration": 4,
    "start_time": "2024-09-24T16:22:46.472Z"
   },
   {
    "duration": 5,
    "start_time": "2024-09-24T16:22:46.478Z"
   },
   {
    "duration": 6,
    "start_time": "2024-09-24T16:22:46.486Z"
   },
   {
    "duration": 32,
    "start_time": "2024-09-24T16:22:46.493Z"
   },
   {
    "duration": 3,
    "start_time": "2024-09-24T16:22:46.527Z"
   },
   {
    "duration": 1095348,
    "start_time": "2024-09-24T16:22:46.531Z"
   },
   {
    "duration": 231,
    "start_time": "2024-09-24T16:41:01.881Z"
   },
   {
    "duration": 0,
    "start_time": "2024-09-24T16:41:02.114Z"
   },
   {
    "duration": 0,
    "start_time": "2024-09-24T16:41:02.115Z"
   },
   {
    "duration": 0,
    "start_time": "2024-09-24T16:41:02.117Z"
   },
   {
    "duration": 0,
    "start_time": "2024-09-24T16:41:02.123Z"
   },
   {
    "duration": 0,
    "start_time": "2024-09-24T16:41:02.124Z"
   },
   {
    "duration": 16,
    "start_time": "2024-09-24T17:11:18.987Z"
   },
   {
    "duration": 1182,
    "start_time": "2024-09-24T17:19:55.402Z"
   },
   {
    "duration": 6,
    "start_time": "2024-09-24T17:22:28.382Z"
   },
   {
    "duration": 1126,
    "start_time": "2024-09-24T17:22:45.725Z"
   },
   {
    "duration": 84611,
    "start_time": "2024-09-24T17:24:17.932Z"
   },
   {
    "duration": 3,
    "start_time": "2024-09-24T17:29:34.184Z"
   },
   {
    "duration": 6,
    "start_time": "2024-09-24T17:29:49.328Z"
   },
   {
    "duration": 13,
    "start_time": "2024-09-24T17:29:56.843Z"
   },
   {
    "duration": 8,
    "start_time": "2024-09-24T17:30:29.813Z"
   },
   {
    "duration": 880,
    "start_time": "2024-09-24T17:37:19.726Z"
   },
   {
    "duration": 492,
    "start_time": "2024-09-24T17:37:20.608Z"
   },
   {
    "duration": 9,
    "start_time": "2024-09-24T17:37:21.101Z"
   },
   {
    "duration": 11,
    "start_time": "2024-09-24T17:37:21.113Z"
   },
   {
    "duration": 11,
    "start_time": "2024-09-24T17:37:21.126Z"
   },
   {
    "duration": 147,
    "start_time": "2024-09-24T17:37:21.138Z"
   },
   {
    "duration": 6,
    "start_time": "2024-09-24T17:37:21.287Z"
   },
   {
    "duration": 6,
    "start_time": "2024-09-24T17:37:21.295Z"
   },
   {
    "duration": 22,
    "start_time": "2024-09-24T17:37:21.302Z"
   },
   {
    "duration": 2,
    "start_time": "2024-09-24T17:37:21.328Z"
   },
   {
    "duration": 10,
    "start_time": "2024-09-24T17:37:21.332Z"
   },
   {
    "duration": 25,
    "start_time": "2024-09-24T17:37:21.344Z"
   },
   {
    "duration": 12,
    "start_time": "2024-09-24T17:37:21.371Z"
   },
   {
    "duration": 40,
    "start_time": "2024-09-24T17:37:21.385Z"
   },
   {
    "duration": 188,
    "start_time": "2024-09-24T17:37:21.426Z"
   },
   {
    "duration": 608,
    "start_time": "2024-09-24T17:37:21.616Z"
   },
   {
    "duration": 18,
    "start_time": "2024-09-24T17:37:22.226Z"
   },
   {
    "duration": 17,
    "start_time": "2024-09-24T17:37:22.246Z"
   },
   {
    "duration": 3,
    "start_time": "2024-09-24T17:37:22.265Z"
   },
   {
    "duration": 4,
    "start_time": "2024-09-24T17:37:22.269Z"
   },
   {
    "duration": 466,
    "start_time": "2024-09-24T17:37:22.274Z"
   },
   {
    "duration": 4,
    "start_time": "2024-09-24T17:37:22.741Z"
   },
   {
    "duration": 147,
    "start_time": "2024-09-24T17:37:22.747Z"
   },
   {
    "duration": 4,
    "start_time": "2024-09-24T17:37:22.895Z"
   },
   {
    "duration": 145,
    "start_time": "2024-09-24T17:37:22.900Z"
   },
   {
    "duration": 4,
    "start_time": "2024-09-24T17:37:23.047Z"
   },
   {
    "duration": 212,
    "start_time": "2024-09-24T17:37:23.052Z"
   },
   {
    "duration": 3,
    "start_time": "2024-09-24T17:37:23.268Z"
   },
   {
    "duration": 11,
    "start_time": "2024-09-24T17:37:23.272Z"
   },
   {
    "duration": 3,
    "start_time": "2024-09-24T17:37:23.285Z"
   },
   {
    "duration": 2,
    "start_time": "2024-09-24T17:37:23.290Z"
   },
   {
    "duration": 29,
    "start_time": "2024-09-24T17:37:23.294Z"
   },
   {
    "duration": 7,
    "start_time": "2024-09-24T17:37:23.325Z"
   },
   {
    "duration": 10,
    "start_time": "2024-09-24T17:37:23.333Z"
   },
   {
    "duration": 4,
    "start_time": "2024-09-24T17:37:23.345Z"
   },
   {
    "duration": 3,
    "start_time": "2024-09-24T17:37:23.351Z"
   },
   {
    "duration": 4053128,
    "start_time": "2024-09-24T17:37:23.355Z"
   },
   {
    "duration": 86973,
    "start_time": "2024-09-24T18:44:56.485Z"
   },
   {
    "duration": 5,
    "start_time": "2024-09-24T18:46:23.460Z"
   },
   {
    "duration": 3,
    "start_time": "2024-09-24T18:46:23.467Z"
   },
   {
    "duration": 7,
    "start_time": "2024-09-24T18:46:23.472Z"
   },
   {
    "duration": 171219,
    "start_time": "2024-09-24T18:49:39.204Z"
   },
   {
    "duration": 12,
    "start_time": "2024-09-24T18:53:45.529Z"
   },
   {
    "duration": 4,
    "start_time": "2024-09-24T18:53:48.000Z"
   },
   {
    "duration": 7,
    "start_time": "2024-09-24T18:55:14.690Z"
   },
   {
    "duration": 8,
    "start_time": "2024-09-24T18:56:48.171Z"
   },
   {
    "duration": 8,
    "start_time": "2024-09-24T19:01:27.152Z"
   },
   {
    "duration": 2598,
    "start_time": "2024-09-24T19:24:33.647Z"
   },
   {
    "duration": 677,
    "start_time": "2024-09-24T19:24:36.247Z"
   },
   {
    "duration": 9,
    "start_time": "2024-09-24T19:24:36.926Z"
   },
   {
    "duration": 4,
    "start_time": "2024-09-24T19:24:36.938Z"
   },
   {
    "duration": 11,
    "start_time": "2024-09-24T19:24:36.943Z"
   },
   {
    "duration": 101,
    "start_time": "2024-09-24T19:24:36.955Z"
   },
   {
    "duration": 7,
    "start_time": "2024-09-24T19:24:37.057Z"
   },
   {
    "duration": 4,
    "start_time": "2024-09-24T19:24:37.065Z"
   },
   {
    "duration": 6,
    "start_time": "2024-09-24T19:24:37.070Z"
   },
   {
    "duration": 2,
    "start_time": "2024-09-24T19:24:37.079Z"
   },
   {
    "duration": 41,
    "start_time": "2024-09-24T19:24:37.083Z"
   },
   {
    "duration": 25,
    "start_time": "2024-09-24T19:24:37.126Z"
   },
   {
    "duration": 12,
    "start_time": "2024-09-24T19:24:37.153Z"
   },
   {
    "duration": 10,
    "start_time": "2024-09-24T19:24:37.167Z"
   },
   {
    "duration": 193,
    "start_time": "2024-09-24T19:24:37.606Z"
   },
   {
    "duration": 198,
    "start_time": "2024-09-24T19:24:57.032Z"
   },
   {
    "duration": 3022,
    "start_time": "2024-09-24T19:25:29.756Z"
   },
   {
    "duration": 3,
    "start_time": "2024-09-24T19:26:01.783Z"
   },
   {
    "duration": 495,
    "start_time": "2024-09-24T19:26:01.948Z"
   },
   {
    "duration": 7,
    "start_time": "2024-09-24T19:26:02.445Z"
   },
   {
    "duration": 4,
    "start_time": "2024-09-24T19:26:02.454Z"
   },
   {
    "duration": 10,
    "start_time": "2024-09-24T19:26:02.536Z"
   },
   {
    "duration": 82,
    "start_time": "2024-09-24T19:26:02.623Z"
   },
   {
    "duration": 6,
    "start_time": "2024-09-24T19:26:02.714Z"
   },
   {
    "duration": 3,
    "start_time": "2024-09-24T19:26:02.870Z"
   },
   {
    "duration": 5,
    "start_time": "2024-09-24T19:26:02.961Z"
   },
   {
    "duration": 2,
    "start_time": "2024-09-24T19:26:03.291Z"
   },
   {
    "duration": 10,
    "start_time": "2024-09-24T19:26:03.385Z"
   },
   {
    "duration": 25,
    "start_time": "2024-09-24T19:26:03.461Z"
   },
   {
    "duration": 12,
    "start_time": "2024-09-24T19:26:03.712Z"
   },
   {
    "duration": 9,
    "start_time": "2024-09-24T19:26:03.793Z"
   },
   {
    "duration": 3,
    "start_time": "2024-09-24T19:26:03.965Z"
   },
   {
    "duration": 3437,
    "start_time": "2024-09-24T19:26:06.500Z"
   },
   {
    "duration": 611,
    "start_time": "2024-09-24T19:26:17.973Z"
   },
   {
    "duration": 657,
    "start_time": "2024-09-24T19:26:28.299Z"
   },
   {
    "duration": 581,
    "start_time": "2024-09-24T19:27:23.146Z"
   },
   {
    "duration": 167,
    "start_time": "2024-09-24T19:27:44.115Z"
   },
   {
    "duration": 576,
    "start_time": "2024-09-24T19:27:45.181Z"
   },
   {
    "duration": 4,
    "start_time": "2024-09-24T19:34:01.029Z"
   },
   {
    "duration": 3,
    "start_time": "2024-09-24T19:34:34.680Z"
   },
   {
    "duration": 157,
    "start_time": "2024-09-25T00:31:00.049Z"
   },
   {
    "duration": 2667,
    "start_time": "2024-09-25T00:33:49.457Z"
   },
   {
    "duration": 670,
    "start_time": "2024-09-25T00:33:52.126Z"
   },
   {
    "duration": 9,
    "start_time": "2024-09-25T00:33:52.798Z"
   },
   {
    "duration": 4,
    "start_time": "2024-09-25T00:33:52.810Z"
   },
   {
    "duration": 11,
    "start_time": "2024-09-25T00:33:52.815Z"
   },
   {
    "duration": 127,
    "start_time": "2024-09-25T00:33:52.829Z"
   },
   {
    "duration": 17,
    "start_time": "2024-09-25T00:33:52.958Z"
   },
   {
    "duration": 3,
    "start_time": "2024-09-25T00:33:52.977Z"
   },
   {
    "duration": 6,
    "start_time": "2024-09-25T00:33:52.981Z"
   },
   {
    "duration": 11,
    "start_time": "2024-09-25T00:33:52.990Z"
   },
   {
    "duration": 25,
    "start_time": "2024-09-25T00:33:53.002Z"
   },
   {
    "duration": 46,
    "start_time": "2024-09-25T00:33:53.029Z"
   },
   {
    "duration": 10,
    "start_time": "2024-09-25T00:33:53.078Z"
   },
   {
    "duration": 619,
    "start_time": "2024-09-25T00:33:53.089Z"
   },
   {
    "duration": 11,
    "start_time": "2024-09-25T00:33:53.712Z"
   },
   {
    "duration": 8,
    "start_time": "2024-09-25T00:33:53.724Z"
   },
   {
    "duration": 3,
    "start_time": "2024-09-25T00:33:53.734Z"
   },
   {
    "duration": 3,
    "start_time": "2024-09-25T00:33:53.739Z"
   },
   {
    "duration": 605,
    "start_time": "2024-09-25T00:33:53.743Z"
   },
   {
    "duration": 4,
    "start_time": "2024-09-25T00:33:54.350Z"
   },
   {
    "duration": 156,
    "start_time": "2024-09-25T00:33:54.356Z"
   },
   {
    "duration": 4,
    "start_time": "2024-09-25T00:33:54.514Z"
   },
   {
    "duration": 150,
    "start_time": "2024-09-25T00:33:54.521Z"
   },
   {
    "duration": 5,
    "start_time": "2024-09-25T00:33:54.673Z"
   },
   {
    "duration": 163,
    "start_time": "2024-09-25T00:33:54.679Z"
   },
   {
    "duration": 12,
    "start_time": "2024-09-25T00:33:54.844Z"
   },
   {
    "duration": 12,
    "start_time": "2024-09-25T00:33:54.858Z"
   },
   {
    "duration": 2,
    "start_time": "2024-09-25T00:33:54.875Z"
   },
   {
    "duration": 5,
    "start_time": "2024-09-25T00:33:54.879Z"
   },
   {
    "duration": 5,
    "start_time": "2024-09-25T00:33:54.886Z"
   },
   {
    "duration": 687,
    "start_time": "2024-09-25T00:33:54.893Z"
   },
   {
    "duration": 0,
    "start_time": "2024-09-25T00:33:55.582Z"
   },
   {
    "duration": 0,
    "start_time": "2024-09-25T00:33:55.583Z"
   },
   {
    "duration": 0,
    "start_time": "2024-09-25T00:33:55.585Z"
   },
   {
    "duration": 0,
    "start_time": "2024-09-25T00:33:55.586Z"
   },
   {
    "duration": 0,
    "start_time": "2024-09-25T00:33:55.586Z"
   },
   {
    "duration": 0,
    "start_time": "2024-09-25T00:33:55.587Z"
   },
   {
    "duration": 0,
    "start_time": "2024-09-25T00:33:55.588Z"
   },
   {
    "duration": 0,
    "start_time": "2024-09-25T00:33:55.589Z"
   },
   {
    "duration": 20,
    "start_time": "2024-09-25T00:37:40.227Z"
   },
   {
    "duration": 976,
    "start_time": "2024-09-25T00:37:56.275Z"
   },
   {
    "duration": 482,
    "start_time": "2024-09-25T00:37:57.254Z"
   },
   {
    "duration": 9,
    "start_time": "2024-09-25T00:37:57.738Z"
   },
   {
    "duration": 4,
    "start_time": "2024-09-25T00:37:57.749Z"
   },
   {
    "duration": 10,
    "start_time": "2024-09-25T00:37:57.770Z"
   },
   {
    "duration": 143,
    "start_time": "2024-09-25T00:37:57.782Z"
   },
   {
    "duration": 7,
    "start_time": "2024-09-25T00:37:57.927Z"
   },
   {
    "duration": 4,
    "start_time": "2024-09-25T00:37:57.936Z"
   },
   {
    "duration": 5,
    "start_time": "2024-09-25T00:37:57.942Z"
   },
   {
    "duration": 11,
    "start_time": "2024-09-25T00:37:57.971Z"
   },
   {
    "duration": 29,
    "start_time": "2024-09-25T00:37:57.983Z"
   },
   {
    "duration": 13,
    "start_time": "2024-09-25T00:37:58.013Z"
   },
   {
    "duration": 10,
    "start_time": "2024-09-25T00:37:58.027Z"
   },
   {
    "duration": 649,
    "start_time": "2024-09-25T00:37:58.038Z"
   },
   {
    "duration": 14,
    "start_time": "2024-09-25T00:37:58.688Z"
   },
   {
    "duration": 10,
    "start_time": "2024-09-25T00:37:58.703Z"
   },
   {
    "duration": 2,
    "start_time": "2024-09-25T00:37:58.714Z"
   },
   {
    "duration": 3,
    "start_time": "2024-09-25T00:37:58.718Z"
   },
   {
    "duration": 488,
    "start_time": "2024-09-25T00:37:58.723Z"
   },
   {
    "duration": 4,
    "start_time": "2024-09-25T00:37:59.213Z"
   },
   {
    "duration": 160,
    "start_time": "2024-09-25T00:37:59.218Z"
   },
   {
    "duration": 5,
    "start_time": "2024-09-25T00:37:59.380Z"
   },
   {
    "duration": 147,
    "start_time": "2024-09-25T00:37:59.386Z"
   },
   {
    "duration": 5,
    "start_time": "2024-09-25T00:37:59.535Z"
   },
   {
    "duration": 241,
    "start_time": "2024-09-25T00:37:59.542Z"
   },
   {
    "duration": 12,
    "start_time": "2024-09-25T00:37:59.785Z"
   },
   {
    "duration": 2,
    "start_time": "2024-09-25T00:37:59.799Z"
   },
   {
    "duration": 2,
    "start_time": "2024-09-25T00:37:59.805Z"
   },
   {
    "duration": 5,
    "start_time": "2024-09-25T00:37:59.809Z"
   },
   {
    "duration": 6,
    "start_time": "2024-09-25T00:37:59.817Z"
   },
   {
    "duration": 702,
    "start_time": "2024-09-25T00:37:59.824Z"
   },
   {
    "duration": 0,
    "start_time": "2024-09-25T00:38:00.528Z"
   },
   {
    "duration": 0,
    "start_time": "2024-09-25T00:38:00.530Z"
   },
   {
    "duration": 0,
    "start_time": "2024-09-25T00:38:00.531Z"
   },
   {
    "duration": 0,
    "start_time": "2024-09-25T00:38:00.532Z"
   },
   {
    "duration": 0,
    "start_time": "2024-09-25T00:38:00.534Z"
   },
   {
    "duration": 0,
    "start_time": "2024-09-25T00:38:00.535Z"
   },
   {
    "duration": 0,
    "start_time": "2024-09-25T00:38:00.536Z"
   },
   {
    "duration": 0,
    "start_time": "2024-09-25T00:38:00.538Z"
   },
   {
    "duration": 251,
    "start_time": "2024-09-25T00:38:48.067Z"
   },
   {
    "duration": 5,
    "start_time": "2024-09-25T00:41:33.040Z"
   },
   {
    "duration": 130,
    "start_time": "2024-09-25T00:41:35.499Z"
   },
   {
    "duration": 926,
    "start_time": "2024-09-25T00:44:08.300Z"
   },
   {
    "duration": 482,
    "start_time": "2024-09-25T00:44:09.228Z"
   },
   {
    "duration": 10,
    "start_time": "2024-09-25T00:44:09.712Z"
   },
   {
    "duration": 4,
    "start_time": "2024-09-25T00:44:09.724Z"
   },
   {
    "duration": 10,
    "start_time": "2024-09-25T00:44:09.730Z"
   },
   {
    "duration": 158,
    "start_time": "2024-09-25T00:44:09.742Z"
   },
   {
    "duration": 6,
    "start_time": "2024-09-25T00:44:09.901Z"
   },
   {
    "duration": 4,
    "start_time": "2024-09-25T00:44:09.908Z"
   },
   {
    "duration": 6,
    "start_time": "2024-09-25T00:44:09.914Z"
   },
   {
    "duration": 10,
    "start_time": "2024-09-25T00:44:09.924Z"
   },
   {
    "duration": 58,
    "start_time": "2024-09-25T00:44:09.936Z"
   },
   {
    "duration": 13,
    "start_time": "2024-09-25T00:44:09.996Z"
   },
   {
    "duration": 11,
    "start_time": "2024-09-25T00:44:10.011Z"
   },
   {
    "duration": 622,
    "start_time": "2024-09-25T00:44:10.024Z"
   },
   {
    "duration": 11,
    "start_time": "2024-09-25T00:44:10.647Z"
   },
   {
    "duration": 16,
    "start_time": "2024-09-25T00:44:10.660Z"
   },
   {
    "duration": 2,
    "start_time": "2024-09-25T00:44:10.678Z"
   },
   {
    "duration": 3,
    "start_time": "2024-09-25T00:44:10.682Z"
   },
   {
    "duration": 496,
    "start_time": "2024-09-25T00:44:10.686Z"
   },
   {
    "duration": 5,
    "start_time": "2024-09-25T00:44:11.184Z"
   },
   {
    "duration": 156,
    "start_time": "2024-09-25T00:44:11.191Z"
   },
   {
    "duration": 4,
    "start_time": "2024-09-25T00:44:11.349Z"
   },
   {
    "duration": 144,
    "start_time": "2024-09-25T00:44:11.355Z"
   },
   {
    "duration": 4,
    "start_time": "2024-09-25T00:44:11.501Z"
   },
   {
    "duration": 239,
    "start_time": "2024-09-25T00:44:11.506Z"
   },
   {
    "duration": 11,
    "start_time": "2024-09-25T00:44:11.747Z"
   },
   {
    "duration": 4,
    "start_time": "2024-09-25T00:44:11.770Z"
   },
   {
    "duration": 2,
    "start_time": "2024-09-25T00:44:11.778Z"
   },
   {
    "duration": 6,
    "start_time": "2024-09-25T00:44:11.781Z"
   },
   {
    "duration": 5,
    "start_time": "2024-09-25T00:44:11.788Z"
   },
   {
    "duration": 5,
    "start_time": "2024-09-25T00:44:11.796Z"
   },
   {
    "duration": 250,
    "start_time": "2024-09-25T00:44:11.802Z"
   },
   {
    "duration": 0,
    "start_time": "2024-09-25T00:44:12.054Z"
   },
   {
    "duration": 0,
    "start_time": "2024-09-25T00:44:12.055Z"
   },
   {
    "duration": 0,
    "start_time": "2024-09-25T00:44:12.056Z"
   },
   {
    "duration": 0,
    "start_time": "2024-09-25T00:44:12.057Z"
   },
   {
    "duration": 0,
    "start_time": "2024-09-25T00:44:12.058Z"
   },
   {
    "duration": 0,
    "start_time": "2024-09-25T00:44:12.070Z"
   },
   {
    "duration": 0,
    "start_time": "2024-09-25T00:44:12.071Z"
   },
   {
    "duration": 14,
    "start_time": "2024-09-25T00:46:09.922Z"
   },
   {
    "duration": 3,
    "start_time": "2024-09-25T00:46:11.700Z"
   },
   {
    "duration": 3,
    "start_time": "2024-09-25T00:46:12.459Z"
   },
   {
    "duration": 147,
    "start_time": "2024-09-25T00:46:13.355Z"
   },
   {
    "duration": 21,
    "start_time": "2024-09-25T00:50:31.219Z"
   },
   {
    "duration": 2,
    "start_time": "2024-09-25T00:50:38.209Z"
   },
   {
    "duration": 3,
    "start_time": "2024-09-25T00:50:38.707Z"
   },
   {
    "duration": 5,
    "start_time": "2024-09-25T00:50:39.112Z"
   },
   {
    "duration": 6,
    "start_time": "2024-09-25T00:50:39.530Z"
   },
   {
    "duration": 6,
    "start_time": "2024-09-25T00:50:40.000Z"
   },
   {
    "duration": 13,
    "start_time": "2024-09-25T00:50:40.719Z"
   },
   {
    "duration": 3,
    "start_time": "2024-09-25T00:50:41.776Z"
   },
   {
    "duration": 3,
    "start_time": "2024-09-25T00:50:42.230Z"
   },
   {
    "duration": 1089197,
    "start_time": "2024-09-25T00:50:42.895Z"
   },
   {
    "duration": 0,
    "start_time": "2024-09-25T01:08:52.094Z"
   },
   {
    "duration": 164018,
    "start_time": "2024-09-25T01:08:55.011Z"
   },
   {
    "duration": 6,
    "start_time": "2024-09-25T01:11:56.987Z"
   },
   {
    "duration": 3,
    "start_time": "2024-09-25T01:11:59.674Z"
   },
   {
    "duration": 7,
    "start_time": "2024-09-25T01:12:02.185Z"
   },
   {
    "duration": 960,
    "start_time": "2024-09-25T01:12:45.719Z"
   },
   {
    "duration": 512,
    "start_time": "2024-09-25T01:12:46.681Z"
   },
   {
    "duration": 10,
    "start_time": "2024-09-25T01:12:47.195Z"
   },
   {
    "duration": 6,
    "start_time": "2024-09-25T01:12:47.209Z"
   },
   {
    "duration": 12,
    "start_time": "2024-09-25T01:12:47.216Z"
   },
   {
    "duration": 161,
    "start_time": "2024-09-25T01:12:47.229Z"
   },
   {
    "duration": 5,
    "start_time": "2024-09-25T01:12:47.392Z"
   },
   {
    "duration": 3,
    "start_time": "2024-09-25T01:12:47.399Z"
   },
   {
    "duration": 5,
    "start_time": "2024-09-25T01:12:47.404Z"
   },
   {
    "duration": 10,
    "start_time": "2024-09-25T01:12:47.412Z"
   },
   {
    "duration": 58,
    "start_time": "2024-09-25T01:12:47.424Z"
   },
   {
    "duration": 12,
    "start_time": "2024-09-25T01:12:47.483Z"
   },
   {
    "duration": 9,
    "start_time": "2024-09-25T01:12:47.497Z"
   },
   {
    "duration": 620,
    "start_time": "2024-09-25T01:12:47.508Z"
   },
   {
    "duration": 12,
    "start_time": "2024-09-25T01:12:48.130Z"
   },
   {
    "duration": 8,
    "start_time": "2024-09-25T01:12:48.144Z"
   },
   {
    "duration": 2,
    "start_time": "2024-09-25T01:12:48.170Z"
   },
   {
    "duration": 2,
    "start_time": "2024-09-25T01:12:48.174Z"
   },
   {
    "duration": 481,
    "start_time": "2024-09-25T01:12:48.178Z"
   },
   {
    "duration": 11,
    "start_time": "2024-09-25T01:12:48.661Z"
   },
   {
    "duration": 149,
    "start_time": "2024-09-25T01:12:48.674Z"
   },
   {
    "duration": 3,
    "start_time": "2024-09-25T01:12:48.826Z"
   },
   {
    "duration": 144,
    "start_time": "2024-09-25T01:12:48.831Z"
   },
   {
    "duration": 4,
    "start_time": "2024-09-25T01:12:48.977Z"
   },
   {
    "duration": 241,
    "start_time": "2024-09-25T01:12:48.982Z"
   },
   {
    "duration": 12,
    "start_time": "2024-09-25T01:12:49.225Z"
   },
   {
    "duration": 3,
    "start_time": "2024-09-25T01:12:49.239Z"
   },
   {
    "duration": 2,
    "start_time": "2024-09-25T01:12:49.246Z"
   },
   {
    "duration": 25,
    "start_time": "2024-09-25T01:12:49.250Z"
   },
   {
    "duration": 5,
    "start_time": "2024-09-25T01:12:49.277Z"
   },
   {
    "duration": 5,
    "start_time": "2024-09-25T01:12:49.284Z"
   },
   {
    "duration": 14,
    "start_time": "2024-09-25T01:12:49.291Z"
   },
   {
    "duration": 3,
    "start_time": "2024-09-25T01:12:49.307Z"
   },
   {
    "duration": 3,
    "start_time": "2024-09-25T01:12:49.312Z"
   },
   {
    "duration": 914,
    "start_time": "2024-09-25T01:35:46.928Z"
   },
   {
    "duration": 517,
    "start_time": "2024-09-25T01:35:47.844Z"
   },
   {
    "duration": 14,
    "start_time": "2024-09-25T01:35:48.362Z"
   },
   {
    "duration": 4,
    "start_time": "2024-09-25T01:35:48.378Z"
   },
   {
    "duration": 11,
    "start_time": "2024-09-25T01:35:48.384Z"
   },
   {
    "duration": 152,
    "start_time": "2024-09-25T01:35:48.396Z"
   },
   {
    "duration": 6,
    "start_time": "2024-09-25T01:35:48.549Z"
   },
   {
    "duration": 13,
    "start_time": "2024-09-25T01:35:48.557Z"
   },
   {
    "duration": 6,
    "start_time": "2024-09-25T01:35:48.571Z"
   },
   {
    "duration": 10,
    "start_time": "2024-09-25T01:35:48.581Z"
   },
   {
    "duration": 26,
    "start_time": "2024-09-25T01:35:48.593Z"
   },
   {
    "duration": 13,
    "start_time": "2024-09-25T01:35:48.621Z"
   },
   {
    "duration": 43,
    "start_time": "2024-09-25T01:35:48.636Z"
   },
   {
    "duration": 618,
    "start_time": "2024-09-25T01:35:48.680Z"
   },
   {
    "duration": 11,
    "start_time": "2024-09-25T01:35:49.300Z"
   },
   {
    "duration": 8,
    "start_time": "2024-09-25T01:35:49.314Z"
   },
   {
    "duration": 4,
    "start_time": "2024-09-25T01:35:49.324Z"
   },
   {
    "duration": 2,
    "start_time": "2024-09-25T01:35:49.329Z"
   },
   {
    "duration": 498,
    "start_time": "2024-09-25T01:35:49.333Z"
   },
   {
    "duration": 5,
    "start_time": "2024-09-25T01:35:49.833Z"
   },
   {
    "duration": 155,
    "start_time": "2024-09-25T01:35:49.840Z"
   },
   {
    "duration": 5,
    "start_time": "2024-09-25T01:35:49.996Z"
   },
   {
    "duration": 146,
    "start_time": "2024-09-25T01:35:50.003Z"
   },
   {
    "duration": 4,
    "start_time": "2024-09-25T01:35:50.151Z"
   },
   {
    "duration": 245,
    "start_time": "2024-09-25T01:35:50.156Z"
   },
   {
    "duration": 11,
    "start_time": "2024-09-25T01:35:50.403Z"
   },
   {
    "duration": 2,
    "start_time": "2024-09-25T01:35:50.416Z"
   },
   {
    "duration": 2,
    "start_time": "2024-09-25T01:35:50.422Z"
   },
   {
    "duration": 5,
    "start_time": "2024-09-25T01:35:50.427Z"
   },
   {
    "duration": 7,
    "start_time": "2024-09-25T01:35:50.433Z"
   },
   {
    "duration": 32,
    "start_time": "2024-09-25T01:35:50.441Z"
   },
   {
    "duration": 14,
    "start_time": "2024-09-25T01:35:50.475Z"
   },
   {
    "duration": 2,
    "start_time": "2024-09-25T01:35:50.492Z"
   },
   {
    "duration": 3,
    "start_time": "2024-09-25T01:35:50.496Z"
   },
   {
    "duration": 75652,
    "start_time": "2024-09-25T01:35:50.500Z"
   },
   {
    "duration": 0,
    "start_time": "2024-09-25T01:37:06.154Z"
   },
   {
    "duration": 0,
    "start_time": "2024-09-25T01:37:06.156Z"
   },
   {
    "duration": 0,
    "start_time": "2024-09-25T01:37:06.157Z"
   },
   {
    "duration": 0,
    "start_time": "2024-09-25T01:37:06.158Z"
   },
   {
    "duration": 164135,
    "start_time": "2024-09-25T01:37:09.006Z"
   },
   {
    "duration": 6,
    "start_time": "2024-09-25T01:54:55.114Z"
   },
   {
    "duration": 3,
    "start_time": "2024-09-25T01:55:20.553Z"
   },
   {
    "duration": 435613,
    "start_time": "2024-09-25T01:55:21.330Z"
   },
   {
    "duration": 202,
    "start_time": "2024-09-25T09:37:52.271Z"
   },
   {
    "duration": 5,
    "start_time": "2024-09-25T09:37:53.365Z"
   },
   {
    "duration": 4,
    "start_time": "2024-09-25T09:37:59.434Z"
   },
   {
    "duration": 8,
    "start_time": "2024-09-25T09:38:00.376Z"
   },
   {
    "duration": 8,
    "start_time": "2024-09-25T14:15:18.847Z"
   },
   {
    "duration": 206,
    "start_time": "2024-09-25T14:15:19.596Z"
   },
   {
    "duration": 12,
    "start_time": "2024-09-25T14:15:23.830Z"
   },
   {
    "duration": 2735,
    "start_time": "2024-09-25T14:15:30.150Z"
   },
   {
    "duration": 767,
    "start_time": "2024-09-25T14:15:32.887Z"
   },
   {
    "duration": 10,
    "start_time": "2024-09-25T14:15:33.657Z"
   },
   {
    "duration": 5,
    "start_time": "2024-09-25T14:15:33.670Z"
   },
   {
    "duration": 12,
    "start_time": "2024-09-25T14:15:33.678Z"
   },
   {
    "duration": 120,
    "start_time": "2024-09-25T14:15:33.692Z"
   },
   {
    "duration": 8,
    "start_time": "2024-09-25T14:15:33.814Z"
   },
   {
    "duration": 4,
    "start_time": "2024-09-25T14:15:33.824Z"
   },
   {
    "duration": 7,
    "start_time": "2024-09-25T14:15:33.830Z"
   },
   {
    "duration": 13,
    "start_time": "2024-09-25T14:15:33.839Z"
   },
   {
    "duration": 56,
    "start_time": "2024-09-25T14:15:33.854Z"
   },
   {
    "duration": 16,
    "start_time": "2024-09-25T14:15:33.914Z"
   },
   {
    "duration": 10,
    "start_time": "2024-09-25T14:15:33.932Z"
   },
   {
    "duration": 727,
    "start_time": "2024-09-25T14:15:33.946Z"
   },
   {
    "duration": 12,
    "start_time": "2024-09-25T14:15:34.675Z"
   },
   {
    "duration": 23,
    "start_time": "2024-09-25T14:15:34.689Z"
   },
   {
    "duration": 4,
    "start_time": "2024-09-25T14:15:34.714Z"
   },
   {
    "duration": 3,
    "start_time": "2024-09-25T14:15:34.721Z"
   },
   {
    "duration": 533,
    "start_time": "2024-09-25T14:15:34.727Z"
   },
   {
    "duration": 5,
    "start_time": "2024-09-25T14:15:35.262Z"
   },
   {
    "duration": 167,
    "start_time": "2024-09-25T14:15:35.269Z"
   },
   {
    "duration": 6,
    "start_time": "2024-09-25T14:15:35.438Z"
   },
   {
    "duration": 193,
    "start_time": "2024-09-25T14:15:35.445Z"
   },
   {
    "duration": 6,
    "start_time": "2024-09-25T14:15:35.639Z"
   },
   {
    "duration": 170,
    "start_time": "2024-09-25T14:15:35.646Z"
   },
   {
    "duration": 12,
    "start_time": "2024-09-25T14:15:35.818Z"
   },
   {
    "duration": 3,
    "start_time": "2024-09-25T14:15:35.832Z"
   },
   {
    "duration": 3,
    "start_time": "2024-09-25T14:15:35.837Z"
   },
   {
    "duration": 6,
    "start_time": "2024-09-25T14:15:35.842Z"
   },
   {
    "duration": 7,
    "start_time": "2024-09-25T14:15:35.849Z"
   },
   {
    "duration": 8,
    "start_time": "2024-09-25T14:15:35.858Z"
   },
   {
    "duration": 52,
    "start_time": "2024-09-25T14:15:35.868Z"
   },
   {
    "duration": 5,
    "start_time": "2024-09-25T14:15:35.922Z"
   },
   {
    "duration": 3,
    "start_time": "2024-09-25T14:15:35.929Z"
   },
   {
    "duration": 4041292,
    "start_time": "2024-09-25T14:15:35.933Z"
   },
   {
    "duration": 299,
    "start_time": "2024-09-25T15:22:57.227Z"
   },
   {
    "duration": 81,
    "start_time": "2024-09-25T15:22:57.534Z"
   },
   {
    "duration": 5,
    "start_time": "2024-09-25T15:22:57.620Z"
   },
   {
    "duration": 8,
    "start_time": "2024-09-25T15:22:57.628Z"
   }
  ],
  "kernelspec": {
   "display_name": "Python 3 (ipykernel)",
   "language": "python",
   "name": "python3"
  },
  "language_info": {
   "codemirror_mode": {
    "name": "ipython",
    "version": 3
   },
   "file_extension": ".py",
   "mimetype": "text/x-python",
   "name": "python",
   "nbconvert_exporter": "python",
   "pygments_lexer": "ipython3",
   "version": "3.9.19"
  },
  "toc": {
   "base_numbering": 1,
   "nav_menu": {},
   "number_sections": true,
   "sideBar": true,
   "skip_h1_title": true,
   "title_cell": "Table of Contents",
   "title_sidebar": "Contents",
   "toc_cell": false,
   "toc_position": {},
   "toc_section_display": true,
   "toc_window_display": false
  }
 },
 "nbformat": 4,
 "nbformat_minor": 2
}
