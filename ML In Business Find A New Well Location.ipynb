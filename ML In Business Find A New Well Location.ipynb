{
 "cells": [
  {
   "cell_type": "markdown",
   "metadata": {},
   "source": [
    "# Lets Find The Best Region For a New Well"
   ]
  },
  {
   "cell_type": "markdown",
   "metadata": {},
   "source": [
    "# Intro:\n",
    "In this project we are going to be utilizing various ML techniques to help find the best location for a new well. \n",
    "\n",
    "\n",
    "I will:\n",
    "Collect the oil well parameters in the selected region: oil quality and volume of reserves;\n",
    "Build a model for predicting the volume of reserves in the new wells;\n",
    "Pick the oil wells with the highest estimated values;\n",
    "Pick the region with the highest total profit for the selected oil wells.\n",
    "Build a model that will help to pick the region with the highest profit margin. \n",
    "Analyze potential profit and risks using the Bootstrapping technique."
   ]
  },
  {
   "cell_type": "markdown",
   "metadata": {},
   "source": [
    "# Part 1: Download and prepare the data"
   ]
  },
  {
   "cell_type": "code",
   "execution_count": 1,
   "metadata": {},
   "outputs": [],
   "source": [
    "import pandas as pd\n",
    "from sklearn.model_selection import train_test_split\n",
    "from sklearn.linear_model import LinearRegression\n",
    "from sklearn.metrics import mean_squared_error\n",
    "import matplotlib.pyplot as plt\n",
    "from sklearn.preprocessing import StandardScaler\n",
    "import numpy as np"
   ]
  },
  {
   "cell_type": "markdown",
   "metadata": {},
   "source": [
    "Imported the need modules for the project."
   ]
  },
  {
   "cell_type": "code",
   "execution_count": 2,
   "metadata": {},
   "outputs": [],
   "source": [
    "df0 = pd.read_csv('/datasets/geo_data_0.csv')\n",
    "df1 = pd.read_csv('/datasets/geo_data_1.csv')\n",
    "df2 = pd.read_csv('/datasets/geo_data_2.csv')"
   ]
  },
  {
   "cell_type": "code",
   "execution_count": 3,
   "metadata": {},
   "outputs": [
    {
     "name": "stdout",
     "output_type": "stream",
     "text": [
      "<class 'pandas.core.frame.DataFrame'>\n",
      "RangeIndex: 100000 entries, 0 to 99999\n",
      "Data columns (total 5 columns):\n",
      " #   Column   Non-Null Count   Dtype  \n",
      "---  ------   --------------   -----  \n",
      " 0   id       100000 non-null  object \n",
      " 1   f0       100000 non-null  float64\n",
      " 2   f1       100000 non-null  float64\n",
      " 3   f2       100000 non-null  float64\n",
      " 4   product  100000 non-null  float64\n",
      "dtypes: float64(4), object(1)\n",
      "memory usage: 3.8+ MB\n"
     ]
    }
   ],
   "source": [
    "df0.info()"
   ]
  },
  {
   "cell_type": "code",
   "execution_count": 4,
   "metadata": {},
   "outputs": [
    {
     "name": "stdout",
     "output_type": "stream",
     "text": [
      "<class 'pandas.core.frame.DataFrame'>\n",
      "RangeIndex: 100000 entries, 0 to 99999\n",
      "Data columns (total 5 columns):\n",
      " #   Column   Non-Null Count   Dtype  \n",
      "---  ------   --------------   -----  \n",
      " 0   id       100000 non-null  object \n",
      " 1   f0       100000 non-null  float64\n",
      " 2   f1       100000 non-null  float64\n",
      " 3   f2       100000 non-null  float64\n",
      " 4   product  100000 non-null  float64\n",
      "dtypes: float64(4), object(1)\n",
      "memory usage: 3.8+ MB\n"
     ]
    }
   ],
   "source": [
    "df1.info()"
   ]
  },
  {
   "cell_type": "code",
   "execution_count": 5,
   "metadata": {},
   "outputs": [
    {
     "name": "stdout",
     "output_type": "stream",
     "text": [
      "<class 'pandas.core.frame.DataFrame'>\n",
      "RangeIndex: 100000 entries, 0 to 99999\n",
      "Data columns (total 5 columns):\n",
      " #   Column   Non-Null Count   Dtype  \n",
      "---  ------   --------------   -----  \n",
      " 0   id       100000 non-null  object \n",
      " 1   f0       100000 non-null  float64\n",
      " 2   f1       100000 non-null  float64\n",
      " 3   f2       100000 non-null  float64\n",
      " 4   product  100000 non-null  float64\n",
      "dtypes: float64(4), object(1)\n",
      "memory usage: 3.8+ MB\n"
     ]
    }
   ],
   "source": [
    "df2.info()"
   ]
  },
  {
   "cell_type": "code",
   "execution_count": 6,
   "metadata": {},
   "outputs": [
    {
     "data": {
      "text/plain": [
       "HZww2    2\n",
       "bxg6G    2\n",
       "fiKDv    2\n",
       "74z30    2\n",
       "QcMuo    2\n",
       "AGS9W    2\n",
       "A5aEY    2\n",
       "TtcGQ    2\n",
       "Tdehs    2\n",
       "bsk9y    2\n",
       "Name: id, dtype: int64"
      ]
     },
     "execution_count": 6,
     "metadata": {},
     "output_type": "execute_result"
    }
   ],
   "source": [
    "df0['id'].value_counts()[df0['id'].value_counts() > 1]"
   ]
  },
  {
   "cell_type": "code",
   "execution_count": 7,
   "metadata": {},
   "outputs": [
    {
     "data": {
      "text/plain": [
       "wt4Uk    2\n",
       "5ltQ6    2\n",
       "LHZR0    2\n",
       "bfPNe    2\n",
       "Name: id, dtype: int64"
      ]
     },
     "execution_count": 7,
     "metadata": {},
     "output_type": "execute_result"
    }
   ],
   "source": [
    "df1['id'].value_counts()[df1['id'].value_counts() > 1]"
   ]
  },
  {
   "cell_type": "code",
   "execution_count": 8,
   "metadata": {},
   "outputs": [
    {
     "data": {
      "text/plain": [
       "KUPhW    2\n",
       "Vcm5J    2\n",
       "VF7Jo    2\n",
       "xCHr8    2\n",
       "Name: id, dtype: int64"
      ]
     },
     "execution_count": 8,
     "metadata": {},
     "output_type": "execute_result"
    }
   ],
   "source": [
    "df2['id'].value_counts()[df2['id'].value_counts() > 1]"
   ]
  },
  {
   "cell_type": "code",
   "execution_count": 9,
   "metadata": {},
   "outputs": [],
   "source": [
    "df0= df0.drop_duplicates(subset='id', keep=False)\n"
   ]
  },
  {
   "cell_type": "code",
   "execution_count": 10,
   "metadata": {},
   "outputs": [
    {
     "data": {
      "text/plain": [
       "Series([], Name: id, dtype: int64)"
      ]
     },
     "execution_count": 10,
     "metadata": {},
     "output_type": "execute_result"
    }
   ],
   "source": [
    "df0['id'].value_counts()[df0['id'].value_counts() > 1]"
   ]
  },
  {
   "cell_type": "code",
   "execution_count": 11,
   "metadata": {},
   "outputs": [],
   "source": [
    "df1= df1.drop_duplicates(subset='id', keep=False)"
   ]
  },
  {
   "cell_type": "code",
   "execution_count": 12,
   "metadata": {},
   "outputs": [
    {
     "data": {
      "text/plain": [
       "Series([], Name: id, dtype: int64)"
      ]
     },
     "execution_count": 12,
     "metadata": {},
     "output_type": "execute_result"
    }
   ],
   "source": [
    "df1['id'].value_counts()[df1['id'].value_counts() > 1]"
   ]
  },
  {
   "cell_type": "code",
   "execution_count": 13,
   "metadata": {},
   "outputs": [],
   "source": [
    "df2= df2.drop_duplicates(subset='id', keep=False)"
   ]
  },
  {
   "cell_type": "code",
   "execution_count": 14,
   "metadata": {},
   "outputs": [
    {
     "data": {
      "text/plain": [
       "Series([], Name: id, dtype: int64)"
      ]
     },
     "execution_count": 14,
     "metadata": {},
     "output_type": "execute_result"
    }
   ],
   "source": [
    "df2['id'].value_counts()[df2['id'].value_counts() > 1]"
   ]
  },
  {
   "cell_type": "code",
   "execution_count": 15,
   "metadata": {},
   "outputs": [
    {
     "data": {
      "text/plain": [
       "0"
      ]
     },
     "execution_count": 15,
     "metadata": {},
     "output_type": "execute_result"
    }
   ],
   "source": [
    "# Reviewer's code 2\n",
    "\n",
    "df2['id'].duplicated().sum()"
   ]
  },
  {
   "cell_type": "code",
   "execution_count": 16,
   "metadata": {},
   "outputs": [
    {
     "data": {
      "text/html": [
       "<div>\n",
       "<style scoped>\n",
       "    .dataframe tbody tr th:only-of-type {\n",
       "        vertical-align: middle;\n",
       "    }\n",
       "\n",
       "    .dataframe tbody tr th {\n",
       "        vertical-align: top;\n",
       "    }\n",
       "\n",
       "    .dataframe thead th {\n",
       "        text-align: right;\n",
       "    }\n",
       "</style>\n",
       "<table border=\"1\" class=\"dataframe\">\n",
       "  <thead>\n",
       "    <tr style=\"text-align: right;\">\n",
       "      <th></th>\n",
       "      <th>id</th>\n",
       "      <th>f0</th>\n",
       "      <th>f1</th>\n",
       "      <th>f2</th>\n",
       "      <th>product</th>\n",
       "    </tr>\n",
       "  </thead>\n",
       "  <tbody>\n",
       "    <tr>\n",
       "      <th>0</th>\n",
       "      <td>txEyH</td>\n",
       "      <td>0.705745</td>\n",
       "      <td>-0.497823</td>\n",
       "      <td>1.221170</td>\n",
       "      <td>105.280062</td>\n",
       "    </tr>\n",
       "    <tr>\n",
       "      <th>1</th>\n",
       "      <td>2acmU</td>\n",
       "      <td>1.334711</td>\n",
       "      <td>-0.340164</td>\n",
       "      <td>4.365080</td>\n",
       "      <td>73.037750</td>\n",
       "    </tr>\n",
       "    <tr>\n",
       "      <th>2</th>\n",
       "      <td>409Wp</td>\n",
       "      <td>1.022732</td>\n",
       "      <td>0.151990</td>\n",
       "      <td>1.419926</td>\n",
       "      <td>85.265647</td>\n",
       "    </tr>\n",
       "    <tr>\n",
       "      <th>3</th>\n",
       "      <td>iJLyR</td>\n",
       "      <td>-0.032172</td>\n",
       "      <td>0.139033</td>\n",
       "      <td>2.978566</td>\n",
       "      <td>168.620776</td>\n",
       "    </tr>\n",
       "    <tr>\n",
       "      <th>4</th>\n",
       "      <td>Xdl7t</td>\n",
       "      <td>1.988431</td>\n",
       "      <td>0.155413</td>\n",
       "      <td>4.751769</td>\n",
       "      <td>154.036647</td>\n",
       "    </tr>\n",
       "  </tbody>\n",
       "</table>\n",
       "</div>"
      ],
      "text/plain": [
       "      id        f0        f1        f2     product\n",
       "0  txEyH  0.705745 -0.497823  1.221170  105.280062\n",
       "1  2acmU  1.334711 -0.340164  4.365080   73.037750\n",
       "2  409Wp  1.022732  0.151990  1.419926   85.265647\n",
       "3  iJLyR -0.032172  0.139033  2.978566  168.620776\n",
       "4  Xdl7t  1.988431  0.155413  4.751769  154.036647"
      ]
     },
     "execution_count": 16,
     "metadata": {},
     "output_type": "execute_result"
    }
   ],
   "source": [
    "df0.head()"
   ]
  },
  {
   "cell_type": "code",
   "execution_count": 17,
   "metadata": {},
   "outputs": [
    {
     "data": {
      "text/html": [
       "<div>\n",
       "<style scoped>\n",
       "    .dataframe tbody tr th:only-of-type {\n",
       "        vertical-align: middle;\n",
       "    }\n",
       "\n",
       "    .dataframe tbody tr th {\n",
       "        vertical-align: top;\n",
       "    }\n",
       "\n",
       "    .dataframe thead th {\n",
       "        text-align: right;\n",
       "    }\n",
       "</style>\n",
       "<table border=\"1\" class=\"dataframe\">\n",
       "  <thead>\n",
       "    <tr style=\"text-align: right;\">\n",
       "      <th></th>\n",
       "      <th>id</th>\n",
       "      <th>f0</th>\n",
       "      <th>f1</th>\n",
       "      <th>f2</th>\n",
       "      <th>product</th>\n",
       "    </tr>\n",
       "  </thead>\n",
       "  <tbody>\n",
       "    <tr>\n",
       "      <th>0</th>\n",
       "      <td>kBEdx</td>\n",
       "      <td>-15.001348</td>\n",
       "      <td>-8.276000</td>\n",
       "      <td>-0.005876</td>\n",
       "      <td>3.179103</td>\n",
       "    </tr>\n",
       "    <tr>\n",
       "      <th>1</th>\n",
       "      <td>62mP7</td>\n",
       "      <td>14.272088</td>\n",
       "      <td>-3.475083</td>\n",
       "      <td>0.999183</td>\n",
       "      <td>26.953261</td>\n",
       "    </tr>\n",
       "    <tr>\n",
       "      <th>2</th>\n",
       "      <td>vyE1P</td>\n",
       "      <td>6.263187</td>\n",
       "      <td>-5.948386</td>\n",
       "      <td>5.001160</td>\n",
       "      <td>134.766305</td>\n",
       "    </tr>\n",
       "    <tr>\n",
       "      <th>3</th>\n",
       "      <td>KcrkZ</td>\n",
       "      <td>-13.081196</td>\n",
       "      <td>-11.506057</td>\n",
       "      <td>4.999415</td>\n",
       "      <td>137.945408</td>\n",
       "    </tr>\n",
       "    <tr>\n",
       "      <th>4</th>\n",
       "      <td>AHL4O</td>\n",
       "      <td>12.702195</td>\n",
       "      <td>-8.147433</td>\n",
       "      <td>5.004363</td>\n",
       "      <td>134.766305</td>\n",
       "    </tr>\n",
       "  </tbody>\n",
       "</table>\n",
       "</div>"
      ],
      "text/plain": [
       "      id         f0         f1        f2     product\n",
       "0  kBEdx -15.001348  -8.276000 -0.005876    3.179103\n",
       "1  62mP7  14.272088  -3.475083  0.999183   26.953261\n",
       "2  vyE1P   6.263187  -5.948386  5.001160  134.766305\n",
       "3  KcrkZ -13.081196 -11.506057  4.999415  137.945408\n",
       "4  AHL4O  12.702195  -8.147433  5.004363  134.766305"
      ]
     },
     "execution_count": 17,
     "metadata": {},
     "output_type": "execute_result"
    }
   ],
   "source": [
    "df1.head()"
   ]
  },
  {
   "cell_type": "code",
   "execution_count": 18,
   "metadata": {
    "scrolled": false
   },
   "outputs": [
    {
     "data": {
      "text/html": [
       "<div>\n",
       "<style scoped>\n",
       "    .dataframe tbody tr th:only-of-type {\n",
       "        vertical-align: middle;\n",
       "    }\n",
       "\n",
       "    .dataframe tbody tr th {\n",
       "        vertical-align: top;\n",
       "    }\n",
       "\n",
       "    .dataframe thead th {\n",
       "        text-align: right;\n",
       "    }\n",
       "</style>\n",
       "<table border=\"1\" class=\"dataframe\">\n",
       "  <thead>\n",
       "    <tr style=\"text-align: right;\">\n",
       "      <th></th>\n",
       "      <th>id</th>\n",
       "      <th>f0</th>\n",
       "      <th>f1</th>\n",
       "      <th>f2</th>\n",
       "      <th>product</th>\n",
       "    </tr>\n",
       "  </thead>\n",
       "  <tbody>\n",
       "    <tr>\n",
       "      <th>0</th>\n",
       "      <td>fwXo0</td>\n",
       "      <td>-1.146987</td>\n",
       "      <td>0.963328</td>\n",
       "      <td>-0.828965</td>\n",
       "      <td>27.758673</td>\n",
       "    </tr>\n",
       "    <tr>\n",
       "      <th>1</th>\n",
       "      <td>WJtFt</td>\n",
       "      <td>0.262778</td>\n",
       "      <td>0.269839</td>\n",
       "      <td>-2.530187</td>\n",
       "      <td>56.069697</td>\n",
       "    </tr>\n",
       "    <tr>\n",
       "      <th>2</th>\n",
       "      <td>ovLUW</td>\n",
       "      <td>0.194587</td>\n",
       "      <td>0.289035</td>\n",
       "      <td>-5.586433</td>\n",
       "      <td>62.871910</td>\n",
       "    </tr>\n",
       "    <tr>\n",
       "      <th>3</th>\n",
       "      <td>q6cA6</td>\n",
       "      <td>2.236060</td>\n",
       "      <td>-0.553760</td>\n",
       "      <td>0.930038</td>\n",
       "      <td>114.572842</td>\n",
       "    </tr>\n",
       "    <tr>\n",
       "      <th>4</th>\n",
       "      <td>WPMUX</td>\n",
       "      <td>-0.515993</td>\n",
       "      <td>1.716266</td>\n",
       "      <td>5.899011</td>\n",
       "      <td>149.600746</td>\n",
       "    </tr>\n",
       "  </tbody>\n",
       "</table>\n",
       "</div>"
      ],
      "text/plain": [
       "      id        f0        f1        f2     product\n",
       "0  fwXo0 -1.146987  0.963328 -0.828965   27.758673\n",
       "1  WJtFt  0.262778  0.269839 -2.530187   56.069697\n",
       "2  ovLUW  0.194587  0.289035 -5.586433   62.871910\n",
       "3  q6cA6  2.236060 -0.553760  0.930038  114.572842\n",
       "4  WPMUX -0.515993  1.716266  5.899011  149.600746"
      ]
     },
     "execution_count": 18,
     "metadata": {},
     "output_type": "execute_result"
    }
   ],
   "source": [
    "df2.head()"
   ]
  },
  {
   "cell_type": "code",
   "execution_count": 19,
   "metadata": {
    "scrolled": false
   },
   "outputs": [
    {
     "data": {
      "image/png": "[encoded data removed]",
      "text/plain": [
       "<Figure size 800x600 with 1 Axes>"
      ]
     },
     "metadata": {},
     "output_type": "display_data"
    },
    {
     "data": {
      "image/png": "[encoded data removed]",
      "text/plain": [
       "<Figure size 800x600 with 1 Axes>"
      ]
     },
     "metadata": {},
     "output_type": "display_data"
    },
    {
     "data": {
      "image/png": "[encoded data removed]",
      "text/plain": [
       "<Figure size 800x600 with 1 Axes>"
      ]
     },
     "metadata": {},
     "output_type": "display_data"
    },
    {
     "data": {
      "image/png": "[encoded data removed]",
      "text/plain": [
       "<Figure size 800x600 with 1 Axes>"
      ]
     },
     "metadata": {},
     "output_type": "display_data"
    },
    {
     "data": {
      "image/png": "[encoded data removed]",
      "text/plain": [
       "<Figure size 800x600 with 1 Axes>"
      ]
     },
     "metadata": {},
     "output_type": "display_data"
    },
    {
     "data": {
      "image/png": "[encoded data removed]",
      "text/plain": [
       "<Figure size 800x600 with 1 Axes>"
      ]
     },
     "metadata": {},
     "output_type": "display_data"
    },
    {
     "data": {
      "image/png": "[encoded data removed]",
      "text/plain": [
       "<Figure size 800x600 with 1 Axes>"
      ]
     },
     "metadata": {},
     "output_type": "display_data"
    },
    {
     "data": {
      "image/png": "[encoded data removed]",
      "text/plain": [
       "<Figure size 800x600 with 1 Axes>"
      ]
     },
     "metadata": {},
     "output_type": "display_data"
    },
    {
     "data": {
      "image/png": "[encoded data removed]",
      "text/plain": [
       "<Figure size 800x600 with 1 Axes>"
      ]
     },
     "metadata": {},
     "output_type": "display_data"
    },
    {
     "data": {
      "image/png": "[encoded data removed]",
      "text/plain": [
       "<Figure size 800x600 with 1 Axes>"
      ]
     },
     "metadata": {},
     "output_type": "display_data"
    },
    {
     "data": {
      "image/png": "[encoded data removed]",
      "text/plain": [
       "<Figure size 800x600 with 1 Axes>"
      ]
     },
     "metadata": {},
     "output_type": "display_data"
    },
    {
     "data": {
      "image/png": "[encoded data removed]",
      "text/plain": [
       "<Figure size 800x600 with 1 Axes>"
      ]
     },
     "metadata": {},
     "output_type": "display_data"
    }
   ],
   "source": [
    "def plot_numerical_histograms(df, numerical_cols, df_name):\n",
    "    for col in numerical_cols:\n",
    "        plt.figure(figsize=(8, 6))\n",
    "        plt.hist(df[col], bins=50, edgecolor='black')\n",
    "        plt.title(f\"Distribution of {col} in {df_name}\")\n",
    "        plt.xlabel(col)\n",
    "        plt.ylabel(\"Frequency\")\n",
    "        plt.show()\n",
    "\n",
    "numerical_cols0 = df0[['f0', 'f1', 'f2', 'product']]\n",
    "plot_numerical_histograms(df0, numerical_cols0, \"df0\")\n",
    "\n",
    "        \n",
    "numerical_cols1 = df1[['f0', 'f1', 'f2', 'product']]\n",
    "plot_numerical_histograms(df1, numerical_cols1, \"df1\")\n",
    "\n",
    "numerical_cols2 = df2[['f0', 'f1', 'f2', 'product']]\n",
    "plot_numerical_histograms(df2, numerical_cols2, \"df2\")"
   ]
  },
  {
   "cell_type": "markdown",
   "metadata": {},
   "source": [
    "In the above cells I have first imported the data that we are working with. After that I did a quick info check to look at DTypes and see if I had any missing data that needed to be filled in. I found that we had no missing entries and the correct Dtypes for each dataset. I also checked for duplicates in the id field because there should only be 1 of each due to them being unique identifiers for the oil wells. The last thing I did was pull the first 5 rows of each dataset to see what we were working with. Looking at the charts we can see we have some outliers so after we split the data we will scale it."
   ]
  },
  {
   "cell_type": "markdown",
   "metadata": {},
   "source": [
    "# Part 2: Train and test the model for each region"
   ]
  },
  {
   "cell_type": "code",
   "execution_count": 20,
   "metadata": {},
   "outputs": [],
   "source": [
    "# Split the datasets into training and validation sets\n",
    "X0_train, X0_valid, y0_train, y0_valid = train_test_split(df0.drop(['id','product'], axis=1), df0['product'], test_size=0.25, random_state=123)\n",
    "\n",
    "X1_train, X1_valid, y1_train, y1_valid = train_test_split(df1.drop(['id','product'], axis=1), df1['product'], test_size=0.25, random_state=123)\n",
    "\n",
    "X2_train, X2_valid, y2_train, y2_valid = train_test_split(df2.drop(['id','product'], axis=1), df2['product'], test_size=0.25, random_state=123)"
   ]
  },
  {
   "cell_type": "code",
   "execution_count": 21,
   "metadata": {},
   "outputs": [
    {
     "data": {
      "text/html": [
       "<div>\n",
       "<style scoped>\n",
       "    .dataframe tbody tr th:only-of-type {\n",
       "        vertical-align: middle;\n",
       "    }\n",
       "\n",
       "    .dataframe tbody tr th {\n",
       "        vertical-align: top;\n",
       "    }\n",
       "\n",
       "    .dataframe thead th {\n",
       "        text-align: right;\n",
       "    }\n",
       "</style>\n",
       "<table border=\"1\" class=\"dataframe\">\n",
       "  <thead>\n",
       "    <tr style=\"text-align: right;\">\n",
       "      <th></th>\n",
       "      <th>f0</th>\n",
       "      <th>f1</th>\n",
       "      <th>f2</th>\n",
       "    </tr>\n",
       "  </thead>\n",
       "  <tbody>\n",
       "    <tr>\n",
       "      <th>0</th>\n",
       "      <td>0.235468</td>\n",
       "      <td>-1.482807</td>\n",
       "      <td>-0.394536</td>\n",
       "    </tr>\n",
       "    <tr>\n",
       "      <th>1</th>\n",
       "      <td>0.956863</td>\n",
       "      <td>-1.170259</td>\n",
       "      <td>0.573405</td>\n",
       "    </tr>\n",
       "    <tr>\n",
       "      <th>2</th>\n",
       "      <td>0.599038</td>\n",
       "      <td>-0.194590</td>\n",
       "      <td>-0.333343</td>\n",
       "    </tr>\n",
       "    <tr>\n",
       "      <th>3</th>\n",
       "      <td>-0.610889</td>\n",
       "      <td>-0.220278</td>\n",
       "      <td>0.146528</td>\n",
       "    </tr>\n",
       "    <tr>\n",
       "      <th>4</th>\n",
       "      <td>1.706650</td>\n",
       "      <td>-0.187806</td>\n",
       "      <td>0.692458</td>\n",
       "    </tr>\n",
       "  </tbody>\n",
       "</table>\n",
       "</div>"
      ],
      "text/plain": [
       "         f0        f1        f2\n",
       "0  0.235468 -1.482807 -0.394536\n",
       "1  0.956863 -1.170259  0.573405\n",
       "2  0.599038 -0.194590 -0.333343\n",
       "3 -0.610889 -0.220278  0.146528\n",
       "4  1.706650 -0.187806  0.692458"
      ]
     },
     "execution_count": 21,
     "metadata": {},
     "output_type": "execute_result"
    }
   ],
   "source": [
    "scaler = StandardScaler()\n",
    "\n",
    "df0[['f0', 'f1', 'f2']]= scaler.fit_transform(df0[['f0', 'f1', 'f2']])\n",
    "\n",
    "\n",
    "df0[['f0', 'f1', 'f2']].head()\n"
   ]
  },
  {
   "cell_type": "code",
   "execution_count": 22,
   "metadata": {},
   "outputs": [
    {
     "data": {
      "text/html": [
       "<div>\n",
       "<style scoped>\n",
       "    .dataframe tbody tr th:only-of-type {\n",
       "        vertical-align: middle;\n",
       "    }\n",
       "\n",
       "    .dataframe tbody tr th {\n",
       "        vertical-align: top;\n",
       "    }\n",
       "\n",
       "    .dataframe thead th {\n",
       "        text-align: right;\n",
       "    }\n",
       "</style>\n",
       "<table border=\"1\" class=\"dataframe\">\n",
       "  <thead>\n",
       "    <tr style=\"text-align: right;\">\n",
       "      <th></th>\n",
       "      <th>f0</th>\n",
       "      <th>f1</th>\n",
       "      <th>f2</th>\n",
       "    </tr>\n",
       "  </thead>\n",
       "  <tbody>\n",
       "    <tr>\n",
       "      <th>0</th>\n",
       "      <td>-1.800484</td>\n",
       "      <td>-0.679598</td>\n",
       "      <td>-1.467726</td>\n",
       "    </tr>\n",
       "    <tr>\n",
       "      <th>1</th>\n",
       "      <td>1.464541</td>\n",
       "      <td>0.258098</td>\n",
       "      <td>-0.877757</td>\n",
       "    </tr>\n",
       "    <tr>\n",
       "      <th>2</th>\n",
       "      <td>0.571265</td>\n",
       "      <td>-0.224977</td>\n",
       "      <td>1.471402</td>\n",
       "    </tr>\n",
       "    <tr>\n",
       "      <th>3</th>\n",
       "      <td>-1.586319</td>\n",
       "      <td>-1.310480</td>\n",
       "      <td>1.470378</td>\n",
       "    </tr>\n",
       "    <tr>\n",
       "      <th>4</th>\n",
       "      <td>1.289443</td>\n",
       "      <td>-0.654487</td>\n",
       "      <td>1.473282</td>\n",
       "    </tr>\n",
       "  </tbody>\n",
       "</table>\n",
       "</div>"
      ],
      "text/plain": [
       "         f0        f1        f2\n",
       "0 -1.800484 -0.679598 -1.467726\n",
       "1  1.464541  0.258098 -0.877757\n",
       "2  0.571265 -0.224977  1.471402\n",
       "3 -1.586319 -1.310480  1.470378\n",
       "4  1.289443 -0.654487  1.473282"
      ]
     },
     "execution_count": 22,
     "metadata": {},
     "output_type": "execute_result"
    }
   ],
   "source": [
    "\n",
    "df1[['f0', 'f1', 'f2']]= scaler.fit_transform(df1[['f0', 'f1', 'f2']])\n",
    "\n",
    "\n",
    "df1[['f0', 'f1', 'f2']].head()\n"
   ]
  },
  {
   "cell_type": "code",
   "execution_count": 23,
   "metadata": {
    "scrolled": true
   },
   "outputs": [
    {
     "data": {
      "text/html": [
       "<div>\n",
       "<style scoped>\n",
       "    .dataframe tbody tr th:only-of-type {\n",
       "        vertical-align: middle;\n",
       "    }\n",
       "\n",
       "    .dataframe tbody tr th {\n",
       "        vertical-align: top;\n",
       "    }\n",
       "\n",
       "    .dataframe thead th {\n",
       "        text-align: right;\n",
       "    }\n",
       "</style>\n",
       "<table border=\"1\" class=\"dataframe\">\n",
       "  <thead>\n",
       "    <tr style=\"text-align: right;\">\n",
       "      <th></th>\n",
       "      <th>f0</th>\n",
       "      <th>f1</th>\n",
       "      <th>f2</th>\n",
       "    </tr>\n",
       "  </thead>\n",
       "  <tbody>\n",
       "    <tr>\n",
       "      <th>0</th>\n",
       "      <td>-0.663353</td>\n",
       "      <td>0.557931</td>\n",
       "      <td>-0.956982</td>\n",
       "    </tr>\n",
       "    <tr>\n",
       "      <th>1</th>\n",
       "      <td>0.150575</td>\n",
       "      <td>0.157162</td>\n",
       "      <td>-1.446758</td>\n",
       "    </tr>\n",
       "    <tr>\n",
       "      <th>2</th>\n",
       "      <td>0.111205</td>\n",
       "      <td>0.168255</td>\n",
       "      <td>-2.326639</td>\n",
       "    </tr>\n",
       "    <tr>\n",
       "      <th>3</th>\n",
       "      <td>1.289848</td>\n",
       "      <td>-0.318798</td>\n",
       "      <td>-0.450572</td>\n",
       "    </tr>\n",
       "    <tr>\n",
       "      <th>4</th>\n",
       "      <td>-0.299048</td>\n",
       "      <td>0.993055</td>\n",
       "      <td>0.979977</td>\n",
       "    </tr>\n",
       "  </tbody>\n",
       "</table>\n",
       "</div>"
      ],
      "text/plain": [
       "         f0        f1        f2\n",
       "0 -0.663353  0.557931 -0.956982\n",
       "1  0.150575  0.157162 -1.446758\n",
       "2  0.111205  0.168255 -2.326639\n",
       "3  1.289848 -0.318798 -0.450572\n",
       "4 -0.299048  0.993055  0.979977"
      ]
     },
     "execution_count": 23,
     "metadata": {},
     "output_type": "execute_result"
    }
   ],
   "source": [
    "\n",
    "\n",
    "df2[['f0', 'f1', 'f2']]= scaler.fit_transform(df2[['f0', 'f1', 'f2']])\n",
    "\n",
    "\n",
    "df2[['f0', 'f1', 'f2']].head()\n"
   ]
  },
  {
   "cell_type": "markdown",
   "metadata": {},
   "source": [
    "Above I have seperated the datasets into training and validation sets for the features (X) and the Target (y). "
   ]
  },
  {
   "cell_type": "code",
   "execution_count": 24,
   "metadata": {},
   "outputs": [],
   "source": [
    "model_0 = LinearRegression()# initialize model constructor\n",
    "model_0.fit(X0_train, y0_train) # train model on training set\n",
    "y0_pred = model_0.predict(X0_valid) # get model predictions on validation set"
   ]
  },
  {
   "cell_type": "code",
   "execution_count": 25,
   "metadata": {},
   "outputs": [],
   "source": [
    "y0_val_pred = pd.DataFrame({'prediction': y0_pred, 'actual': y0_valid})\n"
   ]
  },
  {
   "cell_type": "code",
   "execution_count": 26,
   "metadata": {},
   "outputs": [],
   "source": [
    "mse_0 = mean_squared_error(y0_valid, y0_pred)\n",
    "rmse_0 = mse_0 ** 0.5"
   ]
  },
  {
   "cell_type": "markdown",
   "metadata": {},
   "source": []
  },
  {
   "cell_type": "code",
   "execution_count": 27,
   "metadata": {},
   "outputs": [],
   "source": [
    "model_1 = LinearRegression()# initialize model constructor\n",
    "model_1.fit(X1_train, y1_train) # train model on training set\n",
    "y1_pred = model_1.predict(X1_valid) # get model predictions on validation set"
   ]
  },
  {
   "cell_type": "code",
   "execution_count": 28,
   "metadata": {},
   "outputs": [],
   "source": [
    "y1_val_pred = pd.DataFrame({'prediction': y1_pred, 'actual': y1_valid})"
   ]
  },
  {
   "cell_type": "code",
   "execution_count": 29,
   "metadata": {},
   "outputs": [],
   "source": [
    "mse_1 = mean_squared_error(y1_valid, y1_pred)\n",
    "rmse_1 = mse_1 ** 0.5"
   ]
  },
  {
   "cell_type": "markdown",
   "metadata": {},
   "source": []
  },
  {
   "cell_type": "code",
   "execution_count": 30,
   "metadata": {},
   "outputs": [],
   "source": [
    "model_2 = LinearRegression()# initialize model constructor\n",
    "model_2.fit(X2_train, y2_train) # train model on training set\n",
    "y2_pred = model_2.predict(X2_valid) # get model predictions on validation set"
   ]
  },
  {
   "cell_type": "code",
   "execution_count": 31,
   "metadata": {},
   "outputs": [],
   "source": [
    "y2_val_pred = pd.DataFrame({'prediction': y2_pred, 'actual': y2_valid})"
   ]
  },
  {
   "cell_type": "code",
   "execution_count": 32,
   "metadata": {},
   "outputs": [],
   "source": [
    "mse_2 = mean_squared_error(y2_valid, y2_pred)\n",
    "rmse_2 = mse_2 ** 0.5"
   ]
  },
  {
   "cell_type": "code",
   "execution_count": 33,
   "metadata": {
    "scrolled": true
   },
   "outputs": [
    {
     "name": "stdout",
     "output_type": "stream",
     "text": [
      "Region 0:\n",
      "Average predicted reserves: 92.73402371136319\n",
      "Model RMSE: 37.55599440454597\n",
      "\n",
      "\n",
      "Region 1:\n",
      "Average predicted reserves: 68.61009077717529\n",
      "Model RMSE: 0.8942818776703\n",
      "\n",
      "\n",
      "Region 2:\n",
      "Average predicted reserves: 95.0022143086602\n",
      "Model RMSE: 39.941244738090504\n"
     ]
    }
   ],
   "source": [
    "print('Region 0:')\n",
    "print('Average predicted reserves:', y0_pred.mean())\n",
    "print('Model RMSE:', rmse_0)\n",
    "print()\n",
    "print()\n",
    "print('Region 1:')\n",
    "print('Average predicted reserves:', y1_pred.mean())\n",
    "print('Model RMSE:', rmse_1)\n",
    "print()\n",
    "print()\n",
    "print('Region 2:')\n",
    "print('Average predicted reserves:', y2_pred.mean())\n",
    "print('Model RMSE:', rmse_2)\n"
   ]
  },
  {
   "cell_type": "markdown",
   "metadata": {},
   "source": [
    "As we can see above our predicted average reserves for the 3 regions are pretty close with region 0 and 2 but region 1 is quite lower. That being said region 1 has the lowest rmse which tells me that it has the lowest margin of error and will probably be the safest bet. We will find this out a little later after we train and run our model! "
   ]
  },
  {
   "cell_type": "markdown",
   "metadata": {},
   "source": [
    "# Part 3: Prepare for profit calculation"
   ]
  },
  {
   "cell_type": "code",
   "execution_count": 34,
   "metadata": {},
   "outputs": [],
   "source": [
    "revenue_per_unit = 4500"
   ]
  },
  {
   "cell_type": "code",
   "execution_count": 35,
   "metadata": {},
   "outputs": [],
   "source": [
    "budget = 100000000"
   ]
  },
  {
   "cell_type": "code",
   "execution_count": 36,
   "metadata": {},
   "outputs": [],
   "source": [
    "num_wells_to_select = 200"
   ]
  },
  {
   "cell_type": "code",
   "execution_count": 37,
   "metadata": {},
   "outputs": [
    {
     "name": "stdout",
     "output_type": "stream",
     "text": [
      "Volume sufficient for profit: 111.11111111111111\n"
     ]
    }
   ],
   "source": [
    "volume_sufficient_for_profit = budget / (num_wells_to_select * revenue_per_unit)\n",
    "\n",
    "print(\"Volume sufficient for profit:\", volume_sufficient_for_profit)"
   ]
  },
  {
   "cell_type": "code",
   "execution_count": 38,
   "metadata": {},
   "outputs": [
    {
     "name": "stdout",
     "output_type": "stream",
     "text": [
      "Average volume in Region 0: 92.6776620458054\n",
      "Average volume in Region 1: 68.6016203880104\n",
      "Average volume in Region 2: 94.80697574578565\n"
     ]
    }
   ],
   "source": [
    "avg_volume_region_0 = y0_valid.mean()\n",
    "avg_volume_region_1 = y1_valid.mean()\n",
    "avg_volume_region_2 = y2_valid.mean()\n",
    "\n",
    "print(\"Average volume in Region 0:\", avg_volume_region_0)\n",
    "print(\"Average volume in Region 1:\", avg_volume_region_1)\n",
    "print(\"Average volume in Region 2:\", avg_volume_region_2)"
   ]
  },
  {
   "cell_type": "markdown",
   "metadata": {},
   "source": [
    "We can see above that none of our regions have an average volume that is sufficient to make a profit. Again like our prediction above it looks like Region 2 would have the least profit loss out of the three regions."
   ]
  },
  {
   "cell_type": "markdown",
   "metadata": {},
   "source": [
    "\n",
    "\n",
    "# Part 4: Write a function to calculate profit from a set of selected oil wells and model predictions"
   ]
  },
  {
   "cell_type": "code",
   "execution_count": 39,
   "metadata": {},
   "outputs": [],
   "source": [
    "def calculate_profit(predictions, target_values):\n",
    "    top_points = np.argsort(predictions)[-200:]  # Select top 200 predictions\n",
    "    total_volume = np.take(target_values, top_points, axis=0).sum()\n",
    "    profit = total_volume * revenue_per_unit - budget\n",
    "    return profit"
   ]
  },
  {
   "cell_type": "code",
   "execution_count": 40,
   "metadata": {},
   "outputs": [
    {
     "data": {
      "text/plain": [
       "32450668.08563529"
      ]
     },
     "execution_count": 40,
     "metadata": {},
     "output_type": "execute_result"
    }
   ],
   "source": [
    "calculate_profit(y0_pred,y0_valid)"
   ]
  },
  {
   "cell_type": "code",
   "execution_count": 41,
   "metadata": {},
   "outputs": [
    {
     "data": {
      "text/plain": [
       "24150866.966815114"
      ]
     },
     "execution_count": 41,
     "metadata": {},
     "output_type": "execute_result"
    }
   ],
   "source": [
    "calculate_profit(y1_pred,y1_valid)"
   ]
  },
  {
   "cell_type": "code",
   "execution_count": 42,
   "metadata": {},
   "outputs": [
    {
     "data": {
      "text/plain": [
       "22277604.625215545"
      ]
     },
     "execution_count": 42,
     "metadata": {},
     "output_type": "execute_result"
    }
   ],
   "source": [
    "calculate_profit(y2_pred,y2_valid)"
   ]
  },
  {
   "cell_type": "markdown",
   "metadata": {},
   "source": [
    "# Part 5: Calculate risks and profit for each region:"
   ]
  },
  {
   "cell_type": "code",
   "execution_count": 43,
   "metadata": {
    "scrolled": true
   },
   "outputs": [
    {
     "name": "stdout",
     "output_type": "stream",
     "text": [
      "Region 0:\n",
      "Average profit: 4414696.178477012\n",
      "95% CI: (-597805.5103052872, 9174810.698396247)\n",
      "Risk of losses: 0.037\n",
      "Region 1:\n",
      "Average profit: 4310381.604674861\n",
      "95% CI: (503003.55192001094, 8496599.559196286)\n",
      "Risk of losses: 0.013\n",
      "Region 2:\n",
      "Average profit: 3588274.2464066143\n",
      "95% CI: (-1401801.7034898158, 8461181.797163505)\n",
      "Risk of losses: 0.085\n"
     ]
    }
   ],
   "source": [
    "\n",
    "def bootstrap_profit(region):\n",
    "    # Get the predicted and actual volumes for the region\n",
    "    if region == 0:\n",
    "        predicted_volumes = y0_pred\n",
    "        actual_volumes = y0_valid\n",
    "    elif region == 1:\n",
    "        predicted_volumes = y1_pred\n",
    "        actual_volumes = y1_valid\n",
    "    elif region == 2:\n",
    "        predicted_volumes = y2_pred\n",
    "        actual_volumes = y2_valid\n",
    "    \n",
    "    # Ensure actual_volumes is a NumPy array\n",
    "    actual_volumes = np.array(actual_volumes)\n",
    "    \n",
    "    # Initialize an array to store the bootstrapped profits\n",
    "    bootstrapped_profits = np.zeros(1000)\n",
    "    \n",
    "    # Perform bootstrapping\n",
    "    for i in range(1000):\n",
    "        # Sample 500 indices with replacement from the predicted volumes index\n",
    "        sample_indices = np.random.choice(len(predicted_volumes), size=500, replace=True)\n",
    "        \n",
    "        # Select the corresponding predictions using NumPy indexing\n",
    "        resampled_predicted_volumes = predicted_volumes[sample_indices]\n",
    "        resampled_actual_volumes = actual_volumes[sample_indices]\n",
    "        \n",
    "        # Select the top 200 predictions within the resampled set\n",
    "        top_indices = resampled_predicted_volumes.argsort()[-200:]\n",
    "        top_resampled_predicted_volumes = resampled_predicted_volumes[top_indices]\n",
    "        top_resampled_actual_volumes = resampled_actual_volumes[top_indices]\n",
    "        \n",
    "        # Calculate the profit for the resampled volumes\n",
    "        profit = calculate_profit(top_resampled_predicted_volumes, top_resampled_actual_volumes)\n",
    "        \n",
    "        # Store the profit in the array\n",
    "        bootstrapped_profits[i] = profit\n",
    "    \n",
    "    # Calculate the average profit and 95% confidence interval\n",
    "    avg_profit = np.mean(bootstrapped_profits)\n",
    "    ci_lower = np.percentile(bootstrapped_profits, 2.5)\n",
    "    ci_upper = np.percentile(bootstrapped_profits, 97.5)\n",
    "    \n",
    "    # Calculate the risk of losses (negative profit)\n",
    "    risk_of_losses = np.mean(bootstrapped_profits < 0)\n",
    "    \n",
    "    return avg_profit, ci_lower, ci_upper, risk_of_losses\n",
    "\n",
    "region_0_avg_profit, region_0_ci_lower, region_0_ci_upper, region_0_risk_of_losses = bootstrap_profit(0)\n",
    "region_1_avg_profit, region_1_ci_lower, region_1_ci_upper, region_1_risk_of_losses = bootstrap_profit(1)\n",
    "region_2_avg_profit, region_2_ci_lower, region_2_ci_upper, region_2_risk_of_losses = bootstrap_profit(2)\n",
    "\n",
    "print(\"Region 0:\")\n",
    "print(\"Average profit:\", region_0_avg_profit)\n",
    "print(\"95% CI:\", (region_0_ci_lower, region_0_ci_upper))\n",
    "print(\"Risk of losses:\", region_0_risk_of_losses)\n",
    "\n",
    "print(\"Region 1:\")\n",
    "print(\"Average profit:\", region_1_avg_profit)\n",
    "print(\"95% CI:\", (region_1_ci_lower, region_1_ci_upper))\n",
    "print(\"Risk of losses:\", region_1_risk_of_losses)\n",
    "\n",
    "print(\"Region 2:\")\n",
    "print(\"Average profit:\", region_2_avg_profit)\n",
    "print(\"95% CI:\", (region_2_ci_lower, region_2_ci_upper))\n",
    "print(\"Risk of losses:\", region_2_risk_of_losses)"
   ]
  },
  {
   "cell_type": "markdown",
   "metadata": {},
   "source": [
    "# Conclusion\n",
    "After cleaning up our data, then training some linear regression models and doing some calculations for profit we have found out which region we should be looking to put that new well! We only have one region that meets our criteria of having a calculated risk of 2.5% or less and that turns out to be Region 1. Even tho it had the lowest average reserves it also had the least amount of room for error overall. After doing the bootstrap process and calculating CI we see that region 1 doesnt have the highest average profit out of the 3 but its not the lowest either. It has a risk of loss of only 1.3% which is significantly better then the other two regions."
   ]
  },
  {
   "cell_type": "code",
   "execution_count": null,
   "metadata": {},
   "outputs": [],
   "source": []
  }
 ],
 "metadata": {
  "ExecuteTimeLog": [
   {
    "duration": 866,
    "start_time": "2024-08-30T19:00:16.773Z"
   },
   {
    "duration": 571,
    "start_time": "2024-08-30T19:00:38.615Z"
   },
   {
    "duration": 3,
    "start_time": "2024-08-30T19:00:42.276Z"
   },
   {
    "duration": 60,
    "start_time": "2024-08-30T19:00:53.976Z"
   },
   {
    "duration": 320,
    "start_time": "2024-08-30T19:02:07.100Z"
   },
   {
    "duration": 738,
    "start_time": "2024-08-30T19:02:13.729Z"
   },
   {
    "duration": 238,
    "start_time": "2024-08-30T19:02:14.469Z"
   },
   {
    "duration": 10,
    "start_time": "2024-08-30T19:03:09.151Z"
   },
   {
    "duration": 13,
    "start_time": "2024-08-30T19:03:18.786Z"
   },
   {
    "duration": 11,
    "start_time": "2024-08-30T19:03:28.527Z"
   },
   {
    "duration": 11,
    "start_time": "2024-08-30T19:03:36.286Z"
   },
   {
    "duration": 32,
    "start_time": "2024-08-30T19:04:49.751Z"
   },
   {
    "duration": 30,
    "start_time": "2024-08-30T19:04:59.810Z"
   },
   {
    "duration": 33,
    "start_time": "2024-08-30T19:05:11.178Z"
   },
   {
    "duration": 8,
    "start_time": "2024-08-30T19:05:20.040Z"
   },
   {
    "duration": 7,
    "start_time": "2024-08-30T19:05:38.635Z"
   },
   {
    "duration": 8,
    "start_time": "2024-08-30T19:05:44.655Z"
   },
   {
    "duration": 42,
    "start_time": "2024-08-30T19:32:08.937Z"
   },
   {
    "duration": 42,
    "start_time": "2024-08-30T19:35:44.942Z"
   },
   {
    "duration": 158,
    "start_time": "2024-08-31T03:35:08.700Z"
   },
   {
    "duration": 738,
    "start_time": "2024-08-31T03:35:20.048Z"
   },
   {
    "duration": 325,
    "start_time": "2024-08-31T03:35:20.788Z"
   },
   {
    "duration": 13,
    "start_time": "2024-08-31T03:35:21.115Z"
   },
   {
    "duration": 11,
    "start_time": "2024-08-31T03:35:21.131Z"
   },
   {
    "duration": 10,
    "start_time": "2024-08-31T03:35:21.143Z"
   },
   {
    "duration": 236,
    "start_time": "2024-08-31T03:35:21.155Z"
   },
   {
    "duration": 0,
    "start_time": "2024-08-31T03:35:21.393Z"
   },
   {
    "duration": 0,
    "start_time": "2024-08-31T03:35:21.394Z"
   },
   {
    "duration": 0,
    "start_time": "2024-08-31T03:35:21.396Z"
   },
   {
    "duration": 0,
    "start_time": "2024-08-31T03:35:21.397Z"
   },
   {
    "duration": 0,
    "start_time": "2024-08-31T03:35:21.399Z"
   },
   {
    "duration": 0,
    "start_time": "2024-08-31T03:35:21.401Z"
   },
   {
    "duration": 13,
    "start_time": "2024-08-31T03:35:41.024Z"
   },
   {
    "duration": 14,
    "start_time": "2024-08-31T03:35:53.592Z"
   },
   {
    "duration": 38,
    "start_time": "2024-08-31T03:36:06.953Z"
   },
   {
    "duration": 712,
    "start_time": "2024-08-31T03:36:14.676Z"
   },
   {
    "duration": 214,
    "start_time": "2024-08-31T03:36:15.390Z"
   },
   {
    "duration": 13,
    "start_time": "2024-08-31T03:36:15.606Z"
   },
   {
    "duration": 11,
    "start_time": "2024-08-31T03:36:15.620Z"
   },
   {
    "duration": 9,
    "start_time": "2024-08-31T03:36:15.634Z"
   },
   {
    "duration": 58,
    "start_time": "2024-08-31T03:36:15.645Z"
   },
   {
    "duration": 28,
    "start_time": "2024-08-31T03:36:15.705Z"
   },
   {
    "duration": 30,
    "start_time": "2024-08-31T03:36:15.735Z"
   },
   {
    "duration": 27,
    "start_time": "2024-08-31T03:36:15.767Z"
   },
   {
    "duration": 7,
    "start_time": "2024-08-31T03:36:15.795Z"
   },
   {
    "duration": 8,
    "start_time": "2024-08-31T03:36:15.805Z"
   },
   {
    "duration": 38,
    "start_time": "2024-08-31T03:36:15.814Z"
   },
   {
    "duration": 40,
    "start_time": "2024-08-31T03:37:57.141Z"
   },
   {
    "duration": 37,
    "start_time": "2024-08-31T03:41:51.322Z"
   },
   {
    "duration": 144,
    "start_time": "2024-08-31T03:47:57.057Z"
   },
   {
    "duration": 104,
    "start_time": "2024-08-31T03:53:50.111Z"
   },
   {
    "duration": 25,
    "start_time": "2024-08-31T03:54:45.655Z"
   },
   {
    "duration": 18,
    "start_time": "2024-08-31T03:58:02.861Z"
   },
   {
    "duration": 17,
    "start_time": "2024-08-31T03:58:12.886Z"
   },
   {
    "duration": 22,
    "start_time": "2024-08-31T03:59:01.936Z"
   },
   {
    "duration": 11,
    "start_time": "2024-08-31T03:59:03.459Z"
   },
   {
    "duration": 13,
    "start_time": "2024-08-31T03:59:22.921Z"
   },
   {
    "duration": 14,
    "start_time": "2024-08-31T04:00:46.767Z"
   },
   {
    "duration": 8,
    "start_time": "2024-08-31T04:00:53.340Z"
   },
   {
    "duration": 3,
    "start_time": "2024-08-31T04:00:53.892Z"
   },
   {
    "duration": 8,
    "start_time": "2024-08-31T04:01:20.576Z"
   },
   {
    "duration": 7,
    "start_time": "2024-08-31T04:02:23.604Z"
   },
   {
    "duration": 10,
    "start_time": "2024-08-31T04:04:36.434Z"
   },
   {
    "duration": 3,
    "start_time": "2024-08-31T04:07:40.235Z"
   },
   {
    "duration": 3,
    "start_time": "2024-08-31T04:10:40.567Z"
   },
   {
    "duration": 3,
    "start_time": "2024-08-31T04:10:57.012Z"
   },
   {
    "duration": 3,
    "start_time": "2024-08-31T04:11:45.621Z"
   },
   {
    "duration": 9,
    "start_time": "2024-08-31T04:15:14.964Z"
   },
   {
    "duration": 4,
    "start_time": "2024-08-31T04:15:37.226Z"
   },
   {
    "duration": 3,
    "start_time": "2024-08-31T04:16:02.643Z"
   },
   {
    "duration": 3,
    "start_time": "2024-08-31T04:16:22.980Z"
   },
   {
    "duration": 11,
    "start_time": "2024-08-31T04:17:31.472Z"
   },
   {
    "duration": 4,
    "start_time": "2024-08-31T04:17:50.574Z"
   },
   {
    "duration": 3,
    "start_time": "2024-08-31T04:18:17.044Z"
   },
   {
    "duration": 5,
    "start_time": "2024-08-31T04:18:43.359Z"
   },
   {
    "duration": 35,
    "start_time": "2024-08-31T04:27:48.483Z"
   },
   {
    "duration": 3,
    "start_time": "2024-08-31T04:28:02.430Z"
   },
   {
    "duration": 719,
    "start_time": "2024-08-31T04:28:10.583Z"
   },
   {
    "duration": 214,
    "start_time": "2024-08-31T04:28:11.304Z"
   },
   {
    "duration": 14,
    "start_time": "2024-08-31T04:28:11.520Z"
   },
   {
    "duration": 10,
    "start_time": "2024-08-31T04:28:11.536Z"
   },
   {
    "duration": 10,
    "start_time": "2024-08-31T04:28:11.547Z"
   },
   {
    "duration": 55,
    "start_time": "2024-08-31T04:28:11.558Z"
   },
   {
    "duration": 29,
    "start_time": "2024-08-31T04:28:11.614Z"
   },
   {
    "duration": 47,
    "start_time": "2024-08-31T04:28:11.645Z"
   },
   {
    "duration": 8,
    "start_time": "2024-08-31T04:28:11.694Z"
   },
   {
    "duration": 6,
    "start_time": "2024-08-31T04:28:11.705Z"
   },
   {
    "duration": 7,
    "start_time": "2024-08-31T04:28:11.712Z"
   },
   {
    "duration": 38,
    "start_time": "2024-08-31T04:28:11.721Z"
   },
   {
    "duration": 50,
    "start_time": "2024-08-31T04:28:11.760Z"
   },
   {
    "duration": 10,
    "start_time": "2024-08-31T04:28:11.812Z"
   },
   {
    "duration": 2,
    "start_time": "2024-08-31T04:28:11.824Z"
   },
   {
    "duration": 3,
    "start_time": "2024-08-31T04:28:11.828Z"
   },
   {
    "duration": 2,
    "start_time": "2024-08-31T04:28:11.886Z"
   },
   {
    "duration": 10,
    "start_time": "2024-08-31T04:28:11.891Z"
   },
   {
    "duration": 2,
    "start_time": "2024-08-31T04:28:11.903Z"
   },
   {
    "duration": 4,
    "start_time": "2024-08-31T04:28:11.907Z"
   },
   {
    "duration": 77,
    "start_time": "2024-08-31T04:28:11.912Z"
   },
   {
    "duration": 12,
    "start_time": "2024-08-31T04:28:11.991Z"
   },
   {
    "duration": 4,
    "start_time": "2024-08-31T04:28:12.004Z"
   },
   {
    "duration": 81,
    "start_time": "2024-08-31T04:28:12.009Z"
   },
   {
    "duration": 5,
    "start_time": "2024-08-31T04:28:12.093Z"
   },
   {
    "duration": 42,
    "start_time": "2024-08-31T04:31:56.947Z"
   },
   {
    "duration": 45,
    "start_time": "2024-08-31T04:32:47.349Z"
   },
   {
    "duration": 43,
    "start_time": "2024-08-31T04:35:03.379Z"
   },
   {
    "duration": 45,
    "start_time": "2024-08-31T04:35:35.239Z"
   },
   {
    "duration": 25,
    "start_time": "2024-08-31T04:36:47.523Z"
   },
   {
    "duration": 11,
    "start_time": "2024-08-31T04:36:48.635Z"
   },
   {
    "duration": 3,
    "start_time": "2024-08-31T04:36:48.793Z"
   },
   {
    "duration": 3,
    "start_time": "2024-08-31T04:36:49.172Z"
   },
   {
    "duration": 3,
    "start_time": "2024-08-31T04:36:49.713Z"
   },
   {
    "duration": 11,
    "start_time": "2024-08-31T04:36:54.792Z"
   },
   {
    "duration": 4,
    "start_time": "2024-08-31T04:36:55.103Z"
   },
   {
    "duration": 3,
    "start_time": "2024-08-31T04:36:55.551Z"
   },
   {
    "duration": 3,
    "start_time": "2024-08-31T04:37:00.481Z"
   },
   {
    "duration": 9,
    "start_time": "2024-08-31T04:37:06.556Z"
   },
   {
    "duration": 2,
    "start_time": "2024-08-31T04:37:06.924Z"
   },
   {
    "duration": 3,
    "start_time": "2024-08-31T04:37:07.326Z"
   },
   {
    "duration": 3,
    "start_time": "2024-08-31T04:37:07.767Z"
   },
   {
    "duration": 794,
    "start_time": "2024-08-31T04:37:20.387Z"
   },
   {
    "duration": 212,
    "start_time": "2024-08-31T04:37:21.183Z"
   },
   {
    "duration": 14,
    "start_time": "2024-08-31T04:37:21.396Z"
   },
   {
    "duration": 11,
    "start_time": "2024-08-31T04:37:21.412Z"
   },
   {
    "duration": 10,
    "start_time": "2024-08-31T04:37:21.425Z"
   },
   {
    "duration": 60,
    "start_time": "2024-08-31T04:37:21.436Z"
   },
   {
    "duration": 29,
    "start_time": "2024-08-31T04:37:21.497Z"
   },
   {
    "duration": 30,
    "start_time": "2024-08-31T04:37:21.527Z"
   },
   {
    "duration": 8,
    "start_time": "2024-08-31T04:37:21.559Z"
   },
   {
    "duration": 7,
    "start_time": "2024-08-31T04:37:21.588Z"
   },
   {
    "duration": 7,
    "start_time": "2024-08-31T04:37:21.596Z"
   },
   {
    "duration": 42,
    "start_time": "2024-08-31T04:37:21.606Z"
   },
   {
    "duration": 62,
    "start_time": "2024-08-31T04:37:21.650Z"
   },
   {
    "duration": 43,
    "start_time": "2024-08-31T04:37:21.714Z"
   },
   {
    "duration": 40,
    "start_time": "2024-08-31T04:37:21.759Z"
   },
   {
    "duration": 15,
    "start_time": "2024-08-31T04:37:21.800Z"
   },
   {
    "duration": 3,
    "start_time": "2024-08-31T04:37:21.816Z"
   },
   {
    "duration": 3,
    "start_time": "2024-08-31T04:37:21.821Z"
   },
   {
    "duration": 3,
    "start_time": "2024-08-31T04:37:21.825Z"
   },
   {
    "duration": 9,
    "start_time": "2024-08-31T04:37:21.887Z"
   },
   {
    "duration": 2,
    "start_time": "2024-08-31T04:37:21.898Z"
   },
   {
    "duration": 3,
    "start_time": "2024-08-31T04:37:21.902Z"
   },
   {
    "duration": 3,
    "start_time": "2024-08-31T04:37:21.907Z"
   },
   {
    "duration": 93,
    "start_time": "2024-08-31T04:37:21.911Z"
   },
   {
    "duration": 3,
    "start_time": "2024-08-31T04:37:22.006Z"
   },
   {
    "duration": 78,
    "start_time": "2024-08-31T04:37:22.011Z"
   },
   {
    "duration": 5,
    "start_time": "2024-08-31T04:37:22.093Z"
   },
   {
    "duration": 4,
    "start_time": "2024-08-31T04:38:14.817Z"
   },
   {
    "duration": 3,
    "start_time": "2024-08-31T04:38:18.097Z"
   },
   {
    "duration": 4,
    "start_time": "2024-08-31T04:45:25.742Z"
   },
   {
    "duration": 708,
    "start_time": "2024-08-31T04:45:59.474Z"
   },
   {
    "duration": 223,
    "start_time": "2024-08-31T04:46:00.184Z"
   },
   {
    "duration": 13,
    "start_time": "2024-08-31T04:46:00.408Z"
   },
   {
    "duration": 10,
    "start_time": "2024-08-31T04:46:00.423Z"
   },
   {
    "duration": 10,
    "start_time": "2024-08-31T04:46:00.435Z"
   },
   {
    "duration": 54,
    "start_time": "2024-08-31T04:46:00.446Z"
   },
   {
    "duration": 28,
    "start_time": "2024-08-31T04:46:00.502Z"
   },
   {
    "duration": 30,
    "start_time": "2024-08-31T04:46:00.532Z"
   },
   {
    "duration": 25,
    "start_time": "2024-08-31T04:46:00.564Z"
   },
   {
    "duration": 7,
    "start_time": "2024-08-31T04:46:00.590Z"
   },
   {
    "duration": 6,
    "start_time": "2024-08-31T04:46:00.600Z"
   },
   {
    "duration": 41,
    "start_time": "2024-08-31T04:46:00.608Z"
   },
   {
    "duration": 70,
    "start_time": "2024-08-31T04:46:00.651Z"
   },
   {
    "duration": 42,
    "start_time": "2024-08-31T04:46:00.725Z"
   },
   {
    "duration": 38,
    "start_time": "2024-08-31T04:46:00.769Z"
   },
   {
    "duration": 10,
    "start_time": "2024-08-31T04:46:00.808Z"
   },
   {
    "duration": 9,
    "start_time": "2024-08-31T04:46:00.819Z"
   },
   {
    "duration": 3,
    "start_time": "2024-08-31T04:46:00.829Z"
   },
   {
    "duration": 61,
    "start_time": "2024-08-31T04:46:00.833Z"
   },
   {
    "duration": 2,
    "start_time": "2024-08-31T04:46:00.896Z"
   },
   {
    "duration": 3,
    "start_time": "2024-08-31T04:46:00.900Z"
   },
   {
    "duration": 83,
    "start_time": "2024-08-31T04:46:00.904Z"
   },
   {
    "duration": 5,
    "start_time": "2024-08-31T04:46:00.988Z"
   },
   {
    "duration": 3,
    "start_time": "2024-08-31T04:46:00.994Z"
   },
   {
    "duration": 6,
    "start_time": "2024-08-31T04:46:00.999Z"
   },
   {
    "duration": 3,
    "start_time": "2024-08-31T05:00:34.040Z"
   },
   {
    "duration": 2,
    "start_time": "2024-08-31T05:00:46.208Z"
   },
   {
    "duration": 2,
    "start_time": "2024-08-31T05:09:08.668Z"
   },
   {
    "duration": 3,
    "start_time": "2024-08-31T05:09:16.675Z"
   },
   {
    "duration": 206,
    "start_time": "2024-08-31T05:11:14.472Z"
   },
   {
    "duration": 4,
    "start_time": "2024-08-31T05:11:32.573Z"
   },
   {
    "duration": 2,
    "start_time": "2024-08-31T05:14:03.131Z"
   },
   {
    "duration": 871,
    "start_time": "2024-09-06T23:28:06.976Z"
   },
   {
    "duration": 350,
    "start_time": "2024-09-06T23:28:07.849Z"
   },
   {
    "duration": 15,
    "start_time": "2024-09-06T23:28:08.201Z"
   },
   {
    "duration": 24,
    "start_time": "2024-09-06T23:28:08.219Z"
   },
   {
    "duration": 12,
    "start_time": "2024-09-06T23:28:08.245Z"
   },
   {
    "duration": 41,
    "start_time": "2024-09-06T23:28:08.259Z"
   },
   {
    "duration": 60,
    "start_time": "2024-09-06T23:28:08.302Z"
   },
   {
    "duration": 37,
    "start_time": "2024-09-06T23:28:08.364Z"
   },
   {
    "duration": 10,
    "start_time": "2024-09-06T23:28:08.404Z"
   },
   {
    "duration": 28,
    "start_time": "2024-09-06T23:28:08.417Z"
   },
   {
    "duration": 8,
    "start_time": "2024-09-06T23:28:08.447Z"
   },
   {
    "duration": 47,
    "start_time": "2024-09-06T23:28:08.456Z"
   },
   {
    "duration": 72,
    "start_time": "2024-09-06T23:28:08.505Z"
   },
   {
    "duration": 48,
    "start_time": "2024-09-06T23:28:08.579Z"
   },
   {
    "duration": 33,
    "start_time": "2024-09-06T23:28:08.642Z"
   },
   {
    "duration": 14,
    "start_time": "2024-09-06T23:28:08.677Z"
   },
   {
    "duration": 4,
    "start_time": "2024-09-06T23:28:08.692Z"
   },
   {
    "duration": 4,
    "start_time": "2024-09-06T23:28:08.744Z"
   },
   {
    "duration": 14,
    "start_time": "2024-09-06T23:28:08.753Z"
   },
   {
    "duration": 75,
    "start_time": "2024-09-06T23:28:08.769Z"
   },
   {
    "duration": 4,
    "start_time": "2024-09-06T23:28:08.846Z"
   },
   {
    "duration": 10,
    "start_time": "2024-09-06T23:28:08.852Z"
   },
   {
    "duration": 79,
    "start_time": "2024-09-06T23:28:08.864Z"
   },
   {
    "duration": 3,
    "start_time": "2024-09-06T23:28:08.946Z"
   },
   {
    "duration": 6,
    "start_time": "2024-09-06T23:28:08.952Z"
   },
   {
    "duration": 3,
    "start_time": "2024-09-06T23:28:08.961Z"
   },
   {
    "duration": 3,
    "start_time": "2024-09-06T23:28:08.966Z"
   },
   {
    "duration": 70,
    "start_time": "2024-09-06T23:28:08.973Z"
   },
   {
    "duration": 3,
    "start_time": "2024-09-06T23:28:09.046Z"
   },
   {
    "duration": 4,
    "start_time": "2024-09-06T23:28:09.051Z"
   },
   {
    "duration": 4,
    "start_time": "2024-09-06T23:28:09.057Z"
   },
   {
    "duration": 8,
    "start_time": "2024-09-06T23:28:09.063Z"
   },
   {
    "duration": 225,
    "start_time": "2024-09-06T23:29:12.101Z"
   },
   {
    "duration": 7226,
    "start_time": "2024-09-06T23:29:44.400Z"
   },
   {
    "duration": 7,
    "start_time": "2024-09-07T00:00:38.455Z"
   },
   {
    "duration": 7224,
    "start_time": "2024-09-07T00:00:59.047Z"
   },
   {
    "duration": 7167,
    "start_time": "2024-09-07T00:01:13.550Z"
   },
   {
    "duration": 7225,
    "start_time": "2024-09-07T00:05:21.958Z"
   },
   {
    "duration": 7191,
    "start_time": "2024-09-07T00:06:24.842Z"
   },
   {
    "duration": 7255,
    "start_time": "2024-09-07T00:07:35.348Z"
   },
   {
    "duration": 814,
    "start_time": "2024-09-07T00:09:07.281Z"
   },
   {
    "duration": 261,
    "start_time": "2024-09-07T00:09:08.098Z"
   },
   {
    "duration": 16,
    "start_time": "2024-09-07T00:09:08.361Z"
   },
   {
    "duration": 11,
    "start_time": "2024-09-07T00:09:08.380Z"
   },
   {
    "duration": 11,
    "start_time": "2024-09-07T00:09:08.394Z"
   },
   {
    "duration": 61,
    "start_time": "2024-09-07T00:09:08.406Z"
   },
   {
    "duration": 40,
    "start_time": "2024-09-07T00:09:08.470Z"
   },
   {
    "duration": 57,
    "start_time": "2024-09-07T00:09:08.512Z"
   },
   {
    "duration": 12,
    "start_time": "2024-09-07T00:09:08.570Z"
   },
   {
    "duration": 12,
    "start_time": "2024-09-07T00:09:08.587Z"
   },
   {
    "duration": 8,
    "start_time": "2024-09-07T00:09:08.601Z"
   },
   {
    "duration": 76,
    "start_time": "2024-09-07T00:09:08.612Z"
   },
   {
    "duration": 62,
    "start_time": "2024-09-07T00:09:08.690Z"
   },
   {
    "duration": 51,
    "start_time": "2024-09-07T00:09:08.754Z"
   },
   {
    "duration": 44,
    "start_time": "2024-09-07T00:09:08.807Z"
   },
   {
    "duration": 17,
    "start_time": "2024-09-07T00:09:08.853Z"
   },
   {
    "duration": 4,
    "start_time": "2024-09-07T00:09:08.873Z"
   },
   {
    "duration": 64,
    "start_time": "2024-09-07T00:09:08.879Z"
   },
   {
    "duration": 13,
    "start_time": "2024-09-07T00:09:08.945Z"
   },
   {
    "duration": 4,
    "start_time": "2024-09-07T00:09:08.960Z"
   },
   {
    "duration": 4,
    "start_time": "2024-09-07T00:09:09.043Z"
   },
   {
    "duration": 12,
    "start_time": "2024-09-07T00:09:09.049Z"
   },
   {
    "duration": 3,
    "start_time": "2024-09-07T00:09:09.063Z"
   },
   {
    "duration": 4,
    "start_time": "2024-09-07T00:09:09.144Z"
   },
   {
    "duration": 5,
    "start_time": "2024-09-07T00:09:09.150Z"
   },
   {
    "duration": 2,
    "start_time": "2024-09-07T00:09:09.157Z"
   },
   {
    "duration": 3,
    "start_time": "2024-09-07T00:09:09.161Z"
   },
   {
    "duration": 2,
    "start_time": "2024-09-07T00:09:09.170Z"
   },
   {
    "duration": 71,
    "start_time": "2024-09-07T00:09:09.174Z"
   },
   {
    "duration": 5,
    "start_time": "2024-09-07T00:09:09.248Z"
   },
   {
    "duration": 4,
    "start_time": "2024-09-07T00:09:09.256Z"
   },
   {
    "duration": 7465,
    "start_time": "2024-09-07T00:09:09.262Z"
   },
   {
    "duration": 7238,
    "start_time": "2024-09-07T00:10:01.334Z"
   },
   {
    "duration": 7195,
    "start_time": "2024-09-07T00:17:45.176Z"
   },
   {
    "duration": 7156,
    "start_time": "2024-09-07T00:18:14.465Z"
   },
   {
    "duration": 3,
    "start_time": "2024-09-07T00:51:45.744Z"
   },
   {
    "duration": 846,
    "start_time": "2024-09-07T00:51:50.340Z"
   },
   {
    "duration": 261,
    "start_time": "2024-09-07T00:51:51.191Z"
   },
   {
    "duration": 16,
    "start_time": "2024-09-07T00:51:51.454Z"
   },
   {
    "duration": 12,
    "start_time": "2024-09-07T00:51:51.473Z"
   },
   {
    "duration": 13,
    "start_time": "2024-09-07T00:51:51.487Z"
   },
   {
    "duration": 71,
    "start_time": "2024-09-07T00:51:51.502Z"
   },
   {
    "duration": 34,
    "start_time": "2024-09-07T00:51:51.575Z"
   },
   {
    "duration": 50,
    "start_time": "2024-09-07T00:51:51.611Z"
   },
   {
    "duration": 11,
    "start_time": "2024-09-07T00:51:51.663Z"
   },
   {
    "duration": 7,
    "start_time": "2024-09-07T00:51:51.677Z"
   },
   {
    "duration": 9,
    "start_time": "2024-09-07T00:51:51.686Z"
   },
   {
    "duration": 77,
    "start_time": "2024-09-07T00:51:51.697Z"
   },
   {
    "duration": 48,
    "start_time": "2024-09-07T00:51:51.776Z"
   },
   {
    "duration": 64,
    "start_time": "2024-09-07T00:51:51.826Z"
   },
   {
    "duration": 32,
    "start_time": "2024-09-07T00:51:51.892Z"
   },
   {
    "duration": 11,
    "start_time": "2024-09-07T00:51:51.943Z"
   },
   {
    "duration": 4,
    "start_time": "2024-09-07T00:51:51.956Z"
   },
   {
    "duration": 3,
    "start_time": "2024-09-07T00:51:51.962Z"
   },
   {
    "duration": 76,
    "start_time": "2024-09-07T00:51:51.967Z"
   },
   {
    "duration": 4,
    "start_time": "2024-09-07T00:51:52.045Z"
   },
   {
    "duration": 6,
    "start_time": "2024-09-07T00:51:52.051Z"
   },
   {
    "duration": 90,
    "start_time": "2024-09-07T00:51:52.059Z"
   },
   {
    "duration": 3,
    "start_time": "2024-09-07T00:51:52.152Z"
   },
   {
    "duration": 4,
    "start_time": "2024-09-07T00:51:52.158Z"
   },
   {
    "duration": 6,
    "start_time": "2024-09-07T00:51:52.164Z"
   },
   {
    "duration": 3,
    "start_time": "2024-09-07T00:51:52.244Z"
   },
   {
    "duration": 3,
    "start_time": "2024-09-07T00:51:52.249Z"
   },
   {
    "duration": 5,
    "start_time": "2024-09-07T00:51:52.257Z"
   },
   {
    "duration": 4,
    "start_time": "2024-09-07T00:51:52.264Z"
   },
   {
    "duration": 4,
    "start_time": "2024-09-07T00:51:52.270Z"
   },
   {
    "duration": 4,
    "start_time": "2024-09-07T00:51:52.277Z"
   },
   {
    "duration": 7228,
    "start_time": "2024-09-07T00:51:52.283Z"
   },
   {
    "duration": 156,
    "start_time": "2024-09-09T01:31:52.025Z"
   },
   {
    "duration": 774,
    "start_time": "2024-09-09T01:32:00.048Z"
   },
   {
    "duration": 371,
    "start_time": "2024-09-09T01:32:00.826Z"
   },
   {
    "duration": 13,
    "start_time": "2024-09-09T01:32:01.199Z"
   },
   {
    "duration": 12,
    "start_time": "2024-09-09T01:32:01.215Z"
   },
   {
    "duration": 13,
    "start_time": "2024-09-09T01:32:01.229Z"
   },
   {
    "duration": 67,
    "start_time": "2024-09-09T01:32:01.243Z"
   },
   {
    "duration": 37,
    "start_time": "2024-09-09T01:32:01.312Z"
   },
   {
    "duration": 44,
    "start_time": "2024-09-09T01:32:01.350Z"
   },
   {
    "duration": 608,
    "start_time": "2024-09-09T01:32:01.396Z"
   },
   {
    "duration": 0,
    "start_time": "2024-09-09T01:32:02.007Z"
   },
   {
    "duration": 0,
    "start_time": "2024-09-09T01:32:02.009Z"
   },
   {
    "duration": 0,
    "start_time": "2024-09-09T01:32:02.010Z"
   },
   {
    "duration": 0,
    "start_time": "2024-09-09T01:32:02.011Z"
   },
   {
    "duration": 0,
    "start_time": "2024-09-09T01:32:02.012Z"
   },
   {
    "duration": 0,
    "start_time": "2024-09-09T01:32:02.013Z"
   },
   {
    "duration": 0,
    "start_time": "2024-09-09T01:32:02.014Z"
   },
   {
    "duration": 0,
    "start_time": "2024-09-09T01:32:02.015Z"
   },
   {
    "duration": 0,
    "start_time": "2024-09-09T01:32:02.016Z"
   },
   {
    "duration": 0,
    "start_time": "2024-09-09T01:32:02.018Z"
   },
   {
    "duration": 0,
    "start_time": "2024-09-09T01:32:02.019Z"
   },
   {
    "duration": 0,
    "start_time": "2024-09-09T01:32:02.020Z"
   },
   {
    "duration": 0,
    "start_time": "2024-09-09T01:32:02.023Z"
   },
   {
    "duration": 0,
    "start_time": "2024-09-09T01:32:02.024Z"
   },
   {
    "duration": 0,
    "start_time": "2024-09-09T01:32:02.025Z"
   },
   {
    "duration": 0,
    "start_time": "2024-09-09T01:32:02.027Z"
   },
   {
    "duration": 0,
    "start_time": "2024-09-09T01:32:02.028Z"
   },
   {
    "duration": 0,
    "start_time": "2024-09-09T01:32:02.030Z"
   },
   {
    "duration": 0,
    "start_time": "2024-09-09T01:32:02.031Z"
   },
   {
    "duration": 0,
    "start_time": "2024-09-09T01:32:02.033Z"
   },
   {
    "duration": 0,
    "start_time": "2024-09-09T01:32:02.035Z"
   },
   {
    "duration": 0,
    "start_time": "2024-09-09T01:32:02.037Z"
   },
   {
    "duration": 0,
    "start_time": "2024-09-09T01:32:02.086Z"
   },
   {
    "duration": 0,
    "start_time": "2024-09-09T01:32:02.087Z"
   },
   {
    "duration": 19,
    "start_time": "2024-09-09T01:32:37.504Z"
   },
   {
    "duration": 43,
    "start_time": "2024-09-09T01:32:56.117Z"
   },
   {
    "duration": 44,
    "start_time": "2024-09-09T01:38:21.730Z"
   },
   {
    "duration": 48,
    "start_time": "2024-09-09T01:38:37.815Z"
   },
   {
    "duration": 24,
    "start_time": "2024-09-09T01:40:19.353Z"
   },
   {
    "duration": 51,
    "start_time": "2024-09-09T01:40:38.883Z"
   },
   {
    "duration": 20,
    "start_time": "2024-09-09T01:40:45.469Z"
   },
   {
    "duration": 156,
    "start_time": "2024-09-09T15:31:21.194Z"
   },
   {
    "duration": 753,
    "start_time": "2024-09-09T15:31:27.565Z"
   },
   {
    "duration": 335,
    "start_time": "2024-09-09T15:31:28.320Z"
   },
   {
    "duration": 13,
    "start_time": "2024-09-09T15:31:28.657Z"
   },
   {
    "duration": 11,
    "start_time": "2024-09-09T15:31:28.672Z"
   },
   {
    "duration": 30,
    "start_time": "2024-09-09T15:31:28.685Z"
   },
   {
    "duration": 61,
    "start_time": "2024-09-09T15:31:28.717Z"
   },
   {
    "duration": 46,
    "start_time": "2024-09-09T15:31:28.780Z"
   },
   {
    "duration": 34,
    "start_time": "2024-09-09T15:31:28.828Z"
   },
   {
    "duration": 104,
    "start_time": "2024-09-09T15:31:28.864Z"
   },
   {
    "duration": 9,
    "start_time": "2024-09-09T15:31:28.972Z"
   },
   {
    "duration": 7,
    "start_time": "2024-09-09T15:31:28.982Z"
   },
   {
    "duration": 6,
    "start_time": "2024-09-09T15:31:29.005Z"
   },
   {
    "duration": 44,
    "start_time": "2024-09-09T15:31:29.013Z"
   },
   {
    "duration": 65,
    "start_time": "2024-09-09T15:31:29.059Z"
   },
   {
    "duration": 45,
    "start_time": "2024-09-09T15:31:29.125Z"
   },
   {
    "duration": 39,
    "start_time": "2024-09-09T15:31:29.172Z"
   },
   {
    "duration": 12,
    "start_time": "2024-09-09T15:31:29.213Z"
   },
   {
    "duration": 6,
    "start_time": "2024-09-09T15:31:29.226Z"
   },
   {
    "duration": 3,
    "start_time": "2024-09-09T15:31:29.233Z"
   },
   {
    "duration": 72,
    "start_time": "2024-09-09T15:31:29.238Z"
   },
   {
    "duration": 6,
    "start_time": "2024-09-09T15:31:29.312Z"
   },
   {
    "duration": 3,
    "start_time": "2024-09-09T15:31:29.319Z"
   },
   {
    "duration": 83,
    "start_time": "2024-09-09T15:31:29.323Z"
   },
   {
    "duration": 3,
    "start_time": "2024-09-09T15:31:29.408Z"
   },
   {
    "duration": 2,
    "start_time": "2024-09-09T15:31:29.413Z"
   },
   {
    "duration": 4,
    "start_time": "2024-09-09T15:31:29.417Z"
   },
   {
    "duration": 2,
    "start_time": "2024-09-09T15:31:29.423Z"
   },
   {
    "duration": 78,
    "start_time": "2024-09-09T15:31:29.429Z"
   },
   {
    "duration": 3,
    "start_time": "2024-09-09T15:31:29.509Z"
   },
   {
    "duration": 3,
    "start_time": "2024-09-09T15:31:29.514Z"
   },
   {
    "duration": 5,
    "start_time": "2024-09-09T15:31:29.518Z"
   },
   {
    "duration": 3,
    "start_time": "2024-09-09T15:31:29.525Z"
   },
   {
    "duration": 7119,
    "start_time": "2024-09-09T15:31:29.529Z"
   },
   {
    "duration": 32,
    "start_time": "2024-09-09T15:33:31.448Z"
   },
   {
    "duration": 71,
    "start_time": "2024-09-09T15:35:43.521Z"
   },
   {
    "duration": 77,
    "start_time": "2024-09-09T15:35:56.953Z"
   },
   {
    "duration": 811,
    "start_time": "2024-09-09T15:56:34.310Z"
   },
   {
    "duration": 216,
    "start_time": "2024-09-09T15:56:35.124Z"
   },
   {
    "duration": 13,
    "start_time": "2024-09-09T15:56:35.342Z"
   },
   {
    "duration": 11,
    "start_time": "2024-09-09T15:56:35.357Z"
   },
   {
    "duration": 11,
    "start_time": "2024-09-09T15:56:35.371Z"
   },
   {
    "duration": 55,
    "start_time": "2024-09-09T15:56:35.383Z"
   },
   {
    "duration": 30,
    "start_time": "2024-09-09T15:56:35.440Z"
   },
   {
    "duration": 52,
    "start_time": "2024-09-09T15:56:35.472Z"
   },
   {
    "duration": 66,
    "start_time": "2024-09-09T15:56:35.527Z"
   },
   {
    "duration": 69,
    "start_time": "2024-09-09T15:56:35.605Z"
   },
   {
    "duration": 72,
    "start_time": "2024-09-09T15:56:35.676Z"
   },
   {
    "duration": 11,
    "start_time": "2024-09-09T15:56:35.751Z"
   },
   {
    "duration": 7,
    "start_time": "2024-09-09T15:56:35.763Z"
   },
   {
    "duration": 7,
    "start_time": "2024-09-09T15:56:35.774Z"
   },
   {
    "duration": 28,
    "start_time": "2024-09-09T15:56:35.806Z"
   },
   {
    "duration": 44,
    "start_time": "2024-09-09T15:56:35.835Z"
   },
   {
    "duration": 64,
    "start_time": "2024-09-09T15:56:35.880Z"
   },
   {
    "duration": 43,
    "start_time": "2024-09-09T15:56:35.946Z"
   },
   {
    "duration": 29,
    "start_time": "2024-09-09T15:56:35.991Z"
   },
   {
    "duration": 3,
    "start_time": "2024-09-09T15:56:36.022Z"
   },
   {
    "duration": 3,
    "start_time": "2024-09-09T15:56:36.027Z"
   },
   {
    "duration": 74,
    "start_time": "2024-09-09T15:56:36.032Z"
   },
   {
    "duration": 3,
    "start_time": "2024-09-09T15:56:36.108Z"
   },
   {
    "duration": 5,
    "start_time": "2024-09-09T15:56:36.112Z"
   },
   {
    "duration": 90,
    "start_time": "2024-09-09T15:56:36.119Z"
   },
   {
    "duration": 3,
    "start_time": "2024-09-09T15:56:36.212Z"
   },
   {
    "duration": 3,
    "start_time": "2024-09-09T15:56:36.217Z"
   },
   {
    "duration": 6,
    "start_time": "2024-09-09T15:56:36.222Z"
   },
   {
    "duration": 75,
    "start_time": "2024-09-09T15:56:36.230Z"
   },
   {
    "duration": 3,
    "start_time": "2024-09-09T15:56:36.307Z"
   },
   {
    "duration": 2,
    "start_time": "2024-09-09T15:56:36.312Z"
   },
   {
    "duration": 3,
    "start_time": "2024-09-09T15:56:36.316Z"
   },
   {
    "duration": 4,
    "start_time": "2024-09-09T15:56:36.320Z"
   },
   {
    "duration": 2,
    "start_time": "2024-09-09T15:56:36.326Z"
   },
   {
    "duration": 7116,
    "start_time": "2024-09-09T15:56:36.331Z"
   },
   {
    "duration": 4,
    "start_time": "2024-09-09T16:03:07.437Z"
   },
   {
    "duration": 4,
    "start_time": "2024-09-09T16:04:52.556Z"
   },
   {
    "duration": 428,
    "start_time": "2024-09-09T16:06:57.296Z"
   },
   {
    "duration": 4,
    "start_time": "2024-09-09T16:07:37.857Z"
   },
   {
    "duration": 124,
    "start_time": "2024-09-09T16:07:39.191Z"
   },
   {
    "duration": 3,
    "start_time": "2024-09-09T16:11:16.636Z"
   },
   {
    "duration": 21,
    "start_time": "2024-09-09T16:11:17.463Z"
   },
   {
    "duration": 3,
    "start_time": "2024-09-09T16:11:27.184Z"
   },
   {
    "duration": 6,
    "start_time": "2024-09-09T16:11:28.295Z"
   },
   {
    "duration": 6,
    "start_time": "2024-09-09T16:14:46.102Z"
   },
   {
    "duration": 6,
    "start_time": "2024-09-09T16:15:00.843Z"
   },
   {
    "duration": 39,
    "start_time": "2024-09-09T16:15:51.595Z"
   },
   {
    "duration": 3,
    "start_time": "2024-09-09T16:18:02.200Z"
   },
   {
    "duration": 3,
    "start_time": "2024-09-09T16:18:09.469Z"
   },
   {
    "duration": 6,
    "start_time": "2024-09-09T16:18:15.731Z"
   },
   {
    "duration": 6,
    "start_time": "2024-09-09T16:18:16.428Z"
   },
   {
    "duration": 7,
    "start_time": "2024-09-09T16:18:16.824Z"
   },
   {
    "duration": 38,
    "start_time": "2024-09-09T16:18:18.402Z"
   },
   {
    "duration": 3,
    "start_time": "2024-09-09T16:35:53.941Z"
   },
   {
    "duration": 54,
    "start_time": "2024-09-09T16:35:54.740Z"
   },
   {
    "duration": 3,
    "start_time": "2024-09-09T16:36:16.502Z"
   },
   {
    "duration": 5,
    "start_time": "2024-09-09T16:36:17.542Z"
   },
   {
    "duration": 5,
    "start_time": "2024-09-09T16:36:18.308Z"
   },
   {
    "duration": 5,
    "start_time": "2024-09-09T16:36:18.749Z"
   },
   {
    "duration": 7087,
    "start_time": "2024-09-09T16:36:20.449Z"
   },
   {
    "duration": 4,
    "start_time": "2024-09-09T16:37:40.133Z"
   },
   {
    "duration": 5,
    "start_time": "2024-09-09T16:38:34.411Z"
   },
   {
    "duration": 752,
    "start_time": "2024-09-09T16:38:41.866Z"
   },
   {
    "duration": 231,
    "start_time": "2024-09-09T16:38:42.620Z"
   },
   {
    "duration": 13,
    "start_time": "2024-09-09T16:38:42.852Z"
   },
   {
    "duration": 11,
    "start_time": "2024-09-09T16:38:42.867Z"
   },
   {
    "duration": 10,
    "start_time": "2024-09-09T16:38:42.880Z"
   },
   {
    "duration": 36,
    "start_time": "2024-09-09T16:38:42.906Z"
   },
   {
    "duration": 28,
    "start_time": "2024-09-09T16:38:42.944Z"
   },
   {
    "duration": 57,
    "start_time": "2024-09-09T16:38:42.974Z"
   },
   {
    "duration": 58,
    "start_time": "2024-09-09T16:38:43.034Z"
   },
   {
    "duration": 69,
    "start_time": "2024-09-09T16:38:43.095Z"
   },
   {
    "duration": 71,
    "start_time": "2024-09-09T16:38:43.166Z"
   },
   {
    "duration": 8,
    "start_time": "2024-09-09T16:38:43.239Z"
   },
   {
    "duration": 6,
    "start_time": "2024-09-09T16:38:43.249Z"
   },
   {
    "duration": 7,
    "start_time": "2024-09-09T16:38:43.258Z"
   },
   {
    "duration": 51,
    "start_time": "2024-09-09T16:38:43.266Z"
   },
   {
    "duration": 41,
    "start_time": "2024-09-09T16:38:43.320Z"
   },
   {
    "duration": 49,
    "start_time": "2024-09-09T16:38:43.363Z"
   },
   {
    "duration": 43,
    "start_time": "2024-09-09T16:38:43.414Z"
   },
   {
    "duration": 11,
    "start_time": "2024-09-09T16:38:43.458Z"
   },
   {
    "duration": 38,
    "start_time": "2024-09-09T16:38:43.470Z"
   },
   {
    "duration": 4,
    "start_time": "2024-09-09T16:38:43.510Z"
   },
   {
    "duration": 12,
    "start_time": "2024-09-09T16:38:43.516Z"
   },
   {
    "duration": 5,
    "start_time": "2024-09-09T16:38:43.607Z"
   },
   {
    "duration": 5,
    "start_time": "2024-09-09T16:38:43.614Z"
   },
   {
    "duration": 85,
    "start_time": "2024-09-09T16:38:43.621Z"
   },
   {
    "duration": 3,
    "start_time": "2024-09-09T16:38:43.708Z"
   },
   {
    "duration": 4,
    "start_time": "2024-09-09T16:38:43.713Z"
   },
   {
    "duration": 4,
    "start_time": "2024-09-09T16:38:43.723Z"
   },
   {
    "duration": 77,
    "start_time": "2024-09-09T16:38:43.729Z"
   },
   {
    "duration": 2,
    "start_time": "2024-09-09T16:38:43.808Z"
   },
   {
    "duration": 2,
    "start_time": "2024-09-09T16:38:43.812Z"
   },
   {
    "duration": 4,
    "start_time": "2024-09-09T16:38:43.815Z"
   },
   {
    "duration": 3,
    "start_time": "2024-09-09T16:38:43.821Z"
   },
   {
    "duration": 3,
    "start_time": "2024-09-09T16:38:43.826Z"
   },
   {
    "duration": 7,
    "start_time": "2024-09-09T16:38:43.830Z"
   },
   {
    "duration": 5,
    "start_time": "2024-09-09T16:38:43.838Z"
   },
   {
    "duration": 5,
    "start_time": "2024-09-09T16:38:43.845Z"
   },
   {
    "duration": 5,
    "start_time": "2024-09-09T16:38:43.851Z"
   },
   {
    "duration": 8,
    "start_time": "2024-09-09T16:39:18.931Z"
   },
   {
    "duration": 220,
    "start_time": "2024-09-09T16:40:18.613Z"
   },
   {
    "duration": 297,
    "start_time": "2024-09-09T16:41:42.216Z"
   },
   {
    "duration": 32,
    "start_time": "2024-09-09T16:43:02.012Z"
   },
   {
    "duration": 7,
    "start_time": "2024-09-09T16:44:11.653Z"
   },
   {
    "duration": 64,
    "start_time": "2024-09-09T16:44:20.489Z"
   },
   {
    "duration": 7267,
    "start_time": "2024-09-09T16:45:29.939Z"
   },
   {
    "duration": 4,
    "start_time": "2024-09-09T16:48:25.496Z"
   },
   {
    "duration": 87,
    "start_time": "2024-09-09T16:48:36.448Z"
   },
   {
    "duration": 68,
    "start_time": "2024-09-09T16:49:46.931Z"
   },
   {
    "duration": 731,
    "start_time": "2024-09-09T16:50:28.305Z"
   },
   {
    "duration": 209,
    "start_time": "2024-09-09T16:50:29.038Z"
   },
   {
    "duration": 13,
    "start_time": "2024-09-09T16:50:29.249Z"
   },
   {
    "duration": 10,
    "start_time": "2024-09-09T16:50:29.264Z"
   },
   {
    "duration": 11,
    "start_time": "2024-09-09T16:50:29.275Z"
   },
   {
    "duration": 33,
    "start_time": "2024-09-09T16:50:29.304Z"
   },
   {
    "duration": 28,
    "start_time": "2024-09-09T16:50:29.339Z"
   },
   {
    "duration": 47,
    "start_time": "2024-09-09T16:50:29.369Z"
   },
   {
    "duration": 60,
    "start_time": "2024-09-09T16:50:29.419Z"
   },
   {
    "duration": 69,
    "start_time": "2024-09-09T16:50:29.482Z"
   },
   {
    "duration": 71,
    "start_time": "2024-09-09T16:50:29.553Z"
   },
   {
    "duration": 9,
    "start_time": "2024-09-09T16:50:29.626Z"
   },
   {
    "duration": 7,
    "start_time": "2024-09-09T16:50:29.636Z"
   },
   {
    "duration": 7,
    "start_time": "2024-09-09T16:50:29.645Z"
   },
   {
    "duration": 24,
    "start_time": "2024-09-09T16:50:29.654Z"
   },
   {
    "duration": 68,
    "start_time": "2024-09-09T16:50:29.680Z"
   },
   {
    "duration": 42,
    "start_time": "2024-09-09T16:50:29.750Z"
   },
   {
    "duration": 42,
    "start_time": "2024-09-09T16:50:29.806Z"
   },
   {
    "duration": 11,
    "start_time": "2024-09-09T16:50:29.850Z"
   },
   {
    "duration": 44,
    "start_time": "2024-09-09T16:50:29.862Z"
   },
   {
    "duration": 3,
    "start_time": "2024-09-09T16:50:29.908Z"
   },
   {
    "duration": 14,
    "start_time": "2024-09-09T16:50:29.912Z"
   },
   {
    "duration": 79,
    "start_time": "2024-09-09T16:50:29.927Z"
   },
   {
    "duration": 4,
    "start_time": "2024-09-09T16:50:30.010Z"
   },
   {
    "duration": 13,
    "start_time": "2024-09-09T16:50:30.017Z"
   },
   {
    "duration": 4,
    "start_time": "2024-09-09T16:50:30.109Z"
   },
   {
    "duration": 4,
    "start_time": "2024-09-09T16:50:30.117Z"
   },
   {
    "duration": 79,
    "start_time": "2024-09-09T16:50:30.126Z"
   },
   {
    "duration": 3,
    "start_time": "2024-09-09T16:50:30.206Z"
   },
   {
    "duration": 3,
    "start_time": "2024-09-09T16:50:30.210Z"
   },
   {
    "duration": 2,
    "start_time": "2024-09-09T16:50:30.215Z"
   },
   {
    "duration": 3,
    "start_time": "2024-09-09T16:50:30.219Z"
   },
   {
    "duration": 4,
    "start_time": "2024-09-09T16:50:30.223Z"
   },
   {
    "duration": 2,
    "start_time": "2024-09-09T16:50:30.229Z"
   },
   {
    "duration": 5,
    "start_time": "2024-09-09T16:50:30.233Z"
   },
   {
    "duration": 5,
    "start_time": "2024-09-09T16:50:30.240Z"
   },
   {
    "duration": 5,
    "start_time": "2024-09-09T16:50:30.246Z"
   },
   {
    "duration": 561,
    "start_time": "2024-09-09T16:50:30.253Z"
   },
   {
    "duration": 68,
    "start_time": "2024-09-09T16:51:11.367Z"
   },
   {
    "duration": 30,
    "start_time": "2024-09-09T16:57:17.965Z"
   },
   {
    "duration": 838,
    "start_time": "2024-09-09T21:32:08.355Z"
   },
   {
    "duration": 411,
    "start_time": "2024-09-09T21:32:09.196Z"
   },
   {
    "duration": 15,
    "start_time": "2024-09-09T21:32:09.610Z"
   },
   {
    "duration": 10,
    "start_time": "2024-09-09T21:32:09.627Z"
   },
   {
    "duration": 10,
    "start_time": "2024-09-09T21:32:09.638Z"
   },
   {
    "duration": 60,
    "start_time": "2024-09-09T21:32:09.649Z"
   },
   {
    "duration": 29,
    "start_time": "2024-09-09T21:32:09.712Z"
   },
   {
    "duration": 31,
    "start_time": "2024-09-09T21:32:09.742Z"
   },
   {
    "duration": 84,
    "start_time": "2024-09-09T21:32:09.775Z"
   },
   {
    "duration": 80,
    "start_time": "2024-09-09T21:32:09.862Z"
   },
   {
    "duration": 107,
    "start_time": "2024-09-09T21:32:09.944Z"
   },
   {
    "duration": 10,
    "start_time": "2024-09-09T21:32:10.052Z"
   },
   {
    "duration": 6,
    "start_time": "2024-09-09T21:32:10.064Z"
   },
   {
    "duration": 15,
    "start_time": "2024-09-09T21:32:10.100Z"
   },
   {
    "duration": 26,
    "start_time": "2024-09-09T21:32:10.117Z"
   },
   {
    "duration": 41,
    "start_time": "2024-09-09T21:32:10.144Z"
   },
   {
    "duration": 52,
    "start_time": "2024-09-09T21:32:10.203Z"
   },
   {
    "duration": 61,
    "start_time": "2024-09-09T21:32:10.257Z"
   },
   {
    "duration": 9,
    "start_time": "2024-09-09T21:32:10.320Z"
   },
   {
    "duration": 3,
    "start_time": "2024-09-09T21:32:10.333Z"
   },
   {
    "duration": 3,
    "start_time": "2024-09-09T21:32:10.337Z"
   },
   {
    "duration": 51,
    "start_time": "2024-09-09T21:32:10.342Z"
   },
   {
    "duration": 10,
    "start_time": "2024-09-09T21:32:10.395Z"
   },
   {
    "duration": 10,
    "start_time": "2024-09-09T21:32:10.407Z"
   },
   {
    "duration": 75,
    "start_time": "2024-09-09T21:32:10.420Z"
   },
   {
    "duration": 7,
    "start_time": "2024-09-09T21:32:10.497Z"
   },
   {
    "duration": 9,
    "start_time": "2024-09-09T21:32:10.505Z"
   },
   {
    "duration": 71,
    "start_time": "2024-09-09T21:32:10.520Z"
   },
   {
    "duration": 4,
    "start_time": "2024-09-09T21:32:10.593Z"
   },
   {
    "duration": 3,
    "start_time": "2024-09-09T21:32:10.603Z"
   },
   {
    "duration": 9,
    "start_time": "2024-09-09T21:32:10.612Z"
   },
   {
    "duration": 3,
    "start_time": "2024-09-09T21:32:10.624Z"
   },
   {
    "duration": 4,
    "start_time": "2024-09-09T21:32:10.629Z"
   },
   {
    "duration": 2,
    "start_time": "2024-09-09T21:32:10.635Z"
   },
   {
    "duration": 534,
    "start_time": "2024-09-09T21:32:10.638Z"
   },
   {
    "duration": 0,
    "start_time": "2024-09-09T21:32:11.174Z"
   },
   {
    "duration": 0,
    "start_time": "2024-09-09T21:32:11.176Z"
   },
   {
    "duration": 0,
    "start_time": "2024-09-09T21:32:11.186Z"
   },
   {
    "duration": 4,
    "start_time": "2024-09-09T21:36:11.286Z"
   },
   {
    "duration": 6,
    "start_time": "2024-09-09T21:36:13.175Z"
   },
   {
    "duration": 5,
    "start_time": "2024-09-09T21:36:14.176Z"
   },
   {
    "duration": 6,
    "start_time": "2024-09-09T21:36:14.658Z"
   },
   {
    "duration": 95,
    "start_time": "2024-09-09T21:36:18.766Z"
   },
   {
    "duration": 52,
    "start_time": "2024-09-09T21:36:58.667Z"
   },
   {
    "duration": 784,
    "start_time": "2024-09-09T22:36:48.788Z"
   },
   {
    "duration": 360,
    "start_time": "2024-09-09T22:36:49.574Z"
   },
   {
    "duration": 12,
    "start_time": "2024-09-09T22:36:49.936Z"
   },
   {
    "duration": 10,
    "start_time": "2024-09-09T22:36:49.950Z"
   },
   {
    "duration": 11,
    "start_time": "2024-09-09T22:36:49.963Z"
   },
   {
    "duration": 58,
    "start_time": "2024-09-09T22:36:49.976Z"
   },
   {
    "duration": 29,
    "start_time": "2024-09-09T22:36:50.036Z"
   },
   {
    "duration": 32,
    "start_time": "2024-09-09T22:36:50.066Z"
   },
   {
    "duration": 88,
    "start_time": "2024-09-09T22:36:50.099Z"
   },
   {
    "duration": 76,
    "start_time": "2024-09-09T22:36:50.191Z"
   },
   {
    "duration": 70,
    "start_time": "2024-09-09T22:36:50.269Z"
   },
   {
    "duration": 9,
    "start_time": "2024-09-09T22:36:50.341Z"
   },
   {
    "duration": 7,
    "start_time": "2024-09-09T22:36:50.353Z"
   },
   {
    "duration": 7,
    "start_time": "2024-09-09T22:36:50.361Z"
   },
   {
    "duration": 28,
    "start_time": "2024-09-09T22:36:50.369Z"
   },
   {
    "duration": 67,
    "start_time": "2024-09-09T22:36:50.400Z"
   },
   {
    "duration": 43,
    "start_time": "2024-09-09T22:36:50.469Z"
   },
   {
    "duration": 52,
    "start_time": "2024-09-09T22:36:50.513Z"
   },
   {
    "duration": 10,
    "start_time": "2024-09-09T22:36:50.567Z"
   },
   {
    "duration": 4,
    "start_time": "2024-09-09T22:36:50.582Z"
   },
   {
    "duration": 4,
    "start_time": "2024-09-09T22:36:50.630Z"
   },
   {
    "duration": 10,
    "start_time": "2024-09-09T22:36:50.636Z"
   },
   {
    "duration": 3,
    "start_time": "2024-09-09T22:36:50.648Z"
   },
   {
    "duration": 3,
    "start_time": "2024-09-09T22:36:50.653Z"
   },
   {
    "duration": 13,
    "start_time": "2024-09-09T22:36:50.732Z"
   },
   {
    "duration": 3,
    "start_time": "2024-09-09T22:36:50.747Z"
   },
   {
    "duration": 4,
    "start_time": "2024-09-09T22:36:50.752Z"
   },
   {
    "duration": 5,
    "start_time": "2024-09-09T22:36:50.832Z"
   },
   {
    "duration": 2,
    "start_time": "2024-09-09T22:36:50.839Z"
   },
   {
    "duration": 3,
    "start_time": "2024-09-09T22:36:50.843Z"
   },
   {
    "duration": 3,
    "start_time": "2024-09-09T22:36:50.847Z"
   },
   {
    "duration": 2,
    "start_time": "2024-09-09T22:36:50.852Z"
   },
   {
    "duration": 5,
    "start_time": "2024-09-09T22:36:50.856Z"
   },
   {
    "duration": 68,
    "start_time": "2024-09-09T22:36:50.863Z"
   },
   {
    "duration": 5,
    "start_time": "2024-09-09T22:36:50.934Z"
   },
   {
    "duration": 5,
    "start_time": "2024-09-09T22:36:50.941Z"
   },
   {
    "duration": 5,
    "start_time": "2024-09-09T22:36:50.948Z"
   },
   {
    "duration": 263,
    "start_time": "2024-09-09T22:36:50.954Z"
   },
   {
    "duration": 31,
    "start_time": "2024-09-09T22:37:11.800Z"
   },
   {
    "duration": 30,
    "start_time": "2024-09-09T22:38:25.384Z"
   },
   {
    "duration": 312,
    "start_time": "2024-09-09T22:39:53.059Z"
   },
   {
    "duration": 65,
    "start_time": "2024-09-09T22:40:45.172Z"
   },
   {
    "duration": 13,
    "start_time": "2024-09-09T22:42:48.246Z"
   },
   {
    "duration": 79,
    "start_time": "2024-09-09T22:43:04.294Z"
   },
   {
    "duration": 775,
    "start_time": "2024-09-09T22:43:23.673Z"
   },
   {
    "duration": 232,
    "start_time": "2024-09-09T22:43:24.451Z"
   },
   {
    "duration": 14,
    "start_time": "2024-09-09T22:43:24.686Z"
   },
   {
    "duration": 13,
    "start_time": "2024-09-09T22:43:24.702Z"
   },
   {
    "duration": 25,
    "start_time": "2024-09-09T22:43:24.717Z"
   },
   {
    "duration": 39,
    "start_time": "2024-09-09T22:43:24.744Z"
   },
   {
    "duration": 47,
    "start_time": "2024-09-09T22:43:24.785Z"
   },
   {
    "duration": 32,
    "start_time": "2024-09-09T22:43:24.834Z"
   },
   {
    "duration": 81,
    "start_time": "2024-09-09T22:43:24.869Z"
   },
   {
    "duration": 99,
    "start_time": "2024-09-09T22:43:24.952Z"
   },
   {
    "duration": 81,
    "start_time": "2024-09-09T22:43:25.053Z"
   },
   {
    "duration": 65,
    "start_time": "2024-09-09T22:43:25.136Z"
   },
   {
    "duration": 9,
    "start_time": "2024-09-09T22:43:25.202Z"
   },
   {
    "duration": 21,
    "start_time": "2024-09-09T22:43:25.215Z"
   },
   {
    "duration": 7,
    "start_time": "2024-09-09T22:43:25.238Z"
   },
   {
    "duration": 28,
    "start_time": "2024-09-09T22:43:25.247Z"
   },
   {
    "duration": 65,
    "start_time": "2024-09-09T22:43:25.277Z"
   },
   {
    "duration": 43,
    "start_time": "2024-09-09T22:43:25.343Z"
   },
   {
    "duration": 58,
    "start_time": "2024-09-09T22:43:25.388Z"
   },
   {
    "duration": 12,
    "start_time": "2024-09-09T22:43:25.447Z"
   },
   {
    "duration": 3,
    "start_time": "2024-09-09T22:43:25.461Z"
   },
   {
    "duration": 4,
    "start_time": "2024-09-09T22:43:25.465Z"
   },
   {
    "duration": 68,
    "start_time": "2024-09-09T22:43:25.471Z"
   },
   {
    "duration": 3,
    "start_time": "2024-09-09T22:43:25.541Z"
   },
   {
    "duration": 5,
    "start_time": "2024-09-09T22:43:25.545Z"
   },
   {
    "duration": 89,
    "start_time": "2024-09-09T22:43:25.552Z"
   },
   {
    "duration": 2,
    "start_time": "2024-09-09T22:43:25.643Z"
   },
   {
    "duration": 3,
    "start_time": "2024-09-09T22:43:25.650Z"
   },
   {
    "duration": 80,
    "start_time": "2024-09-09T22:43:25.656Z"
   },
   {
    "duration": 2,
    "start_time": "2024-09-09T22:43:25.738Z"
   },
   {
    "duration": 2,
    "start_time": "2024-09-09T22:43:25.742Z"
   },
   {
    "duration": 2,
    "start_time": "2024-09-09T22:43:25.746Z"
   },
   {
    "duration": 3,
    "start_time": "2024-09-09T22:43:25.750Z"
   },
   {
    "duration": 4,
    "start_time": "2024-09-09T22:43:25.754Z"
   },
   {
    "duration": 3,
    "start_time": "2024-09-09T22:43:25.760Z"
   },
   {
    "duration": 5,
    "start_time": "2024-09-09T22:43:25.764Z"
   },
   {
    "duration": 5,
    "start_time": "2024-09-09T22:43:25.832Z"
   },
   {
    "duration": 5,
    "start_time": "2024-09-09T22:43:25.839Z"
   },
   {
    "duration": 524,
    "start_time": "2024-09-09T22:43:25.846Z"
   },
   {
    "duration": 101,
    "start_time": "2024-09-09T22:44:11.917Z"
   },
   {
    "duration": 81,
    "start_time": "2024-09-09T22:44:39.146Z"
   },
   {
    "duration": 24,
    "start_time": "2024-09-09T22:44:57.212Z"
   },
   {
    "duration": 62,
    "start_time": "2024-09-09T22:45:33.056Z"
   },
   {
    "duration": 748,
    "start_time": "2024-09-09T22:45:42.308Z"
   },
   {
    "duration": 238,
    "start_time": "2024-09-09T22:45:43.058Z"
   },
   {
    "duration": 15,
    "start_time": "2024-09-09T22:45:43.298Z"
   },
   {
    "duration": 19,
    "start_time": "2024-09-09T22:45:43.315Z"
   },
   {
    "duration": 9,
    "start_time": "2024-09-09T22:45:43.336Z"
   },
   {
    "duration": 36,
    "start_time": "2024-09-09T22:45:43.347Z"
   },
   {
    "duration": 49,
    "start_time": "2024-09-09T22:45:43.385Z"
   },
   {
    "duration": 31,
    "start_time": "2024-09-09T22:45:43.436Z"
   },
   {
    "duration": 92,
    "start_time": "2024-09-09T22:45:43.469Z"
   },
   {
    "duration": 82,
    "start_time": "2024-09-09T22:45:43.566Z"
   },
   {
    "duration": 68,
    "start_time": "2024-09-09T22:45:43.650Z"
   },
   {
    "duration": 24,
    "start_time": "2024-09-09T22:45:43.732Z"
   },
   {
    "duration": 86,
    "start_time": "2024-09-09T22:45:43.758Z"
   },
   {
    "duration": 7,
    "start_time": "2024-09-09T22:45:43.846Z"
   },
   {
    "duration": 7,
    "start_time": "2024-09-09T22:45:43.855Z"
   },
   {
    "duration": 7,
    "start_time": "2024-09-09T22:45:43.864Z"
   },
   {
    "duration": 29,
    "start_time": "2024-09-09T22:45:43.872Z"
   },
   {
    "duration": 70,
    "start_time": "2024-09-09T22:45:43.903Z"
   },
   {
    "duration": 56,
    "start_time": "2024-09-09T22:45:43.975Z"
   },
   {
    "duration": 55,
    "start_time": "2024-09-09T22:45:44.033Z"
   },
   {
    "duration": 41,
    "start_time": "2024-09-09T22:45:44.090Z"
   },
   {
    "duration": 6,
    "start_time": "2024-09-09T22:45:44.133Z"
   },
   {
    "duration": 6,
    "start_time": "2024-09-09T22:45:44.141Z"
   },
   {
    "duration": 87,
    "start_time": "2024-09-09T22:45:44.149Z"
   },
   {
    "duration": 3,
    "start_time": "2024-09-09T22:45:44.238Z"
   },
   {
    "duration": 3,
    "start_time": "2024-09-09T22:45:44.246Z"
   },
   {
    "duration": 81,
    "start_time": "2024-09-09T22:45:44.251Z"
   },
   {
    "duration": 4,
    "start_time": "2024-09-09T22:45:44.337Z"
   },
   {
    "duration": 3,
    "start_time": "2024-09-09T22:45:44.343Z"
   },
   {
    "duration": 82,
    "start_time": "2024-09-09T22:45:44.349Z"
   },
   {
    "duration": 3,
    "start_time": "2024-09-09T22:45:44.433Z"
   },
   {
    "duration": 2,
    "start_time": "2024-09-09T22:45:44.438Z"
   },
   {
    "duration": 2,
    "start_time": "2024-09-09T22:45:44.442Z"
   },
   {
    "duration": 3,
    "start_time": "2024-09-09T22:45:44.446Z"
   },
   {
    "duration": 4,
    "start_time": "2024-09-09T22:45:44.451Z"
   },
   {
    "duration": 2,
    "start_time": "2024-09-09T22:45:44.458Z"
   },
   {
    "duration": 6,
    "start_time": "2024-09-09T22:45:44.462Z"
   },
   {
    "duration": 6,
    "start_time": "2024-09-09T22:45:44.469Z"
   },
   {
    "duration": 5,
    "start_time": "2024-09-09T22:45:44.476Z"
   },
   {
    "duration": 543,
    "start_time": "2024-09-09T22:45:44.531Z"
   },
   {
    "duration": 237,
    "start_time": "2024-09-09T22:47:23.679Z"
   },
   {
    "duration": 27,
    "start_time": "2024-09-09T22:47:36.121Z"
   },
   {
    "duration": 73,
    "start_time": "2024-09-09T22:47:40.435Z"
   },
   {
    "duration": 782,
    "start_time": "2024-09-09T22:48:11.566Z"
   },
   {
    "duration": 231,
    "start_time": "2024-09-09T22:48:12.350Z"
   },
   {
    "duration": 13,
    "start_time": "2024-09-09T22:48:12.583Z"
   },
   {
    "duration": 13,
    "start_time": "2024-09-09T22:48:12.599Z"
   },
   {
    "duration": 30,
    "start_time": "2024-09-09T22:48:12.613Z"
   },
   {
    "duration": 37,
    "start_time": "2024-09-09T22:48:12.644Z"
   },
   {
    "duration": 49,
    "start_time": "2024-09-09T22:48:12.683Z"
   },
   {
    "duration": 34,
    "start_time": "2024-09-09T22:48:12.734Z"
   },
   {
    "duration": 79,
    "start_time": "2024-09-09T22:48:12.769Z"
   },
   {
    "duration": 67,
    "start_time": "2024-09-09T22:48:12.851Z"
   },
   {
    "duration": 76,
    "start_time": "2024-09-09T22:48:12.919Z"
   },
   {
    "duration": 42,
    "start_time": "2024-09-09T22:48:12.996Z"
   },
   {
    "duration": 69,
    "start_time": "2024-09-09T22:48:13.040Z"
   },
   {
    "duration": 20,
    "start_time": "2024-09-09T22:48:13.111Z"
   },
   {
    "duration": 8,
    "start_time": "2024-09-09T22:48:13.133Z"
   },
   {
    "duration": 8,
    "start_time": "2024-09-09T22:48:13.143Z"
   },
   {
    "duration": 36,
    "start_time": "2024-09-09T22:48:13.153Z"
   },
   {
    "duration": 62,
    "start_time": "2024-09-09T22:48:13.191Z"
   },
   {
    "duration": 44,
    "start_time": "2024-09-09T22:48:13.255Z"
   },
   {
    "duration": 60,
    "start_time": "2024-09-09T22:48:13.301Z"
   },
   {
    "duration": 13,
    "start_time": "2024-09-09T22:48:13.362Z"
   },
   {
    "duration": 4,
    "start_time": "2024-09-09T22:48:13.376Z"
   },
   {
    "duration": 50,
    "start_time": "2024-09-09T22:48:13.381Z"
   },
   {
    "duration": 11,
    "start_time": "2024-09-09T22:48:13.433Z"
   },
   {
    "duration": 3,
    "start_time": "2024-09-09T22:48:13.446Z"
   },
   {
    "duration": 4,
    "start_time": "2024-09-09T22:48:13.451Z"
   },
   {
    "duration": 13,
    "start_time": "2024-09-09T22:48:13.531Z"
   },
   {
    "duration": 3,
    "start_time": "2024-09-09T22:48:13.548Z"
   },
   {
    "duration": 78,
    "start_time": "2024-09-09T22:48:13.553Z"
   },
   {
    "duration": 5,
    "start_time": "2024-09-09T22:48:13.633Z"
   },
   {
    "duration": 2,
    "start_time": "2024-09-09T22:48:13.642Z"
   },
   {
    "duration": 3,
    "start_time": "2024-09-09T22:48:13.646Z"
   },
   {
    "duration": 4,
    "start_time": "2024-09-09T22:48:13.650Z"
   },
   {
    "duration": 4,
    "start_time": "2024-09-09T22:48:13.655Z"
   },
   {
    "duration": 4,
    "start_time": "2024-09-09T22:48:13.661Z"
   },
   {
    "duration": 3,
    "start_time": "2024-09-09T22:48:13.666Z"
   },
   {
    "duration": 65,
    "start_time": "2024-09-09T22:48:13.671Z"
   },
   {
    "duration": 5,
    "start_time": "2024-09-09T22:48:13.738Z"
   },
   {
    "duration": 5,
    "start_time": "2024-09-09T22:48:13.745Z"
   },
   {
    "duration": 524,
    "start_time": "2024-09-09T22:48:13.752Z"
   },
   {
    "duration": 25,
    "start_time": "2024-09-09T22:49:27.695Z"
   },
   {
    "duration": 13,
    "start_time": "2024-09-09T22:49:39.944Z"
   },
   {
    "duration": 28,
    "start_time": "2024-09-09T22:49:44.873Z"
   },
   {
    "duration": 25,
    "start_time": "2024-09-09T22:50:00.090Z"
   },
   {
    "duration": 24,
    "start_time": "2024-09-09T22:50:15.564Z"
   },
   {
    "duration": 26,
    "start_time": "2024-09-09T22:50:31.351Z"
   },
   {
    "duration": 28,
    "start_time": "2024-09-09T22:51:04.444Z"
   },
   {
    "duration": 792,
    "start_time": "2024-09-09T22:51:10.557Z"
   },
   {
    "duration": 222,
    "start_time": "2024-09-09T22:51:11.351Z"
   },
   {
    "duration": 13,
    "start_time": "2024-09-09T22:51:11.575Z"
   },
   {
    "duration": 10,
    "start_time": "2024-09-09T22:51:11.591Z"
   },
   {
    "duration": 10,
    "start_time": "2024-09-09T22:51:11.602Z"
   },
   {
    "duration": 48,
    "start_time": "2024-09-09T22:51:11.614Z"
   },
   {
    "duration": 30,
    "start_time": "2024-09-09T22:51:11.664Z"
   },
   {
    "duration": 49,
    "start_time": "2024-09-09T22:51:11.695Z"
   },
   {
    "duration": 66,
    "start_time": "2024-09-09T22:51:11.746Z"
   },
   {
    "duration": 64,
    "start_time": "2024-09-09T22:51:11.832Z"
   },
   {
    "duration": 83,
    "start_time": "2024-09-09T22:51:11.898Z"
   },
   {
    "duration": 26,
    "start_time": "2024-09-09T22:51:11.982Z"
   },
   {
    "duration": 35,
    "start_time": "2024-09-09T22:51:12.010Z"
   },
   {
    "duration": 23,
    "start_time": "2024-09-09T22:51:12.047Z"
   },
   {
    "duration": 7,
    "start_time": "2024-09-09T22:51:12.072Z"
   },
   {
    "duration": 7,
    "start_time": "2024-09-09T22:51:12.081Z"
   },
   {
    "duration": 7,
    "start_time": "2024-09-09T22:51:12.089Z"
   },
   {
    "duration": 60,
    "start_time": "2024-09-09T22:51:12.097Z"
   },
   {
    "duration": 43,
    "start_time": "2024-09-09T22:51:12.159Z"
   },
   {
    "duration": 61,
    "start_time": "2024-09-09T22:51:12.204Z"
   },
   {
    "duration": 64,
    "start_time": "2024-09-09T22:51:12.267Z"
   },
   {
    "duration": 10,
    "start_time": "2024-09-09T22:51:12.333Z"
   },
   {
    "duration": 3,
    "start_time": "2024-09-09T22:51:12.344Z"
   },
   {
    "duration": 5,
    "start_time": "2024-09-09T22:51:12.348Z"
   },
   {
    "duration": 86,
    "start_time": "2024-09-09T22:51:12.354Z"
   },
   {
    "duration": 4,
    "start_time": "2024-09-09T22:51:12.445Z"
   },
   {
    "duration": 78,
    "start_time": "2024-09-09T22:51:12.454Z"
   },
   {
    "duration": 10,
    "start_time": "2024-09-09T22:51:12.537Z"
   },
   {
    "duration": 3,
    "start_time": "2024-09-09T22:51:12.548Z"
   },
   {
    "duration": 5,
    "start_time": "2024-09-09T22:51:12.552Z"
   },
   {
    "duration": 4,
    "start_time": "2024-09-09T22:51:12.558Z"
   },
   {
    "duration": 3,
    "start_time": "2024-09-09T22:51:12.564Z"
   },
   {
    "duration": 66,
    "start_time": "2024-09-09T22:51:12.568Z"
   },
   {
    "duration": 2,
    "start_time": "2024-09-09T22:51:12.637Z"
   },
   {
    "duration": 3,
    "start_time": "2024-09-09T22:51:12.641Z"
   },
   {
    "duration": 5,
    "start_time": "2024-09-09T22:51:12.646Z"
   },
   {
    "duration": 3,
    "start_time": "2024-09-09T22:51:12.653Z"
   },
   {
    "duration": 6,
    "start_time": "2024-09-09T22:51:12.658Z"
   },
   {
    "duration": 6,
    "start_time": "2024-09-09T22:51:12.731Z"
   },
   {
    "duration": 5,
    "start_time": "2024-09-09T22:51:12.738Z"
   },
   {
    "duration": 578,
    "start_time": "2024-09-09T22:51:12.745Z"
   },
   {
    "duration": 4,
    "start_time": "2024-09-09T22:53:43.565Z"
   },
   {
    "duration": 30,
    "start_time": "2024-09-09T22:53:53.741Z"
   },
   {
    "duration": 24,
    "start_time": "2024-09-09T22:56:40.477Z"
   },
   {
    "duration": 36,
    "start_time": "2024-09-09T22:57:26.886Z"
   },
   {
    "duration": 33,
    "start_time": "2024-09-09T22:58:18.781Z"
   },
   {
    "duration": 31,
    "start_time": "2024-09-09T22:58:25.384Z"
   },
   {
    "duration": 5,
    "start_time": "2024-09-09T23:01:15.456Z"
   },
   {
    "duration": 4,
    "start_time": "2024-09-09T23:02:26.288Z"
   },
   {
    "duration": 744,
    "start_time": "2024-09-09T23:02:40.710Z"
   },
   {
    "duration": 217,
    "start_time": "2024-09-09T23:02:41.456Z"
   },
   {
    "duration": 15,
    "start_time": "2024-09-09T23:02:41.676Z"
   },
   {
    "duration": 12,
    "start_time": "2024-09-09T23:02:41.695Z"
   },
   {
    "duration": 28,
    "start_time": "2024-09-09T23:02:41.710Z"
   },
   {
    "duration": 35,
    "start_time": "2024-09-09T23:02:41.740Z"
   },
   {
    "duration": 32,
    "start_time": "2024-09-09T23:02:41.777Z"
   },
   {
    "duration": 48,
    "start_time": "2024-09-09T23:02:41.811Z"
   },
   {
    "duration": 73,
    "start_time": "2024-09-09T23:02:41.861Z"
   },
   {
    "duration": 69,
    "start_time": "2024-09-09T23:02:41.937Z"
   },
   {
    "duration": 77,
    "start_time": "2024-09-09T23:02:42.008Z"
   },
   {
    "duration": 24,
    "start_time": "2024-09-09T23:02:42.087Z"
   },
   {
    "duration": 41,
    "start_time": "2024-09-09T23:02:42.113Z"
   },
   {
    "duration": 25,
    "start_time": "2024-09-09T23:02:42.156Z"
   },
   {
    "duration": 8,
    "start_time": "2024-09-09T23:02:42.183Z"
   },
   {
    "duration": 7,
    "start_time": "2024-09-09T23:02:42.193Z"
   },
   {
    "duration": 31,
    "start_time": "2024-09-09T23:02:42.201Z"
   },
   {
    "duration": 27,
    "start_time": "2024-09-09T23:02:42.234Z"
   },
   {
    "duration": 42,
    "start_time": "2024-09-09T23:02:42.263Z"
   },
   {
    "duration": 61,
    "start_time": "2024-09-09T23:02:42.307Z"
   },
   {
    "duration": 43,
    "start_time": "2024-09-09T23:02:42.369Z"
   },
   {
    "duration": 22,
    "start_time": "2024-09-09T23:02:42.413Z"
   },
   {
    "duration": 6,
    "start_time": "2024-09-09T23:02:42.436Z"
   },
   {
    "duration": 6,
    "start_time": "2024-09-09T23:02:42.443Z"
   },
   {
    "duration": 86,
    "start_time": "2024-09-09T23:02:42.450Z"
   },
   {
    "duration": 5,
    "start_time": "2024-09-09T23:02:42.539Z"
   },
   {
    "duration": 5,
    "start_time": "2024-09-09T23:02:42.547Z"
   },
   {
    "duration": 10,
    "start_time": "2024-09-09T23:02:42.633Z"
   },
   {
    "duration": 3,
    "start_time": "2024-09-09T23:02:42.645Z"
   },
   {
    "duration": 4,
    "start_time": "2024-09-09T23:02:42.650Z"
   },
   {
    "duration": 76,
    "start_time": "2024-09-09T23:02:42.655Z"
   },
   {
    "duration": 3,
    "start_time": "2024-09-09T23:02:42.733Z"
   },
   {
    "duration": 3,
    "start_time": "2024-09-09T23:02:42.737Z"
   },
   {
    "duration": 3,
    "start_time": "2024-09-09T23:02:42.741Z"
   },
   {
    "duration": 3,
    "start_time": "2024-09-09T23:02:42.746Z"
   },
   {
    "duration": 4,
    "start_time": "2024-09-09T23:02:42.752Z"
   },
   {
    "duration": 4,
    "start_time": "2024-09-09T23:02:42.758Z"
   },
   {
    "duration": 67,
    "start_time": "2024-09-09T23:02:42.764Z"
   },
   {
    "duration": 5,
    "start_time": "2024-09-09T23:02:42.833Z"
   },
   {
    "duration": 5,
    "start_time": "2024-09-09T23:02:42.839Z"
   },
   {
    "duration": 4,
    "start_time": "2024-09-09T23:02:42.846Z"
   },
   {
    "duration": 220,
    "start_time": "2024-09-09T23:03:32.560Z"
   },
   {
    "duration": 31,
    "start_time": "2024-09-09T23:04:38.901Z"
   },
   {
    "duration": 148,
    "start_time": "2024-09-09T23:05:39.410Z"
   },
   {
    "duration": 446,
    "start_time": "2024-09-09T23:07:08.355Z"
   },
   {
    "duration": 3,
    "start_time": "2024-09-09T23:08:06.651Z"
   },
   {
    "duration": 5,
    "start_time": "2024-09-09T23:08:07.854Z"
   },
   {
    "duration": 6,
    "start_time": "2024-09-09T23:08:08.291Z"
   },
   {
    "duration": 6,
    "start_time": "2024-09-09T23:08:08.815Z"
   },
   {
    "duration": 117,
    "start_time": "2024-09-09T23:08:10.925Z"
   },
   {
    "duration": 30,
    "start_time": "2024-09-09T23:08:28.430Z"
   },
   {
    "duration": 9,
    "start_time": "2024-09-09T23:12:13.959Z"
   },
   {
    "duration": 30,
    "start_time": "2024-09-09T23:12:20.225Z"
   },
   {
    "duration": 12,
    "start_time": "2024-09-10T01:21:53.988Z"
   },
   {
    "duration": 197,
    "start_time": "2024-09-10T01:22:08.151Z"
   },
   {
    "duration": 813,
    "start_time": "2024-09-10T01:22:18.290Z"
   },
   {
    "duration": 392,
    "start_time": "2024-09-10T01:22:19.105Z"
   },
   {
    "duration": 13,
    "start_time": "2024-09-10T01:22:19.498Z"
   },
   {
    "duration": 14,
    "start_time": "2024-09-10T01:22:19.513Z"
   },
   {
    "duration": 12,
    "start_time": "2024-09-10T01:22:19.529Z"
   },
   {
    "duration": 36,
    "start_time": "2024-09-10T01:22:19.543Z"
   },
   {
    "duration": 27,
    "start_time": "2024-09-10T01:22:19.581Z"
   },
   {
    "duration": 55,
    "start_time": "2024-09-10T01:22:19.609Z"
   },
   {
    "duration": 92,
    "start_time": "2024-09-10T01:22:19.666Z"
   },
   {
    "duration": 68,
    "start_time": "2024-09-10T01:22:19.762Z"
   },
   {
    "duration": 69,
    "start_time": "2024-09-10T01:22:19.834Z"
   },
   {
    "duration": 28,
    "start_time": "2024-09-10T01:22:19.905Z"
   },
   {
    "duration": 28,
    "start_time": "2024-09-10T01:22:19.944Z"
   },
   {
    "duration": 22,
    "start_time": "2024-09-10T01:22:19.974Z"
   },
   {
    "duration": 6,
    "start_time": "2024-09-10T01:22:19.998Z"
   },
   {
    "duration": 45,
    "start_time": "2024-09-10T01:22:20.006Z"
   },
   {
    "duration": 12,
    "start_time": "2024-09-10T01:22:20.056Z"
   },
   {
    "duration": 26,
    "start_time": "2024-09-10T01:22:20.070Z"
   },
   {
    "duration": 58,
    "start_time": "2024-09-10T01:22:20.097Z"
   },
   {
    "duration": 42,
    "start_time": "2024-09-10T01:22:20.156Z"
   },
   {
    "duration": 62,
    "start_time": "2024-09-10T01:22:20.200Z"
   },
   {
    "duration": 9,
    "start_time": "2024-09-10T01:22:20.264Z"
   },
   {
    "duration": 2,
    "start_time": "2024-09-10T01:22:20.275Z"
   },
   {
    "duration": 4,
    "start_time": "2024-09-10T01:22:20.278Z"
   },
   {
    "duration": 58,
    "start_time": "2024-09-10T01:22:20.283Z"
   },
   {
    "duration": 2,
    "start_time": "2024-09-10T01:22:20.343Z"
   },
   {
    "duration": 3,
    "start_time": "2024-09-10T01:22:20.347Z"
   },
   {
    "duration": 81,
    "start_time": "2024-09-10T01:22:20.356Z"
   },
   {
    "duration": 8,
    "start_time": "2024-09-10T01:22:20.443Z"
   },
   {
    "duration": 4,
    "start_time": "2024-09-10T01:22:20.453Z"
   },
   {
    "duration": 6,
    "start_time": "2024-09-10T01:22:20.459Z"
   },
   {
    "duration": 3,
    "start_time": "2024-09-10T01:22:20.528Z"
   },
   {
    "duration": 7,
    "start_time": "2024-09-10T01:22:20.536Z"
   },
   {
    "duration": 8,
    "start_time": "2024-09-10T01:22:20.545Z"
   },
   {
    "duration": 3,
    "start_time": "2024-09-10T01:22:20.554Z"
   },
   {
    "duration": 4,
    "start_time": "2024-09-10T01:22:20.559Z"
   },
   {
    "duration": 3,
    "start_time": "2024-09-10T01:22:20.565Z"
   },
   {
    "duration": 6,
    "start_time": "2024-09-10T01:22:20.569Z"
   },
   {
    "duration": 5,
    "start_time": "2024-09-10T01:22:20.576Z"
   },
   {
    "duration": 5,
    "start_time": "2024-09-10T01:22:20.582Z"
   },
   {
    "duration": 311,
    "start_time": "2024-09-10T01:22:20.588Z"
   },
   {
    "duration": 348,
    "start_time": "2024-09-10T01:25:54.308Z"
   },
   {
    "duration": 4,
    "start_time": "2024-09-10T01:27:02.012Z"
   },
   {
    "duration": 7,
    "start_time": "2024-09-10T01:27:02.548Z"
   },
   {
    "duration": 6,
    "start_time": "2024-09-10T01:27:03.288Z"
   },
   {
    "duration": 7,
    "start_time": "2024-09-10T01:27:03.844Z"
   },
   {
    "duration": 103,
    "start_time": "2024-09-10T01:27:06.115Z"
   },
   {
    "duration": 170,
    "start_time": "2024-09-10T01:31:16.212Z"
   },
   {
    "duration": 165,
    "start_time": "2024-09-10T13:16:13.279Z"
   },
   {
    "duration": 760,
    "start_time": "2024-09-10T13:16:19.406Z"
   },
   {
    "duration": 369,
    "start_time": "2024-09-10T13:16:20.168Z"
   },
   {
    "duration": 13,
    "start_time": "2024-09-10T13:16:20.539Z"
   },
   {
    "duration": 12,
    "start_time": "2024-09-10T13:16:20.554Z"
   },
   {
    "duration": 13,
    "start_time": "2024-09-10T13:16:20.569Z"
   },
   {
    "duration": 58,
    "start_time": "2024-09-10T13:16:20.583Z"
   },
   {
    "duration": 32,
    "start_time": "2024-09-10T13:16:20.643Z"
   },
   {
    "duration": 54,
    "start_time": "2024-09-10T13:16:20.678Z"
   },
   {
    "duration": 72,
    "start_time": "2024-09-10T13:16:20.734Z"
   },
   {
    "duration": 93,
    "start_time": "2024-09-10T13:16:20.808Z"
   },
   {
    "duration": 76,
    "start_time": "2024-09-10T13:16:20.904Z"
   },
   {
    "duration": 26,
    "start_time": "2024-09-10T13:16:20.982Z"
   },
   {
    "duration": 39,
    "start_time": "2024-09-10T13:16:21.010Z"
   },
   {
    "duration": 25,
    "start_time": "2024-09-10T13:16:21.054Z"
   },
   {
    "duration": 6,
    "start_time": "2024-09-10T13:16:21.081Z"
   },
   {
    "duration": 7,
    "start_time": "2024-09-10T13:16:21.090Z"
   },
   {
    "duration": 36,
    "start_time": "2024-09-10T13:16:21.099Z"
   },
   {
    "duration": 296,
    "start_time": "2024-09-10T13:16:21.137Z"
   },
   {
    "duration": 0,
    "start_time": "2024-09-10T13:16:21.435Z"
   },
   {
    "duration": 0,
    "start_time": "2024-09-10T13:16:21.436Z"
   },
   {
    "duration": 0,
    "start_time": "2024-09-10T13:16:21.438Z"
   },
   {
    "duration": 0,
    "start_time": "2024-09-10T13:16:21.439Z"
   },
   {
    "duration": 0,
    "start_time": "2024-09-10T13:16:21.439Z"
   },
   {
    "duration": 0,
    "start_time": "2024-09-10T13:16:21.441Z"
   },
   {
    "duration": 0,
    "start_time": "2024-09-10T13:16:21.441Z"
   },
   {
    "duration": 0,
    "start_time": "2024-09-10T13:16:21.442Z"
   },
   {
    "duration": 0,
    "start_time": "2024-09-10T13:16:21.443Z"
   },
   {
    "duration": 1,
    "start_time": "2024-09-10T13:16:21.444Z"
   },
   {
    "duration": 0,
    "start_time": "2024-09-10T13:16:21.446Z"
   },
   {
    "duration": 0,
    "start_time": "2024-09-10T13:16:21.448Z"
   },
   {
    "duration": 0,
    "start_time": "2024-09-10T13:16:21.449Z"
   },
   {
    "duration": 0,
    "start_time": "2024-09-10T13:16:21.451Z"
   },
   {
    "duration": 0,
    "start_time": "2024-09-10T13:16:21.453Z"
   },
   {
    "duration": 0,
    "start_time": "2024-09-10T13:16:21.454Z"
   },
   {
    "duration": 0,
    "start_time": "2024-09-10T13:16:21.455Z"
   },
   {
    "duration": 0,
    "start_time": "2024-09-10T13:16:21.456Z"
   },
   {
    "duration": 0,
    "start_time": "2024-09-10T13:16:21.457Z"
   },
   {
    "duration": 0,
    "start_time": "2024-09-10T13:16:21.458Z"
   },
   {
    "duration": 0,
    "start_time": "2024-09-10T13:16:21.459Z"
   },
   {
    "duration": 0,
    "start_time": "2024-09-10T13:16:21.460Z"
   },
   {
    "duration": 0,
    "start_time": "2024-09-10T13:16:21.463Z"
   },
   {
    "duration": 0,
    "start_time": "2024-09-10T13:16:21.464Z"
   },
   {
    "duration": 2717,
    "start_time": "2024-09-10T13:17:10.018Z"
   },
   {
    "duration": 231,
    "start_time": "2024-09-10T13:17:12.738Z"
   },
   {
    "duration": 13,
    "start_time": "2024-09-10T13:17:12.971Z"
   },
   {
    "duration": 11,
    "start_time": "2024-09-10T13:17:12.986Z"
   },
   {
    "duration": 12,
    "start_time": "2024-09-10T13:17:13.001Z"
   },
   {
    "duration": 35,
    "start_time": "2024-09-10T13:17:13.032Z"
   },
   {
    "duration": 31,
    "start_time": "2024-09-10T13:17:13.068Z"
   },
   {
    "duration": 60,
    "start_time": "2024-09-10T13:17:13.101Z"
   },
   {
    "duration": 86,
    "start_time": "2024-09-10T13:17:13.163Z"
   },
   {
    "duration": 63,
    "start_time": "2024-09-10T13:17:13.250Z"
   },
   {
    "duration": 82,
    "start_time": "2024-09-10T13:17:13.314Z"
   },
   {
    "duration": 37,
    "start_time": "2024-09-10T13:17:13.398Z"
   },
   {
    "duration": 24,
    "start_time": "2024-09-10T13:17:13.437Z"
   },
   {
    "duration": 25,
    "start_time": "2024-09-10T13:17:13.465Z"
   },
   {
    "duration": 7,
    "start_time": "2024-09-10T13:17:13.491Z"
   },
   {
    "duration": 33,
    "start_time": "2024-09-10T13:17:13.500Z"
   },
   {
    "duration": 8,
    "start_time": "2024-09-10T13:17:13.534Z"
   },
   {
    "duration": 164,
    "start_time": "2024-09-10T13:20:58.342Z"
   },
   {
    "duration": 966,
    "start_time": "2024-09-10T13:21:09.432Z"
   },
   {
    "duration": 345,
    "start_time": "2024-09-10T13:21:10.401Z"
   },
   {
    "duration": 12,
    "start_time": "2024-09-10T13:21:10.748Z"
   },
   {
    "duration": 11,
    "start_time": "2024-09-10T13:21:10.762Z"
   },
   {
    "duration": 10,
    "start_time": "2024-09-10T13:21:10.776Z"
   },
   {
    "duration": 49,
    "start_time": "2024-09-10T13:21:10.788Z"
   },
   {
    "duration": 29,
    "start_time": "2024-09-10T13:21:10.839Z"
   },
   {
    "duration": 32,
    "start_time": "2024-09-10T13:21:10.869Z"
   },
   {
    "duration": 82,
    "start_time": "2024-09-10T13:21:10.902Z"
   },
   {
    "duration": 81,
    "start_time": "2024-09-10T13:21:10.986Z"
   },
   {
    "duration": 72,
    "start_time": "2024-09-10T13:21:11.069Z"
   },
   {
    "duration": 24,
    "start_time": "2024-09-10T13:21:11.143Z"
   },
   {
    "duration": 24,
    "start_time": "2024-09-10T13:21:11.169Z"
   },
   {
    "duration": 47,
    "start_time": "2024-09-10T13:21:11.198Z"
   },
   {
    "duration": 8,
    "start_time": "2024-09-10T13:21:11.247Z"
   },
   {
    "duration": 7,
    "start_time": "2024-09-10T13:21:11.257Z"
   },
   {
    "duration": 8,
    "start_time": "2024-09-10T13:21:11.265Z"
   },
   {
    "duration": 163,
    "start_time": "2024-09-10T13:24:36.637Z"
   },
   {
    "duration": 11,
    "start_time": "2024-09-10T13:27:46.381Z"
   },
   {
    "duration": 948,
    "start_time": "2024-09-10T13:27:49.992Z"
   },
   {
    "duration": 341,
    "start_time": "2024-09-10T13:27:52.366Z"
   },
   {
    "duration": 958,
    "start_time": "2024-09-10T13:29:58.028Z"
   },
   {
    "duration": 233,
    "start_time": "2024-09-10T13:29:58.988Z"
   },
   {
    "duration": 16,
    "start_time": "2024-09-10T13:29:59.223Z"
   },
   {
    "duration": 13,
    "start_time": "2024-09-10T13:29:59.242Z"
   },
   {
    "duration": 12,
    "start_time": "2024-09-10T13:29:59.257Z"
   },
   {
    "duration": 36,
    "start_time": "2024-09-10T13:29:59.271Z"
   },
   {
    "duration": 53,
    "start_time": "2024-09-10T13:29:59.309Z"
   },
   {
    "duration": 35,
    "start_time": "2024-09-10T13:29:59.365Z"
   },
   {
    "duration": 95,
    "start_time": "2024-09-10T13:29:59.402Z"
   },
   {
    "duration": 89,
    "start_time": "2024-09-10T13:29:59.500Z"
   },
   {
    "duration": 119,
    "start_time": "2024-09-10T13:29:59.591Z"
   },
   {
    "duration": 35,
    "start_time": "2024-09-10T13:29:59.713Z"
   },
   {
    "duration": 23,
    "start_time": "2024-09-10T13:29:59.750Z"
   },
   {
    "duration": 30,
    "start_time": "2024-09-10T13:29:59.775Z"
   },
   {
    "duration": 10,
    "start_time": "2024-09-10T13:29:59.807Z"
   },
   {
    "duration": 13,
    "start_time": "2024-09-10T13:29:59.832Z"
   },
   {
    "duration": 10,
    "start_time": "2024-09-10T13:29:59.847Z"
   },
   {
    "duration": 162,
    "start_time": "2024-09-10T13:35:28.109Z"
   },
   {
    "duration": 913,
    "start_time": "2024-09-10T13:35:33.867Z"
   },
   {
    "duration": 343,
    "start_time": "2024-09-10T13:35:34.782Z"
   },
   {
    "duration": 12,
    "start_time": "2024-09-10T13:35:35.126Z"
   },
   {
    "duration": 10,
    "start_time": "2024-09-10T13:35:35.140Z"
   },
   {
    "duration": 11,
    "start_time": "2024-09-10T13:35:35.151Z"
   },
   {
    "duration": 33,
    "start_time": "2024-09-10T13:35:35.163Z"
   },
   {
    "duration": 50,
    "start_time": "2024-09-10T13:35:35.198Z"
   },
   {
    "duration": 32,
    "start_time": "2024-09-10T13:35:35.250Z"
   },
   {
    "duration": 82,
    "start_time": "2024-09-10T13:35:35.285Z"
   },
   {
    "duration": 66,
    "start_time": "2024-09-10T13:35:35.370Z"
   },
   {
    "duration": 62,
    "start_time": "2024-09-10T13:35:35.438Z"
   },
   {
    "duration": 40,
    "start_time": "2024-09-10T13:35:35.503Z"
   },
   {
    "duration": 23,
    "start_time": "2024-09-10T13:35:35.545Z"
   },
   {
    "duration": 29,
    "start_time": "2024-09-10T13:35:35.570Z"
   },
   {
    "duration": 7,
    "start_time": "2024-09-10T13:35:35.601Z"
   },
   {
    "duration": 8,
    "start_time": "2024-09-10T13:35:35.631Z"
   },
   {
    "duration": 7,
    "start_time": "2024-09-10T13:35:35.641Z"
   },
   {
    "duration": 945,
    "start_time": "2024-09-10T13:42:17.656Z"
   },
   {
    "duration": 220,
    "start_time": "2024-09-10T13:42:18.603Z"
   },
   {
    "duration": 13,
    "start_time": "2024-09-10T13:42:18.825Z"
   },
   {
    "duration": 11,
    "start_time": "2024-09-10T13:42:18.839Z"
   },
   {
    "duration": 10,
    "start_time": "2024-09-10T13:42:18.853Z"
   },
   {
    "duration": 34,
    "start_time": "2024-09-10T13:42:18.865Z"
   },
   {
    "duration": 57,
    "start_time": "2024-09-10T13:42:18.901Z"
   },
   {
    "duration": 33,
    "start_time": "2024-09-10T13:42:18.960Z"
   },
   {
    "duration": 82,
    "start_time": "2024-09-10T13:42:18.995Z"
   },
   {
    "duration": 75,
    "start_time": "2024-09-10T13:42:19.079Z"
   },
   {
    "duration": 64,
    "start_time": "2024-09-10T13:42:19.157Z"
   },
   {
    "duration": 25,
    "start_time": "2024-09-10T13:42:19.232Z"
   },
   {
    "duration": 24,
    "start_time": "2024-09-10T13:42:19.259Z"
   },
   {
    "duration": 46,
    "start_time": "2024-09-10T13:42:19.286Z"
   },
   {
    "duration": 8,
    "start_time": "2024-09-10T13:42:19.334Z"
   },
   {
    "duration": 7,
    "start_time": "2024-09-10T13:42:19.344Z"
   },
   {
    "duration": 7,
    "start_time": "2024-09-10T13:42:19.353Z"
   },
   {
    "duration": 957,
    "start_time": "2024-09-10T13:42:19.362Z"
   },
   {
    "duration": 0,
    "start_time": "2024-09-10T13:42:20.321Z"
   },
   {
    "duration": 0,
    "start_time": "2024-09-10T13:42:20.322Z"
   },
   {
    "duration": 0,
    "start_time": "2024-09-10T13:42:20.331Z"
   },
   {
    "duration": 0,
    "start_time": "2024-09-10T13:42:20.332Z"
   },
   {
    "duration": 0,
    "start_time": "2024-09-10T13:42:20.334Z"
   },
   {
    "duration": 0,
    "start_time": "2024-09-10T13:42:20.336Z"
   },
   {
    "duration": 0,
    "start_time": "2024-09-10T13:42:20.337Z"
   },
   {
    "duration": 0,
    "start_time": "2024-09-10T13:42:20.339Z"
   },
   {
    "duration": 0,
    "start_time": "2024-09-10T13:42:20.340Z"
   },
   {
    "duration": 0,
    "start_time": "2024-09-10T13:42:20.342Z"
   },
   {
    "duration": 0,
    "start_time": "2024-09-10T13:42:20.343Z"
   },
   {
    "duration": 0,
    "start_time": "2024-09-10T13:42:20.344Z"
   },
   {
    "duration": 0,
    "start_time": "2024-09-10T13:42:20.345Z"
   },
   {
    "duration": 0,
    "start_time": "2024-09-10T13:42:20.346Z"
   },
   {
    "duration": 0,
    "start_time": "2024-09-10T13:42:20.347Z"
   },
   {
    "duration": 0,
    "start_time": "2024-09-10T13:42:20.348Z"
   },
   {
    "duration": 0,
    "start_time": "2024-09-10T13:42:20.349Z"
   },
   {
    "duration": 0,
    "start_time": "2024-09-10T13:42:20.351Z"
   },
   {
    "duration": 0,
    "start_time": "2024-09-10T13:42:20.352Z"
   },
   {
    "duration": 0,
    "start_time": "2024-09-10T13:42:20.353Z"
   },
   {
    "duration": 0,
    "start_time": "2024-09-10T13:42:20.354Z"
   },
   {
    "duration": 0,
    "start_time": "2024-09-10T13:42:20.355Z"
   },
   {
    "duration": 0,
    "start_time": "2024-09-10T13:42:20.356Z"
   },
   {
    "duration": 0,
    "start_time": "2024-09-10T13:42:20.357Z"
   },
   {
    "duration": 269,
    "start_time": "2024-09-10T13:43:51.950Z"
   },
   {
    "duration": 164,
    "start_time": "2024-09-10T17:26:29.972Z"
   },
   {
    "duration": 2676,
    "start_time": "2024-09-10T17:26:37.175Z"
   },
   {
    "duration": 425,
    "start_time": "2024-09-10T17:26:39.853Z"
   },
   {
    "duration": 15,
    "start_time": "2024-09-10T17:26:40.280Z"
   },
   {
    "duration": 21,
    "start_time": "2024-09-10T17:26:40.298Z"
   },
   {
    "duration": 11,
    "start_time": "2024-09-10T17:26:40.321Z"
   },
   {
    "duration": 33,
    "start_time": "2024-09-10T17:26:40.334Z"
   },
   {
    "duration": 50,
    "start_time": "2024-09-10T17:26:40.369Z"
   },
   {
    "duration": 32,
    "start_time": "2024-09-10T17:26:40.421Z"
   },
   {
    "duration": 78,
    "start_time": "2024-09-10T17:26:40.455Z"
   },
   {
    "duration": 57,
    "start_time": "2024-09-10T17:26:40.537Z"
   },
   {
    "duration": 71,
    "start_time": "2024-09-10T17:26:40.596Z"
   },
   {
    "duration": 41,
    "start_time": "2024-09-10T17:26:40.668Z"
   },
   {
    "duration": 24,
    "start_time": "2024-09-10T17:26:40.711Z"
   },
   {
    "duration": 25,
    "start_time": "2024-09-10T17:26:40.737Z"
   },
   {
    "duration": 7,
    "start_time": "2024-09-10T17:26:40.764Z"
   },
   {
    "duration": 8,
    "start_time": "2024-09-10T17:26:40.773Z"
   },
   {
    "duration": 8,
    "start_time": "2024-09-10T17:26:40.809Z"
   },
   {
    "duration": 24,
    "start_time": "2024-09-10T17:40:45.437Z"
   },
   {
    "duration": 55,
    "start_time": "2024-09-10T17:40:45.463Z"
   },
   {
    "duration": 36,
    "start_time": "2024-09-10T17:40:45.520Z"
   },
   {
    "duration": 52,
    "start_time": "2024-09-10T17:40:45.558Z"
   },
   {
    "duration": 15,
    "start_time": "2024-09-10T17:40:45.611Z"
   },
   {
    "duration": 3,
    "start_time": "2024-09-10T17:40:45.628Z"
   },
   {
    "duration": 3,
    "start_time": "2024-09-10T17:40:45.633Z"
   },
   {
    "duration": 80,
    "start_time": "2024-09-10T17:40:45.638Z"
   },
   {
    "duration": 2,
    "start_time": "2024-09-10T17:40:45.720Z"
   },
   {
    "duration": 4,
    "start_time": "2024-09-10T17:40:45.727Z"
   },
   {
    "duration": 80,
    "start_time": "2024-09-10T17:40:45.732Z"
   },
   {
    "duration": 4,
    "start_time": "2024-09-10T17:40:45.817Z"
   },
   {
    "duration": 4,
    "start_time": "2024-09-10T17:40:45.826Z"
   },
   {
    "duration": 77,
    "start_time": "2024-09-10T17:40:45.833Z"
   },
   {
    "duration": 3,
    "start_time": "2024-09-10T17:40:45.912Z"
   },
   {
    "duration": 3,
    "start_time": "2024-09-10T17:40:45.917Z"
   },
   {
    "duration": 4,
    "start_time": "2024-09-10T17:40:45.921Z"
   },
   {
    "duration": 3,
    "start_time": "2024-09-10T17:40:45.926Z"
   },
   {
    "duration": 4,
    "start_time": "2024-09-10T17:40:45.931Z"
   },
   {
    "duration": 3,
    "start_time": "2024-09-10T17:40:45.936Z"
   },
   {
    "duration": 6,
    "start_time": "2024-09-10T17:40:45.941Z"
   },
   {
    "duration": 5,
    "start_time": "2024-09-10T17:40:45.949Z"
   },
   {
    "duration": 54,
    "start_time": "2024-09-10T17:40:45.956Z"
   },
   {
    "duration": 169,
    "start_time": "2024-09-10T17:40:46.013Z"
   },
   {
    "duration": 0,
    "start_time": "2024-09-10T17:41:27.020Z"
   },
   {
    "duration": 942,
    "start_time": "2024-09-10T17:41:39.617Z"
   },
   {
    "duration": 232,
    "start_time": "2024-09-10T17:41:40.562Z"
   },
   {
    "duration": 14,
    "start_time": "2024-09-10T17:41:40.795Z"
   },
   {
    "duration": 11,
    "start_time": "2024-09-10T17:41:40.811Z"
   },
   {
    "duration": 12,
    "start_time": "2024-09-10T17:41:40.825Z"
   },
   {
    "duration": 34,
    "start_time": "2024-09-10T17:41:40.838Z"
   },
   {
    "duration": 60,
    "start_time": "2024-09-10T17:41:40.874Z"
   },
   {
    "duration": 35,
    "start_time": "2024-09-10T17:41:40.936Z"
   },
   {
    "duration": 90,
    "start_time": "2024-09-10T17:41:40.973Z"
   },
   {
    "duration": 81,
    "start_time": "2024-09-10T17:41:41.065Z"
   },
   {
    "duration": 75,
    "start_time": "2024-09-10T17:41:41.147Z"
   },
   {
    "duration": 24,
    "start_time": "2024-09-10T17:41:41.224Z"
   },
   {
    "duration": 24,
    "start_time": "2024-09-10T17:41:41.250Z"
   },
   {
    "duration": 51,
    "start_time": "2024-09-10T17:41:41.278Z"
   },
   {
    "duration": 7,
    "start_time": "2024-09-10T17:41:41.331Z"
   },
   {
    "duration": 7,
    "start_time": "2024-09-10T17:41:41.339Z"
   },
   {
    "duration": 6,
    "start_time": "2024-09-10T17:41:41.348Z"
   },
   {
    "duration": 721,
    "start_time": "2024-09-10T17:41:41.355Z"
   },
   {
    "duration": 39,
    "start_time": "2024-09-10T17:41:42.079Z"
   },
   {
    "duration": 44,
    "start_time": "2024-09-10T17:41:42.119Z"
   },
   {
    "duration": 58,
    "start_time": "2024-09-10T17:41:42.165Z"
   },
   {
    "duration": 47,
    "start_time": "2024-09-10T17:41:42.225Z"
   },
   {
    "duration": 11,
    "start_time": "2024-09-10T17:41:42.274Z"
   },
   {
    "duration": 4,
    "start_time": "2024-09-10T17:41:42.309Z"
   },
   {
    "duration": 6,
    "start_time": "2024-09-10T17:41:42.319Z"
   },
   {
    "duration": 85,
    "start_time": "2024-09-10T17:41:42.326Z"
   },
   {
    "duration": 4,
    "start_time": "2024-09-10T17:41:42.417Z"
   },
   {
    "duration": 5,
    "start_time": "2024-09-10T17:41:42.424Z"
   },
   {
    "duration": 84,
    "start_time": "2024-09-10T17:41:42.432Z"
   },
   {
    "duration": 3,
    "start_time": "2024-09-10T17:41:42.517Z"
   },
   {
    "duration": 3,
    "start_time": "2024-09-10T17:41:42.522Z"
   },
   {
    "duration": 4,
    "start_time": "2024-09-10T17:41:42.526Z"
   },
   {
    "duration": 2,
    "start_time": "2024-09-10T17:41:42.532Z"
   },
   {
    "duration": 75,
    "start_time": "2024-09-10T17:41:42.536Z"
   },
   {
    "duration": 3,
    "start_time": "2024-09-10T17:41:42.613Z"
   },
   {
    "duration": 3,
    "start_time": "2024-09-10T17:41:42.619Z"
   },
   {
    "duration": 5,
    "start_time": "2024-09-10T17:41:42.624Z"
   },
   {
    "duration": 3,
    "start_time": "2024-09-10T17:41:42.631Z"
   },
   {
    "duration": 6,
    "start_time": "2024-09-10T17:41:42.637Z"
   },
   {
    "duration": 6,
    "start_time": "2024-09-10T17:41:42.645Z"
   },
   {
    "duration": 59,
    "start_time": "2024-09-10T17:41:42.654Z"
   },
   {
    "duration": 177,
    "start_time": "2024-09-10T17:41:42.715Z"
   },
   {
    "duration": 878,
    "start_time": "2024-09-10T17:48:32.497Z"
   },
   {
    "duration": 228,
    "start_time": "2024-09-10T17:48:33.378Z"
   },
   {
    "duration": 11,
    "start_time": "2024-09-10T17:48:33.608Z"
   },
   {
    "duration": 11,
    "start_time": "2024-09-10T17:48:33.621Z"
   },
   {
    "duration": 10,
    "start_time": "2024-09-10T17:48:33.635Z"
   },
   {
    "duration": 37,
    "start_time": "2024-09-10T17:48:33.647Z"
   },
   {
    "duration": 31,
    "start_time": "2024-09-10T17:48:33.709Z"
   },
   {
    "duration": 32,
    "start_time": "2024-09-10T17:48:33.742Z"
   },
   {
    "duration": 81,
    "start_time": "2024-09-10T17:48:33.776Z"
   },
   {
    "duration": 73,
    "start_time": "2024-09-10T17:48:33.860Z"
   },
   {
    "duration": 81,
    "start_time": "2024-09-10T17:48:33.935Z"
   },
   {
    "duration": 26,
    "start_time": "2024-09-10T17:48:34.018Z"
   },
   {
    "duration": 25,
    "start_time": "2024-09-10T17:48:34.046Z"
   },
   {
    "duration": 49,
    "start_time": "2024-09-10T17:48:34.072Z"
   },
   {
    "duration": 10,
    "start_time": "2024-09-10T17:48:34.123Z"
   },
   {
    "duration": 8,
    "start_time": "2024-09-10T17:48:34.135Z"
   },
   {
    "duration": 10,
    "start_time": "2024-09-10T17:48:34.144Z"
   },
   {
    "duration": 900,
    "start_time": "2024-09-10T17:49:43.755Z"
   },
   {
    "duration": 236,
    "start_time": "2024-09-10T17:49:44.657Z"
   },
   {
    "duration": 16,
    "start_time": "2024-09-10T17:49:44.895Z"
   },
   {
    "duration": 11,
    "start_time": "2024-09-10T17:49:44.913Z"
   },
   {
    "duration": 12,
    "start_time": "2024-09-10T17:49:44.926Z"
   },
   {
    "duration": 36,
    "start_time": "2024-09-10T17:49:44.940Z"
   },
   {
    "duration": 57,
    "start_time": "2024-09-10T17:49:44.978Z"
   },
   {
    "duration": 34,
    "start_time": "2024-09-10T17:49:45.037Z"
   },
   {
    "duration": 79,
    "start_time": "2024-09-10T17:49:45.073Z"
   },
   {
    "duration": 83,
    "start_time": "2024-09-10T17:49:45.155Z"
   },
   {
    "duration": 85,
    "start_time": "2024-09-10T17:49:45.240Z"
   },
   {
    "duration": 30,
    "start_time": "2024-09-10T17:49:45.327Z"
   },
   {
    "duration": 34,
    "start_time": "2024-09-10T17:49:45.359Z"
   },
   {
    "duration": 25,
    "start_time": "2024-09-10T17:49:45.410Z"
   },
   {
    "duration": 8,
    "start_time": "2024-09-10T17:49:45.437Z"
   },
   {
    "duration": 8,
    "start_time": "2024-09-10T17:49:45.446Z"
   },
   {
    "duration": 7,
    "start_time": "2024-09-10T17:49:45.455Z"
   },
   {
    "duration": 727,
    "start_time": "2024-09-10T17:49:45.464Z"
   },
   {
    "duration": 31,
    "start_time": "2024-09-10T17:49:46.193Z"
   },
   {
    "duration": 44,
    "start_time": "2024-09-10T17:49:46.226Z"
   },
   {
    "duration": 57,
    "start_time": "2024-09-10T17:49:46.272Z"
   },
   {
    "duration": 46,
    "start_time": "2024-09-10T17:49:46.331Z"
   },
   {
    "duration": 36,
    "start_time": "2024-09-10T17:49:46.378Z"
   },
   {
    "duration": 4,
    "start_time": "2024-09-10T17:49:46.417Z"
   },
   {
    "duration": 5,
    "start_time": "2024-09-10T17:49:46.423Z"
   },
   {
    "duration": 81,
    "start_time": "2024-09-10T17:49:46.429Z"
   },
   {
    "duration": 3,
    "start_time": "2024-09-10T17:49:46.512Z"
   },
   {
    "duration": 4,
    "start_time": "2024-09-10T17:49:46.520Z"
   },
   {
    "duration": 85,
    "start_time": "2024-09-10T17:49:46.526Z"
   },
   {
    "duration": 3,
    "start_time": "2024-09-10T17:49:46.613Z"
   },
   {
    "duration": 3,
    "start_time": "2024-09-10T17:49:46.618Z"
   },
   {
    "duration": 4,
    "start_time": "2024-09-10T17:49:46.623Z"
   },
   {
    "duration": 2,
    "start_time": "2024-09-10T17:49:46.629Z"
   },
   {
    "duration": 2,
    "start_time": "2024-09-10T17:49:46.710Z"
   },
   {
    "duration": 2,
    "start_time": "2024-09-10T17:49:46.714Z"
   },
   {
    "duration": 4,
    "start_time": "2024-09-10T17:49:46.718Z"
   },
   {
    "duration": 4,
    "start_time": "2024-09-10T17:49:46.724Z"
   },
   {
    "duration": 3,
    "start_time": "2024-09-10T17:49:46.730Z"
   },
   {
    "duration": 7,
    "start_time": "2024-09-10T17:49:46.734Z"
   },
   {
    "duration": 5,
    "start_time": "2024-09-10T17:49:46.742Z"
   },
   {
    "duration": 5,
    "start_time": "2024-09-10T17:49:46.749Z"
   },
   {
    "duration": 215,
    "start_time": "2024-09-10T17:49:46.755Z"
   },
   {
    "duration": 686,
    "start_time": "2024-09-10T17:50:07.332Z"
   },
   {
    "duration": 723,
    "start_time": "2024-09-10T17:50:27.912Z"
   },
   {
    "duration": 626,
    "start_time": "2024-09-10T17:50:47.690Z"
   },
   {
    "duration": 700,
    "start_time": "2024-09-10T17:53:06.709Z"
   },
   {
    "duration": 748,
    "start_time": "2024-09-10T17:53:14.808Z"
   },
   {
    "duration": 1355,
    "start_time": "2024-09-10T17:57:13.126Z"
   },
   {
    "duration": 740,
    "start_time": "2024-09-10T17:57:42.487Z"
   },
   {
    "duration": 160,
    "start_time": "2024-09-10T18:00:08.358Z"
   },
   {
    "duration": 2210,
    "start_time": "2024-09-10T18:01:27.144Z"
   },
   {
    "duration": 176,
    "start_time": "2024-09-11T12:10:32.377Z"
   },
   {
    "duration": 2551,
    "start_time": "2024-09-11T12:10:38.516Z"
   },
   {
    "duration": 361,
    "start_time": "2024-09-11T12:10:41.069Z"
   },
   {
    "duration": 12,
    "start_time": "2024-09-11T12:10:41.432Z"
   },
   {
    "duration": 10,
    "start_time": "2024-09-11T12:10:41.446Z"
   },
   {
    "duration": 10,
    "start_time": "2024-09-11T12:10:41.457Z"
   },
   {
    "duration": 31,
    "start_time": "2024-09-11T12:10:41.468Z"
   },
   {
    "duration": 48,
    "start_time": "2024-09-11T12:10:41.501Z"
   },
   {
    "duration": 29,
    "start_time": "2024-09-11T12:10:41.551Z"
   },
   {
    "duration": 70,
    "start_time": "2024-09-11T12:10:41.582Z"
   },
   {
    "duration": 53,
    "start_time": "2024-09-11T12:10:41.656Z"
   },
   {
    "duration": 60,
    "start_time": "2024-09-11T12:10:41.711Z"
   },
   {
    "duration": 23,
    "start_time": "2024-09-11T12:10:41.773Z"
   },
   {
    "duration": 43,
    "start_time": "2024-09-11T12:10:41.797Z"
   },
   {
    "duration": 23,
    "start_time": "2024-09-11T12:10:41.842Z"
   },
   {
    "duration": 6,
    "start_time": "2024-09-11T12:10:41.867Z"
   },
   {
    "duration": 7,
    "start_time": "2024-09-11T12:10:41.875Z"
   },
   {
    "duration": 6,
    "start_time": "2024-09-11T12:10:41.884Z"
   },
   {
    "duration": 305,
    "start_time": "2024-09-11T12:10:41.891Z"
   },
   {
    "duration": 0,
    "start_time": "2024-09-11T12:10:42.199Z"
   },
   {
    "duration": 0,
    "start_time": "2024-09-11T12:10:42.201Z"
   },
   {
    "duration": 0,
    "start_time": "2024-09-11T12:10:42.202Z"
   },
   {
    "duration": 0,
    "start_time": "2024-09-11T12:10:42.204Z"
   },
   {
    "duration": 0,
    "start_time": "2024-09-11T12:10:42.205Z"
   },
   {
    "duration": 0,
    "start_time": "2024-09-11T12:10:42.206Z"
   },
   {
    "duration": 0,
    "start_time": "2024-09-11T12:10:42.224Z"
   },
   {
    "duration": 0,
    "start_time": "2024-09-11T12:10:42.225Z"
   },
   {
    "duration": 0,
    "start_time": "2024-09-11T12:10:42.226Z"
   },
   {
    "duration": 0,
    "start_time": "2024-09-11T12:10:42.227Z"
   },
   {
    "duration": 0,
    "start_time": "2024-09-11T12:10:42.227Z"
   },
   {
    "duration": 0,
    "start_time": "2024-09-11T12:10:42.228Z"
   },
   {
    "duration": 0,
    "start_time": "2024-09-11T12:10:42.229Z"
   },
   {
    "duration": 0,
    "start_time": "2024-09-11T12:10:42.230Z"
   },
   {
    "duration": 0,
    "start_time": "2024-09-11T12:10:42.231Z"
   },
   {
    "duration": 0,
    "start_time": "2024-09-11T12:10:42.232Z"
   },
   {
    "duration": 0,
    "start_time": "2024-09-11T12:10:42.233Z"
   },
   {
    "duration": 0,
    "start_time": "2024-09-11T12:10:42.234Z"
   },
   {
    "duration": 0,
    "start_time": "2024-09-11T12:10:42.235Z"
   },
   {
    "duration": 0,
    "start_time": "2024-09-11T12:10:42.236Z"
   },
   {
    "duration": 0,
    "start_time": "2024-09-11T12:10:42.238Z"
   },
   {
    "duration": 0,
    "start_time": "2024-09-11T12:10:42.239Z"
   },
   {
    "duration": 0,
    "start_time": "2024-09-11T12:10:42.241Z"
   },
   {
    "duration": 0,
    "start_time": "2024-09-11T12:10:42.242Z"
   },
   {
    "duration": 1930,
    "start_time": "2024-09-11T12:11:26.725Z"
   },
   {
    "duration": 24,
    "start_time": "2024-09-11T12:11:36.299Z"
   },
   {
    "duration": 40,
    "start_time": "2024-09-11T12:11:36.597Z"
   },
   {
    "duration": 38,
    "start_time": "2024-09-11T12:11:36.916Z"
   },
   {
    "duration": 39,
    "start_time": "2024-09-11T12:11:37.251Z"
   },
   {
    "duration": 27,
    "start_time": "2024-09-11T12:11:37.908Z"
   },
   {
    "duration": 3,
    "start_time": "2024-09-11T12:11:38.622Z"
   },
   {
    "duration": 3,
    "start_time": "2024-09-11T12:11:39.076Z"
   },
   {
    "duration": 15,
    "start_time": "2024-09-11T12:11:40.174Z"
   },
   {
    "duration": 2,
    "start_time": "2024-09-11T12:11:41.136Z"
   },
   {
    "duration": 3,
    "start_time": "2024-09-11T12:11:42.302Z"
   },
   {
    "duration": 8,
    "start_time": "2024-09-11T12:11:44.629Z"
   },
   {
    "duration": 3,
    "start_time": "2024-09-11T12:11:45.037Z"
   },
   {
    "duration": 3,
    "start_time": "2024-09-11T12:11:45.428Z"
   },
   {
    "duration": 4,
    "start_time": "2024-09-11T12:11:46.179Z"
   },
   {
    "duration": 3,
    "start_time": "2024-09-11T12:12:02.843Z"
   },
   {
    "duration": 2,
    "start_time": "2024-09-11T12:12:03.220Z"
   },
   {
    "duration": 2,
    "start_time": "2024-09-11T12:12:03.900Z"
   },
   {
    "duration": 3,
    "start_time": "2024-09-11T12:12:05.254Z"
   },
   {
    "duration": 4,
    "start_time": "2024-09-11T12:12:07.908Z"
   },
   {
    "duration": 2,
    "start_time": "2024-09-11T12:12:22.820Z"
   },
   {
    "duration": 6,
    "start_time": "2024-09-11T12:12:23.235Z"
   },
   {
    "duration": 5,
    "start_time": "2024-09-11T12:12:23.623Z"
   },
   {
    "duration": 6,
    "start_time": "2024-09-11T12:12:24.019Z"
   },
   {
    "duration": 33,
    "start_time": "2024-09-11T12:12:31.724Z"
   },
   {
    "duration": 158,
    "start_time": "2024-09-11T12:12:38.659Z"
   },
   {
    "duration": 2838,
    "start_time": "2024-09-11T16:13:33.432Z"
   },
   {
    "duration": 438,
    "start_time": "2024-09-11T16:13:36.272Z"
   },
   {
    "duration": 14,
    "start_time": "2024-09-11T16:13:36.712Z"
   },
   {
    "duration": 13,
    "start_time": "2024-09-11T16:13:36.729Z"
   },
   {
    "duration": 14,
    "start_time": "2024-09-11T16:13:36.744Z"
   },
   {
    "duration": 54,
    "start_time": "2024-09-11T16:13:36.760Z"
   },
   {
    "duration": 30,
    "start_time": "2024-09-11T16:13:36.816Z"
   },
   {
    "duration": 34,
    "start_time": "2024-09-11T16:13:36.848Z"
   },
   {
    "duration": 90,
    "start_time": "2024-09-11T16:13:36.884Z"
   },
   {
    "duration": 70,
    "start_time": "2024-09-11T16:13:36.978Z"
   },
   {
    "duration": 104,
    "start_time": "2024-09-11T16:13:37.050Z"
   },
   {
    "duration": 34,
    "start_time": "2024-09-11T16:13:37.156Z"
   },
   {
    "duration": 36,
    "start_time": "2024-09-11T16:13:37.193Z"
   },
   {
    "duration": 24,
    "start_time": "2024-09-11T16:13:37.232Z"
   },
   {
    "duration": 7,
    "start_time": "2024-09-11T16:13:37.258Z"
   },
   {
    "duration": 9,
    "start_time": "2024-09-11T16:13:37.266Z"
   },
   {
    "duration": 33,
    "start_time": "2024-09-11T16:13:37.278Z"
   },
   {
    "duration": 2091,
    "start_time": "2024-09-11T16:13:37.314Z"
   },
   {
    "duration": 36,
    "start_time": "2024-09-11T16:13:39.407Z"
   },
   {
    "duration": 41,
    "start_time": "2024-09-11T16:13:39.445Z"
   },
   {
    "duration": 58,
    "start_time": "2024-09-11T16:13:39.488Z"
   },
   {
    "duration": 43,
    "start_time": "2024-09-11T16:13:39.547Z"
   },
   {
    "duration": 27,
    "start_time": "2024-09-11T16:13:39.592Z"
   },
   {
    "duration": 4,
    "start_time": "2024-09-11T16:13:39.620Z"
   },
   {
    "duration": 2,
    "start_time": "2024-09-11T16:13:39.626Z"
   },
   {
    "duration": 88,
    "start_time": "2024-09-11T16:13:39.630Z"
   },
   {
    "duration": 3,
    "start_time": "2024-09-11T16:13:39.720Z"
   },
   {
    "duration": 3,
    "start_time": "2024-09-11T16:13:39.727Z"
   },
   {
    "duration": 80,
    "start_time": "2024-09-11T16:13:39.732Z"
   },
   {
    "duration": 3,
    "start_time": "2024-09-11T16:13:39.814Z"
   },
   {
    "duration": 4,
    "start_time": "2024-09-11T16:13:39.819Z"
   },
   {
    "duration": 8,
    "start_time": "2024-09-11T16:13:39.825Z"
   },
   {
    "duration": 9,
    "start_time": "2024-09-11T16:15:18.617Z"
   },
   {
    "duration": 511,
    "start_time": "2024-09-11T16:24:07.460Z"
   },
   {
    "duration": 3,
    "start_time": "2024-09-11T16:24:16.737Z"
   },
   {
    "duration": 219,
    "start_time": "2024-09-11T16:24:16.742Z"
   },
   {
    "duration": 11,
    "start_time": "2024-09-11T16:24:16.963Z"
   },
   {
    "duration": 11,
    "start_time": "2024-09-11T16:24:16.976Z"
   },
   {
    "duration": 23,
    "start_time": "2024-09-11T16:24:16.990Z"
   },
   {
    "duration": 30,
    "start_time": "2024-09-11T16:24:17.014Z"
   },
   {
    "duration": 27,
    "start_time": "2024-09-11T16:24:17.046Z"
   },
   {
    "duration": 50,
    "start_time": "2024-09-11T16:24:17.075Z"
   },
   {
    "duration": 61,
    "start_time": "2024-09-11T16:24:17.127Z"
   },
   {
    "duration": 85,
    "start_time": "2024-09-11T16:24:17.189Z"
   },
   {
    "duration": 62,
    "start_time": "2024-09-11T16:24:17.276Z"
   },
   {
    "duration": 20,
    "start_time": "2024-09-11T16:24:17.340Z"
   },
   {
    "duration": 22,
    "start_time": "2024-09-11T16:24:17.362Z"
   },
   {
    "duration": 41,
    "start_time": "2024-09-11T16:24:17.388Z"
   },
   {
    "duration": 8,
    "start_time": "2024-09-11T16:24:17.431Z"
   },
   {
    "duration": 8,
    "start_time": "2024-09-11T16:24:17.440Z"
   },
   {
    "duration": 7,
    "start_time": "2024-09-11T16:24:17.449Z"
   },
   {
    "duration": 7,
    "start_time": "2024-09-11T16:24:17.457Z"
   },
   {
    "duration": 2014,
    "start_time": "2024-09-11T16:24:17.465Z"
   },
   {
    "duration": 33,
    "start_time": "2024-09-11T16:24:19.481Z"
   },
   {
    "duration": 40,
    "start_time": "2024-09-11T16:24:19.515Z"
   },
   {
    "duration": 55,
    "start_time": "2024-09-11T16:24:19.557Z"
   },
   {
    "duration": 41,
    "start_time": "2024-09-11T16:24:19.614Z"
   },
   {
    "duration": 11,
    "start_time": "2024-09-11T16:24:19.657Z"
   },
   {
    "duration": 3,
    "start_time": "2024-09-11T16:24:19.670Z"
   },
   {
    "duration": 3,
    "start_time": "2024-09-11T16:24:19.713Z"
   },
   {
    "duration": 9,
    "start_time": "2024-09-11T16:24:19.718Z"
   },
   {
    "duration": 3,
    "start_time": "2024-09-11T16:24:19.729Z"
   },
   {
    "duration": 4,
    "start_time": "2024-09-11T16:24:19.733Z"
   },
   {
    "duration": 13,
    "start_time": "2024-09-11T16:24:19.813Z"
   },
   {
    "duration": 5,
    "start_time": "2024-09-11T16:24:19.829Z"
   },
   {
    "duration": 5,
    "start_time": "2024-09-11T16:24:19.914Z"
   },
   {
    "duration": 5,
    "start_time": "2024-09-11T16:24:19.923Z"
   },
   {
    "duration": 3,
    "start_time": "2024-09-11T16:24:19.930Z"
   },
   {
    "duration": 3,
    "start_time": "2024-09-11T16:24:19.934Z"
   },
   {
    "duration": 3,
    "start_time": "2024-09-11T16:24:19.939Z"
   },
   {
    "duration": 5,
    "start_time": "2024-09-11T16:24:19.943Z"
   },
   {
    "duration": 66,
    "start_time": "2024-09-11T16:24:19.950Z"
   },
   {
    "duration": 4,
    "start_time": "2024-09-11T16:24:20.017Z"
   },
   {
    "duration": 6,
    "start_time": "2024-09-11T16:24:20.022Z"
   },
   {
    "duration": 5,
    "start_time": "2024-09-11T16:24:20.032Z"
   },
   {
    "duration": 5,
    "start_time": "2024-09-11T16:24:20.039Z"
   },
   {
    "duration": 47,
    "start_time": "2024-09-11T16:25:51.649Z"
   },
   {
    "duration": 167,
    "start_time": "2024-09-11T16:25:56.905Z"
   },
   {
    "duration": 3,
    "start_time": "2024-09-11T16:26:52.287Z"
   },
   {
    "duration": 9,
    "start_time": "2024-09-11T16:27:22.176Z"
   },
   {
    "duration": 5,
    "start_time": "2024-09-11T16:27:28.164Z"
   },
   {
    "duration": 3,
    "start_time": "2024-09-11T16:28:42.092Z"
   },
   {
    "duration": 4,
    "start_time": "2024-09-11T16:28:48.393Z"
   },
   {
    "duration": 160,
    "start_time": "2024-09-11T17:52:21.908Z"
   },
   {
    "duration": 2580,
    "start_time": "2024-09-12T10:57:13.229Z"
   },
   {
    "duration": 399,
    "start_time": "2024-09-12T10:57:15.811Z"
   },
   {
    "duration": 12,
    "start_time": "2024-09-12T10:57:16.212Z"
   },
   {
    "duration": 10,
    "start_time": "2024-09-12T10:57:16.226Z"
   },
   {
    "duration": 9,
    "start_time": "2024-09-12T10:57:16.238Z"
   },
   {
    "duration": 51,
    "start_time": "2024-09-12T10:57:16.249Z"
   },
   {
    "duration": 42,
    "start_time": "2024-09-12T10:57:16.303Z"
   },
   {
    "duration": 49,
    "start_time": "2024-09-12T10:57:16.347Z"
   },
   {
    "duration": 73,
    "start_time": "2024-09-12T10:57:16.398Z"
   },
   {
    "duration": 61,
    "start_time": "2024-09-12T10:57:16.475Z"
   },
   {
    "duration": 77,
    "start_time": "2024-09-12T10:57:16.538Z"
   },
   {
    "duration": 24,
    "start_time": "2024-09-12T10:57:16.617Z"
   },
   {
    "duration": 43,
    "start_time": "2024-09-12T10:57:16.643Z"
   },
   {
    "duration": 25,
    "start_time": "2024-09-12T10:57:16.687Z"
   },
   {
    "duration": 8,
    "start_time": "2024-09-12T10:57:16.714Z"
   },
   {
    "duration": 8,
    "start_time": "2024-09-12T10:57:16.724Z"
   },
   {
    "duration": 38,
    "start_time": "2024-09-12T10:57:16.734Z"
   },
   {
    "duration": 10,
    "start_time": "2024-09-12T10:57:16.774Z"
   },
   {
    "duration": 1958,
    "start_time": "2024-09-12T10:57:16.786Z"
   },
   {
    "duration": 31,
    "start_time": "2024-09-12T10:57:18.746Z"
   },
   {
    "duration": 42,
    "start_time": "2024-09-12T10:57:18.779Z"
   },
   {
    "duration": 54,
    "start_time": "2024-09-12T10:57:18.823Z"
   },
   {
    "duration": 44,
    "start_time": "2024-09-12T10:57:18.879Z"
   },
   {
    "duration": 47,
    "start_time": "2024-09-12T10:57:18.925Z"
   },
   {
    "duration": 3,
    "start_time": "2024-09-12T10:57:18.974Z"
   },
   {
    "duration": 4,
    "start_time": "2024-09-12T10:57:18.979Z"
   },
   {
    "duration": 87,
    "start_time": "2024-09-12T10:57:18.985Z"
   },
   {
    "duration": 3,
    "start_time": "2024-09-12T10:57:19.077Z"
   },
   {
    "duration": 3,
    "start_time": "2024-09-12T10:57:19.083Z"
   },
   {
    "duration": 84,
    "start_time": "2024-09-12T10:57:19.088Z"
   },
   {
    "duration": 4,
    "start_time": "2024-09-12T10:57:19.178Z"
   },
   {
    "duration": 5,
    "start_time": "2024-09-12T10:57:19.186Z"
   },
   {
    "duration": 5,
    "start_time": "2024-09-12T10:57:19.272Z"
   },
   {
    "duration": 3,
    "start_time": "2024-09-12T10:57:19.278Z"
   },
   {
    "duration": 2,
    "start_time": "2024-09-12T10:57:19.283Z"
   },
   {
    "duration": 2,
    "start_time": "2024-09-12T10:57:19.287Z"
   },
   {
    "duration": 3,
    "start_time": "2024-09-12T10:57:19.291Z"
   },
   {
    "duration": 4,
    "start_time": "2024-09-12T10:57:19.295Z"
   },
   {
    "duration": 2,
    "start_time": "2024-09-12T10:57:19.301Z"
   },
   {
    "duration": 6,
    "start_time": "2024-09-12T10:57:19.305Z"
   },
   {
    "duration": 59,
    "start_time": "2024-09-12T10:57:19.312Z"
   },
   {
    "duration": 6,
    "start_time": "2024-09-12T10:57:19.372Z"
   },
   {
    "duration": 172,
    "start_time": "2024-09-12T10:57:19.380Z"
   },
   {
    "duration": 19,
    "start_time": "2024-09-12T10:59:56.796Z"
   },
   {
    "duration": 21,
    "start_time": "2024-09-12T11:00:00.468Z"
   },
   {
    "duration": 19,
    "start_time": "2024-09-12T11:00:06.195Z"
   },
   {
    "duration": 17,
    "start_time": "2024-09-12T11:00:10.973Z"
   },
   {
    "duration": 56,
    "start_time": "2024-09-12T11:00:26.236Z"
   },
   {
    "duration": 59,
    "start_time": "2024-09-12T11:01:00.373Z"
   },
   {
    "duration": 15,
    "start_time": "2024-09-12T11:01:02.035Z"
   },
   {
    "duration": 59,
    "start_time": "2024-09-12T11:01:03.077Z"
   },
   {
    "duration": 61,
    "start_time": "2024-09-12T11:36:18.976Z"
   },
   {
    "duration": 61,
    "start_time": "2024-09-12T11:36:32.490Z"
   },
   {
    "duration": 959,
    "start_time": "2024-09-12T11:36:56.597Z"
   },
   {
    "duration": 237,
    "start_time": "2024-09-12T11:36:57.559Z"
   },
   {
    "duration": 12,
    "start_time": "2024-09-12T11:36:57.797Z"
   },
   {
    "duration": 13,
    "start_time": "2024-09-12T11:36:57.811Z"
   },
   {
    "duration": 13,
    "start_time": "2024-09-12T11:36:57.827Z"
   },
   {
    "duration": 153,
    "start_time": "2024-09-12T11:36:57.842Z"
   },
   {
    "duration": 111,
    "start_time": "2024-09-12T11:36:57.997Z"
   },
   {
    "duration": 109,
    "start_time": "2024-09-12T11:36:58.110Z"
   },
   {
    "duration": 22,
    "start_time": "2024-09-12T11:36:58.221Z"
   },
   {
    "duration": 132,
    "start_time": "2024-09-12T11:36:58.245Z"
   },
   {
    "duration": 19,
    "start_time": "2024-09-12T11:36:58.379Z"
   },
   {
    "duration": 97,
    "start_time": "2024-09-12T11:36:58.400Z"
   },
   {
    "duration": 21,
    "start_time": "2024-09-12T11:36:58.500Z"
   },
   {
    "duration": 110,
    "start_time": "2024-09-12T11:36:58.526Z"
   },
   {
    "duration": 13,
    "start_time": "2024-09-12T11:36:58.638Z"
   },
   {
    "duration": 22,
    "start_time": "2024-09-12T11:36:58.653Z"
   },
   {
    "duration": 9,
    "start_time": "2024-09-12T11:36:58.676Z"
   },
   {
    "duration": 9,
    "start_time": "2024-09-12T11:36:58.687Z"
   },
   {
    "duration": 2225,
    "start_time": "2024-09-12T11:36:58.697Z"
   },
   {
    "duration": 27,
    "start_time": "2024-09-12T11:37:00.924Z"
   },
   {
    "duration": 54,
    "start_time": "2024-09-12T11:37:00.953Z"
   },
   {
    "duration": 42,
    "start_time": "2024-09-12T11:37:01.008Z"
   },
   {
    "duration": 58,
    "start_time": "2024-09-12T11:37:01.052Z"
   },
   {
    "duration": 17,
    "start_time": "2024-09-12T11:37:01.113Z"
   },
   {
    "duration": 41,
    "start_time": "2024-09-12T11:37:01.131Z"
   },
   {
    "duration": 3,
    "start_time": "2024-09-12T11:37:01.174Z"
   },
   {
    "duration": 17,
    "start_time": "2024-09-12T11:37:01.179Z"
   },
   {
    "duration": 75,
    "start_time": "2024-09-12T11:37:01.197Z"
   },
   {
    "duration": 5,
    "start_time": "2024-09-12T11:37:01.274Z"
   },
   {
    "duration": 17,
    "start_time": "2024-09-12T11:37:01.281Z"
   },
   {
    "duration": 85,
    "start_time": "2024-09-12T11:37:01.300Z"
   },
   {
    "duration": 4,
    "start_time": "2024-09-12T11:37:01.387Z"
   },
   {
    "duration": 5,
    "start_time": "2024-09-12T11:37:01.393Z"
   },
   {
    "duration": 2,
    "start_time": "2024-09-12T11:37:01.401Z"
   },
   {
    "duration": 3,
    "start_time": "2024-09-12T11:37:01.407Z"
   },
   {
    "duration": 3,
    "start_time": "2024-09-12T11:37:01.413Z"
   },
   {
    "duration": 55,
    "start_time": "2024-09-12T11:37:01.418Z"
   },
   {
    "duration": 5,
    "start_time": "2024-09-12T11:37:01.475Z"
   },
   {
    "duration": 3,
    "start_time": "2024-09-12T11:37:01.482Z"
   },
   {
    "duration": 6,
    "start_time": "2024-09-12T11:37:01.487Z"
   },
   {
    "duration": 6,
    "start_time": "2024-09-12T11:37:01.498Z"
   },
   {
    "duration": 6,
    "start_time": "2024-09-12T11:37:01.507Z"
   },
   {
    "duration": 220,
    "start_time": "2024-09-12T11:37:01.515Z"
   },
   {
    "duration": 864,
    "start_time": "2024-09-12T11:57:58.322Z"
   },
   {
    "duration": 221,
    "start_time": "2024-09-12T11:57:59.188Z"
   },
   {
    "duration": 12,
    "start_time": "2024-09-12T11:57:59.411Z"
   },
   {
    "duration": 10,
    "start_time": "2024-09-12T11:57:59.424Z"
   },
   {
    "duration": 10,
    "start_time": "2024-09-12T11:57:59.437Z"
   },
   {
    "duration": 61,
    "start_time": "2024-09-12T11:57:59.470Z"
   },
   {
    "duration": 72,
    "start_time": "2024-09-12T11:57:59.533Z"
   },
   {
    "duration": 68,
    "start_time": "2024-09-12T11:57:59.607Z"
   },
   {
    "duration": 16,
    "start_time": "2024-09-12T11:57:59.676Z"
   },
   {
    "duration": 58,
    "start_time": "2024-09-12T11:57:59.694Z"
   },
   {
    "duration": 16,
    "start_time": "2024-09-12T11:57:59.770Z"
   },
   {
    "duration": 60,
    "start_time": "2024-09-12T11:57:59.787Z"
   },
   {
    "duration": 27,
    "start_time": "2024-09-12T11:57:59.849Z"
   },
   {
    "duration": 59,
    "start_time": "2024-09-12T11:57:59.880Z"
   },
   {
    "duration": 9,
    "start_time": "2024-09-12T11:57:59.941Z"
   },
   {
    "duration": 10,
    "start_time": "2024-09-12T11:57:59.970Z"
   },
   {
    "duration": 7,
    "start_time": "2024-09-12T11:57:59.981Z"
   },
   {
    "duration": 9,
    "start_time": "2024-09-12T11:57:59.990Z"
   },
   {
    "duration": 2024,
    "start_time": "2024-09-12T11:58:00.001Z"
   },
   {
    "duration": 21,
    "start_time": "2024-09-12T11:58:02.027Z"
   },
   {
    "duration": 46,
    "start_time": "2024-09-12T11:58:02.052Z"
   },
   {
    "duration": 40,
    "start_time": "2024-09-12T11:58:02.099Z"
   },
   {
    "duration": 55,
    "start_time": "2024-09-12T11:58:02.141Z"
   },
   {
    "duration": 9,
    "start_time": "2024-09-12T11:58:02.198Z"
   },
   {
    "duration": 3,
    "start_time": "2024-09-12T11:58:02.208Z"
   },
   {
    "duration": 3,
    "start_time": "2024-09-12T11:58:02.213Z"
   },
   {
    "duration": 61,
    "start_time": "2024-09-12T11:58:02.217Z"
   },
   {
    "duration": 3,
    "start_time": "2024-09-12T11:58:02.279Z"
   },
   {
    "duration": 3,
    "start_time": "2024-09-12T11:58:02.284Z"
   },
   {
    "duration": 84,
    "start_time": "2024-09-12T11:58:02.289Z"
   },
   {
    "duration": 3,
    "start_time": "2024-09-12T11:58:02.377Z"
   },
   {
    "duration": 2,
    "start_time": "2024-09-12T11:58:02.382Z"
   },
   {
    "duration": 5,
    "start_time": "2024-09-12T11:58:02.386Z"
   },
   {
    "duration": 77,
    "start_time": "2024-09-12T11:58:02.393Z"
   },
   {
    "duration": 3,
    "start_time": "2024-09-12T11:58:02.471Z"
   },
   {
    "duration": 2,
    "start_time": "2024-09-12T11:58:02.476Z"
   },
   {
    "duration": 3,
    "start_time": "2024-09-12T11:58:02.480Z"
   },
   {
    "duration": 4,
    "start_time": "2024-09-12T11:58:02.485Z"
   },
   {
    "duration": 3,
    "start_time": "2024-09-12T11:58:02.491Z"
   },
   {
    "duration": 5,
    "start_time": "2024-09-12T11:58:02.496Z"
   },
   {
    "duration": 6,
    "start_time": "2024-09-12T11:58:02.505Z"
   },
   {
    "duration": 58,
    "start_time": "2024-09-12T11:58:02.512Z"
   },
   {
    "duration": 162,
    "start_time": "2024-09-12T11:58:02.572Z"
   }
  ],
  "kernelspec": {
   "display_name": "Python 3 (ipykernel)",
   "language": "python",
   "name": "python3"
  },
  "language_info": {
   "codemirror_mode": {
    "name": "ipython",
    "version": 3
   },
   "file_extension": ".py",
   "mimetype": "text/x-python",
   "name": "python",
   "nbconvert_exporter": "python",
   "pygments_lexer": "ipython3",
   "version": "3.9.19"
  },
  "toc": {
   "base_numbering": 1,
   "nav_menu": {},
   "number_sections": true,
   "sideBar": true,
   "skip_h1_title": true,
   "title_cell": "Table of Contents",
   "title_sidebar": "Contents",
   "toc_cell": false,
   "toc_position": {},
   "toc_section_display": true,
   "toc_window_display": false
  }
 },
 "nbformat": 4,
 "nbformat_minor": 2
}
